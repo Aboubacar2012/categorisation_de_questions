{
 "cells": [
  {
   "cell_type": "markdown",
   "source": [
    "# Data Modelisation"
   ],
   "metadata": {
    "id": "GuJe3XwKE2Au"
   }
  },
  {
   "cell_type": "markdown",
   "source": [
    "- Configuration"
   ],
   "metadata": {
    "id": "IGwRfawAE2Ax"
   }
  },
  {
   "cell_type": "code",
   "execution_count": 1,
   "source": [
    "import warnings\r\n",
    "warnings.filterwarnings(\"ignore\")\r\n",
    "\r\n",
    "import pandas as pd\r\n",
    "import numpy as np \r\n",
    "import matplotlib.pyplot as plt \r\n",
    "import seaborn as sns\r\n",
    "import gc\r\n",
    "from nlp_module import remove_stopwords, plot_top_words, tok, print_score\r\n",
    "import sklearn\r\n",
    "from sklearn.decomposition import NMF, LatentDirichletAllocation\r\n",
    "from sklearn.model_selection import GridSearchCV\r\n",
    "from sklearn.feature_extraction.text import TfidfVectorizer, CountVectorizer\r\n",
    "import pyLDAvis\r\n",
    "import pyLDAvis.sklearn"
   ],
   "outputs": [],
   "metadata": {
    "colab": {
     "base_uri": "https://localhost:8080/"
    },
    "id": "KgqiXrBkE2Ay",
    "outputId": "44494f80-0735-445e-c0fd-26b89faf7618"
   }
  },
  {
   "cell_type": "code",
   "execution_count": 2,
   "source": [
    "sklearn.set_config(display=\"diagram\")"
   ],
   "outputs": [],
   "metadata": {
    "id": "mwk8Ic2nE2Az"
   }
  },
  {
   "cell_type": "markdown",
   "source": [
    "## 1) Data preparation"
   ],
   "metadata": {
    "id": "asVPqMOFE2A0"
   }
  },
  {
   "cell_type": "code",
   "execution_count": 3,
   "source": [
    "path = \"datasets/posts_clean.csv\""
   ],
   "outputs": [],
   "metadata": {
    "id": "tDqVFfvBUqQ2"
   }
  },
  {
   "cell_type": "code",
   "execution_count": 4,
   "source": [
    "data = pd.read_csv(path, encoding=\"utf-8\")\r\n",
    "data.head(3)"
   ],
   "outputs": [
    {
     "output_type": "execute_result",
     "data": {
      "text/html": [
       "<div>\n",
       "<style scoped>\n",
       "    .dataframe tbody tr th:only-of-type {\n",
       "        vertical-align: middle;\n",
       "    }\n",
       "\n",
       "    .dataframe tbody tr th {\n",
       "        vertical-align: top;\n",
       "    }\n",
       "\n",
       "    .dataframe thead th {\n",
       "        text-align: right;\n",
       "    }\n",
       "</style>\n",
       "<table border=\"1\" class=\"dataframe\">\n",
       "  <thead>\n",
       "    <tr style=\"text-align: right;\">\n",
       "      <th></th>\n",
       "      <th>Id</th>\n",
       "      <th>Title</th>\n",
       "      <th>Body</th>\n",
       "      <th>Tags</th>\n",
       "    </tr>\n",
       "  </thead>\n",
       "  <tbody>\n",
       "    <tr>\n",
       "      <th>0</th>\n",
       "      <td>415192</td>\n",
       "      <td>good way create simple python web service</td>\n",
       "      <td>I use python year I little experience python w...</td>\n",
       "      <td>&lt;python&gt;&lt;web-services&gt;</td>\n",
       "    </tr>\n",
       "    <tr>\n",
       "      <th>1</th>\n",
       "      <td>415344</td>\n",
       "      <td>log implementation prefer</td>\n",
       "      <td>I implement log class c try decide I curious k...</td>\n",
       "      <td>&lt;debugging&gt;&lt;language-agnostic&gt;&lt;logging&gt;</td>\n",
       "    </tr>\n",
       "    <tr>\n",
       "      <th>2</th>\n",
       "      <td>414981</td>\n",
       "      <td>directly modify list element</td>\n",
       "      <td>I struct struct map public int size public map...</td>\n",
       "      <td>&lt;c#&gt;&lt;.net&gt;</td>\n",
       "    </tr>\n",
       "  </tbody>\n",
       "</table>\n",
       "</div>"
      ],
      "text/plain": [
       "       Id                                      Title  \\\n",
       "0  415192  good way create simple python web service   \n",
       "1  415344                  log implementation prefer   \n",
       "2  414981               directly modify list element   \n",
       "\n",
       "                                                Body  \\\n",
       "0  I use python year I little experience python w...   \n",
       "1  I implement log class c try decide I curious k...   \n",
       "2  I struct struct map public int size public map...   \n",
       "\n",
       "                                      Tags  \n",
       "0                   <python><web-services>  \n",
       "1  <debugging><language-agnostic><logging>  \n",
       "2                               <c#><.net>  "
      ]
     },
     "metadata": {},
     "execution_count": 4
    }
   ],
   "metadata": {
    "colab": {
     "base_uri": "https://localhost:8080/"
    },
    "id": "xsMFT2TFE2A0",
    "outputId": "ae4f5937-4fd6-4344-d970-f2d4e3ecf2f4"
   }
  },
  {
   "cell_type": "markdown",
   "source": [
    "Missing data will be inspected. Indeed, we haven't watched missing values for titles yet. "
   ],
   "metadata": {}
  },
  {
   "cell_type": "code",
   "execution_count": 5,
   "source": [
    "data.isnull().mean()"
   ],
   "outputs": [
    {
     "output_type": "execute_result",
     "data": {
      "text/plain": [
       "Id       0.000000\n",
       "Title    0.000061\n",
       "Body     0.000000\n",
       "Tags     0.000000\n",
       "dtype: float64"
      ]
     },
     "metadata": {},
     "execution_count": 5
    }
   ],
   "metadata": {
    "colab": {
     "base_uri": "https://localhost:8080/"
    },
    "id": "19glpL9JE2A2",
    "outputId": "65552952-9c41-4d6e-f67e-5288903d1945"
   }
  },
  {
   "cell_type": "markdown",
   "source": [
    "Missing values for titles represent less than 1% of our dataset. We can delete them. "
   ],
   "metadata": {}
  },
  {
   "cell_type": "code",
   "execution_count": 6,
   "source": [
    "data.dropna(inplace=True)"
   ],
   "outputs": [],
   "metadata": {
    "id": "qoF4du4HE2A2"
   }
  },
  {
   "cell_type": "markdown",
   "source": [
    "Our data is composed by title of the posts, body and associated tags. As we can see, our data needs a bit of preprocessing. In one hand, signs \"<\" and \">\" will be remove and in other hand, texts inside body will be written in lower case and stopwords will be removed. "
   ],
   "metadata": {}
  },
  {
   "cell_type": "code",
   "execution_count": 7,
   "source": [
    "# remove < and > around Tags\r\n",
    "data[\"Tags\"] = data[\"Tags\"].replace({\"<\" : \"\"}, regex=True)\r\n",
    "data[\"Tags\"] = data[\"Tags\"].replace({\">\" : \",\"}, regex=True)\r\n",
    "data[\"Tags\"] = data[\"Tags\"].str.rstrip(',')"
   ],
   "outputs": [],
   "metadata": {
    "id": "RijUErGPE2A1"
   }
  },
  {
   "cell_type": "code",
   "execution_count": 8,
   "source": [
    "data[\"Body\"] = data[\"Body\"].str.lower()\r\n",
    "data[\"Body\"] = data[\"Body\"].apply(remove_stopwords)"
   ],
   "outputs": [],
   "metadata": {
    "id": "6ZC0vEIBE2A1"
   }
  },
  {
   "cell_type": "code",
   "execution_count": 9,
   "source": [
    "data.head(3)"
   ],
   "outputs": [
    {
     "output_type": "execute_result",
     "data": {
      "text/html": [
       "<div>\n",
       "<style scoped>\n",
       "    .dataframe tbody tr th:only-of-type {\n",
       "        vertical-align: middle;\n",
       "    }\n",
       "\n",
       "    .dataframe tbody tr th {\n",
       "        vertical-align: top;\n",
       "    }\n",
       "\n",
       "    .dataframe thead th {\n",
       "        text-align: right;\n",
       "    }\n",
       "</style>\n",
       "<table border=\"1\" class=\"dataframe\">\n",
       "  <thead>\n",
       "    <tr style=\"text-align: right;\">\n",
       "      <th></th>\n",
       "      <th>Id</th>\n",
       "      <th>Title</th>\n",
       "      <th>Body</th>\n",
       "      <th>Tags</th>\n",
       "    </tr>\n",
       "  </thead>\n",
       "  <tbody>\n",
       "    <tr>\n",
       "      <th>0</th>\n",
       "      <td>415192</td>\n",
       "      <td>good way create simple python web service</td>\n",
       "      <td>use python year little experience python web p...</td>\n",
       "      <td>python,web-services</td>\n",
       "    </tr>\n",
       "    <tr>\n",
       "      <th>1</th>\n",
       "      <td>415344</td>\n",
       "      <td>log implementation prefer</td>\n",
       "      <td>implement log class c try decide curious know ...</td>\n",
       "      <td>debugging,language-agnostic,logging</td>\n",
       "    </tr>\n",
       "    <tr>\n",
       "      <th>2</th>\n",
       "      <td>414981</td>\n",
       "      <td>directly modify list element</td>\n",
       "      <td>struct struct map public int size public map i...</td>\n",
       "      <td>c#,.net</td>\n",
       "    </tr>\n",
       "  </tbody>\n",
       "</table>\n",
       "</div>"
      ],
      "text/plain": [
       "       Id                                      Title  \\\n",
       "0  415192  good way create simple python web service   \n",
       "1  415344                  log implementation prefer   \n",
       "2  414981               directly modify list element   \n",
       "\n",
       "                                                Body  \\\n",
       "0  use python year little experience python web p...   \n",
       "1  implement log class c try decide curious know ...   \n",
       "2  struct struct map public int size public map i...   \n",
       "\n",
       "                                  Tags  \n",
       "0                  python,web-services  \n",
       "1  debugging,language-agnostic,logging  \n",
       "2                              c#,.net  "
      ]
     },
     "metadata": {},
     "execution_count": 9
    }
   ],
   "metadata": {
    "colab": {
     "base_uri": "https://localhost:8080/",
     "height": 142
    },
    "id": "m2CJblVrE2A2",
    "outputId": "879459d4-a3ec-4cd2-f4cd-b87ad91b52b5",
    "scrolled": true
   }
  },
  {
   "cell_type": "markdown",
   "source": [
    "Our dataset is ready for the next step. Before, data will be resampling. In order to accelerate the modeling's stages, only 10% of our data will be used."
   ],
   "metadata": {}
  },
  {
   "cell_type": "code",
   "execution_count": 10,
   "source": [
    "data = data.sample(frac=0.05, random_state=42)"
   ],
   "outputs": [],
   "metadata": {
    "id": "s0pNdsLe6Hmi"
   }
  },
  {
   "cell_type": "markdown",
   "source": [
    "Moreover, we decide to consider title and body as a whole text. We aggregate these data in a new variable nammed \"docs\". "
   ],
   "metadata": {}
  },
  {
   "cell_type": "code",
   "execution_count": 11,
   "source": [
    "docs = data[\"Title\"].values + \" \" + data[\"Body\"].values"
   ],
   "outputs": [],
   "metadata": {
    "id": "sVf6Xp9ZE2A3"
   }
  },
  {
   "cell_type": "markdown",
   "source": [
    "Finally, we can vectorize our data. In order to realise a first classification with NMF, the chosen vectorizer is TF-IDF. The sparsicity of our vectorized data is evaluated. "
   ],
   "metadata": {}
  },
  {
   "cell_type": "code",
   "execution_count": 12,
   "source": [
    "tfidf_vectorizer = TfidfVectorizer(max_features=12000)\r\n",
    "tfidf = tfidf_vectorizer.fit_transform(docs)\r\n",
    "tfidf_feature_names = tfidf_vectorizer.get_feature_names()"
   ],
   "outputs": [],
   "metadata": {
    "id": "0QFLJlyDE2A3"
   }
  },
  {
   "cell_type": "code",
   "execution_count": 13,
   "source": [
    "data_dense = tfidf.todense()\r\n",
    "print(\"Sparsicity: \", (((data_dense > 0).sum()/data_dense.size)*100).round(3), \"%\")"
   ],
   "outputs": [
    {
     "output_type": "stream",
     "name": "stdout",
     "text": [
      "Sparsicity:  0.41 %\n"
     ]
    }
   ],
   "metadata": {
    "colab": {
     "base_uri": "https://localhost:8080/"
    },
    "id": "csQwUl47E2A3",
    "outputId": "5b006133-b0dc-483b-83be-4b8770daee5c"
   }
  },
  {
   "cell_type": "markdown",
   "source": [
    "Sparsicity is less than 1%."
   ],
   "metadata": {}
  },
  {
   "cell_type": "markdown",
   "source": [
    "## 2) Topic Modelling"
   ],
   "metadata": {
    "id": "tE5jNqVCE2A3"
   }
  },
  {
   "cell_type": "markdown",
   "source": [
    "Topic Modelling is an unsupervised method. These methods are used in order to find a classification inside our text. "
   ],
   "metadata": {}
  },
  {
   "cell_type": "markdown",
   "source": [
    "### a) Non Negative Matrix Factorization (NMF)"
   ],
   "metadata": {
    "id": "JpXeVglQE2A4"
   }
  },
  {
   "cell_type": "code",
   "execution_count": 14,
   "source": [
    "best_num_topics = 10"
   ],
   "outputs": [],
   "metadata": {
    "id": "Mg208sOaE2A4"
   }
  },
  {
   "cell_type": "code",
   "execution_count": 15,
   "source": [
    "nmf = NMF(n_components=best_num_topics,\r\n",
    "          random_state=42,\r\n",
    "          alpha=0.1)"
   ],
   "outputs": [],
   "metadata": {
    "id": "jgAa_Ne-E2A4"
   }
  },
  {
   "cell_type": "code",
   "execution_count": 16,
   "source": [
    "nmf.fit(tfidf)"
   ],
   "outputs": [
    {
     "output_type": "execute_result",
     "data": {
      "text/html": [
       "<style>#sk-6b04d5bc-5bf4-44d3-80aa-d972290b733f {color: black;background-color: white;}#sk-6b04d5bc-5bf4-44d3-80aa-d972290b733f pre{padding: 0;}#sk-6b04d5bc-5bf4-44d3-80aa-d972290b733f div.sk-toggleable {background-color: white;}#sk-6b04d5bc-5bf4-44d3-80aa-d972290b733f label.sk-toggleable__label {cursor: pointer;display: block;width: 100%;margin-bottom: 0;padding: 0.2em 0.3em;box-sizing: border-box;text-align: center;}#sk-6b04d5bc-5bf4-44d3-80aa-d972290b733f div.sk-toggleable__content {max-height: 0;max-width: 0;overflow: hidden;text-align: left;background-color: #f0f8ff;}#sk-6b04d5bc-5bf4-44d3-80aa-d972290b733f div.sk-toggleable__content pre {margin: 0.2em;color: black;border-radius: 0.25em;background-color: #f0f8ff;}#sk-6b04d5bc-5bf4-44d3-80aa-d972290b733f input.sk-toggleable__control:checked~div.sk-toggleable__content {max-height: 200px;max-width: 100%;overflow: auto;}#sk-6b04d5bc-5bf4-44d3-80aa-d972290b733f div.sk-estimator input.sk-toggleable__control:checked~label.sk-toggleable__label {background-color: #d4ebff;}#sk-6b04d5bc-5bf4-44d3-80aa-d972290b733f div.sk-label input.sk-toggleable__control:checked~label.sk-toggleable__label {background-color: #d4ebff;}#sk-6b04d5bc-5bf4-44d3-80aa-d972290b733f input.sk-hidden--visually {border: 0;clip: rect(1px 1px 1px 1px);clip: rect(1px, 1px, 1px, 1px);height: 1px;margin: -1px;overflow: hidden;padding: 0;position: absolute;width: 1px;}#sk-6b04d5bc-5bf4-44d3-80aa-d972290b733f div.sk-estimator {font-family: monospace;background-color: #f0f8ff;margin: 0.25em 0.25em;border: 1px dotted black;border-radius: 0.25em;box-sizing: border-box;}#sk-6b04d5bc-5bf4-44d3-80aa-d972290b733f div.sk-estimator:hover {background-color: #d4ebff;}#sk-6b04d5bc-5bf4-44d3-80aa-d972290b733f div.sk-parallel-item::after {content: \"\";width: 100%;border-bottom: 1px solid gray;flex-grow: 1;}#sk-6b04d5bc-5bf4-44d3-80aa-d972290b733f div.sk-label:hover label.sk-toggleable__label {background-color: #d4ebff;}#sk-6b04d5bc-5bf4-44d3-80aa-d972290b733f div.sk-serial::before {content: \"\";position: absolute;border-left: 1px solid gray;box-sizing: border-box;top: 2em;bottom: 0;left: 50%;}#sk-6b04d5bc-5bf4-44d3-80aa-d972290b733f div.sk-serial {display: flex;flex-direction: column;align-items: center;background-color: white;}#sk-6b04d5bc-5bf4-44d3-80aa-d972290b733f div.sk-item {z-index: 1;}#sk-6b04d5bc-5bf4-44d3-80aa-d972290b733f div.sk-parallel {display: flex;align-items: stretch;justify-content: center;background-color: white;}#sk-6b04d5bc-5bf4-44d3-80aa-d972290b733f div.sk-parallel-item {display: flex;flex-direction: column;position: relative;background-color: white;}#sk-6b04d5bc-5bf4-44d3-80aa-d972290b733f div.sk-parallel-item:first-child::after {align-self: flex-end;width: 50%;}#sk-6b04d5bc-5bf4-44d3-80aa-d972290b733f div.sk-parallel-item:last-child::after {align-self: flex-start;width: 50%;}#sk-6b04d5bc-5bf4-44d3-80aa-d972290b733f div.sk-parallel-item:only-child::after {width: 0;}#sk-6b04d5bc-5bf4-44d3-80aa-d972290b733f div.sk-dashed-wrapped {border: 1px dashed gray;margin: 0.2em;box-sizing: border-box;padding-bottom: 0.1em;background-color: white;position: relative;}#sk-6b04d5bc-5bf4-44d3-80aa-d972290b733f div.sk-label label {font-family: monospace;font-weight: bold;background-color: white;display: inline-block;line-height: 1.2em;}#sk-6b04d5bc-5bf4-44d3-80aa-d972290b733f div.sk-label-container {position: relative;z-index: 2;text-align: center;}#sk-6b04d5bc-5bf4-44d3-80aa-d972290b733f div.sk-container {display: inline-block;position: relative;}</style><div id=\"sk-6b04d5bc-5bf4-44d3-80aa-d972290b733f\" class\"sk-top-container\"><div class=\"sk-container\"><div class=\"sk-item\"><div class=\"sk-estimator sk-toggleable\"><input class=\"sk-toggleable__control sk-hidden--visually\" id=\"81bea8d9-6382-4d29-92fd-26e997ff7ad7\" type=\"checkbox\" checked><label class=\"sk-toggleable__label\" for=\"81bea8d9-6382-4d29-92fd-26e997ff7ad7\">NMF</label><div class=\"sk-toggleable__content\"><pre>NMF(alpha=0.1, n_components=10, random_state=42)</pre></div></div></div></div></div>"
      ],
      "text/plain": [
       "NMF(alpha=0.1, n_components=10, random_state=42)"
      ]
     },
     "metadata": {},
     "execution_count": 16
    }
   ],
   "metadata": {
    "colab": {
     "base_uri": "https://localhost:8080/"
    },
    "id": "7cpyRlb_E2A4",
    "outputId": "9167b6d4-247f-4399-d45d-631718f5848a"
   }
  },
  {
   "cell_type": "code",
   "execution_count": 17,
   "source": [
    "plot_top_words(nmf, tfidf_feature_names, n_top_words=30, title=\"Topics in NMF model\")"
   ],
   "outputs": [
    {
     "output_type": "display_data",
     "data": {
      "image/png": "[encoded data removed]",
      "text/plain": [
       "<Figure size 2160x1080 with 10 Axes>"
      ]
     },
     "metadata": {
      "needs_background": "light"
     }
    }
   ],
   "metadata": {
    "colab": {
     "base_uri": "https://localhost:8080/",
     "height": 834
    },
    "id": "5AykfjRSE2A4",
    "outputId": "47c9c2fc-08ee-4654-fcc1-d407ec9363b6"
   }
  },
  {
   "cell_type": "code",
   "execution_count": 18,
   "source": [
    "del nmf\r\n",
    "gc.collect()"
   ],
   "outputs": [
    {
     "output_type": "execute_result",
     "data": {
      "text/plain": [
       "59160"
      ]
     },
     "metadata": {},
     "execution_count": 18
    }
   ],
   "metadata": {}
  },
  {
   "cell_type": "markdown",
   "source": [
    "### b) Latent Dirichlet Allocation (LDA)"
   ],
   "metadata": {
    "id": "pr5YB47sE2A5"
   }
  },
  {
   "cell_type": "code",
   "execution_count": 19,
   "source": [
    "bow_vectorizer = CountVectorizer(ngram_range = (1,1),\r\n",
    "                                 tokenizer=tok)\r\n",
    "docs_bow = bow_vectorizer.fit_transform(docs)"
   ],
   "outputs": [],
   "metadata": {
    "id": "XXHxnLSP6qmr"
   }
  },
  {
   "cell_type": "code",
   "execution_count": 20,
   "source": [
    "lda = LatentDirichletAllocation(random_state=42,\r\n",
    "                                batch_size=400)"
   ],
   "outputs": [],
   "metadata": {
    "id": "9_cbH_7IE2A5"
   }
  },
  {
   "cell_type": "code",
   "execution_count": 21,
   "source": [
    "params = {'n_components' : [8, 9, 10],\r\n",
    "          \"learning_decay\" : [0.5, 0.7, 0.9],\r\n",
    "          \"learning_method\" : [\"batch\", \"online\"]}\r\n",
    "\r\n",
    "gridsearch_lda = GridSearchCV(lda,\r\n",
    "                              param_grid=params,\r\n",
    "                              cv=5,\r\n",
    "                              verbose=2)\r\n",
    "gridsearch_lda.fit(docs_bow)"
   ],
   "outputs": [
    {
     "output_type": "stream",
     "name": "stdout",
     "text": [
      "Fitting 5 folds for each of 18 candidates, totalling 90 fits\n",
      "[CV] END learning_decay=0.5, learning_method=batch, n_components=8; total time=  26.3s\n",
      "[CV] END learning_decay=0.5, learning_method=batch, n_components=8; total time=  25.1s\n",
      "[CV] END learning_decay=0.5, learning_method=batch, n_components=8; total time=  25.7s\n",
      "[CV] END learning_decay=0.5, learning_method=batch, n_components=8; total time=  25.9s\n",
      "[CV] END learning_decay=0.5, learning_method=batch, n_components=8; total time=  25.9s\n",
      "[CV] END learning_decay=0.5, learning_method=batch, n_components=9; total time=  25.8s\n",
      "[CV] END learning_decay=0.5, learning_method=batch, n_components=9; total time=  25.3s\n",
      "[CV] END learning_decay=0.5, learning_method=batch, n_components=9; total time=  25.5s\n",
      "[CV] END learning_decay=0.5, learning_method=batch, n_components=9; total time=  24.7s\n",
      "[CV] END learning_decay=0.5, learning_method=batch, n_components=9; total time=  25.3s\n",
      "[CV] END learning_decay=0.5, learning_method=batch, n_components=10; total time=  25.5s\n",
      "[CV] END learning_decay=0.5, learning_method=batch, n_components=10; total time=  25.3s\n",
      "[CV] END learning_decay=0.5, learning_method=batch, n_components=10; total time=  25.5s\n",
      "[CV] END learning_decay=0.5, learning_method=batch, n_components=10; total time=  25.1s\n",
      "[CV] END learning_decay=0.5, learning_method=batch, n_components=10; total time=  25.3s\n",
      "[CV] END learning_decay=0.5, learning_method=online, n_components=8; total time=  14.9s\n",
      "[CV] END learning_decay=0.5, learning_method=online, n_components=8; total time=  15.0s\n",
      "[CV] END learning_decay=0.5, learning_method=online, n_components=8; total time=  15.1s\n",
      "[CV] END learning_decay=0.5, learning_method=online, n_components=8; total time=  15.1s\n",
      "[CV] END learning_decay=0.5, learning_method=online, n_components=8; total time=  15.1s\n",
      "[CV] END learning_decay=0.5, learning_method=online, n_components=9; total time=  17.1s\n",
      "[CV] END learning_decay=0.5, learning_method=online, n_components=9; total time=  15.4s\n",
      "[CV] END learning_decay=0.5, learning_method=online, n_components=9; total time=  15.3s\n",
      "[CV] END learning_decay=0.5, learning_method=online, n_components=9; total time=  15.3s\n",
      "[CV] END learning_decay=0.5, learning_method=online, n_components=9; total time=  15.2s\n",
      "[CV] END learning_decay=0.5, learning_method=online, n_components=10; total time=  17.4s\n",
      "[CV] END learning_decay=0.5, learning_method=online, n_components=10; total time=  14.7s\n",
      "[CV] END learning_decay=0.5, learning_method=online, n_components=10; total time=  15.0s\n",
      "[CV] END learning_decay=0.5, learning_method=online, n_components=10; total time=  15.4s\n",
      "[CV] END learning_decay=0.5, learning_method=online, n_components=10; total time=  15.2s\n",
      "[CV] END learning_decay=0.7, learning_method=batch, n_components=8; total time=  24.9s\n",
      "[CV] END learning_decay=0.7, learning_method=batch, n_components=8; total time=  24.3s\n",
      "[CV] END learning_decay=0.7, learning_method=batch, n_components=8; total time=  24.3s\n",
      "[CV] END learning_decay=0.7, learning_method=batch, n_components=8; total time=  24.6s\n",
      "[CV] END learning_decay=0.7, learning_method=batch, n_components=8; total time=  24.9s\n",
      "[CV] END learning_decay=0.7, learning_method=batch, n_components=9; total time=  24.9s\n",
      "[CV] END learning_decay=0.7, learning_method=batch, n_components=9; total time=  23.9s\n",
      "[CV] END learning_decay=0.7, learning_method=batch, n_components=9; total time=  24.6s\n",
      "[CV] END learning_decay=0.7, learning_method=batch, n_components=9; total time=  24.0s\n",
      "[CV] END learning_decay=0.7, learning_method=batch, n_components=9; total time=  24.4s\n",
      "[CV] END learning_decay=0.7, learning_method=batch, n_components=10; total time=  24.6s\n",
      "[CV] END learning_decay=0.7, learning_method=batch, n_components=10; total time=  24.0s\n",
      "[CV] END learning_decay=0.7, learning_method=batch, n_components=10; total time=  24.2s\n",
      "[CV] END learning_decay=0.7, learning_method=batch, n_components=10; total time=  23.7s\n",
      "[CV] END learning_decay=0.7, learning_method=batch, n_components=10; total time=  23.9s\n",
      "[CV] END learning_decay=0.7, learning_method=online, n_components=8; total time=  13.7s\n",
      "[CV] END learning_decay=0.7, learning_method=online, n_components=8; total time=  13.8s\n",
      "[CV] END learning_decay=0.7, learning_method=online, n_components=8; total time=  13.7s\n",
      "[CV] END learning_decay=0.7, learning_method=online, n_components=8; total time=  13.6s\n",
      "[CV] END learning_decay=0.7, learning_method=online, n_components=8; total time=  13.4s\n",
      "[CV] END learning_decay=0.7, learning_method=online, n_components=9; total time=  15.9s\n",
      "[CV] END learning_decay=0.7, learning_method=online, n_components=9; total time=  14.2s\n",
      "[CV] END learning_decay=0.7, learning_method=online, n_components=9; total time=  14.2s\n",
      "[CV] END learning_decay=0.7, learning_method=online, n_components=9; total time=  14.3s\n",
      "[CV] END learning_decay=0.7, learning_method=online, n_components=9; total time=  13.9s\n",
      "[CV] END learning_decay=0.7, learning_method=online, n_components=10; total time=  16.1s\n",
      "[CV] END learning_decay=0.7, learning_method=online, n_components=10; total time=  14.4s\n",
      "[CV] END learning_decay=0.7, learning_method=online, n_components=10; total time=  14.3s\n",
      "[CV] END learning_decay=0.7, learning_method=online, n_components=10; total time=  14.4s\n",
      "[CV] END learning_decay=0.7, learning_method=online, n_components=10; total time=  14.0s\n",
      "[CV] END learning_decay=0.9, learning_method=batch, n_components=8; total time=  24.4s\n",
      "[CV] END learning_decay=0.9, learning_method=batch, n_components=8; total time=  23.4s\n",
      "[CV] END learning_decay=0.9, learning_method=batch, n_components=8; total time=  23.7s\n",
      "[CV] END learning_decay=0.9, learning_method=batch, n_components=8; total time=  24.0s\n",
      "[CV] END learning_decay=0.9, learning_method=batch, n_components=8; total time=  24.1s\n",
      "[CV] END learning_decay=0.9, learning_method=batch, n_components=9; total time=  24.0s\n",
      "[CV] END learning_decay=0.9, learning_method=batch, n_components=9; total time=  23.2s\n",
      "[CV] END learning_decay=0.9, learning_method=batch, n_components=9; total time=  23.9s\n",
      "[CV] END learning_decay=0.9, learning_method=batch, n_components=9; total time=  23.5s\n",
      "[CV] END learning_decay=0.9, learning_method=batch, n_components=9; total time=  23.5s\n",
      "[CV] END learning_decay=0.9, learning_method=batch, n_components=10; total time=  24.0s\n",
      "[CV] END learning_decay=0.9, learning_method=batch, n_components=10; total time=  23.5s\n",
      "[CV] END learning_decay=0.9, learning_method=batch, n_components=10; total time=  23.5s\n",
      "[CV] END learning_decay=0.9, learning_method=batch, n_components=10; total time=  23.2s\n",
      "[CV] END learning_decay=0.9, learning_method=batch, n_components=10; total time=  23.2s\n",
      "[CV] END learning_decay=0.9, learning_method=online, n_components=8; total time=  12.2s\n",
      "[CV] END learning_decay=0.9, learning_method=online, n_components=8; total time=  12.0s\n",
      "[CV] END learning_decay=0.9, learning_method=online, n_components=8; total time=  12.6s\n",
      "[CV] END learning_decay=0.9, learning_method=online, n_components=8; total time=  12.1s\n",
      "[CV] END learning_decay=0.9, learning_method=online, n_components=8; total time=  11.8s\n",
      "[CV] END learning_decay=0.9, learning_method=online, n_components=9; total time=  13.6s\n",
      "[CV] END learning_decay=0.9, learning_method=online, n_components=9; total time=  12.2s\n",
      "[CV] END learning_decay=0.9, learning_method=online, n_components=9; total time=  12.3s\n",
      "[CV] END learning_decay=0.9, learning_method=online, n_components=9; total time=  12.4s\n",
      "[CV] END learning_decay=0.9, learning_method=online, n_components=9; total time=  12.2s\n",
      "[CV] END learning_decay=0.9, learning_method=online, n_components=10; total time=  13.8s\n",
      "[CV] END learning_decay=0.9, learning_method=online, n_components=10; total time=  12.8s\n",
      "[CV] END learning_decay=0.9, learning_method=online, n_components=10; total time=  12.6s\n",
      "[CV] END learning_decay=0.9, learning_method=online, n_components=10; total time=  12.5s\n",
      "[CV] END learning_decay=0.9, learning_method=online, n_components=10; total time=  12.5s\n"
     ]
    },
    {
     "output_type": "execute_result",
     "data": {
      "text/html": [
       "<style>#sk-c61da459-4c61-4847-8061-5d5bb6bfb463 {color: black;background-color: white;}#sk-c61da459-4c61-4847-8061-5d5bb6bfb463 pre{padding: 0;}#sk-c61da459-4c61-4847-8061-5d5bb6bfb463 div.sk-toggleable {background-color: white;}#sk-c61da459-4c61-4847-8061-5d5bb6bfb463 label.sk-toggleable__label {cursor: pointer;display: block;width: 100%;margin-bottom: 0;padding: 0.2em 0.3em;box-sizing: border-box;text-align: center;}#sk-c61da459-4c61-4847-8061-5d5bb6bfb463 div.sk-toggleable__content {max-height: 0;max-width: 0;overflow: hidden;text-align: left;background-color: #f0f8ff;}#sk-c61da459-4c61-4847-8061-5d5bb6bfb463 div.sk-toggleable__content pre {margin: 0.2em;color: black;border-radius: 0.25em;background-color: #f0f8ff;}#sk-c61da459-4c61-4847-8061-5d5bb6bfb463 input.sk-toggleable__control:checked~div.sk-toggleable__content {max-height: 200px;max-width: 100%;overflow: auto;}#sk-c61da459-4c61-4847-8061-5d5bb6bfb463 div.sk-estimator input.sk-toggleable__control:checked~label.sk-toggleable__label {background-color: #d4ebff;}#sk-c61da459-4c61-4847-8061-5d5bb6bfb463 div.sk-label input.sk-toggleable__control:checked~label.sk-toggleable__label {background-color: #d4ebff;}#sk-c61da459-4c61-4847-8061-5d5bb6bfb463 input.sk-hidden--visually {border: 0;clip: rect(1px 1px 1px 1px);clip: rect(1px, 1px, 1px, 1px);height: 1px;margin: -1px;overflow: hidden;padding: 0;position: absolute;width: 1px;}#sk-c61da459-4c61-4847-8061-5d5bb6bfb463 div.sk-estimator {font-family: monospace;background-color: #f0f8ff;margin: 0.25em 0.25em;border: 1px dotted black;border-radius: 0.25em;box-sizing: border-box;}#sk-c61da459-4c61-4847-8061-5d5bb6bfb463 div.sk-estimator:hover {background-color: #d4ebff;}#sk-c61da459-4c61-4847-8061-5d5bb6bfb463 div.sk-parallel-item::after {content: \"\";width: 100%;border-bottom: 1px solid gray;flex-grow: 1;}#sk-c61da459-4c61-4847-8061-5d5bb6bfb463 div.sk-label:hover label.sk-toggleable__label {background-color: #d4ebff;}#sk-c61da459-4c61-4847-8061-5d5bb6bfb463 div.sk-serial::before {content: \"\";position: absolute;border-left: 1px solid gray;box-sizing: border-box;top: 2em;bottom: 0;left: 50%;}#sk-c61da459-4c61-4847-8061-5d5bb6bfb463 div.sk-serial {display: flex;flex-direction: column;align-items: center;background-color: white;}#sk-c61da459-4c61-4847-8061-5d5bb6bfb463 div.sk-item {z-index: 1;}#sk-c61da459-4c61-4847-8061-5d5bb6bfb463 div.sk-parallel {display: flex;align-items: stretch;justify-content: center;background-color: white;}#sk-c61da459-4c61-4847-8061-5d5bb6bfb463 div.sk-parallel-item {display: flex;flex-direction: column;position: relative;background-color: white;}#sk-c61da459-4c61-4847-8061-5d5bb6bfb463 div.sk-parallel-item:first-child::after {align-self: flex-end;width: 50%;}#sk-c61da459-4c61-4847-8061-5d5bb6bfb463 div.sk-parallel-item:last-child::after {align-self: flex-start;width: 50%;}#sk-c61da459-4c61-4847-8061-5d5bb6bfb463 div.sk-parallel-item:only-child::after {width: 0;}#sk-c61da459-4c61-4847-8061-5d5bb6bfb463 div.sk-dashed-wrapped {border: 1px dashed gray;margin: 0.2em;box-sizing: border-box;padding-bottom: 0.1em;background-color: white;position: relative;}#sk-c61da459-4c61-4847-8061-5d5bb6bfb463 div.sk-label label {font-family: monospace;font-weight: bold;background-color: white;display: inline-block;line-height: 1.2em;}#sk-c61da459-4c61-4847-8061-5d5bb6bfb463 div.sk-label-container {position: relative;z-index: 2;text-align: center;}#sk-c61da459-4c61-4847-8061-5d5bb6bfb463 div.sk-container {display: inline-block;position: relative;}</style><div id=\"sk-c61da459-4c61-4847-8061-5d5bb6bfb463\" class\"sk-top-container\"><div class=\"sk-container\"><div class=\"sk-item sk-dashed-wrapped\"><div class=\"sk-label-container\"><div class=\"sk-label sk-toggleable\"><input class=\"sk-toggleable__control sk-hidden--visually\" id=\"87810edf-68a4-4e52-9ec2-6b7dea581429\" type=\"checkbox\" ><label class=\"sk-toggleable__label\" for=\"87810edf-68a4-4e52-9ec2-6b7dea581429\">GridSearchCV</label><div class=\"sk-toggleable__content\"><pre>GridSearchCV(cv=5,\n",
       "             estimator=LatentDirichletAllocation(batch_size=400,\n",
       "                                                 random_state=42),\n",
       "             param_grid={'learning_decay': [0.5, 0.7, 0.9],\n",
       "                         'learning_method': ['batch', 'online'],\n",
       "                         'n_components': [8, 9, 10]},\n",
       "             verbose=2)</pre></div></div></div><div class=\"sk-parallel\"><div class=\"sk-parallel-item\"><div class=\"sk-item\"><div class=\"sk-serial\"><div class=\"sk-item\"><div class=\"sk-estimator sk-toggleable\"><input class=\"sk-toggleable__control sk-hidden--visually\" id=\"53bc4529-c276-4c81-ac10-cd18b60ba3ad\" type=\"checkbox\" ><label class=\"sk-toggleable__label\" for=\"53bc4529-c276-4c81-ac10-cd18b60ba3ad\">LatentDirichletAllocation</label><div class=\"sk-toggleable__content\"><pre>LatentDirichletAllocation(batch_size=400, random_state=42)</pre></div></div></div></div></div></div></div></div></div></div>"
      ],
      "text/plain": [
       "GridSearchCV(cv=5,\n",
       "             estimator=LatentDirichletAllocation(batch_size=400,\n",
       "                                                 random_state=42),\n",
       "             param_grid={'learning_decay': [0.5, 0.7, 0.9],\n",
       "                         'learning_method': ['batch', 'online'],\n",
       "                         'n_components': [8, 9, 10]},\n",
       "             verbose=2)"
      ]
     },
     "metadata": {},
     "execution_count": 21
    }
   ],
   "metadata": {
    "colab": {
     "base_uri": "https://localhost:8080/"
    },
    "id": "LIojTkKJE2A5",
    "outputId": "b8616950-09c6-4fc4-b7b4-0e48fb192ed4",
    "scrolled": true
   }
  },
  {
   "cell_type": "code",
   "execution_count": 22,
   "source": [
    "best_lda_model = gridsearch_lda.best_estimator_\r\n",
    "\r\n",
    "print(\"Best Model's Params: \", gridsearch_lda.best_params_)\r\n",
    "print(\"Best Log Likelihood Score: \", gridsearch_lda.best_score_)"
   ],
   "outputs": [
    {
     "output_type": "stream",
     "name": "stdout",
     "text": [
      "Best Model's Params:  {'learning_decay': 0.9, 'learning_method': 'online', 'n_components': 8}\n",
      "Best Log Likelihood Score:  -1865486.1602541003\n"
     ]
    }
   ],
   "metadata": {
    "colab": {
     "base_uri": "https://localhost:8080/"
    },
    "id": "Io24pqXHE2A5",
    "outputId": "f3230818-5a04-43b5-98e8-b448b7354f47"
   }
  },
  {
   "cell_type": "code",
   "execution_count": 23,
   "source": [
    "# Visualize the topics\r\n",
    "pyLDAvis.enable_notebook()\r\n",
    "panel = pyLDAvis.sklearn.prepare(best_lda_model, docs_bow, bow_vectorizer, mds='tsne')\r\n",
    "panel"
   ],
   "outputs": [
    {
     "output_type": "execute_result",
     "data": {
      "text/html": [
       "\n",
       "<link rel=\"stylesheet\" type=\"text/css\" href=\"https://cdn.jsdelivr.net/gh/bmabey/pyLDAvis@3.3.1/pyLDAvis/js/ldavis.v1.0.0.css\">\n",
       "\n",
       "\n",
       "<div id=\"ldavis_el368818452010994563071091948\"></div>\n",
       "<script type=\"text/javascript\">\n",
       "\n",
       "var ldavis_el368818452010994563071091948_data = {\"mdsDat\": {\"x\": [-108.958251953125, 186.487060546875, 19.245832443237305, 170.65882873535156, -1.3864107131958008, -145.8000946044922, 64.83454132080078, -196.90603637695312], \"y\": [-208.9414825439453, -98.1032485961914, 160.85877990722656, 75.44507598876953, -35.043739318847656, 106.94461059570312, -221.8252716064453, -58.99091339111328], \"topics\": [1, 2, 3, 4, 5, 6, 7, 8], \"cluster\": [1, 1, 1, 1, 1, 1, 1, 1], \"Freq\": [66.77714028889244, 9.502023932062958, 8.751560246107063, 5.039832978843149, 3.43224680354464, 2.934857854122137, 1.7959279543762425, 1.7664099420513901]}, \"tinfo\": {\"Term\": [\"]\", \"[\", \"android\", \"java\", \"_\", \"div\", \"system\", \"x\", \"import\", \"self\", \"org\", \"error\", \"app\", \"read\", \"public\", \"v\", \"com\", \"file\", \"px\", \"line\", \"text\", \"image\", \"run\", \"`\", \"&#9\", \";\", \"net\", \"const\", \"width\", \"python\", \"ruby\", \"regex\", \"expression\", \"operator\", \"django\", \"statement\", \"buffer\", \"git\", \"l\", \"whether\", \"entity\", \"cpp\", \"abstract\", \"queue\", \"dictionary\", \"virtual\", \"dataframe\", \"nan\", \"performance\", \"book\", \"stdcout\", \"tree\", \"programming\", \"stdvector\", \"shell\", \"year\", \"duplicate\", \"generic\", \"allocate\", \"temp\", \"database\", \"write\", \"array\", \"php\", \"would\", \"character\", \"parameter\", \"time\", \"memory\", \"struct\", \"foo\", \"variable\", \"number\", \"print\", \"collection\", \"way\", \"random\", \"sql\", \"b\", \"use\", \"datum\", \"know\", \"good\", \"think\", \"need\", \"like\", \"query\", \"program\", \"not\", \"c\", \"list\", \"int\", \"string\", \"one\", \"object\", \"user\", \"value\", \"code\", \"get\", \"return\", \"]\", \"file\", \"[\", \"find\", \"want\", \"function\", \"try\", \"class\", \"work\", \"name\", \"new\", \"type\", \"error\", \"public\", \"x\", \"px\", \"border\", \"font\", \"nav_ksckqn\", \"margin\", \"fff\", \"typeradio\", \"solid\", \"texture\", \"stroke\", \"hamburger\", \"tile\", \"svg\", \"rem\", \"ebph\", \"mut\", \"tddiv\", \"blur\", \"navbar\", \"dashoffset\", \"height\", \"opacity\", \"shader\", \"opengl\", \"arial\", \"edx\", \"classcircledivtd\", \"stretch\", \"overlay\", \"lia\", \"width\", \"ul\", \"mov\", \"padding\", \"radius\", \"divs\", \"div\", \"li\", \"span\", \"img\", \"hover\", \"css\", \"color\", \"oz\", \"flex\", \"nav\", \"ptr\", \"typetext\", \"center\", \"bottom\", \"background\", \"style\", \"na\", \"image\", \"button\", \"menu\", \"position\", \"top\", \"jquery\", \"html\", \"click\", \"display\", \"text\", \"p\", \"document\", \"var\", \"input\", \"]\", \"f\", \"`\", \"x\", \"not\", \"function\", \"size\", \"android\", \"gradle\", \"idid\", \"linearlayout\", \"layout_heightwrap_content\", \"textview\", \"activitythread\", \"apk\", \"layout_widthwrap_content\", \"oncreate\", \"dart\", \"savedinstancestate\", \"androidruntime\", \"layout_widthmatch_parent\", \"layoutinflater\", \"androidx\", \"mainactivity\", \"nameandroid\", \"zygoteinit\", \"androidhttpschemas\", \"inflate\", \"springframework\", \"beans\", \"looper\", \"junit\", \"layout_heightmatch_parent\", \"viewgroup\", \"defaultbuildoperationrunner\", \"findviewbyid\", \"drawable\", \"jar\", \"maven\", \"imageview\", \"org\", \"lang\", \"intent\", \"flutter\", \"activity\", \"bean\", \"java\", \"apache\", \"internal\", \"com\", \"_\", \"widget\", \"sun\", \"fragment\", \"spring\", \"view\", \"app\", \"xml\", \"override\", \"public\", \"r\", \"import\", \"util\", \"null\", \"support\", \"run\", \"class\", \"new\", \"main\", \"error\", \"[\", \"void\", \"method\", \"not\", \"e\", \"react\", \"npm\", \"vue\", \"props\", \"webpack\", \"babel\", \"&#9\", \";\", \"usestate\", \"docker\", \"redux\", \"jupyter\", \"eslint\", \"node_module\", \"classsolr\", \"useeffect\", \"tensorflow\", \"dockerfile\", \"prometheus\", \"keras\", \"actionpack\", \"oninit\", \"jsx\", \"dataproduto\", \"kubernetes\", \"pipenv\", \"illuminate\", \"datalabel\", \"openshift\", \"adafruit\", \"jest\", \"axios\", \"arel\", \"pip\", \"activesupport\", \"router\", \"angular\", \"component\", \"prop\", \"export\", \"promise\", \"ts\", \"^\", \"js\", \"install\", \"setstate\", \"v\", \"lib\", \"import\", \"env\", \"module\", \"rb\", \"const\", \"laravel\", \"state\", \"app\", \"route\", \"console\", \"package\", \"error\", \"python\", \"log\", \"py\", \"run\", \"`\", \"]\", \"[\", \"not\", \"data\", \"aspnetcore\", \"serializationformat\", \"opencv\", \"directoryservices\", \"taskawaiter\", \"compilerservices\", \"atg\", \"hashtable\", \"d__\", \"movenext\", \"housing\", \"sqlclient\", \"sslstate\", \"typemicrosoft\", \"asyncrequest\", \"executioncontext\", \"securityenabledtrue\", \"doctorid\", \"civica\", \"proxyaddresses[\", \"handlenonsuccessanddebuggernotification\", \"nuget\", \"lob\", \"asyncprotocolrequ\", \"nullobject\", \"pth\", \"xxxxprovisioningerrors[\", \"objectsinuse\", \"controlleractioninvoker\", \"httpmyget\", \"hmac\", \"runbehavior\", \"entityframeworkcore\", \"addr\", \"datarace\", \"subprocess\", \"microsoft\", \"packet\", \"ra\", \"neutral\", \"video\", \"ffmpeg\", \"xxxx\", \"sha\", \"debug\", \"system\", \"task\", \"services\", \"windows\", \"cs\", \"connection\", \"net\", \"read\", \"threading\", \"boolean\", \"exception\", \"x\", \"mvc\", \"security\", \"web\", \"runtime\", \"trace\", \"data\", \"`\", \"physical\", \"throw\", \"com\", \"error\", \"]\", \"object\", \"type\", \"end\", \"bouncycastle\", \"chipset\", \"dbmarker\", \"xpath\", \"cdt\", \"nsuserdefault\", \"att\", \"params_r__c__rp_\", \"voucher\", \"bound_id\", \"standarduserdefault\", \"sourcelistview\", \"imgavatar\", \"combobox\", \"tabrss\", \"zclpayload\", \"aggressionidtocenter\", \"startcombo\", \"annotationview\", \"oldannotation\", \"word_t\", \"tutorialvc\", \"maptoolbar\", \"getchips\", \"checkinvc\", \"attributeid_attribute_id_\", \"postcode\", \"mradius\", \"rss[\", \"charrange\", \"td\", \"treenode\", \"mapview\", \"tbody\", \"integrationeventstateid\", \"nsarray\", \"nslog\", \"nsdictionary\", \"tr\", \"nsurl\", \"cos\", \"segue\", \"iboutlet\", \"alloc\", \"textbox\", \"nsstring\", \"hms\", \"locationmanager\", \"nil\", \"self\", \"tdinput\", \"[\", \"double\", \"]\", \"tableview\", \"sin\", \"sender\", \"tab\", \"marker\", \"xs\", \"dim\", \"latitude\", \"text\", \"cmd\", \"public\", \"view\", \"void\", \"location\", \"else\", \"new\", \"value\", \"int\", \"set\", \"xsl\", \"dolor\", \"ut\", \"nulla\", \"robot\", \"factgad_au\", \"elit\", \"eget\", \"usb_install\", \"lobster\", \"etree\", \"magna\", \"livedata\", \"quis\", \"malesuada\", \"amet\", \"factgad_k\", \"setcapability\", \"vwhistorydetail\", \"somen\", \"filter_data[\", \"count_by\", \"factgad\", \"puppet\", \"testapp\", \"nec\", \"pizza\", \"parentindex\", \"fieldtypeinfo\", \"sal\", \"popup_window\", \"fputcsv\", \"coroutine\", \"pprint\", \"folname\", \"mp\", \"ipsum\", \"appstate\", \"toplevelclass\", \"pfd_child_w[\", \"geojson\", \"et\", \"artist\", \"eigen\", \"sit\", \"fclose\", \"crm\", \"fp\", \"sed\", \"xslt\", \"yes\", \"lxml\", \"line\", \"proxy\", \"fopen\", \"file\", \"xml\", \"n\", \"usr\", \"category\", \"lib\", \"char\", \"tdtd\", \"angstrom\", \"sphere\", \"destrng\", \"empid\", \"finalgrade\", \"letter_grade_barriers[\", \"planename\", \"animals[\", \"phone_number\", \"claimant_id\", \"frames\", \"displaycolumnt\", \"phone_type\", \"orderbydirectionasc\", \"fieldreferenceclientfield\", \"claimantdata\", \"to_date\", \"civilrecordsearch\", \"gnueabi\", \"listtitletextfield\", \"tablenamestudent\", \"ckeditor\", \"image_\", \"pilotname\", \"ptws\", \"ptarr\", \"county\", \"cash\", \"bomber\", \"b[\", \"misse\", \"ostream\", \"cassandra\", \"datestart\", \"jarcprogram\", \"dateend\", \"smith\", \"autoit\", \"sam\", \"mon\", \"changeset\", \"end_date\", \"inputselect\", \"compileroracle\", \"displaychar\", \"aug\", \"rr\", \"bytes\", \"bank\", \"row[\", \"start_date\", \"post[\", \"_post[\", \"geometry\", \"tr\", \"]\", \"firstname\", \"insert\", \"udp\", \"date\", \"echo\", \"field\", \"select\", \"table\", \"convert\", \"csv\"], \"Freq\": [15418.0, 10262.0, 3744.0, 3528.0, 4722.0, 2313.0, 1732.0, 3432.0, 2026.0, 1440.0, 1528.0, 3666.0, 2173.0, 1487.0, 3428.0, 1316.0, 1633.0, 4384.0, 1011.0, 1957.0, 1780.0, 1406.0, 2613.0, 1959.0, 701.0, 701.0, 898.0, 1128.0, 913.0, 1478.0, 328.2782225736323, 313.8055925582423, 399.8200106601845, 374.7927082107219, 259.4133694637014, 548.8606879239322, 252.64551924964343, 316.5788765024541, 1892.133275817952, 236.71293877551088, 357.61770455523305, 201.69295555122736, 182.40514825393575, 171.42686016813485, 235.60085155793342, 224.90179843736723, 328.4530837386423, 162.5004610420046, 291.2685087092542, 187.88000020218286, 161.13914464985896, 208.9804634696609, 183.04216791142127, 148.74934578030195, 140.8193619250532, 332.21937381241304, 230.34457658186864, 224.7458951984064, 152.4995683860316, 226.94077771972138, 967.448577271223, 1461.158184270337, 2114.716331331668, 1198.0008551588985, 3586.3648386061277, 586.1312779287429, 616.7306241884635, 2363.0178379285558, 571.2160809753195, 506.2538614270277, 748.3096909103605, 1186.6919230923827, 1732.9215990839007, 1263.5957077753242, 386.33245701666743, 2630.367087915946, 392.8078772995293, 753.8373506045676, 2041.1261816925823, 8666.457609753203, 2316.5057601327235, 1924.5488352112427, 1034.9580308261407, 924.1859755498766, 2285.960592819003, 3925.025522672228, 1065.8192464449544, 796.2386257032209, 11329.967615457048, 4379.8212613090145, 2688.4421779535996, 3788.1713074635286, 4094.7624148981795, 2515.9837415486527, 2421.772180710804, 2215.2443364104097, 3643.8199776826473, 4440.39743335148, 4813.294782918319, 4237.934900759989, 13248.13828608089, 3987.9089904206735, 8749.667585836565, 2231.1009093164953, 2796.5029565908267, 3856.278895321151, 3556.057688178699, 3685.1060206579923, 3428.7622113860184, 2916.0184756118956, 3510.1822708252976, 2410.008068896014, 2896.493734726659, 2745.3846889615484, 2717.7709313909686, 1004.8646731120206, 325.51745517759065, 404.3767964298582, 84.28154995380426, 290.29641107361397, 72.7823415867346, 66.6836659062104, 106.97450523010016, 113.3669281666808, 84.58504263062511, 48.116001020032115, 85.51761929754723, 120.2215571140422, 74.34528947570311, 54.7087431084567, 44.1594801586945, 41.11604547968923, 41.93802796379678, 116.79723569020082, 33.90332781529707, 714.4446541902364, 41.07693556207222, 37.369184438170535, 35.764940725813936, 36.558969488470176, 49.43536585023382, 39.14440067895578, 33.561738600106125, 100.95807768082827, 52.74882680398747, 886.0414294836507, 328.13223491335833, 166.3069465373719, 224.3866192755901, 135.45044930109535, 66.78487920314042, 2170.3570587569343, 404.07625780039996, 377.6353875958303, 265.721708033315, 154.27323832732793, 576.6087355043379, 799.3667866822628, 104.93266544179858, 127.84902876645745, 148.26475360052294, 211.19493232625857, 232.78417207548216, 262.92951163146716, 211.17371393446373, 449.0982807176717, 503.4653595141974, 291.83569303250374, 802.723533123403, 677.2989368229943, 292.34869424251366, 349.46021935105443, 358.76297631218745, 402.6811243754393, 662.8609860243395, 447.3697793597733, 428.3443647605926, 635.0388261396282, 470.95933827026994, 340.52734817208074, 474.49415247119896, 391.51685887043084, 671.9116945933029, 386.63847593668714, 410.57905589342806, 457.4855261807872, 494.03680012139125, 402.9191971966811, 347.2737582787717, 3738.2563939793563, 499.8358820563922, 237.02532638652383, 196.4659136191845, 180.1966382830935, 236.4530079911164, 185.8718168302928, 171.84703546695567, 122.59045096184144, 122.4421827970472, 196.12271003857, 113.61982411111723, 139.57774064486466, 110.7837681835227, 96.89895102651151, 103.10152844665937, 84.38449654646203, 78.76408488581096, 79.76670864689324, 76.77009632837678, 68.03829976176031, 344.8903749317201, 141.98683565010228, 66.7204142070966, 108.98074955505753, 60.22137139150983, 61.72403113548288, 57.843382429739, 104.8285622254682, 79.61352022500786, 382.75734021311, 174.41303702570565, 110.37086155035865, 1436.5687746732758, 345.40122554489926, 231.76664616755474, 201.32427819760696, 256.9394828521062, 219.09011620298725, 2863.115612017218, 439.8142099933115, 498.81092410787494, 1074.6004113415931, 2639.996761488845, 289.18365479610793, 190.07088815410128, 173.05280628593306, 208.49721692855167, 582.056344565264, 723.3985170081955, 388.8473851950568, 297.29364092433485, 543.181456827022, 382.0516932208074, 434.0424013077035, 212.7501003579123, 345.06715718936607, 257.78929108237713, 342.7266685388753, 377.5494600165637, 361.5548086647236, 287.2728623615791, 300.6635385658243, 312.99005827450844, 270.45162214394963, 271.53917741639236, 285.41477071406246, 265.74724803459657, 511.93436773348407, 134.20789169323487, 122.29082640571714, 76.58267617941772, 87.07977440273167, 49.44882051939262, 689.2558857918553, 689.1907596378085, 64.55695110114354, 266.006675148524, 40.84777206180086, 34.65027968345928, 28.465626305074288, 45.18961931841801, 27.490937066269787, 31.625022941360683, 56.99166810864616, 51.83782895142029, 24.67628814869734, 20.167947655205936, 29.875611308660016, 23.592451001019583, 18.61402172853291, 18.51813639296606, 39.50940919430174, 21.394780982515215, 62.57825319151876, 16.100097609550314, 28.278188718763897, 18.981861500224905, 35.35479477156688, 34.32617862675667, 27.884171551765924, 62.33586076417129, 29.871998923000515, 140.49175821579232, 249.6143673336846, 487.58267625759686, 93.00831943780861, 212.39253036008134, 114.98147944540905, 127.64570563258621, 323.520682230308, 447.8449102406347, 293.11869729054376, 63.1058634392822, 608.8479481713939, 383.4193959639021, 695.6660176968826, 94.17121818431315, 256.6945309354732, 138.73916626959465, 336.30524245602004, 107.85351950537445, 231.607118085425, 354.7353369845708, 118.04573943562694, 215.02023888789427, 195.43959848601858, 369.57754897901344, 186.72339037792307, 178.08943900681953, 136.70897735088118, 190.3777786781674, 177.96379171410433, 221.11004830122727, 195.29032574633223, 196.81331831757024, 142.1416310311097, 48.144377157240775, 36.8417146794728, 53.93050624280177, 34.99979264974306, 42.910539981679264, 42.897929148143284, 119.85368215966763, 30.497535053879496, 30.777638529133213, 31.869193147589254, 47.65439710571064, 57.22547133318252, 24.94808852671062, 27.02028230546768, 24.09907879378923, 21.656275644152096, 23.555118378771514, 27.601048077560964, 31.75114442213158, 24.376088324311365, 21.64669452100897, 44.56420317288099, 106.40588261324741, 19.13715038061309, 18.308206511965892, 35.75529586578923, 17.527038734436818, 16.795158896168292, 15.559830681965567, 16.024321565563447, 23.24358621473265, 25.639684647465824, 36.82476500550091, 48.770998983332525, 52.850129060290406, 38.90859425244288, 320.70919611576335, 49.2068804279536, 56.434098358637144, 33.193758510490795, 95.40143260188276, 34.45121033862507, 80.759239393817, 64.42725891807683, 227.07798893704097, 512.272649563406, 247.84029088623925, 52.06429992257982, 101.57251045634028, 91.22268673582515, 154.27125930153412, 198.84882091035377, 231.07871778344239, 51.636643082370696, 112.72658830400002, 144.08570107321484, 242.16500950197354, 74.84377119217754, 87.43466413272385, 121.98607538755854, 78.52330073495546, 61.63077513359199, 95.33827768506633, 95.49941724074482, 56.32468393587848, 74.53168615298199, 82.01814533554105, 76.60449405743783, 81.77556289046092, 70.03939020275685, 66.36532823305156, 63.92727429128161, 28.69842833846862, 47.13160174595553, 27.5831226123486, 33.55724812611828, 20.736732125738087, 19.589973053512185, 38.64476978570122, 68.54776950823552, 24.889434714710195, 27.313259630687263, 15.530693415770108, 19.034203779627376, 16.898413725874512, 22.586603253272315, 26.97064455823758, 31.20832050104862, 16.85448736146307, 17.29920888496673, 16.818962374381634, 15.356133638242701, 18.75912241770893, 15.34230729077274, 15.335111361600077, 15.596214327564248, 15.32744214191164, 31.039731161593846, 38.858738095132274, 15.285693151893513, 14.54645543277191, 12.572650844582284, 319.91608440106575, 30.732506794041516, 70.13489438112603, 24.218730987109396, 19.05617738810432, 34.527274421883504, 49.543083652238145, 27.526842452871758, 201.60478090565135, 32.68184552906202, 32.10128845281489, 26.35448591239052, 32.54182364141725, 79.94696348237008, 99.23918935607794, 60.3008152801206, 41.91255364244282, 29.51148848704104, 112.16125377072862, 327.51758265973604, 51.97817580136457, 724.7584300614463, 159.17474501647823, 868.7190666331375, 49.07640498845287, 33.33973217925944, 58.093502953208954, 69.01524704039522, 49.31627064107409, 47.53785314242927, 53.238530735949176, 41.772489064511134, 113.546087765289, 45.067228683142375, 98.39925263408486, 75.97643272041618, 76.53321382455971, 56.25294798746949, 65.16761870548034, 66.99047321536301, 62.5558739446489, 56.40756107617383, 47.390480122361005, 54.0922925706103, 22.085974663404073, 13.555404262164972, 12.671315044906667, 12.877792058005983, 18.464940338460615, 16.321238904417264, 11.982228426518803, 18.0904340393699, 12.251004617376768, 18.23213375361539, 10.50194935967546, 13.546544514445937, 11.562664667622395, 10.55672593266239, 18.303371588060127, 13.467017580375458, 10.763734203168722, 10.15657266737889, 12.664370209753857, 15.025788487685478, 12.537498677474247, 10.74843883978439, 20.271248940073225, 10.004938118411602, 8.506021492568483, 22.707826912855325, 11.395138144098818, 9.990903648721488, 7.948116435415748, 15.872893467014178, 10.963461984405157, 21.545246547388057, 16.854793853943146, 14.828157654021062, 75.41046295431515, 17.664195414270488, 15.23241303268595, 12.774797885794097, 12.633394660129383, 15.663642576086357, 22.21741712392563, 25.173023660140686, 19.190495095816058, 27.533125515254987, 15.63493542967778, 13.987483961975071, 21.66462165866178, 21.878203901471455, 15.416192042838718, 40.65647698343614, 17.719131020802777, 70.39304138888158, 25.17934588680883, 17.17997678102285, 54.03264973706502, 29.70132937823648, 25.39073065826196, 20.663218408626932, 18.409313928589423, 18.82083061812213, 16.53896110866789, 415.6591410931847, 20.250739125705373, 21.201765080602872, 28.184777143887157, 23.63446979658122, 16.368885339904633, 15.704345397819095, 20.630517789472716, 15.209633103387626, 13.142791774686183, 13.107601466283699, 30.410092111272068, 13.049963910267007, 13.102527753670085, 13.034781700141787, 13.03442606865711, 12.463388705289866, 11.854601105099329, 15.57170615937935, 11.596705019140238, 12.919813744432968, 12.997531623024535, 12.094757462208172, 16.02066178255309, 15.764776491045673, 16.866196405572627, 14.15529943788523, 11.005547930891954, 10.36290599636311, 15.0277101838771, 78.64232186056356, 29.729775051402587, 19.654828016619035, 96.18041859103037, 16.652825220760803, 33.76750993630782, 16.618007636169278, 33.23460099035475, 15.695874407891232, 17.390160390644674, 28.491494064050517, 14.004421511445694, 16.42164693383345, 19.51973380113769, 16.710280036118615, 18.028859646885756, 17.9441322626902, 24.751088000295894, 33.004713268334775, 20.635704152541297, 25.84223596863131, 18.63305838698211, 22.466241825477272, 17.803108541309943, 20.19023671786174, 33.97855286422427, 77.19080994542935, 23.855237195606684, 33.30835985376133, 18.792743127915152, 28.597251252075953, 25.526492212694418, 26.555510182190275, 25.20226031893449, 22.047427725836837, 20.647241753451546, 20.03205490089173], \"Total\": [15418.0, 10262.0, 3744.0, 3528.0, 4722.0, 2313.0, 1732.0, 3432.0, 2026.0, 1440.0, 1528.0, 3666.0, 2173.0, 1487.0, 3428.0, 1316.0, 1633.0, 4384.0, 1011.0, 1957.0, 1780.0, 1406.0, 2613.0, 1959.0, 701.0, 701.0, 898.0, 1128.0, 913.0, 1478.0, 329.1954665998797, 314.7897797982737, 401.3170323378442, 376.28508749941165, 260.4519070136306, 551.0715792037082, 253.66363278395102, 317.9142897255116, 1900.5591835512446, 237.79699360226383, 359.2915170090283, 202.63828655552956, 183.28115749734974, 172.2503831978444, 236.74387692438918, 226.03615100425768, 330.18061987000976, 163.36705257015026, 292.88216298788484, 188.92947591493805, 162.0440697073968, 210.17435292893495, 184.09134350684766, 149.60745562543622, 141.64466108588687, 334.17891318895647, 231.74831733968557, 226.12379444760984, 153.44597887446355, 228.3518302444353, 973.5450324783574, 1478.9267968973904, 2148.7860048099337, 1210.5346142500362, 3675.372408263729, 589.8529750717634, 621.0929353084495, 2413.0580596411737, 575.2915900549849, 509.5190263690916, 757.4882413817356, 1206.9321422548335, 1769.779206527251, 1286.7265622335167, 388.97941095706597, 2701.5218573211523, 395.83226556043707, 764.9155330408361, 2096.1022469769237, 9169.960090629444, 2398.6269622190075, 1985.5938355482979, 1054.9802829613325, 940.4864480009825, 2375.338634052665, 4129.424995916561, 1093.293901321966, 812.4422126425804, 12367.076289656792, 4655.087809527724, 2814.7433721885686, 4011.1745258447504, 4400.968848355378, 2655.7591724966196, 2552.769189893413, 2328.354259623529, 3927.3944230720376, 4848.055475537047, 5304.34597139222, 4639.423257191215, 15418.177524526873, 4384.814868522281, 10262.993163540901, 2365.663186537074, 3064.4800598689662, 4398.126597038066, 4016.8099976240383, 4194.45402177283, 3926.1675396474966, 3248.675701161704, 4194.077634949272, 2656.457033059222, 3666.993774603126, 3428.012759230572, 3432.8581274303724, 1011.1396823617293, 328.27094603759275, 408.6761419458472, 85.19236177635, 293.76370900427094, 73.70730642063886, 67.60233820620441, 108.56188654191709, 115.35117387009225, 86.09904042777347, 49.041077964006654, 87.17847289989261, 122.66358987269261, 75.85680517010671, 55.839826684432616, 45.07557070508328, 41.9846137001952, 42.85122035376024, 119.52311261556648, 34.731893716152086, 731.9943094485684, 42.08893971996766, 38.2924606385342, 36.65075494063745, 37.47150352976712, 50.71189991670139, 40.166667671131485, 34.47349760505036, 103.79854556441488, 54.25184634623186, 913.8191049077192, 338.1868587732059, 171.51246543966926, 232.41929214855494, 139.94665676231125, 68.72195397185952, 2313.360947004206, 426.02240441527147, 407.27349462933756, 283.817931531569, 163.89714249760777, 640.7790193470181, 901.4630853571206, 110.25058244552127, 136.9673519504581, 162.74000006132374, 243.57957925600707, 272.03742778662, 315.0408200735386, 248.54006594334814, 600.9153697880122, 691.1771847033017, 374.15899376132637, 1406.9566172302643, 1144.9129313666594, 392.97592173335505, 510.91742630870186, 533.0658871246054, 625.3850629127203, 1234.8586720885264, 759.6221326615125, 820.0007013254268, 1780.7367737196203, 1358.7331080501344, 735.1249063934031, 2162.4524413962135, 1229.774671343208, 15418.177524526873, 1405.568350337394, 1959.210641966775, 3432.8581274303724, 12367.076289656792, 4398.126597038066, 1243.2305198867246, 3744.0849875614117, 501.5920469611502, 237.92810064092603, 197.27430423561785, 181.09550431739265, 237.639181764947, 186.861385556269, 172.9448394297179, 123.417500587133, 123.30681384765217, 197.55242996226127, 114.46346120325877, 140.63899896284227, 111.67287452328475, 97.71782400768097, 103.98272467907726, 85.22898823127122, 79.59330464899519, 80.69083693328706, 77.66500006299302, 68.84687866430517, 349.1610580863948, 143.75227942415071, 67.59771344321031, 110.41999885055196, 61.04238184591381, 62.59438593632534, 58.673620126892835, 106.41695197858562, 80.83073125431704, 390.9311298816202, 177.40587112551327, 112.07317811518352, 1528.1711194502036, 362.90629113882505, 241.8441334988969, 209.78842987500047, 271.1946549954996, 231.3215992132211, 3528.4015496402285, 511.91541488278517, 658.6001923102732, 1633.6089078836787, 4722.156471632515, 355.3313248797539, 221.29883729925038, 196.41016267150502, 256.3423992487938, 1460.3977749003186, 2173.5607932900566, 773.8833440429784, 580.361144478716, 3428.012759230572, 1395.6108632803266, 2026.25345146866, 315.32104632045224, 1956.1151463487058, 663.0807183446897, 2613.2233737777137, 4194.45402177283, 4194.077634949272, 1393.7369474964871, 3666.993774603126, 10262.993163540901, 1887.8341109225619, 2212.934378625895, 12367.076289656792, 2209.8382635440853, 515.4930147551919, 135.50972039364743, 123.48666984578792, 77.54426160627695, 88.2998113662488, 50.278450122220434, 701.766328888494, 701.7608823678864, 65.77608405116023, 271.14168019796347, 41.72800488017031, 35.58756242342954, 29.287757407973217, 46.50716878587295, 28.384546613508597, 32.6990246165462, 58.94811178404278, 53.67381924859985, 25.589890769329283, 21.001384346984953, 31.11390082463176, 24.58110333791314, 19.461014224576466, 19.374730108141453, 41.397233217796874, 22.418498924219456, 65.61902676691535, 16.91669306469619, 29.7306111886159, 19.970561043776836, 37.21605315479452, 36.29880660142423, 29.433608031083406, 68.12887359974727, 31.79447254292726, 163.51668595528352, 307.18320377998907, 664.0575419348922, 110.1418751858323, 282.6552757226078, 141.93957856863116, 168.06458988062462, 540.7804027409413, 821.898001163387, 509.5410545429687, 76.86618000483352, 1316.0493014640008, 774.1998166641283, 2026.25345146866, 142.34421287378873, 634.6776522626875, 259.5444609801897, 1128.6570065523194, 177.3716770830057, 685.0312320576626, 2173.5607932900566, 245.08484187812212, 943.2309970384492, 777.8037094291658, 3666.993774603126, 1478.4470069104902, 1350.9137531277263, 508.7755055696653, 2613.2233737777137, 1959.210641966775, 15418.177524526873, 10262.993163540901, 12367.076289656792, 1774.903733478364, 49.253941302112025, 37.770660169839786, 55.33321422949083, 35.94308703887899, 44.091305359136875, 44.08972497143956, 123.3657748965111, 31.405701746487342, 31.742628505670194, 32.892180194704984, 49.20643554330879, 59.15131014812506, 25.890319120236104, 28.064753828932766, 25.060408898895655, 22.55283768515579, 24.551386006207593, 28.78554819333578, 33.11799119105047, 25.435103231433462, 22.649405367347807, 46.640468400053486, 111.4822264721597, 20.063945319191113, 19.23617497633225, 37.606486206182666, 18.445899942300095, 17.67857314678541, 16.400638764580385, 16.8907998550767, 24.51565873178326, 27.07094576432501, 39.03401144507127, 51.90310256063449, 57.10514124664856, 42.44716850088042, 426.18800128875586, 55.52673057633499, 66.60668761586332, 36.5764917730834, 125.90048000240091, 38.37808472661263, 114.1513018896223, 92.97006466100011, 515.8813131811003, 1732.0357328777359, 642.3088880515802, 77.38498605024269, 253.49250426586156, 216.50423087742357, 566.3613995125589, 898.8107063603, 1487.913528657817, 80.36782230186336, 409.74027057926475, 898.3909072763331, 3432.8581274303724, 212.6923182514199, 323.4526276672393, 863.4672156957279, 286.5224255104535, 142.48482732172096, 1774.903733478364, 1959.210641966775, 115.76431459813348, 667.5966360951235, 1633.6089078836787, 3666.993774603126, 15418.177524526873, 2552.769189893413, 2656.457033059222, 1318.9041004777127, 29.555422826578187, 48.850484792750464, 28.62665489127629, 34.9742793966397, 21.61361386562437, 20.49548613609216, 40.46001899482005, 71.79018919034365, 26.114839272454923, 28.661126384219788, 16.37671495643013, 20.092309331941312, 17.856321583396117, 23.88399604583657, 28.530369024015318, 33.032076984180044, 17.859328975506276, 18.34592307285814, 17.867333865833007, 16.31776163229923, 19.950295216803305, 16.31742209776693, 16.317861807013617, 16.604887486730075, 16.321587750541788, 33.057576050786246, 41.440245564301335, 16.33249221054202, 15.60026846794897, 13.50729941346315, 354.90730647869475, 33.311044712491594, 80.86308199217441, 26.612085250669782, 20.58336559697057, 39.73658748962133, 59.30458601857571, 31.1459517690236, 293.8953704375713, 37.971432532626544, 37.32970747040954, 29.778412144137057, 38.773005366484796, 116.67406463904724, 155.3906964534397, 86.45241905449038, 55.04685738520368, 35.31259827019949, 255.1380553407643, 1440.8750285071844, 93.29257021420294, 10262.993163540901, 706.4239901858808, 15418.177524526873, 94.56790009960278, 44.08306730838606, 160.6490810170348, 251.97820621991633, 112.14210788102007, 104.68255604584246, 145.5072090781738, 82.17712490468236, 1780.7367737196203, 138.36825614392515, 3428.012759230572, 1460.3977749003186, 1887.8341109225619, 464.2181351358541, 1274.2922533378758, 4194.077634949272, 3927.3944230720376, 4011.1745258447504, 2383.0451473181574, 55.82152134532588, 23.228572088555755, 14.458669595881146, 13.539990056841878, 13.768223033929871, 19.747885214398643, 17.5054097904338, 12.86798655828913, 19.431016950286285, 13.202736437843944, 19.678966058111975, 11.367022634401629, 14.667554728286888, 12.528905113961793, 11.44615849279722, 19.848674487419323, 14.687309090396598, 11.739215167063659, 11.080717306077744, 13.828608657238766, 16.40927698132333, 13.694197111899513, 11.768590776696243, 22.238468910179087, 11.011739730924965, 9.374089470008522, 25.057869533250095, 12.597873190840668, 11.049716405227189, 8.801977204188141, 17.601791469119572, 12.168843245133093, 24.522086771141854, 19.083082489708843, 16.785680570962224, 102.91774794188333, 21.139731736478414, 17.737986587313223, 14.517660920067351, 14.322786475559694, 18.837814774879924, 30.973127382490265, 37.51845470573231, 26.676030824126197, 52.19718113314782, 20.301667934850837, 16.884617578308394, 42.91111941035395, 45.54314740533206, 21.64684534313096, 263.9158713326361, 32.664906010244465, 1957.1137077738258, 112.17745922792409, 31.446522035547563, 4384.814868522281, 773.8833440429784, 1265.4054284734889, 365.4893283268003, 169.4462178411341, 774.1998166641283, 769.145508333006, 418.8764041181198, 21.190699930472665, 22.294009369103474, 29.81507735719638, 25.001892751767322, 17.366213077288506, 16.712656130867476, 21.971922598421944, 16.21541124112219, 14.061358153944363, 14.07890907600847, 32.67258495405018, 14.02299652019781, 14.081349748157242, 14.029202769083664, 14.03484932785276, 13.421127366913046, 12.783860422991777, 16.800224876156342, 12.51493213215013, 13.952484101303437, 14.04427827470263, 13.075271519299783, 17.336144715337053, 17.05981486121051, 18.27787989781602, 15.369422872163469, 11.973428581691307, 11.281654130786386, 16.3680349249613, 86.05511334642985, 32.40217050257433, 21.442393423065433, 106.82868709114304, 18.297497533383183, 39.85490575399352, 18.3796278407851, 39.46419413113763, 17.307865293854277, 19.531907348722623, 35.41598530318117, 15.269925840679452, 18.630033907699545, 23.164733600446674, 19.045291856339816, 21.36322806970496, 21.28423382671244, 35.133923078933684, 60.273937480145875, 27.660688030191658, 44.62666436832304, 24.23274783422167, 36.29747760710433, 22.66404769156066, 32.07408706635427, 293.8953704375713, 15418.177524526873, 96.19742888999642, 603.0355302531684, 34.42705394623233, 1126.96595352104, 508.09367491130865, 865.4882990703481, 1361.5514907721868, 1765.5893552384302, 598.2816754997477, 259.81578952077086], \"Category\": [\"Default\", \"Default\", \"Default\", \"Default\", \"Default\", \"Default\", \"Default\", \"Default\", \"Default\", \"Default\", \"Default\", \"Default\", \"Default\", \"Default\", \"Default\", \"Default\", \"Default\", \"Default\", \"Default\", \"Default\", \"Default\", \"Default\", \"Default\", \"Default\", \"Default\", \"Default\", \"Default\", \"Default\", \"Default\", \"Default\", \"Topic1\", \"Topic1\", \"Topic1\", \"Topic1\", \"Topic1\", \"Topic1\", \"Topic1\", \"Topic1\", \"Topic1\", \"Topic1\", \"Topic1\", \"Topic1\", \"Topic1\", \"Topic1\", \"Topic1\", \"Topic1\", \"Topic1\", \"Topic1\", \"Topic1\", \"Topic1\", \"Topic1\", \"Topic1\", \"Topic1\", \"Topic1\", \"Topic1\", \"Topic1\", \"Topic1\", \"Topic1\", \"Topic1\", \"Topic1\", \"Topic1\", \"Topic1\", \"Topic1\", \"Topic1\", \"Topic1\", \"Topic1\", \"Topic1\", \"Topic1\", \"Topic1\", \"Topic1\", \"Topic1\", \"Topic1\", \"Topic1\", \"Topic1\", \"Topic1\", \"Topic1\", \"Topic1\", \"Topic1\", \"Topic1\", \"Topic1\", \"Topic1\", \"Topic1\", \"Topic1\", \"Topic1\", \"Topic1\", \"Topic1\", \"Topic1\", \"Topic1\", \"Topic1\", \"Topic1\", \"Topic1\", \"Topic1\", \"Topic1\", \"Topic1\", \"Topic1\", \"Topic1\", \"Topic1\", \"Topic1\", \"Topic1\", \"Topic1\", \"Topic1\", \"Topic1\", \"Topic1\", \"Topic1\", \"Topic1\", \"Topic1\", \"Topic1\", \"Topic1\", \"Topic1\", \"Topic1\", \"Topic1\", \"Topic1\", \"Topic1\", \"Topic1\", \"Topic1\", \"Topic2\", \"Topic2\", \"Topic2\", \"Topic2\", \"Topic2\", \"Topic2\", \"Topic2\", \"Topic2\", \"Topic2\", \"Topic2\", \"Topic2\", \"Topic2\", \"Topic2\", \"Topic2\", \"Topic2\", \"Topic2\", \"Topic2\", \"Topic2\", \"Topic2\", \"Topic2\", \"Topic2\", \"Topic2\", \"Topic2\", \"Topic2\", \"Topic2\", \"Topic2\", \"Topic2\", \"Topic2\", \"Topic2\", \"Topic2\", \"Topic2\", \"Topic2\", \"Topic2\", \"Topic2\", \"Topic2\", \"Topic2\", \"Topic2\", \"Topic2\", \"Topic2\", \"Topic2\", \"Topic2\", \"Topic2\", \"Topic2\", \"Topic2\", \"Topic2\", \"Topic2\", \"Topic2\", \"Topic2\", \"Topic2\", \"Topic2\", \"Topic2\", \"Topic2\", \"Topic2\", \"Topic2\", \"Topic2\", \"Topic2\", \"Topic2\", \"Topic2\", \"Topic2\", \"Topic2\", \"Topic2\", \"Topic2\", \"Topic2\", \"Topic2\", \"Topic2\", \"Topic2\", \"Topic2\", \"Topic2\", \"Topic2\", \"Topic2\", \"Topic2\", \"Topic2\", \"Topic2\", \"Topic2\", \"Topic3\", \"Topic3\", \"Topic3\", \"Topic3\", \"Topic3\", \"Topic3\", \"Topic3\", \"Topic3\", \"Topic3\", \"Topic3\", \"Topic3\", \"Topic3\", \"Topic3\", \"Topic3\", \"Topic3\", \"Topic3\", \"Topic3\", \"Topic3\", \"Topic3\", \"Topic3\", \"Topic3\", \"Topic3\", \"Topic3\", \"Topic3\", \"Topic3\", \"Topic3\", \"Topic3\", \"Topic3\", \"Topic3\", \"Topic3\", \"Topic3\", \"Topic3\", \"Topic3\", \"Topic3\", \"Topic3\", \"Topic3\", \"Topic3\", \"Topic3\", \"Topic3\", \"Topic3\", \"Topic3\", \"Topic3\", \"Topic3\", \"Topic3\", \"Topic3\", \"Topic3\", \"Topic3\", \"Topic3\", \"Topic3\", \"Topic3\", \"Topic3\", \"Topic3\", \"Topic3\", \"Topic3\", \"Topic3\", \"Topic3\", \"Topic3\", \"Topic3\", \"Topic3\", \"Topic3\", \"Topic3\", \"Topic3\", \"Topic3\", \"Topic3\", \"Topic3\", \"Topic3\", \"Topic3\", \"Topic3\", \"Topic4\", \"Topic4\", \"Topic4\", \"Topic4\", \"Topic4\", \"Topic4\", \"Topic4\", \"Topic4\", \"Topic4\", \"Topic4\", \"Topic4\", \"Topic4\", \"Topic4\", \"Topic4\", \"Topic4\", \"Topic4\", \"Topic4\", \"Topic4\", \"Topic4\", \"Topic4\", \"Topic4\", \"Topic4\", \"Topic4\", \"Topic4\", \"Topic4\", \"Topic4\", \"Topic4\", \"Topic4\", \"Topic4\", \"Topic4\", \"Topic4\", \"Topic4\", \"Topic4\", \"Topic4\", \"Topic4\", \"Topic4\", \"Topic4\", \"Topic4\", \"Topic4\", \"Topic4\", \"Topic4\", \"Topic4\", \"Topic4\", \"Topic4\", \"Topic4\", \"Topic4\", \"Topic4\", \"Topic4\", \"Topic4\", \"Topic4\", \"Topic4\", \"Topic4\", \"Topic4\", \"Topic4\", \"Topic4\", \"Topic4\", \"Topic4\", \"Topic4\", \"Topic4\", \"Topic4\", \"Topic4\", \"Topic4\", \"Topic4\", \"Topic4\", \"Topic4\", \"Topic4\", \"Topic4\", \"Topic4\", \"Topic4\", \"Topic5\", \"Topic5\", \"Topic5\", \"Topic5\", \"Topic5\", \"Topic5\", \"Topic5\", \"Topic5\", \"Topic5\", \"Topic5\", \"Topic5\", \"Topic5\", \"Topic5\", \"Topic5\", \"Topic5\", \"Topic5\", \"Topic5\", \"Topic5\", \"Topic5\", \"Topic5\", \"Topic5\", \"Topic5\", \"Topic5\", \"Topic5\", \"Topic5\", \"Topic5\", \"Topic5\", \"Topic5\", \"Topic5\", \"Topic5\", \"Topic5\", \"Topic5\", \"Topic5\", \"Topic5\", \"Topic5\", \"Topic5\", \"Topic5\", \"Topic5\", \"Topic5\", \"Topic5\", \"Topic5\", \"Topic5\", \"Topic5\", \"Topic5\", \"Topic5\", \"Topic5\", \"Topic5\", \"Topic5\", \"Topic5\", \"Topic5\", \"Topic5\", \"Topic5\", \"Topic5\", \"Topic5\", \"Topic5\", \"Topic5\", \"Topic5\", \"Topic5\", \"Topic5\", \"Topic5\", \"Topic5\", \"Topic5\", \"Topic5\", \"Topic5\", \"Topic5\", \"Topic5\", \"Topic5\", \"Topic5\", \"Topic5\", \"Topic5\", \"Topic5\", \"Topic5\", \"Topic6\", \"Topic6\", \"Topic6\", \"Topic6\", \"Topic6\", \"Topic6\", \"Topic6\", \"Topic6\", \"Topic6\", \"Topic6\", \"Topic6\", \"Topic6\", \"Topic6\", \"Topic6\", \"Topic6\", \"Topic6\", \"Topic6\", \"Topic6\", \"Topic6\", \"Topic6\", \"Topic6\", \"Topic6\", \"Topic6\", \"Topic6\", \"Topic6\", \"Topic6\", \"Topic6\", \"Topic6\", \"Topic6\", \"Topic6\", \"Topic6\", \"Topic6\", \"Topic6\", \"Topic6\", \"Topic6\", \"Topic6\", \"Topic6\", \"Topic6\", \"Topic6\", \"Topic6\", \"Topic6\", \"Topic6\", \"Topic6\", \"Topic6\", \"Topic6\", \"Topic6\", \"Topic6\", \"Topic6\", \"Topic6\", \"Topic6\", \"Topic6\", \"Topic6\", \"Topic6\", \"Topic6\", \"Topic6\", \"Topic6\", \"Topic6\", \"Topic6\", \"Topic6\", \"Topic6\", \"Topic6\", \"Topic6\", \"Topic6\", \"Topic6\", \"Topic6\", \"Topic6\", \"Topic6\", \"Topic6\", \"Topic6\", \"Topic6\", \"Topic6\", \"Topic6\", \"Topic6\", \"Topic7\", \"Topic7\", \"Topic7\", \"Topic7\", \"Topic7\", \"Topic7\", \"Topic7\", \"Topic7\", \"Topic7\", \"Topic7\", \"Topic7\", \"Topic7\", \"Topic7\", \"Topic7\", \"Topic7\", \"Topic7\", \"Topic7\", \"Topic7\", \"Topic7\", \"Topic7\", \"Topic7\", \"Topic7\", \"Topic7\", \"Topic7\", \"Topic7\", \"Topic7\", \"Topic7\", \"Topic7\", \"Topic7\", \"Topic7\", \"Topic7\", \"Topic7\", \"Topic7\", \"Topic7\", \"Topic7\", \"Topic7\", \"Topic7\", \"Topic7\", \"Topic7\", \"Topic7\", \"Topic7\", \"Topic7\", \"Topic7\", \"Topic7\", \"Topic7\", \"Topic7\", \"Topic7\", \"Topic7\", \"Topic7\", \"Topic7\", \"Topic7\", \"Topic7\", \"Topic7\", \"Topic7\", \"Topic7\", \"Topic7\", \"Topic7\", \"Topic7\", \"Topic7\", \"Topic7\", \"Topic7\", \"Topic7\", \"Topic8\", \"Topic8\", \"Topic8\", \"Topic8\", \"Topic8\", \"Topic8\", \"Topic8\", \"Topic8\", \"Topic8\", \"Topic8\", \"Topic8\", \"Topic8\", \"Topic8\", \"Topic8\", \"Topic8\", \"Topic8\", \"Topic8\", \"Topic8\", \"Topic8\", \"Topic8\", \"Topic8\", \"Topic8\", \"Topic8\", \"Topic8\", \"Topic8\", \"Topic8\", \"Topic8\", \"Topic8\", \"Topic8\", \"Topic8\", \"Topic8\", \"Topic8\", \"Topic8\", \"Topic8\", \"Topic8\", \"Topic8\", \"Topic8\", \"Topic8\", \"Topic8\", \"Topic8\", \"Topic8\", \"Topic8\", \"Topic8\", \"Topic8\", \"Topic8\", \"Topic8\", \"Topic8\", \"Topic8\", \"Topic8\", \"Topic8\", \"Topic8\", \"Topic8\", \"Topic8\", \"Topic8\", \"Topic8\", \"Topic8\", \"Topic8\", \"Topic8\", \"Topic8\", \"Topic8\", \"Topic8\", \"Topic8\", \"Topic8\", \"Topic8\", \"Topic8\", \"Topic8\", \"Topic8\"], \"logprob\": [30.0, 29.0, 28.0, 27.0, 26.0, 25.0, 24.0, 23.0, 22.0, 21.0, 20.0, 19.0, 18.0, 17.0, 16.0, 15.0, 14.0, 13.0, 12.0, 11.0, 10.0, 9.0, 8.0, 7.0, 6.0, 5.0, 4.0, 3.0, 2.0, 1.0, -7.5802, -7.6253, -7.383, -7.4477, -7.8156, -7.0662, -7.842, -7.6165, -5.8286, -7.9072, -7.4946, -8.0673, -8.1678, -8.2299, -7.9119, -7.9584, -7.5796, -8.2834, -7.6998, -8.1382, -8.2918, -8.0318, -8.1643, -8.3718, -8.4266, -7.5682, -7.9345, -7.9591, -8.3469, -7.9493, -6.4994, -6.0871, -5.7174, -6.2856, -5.1891, -7.0005, -6.9496, -5.6063, -7.0263, -7.147, -6.7562, -6.2951, -5.9165, -6.2323, -7.4173, -5.4992, -7.4007, -6.7489, -5.7528, -4.3068, -5.6262, -5.8116, -6.4319, -6.5451, -5.6395, -5.0989, -6.4025, -6.6941, -4.0388, -4.9893, -5.4773, -5.1344, -5.0566, -5.5436, -5.5818, -5.6709, -5.1732, -4.9755, -4.8949, -5.0222, -3.8824, -5.083, -4.2973, -5.6638, -5.4379, -5.1166, -5.1976, -5.162, -5.2341, -5.3961, -5.2106, -5.5867, -5.4028, -5.4564, -5.4665, -4.5116, -5.6388, -5.4218, -6.99, -5.7533, -7.1367, -7.2242, -6.7516, -6.6935, -6.9864, -7.5506, -6.9755, -6.6348, -7.1155, -7.4222, -7.6364, -7.7078, -7.688, -6.6637, -7.9007, -4.8527, -7.7087, -7.8033, -7.8472, -7.8253, -7.5235, -7.7569, -7.9108, -6.8095, -7.4586, -4.6374, -5.6308, -6.3103, -6.0108, -6.5156, -7.2227, -3.7415, -5.4226, -5.4903, -5.8417, -6.3855, -5.067, -4.7404, -6.7709, -6.5733, -6.4252, -6.0714, -5.9741, -5.8523, -6.0715, -5.3169, -5.2027, -5.748, -4.7362, -4.9061, -5.7462, -5.5678, -5.5415, -5.426, -4.9276, -5.3208, -5.3643, -4.9705, -5.2694, -5.5937, -5.2619, -5.4542, -4.9141, -5.4667, -5.4066, -5.2984, -5.2216, -5.4254, -5.5741, -3.1155, -5.1276, -5.8737, -6.0614, -6.1479, -5.8762, -6.1168, -6.1953, -6.5331, -6.5343, -6.0632, -6.609, -6.4033, -6.6343, -6.7682, -6.7062, -6.9065, -6.9754, -6.9628, -7.0011, -7.1218, -5.4987, -6.3862, -7.1414, -6.6507, -7.2439, -7.2192, -7.2842, -6.6896, -6.9647, -5.3945, -6.1805, -6.6381, -4.0719, -5.4972, -5.8962, -6.037, -5.7931, -5.9524, -3.3822, -5.2556, -5.1297, -4.3622, -3.4634, -5.6748, -6.0945, -6.1883, -6.002, -4.9753, -4.7579, -5.3787, -5.6472, -5.0445, -5.3964, -5.2688, -5.9818, -5.4982, -5.7898, -5.505, -5.4082, -5.4515, -5.6815, -5.6359, -5.5957, -5.7418, -5.7378, -5.688, -5.7594, -4.5519, -5.8907, -5.9836, -6.4517, -6.3232, -6.8891, -4.2544, -4.2545, -6.6225, -5.2065, -7.0802, -7.2447, -7.4414, -6.9792, -7.4762, -7.3361, -6.7471, -6.8419, -7.5842, -7.786, -7.393, -7.6291, -7.8661, -7.8713, -7.1135, -7.7269, -6.6536, -8.0112, -7.448, -7.8466, -7.2246, -7.2541, -7.462, -6.6575, -7.3931, -5.8449, -5.2701, -4.6006, -6.2574, -5.4316, -6.0453, -5.9408, -5.0108, -4.6856, -5.1095, -6.6452, -4.3785, -4.8409, -4.2452, -6.2449, -5.2422, -5.8575, -4.972, -6.1093, -5.345, -4.9187, -6.019, -5.4193, -5.5148, -4.8777, -5.5604, -5.6078, -5.8722, -5.541, -5.6085, -5.3914, -5.5156, -5.5078, -5.8332, -6.5317, -6.7993, -6.4182, -6.8505, -6.6468, -6.6471, -5.6196, -6.9882, -6.9791, -6.9443, -6.5419, -6.3589, -7.1891, -7.1093, -7.2237, -7.3306, -7.2465, -7.088, -6.948, -7.2123, -7.331, -6.609, -5.7386, -7.4543, -7.4985, -6.8292, -7.5421, -7.5848, -7.6612, -7.6318, -7.2599, -7.1617, -6.7997, -6.5188, -6.4384, -6.7447, -4.6354, -6.5099, -6.3728, -6.9035, -5.8478, -6.8663, -6.0144, -6.2404, -4.9806, -4.167, -4.8931, -6.4534, -5.7851, -5.8926, -5.3672, -5.1133, -4.9631, -6.4617, -5.6809, -5.4355, -4.9163, -6.0905, -5.935, -5.602, -6.0425, -6.2847, -5.8485, -5.8468, -6.3748, -6.0947, -5.9989, -6.0672, -6.0019, -6.1568, -6.2107, -6.2481, -6.8925, -6.3964, -6.9321, -6.7361, -7.2174, -7.2743, -6.5949, -6.0218, -7.0349, -6.942, -7.5065, -7.3031, -7.4221, -7.132, -6.9546, -6.8086, -7.4247, -7.3987, -7.4268, -7.5178, -7.3177, -7.5187, -7.5192, -7.5023, -7.5197, -6.8141, -6.5894, -7.5224, -7.572, -7.7178, -4.4813, -6.824, -5.9989, -7.0622, -7.3019, -6.7076, -6.3465, -6.9342, -4.943, -6.7625, -6.7804, -6.9777, -6.7668, -5.868, -5.6518, -6.15, -6.5137, -6.8646, -5.5294, -4.4578, -6.2985, -3.6635, -5.1793, -3.4823, -6.356, -6.7426, -6.1873, -6.015, -6.3511, -6.3878, -6.2746, -6.5171, -5.5171, -6.4412, -5.6603, -5.9189, -5.9116, -6.2195, -6.0724, -6.0448, -6.1133, -6.2167, -6.3909, -5.7675, -6.6633, -7.1514, -7.2189, -7.2027, -6.8423, -6.9657, -7.2748, -6.8628, -7.2526, -6.855, -7.4066, -7.1521, -7.3104, -7.4014, -6.8511, -7.158, -7.382, -7.4401, -7.2194, -7.0484, -7.2295, -7.3834, -6.749, -7.4551, -7.6174, -6.6355, -7.325, -7.4565, -7.6853, -6.9936, -7.3636, -6.688, -6.9336, -7.0617, -5.4353, -6.8867, -7.0348, -7.2107, -7.2219, -7.0069, -6.6573, -6.5324, -6.8038, -6.4428, -7.0087, -7.12, -6.6825, -6.6727, -7.0228, -6.053, -6.8836, -5.5041, -6.5322, -6.9145, -5.7686, -6.367, -6.5238, -6.7298, -6.8453, -6.8232, -6.9525, -3.7118, -6.7334, -6.6875, -6.4028, -6.5789, -6.9462, -6.9877, -6.7149, -7.0197, -7.1658, -7.1684, -6.3268, -7.1728, -7.1688, -7.174, -7.174, -7.2188, -7.2689, -6.9962, -7.2909, -7.1829, -7.1769, -7.2489, -6.9677, -6.9838, -6.9163, -7.0915, -7.3432, -7.4034, -7.0317, -5.3767, -6.3495, -6.7633, -5.1754, -6.929, -6.2221, -6.9311, -6.238, -6.9882, -6.8857, -6.392, -7.1023, -6.943, -6.7702, -6.9256, -6.8497, -6.8544, -6.5328, -6.245, -6.7146, -6.4896, -6.8167, -6.6296, -6.8623, -6.7364, -6.2159, -5.3953, -6.5696, -6.2358, -6.8082, -6.3883, -6.5019, -6.4624, -6.5147, -6.6484, -6.714, -6.7443], \"loglift\": [30.0, 29.0, 28.0, 27.0, 26.0, 25.0, 24.0, 23.0, 22.0, 21.0, 20.0, 19.0, 18.0, 17.0, 16.0, 15.0, 14.0, 13.0, 12.0, 11.0, 10.0, 9.0, 8.0, 7.0, 6.0, 5.0, 4.0, 3.0, 2.0, 1.0, 0.401, 0.4007, 0.4001, 0.3998, 0.3998, 0.3998, 0.3998, 0.3996, 0.3994, 0.3992, 0.3991, 0.3991, 0.399, 0.399, 0.399, 0.3988, 0.3986, 0.3985, 0.3983, 0.3982, 0.3982, 0.3981, 0.3981, 0.3981, 0.398, 0.3979, 0.3977, 0.3977, 0.3976, 0.3976, 0.3975, 0.3917, 0.3878, 0.3934, 0.3793, 0.3975, 0.3968, 0.3829, 0.3967, 0.3974, 0.3916, 0.3869, 0.3828, 0.3857, 0.397, 0.3771, 0.3961, 0.3892, 0.3772, 0.3473, 0.369, 0.3726, 0.3846, 0.3863, 0.3655, 0.353, 0.3784, 0.3837, 0.3162, 0.3429, 0.3579, 0.3466, 0.3317, 0.3497, 0.3511, 0.354, 0.3289, 0.316, 0.3067, 0.3133, 0.2521, 0.3089, 0.2443, 0.3452, 0.3123, 0.2723, 0.282, 0.2743, 0.2683, 0.2958, 0.2258, 0.3064, 0.1679, 0.1817, 0.1702, 2.3474, 2.3452, 2.3431, 2.3429, 2.3418, 2.341, 2.34, 2.3389, 2.3363, 2.3359, 2.3346, 2.3344, 2.3336, 2.3335, 2.3332, 2.3331, 2.3328, 2.3321, 2.3306, 2.3295, 2.3294, 2.3293, 2.3293, 2.3292, 2.329, 2.3282, 2.3279, 2.3269, 2.3259, 2.3256, 2.3228, 2.3235, 2.3228, 2.3185, 2.321, 2.3251, 2.2899, 2.3008, 2.2781, 2.2878, 2.2932, 2.2481, 2.2335, 2.3042, 2.2848, 2.2605, 2.211, 2.1978, 2.1728, 2.1907, 2.0625, 2.0368, 2.1052, 1.7925, 1.8287, 2.0579, 1.9738, 1.9577, 1.9134, 1.7315, 1.8242, 1.7043, 1.3226, 1.2941, 1.5841, 0.8369, 1.2091, -0.7795, 1.063, 0.7909, 0.3383, -0.8665, -0.0365, 1.0783, 2.4344, 2.4324, 2.4321, 2.4318, 2.431, 2.4309, 2.4306, 2.4296, 2.4292, 2.4289, 2.4287, 2.4285, 2.4284, 2.4279, 2.4275, 2.4274, 2.426, 2.4255, 2.4244, 2.4243, 2.4241, 2.4236, 2.4236, 2.4229, 2.4228, 2.4224, 2.4219, 2.4217, 2.4209, 2.4208, 2.4148, 2.4189, 2.4206, 2.3741, 2.3865, 2.3934, 2.3948, 2.3819, 2.3816, 2.227, 2.2841, 2.158, 2.0171, 1.8545, 2.2299, 2.2838, 2.3093, 2.2293, 1.516, 1.3358, 1.7477, 1.767, 0.5936, 1.1404, 0.8951, 2.0425, 0.701, 1.4912, 0.4045, 0.0281, -0.0151, 0.8566, -0.0652, -1.0542, 0.4928, 0.338, -1.3329, 0.3178, 2.9809, 2.9781, 2.9781, 2.9753, 2.9739, 2.9712, 2.9698, 2.9697, 2.9691, 2.9687, 2.9665, 2.9611, 2.9593, 2.9591, 2.9558, 2.9544, 2.954, 2.953, 2.9514, 2.9473, 2.9472, 2.9467, 2.9433, 2.9426, 2.9411, 2.9411, 2.9403, 2.9383, 2.9377, 2.937, 2.9365, 2.9319, 2.9337, 2.8989, 2.9254, 2.836, 2.7803, 2.6789, 2.8187, 2.702, 2.7772, 2.7127, 2.474, 2.3806, 2.4349, 2.7905, 2.217, 2.2851, 1.9187, 2.5747, 2.0826, 2.3615, 1.777, 2.4903, 1.9034, 1.175, 2.2573, 1.5092, 1.6066, 0.693, 0.9187, 0.9615, 1.6736, 0.3685, 0.5891, -1.2568, -0.974, -1.1527, 0.4631, 3.3492, 3.3471, 3.3463, 3.3454, 3.3448, 3.3446, 3.3431, 3.3426, 3.3411, 3.3404, 3.3399, 3.3389, 3.3349, 3.334, 3.3328, 3.3314, 3.3305, 3.3299, 3.3298, 3.3294, 3.3267, 3.3264, 3.3254, 3.3247, 3.3225, 3.3215, 3.3209, 3.3207, 3.3193, 3.3193, 3.3187, 3.3176, 3.3137, 3.3097, 3.2945, 3.2849, 3.0876, 3.2511, 3.2062, 3.2749, 3.0946, 3.264, 3.0259, 3.0052, 2.5514, 2.1538, 2.4197, 2.9756, 2.4574, 2.5076, 2.0714, 1.8634, 1.5096, 2.9296, 2.0814, 1.5418, 0.7204, 2.3275, 2.0638, 1.4149, 2.0775, 2.5339, 0.4479, 0.3508, 2.6515, 1.1795, 0.3803, -0.4965, -1.8674, -0.2239, -0.3176, 0.3451, 3.4991, 3.4927, 3.4914, 3.4872, 3.4871, 3.4833, 3.4826, 3.4823, 3.4805, 3.4803, 3.4755, 3.4744, 3.4734, 3.4727, 3.4723, 3.4717, 3.4706, 3.4698, 3.468, 3.4678, 3.4669, 3.4669, 3.4664, 3.4658, 3.4657, 3.4655, 3.4642, 3.4623, 3.4586, 3.4568, 3.4247, 3.4479, 3.3862, 3.4343, 3.4514, 3.388, 3.3487, 3.405, 3.1516, 3.3785, 3.3776, 3.4064, 3.3533, 3.1505, 3.0801, 3.1683, 3.2559, 3.3491, 2.7066, 2.047, 2.9436, 0.878, 2.0383, 0.6522, 2.8726, 3.2492, 2.5113, 2.2335, 2.707, 2.7391, 2.5231, 2.8519, 0.7759, 2.4067, -0.0222, 0.5725, 0.3231, 1.418, 0.5553, -0.6084, -0.6112, -0.7357, -0.3892, 3.9882, 3.9692, 3.9551, 3.9533, 3.9528, 3.9525, 3.9496, 3.9483, 3.9482, 3.9448, 3.9433, 3.9405, 3.9401, 3.9394, 3.9388, 3.9386, 3.9329, 3.9329, 3.9326, 3.9317, 3.9316, 3.9314, 3.929, 3.927, 3.9238, 3.9225, 3.9212, 3.9193, 3.9189, 3.9176, 3.9163, 3.9153, 3.8902, 3.8955, 3.8957, 3.7087, 3.84, 3.8674, 3.8918, 3.8941, 3.8351, 3.6874, 3.6206, 3.6903, 3.38, 3.7585, 3.8314, 3.3362, 3.2865, 3.6802, 2.1492, 3.408, 0.6945, 2.5256, 3.4151, -0.3767, 0.7594, 0.1109, 1.1468, 1.8, 0.3028, 0.1801, 4.0285, 3.9908, 3.986, 3.98, 3.98, 3.9771, 3.974, 3.9732, 3.9722, 3.9687, 3.9647, 3.9645, 3.9643, 3.9642, 3.9627, 3.9623, 3.9622, 3.9608, 3.9603, 3.96, 3.9593, 3.9588, 3.9583, 3.9573, 3.9573, 3.9558, 3.9539, 3.9519, 3.9513, 3.9508, 3.9461, 3.9501, 3.9492, 3.9312, 3.942, 3.8705, 3.9355, 3.8644, 3.9385, 3.9201, 3.8187, 3.9497, 3.91, 3.865, 3.9054, 3.8665, 3.8655, 3.6859, 3.434, 3.7432, 3.4899, 3.7735, 3.5565, 3.7948, 3.5734, 1.8787, -1.2608, 2.6418, 1.1401, 3.4308, 0.3622, 1.0453, 0.5522, 0.0468, -0.3468, 0.6697, 1.4736]}, \"token.table\": {\"Topic\": [2, 4, 2, 4, 1, 2, 3, 4, 5, 6, 7, 8, 1, 2, 3, 4, 5, 6, 7, 8, 1, 3, 4, 6, 7, 1, 2, 3, 4, 5, 6, 7, 8, 1, 8, 1, 2, 4, 5, 6, 7, 8, 1, 1, 4, 1, 4, 1, 2, 3, 3, 4, 1, 5, 6, 1, 2, 6, 1, 2, 7, 2, 3, 5, 7, 3, 3, 3, 8, 1, 2, 4, 8, 6, 1, 2, 3, 4, 3, 1, 2, 3, 4, 5, 6, 7, 1, 3, 7, 1, 4, 2, 1, 2, 3, 4, 5, 6, 8, 1, 4, 7, 5, 5, 5, 1, 5, 2, 6, 2, 6, 1, 8, 1, 8, 1, 4, 1, 2, 3, 4, 6, 7, 8, 1, 8, 4, 1, 2, 3, 4, 5, 8, 1, 6, 8, 1, 3, 1, 3, 2, 8, 1, 1, 2, 3, 4, 5, 6, 2, 3, 1, 2, 3, 6, 6, 1, 6, 1, 1, 2, 3, 4, 6, 1, 8, 1, 2, 3, 4, 5, 6, 7, 8, 8, 1, 3, 8, 1, 2, 3, 7, 8, 6, 1, 2, 3, 4, 6, 1, 8, 1, 2, 6, 7, 1, 6, 7, 6, 6, 1, 6, 5, 8, 8, 8, 8, 1, 2, 3, 4, 5, 6, 7, 8, 2, 4, 1, 2, 3, 4, 6, 7, 1, 4, 5, 6, 1, 2, 3, 4, 5, 6, 7, 8, 1, 2, 4, 1, 2, 3, 4, 5, 6, 1, 2, 3, 4, 5, 6, 7, 1, 6, 3, 8, 5, 1, 2, 3, 4, 6, 7, 1, 5, 6, 1, 2, 4, 5, 6, 8, 1, 2, 3, 4, 5, 6, 7, 8, 5, 1, 2, 3, 5, 6, 7, 8, 3, 7, 1, 6, 7, 8, 1, 1, 4, 7, 1, 2, 5, 6, 1, 2, 3, 4, 1, 4, 6, 7, 8, 5, 1, 3, 2, 1, 2, 3, 4, 5, 6, 7, 8, 1, 2, 3, 4, 5, 7, 8, 1, 8, 4, 4, 1, 5, 1, 2, 3, 4, 6, 8, 1, 8, 1, 8, 1, 2, 3, 4, 5, 6, 7, 8, 6, 1, 3, 5, 3, 6, 8, 1, 1, 2, 6, 7, 8, 5, 1, 2, 3, 4, 6, 8, 1, 8, 8, 1, 2, 3, 4, 6, 1, 2, 1, 1, 4, 1, 4, 5, 1, 2, 3, 4, 6, 7, 8, 7, 1, 2, 3, 6, 7, 8, 3, 1, 1, 2, 3, 4, 5, 6, 8, 2, 1, 2, 7, 8, 1, 2, 7, 1, 4, 5, 7, 7, 1, 2, 3, 4, 5, 6, 7, 8, 1, 8, 1, 2, 3, 4, 5, 6, 7, 8, 1, 2, 8, 1, 6, 1, 5, 6, 1, 3, 4, 7, 1, 2, 3, 4, 5, 6, 7, 8, 4, 1, 7, 1, 7, 1, 2, 3, 4, 5, 5, 1, 4, 5, 1, 1, 2, 3, 4, 5, 6, 7, 8, 7, 7, 7, 1, 2, 7, 2, 1, 5, 1, 2, 3, 4, 6, 7, 8, 8, 7, 1, 2, 3, 4, 5, 6, 7, 8, 7, 8, 1, 2, 3, 4, 5, 6, 7, 8, 1, 3, 1, 8, 1, 2, 4, 1, 2, 3, 1, 7, 1, 2, 3, 4, 1, 3, 4, 5, 1, 2, 7, 1, 5, 7, 7, 1, 2, 3, 4, 1, 4, 8, 1, 2, 3, 4, 5, 6, 7, 8, 1, 1, 5, 7, 1, 5, 8, 1, 2, 3, 4, 5, 6, 7, 8, 6, 1, 2, 8, 1, 2, 4, 5, 1, 3, 2, 5, 5, 1, 2, 3, 4, 6, 1, 5, 1, 6, 5, 1, 2, 6, 1, 2, 3, 4, 6, 7, 8, 5, 1, 6, 3, 1, 4, 1, 2, 3, 4, 6, 7, 8, 1, 8, 1, 3, 1, 2, 3, 6, 7, 6, 1, 2, 3, 4, 5, 6, 8, 3, 1, 2, 3, 4, 5, 6, 7, 8, 1, 2, 4, 8, 1, 2, 3, 4, 6, 8, 1, 3, 4, 5, 1, 2, 3, 4, 5, 6, 7, 8, 1, 6, 1, 3, 1, 2, 3, 4, 5, 2, 7, 1, 2, 3, 4, 3, 8, 1, 2, 3, 4, 5, 6, 7, 8, 1, 4, 1, 2, 4, 6, 1, 2, 3, 4, 5, 6, 7, 8, 4, 1, 3, 4, 4, 1, 2, 3, 4, 5, 7, 8, 1, 4, 1, 2, 1, 2, 3, 1, 4, 1, 3, 6, 3, 3, 3, 3, 3, 8, 1, 2, 3, 4, 8, 2, 8, 1, 3, 4, 5, 7, 1, 2, 3, 4, 5, 6, 7, 8, 1, 2, 3, 4, 5, 6, 7, 8, 3, 1, 2, 3, 4, 5, 6, 7, 8, 8, 7, 1, 5, 7, 1, 2, 3, 4, 5, 6, 7, 8, 1, 6, 1, 2, 3, 4, 5, 7, 8, 3, 1, 7, 7, 1, 2, 3, 4, 5, 6, 7, 8, 3, 7, 6, 1, 3, 6, 2, 3, 4, 1, 2, 6, 2, 3, 1, 2, 3, 5, 1, 2, 3, 1, 2, 3, 4, 5, 6, 7, 8, 1, 2, 5, 1, 8, 1, 3, 4, 5, 1, 8, 1, 2, 5, 1, 3, 5, 7, 6, 2, 1, 2, 3, 5, 1, 2, 3, 4, 5, 6, 7, 1, 2, 5, 1, 2, 3, 4, 5, 6, 7, 8, 3, 1, 1, 2, 3, 4, 2, 2, 3, 7, 1, 2, 3, 4, 5, 6, 7, 8, 1, 2, 3, 4, 5, 8, 1, 5, 1, 2, 3, 4, 5, 6, 7, 8, 1, 6, 1, 4, 1, 2, 3, 4, 5, 6, 7, 8, 1, 4, 1, 6, 1, 6, 1, 6, 1, 6, 1, 6, 6, 1, 5, 1, 2, 3, 4, 5, 6, 7, 8, 7, 5, 1, 2, 4, 5, 6, 7, 8, 1, 2, 3, 4, 5, 6, 7, 8, 5, 6, 3, 1, 2, 3, 4, 5, 6, 7, 8, 4, 2, 1, 5, 2, 4, 1, 2, 8, 1, 2, 3, 4, 5, 1, 8, 1, 2, 4, 1, 2, 3, 6, 1, 2, 1, 2, 3, 4, 5, 6, 7, 8, 1, 2, 3, 4, 5, 7, 1, 5, 1, 2, 3, 4, 6, 1, 4, 5, 1, 6, 8, 7, 1, 1, 7, 8, 8, 1, 2, 4, 7, 8, 1, 3, 5, 8, 1, 4, 4, 1, 7, 7, 8, 2, 5, 7, 1, 2, 3, 4, 5, 6, 8, 1, 8, 1, 6, 5, 7, 1, 2, 3, 4, 5, 6, 7, 8, 1, 2, 3, 5, 1, 4, 1, 4, 1, 4, 4, 1, 3, 4, 7, 5, 8, 1, 5, 1, 2, 5, 6, 8, 1, 2, 3, 4, 5, 6, 7, 8, 1, 7, 2, 3, 4, 8, 1, 3, 4, 5, 7, 1, 2, 3, 4, 5, 7, 8, 1, 2, 3, 4, 5, 8, 1, 7, 1, 2, 3, 4, 5, 6, 7, 1, 2, 5, 1, 2, 3, 6, 1, 6, 1, 2, 4, 7, 1, 3, 4, 1, 2, 3, 4, 5, 7, 8, 4, 1, 2, 1, 2, 3, 4, 5, 6, 7, 8, 7, 1, 4, 7, 1, 4, 1, 2, 3, 6, 8, 1, 8, 6, 1, 1, 2, 3, 4, 5, 7, 1, 5, 1, 2, 3, 4, 5, 7, 1, 8, 3, 1, 2, 3, 4, 5, 5, 1, 4, 7, 1, 6, 1, 2, 3, 4, 6, 7, 8, 1, 2, 3, 4, 5, 6, 1, 2, 5, 6, 5, 1, 2, 3, 4, 5, 1, 2, 3, 4, 5, 6, 7, 8, 7, 1, 2, 3, 4, 1, 5, 2, 1, 1, 3, 6, 1, 2, 4, 6, 7, 1, 2, 3, 4, 5, 6, 7, 1, 8, 2, 3, 7, 6, 1, 2, 3, 4, 6, 8, 1, 2, 3, 1, 2, 3, 1, 6, 8, 1, 5, 5, 6, 1, 8, 6, 1, 2, 3, 4, 5, 1, 3, 1, 1, 2, 1, 2, 3, 4, 5, 6, 7, 8, 1, 2, 1, 2, 3, 5, 6, 7, 1, 2, 3, 4, 6, 8, 3, 5, 1, 3, 1, 2, 3, 4, 5, 1, 2, 3, 1, 2, 3, 4, 5, 6, 7, 8, 1, 2, 3, 4, 6, 8, 1, 2, 3, 4, 5, 6, 7, 8, 8, 1, 2, 6, 6, 8, 1, 2, 3, 4, 5, 5, 1, 2, 6, 1, 2, 4, 6, 7, 8, 2, 1, 2, 6, 1, 8, 1, 5, 3, 4, 7, 1, 2, 3, 4, 6, 7, 8, 1, 2, 4, 6, 2, 8, 3, 1, 2, 3, 4, 5, 1, 5, 1, 2, 3, 4, 5, 7, 1, 2, 1, 2, 3, 4, 5, 6, 8, 8, 1, 2, 3, 4, 7, 1, 7, 1, 2, 6, 8, 1, 2, 3, 5, 1, 1, 2, 6, 1, 2, 3, 4, 5, 6, 7, 8, 1, 4, 6, 1, 2, 3, 4, 5, 6, 7, 8, 5, 2, 1, 2, 4, 6, 8, 1, 4, 5, 8, 1, 2, 4, 8, 7, 1, 2, 3, 4, 5, 6, 7, 8, 4, 1, 2, 3, 4, 5, 6, 7, 8, 4, 1, 3, 4, 5, 7, 7, 1, 2, 3, 4, 8, 1, 2, 3, 4, 5, 6, 1, 2, 3, 4, 5, 6, 7, 8, 1, 2, 3, 4, 5, 6, 7, 8, 1, 2, 3, 4, 6, 7, 8, 1, 3, 5, 1, 2, 3, 4, 5, 6, 8, 3, 1, 1, 2, 3, 4, 5, 6, 7, 6, 4, 7, 1, 2, 3, 4, 5, 6, 7, 8, 1, 2, 3, 4, 5, 6, 7, 8, 1, 2, 3, 4, 5, 4, 1, 1, 2, 3, 1, 2, 3, 4, 6, 1, 2, 5, 6, 1, 2, 3, 4, 5, 6, 7, 8, 1, 2, 3, 4, 5, 6, 7, 8, 1, 2, 3, 4, 5, 6, 7, 8, 1, 2, 3, 4, 5, 6, 7, 1, 2, 3, 5, 6, 7, 8, 1, 6, 1, 2, 3, 6, 1, 7, 5, 7, 1, 5, 5, 1, 2, 1, 2, 3, 4, 5, 6, 7, 8, 2, 6, 3], \"Freq\": [0.015674733236948773, 0.9818082909325186, 0.015674854892002137, 0.9818159109626792, 0.852577787061597, 0.02211830373291229, 0.030497925411460555, 0.019000304968801306, 0.004092373377895665, 0.07064215949938947, 0.00029231238413540467, 0.000876937152406214, 0.8592455223015427, 0.04358491779790434, 0.01589033461381929, 0.01433373040675128, 0.005318397707482375, 0.05636204399758761, 0.0003242925431391692, 0.004994105164343206, 0.37538342545531617, 0.009245897178702368, 0.5991341371799135, 0.009245897178702368, 0.005547538307221421, 0.4002408669331114, 0.0023294441990816006, 0.5590666077795842, 0.02350620964527797, 0.010588382723098184, 0.002541211853543564, 0.000635302963385891, 0.0010588382723098185, 0.17649098053607906, 0.7942094124123558, 0.6466890148820895, 0.20977836236506614, 0.0908529160607829, 0.04848891587513694, 0.0005104096407909152, 0.003572867485536406, 0.0005104096407909152, 0.9930098788394641, 0.03213997517175139, 0.9641992551525419, 0.03145200784978746, 0.9435602354936238, 0.044248659695004446, 0.003687388307917037, 0.9476587951346785, 0.9953902431275208, 0.9514004117536157, 0.03853334196474191, 0.9440668781361767, 0.9518834679239724, 0.29998097784866723, 0.017141770162780984, 0.6856708065112394, 0.9905766258257799, 0.05038119803082214, 0.9068615645547985, 0.0008012638628574381, 0.9983747731203679, 0.0002670879542858127, 0.0002670879542858127, 0.99143758369338, 0.9954564596765149, 0.9905491543704952, 0.9438102594827265, 0.14974777082195595, 0.03580924954438077, 0.8138465805541085, 0.9250459194004335, 0.9514570068290057, 0.13478789267519742, 0.001953447719930397, 0.8595169967693748, 0.003906895439860794, 0.9945367584668413, 0.4936599902392565, 0.005520894578631014, 0.3326338983625186, 0.16332646461783418, 0.0036805963857540094, 0.0004600745482192512, 0.0004600745482192512, 0.05637618424603118, 0.05637618424603118, 0.8456427636904676, 0.03397476785530162, 0.9512934999484453, 0.9874170106520396, 0.984276701014291, 0.005584548658237112, 0.001396137164559278, 0.002792274329118556, 0.0004653790548530927, 0.003257653383971649, 0.0018615162194123708, 0.26653549775524565, 0.026653549775524567, 0.6663387443881141, 0.9745413002703551, 0.9469722777716378, 0.9576858899958977, 0.024317927743870905, 0.9727171097548362, 0.024715757057059872, 0.9639145252253349, 0.030250251817123652, 0.9377578063308333, 0.09396626706336648, 0.8456964035702983, 0.05777720030875689, 0.9244352049401102, 0.027549115070928082, 0.9366699124115547, 0.9737120424080485, 0.011926899098579722, 0.0052478356033750775, 0.0014312278918295666, 0.003816607711545511, 0.0009541519278863777, 0.002862455783659133, 0.08134321980171336, 0.9180163377621936, 0.9745726027927932, 0.2146724921439569, 0.7471934028886562, 0.03494668476762089, 0.0016641278460771851, 0.0016641278460771851, 0.0016641278460771851, 0.1446095626990188, 0.10845717202426412, 0.7592002041698488, 0.05187583018972205, 0.9467339009624274, 0.006956411432262811, 0.9878104233813191, 0.9801354466282886, 0.9164203319926302, 0.9950803022639171, 0.578415198645094, 0.007321711375254355, 0.1342313752129965, 0.002440570458418118, 0.2757844618012474, 0.002440570458418118, 0.9930820985987207, 0.00609252821226209, 0.0925404115940107, 0.8489576889711417, 0.04828195387513602, 0.00804699231252267, 0.981207413954548, 0.0348904640590322, 0.9420425295938694, 0.9973838079323092, 0.2235977889553732, 0.5913113403233893, 0.09957089039418963, 0.07162116677476797, 0.012228004083496972, 0.43136388772617273, 0.5475003190370654, 0.9409059891491859, 0.050912036399168276, 0.00451119309866048, 0.00021481871898383238, 0.0019333684708544914, 0.0006444561569514971, 0.00042963743796766476, 0.00042963743796766476, 0.8863948392737113, 0.08424703368601234, 0.009360781520668039, 0.8986350259841317, 0.6019609130233351, 0.11803155157320296, 0.16524417220248414, 0.10622839641588265, 0.0059015775786601474, 0.9716098441732459, 0.028567726550163146, 0.8348124536325453, 0.04443868574469823, 0.047612877583605245, 0.04126449390579121, 0.06548820278720514, 0.916834839020872, 0.9660070714192013, 0.01040115285511926, 0.0013001441068899076, 0.022102449817128427, 0.9934679060128593, 0.0016953377235714323, 0.0016953377235714323, 0.9624425728685996, 0.9190282360551645, 0.020470625915843574, 0.962119418044648, 0.9662421798290535, 0.952368204470164, 0.9177629682326194, 0.9233669973871048, 0.8941126681789389, 0.8785410403527313, 0.01883439408083196, 0.09011899952600609, 0.006437071394714721, 0.0007152301549683023, 0.004768201033122015, 0.00047682010331220155, 0.00023841005165610077, 0.9709543325654074, 0.9512218168441813, 0.3225287803839859, 0.5884504687005784, 0.05134131606112429, 0.019746660023509343, 0.013164440015672895, 0.0013164440015672894, 0.5348047454108849, 0.10117927615881606, 0.02890836461680459, 0.3252191019390516, 0.9158311043270716, 0.05424855415270717, 0.016707729605966847, 0.006188048002209944, 0.0024752192008839773, 0.002268950934143646, 0.0008250730669613258, 0.0012376096004419886, 0.9923404404625549, 0.0025708301566387433, 0.0025708301566387433, 0.04104438728663216, 0.886336903838354, 0.05768400375418574, 0.012202385409539291, 0.001109307764503572, 0.001109307764503572, 0.19466103451404737, 0.0765177022460878, 0.658052239316355, 0.01775210692109237, 0.050195612673433594, 0.0006121416179687024, 0.0024485664718748097, 0.04186904059441589, 0.9629879336715654, 0.10501283020949023, 0.8926090567806669, 0.9752839244938484, 0.23943708181781212, 0.003011787192676882, 0.01355304236704597, 0.7348760750131592, 0.007529467981692206, 0.001505893596338441, 0.723919392022246, 0.2719111862717704, 0.001765657053712795, 0.7145651511837725, 0.04982872715969927, 0.22793992211351796, 0.005300928421244603, 0.0010601856842489207, 0.0010601856842489207, 0.6414703455495172, 0.04607245575770013, 0.0017720175291423125, 0.29769894489590853, 0.009746096410282718, 0.0008860087645711563, 0.0008860087645711563, 0.0017720175291423125, 0.97557175849482, 0.9259852385370837, 0.006685813996657644, 0.0150430814924797, 0.003342906998328822, 0.011700174494150877, 0.001671453499164411, 0.03510052348245263, 0.08155912743745958, 0.8971504018120553, 0.10715326401019121, 0.8572261120815297, 0.949307206094157, 0.9187009322309078, 0.9968501186701721, 0.11845100966748531, 0.059225504833742657, 0.8291570676723972, 0.5311674489405642, 0.004618847382091862, 0.42031511177035946, 0.0369507790567349, 0.05462101433293889, 0.9004664362887354, 0.0031212008190250793, 0.04057561064732603, 0.9044869845418422, 0.00769776157056887, 0.003848880785284435, 0.00769776157056887, 0.0769776157056887, 0.9766046940461298, 0.005061947353373641, 0.9921416812612336, 0.9789273305356304, 0.6484858746363275, 0.19494014997755804, 0.01802914681873369, 0.08000433900813075, 0.05352402961811565, 0.002817054190427139, 0.0005634108380854279, 0.0011268216761708557, 0.9932771137851778, 0.0010271738508636791, 0.0020543477017273583, 0.0010271738508636791, 0.0010271738508636791, 0.0010271738508636791, 0.0010271738508636791, 0.9933956757641673, 0.0030286453529395343, 0.9458113319671646, 0.9806588217719746, 0.05253467436570025, 0.9281125804607044, 0.9618746658789475, 0.009760720779214412, 0.0008873382526558556, 0.0008873382526558556, 0.0017746765053117113, 0.025732809327019816, 0.05440806574880486, 0.9249371177296826, 0.05465228226841036, 0.9290887985629761, 0.9659692968082485, 0.012924060509734875, 0.0008338103554667661, 0.012090250154268109, 0.0033352414218670644, 0.001250715533200149, 0.00041690517773338304, 0.0029183362441336813, 0.9781093916262198, 0.486546020541524, 0.07172192334675852, 0.4400236918841671, 0.9885191995067629, 0.03354007732462357, 0.93912216508946, 0.9968578831518132, 0.5498009377461153, 0.01374502344365288, 0.36424312125680136, 0.05498009377461152, 0.01374502344365288, 0.9737616572038214, 0.43414597014925876, 0.5219507731007943, 0.02195120073788387, 0.013414622673151255, 0.006097555760523297, 0.002439022304209319, 0.09361881048474063, 0.8425692943626657, 0.9270486504988893, 0.011671330422935038, 0.9380291488062604, 0.00043227149714574213, 0.04452396420601144, 0.0043227149714574215, 0.014551390672178546, 0.9749431750359626, 0.9944254314346233, 0.014752434952381932, 0.9810369243333984, 0.018631057264032618, 0.9688149777296962, 0.9727103271384755, 0.48971269626300146, 0.4638667484046764, 0.005441252180700016, 0.0326475130842001, 0.002720626090350008, 0.002720626090350008, 0.004080939135525013, 0.9471094441848603, 0.7615822897781777, 0.002831160928543411, 0.002831160928543411, 0.2250772938192012, 0.004246741392815117, 0.0014155804642717055, 0.9897225814807573, 0.9924559653344841, 0.8231371634785306, 0.032581569967264544, 0.12037080015683846, 0.004072696245908068, 0.013575654153026893, 0.0045252180510089645, 0.0018100872204035857, 0.9849600771653765, 0.9210899940482288, 0.02361769215508279, 0.003936282025847132, 0.051171666336012715, 0.01971923752891501, 0.9662426389168355, 0.9325468242947454, 0.14994734510436766, 0.07497367255218383, 0.037486836276091916, 0.7122498892457464, 0.9140031676804012, 0.8310495470925605, 0.06827319225406304, 0.023542480087607946, 0.015694986725071965, 0.0007847493362535982, 0.051008706856483885, 0.0015694986725071963, 0.00863224269878958, 0.039996971826435516, 0.9599273238344525, 0.8924075674445818, 0.03411923579864586, 0.0030328209598796327, 0.0022746157199097245, 0.04852513535807412, 0.01668051527933798, 0.0015164104799398163, 0.0015164104799398163, 0.05367676757618317, 0.05367676757618317, 0.8588282812189307, 0.9964053785077372, 0.0027832552472283165, 0.025618683885646795, 0.9478913037689315, 0.025618683885646795, 0.32316031028803727, 0.007025224136696463, 0.6603710688494675, 0.007025224136696463, 0.7897477274319699, 0.0043632471128838115, 0.08208358631112671, 0.10090008948543815, 0.020998126730753342, 0.0005454058891104764, 0.0005454058891104764, 0.0008181088336657147, 0.9560308633387328, 0.25828841567101685, 0.7102931430952963, 0.050815677868796594, 0.9146822016383387, 0.6556166087941397, 0.010017910830470727, 0.17253068652477363, 0.0011131012033856363, 0.16028657328753163, 0.975487001109414, 0.21227270514095334, 0.7500302248313685, 0.031840905771143, 0.9967182246659906, 0.7107445182300804, 0.2753334620170582, 0.004980191819429994, 0.0007114559742042848, 0.0014229119484085696, 0.004980191819429994, 0.0007114559742042848, 0.0007114559742042848, 0.9346913499432592, 0.9114900053640063, 0.8851178878301229, 0.14777110972493315, 0.049257036574977715, 0.7881125851996434, 0.9904038492927371, 0.07816961219848736, 0.8859222715828567, 0.9070024410996619, 0.03350709655017859, 0.020797508203559127, 0.004621668489679806, 0.0011554171224199515, 0.002310834244839903, 0.03119626230533869, 0.9262657329851731, 0.9050006021212808, 0.909502480624453, 0.0050173155902051075, 0.05268181369715363, 0.0054734351893146625, 0.013227468374177102, 0.0002280597995547776, 0.01231522917595799, 0.0018244783964382208, 0.914117058117348, 0.9213292459784893, 0.943075925895352, 0.015217720005483045, 0.02367200889741807, 0.011836004448709034, 0.0038044300013707613, 0.0004227144445967512, 0.0008454288891935024, 0.0004227144445967512, 0.009396999081511289, 0.9866849035586853, 0.748460752338125, 0.24948691744604168, 0.029204039817071325, 0.9345292741462824, 0.029204039817071325, 0.033366949760627186, 0.004766707108661027, 0.9581081288408663, 0.05957458774295476, 0.8936188161443214, 0.004893850642901038, 0.9885578298660096, 0.002446925321450519, 0.002446925321450519, 0.9874740743639424, 0.002640305011668295, 0.006600762529170738, 0.0013201525058341476, 0.41340024773819595, 0.031800019056784305, 0.5406003239653332, 0.27964779676907103, 0.186431864512714, 0.5126876274099635, 0.9039478756043168, 0.07127940738695343, 0.02036554496770098, 0.8808098198530674, 0.025456931209626225, 0.030606699819018677, 0.030606699819018677, 0.9182009945705604, 0.8767369276266028, 0.09162992267466828, 0.00022736953517287417, 0.025238018404189034, 0.00272843442207449, 0.0009094781406914967, 0.001364217211037245, 0.0011368476758643708, 0.9950301804798778, 0.10616942696915059, 0.053084713484575295, 0.8493554157532047, 0.31177816470075015, 0.031177816470075014, 0.6235563294015003, 0.9073691697256961, 0.028467223068477064, 0.03468853671920384, 0.01753279301568455, 0.006409838306809405, 0.003016394497322073, 0.001319672592578407, 0.0011311479364957775, 0.9635717202411955, 0.9971240999380651, 0.0031455018925491012, 0.9588545805352552, 0.981060989210862, 0.014218275205954523, 0.001895770027460603, 0.0009478850137303015, 0.0019936520247049554, 0.9968260123524776, 0.9787713074991796, 0.9713279286226202, 0.9552405560673528, 0.005464523355397819, 0.9754174189385105, 0.005464523355397819, 0.0013661308388494546, 0.009562915871946182, 0.04079025617629244, 0.9381758920547262, 0.21799609587205138, 0.7629863355521798, 0.9754821593966717, 0.048811101146054255, 0.9396136970615444, 0.006101387643256782, 0.40490463508212315, 0.5369035461188953, 0.0032392370806569853, 0.04777874693969054, 0.0032392370806569853, 0.002429427810492739, 0.0008098092701642463, 0.9472612390934843, 0.15474683851013446, 0.8511076118057396, 0.9960992390624481, 0.030478964692728202, 0.9600873878209384, 0.3795426194812124, 0.5707354371599505, 0.023454880979176047, 0.01847960319571446, 0.004975277783461586, 0.0007107539690659408, 0.0021322619071978224, 0.057682951799272505, 0.9229272287883601, 0.008922741523152375, 0.9815015675467612, 0.05285078331399069, 0.9372205574347683, 0.0035233855542660462, 0.0035233855542660462, 0.0035233855542660462, 0.9520437857597516, 0.42097398989338297, 0.008389868497288993, 0.21418840751902488, 0.3434910867125376, 0.0064157817920445235, 0.005922260115733407, 0.0004935216763111172, 0.9876990986267582, 0.6464598910072444, 0.31875758147778593, 0.013010513529705548, 0.011384199338492353, 0.00243947128681979, 0.004065785478032984, 0.00243947128681979, 0.00243947128681979, 0.043169069726781466, 0.043169069726781466, 0.043169069726781466, 0.8633813945356293, 0.9203437810156858, 0.006633108331644582, 0.0016582770829111455, 0.008291385414555728, 0.008291385414555728, 0.054723143736067806, 0.3905475294399829, 0.021588054391154833, 0.5750272669643969, 0.011775302395175364, 0.9443618011615313, 0.016703337032160138, 0.014958212267606094, 0.0002493035377934349, 0.007479106133803047, 0.013960998116432354, 0.0017451247645540442, 0.0002493035377934349, 0.048582919799431565, 0.9230754761891997, 0.037214051338735704, 0.9592955456207426, 0.19738834199847255, 0.0060734874461068475, 0.7576675589018292, 0.0030367437230534237, 0.03644092467664109, 0.1419128699170408, 0.8514772195022448, 0.010231981273047403, 0.007673985954785552, 0.9797122068942888, 0.002557995318261851, 0.12545507022053345, 0.8530944774996275, 0.1796847640724581, 0.00736877581369702, 0.8114155828697911, 0.0002834144543729623, 0.0002834144543729623, 0.0002834144543729623, 0.0005668289087459246, 0.0002834144543729623, 0.026870124992584565, 0.9404543747404598, 0.329397058254891, 0.6444029828967043, 0.023985222688462936, 0.001599014845897529, 0.2774066851084547, 0.1703374382244897, 0.002433391974635567, 0.5450798023183671, 0.0012166959873177836, 0.0012166959873177836, 0.0012166959873177836, 0.0012166959873177836, 0.9763108839417901, 0.009056330469206496, 0.9871400211435081, 0.9834896693277675, 0.952318174343173, 0.9694832676937851, 0.01661971316046489, 0.008058042744467824, 0.003021766029175434, 0.001007255343058478, 0.000503627671529239, 0.001007255343058478, 0.024156203742864996, 0.9662481497145998, 0.9954964919665109, 0.0036831265559014673, 0.030310855084603905, 0.01653319368251122, 0.9506586367443952, 0.3890136302184799, 0.6088908994724033, 0.3163897499475374, 0.1581948749737687, 0.5110911345306374, 0.9829236374074485, 0.9939506818707512, 0.9939745929693568, 0.9966171686742412, 0.9926541138735903, 0.9573582962943135, 0.011736471951193858, 0.9483069336564637, 0.004694588780477543, 0.025820238292626488, 0.009389177560955086, 0.97692527663957, 0.018432552389425847, 0.3526221449861642, 0.10462415290798278, 0.4947043279476223, 0.02195815554858898, 0.024541467966070037, 0.9504955299784572, 0.03656683440171899, 0.00629627612215029, 0.002905973594838595, 0.0016951512636558471, 0.0004843289324730992, 0.0009686578649461984, 0.0009686578649461984, 0.8456330326777622, 0.061314781825577924, 0.028613564851936366, 0.0071533912129840916, 0.018905391062886526, 0.0005109565152131494, 0.035766956064920453, 0.0020438260608525976, 0.9935404449121977, 0.954971606491422, 0.024869052252380782, 0.015631975701496492, 0.0010658165251020335, 0.0007105443500680223, 0.0017763608751700558, 0.00035527217503401117, 0.00035527217503401117, 0.93173372609581, 0.9544876606460185, 0.0358801588968885, 0.9508242107675454, 0.9089024882450539, 0.6656353481528048, 0.038774874649677944, 0.04308319405519772, 0.030158235838638404, 0.0926288672186751, 0.12063294335455362, 0.004308319405519772, 0.002154159702759886, 0.14159252631997712, 0.8495551579198628, 0.7202532343365704, 0.01850599266024076, 0.10141283977811937, 0.13176266774091422, 0.025908389724337063, 0.0014804794128192608, 0.0007402397064096304, 0.9911577860734526, 0.42859452880743876, 0.551050108466707, 0.9677116298430817, 0.741890355893436, 0.039462252973055105, 0.20592121096848756, 0.01076243262901503, 0.000717495508601002, 0.000717495508601002, 0.000717495508601002, 0.000717495508601002, 0.985580161670624, 0.9610211152433389, 0.9192380826238408, 0.012366582813363157, 0.11129924532026843, 0.8656607969354211, 0.9871879715264072, 0.00680819290707867, 0.003404096453539335, 0.34777302421832496, 0.20509691171849934, 0.43694559453071596, 0.01127358405509035, 0.9808018127928605, 0.9925401481106743, 0.0017382489459031073, 0.0034764978918062146, 0.0017382489459031073, 0.08906398093201359, 0.743048069489942, 0.16540453601659666, 0.864463048916915, 0.0036151094570493047, 0.12291372153967636, 0.0018075547285246523, 0.004970775503442794, 0.0013556660463934893, 0.0004518886821311631, 0.0009037773642623262, 0.2440237634225106, 0.0023463823406010636, 0.7531887313329414, 0.030862130051459075, 0.9258639015437723, 0.5420074249874823, 0.045692486408828455, 0.404929965760997, 0.006302411918459097, 0.1694150239965528, 0.7906034453172465, 0.023321920011738325, 0.9678596804871404, 0.9728756139172371, 0.06801547973973189, 0.08744847395108386, 0.10688146816243584, 0.7287372829256988, 0.9184146428257932, 0.9761385005611923, 0.6112115428932853, 0.014104881759075812, 0.023508136265126354, 0.35262204397689534, 0.9546347540623882, 0.019756513949966643, 0.0007902605579986657, 0.0007902605579986657, 0.003161042231994663, 0.0015805211159973314, 0.019756513949966643, 0.21648550843513703, 0.7804168946056791, 0.0026726605979646547, 0.8975965187775616, 0.020008152853409296, 0.03786158155337452, 0.03632249287234303, 0.0015390886810314843, 0.0030781773620629687, 0.0015390886810314843, 0.0018469064172377812, 0.9925457970163238, 0.9977532032048344, 0.006144770797733684, 0.9094260780645852, 0.055302937179603155, 0.024579083190934735, 0.9860038887115229, 0.9788901697725878, 0.016733165295257913, 0.960093247327606, 0.9623890956969615, 0.026943526738672587, 0.004630918658209351, 0.002946948237042314, 0.0012629778158752775, 0.0004209926052917592, 0.0004209926052917592, 0.0012629778158752775, 0.7509923894135474, 0.0033377439529490996, 0.0200264637176946, 0.0022251626352993996, 0.2214036822122903, 0.0011125813176496998, 0.08201989459819373, 0.9022188405801309, 0.8368943795296374, 0.044825112065974886, 0.0863121838717176, 0.00548392328466714, 0.007868237756261548, 0.01597490695968254, 0.0009537257886377635, 0.001669020130116086, 0.5565614263632437, 0.4389780264273472, 0.02150206142636145, 0.9675927641862653, 0.9161421612217149, 0.03994476854753108, 0.023045058777421776, 0.01592939150579681, 0.0031535343590156114, 0.0007277386982343719, 0.0005660189875156226, 0.00048515913215624795, 0.0073795444127185954, 0.9888589513042918, 0.10066289665776527, 0.8808003457554461, 0.09632070396332112, 0.8989932369909971, 0.1517589212608443, 0.8431051181158017, 0.2891764079411435, 0.6940233790587444, 0.10534235168934022, 0.8690744014370568, 0.9758246214409318, 0.021440608002102596, 0.9648273600946168, 0.7898308046353532, 0.005112173492785458, 0.17636998550109828, 0.010224346985570915, 0.006134608191342549, 0.0030673040956712746, 0.006645825540621095, 0.0030673040956712746, 0.9601188734574427, 0.9357369654906336, 0.97921819490725, 0.015256140370741921, 0.0005650422359534045, 0.001130084471906809, 0.002260168943813618, 0.0005650422359534045, 0.001130084471906809, 0.9487735944122417, 0.010576749400962232, 0.00313385167435918, 0.008226360645192847, 0.027421202150642823, 0.0011751943778846926, 0.0003917314592948975, 0.0003917314592948975, 0.961616068154867, 0.9192437258250626, 0.989401933219467, 0.9473750579706235, 0.0421724986060055, 0.006024642658000785, 0.0007530803322500981, 0.0011296204983751472, 0.0007530803322500981, 0.00037654016612504907, 0.0015061606645001963, 0.9763597536723722, 0.9741276514159597, 0.0180723280569346, 0.9759057150744684, 0.982244432844795, 0.9417902586113479, 0.9965848035383181, 0.002657559476102182, 0.9266385420451879, 0.025520702167196558, 0.03141009497501115, 0.9403397183143962, 0.0006543769786460656, 0.0026175079145842623, 0.04663658483778714, 0.9327316967557427, 0.009634046359343484, 0.973038682293692, 0.009634046359343484, 0.4790120817783233, 0.0034461300847361386, 0.5117503175833166, 0.0034461300847361386, 0.045351234334482335, 0.952375921024129, 0.6233748150992634, 0.346646443815529, 0.005887837686887966, 0.008831756530331948, 0.0036798985543049787, 0.0007359797108609957, 0.01030371595205394, 0.0007359797108609957, 0.4898408112242328, 0.001285671420536044, 0.23784921279916815, 0.2507059270045286, 0.017999399887504618, 0.001285671420536044, 0.10805606484883062, 0.8824578629321168, 0.004302568821872291, 0.9637754160993933, 0.004302568821872291, 0.017210275287489165, 0.004302568821872291, 0.9934101080920896, 0.0016100650050114905, 0.0016100650050114905, 0.027858959873990913, 0.9611341156526865, 0.013929479936995457, 0.8731632580646702, 0.9935736510250961, 0.06981881645072299, 0.907644613859399, 0.9245195135260358, 0.9232069533463045, 0.9896453896464565, 0.001652162587055854, 0.004956487761167562, 0.000826081293527927, 0.001652162587055854, 0.5010179536011796, 0.008638240579330683, 0.48374147244251825, 0.9378765320824057, 0.07339032242591706, 0.9100399980813715, 0.9367264093365768, 0.03990762258032622, 0.9178753193475031, 0.04551263074592396, 0.9557652456644031, 0.056812398996681175, 0.056812398996681175, 0.9089983839468988, 0.2387861398297389, 0.6830849409883514, 0.050888849471911565, 0.005871790323682104, 0.001957263441227368, 0.001957263441227368, 0.01761537097104631, 0.35815160878990593, 0.6061027225675332, 0.04826226227102521, 0.9411141142849915, 0.05240243553625478, 0.8908414041163313, 0.9823376909278475, 0.0031086635788855933, 0.002331497684164195, 0.0031086635788855933, 0.002331497684164195, 0.0007771658947213983, 0.0015543317894427967, 0.0038858294736069917, 0.9797619912078425, 0.003692570318622522, 0.001230856772874174, 0.014770281274490088, 0.9940717282732685, 0.97694828889085, 0.18317653372084927, 0.8102038991499102, 0.14526718355761298, 0.8443655044286255, 0.9929812781113272, 0.3209200872240704, 0.062401128071347026, 0.3833212152954174, 0.22286117168338224, 0.9435778491490485, 0.9108995254048402, 0.026591157560357122, 0.9572816721728564, 0.09031955826180961, 0.866246672420083, 0.04105434466445891, 0.05471094052431582, 0.9300859889133689, 0.8007554792812742, 0.008459711802971568, 0.15840081065564005, 0.00029171420010246785, 0.002041999400717275, 0.028587991610041847, 0.0005834284002049357, 0.0005834284002049357, 0.044967124492202595, 0.899342489844052, 0.9939279582546016, 0.003955932172157619, 0.0009889830430394046, 0.0009889830430394046, 0.6761331790429462, 0.029482551411756375, 0.26927396956070826, 0.005896510282351275, 0.017689530847053825, 0.8576567128028071, 0.0006763854201914882, 0.002705541680765953, 0.1264840735758083, 0.011498552143255299, 0.0006763854201914882, 0.0006763854201914882, 0.9750351654857278, 0.0018293342692039922, 0.0036586685384079843, 0.006402669942213972, 0.005488002807611976, 0.008232004211417964, 0.9927408974387696, 0.9577852087512101, 0.6907369563849318, 0.028661284497300075, 0.2737152669492157, 0.0007165321124325019, 0.0007165321124325019, 0.004299192674595011, 0.0007165321124325019, 0.12010805951104957, 0.015013507438881196, 0.840756416577347, 0.0071455797740022035, 0.9646532694902975, 0.014291159548004407, 0.0071455797740022035, 0.9928447834932632, 0.0050526452086171155, 0.4430840079025136, 0.0038529044165435964, 0.53555371389956, 0.015411617666174385, 0.003879780991697437, 0.0019398904958487185, 0.9932239338745439, 0.8333817631986656, 0.0026883282683827924, 0.005376656536765585, 0.0020162462012870944, 0.15525095749910628, 0.0006720820670956981, 0.0006720820670956981, 0.9825535660700551, 0.9974910881834226, 0.9755222334246364, 0.9134756121746384, 0.017243522646052636, 0.029960620597516453, 0.027805180266759873, 0.0008621761323026317, 0.00948393745532895, 0.0008621761323026317, 0.00021554403307565793, 0.9442031820637498, 0.5100274624987255, 0.4814659245987969, 0.004080219699989804, 0.13454284418420934, 0.8561817357176957, 0.2240812783466338, 0.13444876700798028, 0.02240812783466338, 0.02240812783466338, 0.5826113237012479, 0.2846252033265253, 0.7115630083163133, 0.9615219142425508, 0.9963685204652811, 0.7829411065776105, 0.005357368275702125, 0.13125552275470206, 0.07270714088452884, 0.006122706600802429, 0.0015306766502006072, 0.03693997279244795, 0.9604392926036467, 0.6107724367062336, 0.0034901282097499066, 0.09772358987299738, 0.01047038462924972, 0.2757201285702426, 0.9088866983424423, 0.05119827685775908, 0.8703707065819044, 0.9959510118042317, 0.4142801403915511, 0.006183285677485837, 0.265881284131891, 0.04328299974240086, 0.2689729269706339, 0.9775415528040584, 0.39522960149856956, 0.10978600041626932, 0.483058401831585, 0.10074412246962795, 0.873115728070109, 0.8791441294086767, 0.07418008109463353, 0.009547931230002336, 0.0007344562484617182, 0.013954668720772646, 0.003672281242308591, 0.018361406211542954, 0.7217836241339333, 0.010410340732700961, 0.027066885905022497, 0.009022295301674166, 0.003470113577566987, 0.22763945068839433, 0.5104293126414146, 0.01867424314541761, 0.10582071115736644, 0.36103536747807374, 0.9795963277746688, 0.07753441986930723, 0.02584480662310241, 0.09045682318085844, 0.12922403311551206, 0.6719649722006628, 0.8946536335659944, 0.04867721458426611, 0.02601713193296982, 0.0050355739225102876, 0.0037766804418827155, 0.01972266452983196, 0.0008392623204183813, 0.0008392623204183813, 0.93703027361338, 0.07805773618023826, 0.03902886809011913, 0.0520384907868255, 0.8196062298925016, 0.30117221174468733, 0.6883936268449997, 0.9662476472657497, 0.9954487441959003, 0.1814755752823519, 0.04536889382058797, 0.7485867480397015, 0.3831624537153214, 0.05747436805729821, 0.01915812268576607, 0.01915812268576607, 0.53642743520145, 0.7030071945785512, 0.279111552080958, 0.010456628752312546, 0.0008043560578701959, 0.0024130681736105877, 0.0024130681736105877, 0.0008043560578701959, 0.12669712660000707, 0.8362010355600465, 0.9856129384660792, 0.009211335873514758, 0.9400801137860663, 0.94563545116216, 0.012276762583213363, 0.9281232512909302, 0.0024553525166426727, 0.00982141006657069, 0.04665169781621078, 0.9419570814885905, 0.16384335998679947, 0.019505161903190415, 0.8114147351727212, 0.0028640078177119186, 0.008592023453135755, 0.9880826971106119, 0.9857297537187635, 0.0013073338908736916, 0.011766005017863224, 0.0169057962959033, 0.9636303888664881, 0.965611890834508, 0.976996915594344, 0.2063323579399841, 0.7840629601719395, 0.9266363939545039, 0.5941334948736188, 0.011678299653535503, 0.030655536590530698, 0.3386706899525296, 0.024816386763762945, 0.9962408164712439, 0.001814646295940335, 0.9935568780191582, 0.9959396700993494, 0.9862648806200334, 0.9304769338529362, 0.0020450042502262334, 0.053170110505882065, 0.000454445388939163, 0.003181117722574141, 0.006589458139617863, 0.000908890777878326, 0.003181117722574141, 0.011614531300600002, 0.9872351605510001, 0.9930934348140663, 0.001962635246668115, 0.001962635246668115, 0.001962635246668115, 0.001962635246668115, 0.001962635246668115, 0.15770196472383546, 0.7277439289549472, 0.028936140316300086, 0.08246799990145524, 0.0014468070158150043, 0.0014468070158150043, 0.07067609232728386, 0.9187892002546901, 0.14008207353606827, 0.8585675474791281, 0.5549852224909703, 0.01206489614110805, 0.3890929005507346, 0.04222713649387817, 0.0015081120176385061, 0.00815237839556023, 0.9782854074672277, 0.00815237839556023, 0.6218116517784482, 0.021362145882825055, 0.056580818824779874, 0.0005773552941304069, 0.2956059105947683, 0.0028867764706520345, 0.0005773552941304069, 0.0005773552941304069, 0.32145637202173943, 0.22621003957085367, 0.15477529023268935, 0.007937194370907147, 0.27383320579629655, 0.01190579155636072, 0.890920640936679, 0.053806395987911315, 0.0005663831156622244, 0.010761279197582263, 0.0033982986939733464, 0.02435447397347565, 0.0033982986939733464, 0.012460428544568936, 0.9256438633387345, 0.41240209372232656, 0.063446475957281, 0.5181462203177949, 0.946359998963661, 0.03505037033198744, 0.513771498633691, 0.028023899925474053, 0.06538909982610612, 0.006227533316772012, 0.38610706563986474, 0.975248966882521, 0.03757691254107311, 0.03757691254107311, 0.9018459009857546, 0.022541096939857574, 0.06762329081957272, 0.0028176371174821967, 0.9016438775943029, 0.0056352742349643934, 0.0028176371174821967, 0.9765482253278271, 0.02143793439721868, 0.41803972074576423, 0.5573862943276856, 0.007162017173815367, 0.9931330481023976, 0.9940800551368989, 0.004379207291351978, 0.016964071786786213, 0.9669520918468141, 0.9081217177623957, 0.5250635657099184, 0.35659397243400875, 0.030324526789663738, 0.01965478588218946, 0.06401844544484567, 0.0016846959327590967, 0.0022462612436787953, 0.2702864518828167, 0.07078930882645199, 0.019306175134486906, 0.637103779438068, 0.9796172523329487, 0.008669179224185386, 0.993102224335344, 0.9824702971148339, 0.007442956796324499, 0.005316397711660356, 0.0010632795423320713, 0.0021265590846641425, 0.3483981424161447, 0.647025121629983, 0.7968883772568878, 0.005991641934262314, 0.08088716611254125, 0.004493731450696736, 0.1123432862674184, 0.0014979104835655785, 0.011470721690070254, 0.9864820653460419, 0.9792553438815238, 0.010774709666068395, 0.004144119102333998, 0.0016576476409335993, 0.0012432357307001994, 0.0008288238204667997, 0.0016576476409335993, 0.9386835903197125, 0.2945226918324655, 0.6734627157188224, 0.026263169972321764, 0.0018759407123086975, 0.0018759407123086975, 0.06888161980816954, 0.895461057506204, 0.09186942944967312, 0.10207714383297013, 0.6873194351419989, 0.11568742967736614, 0.4351340501680804, 0.03509145565871616, 0.09825607584440525, 0.4351340501680804, 0.9944124822435779, 0.030020073180863086, 0.030020073180863086, 0.9306222686067557, 0.8852796129524151, 0.05576564491038835, 0.034604574297071346, 0.020165255525631504, 0.001742676403449636, 0.0009958150876855064, 0.0004979075438427532, 0.0009958150876855064, 0.23205364097042389, 0.7616119498516476, 0.9192628535393945, 0.907223406969471, 0.02559800484395188, 0.013928326165091464, 0.023715798605426008, 0.02484512234854153, 0.0003764412477051747, 0.0003764412477051747, 0.004140853724756922, 0.9620608170866947, 0.9910899796932006, 0.07719526011866251, 0.8564997908403983, 0.05513947151333036, 0.007351929535110715, 0.0036759647675553577, 0.3195161577630093, 0.029046923433000846, 0.11618769373200338, 0.5518915452270161, 0.008870835522357932, 0.9698780171111338, 0.014784725870596552, 0.0029569451741193104, 0.926353985797681, 0.945042280920674, 0.03260646688152337, 0.010796121141373958, 0.00632500026464333, 0.0028353449462194236, 0.0005452586435037353, 0.0008724138296059765, 0.0009814655583067235, 0.978622462757116, 0.9513157161737678, 0.010307709791499062, 0.012455149331394702, 0.01460258887129034, 0.0012884637239373828, 0.009448733975540809, 0.00042948790797912764, 0.00042948790797912764, 0.9882011210859468, 0.694958731525226, 0.002736057998130811, 0.24350916183364218, 0.002736057998130811, 0.05745721796074703, 0.9682771922520584, 0.2632237872116197, 0.02219959651182335, 0.6755020081454819, 0.012685483721041913, 0.028542338372344305, 0.3586491778650977, 0.038752347608305045, 0.12157599249664329, 0.4627486214403485, 0.015956849015184432, 0.0015196999062080411, 0.9278416190115266, 0.04277645224861045, 0.002800839135325684, 0.007129408708101742, 0.0002546217395750622, 0.01604116959322892, 0.0005092434791501244, 0.002800839135325684, 0.7375884756892822, 0.21919557208571772, 0.0013873137473779603, 0.027746274947559206, 0.004624379157926534, 0.0060116929053044945, 0.0013873137473779603, 0.0018497516631706136, 0.9834852834248033, 0.0074569229577280795, 0.004971281971818719, 0.00165709399060624, 0.00082854699530312, 0.00082854699530312, 0.00165709399060624, 0.19856953682403158, 0.03971390736480632, 0.75456423993132, 0.3978368154112375, 0.10271174236090469, 0.39852156036031017, 0.047932146435088856, 0.0006847449490726979, 0.05204061612952504, 0.0006847449490726979, 0.9905041653906473, 0.9954159943015568, 0.7924425092991475, 0.019069472148909965, 0.14302104111682473, 0.001059415119383887, 0.0026485377984597175, 0.04078748209627965, 0.001059415119383887, 0.9573101231516742, 0.9879608880242338, 0.9024686510606156, 0.9127160057682335, 0.07668511310530385, 0.006852712234942046, 0.0016315981511766777, 0.00032631963023533554, 0.0009789588907060066, 0.00032631963023533554, 0.0006526392604706711, 0.9735253456760576, 0.020358895061666604, 0.002591132098757568, 0.0011104851851818148, 0.0007403234567878765, 0.00037016172839393825, 0.0007403234567878765, 0.00037016172839393825, 0.7006635446054879, 0.009264972490651079, 0.10307281895849325, 0.04516674089192401, 0.14129083048242894, 0.9852795680292287, 0.9966484286021006, 0.09287106902597846, 0.09005679420700942, 0.8133254226820538, 0.009848776362482433, 0.9695573174621596, 0.005471542423601352, 0.0032829254541608113, 0.012037393331922974, 0.5720090241718737, 0.023669338931249947, 0.4023787618312491, 0.9523668594135434, 0.8733707783412284, 0.08252322315035229, 0.02317781884778413, 0.01604618227923517, 0.0017829091421372408, 0.0010188052240784234, 0.0015282078361176352, 0.0007641039180588176, 0.9756834414758124, 0.017413201409495815, 0.002720812720233721, 0.0013604063601168606, 0.0008162438160701163, 0.0002720812720233721, 0.0008162438160701163, 0.0008162438160701163, 0.9878785096497009, 0.0013523319776176605, 0.0013523319776176605, 0.0020284979664264907, 0.002704663955235321, 0.0020284979664264907, 0.0006761659888088302, 0.0020284979664264907, 0.791760072541806, 0.1331252219100829, 0.0014565122747273842, 0.0014565122747273842, 0.0704951940968054, 0.0014565122747273842, 0.0002913024549454768, 0.3979928013322056, 0.007753106519458551, 0.502659739344896, 0.04393427027693179, 0.0038765532597292754, 0.038765532597292755, 0.005168737679639034, 0.028592440423406668, 0.9721429743958268, 0.23881724849221325, 0.26747531831127885, 0.03821075975875412, 0.45852911710504946, 0.017914237661380637, 0.9673688337145544, 0.23098053876874095, 0.6929416163062229, 0.28909000119778827, 0.7095845483945712, 0.9758266095069963, 0.9934798004812337, 0.0029924090375940773, 0.6024647142179581, 0.022734517517658797, 0.0037890862529431327, 0.007578172505886265, 0.08335989756474893, 0.1250398463471234, 0.15535253637066845, 0.0037890862529431327, 0.030273603457600533, 0.9384817071856165, 0.991438471088629], \"Term\": [\"&#9\", \"&#9\", \";\", \";\", \"[\", \"[\", \"[\", \"[\", \"[\", \"[\", \"[\", \"[\", \"]\", \"]\", \"]\", \"]\", \"]\", \"]\", \"]\", \"]\", \"^\", \"^\", \"^\", \"^\", \"^\", \"_\", \"_\", \"_\", \"_\", \"_\", \"_\", \"_\", \"_\", \"_post[\", \"_post[\", \"`\", \"`\", \"`\", \"`\", \"`\", \"`\", \"`\", \"abstract\", \"actionpack\", \"actionpack\", \"activesupport\", \"activesupport\", \"activity\", \"activity\", \"activity\", \"activitythread\", \"adafruit\", \"addr\", \"addr\", \"aggressionidtocenter\", \"alloc\", \"alloc\", \"alloc\", \"allocate\", \"amet\", \"amet\", \"android\", \"android\", \"android\", \"android\", \"androidhttpschemas\", \"androidruntime\", \"androidx\", \"angstrom\", \"angular\", \"angular\", \"angular\", \"animals[\", \"annotationview\", \"apache\", \"apache\", \"apache\", \"apache\", \"apk\", \"app\", \"app\", \"app\", \"app\", \"app\", \"app\", \"app\", \"appstate\", \"appstate\", \"appstate\", \"arel\", \"arel\", \"arial\", \"array\", \"array\", \"array\", \"array\", \"array\", \"array\", \"array\", \"artist\", \"artist\", \"artist\", \"aspnetcore\", \"asyncprotocolrequ\", \"asyncrequest\", \"atg\", \"atg\", \"att\", \"att\", \"attributeid_attribute_id_\", \"attributeid_attribute_id_\", \"aug\", \"aug\", \"autoit\", \"autoit\", \"axios\", \"axios\", \"b\", \"b\", \"b\", \"b\", \"b\", \"b\", \"b\", \"b[\", \"b[\", \"babel\", \"background\", \"background\", \"background\", \"background\", \"background\", \"background\", \"bank\", \"bank\", \"bank\", \"bean\", \"bean\", \"beans\", \"beans\", \"blur\", \"bomber\", \"book\", \"boolean\", \"boolean\", \"boolean\", \"boolean\", \"boolean\", \"boolean\", \"border\", \"border\", \"bottom\", \"bottom\", \"bottom\", \"bottom\", \"bouncycastle\", \"bound_id\", \"bound_id\", \"buffer\", \"button\", \"button\", \"button\", \"button\", \"button\", \"bytes\", \"bytes\", \"c\", \"c\", \"c\", \"c\", \"c\", \"c\", \"c\", \"c\", \"cash\", \"cassandra\", \"cassandra\", \"cassandra\", \"category\", \"category\", \"category\", \"category\", \"category\", \"cdt\", \"center\", \"center\", \"center\", \"center\", \"center\", \"changeset\", \"changeset\", \"char\", \"char\", \"char\", \"char\", \"character\", \"character\", \"character\", \"charrange\", \"checkinvc\", \"chipset\", \"chipset\", \"civica\", \"civilrecordsearch\", \"ckeditor\", \"claimant_id\", \"claimantdata\", \"class\", \"class\", \"class\", \"class\", \"class\", \"class\", \"class\", \"class\", \"classcircledivtd\", \"classsolr\", \"click\", \"click\", \"click\", \"click\", \"click\", \"click\", \"cmd\", \"cmd\", \"cmd\", \"cmd\", \"code\", \"code\", \"code\", \"code\", \"code\", \"code\", \"code\", \"code\", \"collection\", \"collection\", \"collection\", \"color\", \"color\", \"color\", \"color\", \"color\", \"color\", \"com\", \"com\", \"com\", \"com\", \"com\", \"com\", \"com\", \"combobox\", \"combobox\", \"compileroracle\", \"compileroracle\", \"compilerservices\", \"component\", \"component\", \"component\", \"component\", \"component\", \"component\", \"connection\", \"connection\", \"connection\", \"console\", \"console\", \"console\", \"console\", \"console\", \"console\", \"const\", \"const\", \"const\", \"const\", \"const\", \"const\", \"const\", \"const\", \"controlleractioninvoker\", \"convert\", \"convert\", \"convert\", \"convert\", \"convert\", \"convert\", \"convert\", \"coroutine\", \"coroutine\", \"cos\", \"cos\", \"count_by\", \"county\", \"cpp\", \"crm\", \"crm\", \"crm\", \"cs\", \"cs\", \"cs\", \"cs\", \"css\", \"css\", \"css\", \"css\", \"csv\", \"csv\", \"csv\", \"csv\", \"csv\", \"d__\", \"dart\", \"dart\", \"dashoffset\", \"data\", \"data\", \"data\", \"data\", \"data\", \"data\", \"data\", \"data\", \"database\", \"database\", \"database\", \"database\", \"database\", \"database\", \"database\", \"dataframe\", \"dataframe\", \"datalabel\", \"dataproduto\", \"datarace\", \"datarace\", \"date\", \"date\", \"date\", \"date\", \"date\", \"date\", \"dateend\", \"dateend\", \"datestart\", \"datestart\", \"datum\", \"datum\", \"datum\", \"datum\", \"datum\", \"datum\", \"datum\", \"datum\", \"dbmarker\", \"debug\", \"debug\", \"debug\", \"defaultbuildoperationrunner\", \"destrng\", \"destrng\", \"dictionary\", \"dim\", \"dim\", \"dim\", \"dim\", \"dim\", \"directoryservices\", \"display\", \"display\", \"display\", \"display\", \"display\", \"display\", \"displaychar\", \"displaychar\", \"displaycolumnt\", \"div\", \"div\", \"div\", \"div\", \"div\", \"divs\", \"divs\", \"django\", \"docker\", \"docker\", \"dockerfile\", \"dockerfile\", \"doctorid\", \"document\", \"document\", \"document\", \"document\", \"document\", \"document\", \"document\", \"dolor\", \"double\", \"double\", \"double\", \"double\", \"double\", \"double\", \"drawable\", \"duplicate\", \"e\", \"e\", \"e\", \"e\", \"e\", \"e\", \"e\", \"ebph\", \"echo\", \"echo\", \"echo\", \"echo\", \"edx\", \"edx\", \"eget\", \"eigen\", \"eigen\", \"eigen\", \"eigen\", \"elit\", \"else\", \"else\", \"else\", \"else\", \"else\", \"else\", \"else\", \"else\", \"empid\", \"empid\", \"end\", \"end\", \"end\", \"end\", \"end\", \"end\", \"end\", \"end\", \"end_date\", \"end_date\", \"end_date\", \"entity\", \"entity\", \"entityframeworkcore\", \"entityframeworkcore\", \"entityframeworkcore\", \"env\", \"env\", \"env\", \"env\", \"error\", \"error\", \"error\", \"error\", \"error\", \"error\", \"error\", \"error\", \"eslint\", \"et\", \"et\", \"etree\", \"etree\", \"exception\", \"exception\", \"exception\", \"exception\", \"exception\", \"executioncontext\", \"export\", \"export\", \"export\", \"expression\", \"f\", \"f\", \"f\", \"f\", \"f\", \"f\", \"f\", \"f\", \"factgad\", \"factgad_au\", \"factgad_k\", \"fclose\", \"fclose\", \"fclose\", \"fff\", \"ffmpeg\", \"ffmpeg\", \"field\", \"field\", \"field\", \"field\", \"field\", \"field\", \"field\", \"fieldreferenceclientfield\", \"fieldtypeinfo\", \"file\", \"file\", \"file\", \"file\", \"file\", \"file\", \"file\", \"file\", \"filter_data[\", \"finalgrade\", \"find\", \"find\", \"find\", \"find\", \"find\", \"find\", \"find\", \"find\", \"findviewbyid\", \"findviewbyid\", \"firstname\", \"firstname\", \"flex\", \"flex\", \"flex\", \"flutter\", \"flutter\", \"flutter\", \"folname\", \"folname\", \"font\", \"font\", \"font\", \"font\", \"foo\", \"foo\", \"foo\", \"foo\", \"fopen\", \"fopen\", \"fopen\", \"fp\", \"fp\", \"fp\", \"fputcsv\", \"fragment\", \"fragment\", \"fragment\", \"fragment\", \"frames\", \"frames\", \"frames\", \"function\", \"function\", \"function\", \"function\", \"function\", \"function\", \"function\", \"function\", \"generic\", \"geojson\", \"geojson\", \"geojson\", \"geometry\", \"geometry\", \"geometry\", \"get\", \"get\", \"get\", \"get\", \"get\", \"get\", \"get\", \"get\", \"getchips\", \"git\", \"git\", \"gnueabi\", \"good\", \"good\", \"good\", \"good\", \"gradle\", \"gradle\", \"hamburger\", \"handlenonsuccessanddebuggernotification\", \"hashtable\", \"height\", \"height\", \"height\", \"height\", \"height\", \"hmac\", \"hmac\", \"hms\", \"hms\", \"housing\", \"hover\", \"hover\", \"hover\", \"html\", \"html\", \"html\", \"html\", \"html\", \"html\", \"html\", \"httpmyget\", \"iboutlet\", \"iboutlet\", \"idid\", \"illuminate\", \"illuminate\", \"image\", \"image\", \"image\", \"image\", \"image\", \"image\", \"image\", \"image_\", \"image_\", \"imageview\", \"imageview\", \"img\", \"img\", \"img\", \"img\", \"img\", \"imgavatar\", \"import\", \"import\", \"import\", \"import\", \"import\", \"import\", \"import\", \"inflate\", \"input\", \"input\", \"input\", \"input\", \"input\", \"input\", \"input\", \"input\", \"inputselect\", \"inputselect\", \"inputselect\", \"inputselect\", \"insert\", \"insert\", \"insert\", \"insert\", \"insert\", \"insert\", \"install\", \"install\", \"install\", \"install\", \"int\", \"int\", \"int\", \"int\", \"int\", \"int\", \"int\", \"int\", \"integrationeventstateid\", \"integrationeventstateid\", \"intent\", \"intent\", \"internal\", \"internal\", \"internal\", \"internal\", \"internal\", \"ipsum\", \"ipsum\", \"jar\", \"jar\", \"jar\", \"jar\", \"jarcprogram\", \"jarcprogram\", \"java\", \"java\", \"java\", \"java\", \"java\", \"java\", \"java\", \"java\", \"jest\", \"jest\", \"jquery\", \"jquery\", \"jquery\", \"jquery\", \"js\", \"js\", \"js\", \"js\", \"js\", \"js\", \"js\", \"js\", \"jsx\", \"junit\", \"junit\", \"jupyter\", \"keras\", \"know\", \"know\", \"know\", \"know\", \"know\", \"know\", \"know\", \"kubernetes\", \"kubernetes\", \"l\", \"l\", \"lang\", \"lang\", \"lang\", \"laravel\", \"laravel\", \"latitude\", \"latitude\", \"latitude\", \"layout_heightmatch_parent\", \"layout_heightwrap_content\", \"layout_widthmatch_parent\", \"layout_widthwrap_content\", \"layoutinflater\", \"letter_grade_barriers[\", \"li\", \"li\", \"li\", \"li\", \"li\", \"lia\", \"lia\", \"lib\", \"lib\", \"lib\", \"lib\", \"lib\", \"like\", \"like\", \"like\", \"like\", \"like\", \"like\", \"like\", \"like\", \"line\", \"line\", \"line\", \"line\", \"line\", \"line\", \"line\", \"line\", \"linearlayout\", \"list\", \"list\", \"list\", \"list\", \"list\", \"list\", \"list\", \"list\", \"listtitletextfield\", \"livedata\", \"lob\", \"lob\", \"lobster\", \"location\", \"location\", \"location\", \"location\", \"location\", \"location\", \"location\", \"location\", \"locationmanager\", \"locationmanager\", \"log\", \"log\", \"log\", \"log\", \"log\", \"log\", \"log\", \"looper\", \"lxml\", \"lxml\", \"magna\", \"main\", \"main\", \"main\", \"main\", \"main\", \"main\", \"main\", \"main\", \"mainactivity\", \"malesuada\", \"maptoolbar\", \"mapview\", \"mapview\", \"mapview\", \"margin\", \"margin\", \"margin\", \"marker\", \"marker\", \"marker\", \"maven\", \"maven\", \"memory\", \"memory\", \"memory\", \"memory\", \"menu\", \"menu\", \"menu\", \"method\", \"method\", \"method\", \"method\", \"method\", \"method\", \"method\", \"method\", \"microsoft\", \"microsoft\", \"microsoft\", \"misse\", \"misse\", \"module\", \"module\", \"module\", \"module\", \"mon\", \"mon\", \"mov\", \"mov\", \"movenext\", \"mp\", \"mp\", \"mp\", \"mp\", \"mradius\", \"mut\", \"mvc\", \"mvc\", \"mvc\", \"mvc\", \"n\", \"n\", \"n\", \"n\", \"n\", \"n\", \"n\", \"na\", \"na\", \"na\", \"name\", \"name\", \"name\", \"name\", \"name\", \"name\", \"name\", \"name\", \"nameandroid\", \"nan\", \"nav\", \"nav\", \"nav\", \"nav\", \"nav_ksckqn\", \"navbar\", \"navbar\", \"nec\", \"need\", \"need\", \"need\", \"need\", \"need\", \"need\", \"need\", \"need\", \"net\", \"net\", \"net\", \"net\", \"net\", \"net\", \"neutral\", \"neutral\", \"new\", \"new\", \"new\", \"new\", \"new\", \"new\", \"new\", \"new\", \"nil\", \"nil\", \"node_module\", \"node_module\", \"not\", \"not\", \"not\", \"not\", \"not\", \"not\", \"not\", \"not\", \"npm\", \"npm\", \"nsarray\", \"nsarray\", \"nsdictionary\", \"nsdictionary\", \"nslog\", \"nslog\", \"nsstring\", \"nsstring\", \"nsurl\", \"nsurl\", \"nsuserdefault\", \"nuget\", \"nuget\", \"null\", \"null\", \"null\", \"null\", \"null\", \"null\", \"null\", \"null\", \"nulla\", \"nullobject\", \"number\", \"number\", \"number\", \"number\", \"number\", \"number\", \"number\", \"object\", \"object\", \"object\", \"object\", \"object\", \"object\", \"object\", \"object\", \"objectsinuse\", \"oldannotation\", \"oncreate\", \"one\", \"one\", \"one\", \"one\", \"one\", \"one\", \"one\", \"one\", \"oninit\", \"opacity\", \"opencv\", \"opencv\", \"opengl\", \"openshift\", \"operator\", \"operator\", \"orderbydirectionasc\", \"org\", \"org\", \"org\", \"org\", \"org\", \"ostream\", \"ostream\", \"overlay\", \"overlay\", \"overlay\", \"override\", \"override\", \"override\", \"override\", \"oz\", \"oz\", \"p\", \"p\", \"p\", \"p\", \"p\", \"p\", \"p\", \"p\", \"package\", \"package\", \"package\", \"package\", \"package\", \"package\", \"packet\", \"packet\", \"padding\", \"padding\", \"padding\", \"padding\", \"padding\", \"parameter\", \"parameter\", \"parameter\", \"params_r__c__rp_\", \"params_r__c__rp_\", \"params_r__c__rp_\", \"parentindex\", \"performance\", \"pfd_child_w[\", \"pfd_child_w[\", \"phone_number\", \"phone_type\", \"php\", \"php\", \"php\", \"php\", \"php\", \"physical\", \"physical\", \"physical\", \"pilotname\", \"pip\", \"pip\", \"pipenv\", \"pizza\", \"pizza\", \"planename\", \"planename\", \"popup_window\", \"popup_window\", \"popup_window\", \"position\", \"position\", \"position\", \"position\", \"position\", \"position\", \"position\", \"post[\", \"post[\", \"postcode\", \"postcode\", \"pprint\", \"pprint\", \"print\", \"print\", \"print\", \"print\", \"print\", \"print\", \"print\", \"print\", \"program\", \"program\", \"program\", \"program\", \"programming\", \"prometheus\", \"promise\", \"promise\", \"prop\", \"prop\", \"props\", \"proxy\", \"proxy\", \"proxy\", \"proxy\", \"proxyaddresses[\", \"ptarr\", \"pth\", \"pth\", \"ptr\", \"ptr\", \"ptr\", \"ptws\", \"ptws\", \"public\", \"public\", \"public\", \"public\", \"public\", \"public\", \"public\", \"public\", \"puppet\", \"puppet\", \"px\", \"px\", \"px\", \"px\", \"py\", \"py\", \"py\", \"py\", \"py\", \"python\", \"python\", \"python\", \"python\", \"python\", \"python\", \"python\", \"query\", \"query\", \"query\", \"query\", \"query\", \"query\", \"queue\", \"quis\", \"r\", \"r\", \"r\", \"r\", \"r\", \"r\", \"r\", \"ra\", \"ra\", \"ra\", \"radius\", \"radius\", \"radius\", \"radius\", \"random\", \"random\", \"rb\", \"rb\", \"rb\", \"rb\", \"react\", \"react\", \"react\", \"read\", \"read\", \"read\", \"read\", \"read\", \"read\", \"read\", \"redux\", \"regex\", \"rem\", \"return\", \"return\", \"return\", \"return\", \"return\", \"return\", \"return\", \"return\", \"robot\", \"route\", \"route\", \"route\", \"router\", \"router\", \"row[\", \"row[\", \"row[\", \"row[\", \"row[\", \"rr\", \"rr\", \"rss[\", \"ruby\", \"run\", \"run\", \"run\", \"run\", \"run\", \"run\", \"runbehavior\", \"runbehavior\", \"runtime\", \"runtime\", \"runtime\", \"runtime\", \"runtime\", \"sal\", \"sam\", \"sam\", \"savedinstancestate\", \"security\", \"security\", \"security\", \"security\", \"security\", \"securityenabledtrue\", \"sed\", \"sed\", \"sed\", \"segue\", \"segue\", \"select\", \"select\", \"select\", \"select\", \"select\", \"select\", \"select\", \"self\", \"self\", \"self\", \"self\", \"self\", \"self\", \"sender\", \"sender\", \"sender\", \"sender\", \"serializationformat\", \"services\", \"services\", \"services\", \"services\", \"services\", \"set\", \"set\", \"set\", \"set\", \"set\", \"set\", \"set\", \"set\", \"setcapability\", \"setstate\", \"setstate\", \"setstate\", \"setstate\", \"sha\", \"sha\", \"shader\", \"shell\", \"sin\", \"sin\", \"sin\", \"sit\", \"sit\", \"sit\", \"sit\", \"sit\", \"size\", \"size\", \"size\", \"size\", \"size\", \"size\", \"size\", \"smith\", \"smith\", \"solid\", \"solid\", \"somen\", \"sourcelistview\", \"span\", \"span\", \"span\", \"span\", \"span\", \"sphere\", \"spring\", \"spring\", \"spring\", \"springframework\", \"springframework\", \"springframework\", \"sql\", \"sql\", \"sql\", \"sqlclient\", \"sqlclient\", \"sslstate\", \"standarduserdefault\", \"start_date\", \"start_date\", \"startcombo\", \"state\", \"state\", \"state\", \"state\", \"state\", \"statement\", \"statement\", \"stdcout\", \"stdvector\", \"stretch\", \"string\", \"string\", \"string\", \"string\", \"string\", \"string\", \"string\", \"string\", \"stroke\", \"stroke\", \"struct\", \"struct\", \"struct\", \"struct\", \"struct\", \"struct\", \"style\", \"style\", \"style\", \"style\", \"style\", \"style\", \"subprocess\", \"subprocess\", \"sun\", \"sun\", \"support\", \"support\", \"support\", \"support\", \"support\", \"svg\", \"svg\", \"svg\", \"system\", \"system\", \"system\", \"system\", \"system\", \"system\", \"system\", \"system\", \"tab\", \"tab\", \"tab\", \"tab\", \"tab\", \"tab\", \"table\", \"table\", \"table\", \"table\", \"table\", \"table\", \"table\", \"table\", \"tablenamestudent\", \"tableview\", \"tableview\", \"tableview\", \"tabrss\", \"tabrss\", \"task\", \"task\", \"task\", \"task\", \"task\", \"taskawaiter\", \"tbody\", \"tbody\", \"tbody\", \"td\", \"td\", \"td\", \"td\", \"td\", \"td\", \"tddiv\", \"tdinput\", \"tdinput\", \"tdinput\", \"tdtd\", \"tdtd\", \"temp\", \"temp\", \"tensorflow\", \"tensorflow\", \"testapp\", \"text\", \"text\", \"text\", \"text\", \"text\", \"text\", \"text\", \"textbox\", \"textbox\", \"textbox\", \"textbox\", \"texture\", \"texture\", \"textview\", \"think\", \"think\", \"think\", \"think\", \"think\", \"threading\", \"threading\", \"throw\", \"throw\", \"throw\", \"throw\", \"throw\", \"throw\", \"tile\", \"tile\", \"time\", \"time\", \"time\", \"time\", \"time\", \"time\", \"time\", \"to_date\", \"top\", \"top\", \"top\", \"top\", \"top\", \"toplevelclass\", \"toplevelclass\", \"tr\", \"tr\", \"tr\", \"tr\", \"trace\", \"trace\", \"trace\", \"trace\", \"tree\", \"treenode\", \"treenode\", \"treenode\", \"try\", \"try\", \"try\", \"try\", \"try\", \"try\", \"try\", \"try\", \"ts\", \"ts\", \"tutorialvc\", \"type\", \"type\", \"type\", \"type\", \"type\", \"type\", \"type\", \"type\", \"typemicrosoft\", \"typeradio\", \"typetext\", \"typetext\", \"typetext\", \"typetext\", \"typetext\", \"udp\", \"udp\", \"udp\", \"udp\", \"ul\", \"ul\", \"ul\", \"ul\", \"usb_install\", \"use\", \"use\", \"use\", \"use\", \"use\", \"use\", \"use\", \"use\", \"useeffect\", \"user\", \"user\", \"user\", \"user\", \"user\", \"user\", \"user\", \"user\", \"usestate\", \"usr\", \"usr\", \"usr\", \"usr\", \"usr\", \"ut\", \"util\", \"util\", \"util\", \"util\", \"util\", \"v\", \"v\", \"v\", \"v\", \"v\", \"v\", \"value\", \"value\", \"value\", \"value\", \"value\", \"value\", \"value\", \"value\", \"var\", \"var\", \"var\", \"var\", \"var\", \"var\", \"var\", \"var\", \"variable\", \"variable\", \"variable\", \"variable\", \"variable\", \"variable\", \"variable\", \"video\", \"video\", \"video\", \"view\", \"view\", \"view\", \"view\", \"view\", \"view\", \"view\", \"viewgroup\", \"virtual\", \"void\", \"void\", \"void\", \"void\", \"void\", \"void\", \"void\", \"voucher\", \"vue\", \"vwhistorydetail\", \"want\", \"want\", \"want\", \"want\", \"want\", \"want\", \"want\", \"want\", \"way\", \"way\", \"way\", \"way\", \"way\", \"way\", \"way\", \"way\", \"web\", \"web\", \"web\", \"web\", \"web\", \"webpack\", \"whether\", \"widget\", \"widget\", \"widget\", \"width\", \"width\", \"width\", \"width\", \"width\", \"windows\", \"windows\", \"windows\", \"word_t\", \"work\", \"work\", \"work\", \"work\", \"work\", \"work\", \"work\", \"work\", \"would\", \"would\", \"would\", \"would\", \"would\", \"would\", \"would\", \"would\", \"write\", \"write\", \"write\", \"write\", \"write\", \"write\", \"write\", \"write\", \"x\", \"x\", \"x\", \"x\", \"x\", \"x\", \"x\", \"xml\", \"xml\", \"xml\", \"xml\", \"xml\", \"xml\", \"xml\", \"xpath\", \"xpath\", \"xs\", \"xs\", \"xs\", \"xs\", \"xsl\", \"xsl\", \"xslt\", \"xslt\", \"xxxx\", \"xxxx\", \"xxxxprovisioningerrors[\", \"year\", \"year\", \"yes\", \"yes\", \"yes\", \"yes\", \"yes\", \"yes\", \"yes\", \"yes\", \"zclpayload\", \"zclpayload\", \"zygoteinit\"]}, \"R\": 30, \"lambda.step\": 0.01, \"plot.opts\": {\"xlab\": \"PC1\", \"ylab\": \"PC2\"}, \"topic.order\": [6, 7, 8, 4, 1, 3, 5, 2]};\n",
       "\n",
       "function LDAvis_load_lib(url, callback){\n",
       "  var s = document.createElement('script');\n",
       "  s.src = url;\n",
       "  s.async = true;\n",
       "  s.onreadystatechange = s.onload = callback;\n",
       "  s.onerror = function(){console.warn(\"failed to load library \" + url);};\n",
       "  document.getElementsByTagName(\"head\")[0].appendChild(s);\n",
       "}\n",
       "\n",
       "if(typeof(LDAvis) !== \"undefined\"){\n",
       "   // already loaded: just create the visualization\n",
       "   !function(LDAvis){\n",
       "       new LDAvis(\"#\" + \"ldavis_el368818452010994563071091948\", ldavis_el368818452010994563071091948_data);\n",
       "   }(LDAvis);\n",
       "}else if(typeof define === \"function\" && define.amd){\n",
       "   // require.js is available: use it to load d3/LDAvis\n",
       "   require.config({paths: {d3: \"https://d3js.org/d3.v5\"}});\n",
       "   require([\"d3\"], function(d3){\n",
       "      window.d3 = d3;\n",
       "      LDAvis_load_lib(\"https://cdn.jsdelivr.net/gh/bmabey/pyLDAvis@3.3.1/pyLDAvis/js/ldavis.v3.0.0.js\", function(){\n",
       "        new LDAvis(\"#\" + \"ldavis_el368818452010994563071091948\", ldavis_el368818452010994563071091948_data);\n",
       "      });\n",
       "    });\n",
       "}else{\n",
       "    // require.js not available: dynamically load d3 & LDAvis\n",
       "    LDAvis_load_lib(\"https://d3js.org/d3.v5.js\", function(){\n",
       "         LDAvis_load_lib(\"https://cdn.jsdelivr.net/gh/bmabey/pyLDAvis@3.3.1/pyLDAvis/js/ldavis.v3.0.0.js\", function(){\n",
       "                 new LDAvis(\"#\" + \"ldavis_el368818452010994563071091948\", ldavis_el368818452010994563071091948_data);\n",
       "            })\n",
       "         });\n",
       "}\n",
       "</script>"
      ],
      "text/plain": [
       "PreparedData(topic_coordinates=                x           y  topics  cluster       Freq\n",
       "topic                                                    \n",
       "5     -108.958252 -208.941483       1        1  66.777140\n",
       "6      186.487061  -98.103249       2        1   9.502024\n",
       "7       19.245832  160.858780       3        1   8.751560\n",
       "3      170.658829   75.445076       4        1   5.039833\n",
       "0       -1.386411  -35.043739       5        1   3.432247\n",
       "2     -145.800095  106.944611       6        1   2.934858\n",
       "4       64.834541 -221.825272       7        1   1.795928\n",
       "1     -196.906036  -58.990913       8        1   1.766410, topic_info=          Term          Freq         Total Category  logprob  loglift\n",
       "414          ]  15418.000000  15418.000000  Default  30.0000  30.0000\n",
       "2            [  10262.000000  10262.000000  Default  29.0000  29.0000\n",
       "2853   android   3744.000000   3744.000000  Default  28.0000  28.0000\n",
       "30492     java   3528.000000   3528.000000  Default  27.0000  27.0000\n",
       "479          _   4722.000000   4722.000000  Default  26.0000  26.0000\n",
       "...        ...           ...           ...      ...      ...      ...\n",
       "20019    field     26.555510    865.488299   Topic8  -6.4624   0.5522\n",
       "50131   select     25.202260   1361.551491   Topic8  -6.5147   0.0468\n",
       "55851    table     22.047428   1765.589355   Topic8  -6.6484  -0.3468\n",
       "12297  convert     20.647242    598.281675   Topic8  -6.7140   0.6697\n",
       "13311      csv     20.032055    259.815790   Topic8  -6.7443   1.4736\n",
       "\n",
       "[600 rows x 6 columns], token_table=       Topic      Freq        Term\n",
       "term                              \n",
       "0          2  0.015675         &#9\n",
       "0          4  0.981808         &#9\n",
       "1          2  0.015675           ;\n",
       "1          4  0.981816           ;\n",
       "2          1  0.852578           [\n",
       "...      ...       ...         ...\n",
       "64529      7  0.155353         yes\n",
       "64529      8  0.003789         yes\n",
       "64688      2  0.030274  zclpayload\n",
       "64688      6  0.938482  zclpayload\n",
       "64855      3  0.991438  zygoteinit\n",
       "\n",
       "[1672 rows x 3 columns], R=30, lambda_step=0.01, plot_opts={'xlab': 'PC1', 'ylab': 'PC2'}, topic_order=[6, 7, 8, 4, 1, 3, 5, 2])"
      ]
     },
     "metadata": {},
     "execution_count": 23
    }
   ],
   "metadata": {
    "colab": {
     "base_uri": "https://localhost:8080/",
     "height": 1000
    },
    "id": "Amo_yjMPE2A6",
    "outputId": "a0bb3094-d2d2-44f6-baf5-dc202fc089eb",
    "scrolled": false
   }
  },
  {
   "cell_type": "markdown",
   "source": [
    "- Topic 1 : OS - Top topic\n",
    "- Topic 2 : Script Language/Python\n",
    "- Topic 3 : Web language/Front-end\n",
    "- Topic 4 : Java\n",
    "- Topic 5 : Web language/Back-end\n",
    "- Topic 6 : SQL\n",
    "- Topic 7 : Script Language"
   ],
   "metadata": {
    "id": "gOnnE1zYE2A6"
   }
  },
  {
   "cell_type": "code",
   "execution_count": 24,
   "source": [
    "del lda\r\n",
    "gc.collect()"
   ],
   "outputs": [
    {
     "output_type": "execute_result",
     "data": {
      "text/plain": [
       "61"
      ]
     },
     "metadata": {},
     "execution_count": 24
    }
   ],
   "metadata": {}
  },
  {
   "cell_type": "markdown",
   "source": [
    "### c) Evaluation of topic modelling"
   ],
   "metadata": {}
  },
  {
   "cell_type": "code",
   "execution_count": 25,
   "source": [
    "warnings.filterwarnings(\"ignore\")\r\n",
    "\r\n",
    "from gensim.corpora.dictionary import Dictionary\r\n",
    "\r\n",
    "dataset = [d.split() for d in docs]\r\n",
    "common_dictionary = Dictionary(dataset)\r\n",
    "corpus = [common_dictionary.doc2bow(text) for text in dataset]"
   ],
   "outputs": [],
   "metadata": {}
  },
  {
   "cell_type": "code",
   "execution_count": 26,
   "source": [
    "from gensim.models import Nmf\r\n",
    "\r\n",
    "nmf = Nmf(corpus, num_topics=10, id2word=common_dictionary)"
   ],
   "outputs": [],
   "metadata": {}
  },
  {
   "cell_type": "code",
   "execution_count": 27,
   "source": [
    "from gensim.models.ldamodel import LdaModel\r\n",
    "\r\n",
    "lda = LdaModel(corpus, num_topics=8, id2word=common_dictionary)"
   ],
   "outputs": [],
   "metadata": {}
  },
  {
   "cell_type": "code",
   "execution_count": 28,
   "source": [
    "from gensim.models.coherencemodel import CoherenceModel\r\n",
    "\r\n",
    "cm_nmf = CoherenceModel(model=nmf, texts=dataset, corpus=corpus, coherence='c_v')\r\n",
    "coherence_nmf = cm_nmf.get_coherence()\r\n",
    "cm_lda = CoherenceModel(model=lda, texts=dataset, corpus=corpus, coherence='c_v')\r\n",
    "coherence_lda = cm_lda.get_coherence()"
   ],
   "outputs": [],
   "metadata": {}
  },
  {
   "cell_type": "code",
   "execution_count": 29,
   "source": [
    "print(\"Coherence Model - NMF: \", coherence_nmf.round(3))\r\n",
    "print(\"Coherence Model - LDA: \", coherence_lda.round(3))"
   ],
   "outputs": [
    {
     "output_type": "stream",
     "name": "stdout",
     "text": [
      "Coherence Model - NMF:  0.354\n",
      "Coherence Model - LDA:  0.413\n"
     ]
    }
   ],
   "metadata": {}
  },
  {
   "cell_type": "markdown",
   "source": [
    "## 3) Supervised learning for text classification"
   ],
   "metadata": {
    "id": "1uxDs96QE2A7"
   }
  },
  {
   "cell_type": "markdown",
   "source": [
    "### a) Data preparation"
   ],
   "metadata": {
    "id": "A92fAMVhfR7P"
   }
  },
  {
   "cell_type": "code",
   "execution_count": 51,
   "source": [
    "tags = data[\"Tags\"].apply(lambda x: x[0:].split(','))"
   ],
   "outputs": [],
   "metadata": {}
  },
  {
   "cell_type": "code",
   "execution_count": 52,
   "source": [
    "from sklearn.preprocessing import MultiLabelBinarizer\r\n",
    "\r\n",
    "mlb = MultiLabelBinarizer()\r\n",
    "tags_mlb = mlb.fit_transform(tags)"
   ],
   "outputs": [],
   "metadata": {}
  },
  {
   "cell_type": "code",
   "execution_count": 53,
   "source": [
    "list(mlb.classes_)"
   ],
   "outputs": [
    {
     "output_type": "execute_result",
     "data": {
      "text/plain": [
       "['.doc',\n",
       " '.htaccess',\n",
       " '.net',\n",
       " '.net-2.0',\n",
       " '.net-3.5',\n",
       " '.net-4.0',\n",
       " '.net-4.0-beta-2',\n",
       " '.net-5',\n",
       " '.net-assembly',\n",
       " '.net-core',\n",
       " '.net-core-3.0',\n",
       " '.net-core-3.1',\n",
       " '.net-remoting',\n",
       " '2captcha',\n",
       " '2d',\n",
       " '3-tier',\n",
       " '32-bit',\n",
       " '32bit-64bit',\n",
       " '3d',\n",
       " '3nf',\n",
       " '64-bit',\n",
       " 'aabb',\n",
       " 'aac',\n",
       " 'aar',\n",
       " 'abap',\n",
       " 'abbreviation',\n",
       " 'abi',\n",
       " 'absolute',\n",
       " 'absolute-path',\n",
       " 'abstract',\n",
       " 'abstract-class',\n",
       " 'abstract-syntax-tree',\n",
       " 'abstraction',\n",
       " 'access-token',\n",
       " 'access-violation',\n",
       " 'accesscontrolexception',\n",
       " 'accessibility',\n",
       " 'ack',\n",
       " 'acl',\n",
       " 'action',\n",
       " 'action-filter',\n",
       " 'actioncontroller',\n",
       " 'actionmailer',\n",
       " 'actionresult',\n",
       " 'actionscript',\n",
       " 'actionscript-3',\n",
       " 'activation',\n",
       " 'active-directory',\n",
       " 'active-relation',\n",
       " 'activeadmin',\n",
       " 'activemq',\n",
       " 'activerecord',\n",
       " 'activesupport',\n",
       " 'activiti',\n",
       " 'activity-finish',\n",
       " 'ada',\n",
       " 'adapter',\n",
       " 'adb',\n",
       " 'add',\n",
       " 'addeventlistener',\n",
       " 'addition',\n",
       " 'addrange',\n",
       " 'address-operator',\n",
       " 'address-space',\n",
       " 'addressbook',\n",
       " 'addtextchangedlistener',\n",
       " 'admob',\n",
       " 'ado',\n",
       " 'ado.net',\n",
       " 'adobe',\n",
       " 'ads',\n",
       " 'aes',\n",
       " 'afnetworking',\n",
       " 'aframe',\n",
       " 'aggregate',\n",
       " 'aggregate-functions',\n",
       " 'aggregation',\n",
       " 'aggregation-framework',\n",
       " 'agile',\n",
       " 'agile-processes',\n",
       " 'agile-project-management',\n",
       " 'agora.io',\n",
       " 'air',\n",
       " 'airflow',\n",
       " 'airflow-scheduler',\n",
       " 'aix',\n",
       " 'ajax',\n",
       " 'alamofire',\n",
       " 'alarmmanager',\n",
       " 'alert',\n",
       " 'alfresco',\n",
       " 'alfresco-maven',\n",
       " 'algebraic-data-types',\n",
       " 'algorithm',\n",
       " 'alias',\n",
       " 'alignment',\n",
       " 'allocation',\n",
       " 'alm',\n",
       " 'alphabet',\n",
       " 'alphablending',\n",
       " 'alphanumeric',\n",
       " 'alt-tab',\n",
       " 'amazon-cloudformation',\n",
       " 'amazon-cloudfront',\n",
       " 'amazon-cloudwatch',\n",
       " 'amazon-cognito',\n",
       " 'amazon-dynamodb',\n",
       " 'amazon-ec2',\n",
       " 'amazon-ecr',\n",
       " 'amazon-ecs',\n",
       " 'amazon-eks',\n",
       " 'amazon-elastic-beanstalk',\n",
       " 'amazon-iam',\n",
       " 'amazon-rds',\n",
       " 'amazon-redshift',\n",
       " 'amazon-s3',\n",
       " 'amazon-sagemaker',\n",
       " 'amazon-sns',\n",
       " 'amazon-sqs',\n",
       " 'amazon-web-services',\n",
       " 'ambiguous',\n",
       " 'anaconda',\n",
       " 'analog-digital-converter',\n",
       " 'analysis',\n",
       " 'analytics',\n",
       " 'anchor',\n",
       " 'android',\n",
       " 'android-11',\n",
       " 'android-2.2-froyo',\n",
       " 'android-4.0-ice-cream-sandwich',\n",
       " 'android-4.2-jelly-bean',\n",
       " 'android-4.4-kitkat',\n",
       " 'android-5.0-lollipop',\n",
       " 'android-7.1-nougat',\n",
       " 'android-8.0-oreo',\n",
       " 'android-actionbar',\n",
       " 'android-activity',\n",
       " 'android-adapter',\n",
       " 'android-afilechooser',\n",
       " 'android-alertdialog',\n",
       " 'android-animation',\n",
       " 'android-appcompat',\n",
       " 'android-appwidget',\n",
       " 'android-architecture-components',\n",
       " 'android-architecture-navigation',\n",
       " 'android-arrayadapter',\n",
       " 'android-asynctask',\n",
       " 'android-bubbles',\n",
       " 'android-button',\n",
       " 'android-camera',\n",
       " 'android-camerax',\n",
       " 'android-constraintlayout',\n",
       " 'android-contentprovider',\n",
       " 'android-context',\n",
       " 'android-coordinatorlayout',\n",
       " 'android-cursor',\n",
       " 'android-databinding',\n",
       " 'android-date',\n",
       " 'android-debugging',\n",
       " 'android-dialogfragment',\n",
       " 'android-edittext',\n",
       " 'android-emulator',\n",
       " 'android-espresso',\n",
       " 'android-espresso-recorder',\n",
       " 'android-fonts',\n",
       " 'android-fragments',\n",
       " 'android-gallery',\n",
       " 'android-gradle-3.0',\n",
       " 'android-gradle-plugin',\n",
       " 'android-gridview',\n",
       " 'android-handler',\n",
       " 'android-imagebutton',\n",
       " 'android-imageview',\n",
       " 'android-intent',\n",
       " 'android-jetpack-compose',\n",
       " 'android-keystore',\n",
       " 'android-layout',\n",
       " 'android-lifecycle',\n",
       " 'android-linearlayout',\n",
       " 'android-listadapter',\n",
       " 'android-listview',\n",
       " 'android-livedata',\n",
       " 'android-loadermanager',\n",
       " 'android-location',\n",
       " 'android-lvl',\n",
       " 'android-manifest',\n",
       " 'android-mapview',\n",
       " 'android-mediaplayer',\n",
       " 'android-navigation',\n",
       " 'android-navigation-bar',\n",
       " 'android-navigationview',\n",
       " 'android-ndk',\n",
       " 'android-nestedscrollview',\n",
       " 'android-notification-bar',\n",
       " 'android-notifications',\n",
       " 'android-pageradapter',\n",
       " 'android-pendingintent',\n",
       " 'android-recyclerview',\n",
       " 'android-relativelayout',\n",
       " 'android-resources',\n",
       " 'android-room',\n",
       " 'android-sdk-tools',\n",
       " 'android-search',\n",
       " 'android-service',\n",
       " 'android-side-navigation',\n",
       " 'android-snackbar',\n",
       " 'android-source',\n",
       " 'android-spinner',\n",
       " 'android-sqlite',\n",
       " 'android-studio',\n",
       " 'android-studio-2.2',\n",
       " 'android-studio-3.0',\n",
       " 'android-studio-3.6',\n",
       " 'android-studio-4.2',\n",
       " 'android-styles',\n",
       " 'android-support-library',\n",
       " 'android-tabhost',\n",
       " 'android-testing',\n",
       " 'android-toolbar',\n",
       " 'android-typeface',\n",
       " 'android-videoview',\n",
       " 'android-view',\n",
       " 'android-viewholder',\n",
       " 'android-viewmodel',\n",
       " 'android-viewpager',\n",
       " 'android-webview',\n",
       " 'android-widget',\n",
       " 'android-wifi',\n",
       " 'android-xml',\n",
       " 'androidx',\n",
       " 'angle',\n",
       " 'angular',\n",
       " 'angular-cli',\n",
       " 'angular-directive',\n",
       " 'angular-e2e',\n",
       " 'angular-http',\n",
       " 'angular-http-interceptors',\n",
       " 'angular-httpclient',\n",
       " 'angular-library',\n",
       " 'angular-material',\n",
       " 'angular-material-5',\n",
       " 'angular-material2',\n",
       " 'angular-ng-if',\n",
       " 'angular-ngselect',\n",
       " 'angular-pipe',\n",
       " 'angular-router',\n",
       " 'angular-routerlink',\n",
       " 'angular-routing',\n",
       " 'angular-services',\n",
       " 'angular-ui',\n",
       " 'angular2-forms',\n",
       " 'angular2-http',\n",
       " 'angular2-observables',\n",
       " 'angular5',\n",
       " 'angular6',\n",
       " 'angular7',\n",
       " 'angular8',\n",
       " 'angular9',\n",
       " 'angularjs',\n",
       " 'angularjs-controller',\n",
       " 'angularjs-directive',\n",
       " 'angularjs-factory',\n",
       " 'angularjs-ng-repeat',\n",
       " 'angularjs-scope',\n",
       " 'angularjs-service',\n",
       " 'animation',\n",
       " 'ankhsvn',\n",
       " 'annotations',\n",
       " 'anonymous-class',\n",
       " 'anonymous-function',\n",
       " 'anonymous-inner-class',\n",
       " 'anpr',\n",
       " 'ansi',\n",
       " 'ansible',\n",
       " 'ansible-galaxy',\n",
       " 'ansible-vault',\n",
       " 'ant',\n",
       " 'antd',\n",
       " 'anti-patterns',\n",
       " 'any',\n",
       " 'anycpu',\n",
       " 'aop',\n",
       " 'aopalliance',\n",
       " 'apache',\n",
       " 'apache-commons',\n",
       " 'apache-flex',\n",
       " 'apache-flink',\n",
       " 'apache-httpclient-4.x',\n",
       " 'apache-hudi',\n",
       " 'apache-kafka',\n",
       " 'apache-kafka-connect',\n",
       " 'apache-poi',\n",
       " 'apache-portable-runtime',\n",
       " 'apache-servicemix',\n",
       " 'apache-spark',\n",
       " 'apache-spark-sql',\n",
       " 'apache-zookeeper',\n",
       " 'apache2',\n",
       " 'apc',\n",
       " 'api',\n",
       " 'api-design',\n",
       " 'apksigner',\n",
       " 'apl',\n",
       " 'apollo',\n",
       " 'apostrophe',\n",
       " 'app-offline.htm',\n",
       " 'app-store',\n",
       " 'app-store-connect',\n",
       " 'app.xaml',\n",
       " 'appcelerator',\n",
       " 'appdelegate',\n",
       " 'append',\n",
       " 'appium',\n",
       " 'appium-android',\n",
       " 'apple-m1',\n",
       " 'apple-push-notifications',\n",
       " 'apple-sign-in',\n",
       " 'applet',\n",
       " 'application-data',\n",
       " 'application-start',\n",
       " 'application.cfc',\n",
       " 'applicative',\n",
       " 'apply',\n",
       " 'approximation',\n",
       " 'appsettings',\n",
       " 'appstore-approval',\n",
       " 'apr',\n",
       " 'architectural-patterns',\n",
       " 'architecture',\n",
       " 'archive',\n",
       " 'archiving',\n",
       " 'archlinux',\n",
       " 'arduino',\n",
       " 'arel',\n",
       " 'argparse',\n",
       " 'args',\n",
       " 'argument-dependent-lookup',\n",
       " 'argumentexception',\n",
       " 'arguments',\n",
       " 'arithmetic-expressions',\n",
       " 'arkit',\n",
       " 'arm',\n",
       " 'arm-template',\n",
       " 'arm64',\n",
       " 'armv6',\n",
       " 'armv7',\n",
       " 'array-agg',\n",
       " 'array-difference',\n",
       " 'array-filter',\n",
       " 'array-splice',\n",
       " 'arraylist',\n",
       " 'arrays',\n",
       " 'arrow-keys',\n",
       " 'artifacts',\n",
       " 'artificial-intelligence',\n",
       " 'ascii',\n",
       " 'asn.1',\n",
       " 'asp-classic',\n",
       " 'asp.net',\n",
       " 'asp.net-2.0',\n",
       " 'asp.net-ajax',\n",
       " 'asp.net-blazor',\n",
       " 'asp.net-core',\n",
       " 'asp.net-core-1.0',\n",
       " 'asp.net-core-2.1',\n",
       " 'asp.net-core-3.0',\n",
       " 'asp.net-core-3.1',\n",
       " 'asp.net-core-5.0',\n",
       " 'asp.net-core-mvc',\n",
       " 'asp.net-core-webapi',\n",
       " 'asp.net-identity',\n",
       " 'asp.net-membership',\n",
       " 'asp.net-mvc',\n",
       " 'asp.net-mvc-2',\n",
       " 'asp.net-mvc-3',\n",
       " 'asp.net-mvc-4',\n",
       " 'asp.net-mvc-5',\n",
       " 'asp.net-mvc-partialview',\n",
       " 'asp.net-web-api',\n",
       " 'asp.net-web-api-routing',\n",
       " 'aspect-ratio',\n",
       " 'aspectj',\n",
       " 'aspell',\n",
       " 'assemblies',\n",
       " 'assembly',\n",
       " 'assert',\n",
       " 'assignment-operator',\n",
       " 'associated-types',\n",
       " 'associations',\n",
       " 'associative-array',\n",
       " 'asymptotic-complexity',\n",
       " 'async-await',\n",
       " 'asynchronous',\n",
       " 'at-job',\n",
       " 'atlassian-sourcetree',\n",
       " 'atomic',\n",
       " 'atomicity',\n",
       " 'att',\n",
       " 'attachment',\n",
       " 'attributeerror',\n",
       " 'attributes',\n",
       " 'audio',\n",
       " 'audit',\n",
       " 'auth0',\n",
       " 'authentication',\n",
       " 'authorization',\n",
       " 'auto',\n",
       " 'auto-increment',\n",
       " 'auto-indent',\n",
       " 'autoboxing',\n",
       " 'autocmd',\n",
       " 'autocommit',\n",
       " 'autocomplete',\n",
       " 'autoconf',\n",
       " 'autodoc',\n",
       " 'autofac',\n",
       " 'autoit',\n",
       " 'autolayout',\n",
       " 'automapper',\n",
       " 'automated-refactoring',\n",
       " 'automated-tests',\n",
       " 'automatic-ref-counting',\n",
       " 'automation',\n",
       " 'autosar',\n",
       " 'autoscaling',\n",
       " 'autosize',\n",
       " 'autosuggest',\n",
       " 'autovivification',\n",
       " 'autowired',\n",
       " 'average',\n",
       " 'avfoundation',\n",
       " 'avr-gcc',\n",
       " 'avx',\n",
       " 'awk',\n",
       " 'aws-amplify',\n",
       " 'aws-api-gateway',\n",
       " 'aws-cdk',\n",
       " 'aws-cli',\n",
       " 'aws-codebuild',\n",
       " 'aws-java-sdk',\n",
       " 'aws-lambda',\n",
       " 'aws-lambda-layers',\n",
       " 'aws-sdk',\n",
       " 'aws-sdk-nodejs',\n",
       " 'aws-sts',\n",
       " 'awt',\n",
       " 'axios',\n",
       " 'axis',\n",
       " 'axis-labels',\n",
       " 'azure',\n",
       " 'azure-active-directory',\n",
       " 'azure-ad-b2c',\n",
       " 'azure-application-insights',\n",
       " 'azure-automation',\n",
       " 'azure-blob-storage',\n",
       " 'azure-cli',\n",
       " 'azure-cloud-services',\n",
       " 'azure-cosmosdb',\n",
       " 'azure-databricks',\n",
       " 'azure-devops',\n",
       " 'azure-devops-rest-api',\n",
       " 'azure-eventhub',\n",
       " 'azure-functions',\n",
       " 'azure-pipelines',\n",
       " 'azure-resource-manager',\n",
       " 'azure-rest-api',\n",
       " 'azure-sql-database',\n",
       " 'azure-storage',\n",
       " 'azure-storage-blobs',\n",
       " 'azure-storage-files',\n",
       " 'azure-web-roles',\n",
       " 'azure-webjobs',\n",
       " 'babel-jest',\n",
       " 'babeljs',\n",
       " 'back',\n",
       " 'back-button',\n",
       " 'backbone-events',\n",
       " 'backbone-model',\n",
       " 'backbone-views',\n",
       " 'backbone.js',\n",
       " 'backend',\n",
       " 'background',\n",
       " 'background-color',\n",
       " 'background-image',\n",
       " 'background-process',\n",
       " 'background-service',\n",
       " 'background-task',\n",
       " 'backgroundworker',\n",
       " 'backpressure',\n",
       " 'backpropagation',\n",
       " 'backslash',\n",
       " 'backspace',\n",
       " 'backticks',\n",
       " 'backtracking',\n",
       " 'backup',\n",
       " 'backwards-compatibility',\n",
       " 'badpaddingexception',\n",
       " 'bag',\n",
       " 'bandpass-filter',\n",
       " 'bandwidth',\n",
       " 'bar-chart',\n",
       " 'barcode',\n",
       " 'bare-metal',\n",
       " 'bareword',\n",
       " 'barrier',\n",
       " 'base',\n",
       " 'base-class',\n",
       " 'base36',\n",
       " 'base64',\n",
       " 'bash',\n",
       " 'bash-trap',\n",
       " 'basic',\n",
       " 'basic-authentication',\n",
       " 'batch-file',\n",
       " 'batch-rename',\n",
       " 'bc',\n",
       " 'bcd',\n",
       " 'bcmath',\n",
       " 'bcp',\n",
       " 'bdd',\n",
       " 'bean-validation',\n",
       " 'beautifulsoup',\n",
       " 'behaviorsubject',\n",
       " 'benchmarking',\n",
       " 'bert-language-model',\n",
       " 'between',\n",
       " 'big-o',\n",
       " 'bigdata',\n",
       " 'bigdecimal',\n",
       " 'biginteger',\n",
       " 'bignum',\n",
       " 'bigtable',\n",
       " 'binary',\n",
       " 'binary-data',\n",
       " 'binary-decision-diagram',\n",
       " 'binary-heap',\n",
       " 'binary-search',\n",
       " 'binary-search-tree',\n",
       " 'binary-tree',\n",
       " 'binaryfiles',\n",
       " 'binaryformatter',\n",
       " 'bind',\n",
       " 'binding',\n",
       " 'bing',\n",
       " 'bioinformatics',\n",
       " 'bios',\n",
       " 'bison',\n",
       " 'bit',\n",
       " 'bit-manipulation',\n",
       " 'bit-shift',\n",
       " 'bitarray',\n",
       " 'bitbucket',\n",
       " 'bitconverter',\n",
       " 'bitcount',\n",
       " 'bitmap',\n",
       " 'bitmask',\n",
       " 'bits',\n",
       " 'bitset',\n",
       " 'bitwise-and',\n",
       " 'bitwise-operators',\n",
       " 'blackberry',\n",
       " 'blade',\n",
       " 'blas',\n",
       " 'blazor',\n",
       " 'blazor-client-side',\n",
       " 'blazor-server-side',\n",
       " 'blazor-webassembly',\n",
       " 'blind',\n",
       " 'blobstore',\n",
       " 'block',\n",
       " 'blocking',\n",
       " 'blogdown',\n",
       " 'bluebird',\n",
       " 'bluecove',\n",
       " 'bluetooth',\n",
       " 'blur',\n",
       " 'boggle',\n",
       " 'boolean',\n",
       " 'boolean-expression',\n",
       " 'boolean-logic',\n",
       " 'boost',\n",
       " 'boost-asio',\n",
       " 'boost-bind',\n",
       " 'boost-preprocessor',\n",
       " 'bootstrap-4',\n",
       " 'bootstrap-datepicker',\n",
       " 'bootstrap-modal',\n",
       " 'bootstrap-vue',\n",
       " 'bootstrapvalidator',\n",
       " 'border',\n",
       " 'borrow-checker',\n",
       " 'borrowing',\n",
       " 'boto',\n",
       " 'bots',\n",
       " 'bottom-sheet',\n",
       " 'bouncycastle',\n",
       " 'bounds',\n",
       " 'boxing',\n",
       " 'boxplot',\n",
       " 'braced-init-list',\n",
       " 'brainfuck',\n",
       " 'branch',\n",
       " 'branch-prediction',\n",
       " 'branching-and-merging',\n",
       " 'breadth-first-search',\n",
       " 'break',\n",
       " 'breakpoints',\n",
       " 'bresenham',\n",
       " 'brk',\n",
       " 'browser',\n",
       " 'browser-detection',\n",
       " 'browser-feature-detection',\n",
       " 'buffer',\n",
       " 'buffer-overflow',\n",
       " 'bufferedwriter',\n",
       " 'buffering',\n",
       " 'build',\n",
       " 'build-automation',\n",
       " 'build-process',\n",
       " 'build-time',\n",
       " 'build-variant',\n",
       " 'build.gradle',\n",
       " 'builder',\n",
       " 'building',\n",
       " 'buildout',\n",
       " 'built-in',\n",
       " 'bulkinsert',\n",
       " 'bundle',\n",
       " 'bundler',\n",
       " 'business-intelligence',\n",
       " 'business-logic',\n",
       " 'busybox',\n",
       " 'button',\n",
       " 'byte',\n",
       " 'bytearray',\n",
       " 'bytecode',\n",
       " 'bytecode-manipulation',\n",
       " 'c',\n",
       " 'c#',\n",
       " 'c#-2.0',\n",
       " 'c#-3.0',\n",
       " 'c#-4.0',\n",
       " 'c#-6.0',\n",
       " 'c#-8.0',\n",
       " 'c#-9.0',\n",
       " 'c#-to-f#',\n",
       " 'c++',\n",
       " 'c++-cli',\n",
       " 'c++-concepts',\n",
       " 'c++-coroutine',\n",
       " 'c++-faq',\n",
       " 'c++-standard-library',\n",
       " 'c++03',\n",
       " 'c++11',\n",
       " 'c++14',\n",
       " 'c++17',\n",
       " 'c++20',\n",
       " 'c++builder',\n",
       " 'c-preprocessor',\n",
       " 'c-standard-library',\n",
       " 'c-strings',\n",
       " 'c10k',\n",
       " 'c11',\n",
       " 'c99',\n",
       " 'cabal',\n",
       " 'cache-control',\n",
       " 'caching',\n",
       " 'cad',\n",
       " 'cairo',\n",
       " 'cakephp',\n",
       " 'cakephp-1.3',\n",
       " 'cakephp-2.0',\n",
       " 'cakephp-2.1',\n",
       " 'cakephp-3.0',\n",
       " 'cakephp-model',\n",
       " 'calayer',\n",
       " 'calculation',\n",
       " 'calendar',\n",
       " 'call',\n",
       " 'callable',\n",
       " 'callback',\n",
       " 'callstack',\n",
       " 'camelcasing',\n",
       " 'camera',\n",
       " 'camera-roll',\n",
       " 'can-bus',\n",
       " 'cancan',\n",
       " 'cancellation-token',\n",
       " 'canonical-name',\n",
       " 'canvas',\n",
       " 'capistrano',\n",
       " 'captcha',\n",
       " 'carousel',\n",
       " 'carrierwave',\n",
       " 'cart',\n",
       " 'cartesian-product',\n",
       " 'cas',\n",
       " 'cascade',\n",
       " 'case',\n",
       " 'case-folding',\n",
       " 'case-insensitive',\n",
       " 'case-statement',\n",
       " 'case-tools',\n",
       " 'case-when',\n",
       " 'cashapelayer',\n",
       " 'cassandra',\n",
       " 'cassandra-3.0',\n",
       " 'cassini',\n",
       " 'casting',\n",
       " 'castle-activerecord',\n",
       " 'castle-windsor',\n",
       " 'cat',\n",
       " 'catch2',\n",
       " 'catextlayer',\n",
       " 'cbind',\n",
       " 'cbperipheral',\n",
       " 'cctray',\n",
       " 'cd',\n",
       " 'cdi',\n",
       " 'ceil',\n",
       " 'celery',\n",
       " 'cell',\n",
       " 'cell-array',\n",
       " 'center',\n",
       " 'centering',\n",
       " 'centos',\n",
       " 'centos7',\n",
       " 'certificate',\n",
       " 'cfloop',\n",
       " 'cgal',\n",
       " 'cgfloat',\n",
       " 'cgi',\n",
       " 'cgimage',\n",
       " 'cgsize',\n",
       " 'chai',\n",
       " 'chain-of-responsibility',\n",
       " 'chaining',\n",
       " 'change-management',\n",
       " 'change-password',\n",
       " 'channelfactory',\n",
       " 'char',\n",
       " 'character',\n",
       " 'character-encoding',\n",
       " 'chart.js',\n",
       " 'charts',\n",
       " 'chat',\n",
       " 'chatroom',\n",
       " 'chatterbot',\n",
       " 'check-constraints',\n",
       " 'checkbox',\n",
       " 'checked',\n",
       " 'checkmark',\n",
       " 'cheminformatics',\n",
       " 'cherrypy',\n",
       " 'chess',\n",
       " 'chi-squared',\n",
       " 'chrono',\n",
       " 'cil',\n",
       " 'circular-buffer',\n",
       " 'circular-list',\n",
       " 'circular-reference',\n",
       " 'citrix',\n",
       " 'cjk',\n",
       " 'ckeditor',\n",
       " 'ckfinder',\n",
       " 'clang',\n",
       " 'clang-static-analyzer',\n",
       " 'class',\n",
       " 'class-design',\n",
       " 'class-diagram',\n",
       " 'class-library',\n",
       " 'class-members',\n",
       " 'class-method',\n",
       " 'classcastexception',\n",
       " 'classification',\n",
       " 'classloader',\n",
       " 'classpath',\n",
       " 'click',\n",
       " 'clickablespan',\n",
       " 'clickjacking',\n",
       " 'clickonce',\n",
       " 'client',\n",
       " 'client-server',\n",
       " 'client-side-scripting',\n",
       " 'client-side-validation',\n",
       " 'clientid',\n",
       " 'clion',\n",
       " 'clipboard',\n",
       " 'cllocationmanager',\n",
       " 'clog',\n",
       " 'clojure',\n",
       " 'clojure-java-interop',\n",
       " 'clojurescript',\n",
       " 'clone',\n",
       " 'cloneable',\n",
       " 'closest',\n",
       " 'closures',\n",
       " 'cloud-hosting',\n",
       " 'cloudkit',\n",
       " 'clpfd',\n",
       " 'clr',\n",
       " 'clrs',\n",
       " 'cluster-analysis',\n",
       " 'cluster-computing',\n",
       " 'cmake',\n",
       " 'cmd',\n",
       " 'cname',\n",
       " 'cni',\n",
       " 'co',\n",
       " 'cobertura',\n",
       " 'cocoa',\n",
       " 'cocoa-touch',\n",
       " 'cocoapods',\n",
       " 'codable',\n",
       " 'code-analysis',\n",
       " 'code-completion',\n",
       " 'code-contracts',\n",
       " 'code-coverage',\n",
       " 'code-design',\n",
       " 'code-duplication',\n",
       " 'code-first',\n",
       " 'code-formatting',\n",
       " 'code-generation',\n",
       " 'code-golf',\n",
       " 'code-injection',\n",
       " 'code-metrics',\n",
       " 'code-organization',\n",
       " 'code-readability',\n",
       " 'code-reuse',\n",
       " 'code-sharing',\n",
       " 'code-signing',\n",
       " 'code-signing-certificate',\n",
       " 'code-snippets',\n",
       " 'codeblocks',\n",
       " 'codec',\n",
       " 'codeigniter',\n",
       " 'codeigniter-4',\n",
       " 'codeplex',\n",
       " 'coding-style',\n",
       " 'coerce',\n",
       " 'coldfusion',\n",
       " 'coldfusion-2016',\n",
       " 'collapse',\n",
       " 'collation',\n",
       " 'collatz',\n",
       " 'collections',\n",
       " 'collectionview',\n",
       " 'collectionviewsource',\n",
       " 'collectors',\n",
       " 'collectstatic',\n",
       " 'color-blindness',\n",
       " 'color-picker',\n",
       " 'color-scheme',\n",
       " 'colors',\n",
       " 'columnsorting',\n",
       " 'com',\n",
       " 'com-interop',\n",
       " 'combinations',\n",
       " 'combinatorics',\n",
       " 'combine',\n",
       " 'combobox',\n",
       " 'comdlg32',\n",
       " 'comet',\n",
       " 'comma-operator',\n",
       " 'command',\n",
       " 'command-line',\n",
       " 'command-line-arguments',\n",
       " 'command-line-interface',\n",
       " 'command-pattern',\n",
       " 'command-prompt',\n",
       " 'command-substitution',\n",
       " 'comments',\n",
       " 'commerce',\n",
       " 'commit',\n",
       " 'commit-message',\n",
       " 'common-files',\n",
       " 'common-lisp',\n",
       " 'common-table-expression',\n",
       " 'commonsware',\n",
       " 'communication',\n",
       " 'compact-framework',\n",
       " 'comparable',\n",
       " 'comparator',\n",
       " 'compare',\n",
       " 'compare-and-swap',\n",
       " 'compareto',\n",
       " 'comparison',\n",
       " 'compatibility',\n",
       " 'compilation',\n",
       " 'compiler-bug',\n",
       " 'compiler-construction',\n",
       " 'compiler-errors',\n",
       " 'compiler-optimization',\n",
       " 'compiler-theory',\n",
       " 'compiler-warnings',\n",
       " 'complex-event-processing',\n",
       " 'complex-numbers',\n",
       " 'complexity-theory',\n",
       " 'components',\n",
       " 'composer-php',\n",
       " 'composition',\n",
       " 'compound-literals',\n",
       " 'compression',\n",
       " 'computational-geometry',\n",
       " 'computed-field',\n",
       " 'computer-science',\n",
       " 'computer-vision',\n",
       " 'concat',\n",
       " 'concatenation',\n",
       " 'conceptual-model',\n",
       " 'concurrency',\n",
       " 'concurrent-programming',\n",
       " 'concurrenthashmap',\n",
       " 'concurrentmodification',\n",
       " 'condition-variable',\n",
       " 'conditional',\n",
       " 'conditional-compilation',\n",
       " 'conditional-operator',\n",
       " 'conditional-statements',\n",
       " 'confidence-interval',\n",
       " 'config',\n",
       " 'configuration',\n",
       " 'connection',\n",
       " 'connection-pooling',\n",
       " 'connection-string',\n",
       " 'consistency',\n",
       " 'console',\n",
       " 'console-application',\n",
       " 'console.log',\n",
       " 'console.readline',\n",
       " 'consolidation',\n",
       " 'const-correctness',\n",
       " 'const-reference',\n",
       " 'constants',\n",
       " 'constexpr',\n",
       " 'constraint-layout-chains',\n",
       " 'constraints',\n",
       " 'constructor',\n",
       " 'consumer',\n",
       " 'contacts',\n",
       " 'container-data-type',\n",
       " 'containers',\n",
       " 'contains',\n",
       " 'content-management-system',\n",
       " 'content-security-policy',\n",
       " 'content-type',\n",
       " 'contenteditable',\n",
       " 'context-switch',\n",
       " 'contextmanager',\n",
       " 'continue',\n",
       " 'continuous-integration',\n",
       " 'contravariance',\n",
       " 'controller',\n",
       " 'controller-factory',\n",
       " 'controllers',\n",
       " 'controls',\n",
       " 'conv-neural-network',\n",
       " 'conventions',\n",
       " 'conversion-operator',\n",
       " 'converters',\n",
       " 'convex-hull',\n",
       " 'convex-optimization',\n",
       " 'convolution',\n",
       " 'cookiecontainer',\n",
       " 'cookiejar',\n",
       " 'cookielib',\n",
       " 'cookies',\n",
       " 'coordinates',\n",
       " 'copy',\n",
       " 'copy-assignment',\n",
       " 'copy-constructor',\n",
       " 'copying',\n",
       " 'corba',\n",
       " 'cordova',\n",
       " 'cordova-2.0.0',\n",
       " 'cordova-3',\n",
       " 'cordova-plugins',\n",
       " 'core',\n",
       " 'core-animation',\n",
       " 'core-audio',\n",
       " 'core-data',\n",
       " 'core-graphics',\n",
       " 'core-image',\n",
       " 'core-location',\n",
       " 'coredump',\n",
       " 'coreos',\n",
       " 'coronasdk',\n",
       " 'corpus',\n",
       " 'correctness',\n",
       " 'correlation',\n",
       " 'corrupt',\n",
       " 'cors',\n",
       " 'cortex-m3',\n",
       " 'cosine-similarity',\n",
       " 'couchapp',\n",
       " 'couchbase',\n",
       " 'couchdb',\n",
       " 'count',\n",
       " 'countdown',\n",
       " 'counting',\n",
       " ...]"
      ]
     },
     "metadata": {},
     "execution_count": 53
    }
   ],
   "metadata": {}
  },
  {
   "cell_type": "code",
   "execution_count": 54,
   "source": [
    "from sklearn.model_selection import train_test_split\r\n",
    "\r\n",
    "X = docs\r\n",
    "y = tags_mlb\r\n",
    "\r\n",
    "X_train, X_test, y_train, y_test = train_test_split(X, y, \r\n",
    "                                                    test_size=.25)"
   ],
   "outputs": [],
   "metadata": {
    "id": "h6nWjgcjE2A7"
   }
  },
  {
   "cell_type": "code",
   "execution_count": 55,
   "source": [
    "vectorizer = TfidfVectorizer(ngram_range =(1,1),\r\n",
    "                            tokenizer=tok,\r\n",
    "                            max_features=12000)\r\n",
    "vectorizer.fit(X_train)\r\n",
    "X_train_vec = vectorizer.transform(X_train)"
   ],
   "outputs": [],
   "metadata": {
    "id": "RYvKLJHQE2A8"
   }
  },
  {
   "cell_type": "code",
   "execution_count": 56,
   "source": [
    "X_test_vec = vectorizer.transform(X_test)"
   ],
   "outputs": [],
   "metadata": {}
  },
  {
   "cell_type": "markdown",
   "source": [
    "### b) Naive Bayes Classifier"
   ],
   "metadata": {
    "id": "1Z4BZaKRE2A-"
   }
  },
  {
   "cell_type": "code",
   "execution_count": 57,
   "source": [
    "from sklearn.multiclass import OneVsRestClassifier\r\n",
    "from sklearn.naive_bayes import MultinomialNB\r\n",
    "\r\n",
    "nb_clf = OneVsRestClassifier(MultinomialNB(fit_prior=True, \r\n",
    "                                           class_prior=None))\r\n",
    "nb_clf.fit(X_train_vec, y_train)"
   ],
   "outputs": [
    {
     "output_type": "execute_result",
     "data": {
      "text/html": [
       "<style>#sk-25242cc4-25f5-4e77-b896-c74fb97f6e75 {color: black;background-color: white;}#sk-25242cc4-25f5-4e77-b896-c74fb97f6e75 pre{padding: 0;}#sk-25242cc4-25f5-4e77-b896-c74fb97f6e75 div.sk-toggleable {background-color: white;}#sk-25242cc4-25f5-4e77-b896-c74fb97f6e75 label.sk-toggleable__label {cursor: pointer;display: block;width: 100%;margin-bottom: 0;padding: 0.2em 0.3em;box-sizing: border-box;text-align: center;}#sk-25242cc4-25f5-4e77-b896-c74fb97f6e75 div.sk-toggleable__content {max-height: 0;max-width: 0;overflow: hidden;text-align: left;background-color: #f0f8ff;}#sk-25242cc4-25f5-4e77-b896-c74fb97f6e75 div.sk-toggleable__content pre {margin: 0.2em;color: black;border-radius: 0.25em;background-color: #f0f8ff;}#sk-25242cc4-25f5-4e77-b896-c74fb97f6e75 input.sk-toggleable__control:checked~div.sk-toggleable__content {max-height: 200px;max-width: 100%;overflow: auto;}#sk-25242cc4-25f5-4e77-b896-c74fb97f6e75 div.sk-estimator input.sk-toggleable__control:checked~label.sk-toggleable__label {background-color: #d4ebff;}#sk-25242cc4-25f5-4e77-b896-c74fb97f6e75 div.sk-label input.sk-toggleable__control:checked~label.sk-toggleable__label {background-color: #d4ebff;}#sk-25242cc4-25f5-4e77-b896-c74fb97f6e75 input.sk-hidden--visually {border: 0;clip: rect(1px 1px 1px 1px);clip: rect(1px, 1px, 1px, 1px);height: 1px;margin: -1px;overflow: hidden;padding: 0;position: absolute;width: 1px;}#sk-25242cc4-25f5-4e77-b896-c74fb97f6e75 div.sk-estimator {font-family: monospace;background-color: #f0f8ff;margin: 0.25em 0.25em;border: 1px dotted black;border-radius: 0.25em;box-sizing: border-box;}#sk-25242cc4-25f5-4e77-b896-c74fb97f6e75 div.sk-estimator:hover {background-color: #d4ebff;}#sk-25242cc4-25f5-4e77-b896-c74fb97f6e75 div.sk-parallel-item::after {content: \"\";width: 100%;border-bottom: 1px solid gray;flex-grow: 1;}#sk-25242cc4-25f5-4e77-b896-c74fb97f6e75 div.sk-label:hover label.sk-toggleable__label {background-color: #d4ebff;}#sk-25242cc4-25f5-4e77-b896-c74fb97f6e75 div.sk-serial::before {content: \"\";position: absolute;border-left: 1px solid gray;box-sizing: border-box;top: 2em;bottom: 0;left: 50%;}#sk-25242cc4-25f5-4e77-b896-c74fb97f6e75 div.sk-serial {display: flex;flex-direction: column;align-items: center;background-color: white;}#sk-25242cc4-25f5-4e77-b896-c74fb97f6e75 div.sk-item {z-index: 1;}#sk-25242cc4-25f5-4e77-b896-c74fb97f6e75 div.sk-parallel {display: flex;align-items: stretch;justify-content: center;background-color: white;}#sk-25242cc4-25f5-4e77-b896-c74fb97f6e75 div.sk-parallel-item {display: flex;flex-direction: column;position: relative;background-color: white;}#sk-25242cc4-25f5-4e77-b896-c74fb97f6e75 div.sk-parallel-item:first-child::after {align-self: flex-end;width: 50%;}#sk-25242cc4-25f5-4e77-b896-c74fb97f6e75 div.sk-parallel-item:last-child::after {align-self: flex-start;width: 50%;}#sk-25242cc4-25f5-4e77-b896-c74fb97f6e75 div.sk-parallel-item:only-child::after {width: 0;}#sk-25242cc4-25f5-4e77-b896-c74fb97f6e75 div.sk-dashed-wrapped {border: 1px dashed gray;margin: 0.2em;box-sizing: border-box;padding-bottom: 0.1em;background-color: white;position: relative;}#sk-25242cc4-25f5-4e77-b896-c74fb97f6e75 div.sk-label label {font-family: monospace;font-weight: bold;background-color: white;display: inline-block;line-height: 1.2em;}#sk-25242cc4-25f5-4e77-b896-c74fb97f6e75 div.sk-label-container {position: relative;z-index: 2;text-align: center;}#sk-25242cc4-25f5-4e77-b896-c74fb97f6e75 div.sk-container {display: inline-block;position: relative;}</style><div id=\"sk-25242cc4-25f5-4e77-b896-c74fb97f6e75\" class\"sk-top-container\"><div class=\"sk-container\"><div class=\"sk-item sk-dashed-wrapped\"><div class=\"sk-label-container\"><div class=\"sk-label sk-toggleable\"><input class=\"sk-toggleable__control sk-hidden--visually\" id=\"5bcae0ee-9668-40b9-929d-ebdd42a464fc\" type=\"checkbox\" ><label class=\"sk-toggleable__label\" for=\"5bcae0ee-9668-40b9-929d-ebdd42a464fc\">OneVsRestClassifier</label><div class=\"sk-toggleable__content\"><pre>OneVsRestClassifier(estimator=MultinomialNB())</pre></div></div></div><div class=\"sk-parallel\"><div class=\"sk-parallel-item\"><div class=\"sk-item\"><div class=\"sk-serial\"><div class=\"sk-item\"><div class=\"sk-estimator sk-toggleable\"><input class=\"sk-toggleable__control sk-hidden--visually\" id=\"2ecd1aef-112b-4954-9651-3930f499a246\" type=\"checkbox\" ><label class=\"sk-toggleable__label\" for=\"2ecd1aef-112b-4954-9651-3930f499a246\">MultinomialNB</label><div class=\"sk-toggleable__content\"><pre>MultinomialNB()</pre></div></div></div></div></div></div></div></div></div></div>"
      ],
      "text/plain": [
       "OneVsRestClassifier(estimator=MultinomialNB())"
      ]
     },
     "metadata": {},
     "execution_count": 57
    }
   ],
   "metadata": {
    "id": "JRp78X9gE2A-"
   }
  },
  {
   "cell_type": "code",
   "execution_count": 58,
   "source": [
    "y_pred_nb = nb_clf.predict(X_test_vec)"
   ],
   "outputs": [],
   "metadata": {
    "id": "WUKGfkGUcinq"
   }
  },
  {
   "cell_type": "code",
   "execution_count": 37,
   "source": [
    "from nlp_module import print_score"
   ],
   "outputs": [],
   "metadata": {}
  },
  {
   "cell_type": "code",
   "execution_count": 59,
   "source": [
    "print_score(y_test, y_pred_nb)"
   ],
   "outputs": [
    {
     "output_type": "stream",
     "name": "stdout",
     "text": [
      "Hamming loss (Misclassification Ratio): 0.0006171473691517423\n",
      "Label-Based Accuracy: 0.004122125040492387\n",
      "Subset Accuracy:  0.00048590864917395527\n",
      "F1-score Micro:  0.00761059140637387\n",
      "F1-Score Macro:  8.02731108944942e-05\n"
     ]
    }
   ],
   "metadata": {
    "id": "QWp3YDhzcqBO"
   }
  },
  {
   "cell_type": "markdown",
   "source": [
    "- Grid Search"
   ],
   "metadata": {
    "id": "WGLDog8ec-eF"
   }
  },
  {
   "cell_type": "code",
   "execution_count": 40,
   "source": [
    "from sklearn.metrics import make_scorer, accuracy_score\r\n",
    "\r\n",
    "scorer_multilabel = make_scorer(accuracy_score,\r\n",
    "                                normalized=True,\r\n",
    "                                sample_weight=None)"
   ],
   "outputs": [],
   "metadata": {
    "id": "HCYVkBjg_oyF"
   }
  },
  {
   "cell_type": "code",
   "execution_count": null,
   "source": [
    "from sklearn.model_selection import GridSearchCV\r\n",
    "\r\n",
    "params = {\"estimator__alpha\": [0.3, 0.5, 0.7, 0.9, 1.0]}\r\n",
    "\r\n",
    "gridsearch_nb = GridSearchCV(estimator=nb_clf, \r\n",
    "                             param_grid=params, \r\n",
    "                             scoring=scorer_multilabel,\r\n",
    "                             cv=5,\r\n",
    "                             verbose = 2)\r\n",
    "gridsearch_nb.fit(X_train_vec, y_train)"
   ],
   "outputs": [],
   "metadata": {
    "id": "L0TSAxHB2RKV"
   }
  },
  {
   "cell_type": "code",
   "execution_count": null,
   "source": [
    "gridsearch_nb.best_estimator_"
   ],
   "outputs": [],
   "metadata": {
    "id": "A2lHiif33ame"
   }
  },
  {
   "cell_type": "code",
   "execution_count": null,
   "source": [
    "gridsearch_nb.best_params_"
   ],
   "outputs": [],
   "metadata": {
    "id": "JyHOmWdn3eop"
   }
  },
  {
   "cell_type": "code",
   "execution_count": null,
   "source": [
    "best_model_nb = gridsearch_nb.best_estimator_"
   ],
   "outputs": [],
   "metadata": {
    "id": "mPfkiASb37X6"
   }
  },
  {
   "cell_type": "code",
   "execution_count": null,
   "source": [
    "del y_pred_nb\r\n",
    "gc.collect()"
   ],
   "outputs": [],
   "metadata": {}
  },
  {
   "cell_type": "markdown",
   "source": [
    "- Model Evaluation"
   ],
   "metadata": {
    "id": "f5kgyPqF4BIc"
   }
  },
  {
   "cell_type": "code",
   "execution_count": null,
   "source": [
    "y_pred_nb = best_model_nb.predict(X_test_vec)"
   ],
   "outputs": [],
   "metadata": {
    "id": "-fiDHXl04C9o"
   }
  },
  {
   "cell_type": "code",
   "execution_count": null,
   "source": [
    "print_score(y_test, y_pred_nb)"
   ],
   "outputs": [],
   "metadata": {
    "id": "vyOCQYEe4Tnf"
   }
  },
  {
   "cell_type": "markdown",
   "source": [
    "### c) Support Vector Machine"
   ],
   "metadata": {
    "id": "IM1-gOauE2A7"
   }
  },
  {
   "cell_type": "code",
   "execution_count": null,
   "source": [
    "from sklearn.svm import SVC\r\n",
    "\r\n",
    "svm_clf = OneVsRestClassifier(SVC(random_state=42))\r\n",
    "svm_clf.fit(X_train_vec, y_train)"
   ],
   "outputs": [],
   "metadata": {
    "id": "pdlSMCdfE2A8"
   }
  },
  {
   "cell_type": "code",
   "execution_count": null,
   "source": [
    "y_pred_svm = svm_clf.predict(X_test_vec)"
   ],
   "outputs": [],
   "metadata": {
    "colab": {
     "base_uri": "https://localhost:8080/"
    },
    "id": "_XCKDsSfE2A8",
    "outputId": "ddca8469-7ae4-4b1e-aadd-c1644cae1641"
   }
  },
  {
   "cell_type": "code",
   "execution_count": null,
   "source": [
    "print_scores(y_test, y_pred_svm)"
   ],
   "outputs": [],
   "metadata": {
    "colab": {
     "base_uri": "https://localhost:8080/",
     "height": 490
    },
    "id": "4lYZ8vBIhdVY",
    "outputId": "e373e845-b837-4732-ad5b-32fbd422ecf3"
   }
  },
  {
   "cell_type": "code",
   "execution_count": null,
   "source": [
    "del y_pred_svm\n",
    "gc.collect()"
   ],
   "outputs": [],
   "metadata": {}
  },
  {
   "cell_type": "markdown",
   "source": [
    "## 4) Machine Learning for Multilabel Classification"
   ],
   "metadata": {}
  },
  {
   "cell_type": "markdown",
   "source": [
    "### a) Algorithm Adaptation approaches"
   ],
   "metadata": {}
  },
  {
   "cell_type": "code",
   "execution_count": null,
   "source": [
    "X_train_vec = X_train_vec.toarray()\n",
    "y_train = np.array(y_train)"
   ],
   "outputs": [],
   "metadata": {}
  },
  {
   "cell_type": "code",
   "execution_count": null,
   "source": [
    "X_test_vec = X_test_vec.toarray()\n",
    "y_test = np.array(y_test)"
   ],
   "outputs": [],
   "metadata": {}
  },
  {
   "cell_type": "markdown",
   "source": [
    "- Multilabel KNN"
   ],
   "metadata": {}
  },
  {
   "cell_type": "code",
   "execution_count": null,
   "source": [
    "from skmultilearn.adapt import MLkNN\n",
    "\n",
    "mlknn_clf = MLkNN()\n",
    "mlknn_clf.fit(X_train_vec, y_train)"
   ],
   "outputs": [],
   "metadata": {}
  },
  {
   "cell_type": "code",
   "execution_count": null,
   "source": [
    "y_pred = mlknn_clf.predict(X_test_vec)\n",
    "print_scores(y_test, y_pred)"
   ],
   "outputs": [],
   "metadata": {}
  },
  {
   "cell_type": "code",
   "execution_count": null,
   "source": [
    "parameters = {'k': range(6,12), \n",
    "              's': [0.7, 1.0]}\n",
    "\n",
    "\n",
    "gridsearch_mlknn = GridSearchCV(mlknn_clf, \n",
    "                   parameters, \n",
    "                   scoring=scorer_multilabel, \n",
    "                   verbose=2)\n",
    "gridsearch_mlknn.fit(X_train_vec,\n",
    "                     y_train)"
   ],
   "outputs": [],
   "metadata": {}
  },
  {
   "cell_type": "code",
   "execution_count": null,
   "source": [
    "gridsearch_mlknn.best_params_"
   ],
   "outputs": [],
   "metadata": {}
  },
  {
   "cell_type": "code",
   "execution_count": null,
   "source": [
    "best_model_mlknn = gridsearch_mlknn.best_estimator_"
   ],
   "outputs": [],
   "metadata": {}
  },
  {
   "cell_type": "code",
   "execution_count": null,
   "source": [
    "del y_pred\n",
    "gc.collect()"
   ],
   "outputs": [],
   "metadata": {}
  },
  {
   "cell_type": "code",
   "execution_count": null,
   "source": [
    "y_pred = best_model_mlknn.predict(X_test_vec)\n",
    "print_scores(y_test, y_pred)"
   ],
   "outputs": [],
   "metadata": {}
  },
  {
   "cell_type": "code",
   "execution_count": null,
   "source": [
    "del data\n",
    "del tags_mlb\n",
    "del tags\n",
    "del y_pred\n",
    "gc.collect()"
   ],
   "outputs": [],
   "metadata": {}
  },
  {
   "cell_type": "markdown",
   "source": [
    "## 5) Deep Learning for text classification"
   ],
   "metadata": {
    "id": "jMQi-xgfZwGr"
   }
  },
  {
   "cell_type": "markdown",
   "source": [
    "### a) Data Preparation"
   ],
   "metadata": {}
  },
  {
   "cell_type": "code",
   "execution_count": null,
   "source": [
    "data = pd.read_csv(path, encoding=\"utf-8\")\n",
    "data.head(3)"
   ],
   "outputs": [],
   "metadata": {}
  },
  {
   "cell_type": "code",
   "execution_count": null,
   "source": [
    "# remove < and > around Tags\n",
    "data[\"Tags\"] = data[\"Tags\"].replace({\"<\" : \" \"}, regex=True)\n",
    "data[\"Tags\"] = data[\"Tags\"].replace({\">\" : \",\"}, regex=True)\n",
    "data[\"Tags\"] = data[\"Tags\"].str.rstrip(',')"
   ],
   "outputs": [],
   "metadata": {}
  },
  {
   "cell_type": "code",
   "execution_count": null,
   "source": [
    "data[\"Body\"] = data[\"Body\"].str.lower()\n",
    "data[\"Body\"] = data[\"Body\"].apply(remove_stopwords)"
   ],
   "outputs": [],
   "metadata": {}
  },
  {
   "cell_type": "code",
   "execution_count": null,
   "source": [
    "data.dropna(inplace=True)"
   ],
   "outputs": [],
   "metadata": {}
  },
  {
   "cell_type": "code",
   "execution_count": null,
   "source": [
    "data = data.sample(frac=0.05, random_state=42)"
   ],
   "outputs": [],
   "metadata": {}
  },
  {
   "cell_type": "code",
   "execution_count": null,
   "source": [
    "docs = data[\"Title\"].values + \" \" + data[\"Body\"].values"
   ],
   "outputs": [],
   "metadata": {}
  },
  {
   "cell_type": "code",
   "execution_count": null,
   "source": [
    "tags = data[\"Tags\"].apply(lambda x: x[1:-1].split(','))"
   ],
   "outputs": [],
   "metadata": {}
  },
  {
   "cell_type": "code",
   "execution_count": null,
   "source": [
    "from sklearn.preprocessing import MultiLabelBinarizer\n",
    "\n",
    "mlb = MultiLabelBinarizer()\n",
    "\n",
    "tags_mlb = mlb.fit_transform(tags)"
   ],
   "outputs": [],
   "metadata": {}
  },
  {
   "cell_type": "code",
   "execution_count": null,
   "source": [
    "list(mlb.classes_)"
   ],
   "outputs": [],
   "metadata": {
    "scrolled": true
   }
  },
  {
   "cell_type": "code",
   "execution_count": null,
   "source": [
    "from sklearn.model_selection import train_test_split\n",
    "\n",
    "X = docs\n",
    "y = tags_mlb\n",
    "\n",
    "X_train, X_test, y_train, y_test = train_test_split(X, y, \n",
    "                                                    test_size=.25)"
   ],
   "outputs": [],
   "metadata": {}
  },
  {
   "cell_type": "code",
   "execution_count": null,
   "source": [
    "from tensorflow.keras.preprocessing.sequence import pad_sequences\n",
    "from tensorflow.keras.preprocessing.text import Tokenizer\n",
    "from tensorflow import convert_to_tensor"
   ],
   "outputs": [],
   "metadata": {
    "id": "LENMnp8CvrBl"
   }
  },
  {
   "cell_type": "code",
   "execution_count": null,
   "source": [
    "max_sequence_length = 300"
   ],
   "outputs": [],
   "metadata": {}
  },
  {
   "cell_type": "code",
   "execution_count": null,
   "source": [
    "import tensorflow as tf\n",
    "from tensorflow.keras.layers import TextVectorization\n",
    "\n",
    "vectorizer = TextVectorization(max_tokens=12000, output_sequence_length=300)\n",
    "text_ds = tf.data.Dataset.from_tensor_slices(X_train).batch(128)\n",
    "vectorizer.adapt(text_ds)"
   ],
   "outputs": [],
   "metadata": {}
  },
  {
   "cell_type": "code",
   "execution_count": null,
   "source": [
    "voc = vectorizer.get_vocabulary()\n",
    "word_index = dict(zip(voc, range(len(voc))))"
   ],
   "outputs": [],
   "metadata": {}
  },
  {
   "cell_type": "code",
   "execution_count": null,
   "source": [
    "X_train = vectorizer(np.array([[s] for s in X_train])).numpy()\n",
    "X_test = vectorizer(np.array([[s] for s in X_test])).numpy()\n",
    "\n",
    "y_train = np.array(y_train)\n",
    "y_test = np.array(y_test)"
   ],
   "outputs": [],
   "metadata": {}
  },
  {
   "cell_type": "code",
   "execution_count": null,
   "source": [
    "from tensorflow.keras import Sequential\n",
    "from tensorflow.keras.layers import Activation, Bidirectional, Dense, Embedding, Flatten, InputLayer, LSTM\n",
    "from tensorflow.keras.initializers import Constant\n",
    "from tensorflow.keras.optimizers import Adam, Nadam"
   ],
   "outputs": [],
   "metadata": {}
  },
  {
   "cell_type": "code",
   "execution_count": null,
   "source": [
    "vocab_size = 12000\n",
    "embedding_dim = 64\n",
    "max_length = 300"
   ],
   "outputs": [],
   "metadata": {}
  },
  {
   "cell_type": "markdown",
   "source": [
    "### b) Words Embedding: Introducing GloVe"
   ],
   "metadata": {}
  },
  {
   "cell_type": "code",
   "execution_count": null,
   "source": [
    "path_to_glove_file = 'datasets/glove.840B.300d.txt'"
   ],
   "outputs": [],
   "metadata": {}
  },
  {
   "cell_type": "code",
   "execution_count": null,
   "source": [
    "warnings.filterwarnings(\"ignore\")\n",
    "\n",
    "embeddings_index = {}\n",
    "with open(path_to_glove_file, encoding=\"utf-8\") as f:\n",
    "    for line in f:\n",
    "        word, coefs = line.split(maxsplit=1)\n",
    "        coefs = np.fromstring(coefs, \"f\", sep=\" \")\n",
    "        embeddings_index[word] = coefs\n",
    "\n",
    "print(\"Found %s word vectors.\" % len(embeddings_index))"
   ],
   "outputs": [],
   "metadata": {}
  },
  {
   "cell_type": "code",
   "execution_count": null,
   "source": [
    "num_tokens = len(voc) + 2\n",
    "hits = 0\n",
    "misses = 0\n",
    "\n",
    "# Prepare embedding matrix\n",
    "embedding_matrix = np.zeros((num_tokens, embedding_dim))\n",
    "for word, i in word_index.items():\n",
    "    embedding_vector = embeddings_index.get(word)\n",
    "    if embedding_vector is not None:\n",
    "        # Words not found in embedding index will be all-zeros.\n",
    "        # This includes the representation for \"padding\" and \"OOV\"\n",
    "        embedding_vector = embedding_matrix[i]\n",
    "        hits += 1\n",
    "    else:\n",
    "        misses += 1\n",
    "print(\"Converted %d words (%d misses)\" % (hits, misses))"
   ],
   "outputs": [],
   "metadata": {}
  },
  {
   "cell_type": "markdown",
   "source": [
    "### c) Building Model"
   ],
   "metadata": {}
  },
  {
   "cell_type": "code",
   "execution_count": null,
   "source": [
    "def build_model():\n",
    "    model = Sequential()\n",
    "    model.add(InputLayer(input_shape=(max_length, )))\n",
    "    model.add(Embedding(num_tokens,\n",
    "                    embedding_dim,\n",
    "                    embeddings_initializer=Constant(embedding_matrix),\n",
    "                    trainable=False))\n",
    "    model.add(LSTM(embedding_dim, \n",
    "                   activation=\"tanh\",\n",
    "                   return_sequences=True))\n",
    "    model.add(LSTM(embedding_dim, \n",
    "                   activation=\"tanh\",\n",
    "                   return_sequences=True))\n",
    "    model.add(Flatten())\n",
    "    model.add(Dense(y_train.shape[1], activation='sigmoid'))\n",
    "    \n",
    "    model.compile(loss = 'categorical_crossentropy', \n",
    "                  optimizer = Adam(0.001))\n",
    "    return model"
   ],
   "outputs": [],
   "metadata": {}
  },
  {
   "cell_type": "code",
   "execution_count": null,
   "source": [
    "model = build_model()"
   ],
   "outputs": [],
   "metadata": {}
  },
  {
   "cell_type": "code",
   "execution_count": null,
   "source": [
    "model.summary()"
   ],
   "outputs": [],
   "metadata": {}
  },
  {
   "cell_type": "code",
   "execution_count": null,
   "source": [
    "from tensorflow.keras.utils import plot_model\n",
    "plot_model(model, to_file='illustrations/lstm.png', show_shapes=True, show_layer_names=True)"
   ],
   "outputs": [],
   "metadata": {}
  },
  {
   "cell_type": "code",
   "execution_count": null,
   "source": [
    "epochs = 5\n",
    "batch_size = 64\n",
    "\n",
    "history = model.fit(X_train, y_train,\n",
    "                    epochs=epochs,\n",
    "                    batch_size=batch_size,\n",
    "                    validation_split=0.1,\n",
    "                    verbose=2)"
   ],
   "outputs": [],
   "metadata": {}
  },
  {
   "cell_type": "code",
   "execution_count": null,
   "source": [
    "plt.title('Loss')\n",
    "plt.plot(history.history['loss'], label='train')\n",
    "plt.plot(history.history['val_loss'], label='test')\n",
    "plt.legend()\n",
    "plt.show()"
   ],
   "outputs": [],
   "metadata": {}
  },
  {
   "cell_type": "code",
   "execution_count": null,
   "source": [
    "y_pred = model.predict(X_test)"
   ],
   "outputs": [],
   "metadata": {}
  },
  {
   "cell_type": "code",
   "execution_count": null,
   "source": [
    "print_scores(y_test, y_pred)"
   ],
   "outputs": [],
   "metadata": {}
  },
  {
   "cell_type": "code",
   "execution_count": null,
   "source": [
    "print(mlb.inverse_transform(y_pred))"
   ],
   "outputs": [],
   "metadata": {}
  },
  {
   "cell_type": "code",
   "execution_count": null,
   "source": [
    "print(mlb.inverse_transform(y_test))"
   ],
   "outputs": [],
   "metadata": {}
  },
  {
   "cell_type": "markdown",
   "source": [
    "### d) Tuning Hyperparameters"
   ],
   "metadata": {}
  },
  {
   "cell_type": "code",
   "execution_count": null,
   "source": [
    "import keras_tuner as kt"
   ],
   "outputs": [],
   "metadata": {}
  },
  {
   "cell_type": "code",
   "execution_count": null,
   "source": [
    "def build_model(hp):\n",
    "    model = Sequential()\n",
    "    model.add(InputLayer(input_shape=(max_length, )))\n",
    "    model.add(Embedding(num_tokens,\n",
    "                    embedding_dim,\n",
    "                    embeddings_initializer=Constant(embedding_matrix),\n",
    "                    trainable=False))\n",
    "    model.add(LSTM(units = hp.Int(\n",
    "                                'LSTM_1_units', \n",
    "                                min_value=32, \n",
    "                                max_value=512, \n",
    "                                step=32),\n",
    "                   activation = \"tanh\")\n",
    "    model.add(Flatten())\n",
    "    model.add(Dense(y_train.shape[1], \n",
    "                    activation = hp.Choice(\"activation_function\",\n",
    "                                           values=['sigmoid', \"softmax\"])))\n",
    "    \n",
    "    model.compile(loss = 'categorical_crossentropy', \n",
    "                  optimizer = Adam(hp.Choice(\"learning_rate\", values=[1e-2, 1e-3, 1e-4])),\n",
    "                  metrics = ['accuracy'])\n",
    "    return model"
   ],
   "outputs": [],
   "metadata": {}
  },
  {
   "cell_type": "code",
   "execution_count": null,
   "source": [
    "warnings.filterwarnings(\"ignore\")\n",
    "\n",
    "tuner = kt.BayesianOptimization(\n",
    "    build_model,\n",
    "    objective=\"val_accuracy\",\n",
    "    max_trials=3,\n",
    "    executions_per_trial=2,\n",
    "    overwrite=False,\n",
    "    seed = 42,\n",
    "    directory=\"output\",\n",
    "    project_name=\"optimization_LSTM\"\n",
    ")"
   ],
   "outputs": [],
   "metadata": {}
  },
  {
   "cell_type": "code",
   "execution_count": null,
   "source": [
    "tuner.search_space_summary()"
   ],
   "outputs": [],
   "metadata": {}
  },
  {
   "cell_type": "code",
   "execution_count": null,
   "source": [
    "tuner.search(X_train, y_train, epochs=2, validation_split=0.1)"
   ],
   "outputs": [],
   "metadata": {}
  },
  {
   "cell_type": "code",
   "execution_count": null,
   "source": [
    "tuner.results_summary()"
   ],
   "outputs": [],
   "metadata": {}
  },
  {
   "cell_type": "markdown",
   "source": [
    "**References**"
   ],
   "metadata": {}
  },
  {
   "cell_type": "markdown",
   "source": [
    "- https://colah.github.io/posts/2015-08-Understanding-LSTMs/"
   ],
   "metadata": {}
  }
 ],
 "metadata": {
  "colab": {
   "collapsed_sections": [],
   "machine_shape": "hm",
   "name": "P05_02_notebooktest.ipynb",
   "provenance": []
  },
  "interpreter": {
   "hash": "db691860837755bfd223dbb19bf59c90fd58faf4b85973e04a456a30cef6b76b"
  },
  "kernelspec": {
   "name": "python3",
   "display_name": "Python 3.8.11 64-bit ('base': conda)"
  },
  "language_info": {
   "codemirror_mode": {
    "name": "ipython",
    "version": 3
   },
   "file_extension": ".py",
   "mimetype": "text/x-python",
   "name": "python",
   "nbconvert_exporter": "python",
   "pygments_lexer": "ipython3",
   "version": "3.8.11"
  }
 },
 "nbformat": 4,
 "nbformat_minor": 1
}