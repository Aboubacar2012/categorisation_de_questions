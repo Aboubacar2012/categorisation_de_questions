{
<<<<<<< HEAD
 "cells": [
  {
   "cell_type": "markdown",
   "metadata": {
    "id": "GuJe3XwKE2Au"
   },
   "source": [
    "# Data Modelisation"
   ]
  },
  {
   "cell_type": "markdown",
   "metadata": {
    "id": "IGwRfawAE2Ax"
   },
   "source": [
    "- Configuration"
   ]
  },
  {
   "cell_type": "code",
   "execution_count": null,
   "metadata": {
    "colab": {
     "base_uri": "https://localhost:8080/"
    },
    "id": "KgqiXrBkE2Ay",
    "outputId": "44494f80-0735-445e-c0fd-26b89faf7618"
   },
   "outputs": [],
   "source": [
    "import warnings\n",
    "warnings.filterwarnings(\"ignore\")\n",
    "\n",
    "import pandas as pd\n",
    "import numpy as np \n",
    "import matplotlib.pyplot as plt \n",
    "import seaborn as sns\n",
    "from nlp_module import remove_stopwords, plot_top_words, tok, print_evaluation_scores\n",
    "import sklearn\n",
    "from sklearn.decomposition import NMF, LatentDirichletAllocation\n",
    "from sklearn.model_selection import RandomizedSearchCV, GridSearchCV\n",
    "from sklearn.feature_extraction.text import TfidfVectorizer, CountVectorizer\n",
    "import pyLDAvis\n",
    "import pyLDAvis.sklearn"
   ]
  },
  {
   "cell_type": "code",
   "execution_count": null,
   "metadata": {
    "id": "mwk8Ic2nE2Az"
   },
   "outputs": [],
   "source": [
    "sklearn.set_config(display=\"diagram\")"
   ]
  },
  {
   "cell_type": "markdown",
   "metadata": {
    "id": "asVPqMOFE2A0"
   },
   "source": [
    "## 1) Data preparation"
   ]
  },
  {
   "cell_type": "code",
   "execution_count": null,
   "metadata": {
    "id": "tDqVFfvBUqQ2"
   },
   "outputs": [],
   "source": [
    "path = \"datasets/posts_clean.csv\""
   ]
  },
  {
   "cell_type": "code",
   "execution_count": null,
   "metadata": {
    "colab": {
     "base_uri": "https://localhost:8080/"
    },
    "id": "xsMFT2TFE2A0",
    "outputId": "ae4f5937-4fd6-4344-d970-f2d4e3ecf2f4"
   },
   "outputs": [],
   "source": [
    "data = pd.read_csv(path)\n",
    "data.head(3)"
   ]
  },
  {
   "cell_type": "code",
   "execution_count": null,
   "metadata": {
    "id": "RijUErGPE2A1"
   },
   "outputs": [],
   "source": [
    "# remove < and > around Tags\n",
    "data[\"Tags\"] = data[\"Tags\"].replace({\"<\" : \" \"}, regex=True)\n",
    "data[\"Tags\"] = data[\"Tags\"].replace({\">\" : \" \"}, regex=True)"
   ]
  },
  {
   "cell_type": "code",
   "execution_count": null,
   "metadata": {
    "id": "6ZC0vEIBE2A1"
   },
   "outputs": [],
   "source": [
    "data[\"Body\"] = data[\"Body\"].str.lower()\n",
    "data[\"Body\"] = data[\"Body\"].apply(remove_stopwords)"
   ]
  },
  {
   "cell_type": "code",
   "execution_count": null,
   "metadata": {
    "colab": {
     "base_uri": "https://localhost:8080/"
    },
    "id": "19glpL9JE2A2",
    "outputId": "65552952-9c41-4d6e-f67e-5288903d1945"
   },
   "outputs": [],
   "source": [
    "data.isnull().mean()"
   ]
  },
  {
   "cell_type": "code",
   "execution_count": null,
   "metadata": {
    "id": "qoF4du4HE2A2"
   },
   "outputs": [],
   "source": [
    "data.dropna(inplace=True)"
   ]
  },
  {
   "cell_type": "code",
   "execution_count": null,
   "metadata": {
    "colab": {
     "base_uri": "https://localhost:8080/",
     "height": 142
    },
    "id": "m2CJblVrE2A2",
    "outputId": "879459d4-a3ec-4cd2-f4cd-b87ad91b52b5",
    "scrolled": true
   },
   "outputs": [],
   "source": [
    "data.head(3)"
   ]
  },
  {
   "cell_type": "code",
   "execution_count": null,
   "metadata": {
    "id": "s0pNdsLe6Hmi"
   },
   "outputs": [],
   "source": [
    "data = data.sample(frac=0.1, random_state=42)"
   ]
  },
  {
   "cell_type": "code",
   "execution_count": null,
   "metadata": {
    "id": "sVf6Xp9ZE2A3"
   },
   "outputs": [],
   "source": [
    "docs = data[\"Title\"] + \" \" + data[\"Body\"]"
   ]
  },
  {
   "cell_type": "code",
   "execution_count": null,
   "metadata": {
    "id": "0QFLJlyDE2A3"
   },
   "outputs": [],
   "source": [
    "tfidf_vectorizer = TfidfVectorizer(max_features=12000)\n",
    "tfidf = tfidf_vectorizer.fit_transform(docs)\n",
    "tfidf_feature_names = tfidf_vectorizer.get_feature_names()"
   ]
  },
  {
   "cell_type": "code",
   "execution_count": null,
   "metadata": {
    "colab": {
     "base_uri": "https://localhost:8080/"
    },
    "id": "csQwUl47E2A3",
    "outputId": "5b006133-b0dc-483b-83be-4b8770daee5c"
   },
   "outputs": [],
   "source": [
    "# Materialize the sparse data\n",
    "data_dense = tfidf.todense()\n",
    "\n",
    "# Compute Sparsicity = Percentage of Non-Zero cells\n",
    "print(\"Sparsicity: \", (((data_dense > 0).sum()/data_dense.size)*100).round(3), \"%\")"
   ]
  },
  {
   "cell_type": "markdown",
   "metadata": {
    "id": "tE5jNqVCE2A3"
   },
   "source": [
    "## 2) Topic Modelling"
   ]
  },
  {
   "cell_type": "markdown",
   "metadata": {
    "id": "JpXeVglQE2A4"
   },
   "source": [
    "### a) Non Negative Matrix Factorization (NMF)"
   ]
  },
  {
   "cell_type": "code",
   "execution_count": null,
   "metadata": {
    "id": "Mg208sOaE2A4"
   },
   "outputs": [],
   "source": [
    "best_num_topics = 10"
   ]
  },
  {
   "cell_type": "code",
   "execution_count": null,
   "metadata": {
    "id": "jgAa_Ne-E2A4"
   },
   "outputs": [],
   "source": [
    "nmf = NMF(n_components=best_num_topics,\n",
    "          random_state=42,\n",
    "          alpha=0.1)"
   ]
  },
  {
   "cell_type": "code",
   "execution_count": null,
   "metadata": {
    "colab": {
     "base_uri": "https://localhost:8080/"
    },
    "id": "7cpyRlb_E2A4",
    "outputId": "9167b6d4-247f-4399-d45d-631718f5848a"
   },
   "outputs": [],
   "source": [
    "nmf.fit(tfidf)"
   ]
  },
  {
   "cell_type": "code",
   "execution_count": null,
   "metadata": {
    "colab": {
     "base_uri": "https://localhost:8080/",
     "height": 834
    },
    "id": "5AykfjRSE2A4",
    "outputId": "47c9c2fc-08ee-4654-fcc1-d407ec9363b6"
   },
   "outputs": [],
   "source": [
    "plot_top_words(nmf, tfidf_feature_names, n_top_words=30, title=\"Topics in NMF model\")"
   ]
  },
  {
   "cell_type": "markdown",
   "metadata": {
    "id": "pr5YB47sE2A5"
   },
   "source": [
    "### b) Latent Dirichlet Allocation (LDA)"
   ]
  },
  {
   "cell_type": "code",
   "execution_count": null,
   "metadata": {
    "id": "XXHxnLSP6qmr"
   },
   "outputs": [],
   "source": [
    "bow_vectorizer = CountVectorizer(ngram_range = (1,1),\n",
    "                                 tokenizer=tok)\n",
    "docs_bow = bow_vectorizer.fit_transform(docs)"
   ]
  },
  {
   "cell_type": "code",
   "execution_count": null,
   "metadata": {
    "id": "9_cbH_7IE2A5"
   },
   "outputs": [],
   "source": [
    "lda = LatentDirichletAllocation(random_state=42,\n",
    "                                batch_size=400)"
   ]
  },
  {
   "cell_type": "code",
   "execution_count": null,
   "metadata": {
    "colab": {
     "base_uri": "https://localhost:8080/"
    },
    "id": "LIojTkKJE2A5",
    "outputId": "b8616950-09c6-4fc4-b7b4-0e48fb192ed4"
   },
   "outputs": [],
   "source": [
    "params = {'n_components' : [7, 8, 9, 10, 11, 12],\n",
    "          \"learning_decay\" : [0.5, 0.6, 0.7, 0.8, 0.9, 1.0],\n",
    "          \"learning_method\" : [\"batch\", \"online\"]}\n",
    "\n",
    "gridsearch_lda = GridSearchCV(lda,\n",
    "                              param_grid=params,\n",
    "                              cv=5,\n",
    "                              verbose=1)\n",
    "gridsearch_lda.fit(docs_bow)"
   ]
  },
  {
   "cell_type": "code",
   "execution_count": null,
   "metadata": {
    "colab": {
     "base_uri": "https://localhost:8080/"
    },
    "id": "Io24pqXHE2A5",
    "outputId": "f3230818-5a04-43b5-98e8-b448b7354f47"
   },
   "outputs": [],
   "source": [
    "best_lda_model = gridsearch_lda.best_estimator_\n",
    "\n",
    "print(\"Best Model's Params: \", gridsearch_lda.best_params_)\n",
    "print(\"Best Log Likelihood Score: \", gridsearch_lda.best_score_)"
   ]
  },
  {
   "cell_type": "code",
   "execution_count": null,
   "metadata": {
    "colab": {
     "base_uri": "https://localhost:8080/",
     "height": 1000
    },
    "id": "Amo_yjMPE2A6",
    "outputId": "a0bb3094-d2d2-44f6-baf5-dc202fc089eb"
   },
   "outputs": [],
   "source": [
    "# Visualize the topics\n",
    "pyLDAvis.enable_notebook()\n",
    "panel = pyLDAvis.sklearn.prepare(best_lda_model, docs_bow, bow_vectorizer, mds='tsne')\n",
    "panel"
   ]
  },
  {
   "cell_type": "markdown",
   "metadata": {
    "id": "gOnnE1zYE2A6"
   },
   "source": [
    "- Topic 1 : OS - Top topic\n",
    "- Topic 2 : Script Language/Python\n",
    "- Topic 3 : Web language/Front-end\n",
    "- Topic 4 : Java\n",
    "- Topic 5 : Web language/Back-end\n",
    "- Topic 6 : SQL\n",
    "- Topic 7 : Script Language"
   ]
  },
  {
   "cell_type": "markdown",
   "metadata": {
    "id": "1uxDs96QE2A7"
   },
   "source": [
    "## 3) Supervised learning for text classification"
   ]
  },
  {
   "cell_type": "markdown",
   "metadata": {
    "id": "A92fAMVhfR7P"
   },
   "source": [
    "- CRF (Conditional Random Fields)\n",
    "- Données séquentielles"
   ]
  },
  {
   "cell_type": "code",
   "execution_count": null,
   "metadata": {
    "id": "UMuX7ti4e_DV"
   },
   "outputs": [],
   "source": [
    "tags = data[[\"Id\", \"Tags\"]]"
   ]
  },
  {
   "cell_type": "code",
   "execution_count": null,
   "metadata": {
    "colab": {
     "base_uri": "https://localhost:8080/",
     "height": 203
    },
    "id": "yn3nPjgQoV7D",
    "outputId": "cc7e2d43-674a-4335-aee1-543e2f9d697d"
   },
   "outputs": [],
   "source": [
    "tags = tags[\"Tags\"].str.split(expand=True)\n",
    "tags['Id'] = data[\"Id\"]\n",
    "tags.columns = [\"1st\", \"2nd\", \"3rd\", \"4th\", \"5th\", \"Id\"]\n",
    "tags = tags[[\"Id\", \"1st\", \"2nd\", \"3rd\", \"4th\", \"5th\"]]\n",
    "tags.head()"
   ]
  },
  {
   "cell_type": "code",
   "execution_count": null,
   "metadata": {
    "id": "Dy6YrvUx3se1"
   },
   "outputs": [],
   "source": [
    "tags.fillna(\"\",inplace=True)"
   ]
  },
  {
   "cell_type": "code",
   "execution_count": null,
   "metadata": {
    "id": "lxuG-0udhrea"
   },
   "outputs": [],
   "source": [
    "from sklearn.preprocessing import MultiLabelBinarizer\n",
    "\n",
    "mlb = MultiLabelBinarizer()\n",
    "\n",
    "new_tags=pd.DataFrame(mlb.fit_transform(tags[[\"1st\", \"2nd\", \"3rd\", \"4th\", \"5th\"]].values),\n",
    "                      columns=mlb.classes_,\n",
    "                      index=tags[\"Id\"])"
   ]
  },
  {
   "cell_type": "code",
   "execution_count": null,
   "metadata": {
    "id": "h6nWjgcjE2A7"
   },
   "outputs": [],
   "source": [
    "from sklearn.model_selection import train_test_split\n",
    "\n",
    "X = docs\n",
    "y = new_tags\n",
    "\n",
    "X_train, X_test, y_train, y_test = train_test_split(X, y, \n",
    "                                                    test_size=.25)"
   ]
  },
  {
   "cell_type": "markdown",
   "metadata": {
    "id": "IM1-gOauE2A7"
   },
   "source": [
    "### a) Support Vector Machine"
   ]
  },
  {
   "cell_type": "code",
   "execution_count": null,
   "metadata": {
    "id": "RYvKLJHQE2A8"
   },
   "outputs": [],
   "source": [
    "vectorizer = TfidfVectorizer(ngram_range =(1,1),\n",
    "                            tokenizer=tok,\n",
    "                            max_features=12000)\n",
    "vectorizer.fit(X_train)\n",
    "X_train_vec = vectorizer.transform(X_train)"
   ]
  },
  {
   "cell_type": "code",
   "execution_count": null,
   "metadata": {
    "id": "pdlSMCdfE2A8"
   },
   "outputs": [],
   "source": [
    "from sklearn.multiclass import OneVsRestClassifier\n",
    "from sklearn.svm import SVC\n",
    "\n",
    "svm_clf = OneVsRestClassifier(SVC(random_state=42))\n",
    "svm_clf.fit(X_train_vec, y_train)"
   ]
  },
  {
   "cell_type": "code",
   "execution_count": null,
   "metadata": {
    "colab": {
     "base_uri": "https://localhost:8080/"
    },
    "id": "_XCKDsSfE2A8",
    "outputId": "ddca8469-7ae4-4b1e-aadd-c1644cae1641"
   },
   "outputs": [],
   "source": [
    "X_test_vec = vectorizer.transform(X_test)\n",
    "y_pred = svm_clf.predict(X_test_vec)"
   ]
  },
  {
   "cell_type": "code",
   "execution_count": null,
   "metadata": {
    "colab": {
     "base_uri": "https://localhost:8080/",
     "height": 490
    },
    "id": "4lYZ8vBIhdVY",
    "outputId": "e373e845-b837-4732-ad5b-32fbd422ecf3"
   },
   "outputs": [],
   "source": [
    "print_evaluation_scores(y_test, y_pred)"
   ]
  },
  {
   "cell_type": "markdown",
   "metadata": {
    "id": "zQJKQE1-E2A9"
   },
   "source": [
    "- Grid Search CV"
   ]
  },
  {
   "cell_type": "code",
   "execution_count": null,
   "metadata": {
    "id": "HCYVkBjg_oyF"
   },
   "outputs": [],
   "source": [
    "from sklearn.metrics import make_scorer, f1_score\n",
    "\n",
    "scorer_multilabel = make_scorer(f1_score, average=\"weighted\")"
   ]
  },
  {
   "cell_type": "code",
   "execution_count": null,
   "metadata": {
    "colab": {
     "base_uri": "https://localhost:8080/"
    },
    "id": "HOgFMXU8E2A9",
    "outputId": "08764703-d76d-461d-9723-a3a47529723f"
   },
   "outputs": [],
   "source": [
    "import scipy.stats as stats\n",
    "\n",
    "params = {\"estimator__C\": stats.loguniform(1e-5, 100), \n",
    "          \"estimator__gamma\":[\"auto\", \"scale\"],\n",
    "          \"estimator__class_weight\" : [\"balanced\"]}\n",
    "\n",
    "rnd_search = RandomizedSearchCV(estimator=svm_clf, \n",
    "                           param_distributions=params, \n",
    "                           scoring=scorer_multilabel,\n",
    "                           cv=5,\n",
    "                           verbose=1)\n",
    "rnd_search.fit(X_train_vec, y_train)"
   ]
  },
  {
   "cell_type": "code",
   "execution_count": null,
   "metadata": {
    "id": "KmIUiJ2-E2A-"
   },
   "outputs": [],
   "source": [
    "rnd_search.best_estimator_"
   ]
  },
  {
   "cell_type": "code",
   "execution_count": null,
   "metadata": {
    "id": "opC9pDXXE2A-"
   },
   "outputs": [],
   "source": [
    "rnd_search.best_params_"
   ]
  },
  {
   "cell_type": "code",
   "execution_count": null,
   "metadata": {
    "id": "ZeqW3iWS9UEN"
   },
   "outputs": [],
   "source": [
    "params = {\"estimator__C\": [],\n",
    "          \"estimator__gamma\": [],\n",
    "          \"estimator__class_weight\" : []}\n",
    "\n",
    "gridsearch_svm = GridSearchCV(estimator=svm_clf, \n",
    "                             param_grid=params, \n",
    "                             scoring=scorer_multilabel,\n",
    "                             cv=5,\n",
    "                             verbose=1)\n",
    "gridsearch_svm.fit(X_train_vec, y_train)"
   ]
  },
  {
   "cell_type": "code",
   "execution_count": null,
   "metadata": {
    "id": "pqPRyENv9rT3"
   },
   "outputs": [],
   "source": [
    "gridsearch_svm.best_estimator_"
   ]
  },
  {
   "cell_type": "code",
   "execution_count": null,
   "metadata": {
    "id": "G8B34KrN9wTB"
   },
   "outputs": [],
   "source": [
    "gridsearch_svm.best_params_"
   ]
  },
  {
   "cell_type": "code",
   "execution_count": null,
   "metadata": {
    "id": "wQLqeSQL3loC"
   },
   "outputs": [],
   "source": [
    "best_model_svm = gridsearch_svm.best_estimator_"
   ]
  },
  {
   "cell_type": "markdown",
   "metadata": {
    "id": "b2z8vZJJ3jL8"
   },
   "source": [
    "- Model Evaluation"
   ]
  },
  {
   "cell_type": "code",
   "execution_count": null,
   "metadata": {
    "id": "dvCgxbnK3uka"
   },
   "outputs": [],
   "source": [
    "y_pred = best_model_svm.predict(X_test_vec)"
   ]
  },
  {
   "cell_type": "code",
   "execution_count": null,
   "metadata": {
    "id": "SswcdPuf3yzE"
   },
   "outputs": [],
   "source": [
    "print_evaluation_scores(y_test, y_pred)"
   ]
  },
  {
   "cell_type": "markdown",
   "metadata": {
    "id": "1Z4BZaKRE2A-"
   },
   "source": [
    "### b) Naive Bayes Classifier"
   ]
  },
  {
   "cell_type": "code",
   "execution_count": null,
   "metadata": {
    "id": "JRp78X9gE2A-"
   },
   "outputs": [],
   "source": [
    "from sklearn.naive_bayes import MultinomialNB\n",
    "\n",
    "nb_clf = OneVsRestClassifier(MultinomialNB(fit_prior=True, \n",
    "                                           class_prior=None))\n",
    "nb_clf.fit(X_train_vec, y_train)"
   ]
  },
  {
   "cell_type": "code",
   "execution_count": null,
   "metadata": {
    "id": "WUKGfkGUcinq"
   },
   "outputs": [],
   "source": [
    "y_pred_nb = nb_clf.predict(X_test_vec)"
   ]
  },
  {
   "cell_type": "code",
   "execution_count": null,
   "metadata": {
    "id": "QWp3YDhzcqBO"
   },
   "outputs": [],
   "source": [
    "print_evaluation_scores(y_test, y_pred_nb)"
   ]
  },
  {
   "cell_type": "markdown",
   "metadata": {
    "id": "WGLDog8ec-eF"
   },
   "source": [
    "- Grid Search"
   ]
  },
  {
   "cell_type": "code",
   "execution_count": null,
   "metadata": {
    "id": "L0TSAxHB2RKV"
   },
   "outputs": [],
   "source": [
    "params = {\"estimator__alpha\": [0.3, 0.5, 0.7, 0.9, 1.0]}\n",
    "\n",
    "gridsearch_nb = GridSearchCV(estimator=nb_clf, \n",
    "                             param_grid=params, \n",
    "                             scoring=scorer_multilabel,\n",
    "                             cv=5,\n",
    "                             verbose = 1)\n",
    "gridsearch_nb.fit(X_train_vec, y_train)"
   ]
  },
  {
   "cell_type": "code",
   "execution_count": null,
   "metadata": {
    "id": "A2lHiif33ame"
   },
   "outputs": [],
   "source": [
    "gridsearch_nb.best_estimator_"
   ]
  },
  {
   "cell_type": "code",
   "execution_count": null,
   "metadata": {
    "id": "JyHOmWdn3eop"
   },
   "outputs": [],
   "source": [
    "gridsearch_nb.best_params_"
   ]
  },
  {
   "cell_type": "code",
   "execution_count": null,
   "metadata": {
    "id": "mPfkiASb37X6"
   },
   "outputs": [],
   "source": [
    "best_model_nb = gridsearch_nb.best_estimator_"
   ]
  },
  {
   "cell_type": "markdown",
   "metadata": {
    "id": "f5kgyPqF4BIc"
   },
   "source": [
    "- Model Evaluation"
   ]
  },
  {
   "cell_type": "code",
   "execution_count": null,
   "metadata": {
    "id": "-fiDHXl04C9o"
   },
   "outputs": [],
   "source": [
    "y_pred_nb = best_model_nb.predict(X_test_vec)"
   ]
  },
  {
   "cell_type": "code",
   "execution_count": null,
   "metadata": {
    "id": "vyOCQYEe4Tnf"
   },
   "outputs": [],
   "source": [
    "print_evaluation_scores(y_test, y_pred_nb)"
   ]
  },
  {
   "cell_type": "markdown",
   "metadata": {
    "id": "jMQi-xgfZwGr"
   },
   "source": [
    "## 4) Deep Learning for text classification"
   ]
  },
  {
   "cell_type": "markdown",
   "metadata": {
    "id": "KAG5UcjAZ0di"
   },
   "source": [
    "#### a) Using Word2vec + LSTM"
   ]
  },
  {
   "cell_type": "code",
   "execution_count": null,
   "metadata": {
    "id": "LENMnp8CvrBl"
   },
   "outputs": [],
   "source": [
    "import string\n",
    "\n",
    "from keras.callbacks import LambdaCallback\n",
    "from keras.layers.recurrent import LSTM\n",
    "from keras.layers.embeddings import Embedding\n",
    "from keras.layers import Dense, Activation\n",
    "from keras.models import Sequential"
   ]
  },
  {
   "cell_type": "code",
   "execution_count": null,
   "metadata": {
    "id": "4T0VSfJnyCLW"
   },
   "outputs": [],
   "source": [
    "X = tokenizer.texts_to_sequences(docs)\n",
    "X = pad_sequences(X, maxlen=MAX_SEQUENCE_LENGTH)\n",
    "print('Shape of data tensor:', X.shape)"
   ]
  },
  {
   "cell_type": "markdown",
   "metadata": {
    "id": "7oWGC8WIrLAf"
   },
   "source": [
    "- Word2vec"
   ]
  },
  {
   "cell_type": "code",
   "execution_count": null,
   "metadata": {
    "id": "1HvhjNQ2wWNY"
   },
   "outputs": [],
   "source": [
    "documents = "
   ]
  },
  {
   "cell_type": "code",
   "execution_count": null,
   "metadata": {
    "id": "wFVPzaakvSlK"
   },
   "outputs": [],
   "source": [
    "sentences = [[word for word in document.lower().split()] for document in documents]"
   ]
  },
  {
   "cell_type": "code",
   "execution_count": null,
   "metadata": {
    "id": "v1ZI0DKxvF3e"
   },
   "outputs": [],
   "source": [
    "word_model = gensim.models.Word2Vec(sentences, vector_size=100, min_count=1, \n",
    "                                    window=5, iter=100)"
   ]
  },
  {
   "cell_type": "markdown",
   "metadata": {
    "id": "rjefcp0urNZ-"
   },
   "source": [
    "- LSTM"
   ]
  },
  {
   "cell_type": "code",
   "execution_count": null,
   "metadata": {
    "id": "XFw7cARLy5ef"
   },
   "outputs": [],
   "source": [
    "MAX_NB_WORDS = 12000\n",
    "MAX_SEQUENCE_LENGTH = \n",
    "EMBEDDING_DIM = 100"
   ]
  },
  {
   "cell_type": "code",
   "execution_count": null,
   "metadata": {
    "id": "D_8sgb7jxVW0"
   },
   "outputs": [],
   "source": [
    "model = Sequential()\n",
    "model.add(Embedding(MAX_NB_WORDS, \n",
    "                    EMBEDDING_DIM, \n",
    "                    input_length=X.shape[1]))\n",
    "model.add(SpatialDropout1D(0.2))\n",
    "model.add(LSTM(100, \n",
    "               dropout=0.2, \n",
    "               recurrent_dropout=0.2))\n",
    "model.add(Dense(13, activation='softmax'))\n",
    "model.compile(loss='categorical_crossentropy', \n",
    "              optimizer='adam', \n",
    "              metrics=['accuracy'])\n",
    "\n",
    "epochs = 5\n",
    "batch_size = 64\n",
    "\n",
    "history = model.fit(X_train, y_train,\n",
    "                    epochs=epochs,\n",
    "                    batch_size=batch_size,\n",
    "                    validation_split=0.1,\n",
    "                    callbacks=[EarlyStopping(monitor='val_loss',\n",
    "                                             patience=3,\n",
    "                                             min_delta=0.0001)])"
   ]
  },
  {
   "cell_type": "code",
   "execution_count": null,
   "metadata": {
    "id": "u8oSmDdayi7t"
   },
   "outputs": [],
   "source": [
    "accr = model.evaluate(X_test,Y_test)\n",
    "print('Test set\\n  Loss: {:0.3f}\\n  Accuracy: {:0.3f}'.format(accr[0],accr[1]))"
   ]
  },
  {
   "cell_type": "code",
   "execution_count": null,
   "metadata": {
    "id": "VY4Ue822ykD-"
   },
   "outputs": [],
   "source": [
    "plt.title('Loss')\n",
    "plt.plot(history.history['loss'], label='train')\n",
    "plt.plot(history.history['val_loss'], label='test')\n",
    "plt.legend()\n",
    "plt.show()"
   ]
  },
  {
   "cell_type": "code",
   "execution_count": null,
   "metadata": {
    "id": "7gu8urTByrDJ"
   },
   "outputs": [],
   "source": [
    "plt.title('Accuracy')\n",
    "plt.plot(history.history['acc'], label='train')\n",
    "plt.plot(history.history['val_acc'], label='test')\n",
    "plt.legend()\n",
    "plt.show();"
   ]
  }
 ],
 "metadata": {
  "colab": {
   "collapsed_sections": [],
   "machine_shape": "hm",
   "name": "P05_02_notebooktest.ipynb",
   "provenance": []
  },
  "interpreter": {
   "hash": "db691860837755bfd223dbb19bf59c90fd58faf4b85973e04a456a30cef6b76b"
  },
  "kernelspec": {
   "display_name": "Python 3 (ipykernel)",
   "language": "python",
   "name": "python3"
  },
  "language_info": {
   "codemirror_mode": {
    "name": "ipython",
    "version": 3
   },
   "file_extension": ".py",
   "mimetype": "text/x-python",
   "name": "python",
   "nbconvert_exporter": "python",
   "pygments_lexer": "ipython3",
   "version": "3.8.11"
  }
 },
 "nbformat": 4,
 "nbformat_minor": 1
}
=======
  "nbformat": 4,
  "nbformat_minor": 0,
  "metadata": {
    "colab": {
      "name": "P05_02_notebooktest.ipynb",
      "provenance": [],
      "collapsed_sections": [],
      "machine_shape": "hm",
      "include_colab_link": true
    },
    "interpreter": {
      "hash": "db691860837755bfd223dbb19bf59c90fd58faf4b85973e04a456a30cef6b76b"
    },
    "kernelspec": {
      "display_name": "Python 3 (ipykernel)",
      "language": "python",
      "name": "python3"
    },
    "language_info": {
      "codemirror_mode": {
        "name": "ipython",
        "version": 3
      },
      "file_extension": ".py",
      "mimetype": "text/x-python",
      "name": "python",
      "nbconvert_exporter": "python",
      "pygments_lexer": "ipython3",
      "version": "3.8.11"
    }
  },
  "cells": [
    {
      "cell_type": "markdown",
      "metadata": {
        "id": "view-in-github",
        "colab_type": "text"
      },
      "source": [
        "<a href=\"https://colab.research.google.com/github/Sylvariane/categorisation_de_questions/blob/main/P05_02_notebooktest.ipynb\" target=\"_parent\"><img src=\"https://colab.research.google.com/assets/colab-badge.svg\" alt=\"Open In Colab\"/></a>"
      ]
    },
    {
      "cell_type": "markdown",
      "metadata": {
        "id": "GuJe3XwKE2Au"
      },
      "source": [
        "# Data Modelisation"
      ]
    },
    {
      "cell_type": "markdown",
      "metadata": {
        "id": "IGwRfawAE2Ax"
      },
      "source": [
        "- Configuration"
      ]
    },
    {
      "cell_type": "code",
      "metadata": {
        "colab": {
          "base_uri": "https://localhost:8080/"
        },
        "id": "Ro2swD-kFspq",
        "outputId": "09d9227e-16cd-43b4-9c10-ae88fbb619e5"
      },
      "source": [
        "# connexion à Google Drive pour importer les dossiers\n",
        "from google.colab import drive\n",
        "drive.mount('/content/drive')"
      ],
      "execution_count": 1,
      "outputs": [
        {
          "output_type": "stream",
          "name": "stdout",
          "text": [
            "Mounted at /content/drive\n"
          ]
        }
      ]
    },
    {
      "cell_type": "code",
      "metadata": {
        "colab": {
          "base_uri": "https://localhost:8080/"
        },
        "id": "KgqiXrBkE2Ay",
        "outputId": "44494f80-0735-445e-c0fd-26b89faf7618"
      },
      "source": [
        "import warnings\n",
        "warnings.filterwarnings(\"ignore\")\n",
        "\n",
        "import pandas as pd\n",
        "import numpy as np \n",
        "import matplotlib.pyplot as plt \n",
        "import seaborn as sns\n",
        "#from nlp_module import remove_stopwords, plot_top_words\n",
        "import sklearn\n",
        "from nltk.tokenize.toktok import ToktokTokenizer\n",
        "from sklearn.decomposition import NMF, LatentDirichletAllocation\n",
        "from sklearn.model_selection import RandomizedSearchCV, GridSearchCV\n",
        "from sklearn.feature_extraction.text import TfidfVectorizer, CountVectorizer\n",
        "import pyLDAvis\n",
        "import pyLDAvis.sklearn"
      ],
      "execution_count": 2,
      "outputs": [
        {
          "output_type": "stream",
          "name": "stderr",
          "text": [
            "/usr/local/lib/python3.7/dist-packages/past/types/oldstr.py:5: DeprecationWarning: Using or importing the ABCs from 'collections' instead of from 'collections.abc' is deprecated since Python 3.3,and in 3.9 it will stop working\n",
            "  from collections import Iterable\n",
            "/usr/local/lib/python3.7/dist-packages/past/builtins/misc.py:4: DeprecationWarning: Using or importing the ABCs from 'collections' instead of from 'collections.abc' is deprecated since Python 3.3,and in 3.9 it will stop working\n",
            "  from collections import Mapping\n"
          ]
        }
      ]
    },
    {
      "cell_type": "code",
      "metadata": {
        "id": "mwk8Ic2nE2Az"
      },
      "source": [
        "#sklearn.set_config(display=\"diagram\")"
      ],
      "execution_count": 3,
      "outputs": []
    },
    {
      "cell_type": "code",
      "metadata": {
        "id": "HC8Ge1-LGEx_",
        "colab": {
          "base_uri": "https://localhost:8080/"
        },
        "outputId": "b93d1e31-acb5-4195-aaa0-85d1d8092a6d"
      },
      "source": [
        "import spacy\n",
        "import nltk\n",
        "import re\n",
        "from bs4 import BeautifulSoup\n",
        "import unicodedata\n",
        "\n",
        "tokenizer = ToktokTokenizer()\n",
        "stopword_list = nltk.corpus.stopwords.words('english')\n",
        "stopword_list.remove('no')\n",
        "stopword_list.remove('not')\n",
        "\n",
        "\n",
        "def remove_stopwords(text, is_lower_case=False):\n",
        "    tokens = tokenizer.tokenize(text)\n",
        "    tokens = [token.strip() for token in tokens]\n",
        "    if is_lower_case:\n",
        "        filtered_tokens = [token for token in tokens if token not in stopword_list]\n",
        "    else:\n",
        "        filtered_tokens = [token for token in tokens if token.lower() not in stopword_list]\n",
        "    filtered_text = ' '.join(filtered_tokens)    \n",
        "    return filtered_text\n",
        "\n",
        "def plot_top_words(model, feature_names, n_top_words, title):\n",
        "    fig, axes = plt.subplots(2, 5, figsize=(30, 15), sharex=True)\n",
        "    axes = axes.flatten()\n",
        "    for topic_idx, topic in enumerate(model.components_):\n",
        "        top_features_ind = topic.argsort()[:-n_top_words - 1:-1]\n",
        "        top_features = [feature_names[i] for i in top_features_ind]\n",
        "        weights = topic[top_features_ind]\n",
        "\n",
        "        ax = axes[topic_idx]\n",
        "        ax.barh(top_features, weights, height=0.7)\n",
        "        ax.set_title(f'Topic {topic_idx +1}',\n",
        "                     fontdict={'fontsize': 30})\n",
        "        ax.invert_yaxis()\n",
        "        ax.tick_params(axis='both', which='major', labelsize=20)\n",
        "        for i in 'top right left'.split():\n",
        "            ax.spines[i].set_visible(False)\n",
        "        fig.suptitle(title, fontsize=40)\n",
        "\n",
        "    plt.subplots_adjust(top=0.90, bottom=0.05, wspace=0.90, hspace=0.3)\n",
        "    plt.show()"
      ],
      "execution_count": 3,
      "outputs": [
        {
          "output_type": "stream",
          "name": "stderr",
          "text": [
            "/usr/local/lib/python3.7/dist-packages/jsonschema/compat.py:6: DeprecationWarning: Using or importing the ABCs from 'collections' instead of from 'collections.abc' is deprecated since Python 3.3,and in 3.9 it will stop working\n",
            "  from collections import MutableMapping, Sequence  # noqa\n",
            "/usr/local/lib/python3.7/dist-packages/jsonschema/compat.py:6: DeprecationWarning: Using or importing the ABCs from 'collections' instead of from 'collections.abc' is deprecated since Python 3.3,and in 3.9 it will stop working\n",
            "  from collections import MutableMapping, Sequence  # noqa\n"
          ]
        }
      ]
    },
    {
      "cell_type": "markdown",
      "metadata": {
        "id": "asVPqMOFE2A0"
      },
      "source": [
        "## 1) Data preparation"
      ]
    },
    {
      "cell_type": "code",
      "metadata": {
        "id": "tDqVFfvBUqQ2"
      },
      "source": [
        "path = \"/content/drive/My Drive/Ingénieur ML - OC/P5_NLP/datasets/posts_clean.csv\""
      ],
      "execution_count": 4,
      "outputs": []
    },
    {
      "cell_type": "code",
      "metadata": {
        "colab": {
          "base_uri": "https://localhost:8080/"
        },
        "id": "xsMFT2TFE2A0",
        "outputId": "ae4f5937-4fd6-4344-d970-f2d4e3ecf2f4"
      },
      "source": [
        "data = pd.read_csv(path)\n",
        "print(data.head(3))"
      ],
      "execution_count": 5,
      "outputs": [
        {
          "output_type": "stream",
          "name": "stdout",
          "text": [
            "       Id  ...                                     Tags\n",
            "0  415192  ...                   <python><web-services>\n",
            "1  415344  ...  <debugging><language-agnostic><logging>\n",
            "2  414981  ...                               <c#><.net>\n",
            "\n",
            "[3 rows x 4 columns]\n"
          ]
        }
      ]
    },
    {
      "cell_type": "code",
      "metadata": {
        "id": "RijUErGPE2A1"
      },
      "source": [
        "# remove < and > around Tags\n",
        "data[\"Tags\"] = data[\"Tags\"].replace({\"<\" : \" \"}, regex=True)\n",
        "data[\"Tags\"] = data[\"Tags\"].replace({\">\" : \" \"}, regex=True)"
      ],
      "execution_count": 6,
      "outputs": []
    },
    {
      "cell_type": "code",
      "metadata": {
        "id": "6ZC0vEIBE2A1"
      },
      "source": [
        "data[\"Body\"] = data[\"Body\"].str.lower()\n",
        "data[\"Body\"] = data[\"Body\"].apply(remove_stopwords)"
      ],
      "execution_count": 7,
      "outputs": []
    },
    {
      "cell_type": "code",
      "metadata": {
        "colab": {
          "base_uri": "https://localhost:8080/"
        },
        "id": "19glpL9JE2A2",
        "outputId": "65552952-9c41-4d6e-f67e-5288903d1945"
      },
      "source": [
        "data.isnull().mean()"
      ],
      "execution_count": 8,
      "outputs": [
        {
          "output_type": "execute_result",
          "data": {
            "text/plain": [
              "Id       0.000000\n",
              "Title    0.000061\n",
              "Body     0.000000\n",
              "Tags     0.000000\n",
              "dtype: float64"
            ]
          },
          "metadata": {},
          "execution_count": 8
        }
      ]
    },
    {
      "cell_type": "code",
      "metadata": {
        "id": "qoF4du4HE2A2"
      },
      "source": [
        "data.dropna(inplace=True)"
      ],
      "execution_count": 9,
      "outputs": []
    },
    {
      "cell_type": "code",
      "metadata": {
        "colab": {
          "base_uri": "https://localhost:8080/",
          "height": 142
        },
        "id": "m2CJblVrE2A2",
        "scrolled": true,
        "outputId": "879459d4-a3ec-4cd2-f4cd-b87ad91b52b5"
      },
      "source": [
        "data.head(3)"
      ],
      "execution_count": 10,
      "outputs": [
        {
          "output_type": "execute_result",
          "data": {
            "text/html": [
              "<div>\n",
              "<style scoped>\n",
              "    .dataframe tbody tr th:only-of-type {\n",
              "        vertical-align: middle;\n",
              "    }\n",
              "\n",
              "    .dataframe tbody tr th {\n",
              "        vertical-align: top;\n",
              "    }\n",
              "\n",
              "    .dataframe thead th {\n",
              "        text-align: right;\n",
              "    }\n",
              "</style>\n",
              "<table border=\"1\" class=\"dataframe\">\n",
              "  <thead>\n",
              "    <tr style=\"text-align: right;\">\n",
              "      <th></th>\n",
              "      <th>Id</th>\n",
              "      <th>Title</th>\n",
              "      <th>Body</th>\n",
              "      <th>Tags</th>\n",
              "    </tr>\n",
              "  </thead>\n",
              "  <tbody>\n",
              "    <tr>\n",
              "      <th>0</th>\n",
              "      <td>415192</td>\n",
              "      <td>good way create simple python web service</td>\n",
              "      <td>use python year little experience python web p...</td>\n",
              "      <td>python  web-services</td>\n",
              "    </tr>\n",
              "    <tr>\n",
              "      <th>1</th>\n",
              "      <td>415344</td>\n",
              "      <td>log implementation prefer</td>\n",
              "      <td>implement log class c try decide curious know ...</td>\n",
              "      <td>debugging  language-agnostic  logging</td>\n",
              "    </tr>\n",
              "    <tr>\n",
              "      <th>2</th>\n",
              "      <td>414981</td>\n",
              "      <td>directly modify list element</td>\n",
              "      <td>struct struct map public int size public map i...</td>\n",
              "      <td>c#  .net</td>\n",
              "    </tr>\n",
              "  </tbody>\n",
              "</table>\n",
              "</div>"
            ],
            "text/plain": [
              "       Id  ...                                     Tags\n",
              "0  415192  ...                    python  web-services \n",
              "1  415344  ...   debugging  language-agnostic  logging \n",
              "2  414981  ...                                c#  .net \n",
              "\n",
              "[3 rows x 4 columns]"
            ]
          },
          "metadata": {},
          "execution_count": 10
        }
      ]
    },
    {
      "cell_type": "code",
      "metadata": {
        "id": "s0pNdsLe6Hmi"
      },
      "source": [
        "data = data.sample(frac=0.1, random_state=42)"
      ],
      "execution_count": 11,
      "outputs": []
    },
    {
      "cell_type": "code",
      "metadata": {
        "id": "sVf6Xp9ZE2A3"
      },
      "source": [
        "docs = data[\"Title\"] + \" \" + data[\"Body\"]"
      ],
      "execution_count": 12,
      "outputs": []
    },
    {
      "cell_type": "code",
      "metadata": {
        "id": "0QFLJlyDE2A3"
      },
      "source": [
        "tfidf_vectorizer = TfidfVectorizer(max_features=12000)\n",
        "tfidf = tfidf_vectorizer.fit_transform(docs)\n",
        "tfidf_feature_names = tfidf_vectorizer.get_feature_names()"
      ],
      "execution_count": 13,
      "outputs": []
    },
    {
      "cell_type": "code",
      "metadata": {
        "colab": {
          "base_uri": "https://localhost:8080/"
        },
        "id": "csQwUl47E2A3",
        "outputId": "5b006133-b0dc-483b-83be-4b8770daee5c"
      },
      "source": [
        "# Materialize the sparse data\n",
        "data_dense = tfidf.todense()\n",
        "\n",
        "# Compute Sparsicity = Percentage of Non-Zero cells\n",
        "print(\"Sparsicity: \", ((data_dense > 0).sum()/data_dense.size)*100, \"%\")"
      ],
      "execution_count": 14,
      "outputs": [
        {
          "output_type": "stream",
          "name": "stdout",
          "text": [
            "Sparsicity:  0.4082538428823136 %\n"
          ]
        }
      ]
    },
    {
      "cell_type": "markdown",
      "metadata": {
        "id": "tE5jNqVCE2A3"
      },
      "source": [
        "## 2) Topic Modelling"
      ]
    },
    {
      "cell_type": "markdown",
      "metadata": {
        "id": "JpXeVglQE2A4"
      },
      "source": [
        "### a) Non Negative Matrix Factorization (NMF)"
      ]
    },
    {
      "cell_type": "code",
      "metadata": {
        "id": "Mg208sOaE2A4"
      },
      "source": [
        "best_num_topics = 10"
      ],
      "execution_count": 16,
      "outputs": []
    },
    {
      "cell_type": "code",
      "metadata": {
        "id": "jgAa_Ne-E2A4"
      },
      "source": [
        "nmf = NMF(n_components=best_num_topics,\n",
        "          random_state=42,\n",
        "          alpha=0.1)"
      ],
      "execution_count": 17,
      "outputs": []
    },
    {
      "cell_type": "code",
      "metadata": {
        "colab": {
          "base_uri": "https://localhost:8080/"
        },
        "id": "7cpyRlb_E2A4",
        "outputId": "9167b6d4-247f-4399-d45d-631718f5848a"
      },
      "source": [
        "nmf.fit(tfidf)"
      ],
      "execution_count": 18,
      "outputs": [
        {
          "output_type": "stream",
          "name": "stderr",
          "text": [
            "/usr/local/lib/python3.7/dist-packages/scipy/linalg/decomp_qr.py:20: DeprecationWarning: `np.int` is a deprecated alias for the builtin `int`. To silence this warning, use `int` by itself. Doing this will not modify any behavior and is safe. When replacing `np.int`, you may wish to use e.g. `np.int64` or `np.int32` to specify the precision. If you wish to review your current use, check the release note link for additional information.\n",
            "Deprecated in NumPy 1.20; for more details and guidance: https://numpy.org/devdocs/release/1.20.0-notes.html#deprecations\n",
            "  kwargs['lwork'] = ret[-2][0].real.astype(numpy.int)\n",
            "/usr/local/lib/python3.7/dist-packages/scipy/linalg/decomp_qr.py:20: DeprecationWarning: `np.int` is a deprecated alias for the builtin `int`. To silence this warning, use `int` by itself. Doing this will not modify any behavior and is safe. When replacing `np.int`, you may wish to use e.g. `np.int64` or `np.int32` to specify the precision. If you wish to review your current use, check the release note link for additional information.\n",
            "Deprecated in NumPy 1.20; for more details and guidance: https://numpy.org/devdocs/release/1.20.0-notes.html#deprecations\n",
            "  kwargs['lwork'] = ret[-2][0].real.astype(numpy.int)\n"
          ]
        },
        {
          "output_type": "execute_result",
          "data": {
            "text/plain": [
              "NMF(alpha=0.1, beta_loss='frobenius', init=None, l1_ratio=0.0, max_iter=200,\n",
              "    n_components=10, random_state=42, shuffle=False, solver='cd', tol=0.0001,\n",
              "    verbose=0)"
            ]
          },
          "metadata": {},
          "execution_count": 18
        }
      ]
    },
    {
      "cell_type": "code",
      "metadata": {
        "colab": {
          "base_uri": "https://localhost:8080/",
          "height": 834
        },
        "id": "5AykfjRSE2A4",
        "outputId": "47c9c2fc-08ee-4654-fcc1-d407ec9363b6"
      },
      "source": [
        "plot_top_words(nmf, tfidf_feature_names, n_top_words=30, title=\"Topics in NMF model\")"
      ],
      "execution_count": 19,
      "outputs": [
        {
          "output_type": "display_data",
          "data": {
            "image/png": "iVBORw0KGgoAAAANSUhEUgAABw4AAAQUCAYAAABgcT28AAAABHNCSVQICAgIfAhkiAAAAAlwSFlzAAALEgAACxIB0t1+/AAAADh0RVh0U29mdHdhcmUAbWF0cGxvdGxpYiB2ZXJzaW9uMy4yLjIsIGh0dHA6Ly9tYXRwbG90bGliLm9yZy+WH4yJAAAgAElEQVR4nOzdd7hlVX3/8fdHqlgoigVRUbEbbNhRhliwYzSKWCixJcbYYlQUI8YSFOtPo8YYHDUgWIKKihpRRLAiYMOug4AIKE16+/7+WPs6e86cc+85t86deb+e5zzn7L3X3mudy53v3azvXmulqpAkSZIkSZIkSZK0YbvOUjdAkiRJkiRJkiRJ0tIzcShJkiRJkiRJkiTJxKEkSZIkSZIkSZIkE4eSJEmSJEmSJEmSMHEoSZIkSZIkSZIkCROHkiRJkiRJkiRJkjBxKEmSJGkJJFmZpKZeS92epZRkVe9ncexSt0faUK1rcanfliQrl7o9kiRJ2jCYOJQkSZIWSJIdBjp+F+J14FJ/TynJgUN+Ny9Osu2E11kxcI23zlB+5Yh/F8+d5ffYLMn5I655/WnOm49/6ytn02ZJkiRJmk8mDiVJkiRJC+F6wP5LVPfeszxvD2Cr+WyIJEmSJC0nJg4lSZIkSQvlH5JstwT1PijJbWdx3mwTjpIkSZK0Xth4qRsgSZIkrcfOAG4zZtnDgfv1tvcCvj3GeRdM2ihpEW0OHAA8f5HquwrYpPu8N3DguCcmuQmw+4hrTepMYJcJz7l4lnVJkiRJ0rwxcShJkiQtkKq6Glg1Ttkklw/s+kNVjXXuclRV+wL7LnEz1glVtcNSt2GBPTvJWxbp9/lo4PHd52cyQeIQeBqr/x/5XOCXwANn2Y6r1+d/v5IkSZLWX05VKkmSJEmab0f1Pm8CvHaR6v1I7/NtkzxognP36X0+nDbiUJIkSZI2KCYOJUmSJEnz7RDg173tZya54yLU+3Pgu73tsdYsTHI34B69XR8ZVVaSJEmS1mdOVSpJkiQtc0k2oU2peFtgW+Bq4Bzgx1V1yjzXdX3gwcAtgW2As4FTge9WVc1nXWO0ZQva996e9r03oq35+Evg5Ko6b4JrbQrsBNwVuBFwPeAy4ELgNOCnVXX6vH6BBZDkrsBf0f77XA2cBRxXVb9f5KZcDbyO1Qm4jbrtpy5C3R8F7tt9fkqSF1bVFTOc0x9t+NOqOjHJwrRuHZDktsC9af92NqVNqfy1qjpnhvO2p63deEsgtN+vr1XVGXNsz4LGsCSbAStoa85uRWv3b4BvVtU1c73+QF03BR4A3IwWIy/s6vtGVZ07n3VJkiRJC8HEoSRJkrRMJdmOlox5CnDDEWV+D/wn8NaqunSMa64AvtbbtV9Vrew6w18P7AVcf8ippyV5XVV9aMy2r6SXrKmqsbM0SXYD9gd2pSU9hrk2yYm0JNLKqrp4xLW2BV4DPJ3WyT9dvWcAnwfeUVU/H7e9M0myCrh1t/n1qloxadkkj6at53efEed9CXhpVZ06H20e06G0/0537rafkuSNVfWjBa73Y8DbaVOkbkVb8/ATowon2Yi2vuGUjy5o6xbBqH9fSXal/Z7sSkv89V2V5IPAywf/vSS5C/BW4JFDzqskRwIvrKozJ2znvMewgXOvS/u+zwO2HFLkzCTv7a595STXHqgntO/wMlpCdlg8uzbJCcCrq+obs61LkiRJWmhOVSpJkiQtQ0meTBtZ92xGdLh3pjrmf5Zkp1nWtRNwCvAchicNoSWzDkny6W703rxLsmWSzwJfBR7O6KQhtP/XuS/wbuBhI653P+BnwD8xQ9Kwsz0tAfGoCZq94JIcBHyOEUnDzu7At5M8ZHFaBVV1LWuubRha8nmh6/0T8IXerpmmK30Y7d8JwLXA/yxEu5ZakhfSHgpYwfDE1ibAPwBf60YWT533ROBE2u/9sPMCPBE4IcktJ2jPgsawJLcCfgC8nOFJQ4BbAG+kfeetxr32QD03A06grYu5M8N/RtBi0oOB45K8I+vzkFZJkiQta444lCRJkpaZJPvQ1pAbfBDwZNq6cpsAdwNu1zt2S1qH9cOq6sQJqtsWOJo27R7AxcC3gD8CN6FNybdFr/wewBFJnjifU5d2nfPHAHcZOHQNcBJwJm1q0RvRvvt2TCPJTWjfa+uBQ7+krZN3IS0xuRVwJ9rPb52T5ADgFd3mtbSfxWnd5zvTfhZTbgB8IsmdJ5nGdY4+SUs6T60fuEeS+1TV9xa43o/QfhcBHplk22mmiexPU3rscpiSdlJJngK8q9ss2n+TX9OSXPdgzVixMy3hvl83uvcIVvcd/Kx7XUn7/fqr3nm3pv3cdxujPQsaw7qRxMcAOw4cOpP23S/u2nvfrg0PpCX+zp6p7QP13K6r59YDh87q6jmflhS9N3Dz3vEX0/49PnuS+iRJkqTFYOJQkiRJWkaS3Al4H2t2uH8FeH5V/XKg7K7AB4A7dLu2BD6W5B5VdcmYVb6Kljy7ijbl3zuq6rJeHdejjeh5NW0dO4AnAM+lTS84Z91UkkewZtLwz8BBwHur6oIh59yONnXg80dc9l9YM2n4ReAlVfWzEW24KfBo4Fm0xMu64K+AqRGEHwT+tarO6hdIcn/g46xOfN6Elmh8BYugqirJa4CjervfQBsBuZA+B5xHG0m6MW2K3f83WCjJDWi/r1M+MlhmPTH1b/HzwIuq6tf9g11i8cPA5t2ufZJ8gDbd7Ma0hwWeP7jeYDe18adYPWJ3RZJHV1V/xCcD5yxGDHs3ayYNz6HFgiO7kbBT198OeActVuxOS/SNpVs38VOsmTQ8HnhlVZ0wpPzjgffSRjkCPCvJV6vqsHHrlCRJkhaDU5VKkiRJy8t7gOv2to8EHjnY4Q5QVV8HHkQbQTdlR1oycFxb0RJlz6iqN/WThl0dl1TVa2nTmPa9Ocl00w9O4iWsTpAB/AF4cNeetZKGXbt+XVX/DtwW+PqQIo/tff4Z8PhRScPuemdX1YeqahfmKSE6D7ahjRh7eVU9ZzBpCFBV36YlPK/q7d47yaL9v2BVfQ74dm/XI5I8eIHrvJKWbJ4yarrSJ7P639MltETQfLh1kprgte881TvKVsBhtN/zXw8erKqPAy/t7Qptuteb00bU7TaYNOzOO5Y1R2wyZHvQgsawLtm4Z2/Xn4Bdq+pT/aRhd/3fV9WetOQkrD0CeToHAnfvba8EVgxLGnZ1fRa4H23U45SDk2wyQZ2SJEnSgjNxKEmSJC0TSe4KPLS362xgv6q6ZtQ5VfVH4Jm0qSunPDfJ5iNOGeYjXWJhpKr6EGsmXbYEnjFBHUN1o3r+uV8V8PSq+sE451fVVVU1bBTRrXqfP1dVVw0pM+qal49bdhF8qaoOnq5AVf2YNmXolJsBd1zQVq3tgIHtNyxCnf3Rg/dOMjjNLayZUDyyqi5e4DYtld8DzxtMnA34b9oUvVO2Ai4FnllVV4w6qUsM9xN7K0aVXaQY9oKB7ZdN91BA54W0KVLH0j0U0R/N/CPgOdN9D4CqOpO2TuqU7WjJa0mSJGmdYeJQkiRJWj6ePrD99qq6cGjJnm49uc/2dt0YeOQE9b5+zHL/NrA92N7ZeByr11cE+HRVfXUertu37TxfbzG9Zcxyg1NH3n1oqQVSVccAx/Z2PSTJIxa4zm8Dv+jtWmPUYZJbs+ZI1vV1mlKAD8yUFO1GaQ6Oljt82EjWIfr/Jm/SrUk6zILGsG7q5D16u35Hm4J1putfwfj/lqA9FNEfUf26qrp6nBOr6vPAb3q7HjuqrCRJkrQUTBxKkiRJy8cDB7Y/NsG5g+toDV5rlJOGTW04TFX9kDbt55R7J9l0zHpG2W1g+4NzvN6U/gipJye57zxddzFdChw3ZtnBEVdLkSwdHHU4bkJ6Lj7a+/z0gSla96ZNyQlt+shj5rHeM4HbTPD65PDLzJsvj1lu8N/6/4153q8Gtkf9fi10DNsZ6E/9+cmqGndN0k+w5qjG6fTj0uW0tSMn8Y3e5wdNeK4kSZK0oDZe6gZIkiRJGtu9e5/PqqrTJzj32wPb9x5aam3fm6COqfJ36j5vBtwVOHnCa/Tdr/e5WHtE1GwdDtyz+7wFcHySw2jJia9PNzXjOuRX445yYs0pKGHN0VKLoqpOSHI08Khu132TPL5b+22h/A9tJGyA7WkJn6kE4TN75Q6bYRrPSV1dVavm8XpzNdNUnVMuGtj++dBSM5836vdroWPYvQa2x45fVXV+kl8Dtx+jeD/ZdxpwsySjyg7TXyv2lkmuM8+/f5IkSdKsmTiUJEmSloFuPa/r93b9cpLzq+r0JJcB1+12jTvibOx1vzqDI49uMuH5g/pTHv5+nGkNx/Ru4CmsTj5sAuzTvS5P8h1akvI44PiqumSe6p1Pk/wsBtdw3GRoqYV3AKsThwCvT3LUBKPCJlJVq5J8g9VTku4NHJPkAayZIFqfpymF8X9XBhPRsz1vrd+vRYphNx3Ynk38mjZxmGQj1oxLdwR+O2E9a1wS2Br40xyuIUmSJM0bpyqVJEmSloetBrYHR/iMo58E2HrMcyatZzDRMNjuSd2o9/mCOV7rL6rqMuCvgUNpIxn7Ngd2BV4FfBE4J8nHkuw8X/XPk2U3QqmqTgKO7O3aiZbAXUj9pOATu3Xw+usdnlxVP17gNiypOYxmm8/fscWIYXOtY5xE6dasnuJ2vlx/5iKSJEnS4jBxKEmSJGm5mNdRaVV1UVU9g5a8ejujp3PcAngq8L0k70uyVKP11hf/ypoJqQO7UVwL5ROsnhry+sBewJ694+v7aEPNr4X49z/fiUhJkiRp1kwcSpIkScvD4Gi72axRt2Xv8/ljnjNpPVsObM91lOB5vc9zHb04VFX9uKr+uaruTJuC8InAO4Fho9D+njbNqWapG913eG/XnVhzvcH5ru8i4DO9XQezerTa1bR1LbXwFiOGzbWOwfg1zHkD29+tqszxtWrCdkqSJEkLxsShJEmStAxU1eXAxb1dO05yfpLtWb02GMC5Y556u0nqYe12nTPh+YP+0Pu8XZLZJBvGVlVnV9WRVfWSqvorWlLrQwPFnpvkLgvZjg3Agay5Lt6/LvBIzv6own4C+ktVNdffUY1hkWLY2QPbc41fa6mqK1hzCtQbT1iHJEmStE4zcShJkiQtH9/vfd6u60gf1/2nudZ07jNBHYPlrwB+MuH5g77V+3wd4EFzvN5EqurnVfV3wAd7uwM8djHbsb6pql+yZjLvNsCzFrDKL7NmEnqK05QuroWOYScNbI8dv5JszfiJxm/3Pt8mybbj1iNJkiSt60wcSpIkScvHNwe29xxaarinDWx/a2iptd0ryVgjg5LsRBuhN+X7VXXlmPWM8rWB7WfP8Xqz9eGB7R2WohHrmX8D+r8fBwCbL0RFVXUNa09JeiHw2YWoTyMtdAw7Ebiqt/23ScZdP/DJjN9H8pXe53TnSpIkSesFE4eSJEnS8jGY+HhJkuvPdFKSewF79Hb9CTh6gnoPGLPcvw5sHzpBHaMcBZzV235CkofMw3UnddHA9lwTohu8qjoN+K/erlsA/7CAVb4JeHDvtUs3faYWz4LGsKq6hDXXs7wVsM8Y198MePlM5Xo+AlzW294/yTYTnC9JkiSts0wcSpIkSctEVf2YNUfg3QL4ryQj7+uT3Aj4H9a89/+vCRMmeyeZdkRNkn2BJ/V2XdjVOyfdiMW39XZdBzg8yd3GOT/JJt0UhP19N07yrC5ZMK6nD2z/fIJzNdobWTMB8/iFqqiq/lRVx/deP16oujTcIsWw/xjYfmuSO87QtHcxwXqIVXU28P7eru2BIydNHiZ5SJI7THKOJEmStNBMHEqSJEnLywuAfof5U4HPJbntYMFuZN4JwJ17u39DS9aM6wLaVHyHJnlVkusO1HG9JAey5hqAAK+oqsFRerP1TuC43vbNgROSvCLJlsNOSHLbJPsDvwZ2HTh8/a69pyV5Z5Jdkmwy4jpbJnkj8LLe7suBT83yu6inqs5i7USP1m8LGsOq6ljgiN6uGwFfT/KkwQRlkpsnORx4Xrfrggm+xwHAKb3thwCnJHlOki1GnZTkDkn+Jcn3ga8Da31vSZIkaSltvNQNkCRJkjS+qjo1yT/SEl9Ta3c9CvhVkpNoneqbAHcDBtcmvAjYq6ounqDKfwdeTEvWvRF4ZZJv0aYK3BZ4AHC9gXM+DXxggjqmVVXXJHkqcAyrEwg3BA4C3tB97zOAK4BtaN/9FmNc+qbAi7rXFUl+DPyeNlpyM+DWwD1pP8++V1bVOXP6Uup7My1xc4OlbogW3iLFsH8Cdmb1KMKbAp8EzkxyMnAxbRrT+wEbdWX+jzYt8t5jfo9LkzyBtt7hVDtvSYt9/5HkFODMrq4b0OLlXYGhDztIkiRJ6woTh5IkSdIyU1WHJLkUOASYGgEY4N7da5gzgcdV1ckTVncO8Gjgy7SO7xsAj5im/GeBPauqJqxnWlV1VpIHAh8DHtk7tDFw3+41F5sx/c8P4GrgVVX1rjnWpZ6q+mOSdzH+Wppa5hY6hlXVuUn+mpbUu33v0C0Y/lDBd4E9gXeM9w3+Us9pSe4DfJg1p9ndBLhP95rO1bTEoiRJkrTOcKpSSZIkaRmqqsNpHeL/Dfx5mqJnAa8D7jiLpOFUXacA9wA+BFw6othpwLOqao9uXcJ5V1UXVNWjaInM44Brpil+DW2Kw+fSkp59p9OSn+8BfgrMlOS8BDgUuHtVHTyLpmtmbwXOX+pGaPEsdAyrqt/R4tbBtJGKo659IPCQqprV718Xl/agTVX6OdZcs3OYK4FjgX8BbllVx8+mXkmSJGmhZJ4fBJYkSZK0yLr1+R5EWytrW9oolnOAnwAnTzL6L8kK4Gu9XftV1cre8RvQOshvCWzdq+c78z3KcCZJtgJ2AbajrWN2DW2Nsl/SvvdY65Ul2YY2heBtgRsDW9ASpOfREos/qKqZkgGSZmk+Y9iI628O7AbchjbN8R+A3wLHV9V0DyDMpq7NgPsDO9Diyea0UYXnAj8Dfmo8kSRJ0rrMxKEkSZKkv5gpcShJkiRJktZfTlUqSZIkSZIkSZIkycShJEmSJEmSJEmSJBOHkiRJkiRJkiRJkjBxKEmSJEmSJEmSJAkTh5IkSZIkSZIkSZIwcShJkiRJkiRJkiQJE4eSJEmSJEmSJEmSgFTVUrdBkiRJkiRJkiRJ0hJzxKEkSZIkSZIkSZIkE4eSJEmSJEmSJEmSTBxKkiRJkiRJkiRJwsShJEmSJEmSJEmSJEwcSpIkSZIkSZIkScLEoSRJkiRJkiRJkiRMHEqSJEmSJEmSJEnCxKEkSZIkSZIkSZIkTBxKkiRJkiRJkiRJwsShJEmSJEmSJEmSJEwcSpIkSZIkSZIkScLEoSRJkiRJkiRJkiRMHEqSJEmSJEmSJEnCxKEkSZIkSZIkSZIkTBxKkiRJkiRJkiRJwsShJEmSJEmSJEmSJEwcSpIkSZIkSZIkScLEobRkkhyYpLrXiqVujyRpMsZxSVrejOOStHwZwyVpeTOOr9tMHGpZSLJDL5DM9bXvUn+fdU2aOyR5WpK3JTk2yUW9n9nKpW6jpOXNOL6wklw3yeOSvCPJ8UnOSXJlF8t/muRDSR661O2UtHwZxxdWknsleX6SQ5J8L8mqJBcnuTzJWUmOSfLKJDdb6rZKWn6M4UsnyQcGfn4HLnWbJC0/xvGFlWTlJD/DpW7vYth4qRsgaZ3wVuClS90ISdLkkjwdeD9w/SGHNwHu1L32TfJFYO+qOncRmyhJmtkXgJuOOHaz7vXXwKuT/HNVfWDRWiZJmpW0ETTPXup2SJI0qVRtEAlSLXNJtgAeMU2Rvwb+qfv8NeD/TVP2pKr63Xy1bX2Q5J3Ai3q7/gycDtyl2/5wVe272O2StP4wji+cJAcAr+82zwL+D/gecA5wPeDBwF7A5l2ZHwIPqKpLF7mpkpYx4/jCSvIHYCPg28APgN8CFwKbAjsCTwDu2TvlWVV1yGK3U9LyZAxffEmuS7vv3hG4hHZfDvC6qjpwqdolaXkyji+stNn29uk2n0frTxmpqj690G1aao441LLQdW6O/AeZZKve5u82hH+88+xU4B3AicD3gV8Au9L+0EjSnBnHF9wJwEHA0VV1zcCxDyV5K/AV4ObATsArgNcubhMlLWfG8QX3UODUGv1k778l2R94U7f9tiSHVtUVi9M8ScuZMXxJHEhLGp4JfBx4yZK2RtKyZhxfVF+uqlVL3Yil5hqHkqiqD1TVS6vqsKr6+TQdFpKkdc9/VNUuVfW5IUlDAKrqVOC5vV37LkrLJEljqaqfzHQPXlX/Thu9ArAV8KAFb5gkaWJJ7gX8c7f5QuCiJWyOJEkTM3GoDUqSWyY5KMlJSc5LckWSM5MclWTfJBvNcP6x/UVQk2yc5B+SHJ/k3CSXJflFknclueUM1zqwt6jqihnKbpxk7ySfSLIqySVd209P8vkkL05yk4l/IJK0zBjH11ZV549Z9GjaNEkAt0pyw9nUJ0lzYRyfs1N7n2+2CPVJ0l8Yw2eWZGPgg7Tppz9bVf87H9eVpPlgHNe4nKpUG4wkz6NNx3ndgUPbda/HAi9N8vhxhiMn2Ro4irWf9L1999ovyVOr6gtzbPfOwOHA7YYc3r57PRrYA9htLnVJ0rrMOD43VXVNkktZvb7KdfHpZ0mLyDg+L/pt+MMC1yVJf2EMH9vLaGvSXgy8YB6uJ0nzwjiuSZg41AahC4zv7+06Cvg8cAFwB2A/4DbAXwHHJ7lnVZ07w2UPoQXGU4EPA6fRnvrdC7gfcAPgf5PsUlUnzrLduwBfZnVA/zVtbvyfAlfQgvr9gMcAmU0dkrQcGMfnrnv6bttu81Jgpp+PJM0b4/jcJfl74D7d5tm09W0lacEZw8eu7/asXkf8gKo6fa7XlKT5YByfyH8luSNwU+Ay4Pe0++6PVtVx81THOs/EodZ7SXagPU0BcA3wtKr6+ECZtwKfoAWZWwDvBZ48w6WfABwG7FtVV/Wu9f+ANwP/AmwGHJLk7pOuG5hkS1ognAqMbwFeXVVXDym7BfDgSa4vScuFcXze9Nc4/GJVXbvA9UkSYByfVJKHANt0m5sBO9CeAN+l23cZsF9VXTEf9UnSdIzhY9cX2hSlmwMnAu+Zy/Ukab4Yxyf2sN7nTYEtgTsDz07yeWDvqjpvnupaZ7nGoTYEL2R1gHnbYGAEqKrLgKcBZ3W7ntQ9KTad3wLP6gfG7loFvAL4drfrr4BHzKLd/wjcvPv8sap6xbDA2NV5aVV9aRZ1SNJyYByfoyS3Bfafqg44aKHqkqQhjOOTeQtwZPc6nBazd6F19HwJeFBVHT1PdUnSTIzh43ku8BBarH5uVV0zx+tJ0nwxjo/nz8D/Aq8Eng48lTb99Jd7ZR4DfD3JDedY1zrPxKE2BE/s3q8G3jaqUFVdRHuaAtrQ5r+Z4brvrarLR1yrgLf3ds10rWGe3r1fCxwwi/MlaX1hHJ+DJNejdT5v0e16b1V9b6naI2mDZByfH6fROi5+t9QNkbRBMYbPIMktaA99ALyrqk5eyPokaULG8Zm9G7h5VT2pqt5cVYdV1RFV9baq2p32YMg5Xdm7Mc3PcX1h4lDrtW49p1t3mz+oqnOmK8+aTxDcb4ayx8xw/Ku9z/cZWWqIJNsAd+k2f1xVv5nkfElaXxjH5ybJRrSpQ3bqdp1Ee2JOkhaFcXxyVXX/qkpVBbg+cG/aqMOb0zopTkly78Vqj6QNlzF8bO8Fbkh7wONfF7guSRqbcXw8VfX9qrpkmuPfoCVgp6Zb3a97aGS9ZeJQ67ub9z7/Yozy/TI3H1mq+dV0B6vqT7QFZqEt1DqJfuD56YTnStL6xDg+S0muA6wEHt/t+jnwqFFPBErSAjGOz0FVXVJVJ1XV/sCDaFMobQ98Jcmk30mSJmUMn0GSp7D6fvsfp+t4lqQlYByfJ1V1AqsTqxsBuy9hcxaciUOt727Q+zzOzdvFI84d5tIxrjdV5/XHKNvXnyf54pGlJGn9ZxyfhSQB/hN4Rrfr18BDx3i6UJLmm3F8nnRT301NhbcV8KIlbI6kDYMxfBrdiJh3d5ufqKrPL1RdkjRLxvH5dWzv852WqhGLYeOlboC0wP7c+3y9Mcr3g9ifR5ZqthijzFSdkwa4i0a0SZI2NMbx2XkP8Ozu82nAX1fVmUvQDkkyjs+vLwKv7z6vWMJ2SNowGMOn9zjgJt3nc5OMWoPrIf3PvXLfqar/W7DWSZJxfL79qfd5qyVrxSIwcaj13Vm9z7cfo3y/zO9nKLsjMHLB6yQ3YnUAmelag86kzZkc4M4TnitJ6xPj+ISSvBN4frd5Bi1p+LvFbIMk9RjH51e/c2a97qyQtE4whk8vvc/PH1lqTbt1L4B3ASYOJS0k4/j8ulHv8wUjS60HnKpU67VuSrbTus17JNl2hlMe0fv83RnK/vUMx3frff7eDGXXUFXnAad2m3dLcptJzpek9YVxfDJJDmb11HVn0ZKGC7qIuCRNxzg+73bsff7jkrVC0gbBGC5Jy5txfN7t2vs8zpqRy5aJQ20IPtW9bwy8eFShJDdg9RNiBRw5w3Wfn2SzaY6/pPf5f2dq5BD/071fB3jjLM6XpPWFcXwMSd4AvKzbPJuWNPzlQtcrSWMwjs+f5/Y+f3PJWiFpQ2IMH6GqVlZVZnoBr+ud9rresZE/T0maR8bxeZDkQcDu3ea1wJeWsDkLzsShNgTvBi7rPr88yZMGCyTZnBaMtut2fWqMztbbAv+VZI0pf9O8CXhgt+uHzG7qifexehj3XknePFhXr87rJnnEsGOStB4wjs+gWyfl1d3mucBDq+pns72eJM0z4/g0kuyb5BFJMk2ZTZO8FXh8t+tK4IOzqU+SJmQMl6TlzTg+jSR7J3n4DPfiu9CSn1NlPlJVp8+mvuXCNQ613quqVUleAryf9jv/ySSfAb5Am4v49sDf0YIdtDmUx5mb/tPAM4F7Jvkw8DvgpsBewAO6MlcAz6qqmkW7L0yyJy2wbg68HHhSkiOAn9I6C24G3Ad4LPAD4MuT1gOQZCtWj1KZcuve53t2I1n6vlpVX51NfZI0CeP49JI8F3h9b9d7gJyHqsYAACAASURBVNsnmWn9guOrymnuJC044/iM7gF8CDgjyf/ROlfO6a6/DbAT8Des7sgBeFlV/XwWdUnSRIzhkrS8GcdndC/aki+nJ/kS8CPaA9nXANvTpm99BKuThj9hzdGU6yUTh9ogVNV/dk8NvIMWaPboXoN+DDyuqs4d47L7AdsCDwIOHnL8z8BeVXXi7FoNVXV8khXAEbRE3u2AV40ofu1s66EtVPvqaY7v1L36rgZMHEpaFMbxaT1wYPt1Q0utbTfg2FnWKUkTMY6PZXvad5rOOcCLqurwOdYlSWMzhkvS8mYcH8stgWfPUOZI4DlVdcEc61rnmTjUBqOq3p/k88A/0uYj3gHYAvgTcDLwCeCjVXXNmNe7IMluwHOApwN3BK4PnEF7YuPg+RiyXFXfSXIHYB9aQL8ncGPaXNN/oD2R/CXgY3OtS5LWZcZxSVrejOMjvRo4BlhBe+J5x+76mwAXA2cBpwBH06aNumS230WSZssYLknLm3F8pIOBE2mjJO9FGzV5Y1qC9ULgt7S1xT9SVSfN/pssL5nFKFFpg5XkWGBXgG6Ba0nSMmIcl6TlzTguScuXMVySljfj+IbjOkvdAEmSJEmSJEmSJElLz8ShJEmSJEmSJEmSJBOHkiRJkiRJkiRJkkwcSpIkSZIkSZIkSQI2XuoGaEnUUjdgudp11135+te/PrXpz3F5cwFfLWfGn1kyjq9XjONarow9c2AcX68Yx7VcGXtmyRi+3jGOa7ky/syScXy9MzKOp8r/vhsg/6NL3uBqeTOOS8ZxLV/GcKkxjmu5Mo5LjXFcy5VxXGpGxnGnKpUkSZIkSZIkSZJk4lCSJEmSJEmSJEmSiUNJkiRJkiRJkiRJmDiUJEmSJEmSJEmShIlDSZIkSZIkSZIkSZg4lCRJkiRJkiRJkoSJQ0mSJEmSJEmSJEmYOJQkSZIkSZIkSZKEiUNJkiRJkiRJkiRJmDiUJEmSJEmSJEmShIlDSZIkSZIkSZIkSZg4lCRJkiRJkiRJkoSJQ0mSJEmSJEmSJEmYOJQkSZIkSZIkSZKEiUNJ0gJK8sIkpya5LEklefFSt2lSSVZ2bd9hqdsiSZp/SVYlWdXb3reL+/suXaskaf2T5NgktcB17NDF8JUTnGPcl6QFNHi/PUb5iWO5pPll4nAZM4hKWpcleSrwLuBy4J3A64BvL2mjhkhyYBdLVyx1WyRJkiRJkpaSfc6SNl7qBmjx7fDKzy91E5bMqoMes9RNkDYkj516r6rfL2lL5mZ/4CDgzKVuyJQNOY5rfP7Nk2btSNqDLmctxMWN4ZovxnlpqDOBOwMXLlQFxnFtCPwbo/WZcXz+GTPWPyYOJUkLZTuAZZ40pKrOYoE6jyVJ656qupAF7HCWJC2cqroK+NlSt0OSJGk5c6rSBdQf1t19PjzJH5NcnuTEJI8dcs5mSV6Z5EdJLk1yUZJvJHnKQLkDgd92m/t09Uy99l34bydJw01N/Qns1m3349O0010MW/ckyYrunAOT3CPJ55Nc0MXIryd54IhrbZTk75OckOTCbp3FXyX5YJLbd2VWAa/tTvlav62964xc4zDJU5Ic17v+j5Lsn2SzIWVXda/rJTk4ye+SXNG16RVJMsaPV5I0C2lekOQn3b34mUnek2TLIWXXWOsqyebd351zkgx98DLJ+7pz1rq/l6R1SRfjPpXkN93960Xd/fIzhpQ9tottGyd5VZJfdvevpyd5c5JNR9Tx1CTf765/TpKPJtluRNn+vf59u3v98/r33+P2k3RlR/7/RpIdk3wiyflJLknyzSQOkZCknpn6nJNs2t1XfyHJad3fhfOSfCXJo2a49pbdPfiZ3T35qUleOEl/SJItun6XU7pYfnGSbyXZaw5fW9IARxwujlsD3wV+A3wU2AbYE/hMkodV1dcAupvuLwG70p6Q+w9gC+BvgSOS3KOqXtVd81hgK+BFwA+AT/fqO2Whv5AkTePY7n1fWvx73Txdd2fg5cC3gA8CtwKeBBzTxcefTxXs4unngIcDpwOHARcBOwB/AxwP/JK29uITaHH3w8CqcRuT5E20aUz/2F3/YuBRwJuA3ZM8oqquHDhtE1qc3w44Gri6q/8gYHPm72clSVrTO4EX0kaQfwC4CtgDuB+wKTAYr/+iqi5PcgTwXFqcP6p/vHtYZE/gbOCLC9F4SZpH7wN+AhxHi4k3Ah4NfDTJHavqNUPOOQx4MO3+9aKu/MuBmwD79QsmeQnwduAC4CPd++7AN5l+NPcDaPfWxwOHADcGrpywn2SktAcHv9V936Np/SY70vpSjp7pfEnagBzL9H3O2wDvosX1/wPOBW4OPA74QpLnVNUHh1x3U+Ar3bUP77af1F3rjsA/ztSwJFsBXwXuCZxE+3txHdrfmcOS3LWqDpjs60oaxsTh4lgBHFhVf+kQTnIYrWPhX4Cvdbv/mXYzfDTw+Kq6uiv7Olricf8kn6uqb1bVsWkjZV4EnFJVB07XgCTPpXV2sM3uL+AG93jk/H07SeqpqmOBY5OsAG7dj08ZMmpvAo8B9quqlb3rPQ94Py0WPr9X9kBa0vAo4MlVdUXvnM2AG3ZtfWd347krsLJr+4ySTHVsnA7ct6r+0O3fn7Y21mOBl9GSiH3b0W68H15Vl3XnvA74BfCSJG/qplcaVqdxXJJmIW1k+guBX9Ni9nnd/lfT7sNvDpw2w2VW0mLwPgwkDoHHA1sDb5+6fx/SBmO4pHXF3arq1/0dXXLuaOCVSd5fVYNre98OuOtA/PwBsHeS/Xv3wjsAbwbOB+5VVau6/fsDnwCeOE27HgH8fVX950Db9mfMfpIZvvd/0JKGL66qd/WuvwdrdooPZRyXtKGYqc+561O5dVWdMbB/S+AE4C1JDp3q8+i5OW1Qzd2m+miSvBb4HvD8JEdU1XEzNO+dtKThK6rqLb26N6fF8lcl+WRVrTWoxjguTcapShfHacAb+juq6kvA74D79nb/HVDAS/udDlV1DvD6bvPZs2lAVX2gqnauqp0NjJKWqRP6ScPOIbRRe3+JpUk2oiURL6N1PlzRP6Gqrqiqc+fYlr/r3t8w1VHSXftq2kMg1zI6Xr+wfwPdxfjPAFvSnrIbyjguSbM2NRrmjVOd3tBGEtIeAplRVX2L9pDH45JsM3B4n+79w9OcbwyXtE4YTBp2+66kJdY2Bh465LRXDMTPS4BDaX1KO/fKPZ02w8a7p5KGXflraQ9NXztN004ZTBp25txPkmR72kOFvwXe0z9WVZ8Bvj7d+V0547gk8Zc+lTOG7L+Q1kezNXCfEafv3++j6f62TMXy/Yaf0iS5EfAM4MR+0rC7zuXAK4AATxvRbuO4NAFHHC6OU6rqmiH7T6dNx0GSG9CmyTizqoYt5P3V7v2eC9NESVrnnTi4o6quSnI27cZ0yp1oSbjvVNXvF6gt9+revzp4oKp+keQM4DZJtuxunqdcWFW/GnK907v3rYcckyTNzVTMHtYxfDww7D59mA8DbwSeCrwXIMlNaVMjnVxVP5xjOyVpwSW5Fa1z9aG0qf+vO1DkFkNOW+s+nOH3ryPjbVX9JsnptKUMhvnukLbOVz/J1PHjR/TNHEsb1ShJGkOSu9IeCHkIbSTh5gNFhv0tuZo2vemgY7v3mWL5fYCNgOrWYRy0Sfd+5xmuI2kMJg4XxwUj9l/N6lGfW3bvZ40oO7V/q/lqlCQtM9PF0o1621NxcnCKpfk0Tsy+VdeWfuJwuu8Aa34PSdL8mIrZZw8eqKqrk/xxzOt8hPZE9D50iUPa6JqNmWa0oSStK5Lclpag2xr4BvBl2r3qNbS1wPcBNhs8r6qG3cMOu38dGW87f2B04vAPQ/bNVz/JOO2SJI0hyf1pD25sDBwDfJa2/u21wD1o64iv9bcE+OOIhzemYvCWQ4713ah7vw+jRzQCXH+G60gag4nDdcdUx/LNRhy/+UC5WVt10GPmeglJmq2p6YlG/f2Zj4cjpjo2hj3hNl/6MXut6Z6Yx5g9jHFckiYyFYtvSltX5S+SbAzcGFhruqVBVXVGkq8CD0typ270yz7AVcBh4zbGGC5pCb2U1vG6xrrhAEn2YvXUy7PVj7c/GXJ8VH8HtOlIR11vrv0k/XYNM1271mIcl7SBO4A2Wn23qjq2f6Bbl3aPEefdOMlGQ5KHUzF43Fj+jqp66QTtXYtxXJqZaxyuI6rqz7TO51skuf2QIrt17yf19k0FWkeoSFouzu/ebzl4IMkNgTvMQx0/oyUPd0qy3RjlZxNLT+7eVwweSLIjsD3w2xFPZ0uSFtfU/fOwaeh2YbL4v7J73yfJPYCdgKPnYe1cSVoMO3bvnxpybD6m6hwZb7vRjmv9P8B0ZtlPMszUvfsu3Xrog1ZM0i5J2gBM10+yI3DeYNKwM93fko2BBw7Zv6J7P3nIsb7v0h5Gf/AM5STNAxOH65ZDaIu4Hty/mU1yY+A1vTJTzqc9lXerRWuhJM1B9z//PwMelOQuU/u7mPd21l5jZTZ1XEObQu66wPuTrDFFRpJNk2zb2/Wn7n2SWDoViw/oX6v7Hm+l/X3970nbLklaECu791cn2WZqZ5LNgX+f8Fr/S5uK6RnAvgPXl6R13arufUV/Z5LdgWfPw/UPpY3C/qckO/Sufx3gYGbXBzVpP8laquoM4P+A2wAv6B9LsgeubyhJf5FkFW0d8FF9zquAbZLsNHDes2hrf0/n3/t9NN29+QHd5oemO7GqzqH9ndk5yWuGPQiS5HZJbjNDGySNwalK1y1vBR5FG9L9gyRfALYAngzcBHhLVR0/VbiqLk7yHeDBSQ4FfkF7IuSzVfXDRW+9JI3nYFpS7YQknwAupz0tvAnwA+Du81DH64D7AY8DfpHkc8CfaU85P4K2iPfKruzXaE+t/XuSu9GNiqyqN4y6eFV9M8lbgJcDP07ySeASWgy/G+0m++B5+B6SpDmqqhOSvBv4J1bH7Kto99znM3rtrGHXuqz72/Us4Pm0h08+P/+tlqQF8V5gP+ATXSz8Pe3e9ZHAx4E953LxqlqV5JXA24CTkxxBm1pud9qSBD+kjdSexET9JNP4R+BbwDuTPIL2/x07An8DHEX7/wZJUlPA0D5n4J20uH58ko/T4vzOtJk8Pgn87YhrnkVb+/DHST5L6wP6W9q00++tquPGaNcLgNsD/wY8M8nxtPVrtwPuTFv7cC/gt5N+YUlrMnG4DqmqK5M8nLbuwNNonRtX025oX1xVHxty2jOBd9Bu9PeiPYl3Bu2GfKgdXrn+9204V7W07qqqQ5KEFuv2oXXafgZ4FcOnTZpNHVcmeSTw98DeXT2hdY4cSUvsTZX9aZJ9gJfROoE37w6NTBx2570iycm0G9e9aTe9v6Y9Lfe2qrpyPr7LMMs5jhufJS2RF9E6PP4ReB4t4Xck7W/PDya81kpa4nAT4GOTxvvlHMOnY3yX1n1V9cMku9Hucx9D6xP6AfBE2lT/c0ocdnW8PclZtAf19qU9vPcl2gN3Y68H27vebPpJhl3nl0nuDxwEPIw26vKHwBOAbZkgcbjYcdz4KmmJDO1zrqqVSR5H6/vYk5ZQ/C7tgfDbMjpxeCUt/r4JeCptnfHf0OLyu8dpUFVdlGRX4Lm0vwlPovXhnA38EngJbYT5tNbX+/GZ+PdEk0jVsPWntT7b4ZWfX+//oxsINYYsdQOk2VrOcdz4rHlkHNeytJxj+HSM75oF47iWpcWO48ZXrcOM4+uhbqpSqmqHpW3Jwllf78dn4t8TDTEyjrvG4TxLsiJJJTlwxPFVUwG42940yQuTnJTk/CSXdmU+k+RhQ86/U5KVSU5PcmWSs5McluSOC/etJGnDk+T+XTw/cpoyP01yRZJtunj+giRfSHJat/+8JF9J8qgR56/qXjdM8vbu81Wj/oZIkuZXkh26WL+yu8/+dBe7L0lyfDed3VTZrbs4fUWSew9c5zpJvtZd65mL/00kaflLsm+STyX5TZLLklyU5IQkzxhS9tgu5m6W5A1JftvF518neW2STYecU9152yX5aJJzunq+n+Rpi/MtJWn+JLlvkiOSnNnFwLOSfDnJUwbKPSXJcUku7OLej5Lsn956gzPUc2AXQ1cMOfaX++mB/Su7/bfp+kpOTXJ5dz/9qm4mKpI8Ocl3u/vvc5K8J8l1h9QzFcNvnOQD3Xe9IslPkuw3yc9N0sycqnTpraQN9/4x8BHgMtq8zLvQhoJ/Zapg2rR7/0ubFuko4FfA9rRpRR6TZLeqOmkxGy9J66uq+naSnwOPTnKjqvpT/3iS+wJ3Aj5VVecluRnwLuCbtKkxzqXN1f844AtJnlNVHxxS1abAV4FtgC8DF+F8/JK02G5DW/vqR8B/0uL3nsDRSZ5WVUdU1flJ9gKOA45Ics+q+nN3/mtp096trKqPLn7zJWm98D7gJ7Q4exZwI+DRwEeT3LGqXjPknI/T1rTqr197ILBzksfX2tNsbU27X78A+BBt7cWnAIcmuUVVuU65pGUhyXNocXNq7cFf0tZ+3Zm2DMvHu3JvAvYH/kibMvpi2tqxbwJ2T/KIhVxqhbZW7QpaX/aXgccDbwQ2TXIebarSTwPfAB5OW1pgI+AfhlxrK+AE2rSnn6Stmfhk4JAk11bVhxfwe0gbFBOHSyjJlrQ5nb8P3K+qrhk4fqPe562BjwGXAg+pqlN7x+4GfBv4IHCvEXU9lzb/M9vs/gJucI9Hzu+XkaT104dpN9N7Ae8ZOLZPrwy0tRpvXVVn9At1sf4E4C1JDq2qywauc3PgVGDXqrpkVEOM45K0oB4CvLWq/mVqR5L30JKJ709ydFVdVFXfSvJq4M3AB4C90tYLOwD4Ka2jYy3GcEkay92q6tf9Hd3IwaOBVyZ5f1WdOXDOnYG7VtX5XflXA18DHgs8Axh8mGMn4BPAU6vq2u6cg2j9Mm9M8qmq+s1gw4zjktYlSe4CvJf24PGDq+onA8e3794fQEsang7ct6r+0O3fn7be92OBl9H6PRbKvYGdpuJ3N8PSr2hr4V4K3Luqftod2ww4Gfi7JK+tqnMGrnV34L+B5031oyd5J23N2lewun9mLcZxaTJOVbq0ijaP7BXAtWsdXHN0y960pype208aduV+DPwXcM/uD8faFVV9oKp2rqqdDYySNLaP0uLzPv2dXQfGU4FzaB0ZVNUVg0nDbv+FwCG0p5vvM6Kef54uadhdxzguSQvnQuDf+juq6kTgUNo9+N/0Dh0MfBF4atfpcijtfn7Pqrp02MWN4ZI0s8GkYbfvSuA/aA++P3TIaa+fShp25S+ndZID/N2Q8tcAr5hKGnbn/Bb4f7TZnYZON20cl7SO+QdaXHz9YNIQoNc3MRUH3zCVNOyOXw38M62/49kL3NbX9x/6qKoLaCMktwDeN5U07I5dARxBm5npzkOudSnw0v7gm66f/ATgzkmuP6oRxnFpMo44XEJVdVGSo2jT2J2S5FO0YdnfGdLp8IDu/e4ZvvbVHbr3O9NGrkiS5qiqzkhyDPDwJHfpPbjxONrUou/obrgBSHJX2lNzD6GNJNx84JK3GFLN5bSn4yRJS+ek3rSjfcfSHh65J90TzFVVSfYGTmH109nPq6ofLUZDJWl9leRWtBEjDwVuBQyucTXsXvrrQ/YdT0sQ3nPIsd91icJBx9KmnR52jiSta+7fvR89Q7mpmem+Onigqn6R5AzgNkm27B56XggnDtn3++79+0OOTSUZtx9y7JdVddGQ/ad371vTpmKVNEcmDpfenrQb46cBr+v2XZ7kk8DLqursbt/UtKXPmeF6I5+skCTNykraPPv70OI1rD1NKUnuT7sZ3xg4hvYE3UW0J/juQVtvZdjC4+cMWXtFkrS4zh6xf+rJ7C37O6vq3CTH0Uaf/4m1p8KTJE0gyW2B79I6fb9BWwfrQloCcAfa/fewe+m14ndVXZ3kj7S1vmYs3xka7yVpHbVV9z44ffOgqZh21ojjZ9Ee1NiKFnMXwrDrXj3GsU2GHLtgRB1T52w0QbskTcPE4fybmu5i1M92K3pBrlvr6kDgwCS3pI1S2Zc2F/8OwIO7olOB9O5V5cgUSVo8R9ISgM9I8iragxyPAn5QVT/olTuA9lT0blV1bP8C3VR2e4y4vklDSVp6Nx2x/2bd+xqdGkmeSksa/hG4MW2Ku5ke8JMkjfZS2n32flW1sn8gyV4MLB3Qc1PgdwPlN6bF5mGjUiaK95K0jprqW74F8LNpyk3FtJsBa00HTZspqV9ulOn6u7cask/SMmficP5Nza1/y8EDSXakPekx9OmIqjodODTJx4CfA7skuVG31uG3gSfREolzShyuOugxczldkjYoVXVZko/T5v1/GG1K6I1Ze9HtHYHzBpOGnV3ns03GcUmad/dKcoMh05Wu6N5PntrR3dN/ADiXNv3TocCzkxxTVYfPVJExXJKG2rF7/9SQY9PdS+/K2qO+d6GNOjl57eLcKskOVbVqYP+K7n3YOWswjktaB3wb2Jn2UPN0icOTaferKxhIHHb3tNsDv+3WHZzOyP7urh3LinFcmtl1lroB66Gf0Z5q2yPJX6bFSHJd2pPI9PZtm+Svhlzj67Sb5quBK7t9H6IlHF+b5L6DJySpJKfMz1eQJA1Y2b3v3b2upnUU960CtkmyU39nkmcBuy9w+yRpvZdkh+6ed+UCXH5L4F8H6tsZeDrtCewju32bAofTlgfYp6rOoC058CfgsG6dGEnSDIbE9FXd+4qBcrvTHuAb5TVJtu6V3xz4927zQ0PKbwS8Ocl1eufcBngh7R7/f8b/FpK0ZN5Hi1mvSXKXwYNJptYHPKR7PyDJtr3jGwFvpeUG/nuM+r7bve/Xjeqeus4tGbiHHibJqiSrxqhH0jrCEYfzrKquSvIu4DXAyUmOpP2cH05b+PX3veK36Mr8iDaK8HTghsB9uuPvnXrquar+lORvaZ0W305yDPAT2hR3U097rNFZLUkabeqmtap2mKlsVZ2Q5FfAk2nz7B9VVecMFHsnLUF4fDdC8ULak3e7AJ8E/nbeGi9JmlGSfWmdxmtNezfEcbRRg/cDTqBN27QnrTPleVU1Nd3dW4B7A2+vqqMBqurMrq6jgG2TbFpVVw5WIEma1nuB/YBPJPkkre/kbsAjgY/TYvIwPwV+0p1zFW15gNsBn2f4+rM/BO4HfD/Jl2lT7D2le395VQ2byk+S1ilVdWqS5wPvp/Utfwb4JW3K5/vQBrXsVlXfTPIW4OXAj7tYeQltpOLdgOOBg8eo7zvd+t4PAb6b5Ku0qZ8fB3yJ4SMRJS1jJg4XxmuBS2nrnDyXtsj24bS1DE/tlVvVlV0B7Eabg/884HLaot8v7l+0qo7pRrK8jNY5/WDaiMSpZGT/2iPt8MrPT/yFFoLDwiUtMx8GXt/7vIaq+mKSx9HWOtwTuIb2VN5uwG2Zx8ThuhLHx2W8l7QM/Bb4e+Cg7n0z4CTg36rqSwBdjH8RcCLwyv7JVfW5JBfRHgI8uCs31LoSw43NkpbYmbQlAC4EqKofJtkNeAPwGFp/1Q+AJ9JmXxqVOHwK7cHtpwPbddc9EDioqoatJX4+rcP8LbRE5Q1pfSlvrarDxmn4YsRxY7SkmVTVfyX5Ma2feAXwBNr62z8EPtgr94okJwMvoM2gtAlt2tIDgLdN8MDbHrT73D2Af6IlKl8OfJkWi5eNdeV+fCH490PzxcThAuhuTg/qXoN26JW7APi37vUXSY4Fdh12k9vNw/+Cwf1JivbHQZK0AKrqDbSOjOnKfA743JBDx7F6utN++R3mo22SpLmrqp/SOkJGHT8KyDSXOB84v6pGJg0lSU1VXcXAulxV9U3gr0ecMjT+VtUVtM7vAyao+/fAM8YtL0nrqqr6FvCkMcodThvUMs41dxix/wLaIJnnDDm8Voyuqn2BfQGSDB47kPaQx7B6VjK8/2TkfXi/LknzY4Na4zDJ9ZNcmeSEgf3XTXJ5N7/+MweO/UO3/+96+26f5CNJzuyu9/tu+/ZD6lzZnb/DkGMrumMHjtn+TZO8Jsmvk1yR5LdJ3pBkszF/BJL0/9k77zCrqqsPvz9U7AFrjBV7r0FjQYEPY1fURI0lsUs0Rk2MEVvAWGOKRk00VpRYozH2koCgoKioaESNRsVgLyBWquv7Y+0DhzPnztw7c4eBmfU+zzxn7m5nn+FhnX1XnWfJ10GRtJakWyR9IOlrSb3SmB0l3SfpoyQnX5P0W0ldc+v0Ss4WqwCrpDWzn0HFe1XYy7C0Rr5tpkyXtIWkeyVNyN4Bhf5NUv8nkr6UNFzS1q30pwuCIGh3JLl6c5L3kyWNlrRbrn8Ys2pbXVuQ9d3SmIF4pCHAqpKeTjL5HUl/yM7Ykv4vyf1PJU2UNFjSUnPqWYMgCNojZeftdMY/P8n0D9N5/k1JV2hWva6MZdOcCyusv2CS2e8qV48LWEnSUElvJX3Oh5LukrRV3R8yCIJgHkDSlkke39HImJeSTF4y6aePTbqXN1P7BEn/krRzDfcdmO7bq6Svok5G0iKSTpE0RtIXkj6X9Lik/au9dxAETdOhIg7N7HNJTwLfkbR4Vj8Q2AZPRwTQh9nz4PdJ1yEAkjYH/gUsDtyFp7RYB/dW6ytpezN7qt57lyQ8r39fPJz8UqAzcBiwYb3vFwRBMBezOvAE8ApwA7Aw8KmkAbjH2gQ86u8DvPbrL4BdJG2ValSNA85kVjroi3Jrj6nD/rYCTsFrBVyDp6HOp/7ojqfzeBxPH7Iy7iE4RNImZvafOuwhCIKgPbMKngr6dfzcviSewu7OdBZ/GPdS/gQ/O9/J7PL9k5I1t8HP2sOAHYCfAUvK68XcjNfKugLYGj/3L42nuguCIAjqx954uuiHgcfwM/T6wBHA7pK6m9nbaWyWcekASSeZ2fTCWn3xuoW/L/StijuN3ItHiq8M7AHsLGl3M3ugFZ4rCIJgrsXMRkn6D6433t7P5wAAIABJREFUWcrMPs73S9oC133fbmYTJC0H/BGX0/8EPsTrg+8O3CfpSDO7ilYgOYUPBTbFywpcgwdG7QjcKGl9M6s6Aj0Igsp0KMNhYiiuGNgOPyiCGwdnAMOZZShEUie8NtXrZvZmMt5dj+fAP8jMbsiN3Q9XKgyWtJ6ZfV3nfe+PH3xH4cVtJ6f7DgDqbqgMgiCYi+kBnGdmp2YN8nooA3Fj3C4phUbWdwgedXIm8LOU8nlgas9SZNSTHYAfm9lf8o2S1kq/7gocmtJvZH398KLmxwPH1Hk/QRAE7Y1ewEAzOzNrkHQj8ABwEvCwmQ3yozt9gX/kZW4F7jazA9JaWX3DH+IKkB3MbHjq6wQ8COyUnD3q4XASBEEQOIOBC1P60ZlI2gG4H09HenRqznQuywI70bBcwMHpWqxN/riZbV9Yf0XcIeVC/F0SBEHQ0bgOOBfXP19a6CvK04nAKmb2Vn6QpC7ASOACSTeY2VetsM+LcKPhyWZ2Qe7eCwH/AE6VdFuc0YOg5XSoVKWJIenaJ9fWB3ga+DuwYk65uwnuwZzN2Rr3sHg8bzQEMLNb8OiStXGldr05NF1PzYyG6b4TgLOamizpqJTuY/RnY+IcHATBPM37uBEwz3HpemTeaAgz8+OPAQ5s/a0BMKZoNCwwskSBfQ0wHdii0qSQ40EQBDN5k0LNWTN7EPgfjcjRRjjbzPbKrTUFuAX/rnRvZjRMfV8Df00fN672BiHDgyAImsbM3i4aDVP7Q8BYPKIka+uFO4XDLKU2ACkaZkfgWTP7d26OzGwbCiTl923AOpJWLttbyPEgCNo5g3GHjKI87Qz8AM/odD/4WbloNEztk3DdxhLA5vXeYCoVcBAwOm80TPeeDJyM11o8oML8kONBUAMdMeLwceArkuEweUNsBlyARyOS+l5hVlHurH2zwuciQ3Gj4abAI3Xdtd/7a9w4WWRYU5PN7Ao8vRLd+t9rTQwPgiCYm3muRKGwFTAN2EfSPiVzOgPLlKXdaAWebKJ/dLHBzKZJeh8/YJcScjwIgmAmY8xsRkn7ePx9UCsN5DLwTro+XdKXpckr1tuqSMjwIAiCpklZng4EDsGdM5YA5ssNyaf/x8wek/QKnsZ0CTObmLoOTPMGldxjGzzLx1Z4tGLnwpAVcEeU2Qg5HgRBe8bM3pI0BPhuyqT3YuraHQ+quTCf9lnS+nimj+3wNKULFZZcoRW2uTku201eq7zIAum6btnkkONBUBsdznBoZlMljQC2l7QMHkU4HzDEzF6S9C5uOLwsXY1ZhsIu6fpuheWz9q6tsPUuwAQzm1bS914r3C8IgmBupUzmLYW/0wY0MXcxoLUNh03J5LLaWuARh/NV6AuCIAhm0ZgcbU5GlUkV1mqqb4GSviAIgqD5/AGvQ/4unhb6bdzxG9yYuErJnOuAc/CImMtS28G4U+GN+YGS9sIjCyfjdbleA77AnbR7AT2BBev0LEEQBPMag4Dv4jL05NTWIO2zpC1xXfn8eJa+u4BPcVm6CV4qoDVk6VLpujmNRzQu1gr3DoIOR4czHCaG4oKwD244nIznYM76dk61TbYFxprZB6kvUxwsV2HdbxXGway8+2V/61oMjJOAJSUtUGI8rLSfIAiC9kiZZ9gkoJOZLVmnezQmu6Fx+R2ea0EQBEEQBEFQA5KWxcsPvABsbWafFfr3rzB1MF6+5WDgMkmbAhsCd5rZR4WxZ+FRi93N7KXC+n/BDYdBEAQdlTtwA+BBkk7FDXU741mfnsuNOx1YGOhtZsPyC0g6BTccVkOtOvNM336hmf28ynsEQdBMOqrhMF/ncCvgsVzdwCF4WoujgUVzYwGeTddeFdbtna7P5NqyVBkrAf8tjO9ew56fAbbHU6E+XOirtJ9Sxp2/ay3DgyAI5gVGAbtKWt/MxlY5ZwYNUxNl5GX3bEj6BrBWsX1OEnI8CIKgKrJ0pnNVNHfI8CAIglJWw6PGHyoxGq6Y+htgZuMlDcWzSq1NSXRMjjVw5/Ci0bATrmupipDjQRC0R8zsK0m3AkfgOuh1cdtBUZ6ugWfFG1ayTC0OGBX1LpTrzJ/EjY3b1nCPUkKOB0HTNCeVT3vgGdxLoS+wPrMbB7O0pKcUPoNHJf4H6CHp+/kF0+dt8dqI+TqEWa2rIwvjN8Tz6lfLtel6jqSZeaMlLYl7egRBEHRkLkzXKyUtX+yUtGhKp5HnY7zu4cLF8UlZ8TKwjaT1cuvMh6dQajCnBmZLpyqplySjddJcB0EQdGSy1NQrt+kugiAIgmoYl6490pkbAEmLAVfSuOP7oHQ9HNgf+Ai4p8I91sx/X0h1FQcC65WMD4Ig6GgMStcfpZ/pwA2FMePwrHgb5RslXQ3sWMO9Mp35oZJmynhJKwG/Kg5OGQFvALpLOiP/rsjNXV3SqjXsIQiCCnTIiEMzmyFpGLNCp4fk+t6U9BqwOu6lPDzXZ5IOxnPh3yLpTlyxvDawJ/AZ8CMzy0KtAe4EXgX2T15yT+DKi76pb98qt30TsB+wB/BCuvcCwPeBp9J+gyAIOiRmNkRSf+A84FVJ9wFv4LntV8G93kYAO+WmDcHz4j8g6RFgCp6C4+7U/1vgamCkpL/haa1747L3OWDjVn+wIAiCoCU8DnwJnCBpKWbVoL3EzMpqFwZBEARthJm9J+lmvFbhGEkPAV3wMjOTgTF47awysvR6J+Bn9UtKSryAOxteDjwr6Xa8DuI2uNHwbmD3+j1REATBvIeZjZT0X2AfXJ7enSvhlXERbiAckSIUJ+ERgjVFAprZE0kXsx3wZIoe/yYuix+kPBLxWGBN4NfADyV9gb8bHgSWxHU8++P6oCAIWkBHjTiEWcbCT4HRFfqeLioVzOwJXAjdiKc5PQmvk3gTsHnqz4+fjKdEvRXYABdwqwEHMKtwd5OYmeFCewD+73YsbkS8luqNj0EQBO0WM/sNfuC8F1cAnIDLzRWAK2gYnX02rjhYHY8yPwv4Xm69a/AUHe/gKY/2BR5La3/Sio8SBEEQ1AEzm4jL9ReBQ3A5fxawRBtuKwiCIKjM4cC5eHaPn+CK6XtwnUtFhw8z+xL4G67khvI0pZjZX4BDgXfx8/2BwHjgO8xeciYIgqAjcx2NyFMzewA37r2IB7kcjjtin9+Me/UFrgJWBH4KbAr8Eji5bLCZfYo7hv8Ujy5fN3Vtigf0/AwP+AmCoIXI7VFBR6Jb/3vnin/0yCcdtDFq6w0EHY8U7d7TzJRr64XXrj3TzAZWs05byPGQ2cFcSMjxYJ6kLc/iIcuDuYyQ4x0YSesALwFXmFm/tt5PLcwJOR7yOphHCDkezETSIXiAy6FmNmgO3XMgHmTTu0LNxVLmFt14PYn3RtBMKsrxjhxx2KpI6ibJJA2StJakWyR9IOnrVM9qnKRxFeYOTHN7FdpN0jBJS0u6QtK7kqZIGivp0DnxXEEQBB0FSVsk2f12krXvSnpI0r65MYdIul3S65K+kvSppJGSDmrLvQdBEASzU6VM30PSkNwZ+x1JwyUdU1hrtXQW/2+S/RMk/VvS5SklahAEQdA0a6Xr1o3JZgBJ+0p6RNKkJHf/LekUSQsWF810LZIWk3ShpPFpzhhJe6Yx80s6TdKrkiZLek3SsXPgmYMgCOYKajj3LinpPEkvJVk6Kc3bocb7rSjp0qQ7mSLpY0l3Sdq8wvj5JP046Vcy2f9fSVdJWjONGYcbDQEeTnpzk9TujIJB0BZ0yBqHc5jV8bqGr+AFXBfG06M2l67ASGAqcBuwIJ6K7xpJX5tZaUqOIAiCoHokHYmnk54B3IXXql0Wz9t/DJ5+mjRmLPAInvJoKWAXYLCktc3sjDm89SAIgqBANTJd0lHAX/A6iHfjqY+WBTbC09r9Oa31Lby++DeA+4DbgYWAVYEfApcCH8+hRwuCIJjnkLQRniL0qNS0NnAnFc7bks7Fywp8hJeM+RzYGU9puqOkHcxsauE2C+Cp6pZMa3fGa17dnpTdx+DpSe/H0+vtA1wi6UMzu6UVHjsIgmCuoYZz7yrAMKAb8CjwALAosBvwgKR+ZnZlFffbDHgIl8kPAn8Hlgb2xOsk7mVm9+XGd8bTVH8XTyd9I65L7wbsBYzA3xkXpTV64ilVxzXn7xEEQTlhOGx9egDnmdmp+Uap2dH8GwNXA/3MbEZa6yLgeTz/cxgOgyAIWoCk9fCD8qfAtmY2ttC/Yu7jBmb2WqG/M66E6C/pcjN7u7X3HARBEJRTg0zvhzvmbWxmHxTGLJ37+H1c6XGCmf2xMG5R4Ov6PkEQBEG7YzPgONzp4nNgy0qyWdJWuNFwPLCFmb2X2k8B7sCV17/AjYh5lsdrFvYysylpzmDc2e9vwGv4Of6T1PcH4GWgPxCGwyAI2jvVnnuvA1YB9jezm3NjuuIGxYsl3WVm71e6kaT5cUeQxfB0osNzfcvjDnlXS+qWyWtgIG40vBvYJ9dOijT/BoCZXZT20hMYVEuq0iAImiZSlbY+7wNn1nG9L4GfZ0ZDADN7EY9CXFfSYmWTJB0labSk0Z+NeaCO2wmCIGh3HI071pxVVGIAmNlbud9fK+mfCvwprdGnXpsKOR4EQdAsqpbpwHRgWsmYj0rW/apk3Bdm1qAdQoYHQRBkpLpXV6WPv2pCNh+WrmdnRsPUPx04EXfWOKLCrU7IK5vN7FHgDWAJ4OTMaJj6Xsd1KhtImq9ssZDjQRC0Mxo990raGDfI3Z43GqYxn+ApQhcCvtfEfXbFs/FdkjcapnXeAS4AliPpTpIMPgY/a/84L8fTnClm9mGVzzgbIceDoDYi4rD1ea4o5FrIq2ZWlup0fLougXvtzYaZXQFcAe2zAGwQBEEd2TJd729qoKSV8WjvPsDKeDrqPCvUa1Mhx4MgCJpFtTL9BuD3wIuSbgaGAyNLFBN34ZEtf5K0I55uaSTwoplVlM0hw4MgCGajWtm8WboOLXaY2SuS3gJWldTFzCbluj8pc/AD3sFTSz9d0vc2riNbLv1evF/I8SAI2gvVnHu3StcukgaWrLFMuq7bxL2ydVapsM6auXXuA9YBugBPJMNi3Qg5HgS1EYbD1ue9pofUxCcV2qena6l3XBAEQVA1XdO10RSjklYDnsQdNh7Fc/ZPwmtodQMOxuvQBkEQBG1HVTLdzP4g6SPcw/k44ATAJA0HTjKz0Wncm5K2wFMo7QTsnZYYL+l3ZnZxKzxDEARBe6Mq2Ywrj8FriZfxLu681xU/h2dMKh/uepOCkXG2Prw+YhAEQbulynPvUmn4d9NPJUoz3+XI1tmniXHZOtW+H4IgaGUiVWnrU8mD4WsqG267VmgPgiAIWp/MQaOpaMGf44fgw82sl5kdZ2ZnmNlAPAIlCIIgaHuqlemY2fVmtiUu23fF64pvBzwoaZncuJfMbL80rjteE6sT8EdJh9d5/0EQBO2RamVzZuBbrkL/twrjgiAIgiqo4tybydXjzUyN/BzaxK2ydfo2sU5W5qvqs3sQBK1LRBy2HROBjSQtYGbFnNLdW/PG487ftTWXD4IgmNcZhcvhnYGXGxm3RrreXtLXs96byhNyPAiCoGqqlekzSXVb7gPuk9QJr7G1HQV5n2psPQ08Lekx4BFgT1zxUpGQ4UEQBFXL5mfxdKW9gNlSj0paA1gReCNfr3BOEHI8CIL2QiPn3lFpyLZASzJq5Ne5q4rxL+PGw40kLV9FutIZ6VpTBr6Q40HQNBFx2HY8iRtuZ/PMkHQIsE1bbCgIgiBDUjdJJmlQW++lDbgMT1V0hqT1ip2S9pFkwNKpqVehf0fgiNbeZBAEQeBIGpbkchmlMj2944ZJWjF97i1JJfOXTdcvJQ1K8zYsGffNbFwzHyMIgqAjUe15O5PLp+cjvyXNB/wO12k16qwRBEEQzE41596UrvRRYG9Jh1VYZ0NJy5b15bgTd/z4iaRdKqyzlaRFAMxsBvBnYGHgckkLFsZ2zr8PgI/TdeUm9hEEQY1ExGHbcQluNLxMUh9gPLAJXjT2HmC3NtxbEARBh8XMXpR0DHA58KykO4FX8RQemzPL6eYpYEPgb5JuA94BNsBrXt0K7NfUvZJC5Lm6P0QQBEEANCrTAb4NDAZ6A3cAnSQtjsvwt3DP6M3xqMJ/MUuuPyXpUVwJMhFYHdgdmAJcNCeeKwiCYF6mhvP2eOAC4JfAC+nM/QUeqbgBMAL47RzefhAEwbzOHcDnkkYB43AnjeK5F+AAYChwtaTjgCfwaMAVgY1wObwV8EGlG5nZNEl74+Vc7k1ZOsbgznYrpXuuhqeezhzwzgS+g5+vX5F0D/BZGr8DcBIwKI19GC8Hdp6kDfCzOWZ2drP+MkEQzCQMh21EOihvD5yLC8LpuCfHVsDehOEwCIK25W1gXTpovRAzu1LSC8Av8IjCPYGPgOeB64Fn0ufBwNl4TYD5cSPg3vhhuknDYRAEQVAXfgQsUqmzgkwHmAb8Kf3eHzgeWAfoiysu3gROBi5LSo9sydtwx5Fv497QbwM3A783sxfq9lRBEATtmGrP22b2kaRngWNxeb8A7rhxOi53p7bB9oMgCOZl+gM74qmgdwEmUzj3ApjZW5K+DfwU+B5wIJ4S9D3gRTwo5t9N3czMnpe0MfBzXN99KG7sexdPST0Al//Z+KmSdgJ+jMv9g3Hj5ju40XNEbuxLkg7G3yXHAAulrjAcBkELkVmlrD5Be6Vb/3vb9B898kgHcwllaRmCYI6SIg6Hm1mvWubNaTkecjuYSwk5HjSbMvkraSCuuOhtZsNK5gzCFRermtm45t67Lc/iIc+DuYyQ48E8Sb3keMjkoB0QcjyYJ2lr3Xi9iPdIUAcqyvGocVgjknql2iYDK/SPkzQu97mzpOMkPSNpoqQv05g7U8Rhcf46qX7KeElTJb0v6UZJa5eMzeqsrCbpp5Kel/SVpGF1fOQgCDogZTUOJa0l6XxJoyV9KGmKpDclXZHViMqN/UGaf2GF9RdMMvFdSfOnti6STpI0VNJbSQZ+KOkuSVtVWGdbSXen8VMkvSdplKQBJWMXkXRy2v9nkj6X9JKkiyV9MzeuUdla6T2gVGMrPdvZkt5Ie3pN0gBJnXNjD9Gselw90zwrWzcIgqA9I2mxJO9HFtoXljQ5ycUfFvqOTu2Hpc+lNQ7TOfyMJIenJLl8tgq1UtLYcbjREODhvFyusO9+kv6d9vh+ehd2aeafIQiCoF0jacskU+9oZMxLSVYvWem8ncYtKem8NP4rSZMkDZG0Q2HcjmmNcwrtvXMyfqVC3y3Z94AWPnIQBEGHJa9PSnqkWyR9IOnrJN87SfqxpKeSXuaL9PvRkjoV1npH0tsl93gz3eOMQvvOqf3Xrf2cQdDeiVSlrc8gYH/gBTzdxlfA8kAPvA5WljcaeRj23/HUG3cD/8XzRu8N7Cqpt5k9U3KPP+K5qO8F7gNmtNKzBEHQsdkbTxXxMPAYMBVYHzgC2F1SdzPLDnT/wNOcHiDpJDObXlirL9AVTy+U9a0LnAM8gsuziXiB6z2AnSXtbmYPZAskmXkv8ClwF54qbsm0zjF4Xvxs7BJp3xsD/wGuSftfHU+T8Xfg/cIemytbb8Xz9N+Gp8HrCwwEukvawzzUf0za3wA8Jcig3PxhVd4nCIJgnsfMPpf0JPAdSYub2WepaxsgM/D1wVNDk/sMMKTSupKEy+O+eEq7S4HOwGF4mtEiF+Fp8noC1+H1XipxAZ7e6W7gIbxG4pHAGsD/NTIvCIKgQ2JmoyT9B9hF0lJm9nG+X9IWeKro281sglTu/C5pFfys3A0v9fIAsCie+u4BSf3M7Mo0/FH8vN8HOC23TJ/C74PS2sLl+Tgze73ZDxsEQRBkrI7XRXwFuAFP8f8pfq4/AK9jexVgwF7An3F9+YG5NYYCB0pax8xeBpC0Bq4rApfjZ+XGN/k9IQiC6gjDYSuSvI5/gBeW/Y6ZzSj0L5X7fQngJryeynZm9mKubwNgFC5MNyu51WbApmb2Rt0fIgiCYBaDgQvNbEq+MXn33o/XGTkawMwmS7oFOAp3krinsNbB6Xpdru0lYHkz+yg/UB7N+CRwIa4cyDgSj5zvZWbPFeYsXbjfn3Cj4eXAT8zs69zYxfA8/UWaK1vXBdY3s4lp/dNwo+VuwEHAYDMbA4yRR0aOM7OBNd4jCIKgPTEUNxRuhztrgH/pnwEMJ6fkTV7IvYHXzezNRtbcHzcajsJTj05O8wcATxUHm9lFkrrihsNBZalKc2wJbGhm/0trzp+eobekLczsySafOAiCoONxHXAuLp8vLfSVfTeotMYqwP5mdnPWmOT3MOBiSXeZ2ftm9qWkJ4CtJXUxs6x2ex+8ptbK5AyHwEbAMrhTSBAEQdByegDnmdmpWYOk/XGj4bO4/vvz1H46fu4/QNK9ZnZjmjIUNyT2AV5Obdl3g3/iGZwWMbMvc31fAY+33mMFQccgUpW2LobniZ2CF32dvXN2L7sf4dE3A/JGwzTuBeBKYFNJ65Xc54KmFNuSjpKn5xv92ZgHGhsaBEFQipm9XTQapvaHgLF49EWe7Iv/wflGSculsc+a2cxC2mY2qWg0TO1v4dF760haudiPHwqLc2auI2lZYD+88PYv8kbDNPbznCIhT5OytQJnZUbDtP5k4JT08bBmrAeEHA+CoF2TeQQXo0CexiPCV5S0VmrfBI8ub8qL+NB0PTUzGgKY2QRm90puDr/OjIZpzenAtenjFmUTQoYHQRAwGNeLFL8bdMYdrj/AnRFLkbQx7txxe95oCGBmn+CZPBYCvpfrGoI7CPZMaywOdMeVzQ8ze5R4o1EqIceDIAhq5n1ymaASmU6kf2Y0BDCzL4CT08cjcuMrfU94H7gYzyjSA2YG6GwMjDCzqcXNhBwPgtoIw2ErYmaf4t5qW+ORJb9K+fQXKRme1e/aWNLA4g+QKUvWLZnbpFezmV1hZt3NrPvim+zUjKcJgqCjI+cgSf+S1x6crln1nzYEVsiPN7PH8JQUu6eo6owD8S/wg0rusY2kW+V1Xqfk1v9pGpK/xw3p+oSkyyXtp0KtxcTm+PvukXQYrZbmRowML2kbgUfObNrMNUOOB0HQnnkcdwLpAzOzdmyGKwqGpjGZsiBT8g6lcTbDFdQjSvqGtWCvAKNL2san6xIlfSHDgyDo8CRnwCF4+v68Q/TuuEPIDSXlDfJkOpMuFXQmWY3DvM6k+A7piWfeyt4vy0vKxjf6fgk5HgRBUDPPlTifZ2f0YSXjh1PQm6QMI68DWW1EAb1wWT0cmM4sGd8bD+AJOR4EdSBSlbY+++EeEwcwy8tisqTb8MiXrKZWlrb0yCbWW6yk7b0W7zIIgqBp/gCcgEfuPYjXFMyi/Q7B0wYVuQ6vW/gD4LLUdjBe++/G/EBJe+GRhZNxL+DXgC/wQ2Uv/It+Vu8KM/u7pN2AE3GvtX5pnaeBU8zsn2lo13RtUFC7CZorW4u1EjGz6ZI+ApZt5ppBEATtFjObKmkEsL2kZXCnu/mAIWb2kqR3cYXAZelqNG047AJMMLNpJX0tPTt/UtKWKbvLUl8HQRAEziDgu/j3gSyypNo0pZnO5LvppxJ5ncko/PtEplTug9c9HMGsWrZ9JL2Kp8t+0cxCvxIEQVAfyuRpdkZvEBHYiN5kCK4v3wzXJS2Df0/4TNJTzC7js/FBELSQiDisnSzFXSWja9f8BzP7yswGmtlaeA79g/BD6kG4gjwjS5O3sZmpkZ+yw7Q1/3GCIAiaJqX7PA54AVjbzA4ys5OTfBuIp2QuY7aURJI2xaMT7ytJS3oW/kW+u5ntaWYnmtmv0vr/KVvczO41s//DIzz64HUQ1wfuyXkyZwreFUqWaIzmytZvFhtS/aul8ULgQRAEQUOG4h7CfdLPZGBkrq+3pAWBbYGxZvZBE+tNApaUtEBJ33L12XIQBEFQI3fg5+GDJM2XvmPsjEelPNf41Jk6k+Ob0JlkqapJziMjgPVTuYQ+wONm9qWZvQK8BWyPp5lenKadUoIgCILqKdOpVDyjN6I3yWTz9jQ0Dg7FS3stmfomAc+0cN9BEBARh80hq1u1UrFD0hq450SZFzJmNh64QdJNuBK8h6SlUq3DUXgu/m2B51tj4xnjzt+1NZcPgqB9shrubPKQmX2W70jpQVcrm2Rm4yUNxaNI1qZxj+I1cGXwS4X1O5Fy1lcipSAdCgyVNBH4Na6EeBFPOfo1sJ2kRWtMV9oceuIG0zw98CiUZwvtX9OM6JSQ40EQtEPy9Uu2Ah7L1SYcgqe5PhpYlOq8iJ/BlQs98DpWeXpVmDMjXVs1ajBkeBAEHRUz+0rSrXj9qu3xtKLz03S0IbjOBFxncnENtx2C11ffH9gAr4WYMRToy6wzelVRKiHHgyAIms2z+Hl/OxrK3O3wc3jR8DcUN0L2wZ3WXzezcalvCHAa8CNgTeBOM5tBE4QcD4KmiYjD2nkZ93zom7zjAJC0MIXDq6RlJG1YssaiePqM6Xh0DcC1uMFxgKQtihNSHudedXmCIAiC2hmXrj0kzVSoSloMuJLGHVEGpevh+Bf2j4B7KtxjTUnL59YXMBBYrzhY0nbJI61IFvH3JYCZfQjcDHwL+F0yRObXWSzV06oXZ+RrOkpaCDgvfby2MPZjShxRgiAIOiDP4B7CffHI8bwiIfMyPqXwuTEyeXtOksMAJG/k0yvM+ThdV65mw0EQBEGzGJSuP0o/05lVu7wiZjYaeBTYW9JhZWMkbZjX0ySyd0Z/PLK9+H7pAhxD5ZpbQRAEQf24Jl3Pk7RI1ph+Pz99vDo/IWUaGQtsQ0OD42N4ppJavicEQVAF82TEYTKgPQycmVLYZe3DgJ5mpta6t5lNk/RH4AzgWUl34H/H7wLvpJ+MFdKYL4B/AOOBbwC74SmSLs4id8zsY0nfx1N3jJI0BBeKhiuVt8Jz+i9EEATBHMbM3pN0M16rcIykh/Av2d/FD2mVmByrAAAgAElEQVRjgE0qTM9SEp0ALABcUqHm1IXA5bjcvB3PXb8NrkAu42JgBUkjcaPjVODbwP8Bb+LGwoxjcQ/jH+NFtR9M41fFPZD3oH6KgpeAsamW7TRcCb46cC8NIxGHAD+QdDeuNJ8GPGJmj9RpL0EQBPMEZjYjneX7pqYhub43Jb2Gy9IZwPAqlrwJrzW+B/CCpDvxd9D3gafSWkUexhXH50nagJRpxMzObs4zBUEQBA0xs5GS/gvsg8vlu/PppyV1o2GkeMYBuFL4aknHAU8AKwK74GlHV8R1Jx9IGpfmrIbL82WBz/BsJBnZu2ZZPPPTREnXmdkhLXrIIAiCoBQzu1FSX2BfXG/yD1z3vSeun7nFzMqcSYbgOp3s92y9KUknFPUNg6DORMRh8xiAezJMBn6Cp9m4HVc+55Xh49J1GtAb+DmwN/AGfuA9Ib+omQ0BNgL+DHTDFdyH44JxKK6wD4IgaCsOB84FFsZl34545ODWzKo50gAz+xL4G64YgAqpiMzsL8ChwLt4StMDcYeLPSssfS7wL9yweAQuM7+Z2jc3syy1NOn3rfEok2nAUXjKu/Vxj7cXG3vwGtk3rbk7brDshEdNfs/Mijn+j8eV21ukvZ2FGz6DIAg6ItkX/U+B0RX6njazme+cpGDuWVwoydt98HN7J1we74FHIu5bdvOUKvtg4D08+uSs9FOKpEMkmaRDGn+sIAiCoMB1NPHdoAwzewt3FDwNdyQ5EHdkBJgA9AP+XZjzNbMMkY+a2fTCeq+kj4/V9ghBEARBM9kf1yl9jMvtH+MOHsfi+vIysu8CRkPnkqzvfTMbW9+tBkHHRQ11mHM/jUQcrgwsYmYvz8G9jAMws24V+tcBvjSz/82pPTVFt/73tsk/euSPDuYyWi0yuT2QZNdLwBVm1q+N97IAHhkyyczebcu9NMaciHrPmFNyPOR2MJcTcjzIDIdvAHM8QiQZDK8FDjWzQdXOm9Nn8ZDlwVxMyPGgAbWe/SvJYkmrA5jZa1XetxtVvk9aKsdDLgftiJDjwTxJW+nG60G8Q4I6U1GOz5OpSisxNxnnMuakETMIgqCOrJWub7XpLvAU0Xh92SAIgiAIgiAI2jH1OvtXazAMgiAIgiAIGlJVqtKUhud2Sa9L+krSp5JGSjqoZOywlLJnQUlnS3pD0hRJr0kaIKlzyRxL85aXNFjSB+k+T0uqFKJcts9hkko9BiTtIOnutPYUSeMl3Slp+9yYzpKOlXSfpDfTuAmS/iVp58J6vdK9VgFWSc+Q/QwqPlvJfrpIOk/SfyRNljRR0oP5/RTvJWmgpE0k3SvpE0lfShouaetq/0ZBEASNIWkjSb/BUyZ/jdcnbFMkdSvK1tS+hqS/Jfn5haTHJO1aKXVcJXmc+gal/m4lfd+RdJuk9yRNTe+Pv0havsJalt4nv0oyfkpav1/qG1Bh3nKSpkn6d1l/EARBMDuSBuLRIQAHF87jh+TG7ZjO9x/lvpf8VlLX3JjOkp5Kc/coudf1qe+M9HkYHuECcG3h3t1a5YGDIAg6ALWe/RtZZ5xm1TnMty8u6Q+S3kq6mJcl/Zwo5RMEQQdDzrGSxiZ5+LakS5POejYZmnTSJs8CWFynVG6nvkUknSJpTJLdn0t6XNL+JWPz+u8tkv57QmpbPeliPpW0WIXnuSSN/X6L/jBBEADVRxxeBowFHsFrTy2FF58eLGltMzujZM6twObAbXg9qb54jafukvYoqfO0BJ5T/hP8S3hXvP7IDZJWMLPf1vJgeSSdCfwK+Bz4B14za3m83tVBeI0sgCWBP6Z9/BP4EPgWXqfqPklHmtlVaew44Exm1Sm8KHfLMU3spyswElgPeCrNXRp/3ockHZ1qfRXpDvwSeBy4ClgZ+B4wRNImZvafpv4WQRAETbAZ8FPcy/fHZvZCG++nFElr4rJwKeB+XO6ugcv4++t4n8OAK4ApwF34+2NNvKbi7pK2rBDtfjv+Drw/7ekD4AbgAuBwSWeb2YzCnMPw93KZ/A+CIAgaMgz/znA88BwubzPGACRnjYF47at7cHm8EfALYBdJW5nZp2Y2VdJ+wLO4IXATMxuf1jgU+CFeP+WctP4g/HtLX+BOZj//f1LvBw2CIOjI1OvsL2lBXJZvjr83bsDfI2dQUi83CIKgnXMRcByu67+CWfr77wCdgaktWTzpv4cCmwLPANfgTho7AjdKWt/MTi+ZuhVwCjAizVka+Aq4EtfF759+z99rYVzH/x5+Ng+CoIVUazjcoJjmQR45eD/QX9LlZvZ2Yc66wPpmNjGNPw2vS7gb/h95cGH8RsDfgB+k4tVIOh94GjhH0u1m9nr1jzZznzvgRsM3gG2L+5S0Yu7jRGCVVCA7P6YLbui7QNINZvaVmY0DBmbezPlai1XwG9xoeAWumLd0n98Ao4GLJT2Y7pFnVxrm7e8HXI4rTI6pdENJRwFHASy547EsvslONWw3CIKOQpIvg9p4G9XwJ1xxcIKZ/TFrlNSX2RXHzUbSWrh8HYfXLnw719cHeAh3NtkLwMx6pQiUnng0+gZm9lFhzcF4EfCdcQV21i7cGPklDd+P2ZiQ40EQBDnMbFjyhD4eGFM8j0vqjRsNHwd2MbNPcn2H4M6KZwI/S+u9LulI4BZcmdELT919KW5wPCj7nmJmg1x00xf4R1M1DkOGB0EQtIh6nf1PxI2Gfwf2KdE9VSTkeBAE7Ql59rrjgNeALcxsQmrP9PffAt5s4W0uwo2GJ5vZBbl7L4TL7lMl3WZmxQCcHXB9+WxO1ZKuxB09+lEwHAL74Y4g56aU1w0IOR4EtVFVKoay3PBmNhU/vM0P9CmZdlZmNEzjJ+PeAuBRFUVm4ILk69ycN4CLgQVwL9/m8NN0PbHEuEneSGhmU4pGw9Q+CfdwWAI/ZDabZHA9CI9+PCUfeWlmr+LP2xn4Ucn0kSVKiWuA6cAWjd3XzK4ws+5m1j0EYxAE8zLJ4eO7uEPIpfk+M7sTGF6nWx2Nv3+OL74/zGwIHoG4u6TFS+aeUTQaJi5L136F9h2AVYFb0junASHHgyAIaua4dD0ybzSEmY4yY4ADC+234pHfPXBnv1uBhYEfmtl7zd1IyPAgCILmUeez/6F4OYZfVtA9VSTkeBAE7YxD0/WczGgIDfT3zUbSUrj+e3TeaJi7x8mAgLISZWPKMvGZ2bu4wfHbkr5d6O6Hy/eiQTE/P+R4ENRAVRGHklbG/0P3wdNjLlwYskLJtLLD2wjcQLhpSd//0mGtyDBgQIU51bAlYMAD1QyWtD5wErAd7l2xUGFI2bPWwtrAIrgRcEJJ/1DgdMqfd3SxwcymSXofN2oGQRB0BDL5OKIk3Sf4e6MeqYa2SteeksqcRpYF5sOjUYoeyk+WLWhmYyU9AuwsaaUsDR7J6w2PcAyCIAjqw1Z4yqV9JO1T0t8ZWEbSUmb2ca79BLykwYnp83lm9lDrbjUIgiCoQF3O/snZbw1gfJlzPLN0T0EQBB2BzdK1Mf19S9gc15eYvC55kQXSdd2SvlJ9SuLPwPdxQ+FRAJI2xPX/95dk7wuCoJk0aTiUtBr+H3YJ4FE8NdskXIB0Aw4GFiyZ+n6xwcymS/oIV7Y2OT6RefZ2aWqvFegKTDSzr5oaKGlL3HA3P573/i7gU9xjYRM8FVHZs9ZC9hzvVujP2ruW9FWqlzIdF8ZBEAQdgUyONvXeaClLpetJTYwrK8zd2B7+jDunHAEMkLQcsAfuVdfYATkIgiCojaXwc31TiuDFgJmGQzObLOleYEP8nP2nVtthEARB0BT1OvvPqe8QQRAE8wIVZWJOf98SMn3K5jSeva8mfYqZPSzpJWB/SSea2WfMcsRuEKUYBEHzqSbi8Of4f/bZausBSNofNxyW8U3gf4Xx8+MFTT+tML6M5dK1NHVbFXwCLCVp4SqMh6fj0ZS9zWxYvkPSKbjhsKVkz7Fchf5vFcYFQRAEs5PJx6beG0WMyu+9MmeN7D5dzKzsvVWRfBrqEv6OH84Pl/RrPH33/MQhNwiCoN5MAjqZ2ZK1TJLUA3ca+Qj/7nKNpJ2akO1BEARB69Dcs39rrRMEQdAeyMvE1/MdOf19vpxXlt65TKfSmD7lQjP7eY17a+rMfTnwR+BASdfhKVHfBu6p8T5BEDRCNYbDNdL19pK+xtJB9AQGF9p64JFxz5aMX1lSt5KQ4l7pWjanGkYBuwE7AXc0MXYNYELRaJio9Kwz8DRH1fIf4EtgY0ldi/VWgN7p+kwNa9bEuPN3ba2lgyAI5gTZ+6CHpPlKUhb1qjBvIrBSsVHSfHhUeZFRwLeBbYF7m7fVhqQU01cBpwG745GHnwM3VLtGyPEgCIKZZO+Asuwbo4BdJa1vZmOrWSzVY7kJT3H6f3i5hgPT9fwa7l2RkOFBEAQ10dyz/2yY2WeS/gusJmn1knSlVa0DIceDIGgXPIOnK+1JwXDILP19nonp2kCnAnQvaXsSNzZu24I9VuI64Dw80nAybri8uEI661JCjgdB03SqYsy4dO2Vb5S0I67srMQZkpbIjV8I/08NcG3J+PmA30jqlJuzKnAcniLor1XstYxL0vX3khrUJyy0jQOWlLRRYczhwI4V1v8Yr41SrPtYiplNxZXDiwNnFe6zOv6802hodA2CIAgAM3sL+CewKnBsvk9SXyo7ejyJO6nsUGg/HVilZPyluDy+UNJaxU5JnSWVHoIlmaRejTzGFbjC+dL0HDemFBtBEARBbUzEvZJXLum7MF2vlLR81ihpXPpZNJUqyHMtsCLwMzP7N3A08F/gLElbF8Zm6U3L7h0EQRDUgRac/cu4FteDlemeTkkfy9LmBUEQtDcGpetpkmZm5yjo7/NkZVUOTRGJ2fiVgF+lj9+XNA7AzD7A9d/dJZ2RHLZnQ9LqSf7WhJlNAm7Ea+CejetWrqx1nSAIGqeaiMM/A4cCf5N0G/AOsAEewXcrsF+FeS8BY9OcaXiaz9XxqI0yo9jzwHeApyU9hHsL7Juuv6xQvLpJzOwhSWfjiuGXJP0DGI+HYvfAPZEPScMvwg2EIyTdiodVd0/jbsOLrxYZgudqfkDSI8AU4Dkzu7uRbfXHPS6OlbQ58DAeAr4vblA81szeaM7zBkEQdBB+AjwOXJQMgc/hUeN7AXfjkXxFfofL+Dsl3QJMALbGlRDDKDjImNnLkg4DrsHfZw8Ar+BFvFfG5fiHwDq1bt7M/pfqZ+2RmiJNaRAEQTMws88lPQFsK+kGXE7PAO4ysyGS+uPKj1cl3Qe8ASyJfw96HxiBf69B0gn4++N2M7s8rf+ZpP3wd85NkjYxs8zj+nE8k8gJKVIxq8dySVJoBEEQBPWhOWf/Mn4P7Al8D3hG0oPM0j29T3kkTRAEQbvDzEZKugT4KfBCQX8/EXi3MP6JpPfeDnhS0lBct7478CDl8vNYYE3g18APJY3AZe3ywLq4Pn1//Hye5xBgYBOP8Gc8oGkF4O7kZBIEQR1p0nBoZs9L6o1b8HdNc54D9sbrB1YyHO4LnIGn9lkezzU8EDi/Qn2QicDOwAW4ofIbwIvA78zsxuofqfQZzpD0OB7NtxuwKPABMBq4PjfuAUm740bG/XClw5N4+tDVKDccno0fNHcHtsEjJ6/DD6+V9jNB0la4R9veeB3Jr9K9fmtmD7XkeZuiW/+6ZdyriQgDD4KgXpjZqylK5Hxge9zo9zyuCFiGEuVBUiDviXvD/QD4Avde3g84s8J9/irpOeBE/F2wQ5r3Du5QcksLHuMa3HA42sxqSk/d2nI85HUQBPMYP8SjC3fClQ/Ca7I8b2a/kTQS/x7QA1eGzMesqO8bASR9G/gN8CaFrCpm9oykk/BaKtfi7xrMbKKk7wEDcAXHomnKX2mkXvmcPIuHPA+CoD3QnLN/hXWmSNoe103tBxyPZ546G9iKKg2HLZXjIZuDIJhLOB53uvsJ0A/PpnEHcCqu+y/SF/htuv4UeBX4JfAQbgeYDTP7VFJPPKXoAbjTxkK48fBV4Ge4TqZmzOxZSWPwsjM1O2K3lW68OcQ7I2grVG7Da8GC0jCgp5mphjkGDDezXnXdTFBKt/731vcfvUpC0AVzGVXLqKBtkbQOHsV+hZn1q2L8Ibhi91AzG9S6uyu9/0Bcidy7Qs3c4rgjzOzqWu7R2nI85HUwjxByPGgWuRRK3dri/nPyLB7yPJjLCTkezDVIGgQcDKxqZuMaG9tSOR6yOWhHhBxvpzTnvFyPM3a1NgJJi+MO3RNwuf11LfdpK914c4h3RtDKVJTj1dQ4DKpA0iGSbpf0uqSvJH0qaaSkg0rGDkv1rxaUdLakNyRNkfSapAGSOpfMsTRveUmDJX2Q7vO0pAPmzFMGQRC0HElbSLpF0ttJ9r0r6SFJ+xbG7ZtSYTydmvpKOkXSgiVrzqxXxSxPtysl/VfSyZIavAgl7SFpSLr/FEnvSBou6ZiSsWtKuj7teWoae72kNWt89nUkDZL0Fm40NGAHSWvXsk4QBEFHodZ3hqRJ6Yz870rvjEbutaCk/mnul+k8/2jxXmlst3Q+HyRprbTHDyR9rcZr3AZBEAQVkPSPJFuPK+k7K/VdnT73Sp8HSuou6YH0DpiYdDMrpXGrSbpZ0ofp/fCwpI3n9LMFQRC0B+QcK2mspMnpjH6ppC4lY7tIOknSUElvJV3Kh5Lukmfiy489RG40BOiZ5Hv2M7Aw9jvASLwm7QrAm5L+olxN8yAIWk4YDuvHZcAqwCN4rcSb0+fBks6qMOdW4DA8remluAJ5IHB7mZIbWAJ4DNgQj6a5Hk+heoM8fVIQBMFcjaQjcTm2Z7r+Hq99uyxwTG7cuXga0O64bDTgM+Bc4EGVOFjgtQcfTHPA5fHCeEqjX+UHSjoKuBNYD5fBvwfuS+MPLYzdHE9tfRDwFF4rcVT6PDr1V/PsOwFj8JR6i6TmMXiajyclbVbNOkEQBB2FZrwz1sVTj16Ke0429s4o3qsz/g45Dy/N8Ce8LvtawC3pHmWsDjwBdANuAK4APq3tSYMgCILEYcD/gAskbZo1SuqDp857EU+Pl2dz4NH0+5V4CZi9gX/JM5c8CayI60/uBXoC/5S0WCs+RxAEQXvlIuASXEd9Ba7/3gn4F1A8c68LnAN8jcvfP+CpSf8PeCTpSDLGMKuEzJvp9+xnGMw0RN6G17zdEC/7dQmurzkC18+sXL9HDYKOTZM1DoOq2cDMXss3JAXE/UB/SZeb2duFOesC65vZxDT+NOBhvA7jQbiyIs9GwN+AH2Qh2JLOx6NxzpF0u5m9XufnCoIgqAuS1sMLWH8KbGtmYwv9K6ZrVgN2Am7IewU3/D2A59vfDfgFrhDOszyeh/80/AA7GDcGvgL8TNK5ZjYtje0HTAU2NrMPCvtYOve7cCXDN4CDzOyGXN9++CF5sKT1GkuNIWkJ4Kb0sVO693l4Td31cEPkVUAYD4MgCGjWO2M8sIWZvZfaT6Hxd0aRE3Fl8v3AHmY2Pa1zJq50PkXSPWb2WGFeD+A8Mzu1uc8aBEEQOGY2QdL+wHDcaWMzvH7sX4EpwL5m9mVh2i40PKdfjRshHwN+b2bn5PrOAH4NHI7Xrg2CIAiqQNLWeN3w1/Bz94TUnumzv4Ub/TJeApY3s48K66yIn68vxPU8mNkYYIykAcA4MxtYsoXN8DqJhhsL+5nZM2nNPnitxT8Ce9XjeYOgo1P3iEMz61VLfcM0R/N6fcOi0TC1TcW9lecH+pRMOyszGqbxk3HFB/ght8gM4OS8ctrM3gAuxiNtflhpf5KOkjRa0ujPxjxQxRMFQRDUnaNxeXhWUQEMYGZvpV8z+XeKmS1iZpuZ2T1JiXsi7q12RIV7HGdmV6b3yqBkFLwT6AIU04FOB6YVFygcarcG1gEezysj0rhbgBFp3R4Vn9r5EdAVODHtbTkzO9XMvjazF3Dv6E2ToryUkONBEHQwan1nnJ0ZDVN/Ne+MPIfhSoifZ0bDtM4HQJY9pGyd95nlHV2RkOFBEATVkRw0zgDWBP6COwMuh5/zG7wPgBHFczpwXbpOwrOP5Lk+XTepZV8hx4Mg6EiYWbeSWoVZdqZzMqNhGpvXZ+fXmFQ0Gqb2t4DbgHVqjBDcI113N7PNM6NhWnMIcBewu7z+YQNCjgdBbUTEYZ1Igu5k3EC4Mh4lk2eFkmnDS9pG4AbCTUv6/pcMhUWG4bWyyuYAYGZX4BE481QB2CAI2hVbpuv9TYzLou6GFjvM7BV5fcBVJXUxs0m57klm9t+S9can6xK5thvwlHcvSroZl8cjzezDaveSa++By99HKj0QkOXv37iYnz+xVrqui6dgakDI8SAIOhit/c6YSVIurAG8bWYvlwzJ1i47az9nZlOa2GPI8CAIgtr4DdAbOCB9vsnMrqowdnRJ2zvpOsbMZhT6skxQK9ayoZDjQRAEM8/djemzZ0PSNsDxuE5kWRqmM10BT1FdDZlepWeFkjHLAvPh+pWni50hx4OgNsJwWAckrYaHWC+B59Z/CPdsm4HXOzkYWLBk6vvFBjObLukjXNg1OT6ReVc3KEQbBEEwF9E1XYtpm4tksuzdCv3v4g4aXXFZm/FJhfFZ5Mh8WYOZ/SHJ2mPwVBsnACZpOHCSmWUKiGr2ArOerRJLpeuRTYyLWitBEAROa78zal0jv6c875W0BUEQBC3AzEzS34EdUtNFjQwvk+3TK/UlnQt41qYgCIKgerIzc2P67JlI2guPLJyM1zZ8DfgCzwjSCy8TUKYvr0SmVzmpiXGhVwmCOhCGw/rwc1x4HWpmg/IdKT//wRXmfZOCV4Wk+YGl8XouZePLWC5dKylDgiAI5gYyw94KQFlER0Ymy5bDD5ZFvlUY1yzM7Hrgekld8ZSke+Gp6h6UtE6KPszvpYxq95L1b2xmz7dg20EQBB2FOfnOaImsD2/lIAiCOiNpTeB3wERcUX2VpC1SOrwgCIKgbcjOwt8EXs935PTZb+WazwKmAt3N7KXC+L/ghsPm3L+LmZXpzYMgqCNhOKwPa6Tr7SV9jQnBnni+/jw98KiYZ0vGryypm5mNK7T3SteyOQ0Yd/6u1QwLgiCoN6OA7sDONK4EfhZPgdGLghJY0hp4WqE3zKxShGFNpHXuA+6T1Ak3Hm6Hy/RMrvaqML13uj5ToT9jFF7Ee1ugxYbDkONBEHQA5tg7w8w+k/QasJqkNc3s1cKQamV9VYQMD4IgqIykBYFbgEWBHXG9yWl41OGP23BrMwk5HgRBB+UZ/Nzdk4LhkFn67DxrAGNLjIad0vgyvi5ZJ2MU8G1cr3Jv9dtuSMjxIGiaTm29gXbCuHTtlW+UtCNwRCPzzpC0RG78QsB52VqSuhXGzwf8JgnYbM6qeJq96cBfa996EATBHOMyXFadIWm9YqekrM7INel6uqRlcv3z4Z7HnYCrW7IRSb2VchQVyNJEf5muI9Oee0j6fmGN7+MH1lfwfP6NcS0ePTNA0hYl++kkqVf1TxAEQTB3I6mbJJM0qJlLzOl3xjWAgN+mudk6SwNnFO4VBEEQtABJ4ySNq9D9O7ym7AVm9k9gAH4m7ydpn9y4Q9K1WyttMwiCIJidQel6mqQls8aCPjvPOGBNScvnxgoYCDQ43yc+Blaq0HcpMA24UNJaxc703aOqoJogCJomIg7rw5+BQ4G/SboNL8S9AbATcCuwX4V5LwFj05xpQF9gdTysu6xQ9/PAd4CnJT2E11nZN11/aWZl6ZmCIAjmCszsRUnHAJcDz0q6E3gVT/W8OZ6iubeZPSbpAuCXwAtJRn6BR51sgBvpftvC7dwBfC5pFH6YFW4E3Bwvov2vtGeT9CGevu6WtOeXgbWBPYHPgB+Z2ddNPPvHydB4BzBK0hBgLJ7ibiW8yPdSwEItfK4gCIJ2QTXvDElv4iUBLsejUMreGVDdO+N3aU5f4DlJ9wGLAPvgTiUXmFlTTiJBEAQBIGkY0NPMyhz1Gpu3F3As8ARwOoCZzUglYMbgKUufNrNipEt+DUvzgyAIgjpiZiMlXQL8lFnn7kyfPZGG9cIvZNZZ/vY0dhvcaHg3sHvJbYYAP5B0Nx7hOA14xMweMbOXJR2GO/ONlfQA7si9AF7THFxXEwRBHQjDYR0ws+cl9QbOBnbF/67PAXvjESaVDIf74h7MBwLLA2/jXherAz8sGT8RV2hcgBsqvwG8CPzOzG6sdr/d+rcomrvZRBh4EARmdqWkF4Bf4FHaewIf4Y4RV+XGnZw8xY4FfoQfBF/DFQi/N7OpLdxKfzz10WbALnix7jeBk4HLzGxabuxU3CHkYWB7/HD7EXATcJaZ/aeaG5rZEEkb4c++I26ozNYeSnm661JaW46HvA6CYG6ginfGbmnob4DhNHxnvAGsWs07w8ymSvouXrv8AFwhMh0/059gZjfV67nmxFk85HgQBHM5fYoNklbGI8QnAT8ws+lZn5mNT8rifwA3S+qBO+QdjOtR5igtkeMhn4MgmMc5HjfW/QToh0cI3gGcip+bZ2Jmf5E0BTgBl9dfAY/iOu3vUW44PB53sO6D62o6AWcCj6Q1/yrpOeBEvJzADrjT4Dtp/ivVPERb6cYbI94PwdyGzKyt99DhaMr7LqV0OhhXdIxLbQYMN7NeLb1/t/73tsk/egjAYC6jJu/XoOOSpVEys25tu5NZtLYcD3kdzCOEHJ+LSSn33wCuM7NDWukegyicmQv9w2hGxEtrMyfO4iHHg3mEuer/ZlA/2lL+1lN3UomWyPGQz0E7I+R4MNdQi/xvK914Y8T7IWgjKsrxqHFYBZK2kHSLpLclTZH0rqSHJO1bGLevpEckTZL0laR/SzolFfcuW3d7SY/+P3vnHWZVdfXh94eKWEFU7II1RI2KIgpRAQ0abGhi7FEkttg1wW7E2E2iWGL7jI4Sa0TFhtgACxaIYGyxY7ALCnYUWd8fa5+ZM5dz7xSGMsN6n2eeM7P3PuvNSp4AACAASURBVHvve9F19llV0teSPpN0t6TOdexlc0l3SPpI0veSJkm6Op8vOgiCYEFB0hYpj/1dFca8mmR3e0mtJR0p6QFJ76b2zyQ9IqlvA9YdlNbtVdBXtq6XpMXTc2FCkv1fSXo6pV8KgiBokUjqnM65nyXZ96Sk7UrGNEiuJsXAAenPd1K/yetmdUr9PbOxuZ9RJXNvKmmopE/SM+FdSVdIWqlgH1Vpjk6SDk1n/e8kfSzpGkltZ/e7CoIgmJtI6p9k4NtJh/GFpKck7VdmfHtJ50h6SdI3SffxgqTzJS1RX/mrkhqHkk5KY44ps+7KkmZIGpdrq/XcSJ8lUwT3LFl7UHoWmaSRFb6PFyX9UPQMCIIgCJoGSbtIelSuX58u6QNJo+VlCvLjNpX0oKQv0/PpEUndK703BEHQdESq0jqQdDBwJfAjcA9eW6UD0BU4HK9hiKRzgZPx9Ek3A1/haUXPBbaXtF1BmqQReJq62/A80FsCT+Ppl4pYES8KPj3tZRKwDnAQsLOkLczsf7P/qYMgCJoHZvaMpNeAHSQta2ZT8v2SugGdgaFm9pmkFYFLgDHAw8CnwEp4iowHJB1sZtcyB5DUDk9J2gXP1X8d7sCzPXCzpPXN7LQ5sXYQBME8ZA38fPsicDUuc/cEhkvax8xua+S8Z+KpSzfC5frU1D41/ZwJ9Ac6pt8zJma/SNoJTxMt4A48ZfWmwO+BfpK2NLN3Cta+EJfd9wIP4WmSDgbWBrZp5OcJgiCYF1yJ191+HNdJLIunhhsi6Sdmdno2UNIaeOr+jnhN8Cvxs+y6wHF4Hat6yd8ChgDn4OmmLyno3w9YCKiqMMeEtN4ZuDzPjx2VamONBHpLWtfMaqWzk9QDr4071MxK63QFQRAETYCkQ/B3go/ws/RkXM++IZ7C9Io0rgfwCNAauBN4E9gYGIXrVYIgmMOE4bACktbDBdYXwFZm9nJJ/6rp2h03Gk4CupnZR6n9ZDzP8054bZZz060LpevMNG/ea+5iPPdzEesCb+MpP97P3bMtrrS4BNitsZ83CIKgmXIDLl/3Bi4v6TsgNwa8VmxHM3svPyhFiTwFXCjpJjP7dg7sczBuNDzRzC7Mrd0Gr9dyiqQ7zGzCHFg7CIJgXrE1Xo97YNYg6XLcmHiVpOFm9kVDJzWzQfJ0qBsBgwtSlQ5KXsgdzWxQ6f2SlsSfDQsDvczsiVzficD5uFJju9J7gS2An2UOe5IWxhUYvSV1M7PnGvp5giAI5hEbmNlb+QZJrYHhwEmSrsrpHm7CjYGnmNl5JfcsB3xlZt9Rh/wtwszel/QIsJ2kDczspZIhB+BO12XrzaYz9ARJZwATy6x9Be7scQiuo8lzSLpeXZ89B0EQBI3iUFyeb2Rmn+Q70rMEScIdrRcDdjWzYbkxx+C6lSAI5jCRqrQyv8eVCWeVGg0BcornAel6dmY0TP0z8GKtM/GowIyr0vXmvNEwMQgvBl7KYNwb+pi80TCt8ygegbizpKWKPoikQySNkzTuywkPFg0JgiBorgzB5ewB+cak9NgL+ARXfmBm00uNhql9Gn4wXQbYrKk3KGlZ3FN6XN5omNb+DjgRl/H7VJgj5HgQBM2RacCf8w3p/HsT0I555/TWD2gP3JY3Gib+hkfG9JG0esG9f85n+Uhn/uvTn92KFgsZHgTB/Eip0TC1fQ/8HdeFbAueLg7ojkf1XVBwz+R0pp0dMke/0jN9V2A94P7S7CKN4G48srK/ciVlUmaQPYC38AiXWQg5HgRB0GTMAH4obTSzyenXHsBPgMfzRsPE5bisbjAhx4OgYYThsDJbpOvwOsZtkq6zhEqn9BfvAWuopu5JNn50wfhp+GG8lO7p2jPlcq71g4d1L4RHJc6CmV1jZl3NrOtSG/+yjo8TBEHQfEiGwEeBrilSPGNnXCl8U1LqAiBpfXmdqqyWi6V6KH9LQ1aZA9vcDJfRVkaGZzVzf1pugpDjQRA0U543sy8L2kela5e5uJc8lc7vM/C0fVC8v1LHP/DMI+AOKLMQMjwIgvkRSatL+ruk/8prFmbn4qFpSHYuznQjI8xs5hzazl24s8m+khbKtWeGxKrZXSDJ9//DU7L+Otf1Wzyy5RozszL3hhwPgiCYfW4CFgdekXSxpF0lLV8yppLe/EfgycYsHHI8CBpGpCqtTLt0fb/iKMgMguXy4H8IrJ7mm5Yb/3GZ8R8VtC2brgML+vIsWUd/EARBS6QK6IMrFk5MbaVpSpG0Ba4kXhg3Nt6Dp6OeiefL7wdUex83IZkM34zKEY0hw4MgaGnUdd5tW6Z/TlOf8zvUvA/kmVrQljmoLFTQFwRBMN8haU3gOdzh4Qm8/Mk04EegE36Wzs7F9dWNNBoz+1bS7XjN2O3wWrit8XIEn1K3Q3d9uQY4FU+Xd3NqOwRPnXd9uZuCIAiC2cfMLpI0GTgcOBov12WSRgMDU2aSxujNgyBoYsJwWJlMKbAK8N8K47LUoitSHC69Usm47LpCmflWrLBG28bUgQmCIGjh3IUbAPeTdApuqOsLvGBmL+TGnYZ7E/c2s1H5CVJd2n71XC/ztC56jhYpmTMZfrGZHV/PNYIgCFoCdZ13M/nYULk6u+TP70WUnt+DIAhaGsfjZ+YDzawq3yFpb2qnDM3rRuYkN+CGwwNwQ+GOaY+XmNksae0aQ6qneA+wm6TOeIaSDfDU1Z82xRpBEARBeczsRuDGlCa6B166YAAwIsnlxujNgyBoYsJwWJlngK648rmS4XA8HkbdixLDoaS1gVWBd8wsO2w/n6498Zpa+fFt8aiXor1sCmwF3N+QD1HKxPN3nJ3bgyAI5jtyHsoHAb/AU34uTC7aMLE28Fmp0TDRswFLfp6uqxX0dS1oew5Xim/VgDXKEnI8CIJmxCaSlipIV9orXcena0PlKnhUDJSP8vsRQNJCKa1RnmzdXsA/8h2SFqZGXj9PExMyPAiC+YS103VoQV/pufiZdN1e0in1SFdaSf6WxcyekvQG0C/pRmbJIFIPZlJ39PcVuKL6UGpSTF9d3wVCjgdBEMw+SU/+APCApFa48XBrauvNa5FSWW85u2uHHA+Cuokah5W5Ek87dHpJ3SwAJK2afs2Mf6fl8zInYfZX/HvOKySG4cqRfVKh7zyDKE7ZdDleOPY+SXcW7KW1pCZRSAdBEDRTqtJ1//QzA8+fn2ci0F7ShvlGSb8Dtq8w98Kp5ku2xnPpemBSMGfzrAb8qfRmM/sk7aWrpNNL6rZk964laY0KewiCIGiOtAW+yMlP0vl3X9yb+K7U3CC5mpiSrm9KGlWhf/WCvruBz4C9UxprJI1Ktb2OBdYAHjGz/1X8dEEQBM2XienaK98oaXvcGa8aM/s3MAZ3cj5RUqf82VjSspLa5G6pJH/r4gagDZ7GbgfgP2Y2vvIttZhCsRNKnkeB13HD5B7Aa2Y2shF7DYIgCBqApN6SVNDVIV2/wZ83rwFbSyrNCnUksNYc3GIQBImIOKyAmb0i6XDgKmC8pGHAG3iqjM3wtHi9zWyMpAuBE4CXJN0BfI1HKm6AF239S27eryQdAtwGPCHpNryOypZp/OO4h0V+L/+VdAJwMbCrpHvxg+4i+GF8Kzzvf+c58mUEQRDM5yQP5TeB3+Cy8d5ksMszGDcQPpkiFKfhkSxbAncAu9dzrWclZbL6OUmP4Wk0dgZGUKysOBJYB/gz8FtJT+I5+1fGIyQ3w2u4vFPvDx0EQTD/8yywOfBLSefhKUD3xB3rDs1S8DdSrj5KTf3vNSWdBkw1s8tz/b8B7pT0APAt8K6ZDUnn8QHAv4DRkv6FGwvBz+0f4ZEoFUmGxtG4818QBEFz4grgQOBfSYfxAa6P+CVwOy6r8+wHjALOxc+s4E5x9+A1CTtTY4wsK3/zE0qaCGBmnXLNQ/Dz8pn4mb4h0YbZ2nslncnzuAP242b2eDbAzEzSVcBFqanDrNMEQRAEc4C7gK8kPYM/M4TrtDcD/o077lly7n4YGJoCaN7EnVe2BR7En1VBEMxBIuKwDszs/3CF8n24J95AYBfcSPf33LgT8cPzG3iky9H493sa0MfMvi+Z9w5cyP0b93A7DPd67k55pfHd6fo2sCGuhN4PTzFyB+6RFwRBsCBzA65gyH6vhZk9iCuhX8GVIb8DpgO9aXga6H7AtXg66qOALrgDyYlFg5NyvGcaOxn4NV5bpjfwJXAcfjAOgiBoSbyXrt/j5909cEXuDmZ2W8nYhsrVEcAf8LPxCsBZwB9zQ64FzsOjHk9I/b/L3T8M+DmeIml7aoyTVwGbmtnbDf60QRAEzQQz+w9+Dh2D1xL8PbA08CtcDpaOfwcv0XIhsCgu11fDHZn/BuQd9irK3zr29T9gJH6mL8ogUhfHALcA3XB9zFnANgXjqvC0pgZ81cA1giAIgsZxEjAWf54cjjuwLIKf93tn9WzN7CncoPgIHphzFNAa180/O9d3HQQLIDKzeb2HoJ5I6oQbFW8ws/6NnafTSffP9X/0yB0dzIcUpUYIgkKaSv42FXNCjoecDpohIcebAfOb/KxESnfa08zq/d9WFnFoZr3qe8/cOIuHTA+aCSHHF3DKRBzOrbV74QbKr4HJDdnD7MjxkM9BCyPkeDDXkTQIOAM3NI5qzByhGw+CasrK8Yg4LIOkJSV9L+mpkvbFJH2X8vn/tqTv96l9QK5tHUk3Sno/zfdB+nudgjUHpft7SdpH0rOSvsoO0xX22krSJeneOyUtNpsfPwiCIKgHklaS9HdJE5OM/zTJ4U3LjG8rabCk99Kz5L+Sjpe0ZkkNxSAIghZHqol1q6TJSQaOk7RTmbF7SxopaWoa+6qk0yQtWjDWimocJhl9vaRPJH0raYKkA9JZ25LSoWjthSWdIukNSdMlTZJ0gaTWuTH9k9EQoGeazyrNGwRB0FJQSY3D1FaV2jpJOlTSi0l+fyzpGkltc2N7JRnaEehYIkOrStbqnOaelM7bH0u6WdJPCvZV7z0A56frEnXtIQiCoKWSl+f1OasnncZASY8lvUamB7lHUvcya5i8lvgKkq5LMvlrSWMkbZXGLCHpL5LeTefvlyX9po7tX1yfd4UgCBpH1DgsQ6p78hywuaSlzOzL1PVzPC0HeF7lfI7+bdP1UQBJm+Eh1UsB9+Cp8Trj6UX7SfqFmY0tWP4PQB/gXtwDrm3BGNIabfDUHb/CU6cebWYzG/hxgyAIggYiaQ28hu3KwGN4SqTV8HouO0r6tZndlxvfJo3bBBiPy+62wKl4Co4gCIKWTEfgOTyt6BCgPZ4yelg6E4/MBkq6Dk9b9B4wFJgKbIGnm9tWUh8zm1FpMUkdgKfTuo/jqfhWxGt6PVTHXm/G5fJwvKb5DniqvQ5pXwAT8PpbZwDv4invMkbVMX8QBEFL5kI8/fO9uLztDRyMl1jJUoZOxGXosenvwbn7J2S/SPolcCepfjle42pVXP+xo6TeZvZ8A/awkaS7gU3x+ruv46muy+4hCIJgAaG+Z/WfAufg5+v7gc/xlNW7AH0l7ZxKxJTSDngKL9NyS5p/L2BEMjhendruw2X+3sBtkiaZ2TMlc/VL11Vo5LtCEAR1E4bDyjyGGwq3pqb21bbAj8BoagyFSGqFH0bfNrN3JQm4Ea8RsJ+Z3ZQbuydwKzBE0noFhr5tgO5mNr7S5iS1xw2SPYCTzOyCRn/SIAiCoKFchRsNTzOzc7JGSVfgh+gbJHU0s6xmykDcaHgrsI+lXOGSzsHrfQVBELRkegGDzOzMrEHSzcCDuHwcmdr648a5u4B9zezb3PhBuKHuCOCSOtY7D1eAXJhqkWdzDMaVIpVYC1jfzD5L95wKvADsL+lkM/vIzCYAEySdAUw0s0F1zBkEQbCgsAXws1SrEEkL47qV3pK6mdlzZjYRGJRkPkUyVNIyuHL5G2BrM3sl17cB8AxeS3GTBuxhK7z24RfAv/D6WuPK7SEIgmABohf1OKsDrwIrm9nk/M2SVsXP2Bene0rZCDcOHp7pwSU9jOvOR+JGxV5m9l3qG4LrVU4Edsut0x/YOP25n5k9lOsbRP3fFYIgqINIVVqZR9N121zbtsC/ca+3VSWtm9o3xj0jsnt64NGFT+eNhgBmdhsepfITYMuCda+ph9GwIy5UuwG/rctoKOmQFGI+7ssJRfI7CIIgqC/pULwd8D/co7kaMxtDjQfdr3JdBwAzgZMzo2EaP4naHs7l1gw5HgRBc+Zd4Ox8g5mNwOVot1zzMcAMYEDeaJg4C5gC7FtpIXlK0b2BaQVrvoArKCpxYmY0TPd8jUeJtwK61nFvuT2FDA+CYEHhz5nBDiBFfVyf/uxWfEsh++MRKmfkjYZpzpeA/wO6SFqvgXs4yszamtkepYrvSoQcD4KghVOvs7qZTSuSnWb2HnAH0FnS6gXzfwMMLAmeuRk/9y8DHJMZDdN8T+DR6RtTm+xdYZm80TBR8V0h5HgQNIyIOKzM08C3JMNhyoe/Ca4kfiyN2RZPb5Gl3MjaNyn5u5THcKNhF9yDIk9dXtA/SXtbAuhrZo/WMR4zuwa4BuZNAdggCIIWRpd0fcLMfijofwxPS90FuFHS0ngEy6TkYV3Kk3UtGHI8CIJmzgQz+7GgfRLQHUDS4rg38mTgWE/gMQvT8RRJlfgJsBgwLlduIM+TwEEV7h9XZp/gio0GEzI8CIIFiKaSoVmtrI1UXDs2c+L+KV4WZk7soZqQ40EQtHDqPKtnSPo5bsDrjqfyb11yzyq4wTHP66XncjP7UdLHwBJm9nbB2u/jaaWzdWfrXSHkeBA0jDAcVsDMvpf0JPALScvjUYQLAY+a2auSPsQNh1emq1FjKMzqEn5YZvqsvV1B30d1bG1dPJJlApHeLgiCYF7QUBm/dLp+XGZ8ufYgCIKWwtQy7TOoyYKyDCBgeTzNUGPJZHSjZK6ZFe01q5OyUGM3FQRBsIDQVDJ02XQ9uI5xS87BPQRBECwo1OesjqTd8MjC74CHgbeAr/HsSr2AnsCiBfNMqzB/pb687aKp3hWCIKgHYTism8eAPrhhsAcuGJ/K9fWVtCieK/9lM/sk9WVCb8Uy865UMi5PXV4P9wKvAecCj6air1Pq+iBBEARBk9FQGf9Fuq5QZny59iAIggWJTGaON7OimlX1JWRuEARB8yd7JmxkZv+ZpzsJgiAIMs4Cvge6mtmr+Q5JV+OGwzlFU70rBEFQD8JwWDf5OofdgTG5nMuP4nmTf4+nDc2nDM1qFPYqM2/vdG1UxKCZnSfpW7zo7ChJvzCzekWsTDx/x8YsGQRBENSQyfgtJS2c6qbkqSXjzewLSW8DnSR1KkhXWlTvtiwhx4MgaImY2VeSXgbWl9Q+X2ewgfwXLzewoaSlCtKVNkjm1sFMGhi9EjI8CIKgmh+ZNcVdxjPAr3En7TlpOKy0h0JCjgdBsACzNh44U2o0bEXTnrFnoQnfFUKOB0E9aFX3kAWe53GPhn7A+tQ2DmZpSU8u+Rs8KvE1XKm8e37C9PdWeG3EOutalcPMBuNGy/WB0ZJWbuxcQRAELQ1JgySZpF6zOU8V8E6+LRX+fhjoBBxbMn5z4Le4MvmuXNeN+HP3POWS8UtarXSOIAgWLCR1SvKqal7vBSDtZdQ8Wv4iXIF7naRZUvpLWkZSRQ9jM/seuA1PWXpayf0bAfs33XaZAqwmaZSkqJUyHzJx4kQk0b9//3m9lfmSqqoqJFFVVTXH1hg1ahSSGDRo0GzPNY/lU9D0TAGWl7RYQd/1eOq8MyR1K+2U1Gp2z/n12EMQBEGLRdJEGq6Xngisk9dBJ/3GIGC9ptpbBWb7XSEIgvoRhsM6SIVhR+H5kyFnODSzd/Fczh1wL7XRuT4DDgC+BG6TdKekcyUNxRUZXwL7m9nM2dzfVcAAYB3gcUmrz858QRAEQb05DK9J+xdJDyUZP4SaZ8HkkiiXC/HatHsB/5Z0vqQrU1t2WJ+tZ0IQBEFzx8yuA67AnfbeknRzkpfXSHoYl7uH1GOqk4D/AScko965kq4HxgAPpDFNIXMfBToCGwBIOk3S1k0wbxBUZG4Y/FoCknolY+Ogeb2XoJBP8FpY4yWdlWTozgCpHMvuQBvgGUkPSxos6WJJdwCTgAfn5B6CIAiCWbgYWAqXmVckx7kvgD/ipbXmKE34rhAEQR1EqtL68SgukL4AxhX0rQX828xq1Ss0s2clbYZ7Ov8C2BmYDNwCnGVmrzXF5sysStJ0PJrlcUnbmNnbTTF3EARBM+Zy4FZccdzkmNnbkrriMn4HPDX1F7gCoxue9z8//ltJvYE/40qQ4/BIxnOBJ4BdqanLFQRBsMBiZkdIGo47aPwCaAd8hsvzvwD/rMccH0vqgcvYHYDN8WwghwNf03Qy9xi8PnmWYeQs4Ezg8SaYOwhaBN26dePVV19lueWWm9dbCeY/7gF2xJ2xT8ZTP99AUj6b2aOSNsQV0tvjmZu+Bz7AMz4NndN7CIIgCGows6uTDvpYPGAG4DtgGzy99Bx3vGiKd4UgCOomDIf1wMwuAy4r03cocGiFe1/DU9bVZ51BeGh3uf6JgMr03YIbJOuk00n312dYkxF5o4MgmBeY2WTcWaOpWKO0NqGZvY+njK5FSvlRtKepwNHpJz/+4PTrq7PcVEBTy/GQ00EQzCkqnV9Tf68y7fcB99VzjXLn4/epUWhUI+mc9OurJeML95L6qoCqgvZPgH1Suqae5faSZ26cxUOuB/MTiy++OJ07d57X2wiakCLZbmb9gf5lxo8qHZ/IHO2OT3K23FpH1nNfc2QPpTRUjodMDoJgPmZGpfNr0fk4fy5OEYcvm9mLwIsU6LXrmL9TQ9bO9dX7XaGIuakbj2dA0Fxp8alKJe0i6VFJH0qaLukDSaMlHV4yrr2k8yS9KulbSdPSfdsVzNk/pTvpL+mXKf3RtNS2iqQfJY2vsKfhaewGJe2bS7pD0keSvpc0SdLVRbULszoqklpL+pOk19Lnq5qNrysIgqBJkLRFklF3VRjzapJb7ZMsO1LSA5LeTe2fSXpEUt8y909MP0tLuij9/kOWikplahxK2lXSPyW9Lunr9PNvSUfLC3qXo5Wk4yX9V9J3kt5LqZKWbsD3srKkvSWNlDQ1zfMG7hU3g/BsDoIFHkmdJd2dZODXkp4sPY9KaitpoKTHkiz6XtKnku6R1L2Oua9L8nK6pE8kPSFpFgeIMvcPlDRT0lOS2pfsZ3Day3dJTh4vaU0V1G6UVJXa15R0lKT/pPP3qNyYdSTdKOn99Pk+SH+vU7CvbL5OJe0rqyRNoaSf4c4bM4AHJS0s6RRJb6TvZJKkCyS1LvMd7JWeGd+m729I0Vk9mL95/fXXOemkk+jatSvLL788iy66KB07duSQQw7hvffeqzV2xIgRSOLAAw8snGv69Okst9xyLLfcckyfPr1W+/nnn8/PfvYzFl98cZZeemm22morbr/99lnmqKsGYKdOnejUqVP137169arez4EHHoik6p+JEyc27MvIMXLkSHr16sVSSy3F0ksvzY477sirrxb7NH3zzTecd955bLzxxiyxxBIsueSSdO/enVtumdWXtdLnk7SZPOX7l5K+SGe/7uXOcbn7lpOnJcve81+WdGDJmCpgZPrzjDRf9tNL0vbp93NK7uudG7daSd9tmfzKtZn8/XxFSdcmufWjpP6pf115GrVxSVZPl593r5G0asFnq5Zb6bt4RK5v+FLSCHnGi9lC0p5yfcdnSW5PlHRL6dySFpV0kqQXJX2T/o2ekLRHwZzV9XrT77dKmpzmHydpp5Lxo/A6hgDXl/z7dMqNW1jS4ZKeSet/I2m8/N2hVcmcc2QPQRAEzRU5R6bn5HfpGXW5pLYFY+v9jqGkG09/9iyRn4PSmIrpwtOzZ2LRvOnaJz1zvkr7uF6prqGkLpLuk/R56r8n5HYQNC0tOuJQ0iHA1Xh+43vxyJMOwIbAgXhOZCR1xOsYdsLTxT0ILAHshCsUDjWz/ytYYnfgl8Bw4Cqgo5m9L+kRYDtJP0seF/k9rQT0wVObvpRrHwBcA0zHU2VMwusWHgTsLGkLMytKtzcU2Czt4W48P38QBME8xcyekfQasIOkZVONkmokdQM6A0PN7DNJKwKX4LWnHgY+BVbC01w8IOlgM7u2YKnWeJqi9sBDeNq5d+rY3vl4XatngfeBtnhajUtweVouSvxiYGvgdmAYni7pWGArSVua2Xd1rAtez3B5PE3eW3g9lXVwR563CRkeBAs6awBP4966V+NycE9guKR9zOy2NO6nwDl4Osz7gc+B1YFdgL6SdjazWnWfJO0I/AuXOw/imSraARsBJwBXlttUUswOBo4C7gT2zWSepDa4HN4EGA/chMvVU/GUcpW4JI25H687+GOaczPgEbx+yj3AK/gzYz+gn6RfmNnYOuYGLzHwafq9j6SN8XR0rfC0pT8Fbk57GI4/Q3ZI30cH/H0h/z0cB1wETMVLBEzFnwVjgFolC4L5mzvvvJOrrrqK3r1706NHD1q3bs3LL7/Mtddey7333su4ceNYZZVVANhuu+1Ya621uP322xk8eDBt29bWsw0dOpQpU6bwhz/8gUUXXRSA77//nu23357Ro0fTuXNnjjjiCL755hvuuOMO9txzTyZMmMC5557b6P3379+fdu3aMWzYMPr168fGG29c3deuXbtGzXnfffcxbNgw+vbty2GHHcYrr7zCAw88wNixY3nllVdqpRmdOnUq22yzDePHj2eTTTZhwIABzJw5kxEjRrDPPvvw8ssvc/bZZ9e5prwe6EN4asg78bPRz3Bj32MVbm0HPIVHit2By7XfANdJmmlmN6Rxd6frAXgN6lG5OSbi567vgW1xmZWxbcnvVWm/AnoDEwtKg7QHngG+Sp9lJvBx6vsVnk5tJC4vvgfWp+Zdv2uKkC5lczx15iPA34G101xbS9rOzJ4oLkGA5AAAIABJREFU+nIqkT7D9fh3Mjnt9VNg1fTZXiOVZ5E7UIwAegL/TXtYHNeD3CZpYzM7pWCZjsBz+Nl2SPpu9gSGJfmdGXOrcDnaDz9bT8jNMTXtYRFcl7N92tvNeEq83nhWqM0pPrs32R6CIAiaOYNxp7kPcb3zD7jM2xzXp+RLrDTkHWMCnp7/DOBdamfmGNUE+94F18vfh+vce+AR5Z0knYyXDnsC+Ad+dtgZWFPShmbWFHXMg2CBp0UbDvEUot8DG6U0QtVIyhdYuAE/WO5tZrfmxrTDhd2lku4xs4+pzQ7ADqWKGVxYbocfxv9Y0rcfNTnzs3XWxYXgRDzF0fu5vm3xl6lLgN0KPmNHYIOUki8IgmB+4ga8ttTeeL3BPAfkxoAfSDuaWS03/+QF9xRwoaSbzOzbknlWwhXKPc3s63rua0cze6tknVa4EmV/SZeb2bMF9/0c2NjM3k33nIwr4X8FDMTrWpVF7nW+PJ5734D1cOXSaFxhswdwBC7vgyBYMNka+KuZDcwaJF2OGxOvkjTczL7AU2yuXHr+k0euPIc7OjyYa18OV7YuDGxjZqML7iskGQZvwmXd5cAxJS/jA3Gj4a3APmZm6b5zgOfr+LybAF3MrNrhIym1bwSWBvYzs5tyfXumdYZIWq8eSoGr8bM3QHdc/o4A/oqnUfopXqt8fTP7LK1xKvAC/jw42cw+Su2dgAvw59UmWerqkmdB0Ez47W9/y3HHHVdt6Mt46KGH6Nu3L2effTZXXum2dEkcdthhDBw4kCFDhnDkkbUzJl5zzTUAHHLIIdVtf/vb3xg9ejR9+/blnnvuYeGF/bX7jDPOoFu3bpx33nnstNNO9OjRo1H779+/PwDDhg1j1113rf57drj77rsZMWIE225bYzM7+eSTOf/887nuuus44YQTqtuPPfZYxo8fzwUXXFCr/bvvvmPXXXfl3HPPZffdd69l0Cxl5syZ4Mq+RfF36uFZn6TDqODMgDs8/AM41Mwyh4PBwH+AE0nnSzO7W9JU/Nw5KpUGqYWkZ4EektqaWeYAsC3uCLE6OcMh7oC8PMUZIn6GG6gGmNmMkr4hwMVmNj3fKI8mH47Xyy6K/P4lcJSZXZ67px9uEL1O0k8aoRw9GP8+xgJ9cp8ZSQvhThMZf8CNhsOBXbLPJelM/FlzsqT7zGxMyRq9gEFmdmZu7pvx59JAUhSomVW5yKcfcHeZNKGn4kbDy4Fjc//eC+EK8AGS7jCzYXNwD0EQBM0Seb3vo3HHnG4l592RuD7l3dwt9X7HMLMJwARJZ+AONYOaePu7ANtm7y1JZzMCr2n4AHBIyXvCP4ABuAGx9JkQBEEjaPGpSvE0RD+UNmZCUNJG+GF4aN5omMZMxT0n2uAFXksZVmA0BD/ITwP2TQfaPAek/eRzuPweWARXxNTyNDSzR3FP650lLVWw1un1MRpKOkSemmPclxOKthwEQdDkDMG9rWvVl0rey3vhXt7DAcxseqnRMLVPA64DlsGjAYv4QwOMhpQaDVPbTGoMdtuXufWSzGiYu2cg/hkH1GPpY/Bn0lpmtpyZLWJmy5jZNsA+wBRg33I3hxwPggWCacCf8w1mNg433LUjOZGZ2bSi81+So3cAnSWtnus6ADfEXVlqNMzdNwvydKSPpHVPNLOjCpTUB+By8OTMaJjmnIR7OFfiwrzRMNEDjy58Oq8MSHPeBjwJ/ATYso65SQrjrIbsn5Ps3SnVuco4MVOipHu+xr/vVkA+Zd+++Hn9MsvVuy15FpQlZPj8xSqrrDKL0RA8unD99ddnxIgRtdoPPPBA2rRpw9VXX12r/bXXXmP06NH07t2bddddt7r9uuuuQxIXXXRRtdEQoEOHDpx++ukAXHttUSKFecdee+1Vy2gINcbQ5557rrptypQp/POf/6Rr1661jIYAbdq04YILLsDMuPnmmyuuN2bMGPAIupF5o2HiGuD1Crd/g9ej+zFrMLNXcGezn0pasuLitXkUd+ztCZDeubviGTBG4lkpMrbN3VPK98AfC4yGmNn7pUbD1P4Q8DLlz55vkrIk5e4ZhjudrU3dUd1FHJWuh+aNhmnuH83sw1zTANzZ7fj850pO2ZnD3EEFa7wL1Ao5NbMRwP+AbvXdaFISH4VnkDqu5N/7R9ywaRSfn5tkDyX7CTkeBEFzI8uecU7Jefc7PKK9Fo14x5iT3JJ/b0ln7iHpz5dK3xNwx0OAsl5LIceDoGG09IjDm4C/Aa9IuhU/YD9lZp/mxmQ5mtuqOOfy8un604K+5wraMLNvJd2OKyq2xz0hkLQpnpLkrhJBnO2hZ0rNVEoH/GVmXeDf9dlDwZ6uwV/A6HTS/VbH8CAIgtnGzN6T9CieHm69pNAB9wBrj3teVyshJK2PK1+3xj3f2pRMuUrBMt/h3uX1RtKyaZ0dgDXx1NR1rQP+DKmFmb0taRKeLqNdcjgpWnNx3Dt+MnBs8mwuZTrFz5psrZDjQdDyed7MvixoH4Ub6LqQImkk/Rx3SOiOnxVLa/KtgitIAbZI11LlfCVWwJXwa+KRf7NYAeQ1XtcCJuWNaTmerGONonPsJulaLk3hY7jRsAueRml2GVfQNildlynYV6VnQcdyi4QMn78wM2666Saqqqp44YUX+Pzzz/nxx2qbBK1b1/7fadlll2WPPfbgxhtvZMyYMdWRglm04WGHHVY99ssvv+TNN99klVVWoXPnzrOsvc02bocaP358k3+u2aFr11nL5q22mpf3+/zzz6vbxo4dy48//li2ZuEPP7jPbrnaiBm5zz+LnDCzmZLG4O+/RbyRoq9Lyf+/+1XFDdTwGB6BvC3usNsT15M8imcE2l3ST83sVWqMiEXyaaKVZDnKSJHU++Ip1jZK+8s7GH9fcBvAE2UiCkelfXahQCaVQ9ISwAbAx2ZW8T/AZEBdG3jfzP5bMCT7DroU9E3IG/lyTKJG91Ef1sXfGd4ATitzfv6W4vNzU+2hmpDjQRA0Q8qeX/Hn7yxysoHvGHOSojP6B+laqhsHL0MDnnq7kJDjQdAwWrTh0MwukjQZOBwPzT4WMEmjgYHJg3vZNLxP+ilHkdfiRxXGV1GTBuSB1Faami8j28NAKtPQPQRBEMxrqnDZegCeOgoKZKGkLXAFRKaouQevNTUT9xjrh6eyKuWTfIRLXaQU1GPxOmLP4V5pn+GRgO3wA3LROlBTp6aUj3BlcVvK10JZBhDujHJGffcbBMECRyU5Ay5nkLQb7vX7HR4V8xZeO3Umnp6tJ7VlWVb0rKiGVjlWxKMU36O8AXDpOvZdrj2j6BybFZD7sKAv3964Qm4llHH4yJxa8or9bF91PQuCZsDxxx/P4MGDWWmlldh+++1ZZZVVWGyxxQCoqqri3XffneWeww8/nBtvvJGrr76aHj16MH36dG644QY6dOjAbrvVVJSYNs2DuFZaaaXCtbP2qVPnr/JpRbURs2jJvFF1yhQvWz127FjGji1favSrryrb7bLvicbJj3JfXtH/u3XxDC4/s2jCbXFD3pO44RBgW0lv4M5tr2QpjEuo9F5+Ea6L+BBPs/Y+bvACNyaWkx31eiY0gIY8C2ZHFlf692lI1qtMT7IOlc/PRXqSptpDEARBc6bs+dXMZiSdeTWNeMeYkxTVD59Rj75F5sx2gmDBo0UbDgHM7EbgxqQs7oGnWhoAjJDUmRphc4yZXdrQ6SusOya9XOyS1v4ar/M1mRpDYka2h7ZlPCfLb6ABCvMgCIJ5wF24AXA/SafgCoC+wAtm9kJu3GnAYkDvkhRyWf2ofmXmb6gMPAg3Gp5ZmoNfUnfccFiOFYDXCtpXTNeiwyslfePNbJMK44IgWLBZoUx7qZw5C1dsd01RMNVIupqUci9HpkBdBXixnnt5AbgWdwB5XNI2ZvZ2yZjs3Fpu3+XaM4pkePYZVyzoA49Iz4+DmjShRe82TWJgzK23Ap5asJRy+w3mMz755BMuvfRSNthgA8aMGcNSS9WuBnHLLbcU3rf55pvTpUsXbr/9dgYPHszw4cOZMmUKJ554IossUqOjatvWdXQffVRsR/rwww9rjQNo1crtGDNmzJLlEnAjY5Fhb16Q7fu4447joosuavQ8Sy+d+R00Wn40CWb2g6Qnge0lrYgbDp82s2+A1yW9h9dTeh5YivLR0IVnUkkdcCfml4AepVHlkvausL36PhPqS/5ZUBeNkcVNTTb3XWYWdWSDIAgaTv78WuscL2lhYDncSTCjoe8YdVHpjA5+Tp+/PKmCIKimxRsOM5I38QPAAylX/gDcY/CZNGQroKGGw7q4Ac+rvyfu3bEccKmZldZcfAbYNO3h/ibewyxMPH/HOb1EEAQBUCt180G40uWn+LOnNPJ6beCzUqNhoqGH00qsna5DG7FOT0rS4klaE1gNT09V9sBrZl9JehlYX1L7fH2BxhByPAhaLJtIWqogXWmvdM1Sy60NvFzwQt+K4tp/zwC7444b9S7oYWb/lPQdcDM1xsPXc/1fSHobT9fcqSBdaZ11CAvIPmOvMv290/X5XFuWR3E1vCZYnlnzLzaO54Ff4c+CWoaD3LOgXoQMn7e8/fbbzJw5k+22224Wo+F7773H22+X2sdrOPzwwzn44IO58cYbueuuu5BUXQcwY6mllmKttdbi7bff5o033mCdddap1T9y5EgANtmkxo9omWU8K+6kSZMo5c0332TatGmzGA4XWsiD6vLRgHODbt260apVK5544onZmqdLl+oMl7PIiSTLeszWAjVkX1ClKMRH8RIje+OpPPPRbY/hDmzjc2Mbwpp4hNtDBUbDVVN/ObaU1KogXWmvdG1Qvlsz+1rSS8AGkrpUSldqZl9KegtYU9I6ZvZGyZAiWdwYKv37/BdXKG8haZECPUpTUZ//RmoRcjwIgmbC83i60p6UGA7x52+p3GvoOwa4cbCc/Myf0WshaW0qZ22ao4QcD4K6adEpGiT1VnEi/A7p+k1KV/oE8CtJA8rM87PkKdhQbsQF6P7pB9xru5TLgR+AiyXNUsdBUmtJjSl8HgRBMD9Qla6ZLJyB16DNMxFoL2nDfKOk3+GKnKZiYrr2KlmnCwXFwUs4RlJ1Kql0eP4L/iy9vh5rX4TXB7guRaLXQtIykiIaMQgWbNoCf8o3SOqK18aahkdxg8uydSStnBsnvE7XegXz3oBHB/5e0talnUl5XYiZ3YEbHZcDRqd6tHluxOXgeflzt6TV8NR8DeUpPLp7S0m7l+xzd9zR7nVqp0/NaiUeXDL+Z1SOJG8IN+Hn9aMkdcqtkX8WBM2ATp06AfDkk0/WMrp99dVXHHzwwWWj/gD22Wcf2rZty4UXXsjo0aPp06cPa645q91nwIABmBkDBw6stcbkyZM566yzqsdkdO7cmaWXXpphw4bxySc1ZfK+/fZbjj766MK9LLusZ3H83//mRpmhGjp06MC+++7LuHHjOOusswoNl2+99RbvvPNOxXl+/vOfg6dA6y2pb0n3IZSvb9hQpqTr6hXGZM4AJ+Gp5R8t6WuLlz+ZidcXbAgT03VLSdWKVUlLAv9HZWfuddK61UjqhyuA38T1GA0lc5a+WlKtVKeSWknK59i9Dv8+/lKy9+WA03NjZoey/z6pFvpleHTjpZIWKx0jaSVJRc+9JtlDEARBM6cqXU+V1D5rlNQGOK9g/EQa9o4BLkPLOdD9F38H6ZfXqyd53tTBO0EQNDEtPeLwLuArSc/gwk+4smEzvJDqI2ncPvgLwT8kHQ08i3s8rApsiHsddgcKi50DSOoFjCSX/s7MJkkaiac7mQG8WOTVZ2b/TUbL64CXJT2IK0QWwQ+vWwGfAp0b+T0EQRDMM8zsKUlvAr/B5dq9ZlYqTwfjBsInU4TiNDxKZEs8x/7uNA034vVkB0vqDbyBK2V2Au7EI8TL8RQwQdJtaX/bAxvhz5MLi25IyuV3gBvMrL+kTXEF0FuSRuBFxdvj6VO3xg2Qh83eRwyCoBnzOHCQpM1xmbMSLpdaAYfmUtpfDFwFjJc0FDdo/Rx/ob8X2Dk/qZlNlrQPLk9HShoO/AevUbgh/rK/RrlNmdk9SVl9FzBK0i9y6aYvBHYF9gJ+IukhXMm+R/o8uwIz8/Kw0hdgZibpALyuym2ShuFKh5+kub4E9i+JwBmGy/O9kxH0WfwM3S/17VFpzfpgZhMlnQT8Df/e88+Cdvj3uWGFKYL5hBVXXJG99tqLW2+9lY033pjtttuOadOm8fDDD9OmTRs23nhjJkyYUHjv4osvzgEHHMCll7qu69BDDy0c98c//pHhw4czbNgwNtpoI3bYYQe++eYb/vWvf/HJJ59wwgknsOWWNY77iyyyCMcccwxnnXUWXbp0YbfddmPGjBk8/PDDrLzyyqy88sqzrNG9e3cWX3xxBg8ezJQpU1hxRc8oedRRR9VKgzonuPzyy3njjTf405/+xJAhQ9hyyy1ZYYUV+OCDD3j11VcZO3Yst9xyC2usUVasZOlZD8KjoO9Jsuwt/P+jPsBwPEq6NNquobyG1/TbS9IPwLt4WtEhZpYVsxyPR0V0wGXMc7n7MyNiB2BchQwTbSQZ6cwHIKkKr+2dyeUJORnZB68hNQGv513Eg8DfkmH1BTwS5FfpvgEFkYj14Vpcv/Bb4I0kYz8FVga2wXUSg9LYv+L/Bv2AN5McH4vXZOwAXGhm5Wrg1pengW+AYyUtS039xsvMbBqeNm8j/Hy8s6TH8H/PDvgZ/ufAqcArc3APQRAEzZKki7kMOAp4SdId+HtDP/y5V1rHtkHvGIlH8WfsvXiE4w/A42b2eEoHfgnubDJe0l24LaIP8EH6aQzHUvOsQtLS1GQL2D+9S3Qxs+IDXRAE9aKle8aehB9sN8EVtQfiSusT8TpaPwCY2Xt4qtBT8TQV++J1CHrgSt1DqX89mFKq0rUoNV81ZvbPtIeb8JelI4H98JeDOyjxNMyQZJL6N3JvQRAEc4sbqClSPYssNLMH8UPoK7iS/HfAdDwNUpOlcDazD6hJC70lLms74jL2pDpuPw5PP90Lj2BZHrgE2MbMvqvn+kfgn/NpPHXr8cAuuALpL7gBNQiCBZd38PPn57iSdA/8BXwHM7stG2RmV+Pn2g9xpfS+wCRgc8qkjTOz+3GHjJuALsAfcYcOo9jjuPT+EcAOQBvc+LhZav8Wl9WX4bWwjkt/n5ubt6E1vJ/FHf1uxp33BuLfyy3AZqk/P/473FHvdtzh70g8/d8+wJUNWbuOfV2U5nwH6I+XPniJmn+zoJnwj3/8g1NOOYVvv/2Wv//974wYMYKddtqJMWPG1Gl0yyIFV1ppJXbZZZfCMa1bt+bhhx/mnHPOAeCyyy7jhhtuYJ111uHmm2/mggsumOWeM888k/POO482bdpwzTXX8MADD/DrX/+aESNG1KqhmLHMMsswdOhQ1ltvPaqqqjj99NM5/fTT+fzzOf+f4tJLL83o0aO57LLLWG655Rg6dCgXXXQRI0eOZKmlluLiiy+mT58+dc6TUtT3xKP4dsTfwRfDZUiWUq1B8qNgjR+B3fAo5d8AZ+LGqDVyY2biTsAAT6RIt6zvPdypF8rXN6yLE3CZuBhwBO5wcB8uOyoZpp7Fz52L4nKtb9rD1mbWqFyx5uyP6xpexZ8zx+P/Dk8A9+TGfo8rd0/NTbER7qixj5md2Jg9lOznc+DX+DtAf/zf5ixgmdT/A+40sj9uBN4J+APwS1yfdTqzZjJpKMcAi+N1vmbZQxAEQTPnGNxwOA3Xb+8NjMD1Ed/nBzbmHSPNfwvQDTgNl5/b5PrPwLM7fYdnFNgBLx2zPW5kbAouxOU3uP7+TGqcQIIgaCQyK6zhHTQQSYvjns2TzWzyXFqzPx6dcqCZVdX3vk4n3T/X/tEjZ3QwH1OUxjgImhRJiwBrAdPMrNSbr9E0lRwPGR00c0KOz+dIOhi4BjeCXscckIfNkblxFg/5PueoqqriwAMP5LTTTqtOOxo0mrJyXNJTuKKyrZl9Pfe21DhKs0yktpVw57C3GlKfryib0bxmftxTUyFpEK7Y7l2m3vosNFSOh0wOWjBxHg/mKpImAphZp1zbe8DXZvaT+s4TuvEgqKasHG/pqUrnGmb2DZ5GKQiCIAiAai/peDYEQdCikbRyiujOt62OR4LMwFNUhzwMmj0zZszgoosuYuGFFy6bpjSoP8n5tnVp+s/kINsDGN4cjIblSE4SC7SjRBAEQRDMBVbGSyQEQdCEtJhUpZI6pbSdVZI6S7pb0meSvpb0pKTtSsb3z9J8SvqlpFGSpqW6BNmYtpLOk/SapO8kfS5phKRfFKzfK803qKCvfZrnVUnfpnUeLd1TyT17pjGfpbUnSrpFUtfUPwqPNgS4Pq2d/XRqzHcYBEEQNC35Z1OubQVJf03Plq8lTU2/V0lacx5uNwiCoLEMlTRO0tWSLkj1/17FayeebmYflJGHValtDUlHSnold+49RZLSuN9Iei7JzE8kXS5psdJNSNpV0j8lvZ7Gfi3p35KOllT43iNpXUlD0zn/a0ljJO2Yf1couGfVtIe3JU2XNEXSPVn61qDl8eSTT3LOOefQt29fXnzxRQ477DBWXXXVeb2tlsDqwIfp/5+LJF0q6Qn8PXcqnpKy2ZKTcZ1ybXm9RSdJt0qanGTfOEk7VZhvb0kj09nxu6RfOE3SogVjGyQPc3tdU9JRkv6TdBej6viMm0q6RNILOd3FG5L+JmmZkrGHpjXOKDPXipJ+kPRiSXtD9DJlZXfqt/xnkkeuZPsZmderVPrcQRAEwZxDzpGSXk5y//109m5bMm5UktcCeuZk+Kh5svEgaGG0xIjDNfDaUS8CVwMr4fWyhkvaJ18fJrE7nh9/OF4AtiOApHbAU3gB2LF43anl8BoAD0n6fcr9XBFJHfGaDZ3wmgEPAkvgufkflHSomf1fbrzwF6UDgMnAnXix8lXxWg+vAePw2olT8YK2w/Ci6hnlCrYHQRAE8xC5Z/1TeLq+h/EC48KfPf3wmrZvl50gCIJg/mQI8Fu8TlVb4Cu8NtflZnZnPe7/K17H617gIbz26zlAa0mfAecDd+Nn6T54jbCFgN+XzHM+MDOt/X7ayzZ4PdrN0h6rkdQZGIPXsbof+A9eG/Eu4IGijUraJO2xPV4f5k78HWFX4ElJu5lZ4b1B8+WRRx7hzDPPpH379hx88MFceOGF83pLZRk1ahSjRo2qc1y7du049thj5/yGKvMxXp+uJ/6uuyhek+h64Bwze2se7m1O0xF4Dj/3DcFlyp74u/0sBlNJ1+F1p97Da0NNBbbAa0n9TtIQXP5lHInXsP0AGJ/asvrcs8jDHJdQUw/8AeDHOj7HwXgNydHAI7hz+qZ43cS+kjY3sy/T2JvwOlS/k3R2qj+ZZwCuo6rWszSVXqYCg3H53ROvwz5xNuYKgiAImobBeN3jD/GyBz/g+pLNgdbU1GaswnXuZwDvpr8hZHkQNAkt0XC4NfBXMxuYNUi6HDcmXiVpuJnlC6zvAOxgZg+WzHMBfji9BjjMUjFISRfghrtLJY0ws4l17OcG/KVgbzO7Nbendrhwu1TSPWb2ceo6GDcajgX6mNm03D0LAR0AzKzKbYz0A+6uq8ahpEPwIrS03/5Iltr4l3VsOwiCIJgDbIsbDQeb2XH5DkmtcYVZISHHgyCYXzGzK4ArZmOKTYENzex9qK439SYwEPgG2NTMXk19i+JK8AGSzjCzT3Lz7FhqaEiRNdcD+0u63MyezXX/HTcaHm5mV+bu6UuB4VDSwsDtwJJ4LazRub6V8fP7PyR1MrPpJfeGDG/GDBo0iEGDBs3rbdSLUaNGceaZZ9Y5rmPHjvPccGhmnwMHzdNNzDt6AYPMrPofS9LNuKPxdmamXHt/3Gh4F7CvmX2b6xuFG71OL7POcun6Lu4YUU4eZmwCdDGzd+r5Oc4Djig1Akr6HXAtcDiuW8HMvkoGziOAvsB9ufHC/1v4BjekZjSVXqYQMxucdDM9gapKNQ5DjgdBEMx5JPXAjYZvAd3M7LPUfipea3cl/JlGpgtPkewT66rBG3I8CBpGi0lVmmMa8Od8g5mNw73b2uHecHmGlRoNk/J2P9xb+uTscJrmegO4FPdw2L/SRiRthB9Ah+aNhmmeqbhHRBvcOzvjqHQ9NG80TPf8mOokNBgzu8bMuppZ1xCMQRAE85xvSxvM7PucR/YshBwPgqAFc1ZmNITqc/I9wOLAlZnRMPVNB27Dz+I/zU9SFJ1kZjPxCBqA7bN2Savh0YhvkotuSfcMxyNnStkRd/64LG80TPd8gEfSrIg7iZTuI2R4MFcYNGgQZlbnz8SJE+f1Vhd03gXOzjeY2Qjgf0C3krHH4PViB+SNholtgSnAWDNThZ9O5eRhCRc2wGiImb1bEDkIcB3wRcE6mZNGaZHQ7fDsUbdlepCm0ss0FSHHgyAI5goHpus5mdEQwMy+A06enYlDjgdBw2iJEYfPl1G8jsIj+brgUYAZzxWM/QmuqHgqL6RyPAacluaqRPd0bauC2od4qhBISg9JSwAbAB+b2fiC8UEQBEHzZjSePu+klO7uATz90oQySpcgCIIFgXEFbR+k678L+jIjY60ic5KWxaMUd8Aja5YouW+V3O8bp+vTSZleypNAaf2s7GzfsczZfp10/SllUp0GQRAkyp39JlEja7I09xvhZUyOTVmHSplOiSNFA+VhniL9SFkkLYIbAffCIwPbUttBvdY6ZvaypMfxNKarmdmk1HVIul6VG95UepkgCIKg+bBJuo4u6HuSulNoB0HQRLREw+HHZdo/Ste2ZdrzZGPKRfdl7e3q2Muy6don/ZRjyZL53i83MAiCIGi+mNkXkrYAzsRreGVe2JMlXQGcbWY/zLMNBkEQzBumFbTNqEffIllDSjU3Fo9YeQ64EfgsjW2HR+zk00Fn5/1y7w5F7dnZ/jdl7slYso503ptLAAAgAElEQVT+IAiCqWXaZ1Db8LYMXg97eTxjUZ00Qh7mKdKPVOI2PKvT23h9xo9wQybAsWXWuQIvMXMQcIakFfFz8QQzyxsum0ovEwRBEDQfyp7RzWyGpMlzeT9BsMDSEg2HK5RpXzFdS5UPVjowN2bFgj7wfMpFc5Wb5xgzu7SOsVDz8lDO+y8IgiBo5pjZe8DvUi2X9fBUeUcAf8IVReVq1ARBEATlOQhXkp9ZWt9EUndcUZ4nq3le7t2hqD072/czs3sauc8gCIKGkMmd8Wa2ScWRNTRUHuYp0o8UIqkrbjR8BOhrZjNyfa2AE8rceieuEP6dpD8DA3Dd1NUl4xqjl8kiyGfRdSWDahAEQTB/k8n0FXCnlGpSvfHlgPfm9qaCYEGkJRoON5G0VEG60l7pWp8UoK/hRbk3ktQu1VnJ0ztdn69jnmfSdSs8/35FzOxrSS8BG0jqUo90pVl49kJ1zZ1n4vk7NmR4EARBMAdIdVpeBl6WdDde02ZX6mE4DDkeBEEwC2un69CCvp4FbRPStbukVgXpSrcsuCd/tm+04TBkeBAE9cXMvpL0MrC+pPZlUnaW0lB52Fiyde7JGw0T3YDFim4ysx8kXQucCuyMGzq/Am4qGdoYvczn6bpawdJdy3yOButVQo4HQRDMMZ7H05X2pMRwiJ/PG6QDL0fI8SCom1Z1D2l2tMWjNqpJnnD74l4Ld9U1gZl9jx9alwLOKplrLeBo4AdgSGrrBYwsmGcc8ATwK0kDitaS9DNJHXJNmYHxakltS8a2krRSrmlKuq5e12cKgiAIaiOpkySTVDUX11xfUlEUS9b2zdzaSxAEQVMhaZSkekepzCEmpmuvfKOkLsDJpYPN7H94DfS18fpc+Xt+yaz1DcHT8L0FHCFph6JNSOqeapIFQRA0FRcBrYHriqLmJC2TamdnTEzXXiXjCuVhAzkjd3Yut04H4O91zHMNbrC7HI+OvLnU+buhepnEODzqcJ+8LJbUHriwzF5CrxIEQdDEzIa+JRt/apLd2XxtgPOaaHtBENSDlhhx+DhwkKTNgafw9BV74kbSQ83si0o35zgJ9yY+UtJmuMfD7/GD6cLAkWb2Tj3m2Qcv2v0PSUcDz+IpSVcFNgQ2wIuff5LGX5vW/S3whqRhwKfAyng6u+uAQWns07iS+dhU/DyrR3CZmdWVRjUIgiCY+/QB/iLpaeB1XPavCvTDlRx/mYd7C4IgaM7cCAwEBkvqDbwBrAPshKfF27PgniPw94UrkiHwP8CawK9xI2Emm4HqKJlfASOA+yX9G9gUjx5/Cdgs3b8S4QgSBEETYWbXSdoUOBx4S9IIPFNFe9zotjVwPXBYuqUx8rAxjMVl6K8kjQGexJ3h+uLRgh9U+Ez/k3Q/XtsQZk1TmlGqlxmJp6nbAzco1tLLmNmHkm7C9SkT0hpLAzvguqIuBWtkDtuDJW1Ailo0s7Mrf/wgCIKgqTGzpyRdBhwFvCTpDlwX3w+Xz+Xq3gZB0MS0RMPhO/iB+fx0XRQ3+v3ZzEbUdxIz+yzl/z8Z+BXwu9Q1GehvZg/lhj8HHADcUDDPe+mQfxSuhNgXD6v+CHgFuAx4MTfegP3Ty8Ah+IF4UVwwPkEuLZKZfS7p13iR9P7AEqnrn1Sov9jppPvr9R3MDhHyHQRBM+D9/2fvvMO0Ko8+fP9UQEkUVOx+ETUSWz7FLgEFiWBHUzS2CBpL7CVGbBGjUaNRifoZS0JQgy02bNiQxSAaQyIaESuiohhsIAZB0fn+mOfsnj2cd3ff3aU693XtdfZ9+nlh58yZeZ4ZYCMaz1fbmjyM72beAVd8V8Dl+6PAZWY2timDtJYcD1kdBMGSgpm9K6kH/g7QHegLvIQb2h+jxFBuZi8mff8CfIPeTrjzcB/8+dCPulyIWZ/nJW0GnJzaAXwH19efxfXyDxpa6/zQxUOeB8GSjZkdI2kEbuP4PtAR+Ah3IF6C2wCytlXLw2au6UtJewHn446543H9+o+p7MVGhhiCOw7HmVlpGpgSu8zJwGe4DeaSgl0m43A8h+L++AaRt/DITpfg9pUimRF6Bv4dLZs+V3QcViPHQz4HQRBUzQn4Rutj8MggH+IRBM8AnmuNCcI2HgSNsyQ6DjGzifiLfkNthlJ3/LlSm+nAacBpkjrjTslHisqpmc2SlJ0YnFMyzkzcIHFBk27A+wxj3hj/Ze0eAh5q6rhBEASBY2Zf4EaU+UlmeJiT5pyIGzyCIAi+VpjZZECFsv745rey9oOoi7JRrBtKiR5vZi9Sd3qliMoKzewl3Bhdv7F0QPp1YkmfacBASdfg7wfD0r0EQfA1pakyrqxdob5nA3X3A/c3cT1VycOG5HGqr5G0Li7z8uUf4c62Mjo3sszs9N81DTXK22UaGS9rPwc/cXlqSXXF7x74VXq+BEEQBAuRdKjmqvRTpHNJ+4ZkexAEzWRJzHHY6kgaRJ2CfEiK0Zz99E85Dkek+im5fjWpTRtJv5L0uqTZkl6WdHiu3VGS/i3pM0lTJJ0rqfTfRtK2ku6Q9J6kzyW9LelaSWvOn7sPgiBYMimLuS9pNUm/S3L6v5Kmp9+HSlqv0H+pJL//IenT1P4fkn6ek+Fd0nVKmqtGUidJ10maKmmOpAmSBiyg2w6CIGgyraF3Suor6UFJHySZ97qkSyrk6Zqcfr4p6fI032eSxkvaO7VZRtKZkl5NevXrko5tzvxJjq9eMv/u+EmVL4DnJb0m6TRJyrUdRAPvB039foIgCBZnJHWRdJGkcZLeT3L2zaTrrl1o2zfJyD9LWh4/PfkRcEuqb5dk9QeS2uX6tZM0MNlMZkn6RNLfJM1zelBSzzTHoArrnSxpcu5zDR7mFeDPBVneuSXfTRAEQTAvSf/+fZKzd0laLpU3+s4gaen0fvCJpG9WGP/KNPaPFtQ9BcGSyhJ54nA+UIOHAjkBPxJ9T65uKfzoNLhxoez0363AtsCDqc2PgOskfYHnOTwE3zk4Et8V+Cs8L8pv84NIOhRPIj4HD1n6Np6r4GfAnpK2M7O3WnarQRAEX08ktcfztKyPhw69D9+VvA5+iv0OYFKuy014Htu38ZBMhoetuxrYQ9ILeHjqr/CwGr/GnyVPAp+n8doBPwaGSPrKzOYJeR0EQbAwaA29U9I5+KnBj3Bddxqu+/4C2E3S9iX5x9vgMnglPM9gW9yJd6ekPvjJlm3xTXtzcBl6paT3zey2auYHegJvSxqFn0BfEZfL9+My/aF033vjIf+WBc5Nw9dQ+f1gfEPfSxAEwRLED3AH4ChgLK7jbkLds2IrM3sntX0EDwt6IC6LVwN+YWZZTtgfAisDl6ZTg0hqi4f63xGX0/8HtMdtKrdJ2tzMzmjB+ocC03Fdfzj15ff0FowbBEEQFJC0LB5d7we4PD/ezL5q6jtDCpF9Pa6P7w9cXxh/OeAgPD3Y8AVzV0Gw5BKOwyaQwnJMxg0D41PoJKB2t/Fu6eONZvZ+yRDfAjZNITaQdCmu9F6OK6P/mynTabzXgF9IutTM5qbyLngIj8nAjjnlG0m9cSX899TlWgmCIAiqozfuNBxsZiflK5LRIr/zeX/cafgssIOZfZrKzwJG48+F7wMTgKPM7IV0UGUz4E/AkWb2ZeozGM+pdRoluXKDIAgWNK2hd0rqhRsAngJ2y/TgVNcfP+FxLnBSoeuaeH7ynjnD8U3AE8Bfgdepr1dfhuvVA4Fax2ET5z8z3edOuDNyhdRkKvADM3s6tT8Xz7NykqQLzOyLht4PgiAIvkbcBFyeyeuMtNFjBHAW8HPw0HOS3gHWwDeiXIjbRDKOSNfrcmWn4E7DEcBeOfvIuXiew9Ml3d/UPOFFzGxo0tH7AfdEqNIgCIL5g6SV8M2I3YCBZvbbVF7tO8P1wNl47sN6jkM8h29H4IKUmiYIghawxIQqNbPJZqYFnV8kGQmybKdTKjQbmBd8ZjYJGIMLs/PyxpjU7j6gE7BWboyf4zuwT8i3T31G4sJ3zxTyYx4kHZHCh4ybOT5SIgZBEDTAZ8UCM/s85avNODRdB2ZOw9Tuv9TlX3nSzLZI+WgyZgEnZ07D1OdF/BTiRpXCbUDI8SAIFigt0jsTx6fr4Xk9OI0xFD/VcWCFvifmjdBm9jc8LOiKwGklevWTwKaSlq5y/gPM7Dgz28TMOgBvpiY7ZE7D1H4avmu5A/CdBu65IiHDgyBYEjGzd4pOw1T+CL6Brm+hahdgNvCmmZ1hZl8BSPoO7iAcZWav5Nofip8APzlzGqbxpwHnpY8/a637aYiQ40EQBM1D0jq4vr4NcHDmNExU9c5gZlPxSB9bStqyMNWReMSnokMxW0fI8SCogjhxuGAYV1L2brr+s6QuM9CsTZ0BY/t03VHS1iV9VgWWxvNpzTOmmV1H2rnXeeAD1rRlB0EQfK0YjcvfgZK2wMNLP4mfJPmy0HYLXCGtqTDOl0DXkrpXS8LygYfCAzeKf1pSH3I8CIIFSYv0ztwYXwA/lvTjkvq2wCqSVjazD3Pl083s9ZL27wLrVpjvHfy9ZnXq9Ojmzj/DzF4raZ+X01UTMjwIgiUR+XG9A4H+eGSNFfHnQ8bn+fZm9qGk24GfSuqWOymYnTa8Jjf28sC3gXfM7KWS6R9P1zKdu9UJOR4EQdAsvoOfJvwGsGvahJinOTr71XjI6iNJzw9J3wW2A0aY2eSyhYQcD4LqCMfhAsDMZpQUZ7vlGqprkytbOV1PbWS6iqdVgiAIgsqY2SeStsPDYOxF3Q7pDyRdDZyfC3fRAfjIzD4vGWeupA9ww3qRSrlSMrm/dIX6IAiCBUlr6J0r4+8a5zRhjHqOuwrt5kKjenVRd27O/CGngyAIms5lwIl4iOeH8c0bWfSO/niu8CJXAz/FDb5jJbUDDsFzWt2da9chXadWmDsr79jMtQdBEATzny547vLxeDqCIlXr7GY2StJEYH9Jp6ToUNkGlGtbZdVBEITjcDEiM5J0qHBaJQiCIGghZjYFOCztnt4Yz3t1DPArPLz32anpDGAlSW2KsfMlLYOHmw5ZHQTB4kpr6J0zgKXMbKVWWtPiNn8QBMESjaRV8RBzLwDdCmH9s5zg82Bmf5f0LLCvpBOBXXHD8W8LenX2LFq9whLWKLQDjwgClW1dHam8QSQIgiBofe4DXgYuAEZK2rkY7YPm6ezX4DnXD5R0A3AQvnnl/gZ7BUHQZMJx2HSyMHULa5fx08CWQA/ggZYMNPmi3RtvFARB8DXGzAzPyzJB0j3AW8De1DkOnwV6AzsAxVAbO+DPirLddK1CyPEgCOYzraF3Pg3sLmkTM5vQaitbtOZv1vtByPAgCJYQ1sM31j1S4jRcO9VX4mo8B9VPgX3wPIbX5RuY2UxJrwPrSdrAzF4tjNErXfM698fp+j/FCSV9Gz/FWHQcVi3LQ44HQRA0HTO7UNJnwOVAjaTvm9l/UnVzdfYbgAvxk4az8Y0hV5SkmSkl5HgQNM5SC3sBixEf48rstxprKKmzJAM2zJUNlWSSOheavyFpaBPmvwqP+Xy5pC4lc7aV1KMJ4wRBECzxSJosaXIV7TsnGX1rSfVq6TorVzYkXS+U1D43TnvgovTxT1UsOQiCYFGiNfTOm9N1lKQ1S8b4RgoPPb+4PF2vrzD/m5Iqhb9rKk1+PwiCIFgCmZyu3SXVOt0kfRN3Cja0Uf1m/JTJL4EdgUfNbFJujKHJpnIXIOCSwhydqNvQN4Q6XsKjfvRLJyKz9ssBV1RYS3byJWR5EAQLlWrtGAsCSTVJHrcIMxsM/BzYBBid088b09lL3xlS+oKb8Ty35+ObQK5v6TqDIKgjThw2ETP7VNLfgR6ShgGv4ELp3gU0/0uSDsWV4gmSHkpraIMruD2A98k5K4MgCIKq2Tcpq6/geVbWBvrhYY8uyRqZ2c2S+gH7Uncq0fBTiesCt5nZsIYmktQTGIXnVAyCIFhkaCW9c2y6rgK8KulB4A08P8k6uKF4DLDLfLqHkZIG4juRy+b/H2BOC+eo+H5gZs+36AaCIAiqJG1SfgO4wcz6z+/5zOy9tOnuJ8DkdMrwCaAzfvpjPLB5hb6zUmi541NRpZxU1wPb4/r4c0mWtwd+jOcTv9jMxuTG/ULS73Gn4rOS7sbtXjsD76afIk/hGwRPlLQy8F4qv7JCXt0gCIJFluTkG21mPRf2WoqY2TWSZuObrJ+QtFMTdPaG3hmuBn4GrAXcl1LPBEHQSoTjsDoOxndC7ALsj+98m0LdTruGOB0/hfJOcyc3s79Ieg44BQ/L0Qf4L6783gHc1tyxgyAIvua8A+yOGyW2TNcVgKnAo8BlZja20Gd/YDRwKHBkKpsIXAr8YQGsOQiCYL7RinrnCOBToDsuW2fgMvc66k4lzhfM7LeSnsQN08X5Z+L301IqvR+E4zAIgq8DhwGTcMMtwKbArXh+8Dsb6TsEl89TmXdDdmY/mYw7/U4GDgCOA+YCzwEnmtktJeOegzsCD8dD2L2X1jQIeLHY2Mw+lvTD1K8/8I1U9Rfq508MgiAIWoiZDZU0B7iROudhQzp7xXcGM3tWUrZJpdIGlCAImok8jVPQmjR1p9+C3hGY0XngA/P9Hz1iRQeLAVrYCwjmH1l4DzPr3ECbDXFH33VmdmSldvOL/IlDMxtUTd/WkOMhp4MlgJDjizALS89tKk15TswvWlMXD1keLOaEHG9FFqbcldQf+DMwwMyGVtnnfDM7u5HmixTVyPGQ08ESTsjxVqQ19NPWPnEoqQbY0cwWuX9rScvjmxo/AtY1s6+a2nd+28ZD9geLERX/tiPH4QKigRyHZW2XkvT71P6uFI8/q+sr6UFJH0iaI+l1SZdI6jg/1x8EQbAoIGlfSU9ImiHpM0n/lnS6pHYV2neQdJWkdyTNlvSipOMlCcjydk3J5TgcWjJG+zTHeEn/lfSppKck7d/AOvtIuk/StCSr35Y0XNL3U/1Q3GkIcE6aO/vp2YKvKAiCYJFD0oaS7pH0UZKjYyT1KWnXTtLAJNtnSfpE0t8k7VvStlZuS+oi6bYkc7/K5KicYyVNSM+Ad9IzoUMj691f0ihJ01O/iZLOKnvWpDXUSFpd0h/THF8mg3gQBMECQdIg3GkIcEhBt+yfa9eoPUGex/Yfqe9eJXPdmOrOTp9rcAcgwJ8Lc3eWdE36vV9ujGXwU4Rzgb+n+jty9RXtJ5K2lXSHpPckfZ707GtVyI0l6ZY0xgaF8htS+chC+fKSvpD0ROVvOgiCoGVUo5/K7RmnSnpc0pQk896XdK+k7Qtt+6suF+GOBVk8qNDuTkmT5DaVTyQ9KemgRtbdTtL5kt7IPT/OkdS2pO3ekv4i6RW57v9fSf+U22Lm8UVIWk3S7yS9nNpOT78PlbReSfu+8pCm7+EhTb8J/FZhGw+CViVClS5iSFoWGAb8APg/4Phsx4Skc/DwGh8B9+P5t/4X+AWwm6TtzeyThbHuIAiC+Y2kC/CwRR/goSo+BXYFLgD6SupjZp/nurQFHgM64uGJ2gI/BH6PhyFaFc9deHcDc3YEHscTbv8LD6m0FNAXuFnSJmZ2VqHPuXh4pk+Be4C3gTWBbsBBaU33pOaH4OFOa3JDTG7SFxIEQbB4sC6eP+rfeAihNYD9gBGSDjCz28AN1cDDeB6Tl3A9uD3wI+A2SZub2Rkl468P/B3PLzgMWA7I9OHB1IXBuw74Ag99tC3+TPi8OJikIcAAPNzoncB0YDvgPKC3pJ3NbG6h20rA07jcvwt/tvynyd9QEARBy6nBdd4T8DCe9+TqxkPT7Qlm9rmk/YBncUfg5mb2dhpjAB6ieSTwmzT+UFxW9gOGZ/MlpgM34GH9fyrpQ1zO9wS+C1wF7JYbp0Hk+Xevw3PU3ovr2RvgoVL3lLSdmb2Vmo/E8y/2Bl7NDdM7XbtJWtbMZqfPO+I2snoOxSAIglamGv10I1zWPgE8AHyM5xvfC9hV0p5m9lBqOx44Fw+7/Cb1ZWpN7vc/ABPSmFOBlXE5fJOk7zRwAvx2YGs8ZUG25kHAVpL2svohDS/C9eG/4+FGOwA74baYrfHnCOAbtYEncZ3+UeA+/ATUOmmOO/CQ2Fn7zC40O31f/8WfV2EbD4JWJhyHixCSVsKV327AQDP7ba6uFy6QnwJ2M7Ppubr++A6/c4GTFuCSgyAIFghpN93puHFgGzN7L5Wfjjv+9sAVxQty3dbAFcxNzWxOan8ObpDuihsQ+pnZC2W7mRODU9vTzOzi3HqWxQ0yZ0i6w8wyg0wf3Gn4BtDDzOrltZW0NoCZ3SNpOu44rKk2VGkQBMFixA7A78zs1KxA0lW4TnuNpBHp5f4U3Gg7Atgrc86lzRjPAKdLur8k32x34MKiU1FSN9wo8zr+3PgolZ+Jn/heAzeq5Pv0x52GdwMHmtlnubpBuCHmGNzokee7wE3AoSVOxSAIgvmOmdXIQ9ydAIwv6pbV2hPMbJKkw/F8tjfLT3J3wR1904CDsg3OKV8VuIH3npJQpU9JegXX118Dfok7L68HzsL15mnAQzSApC7ANfgmux3zerak3sAjuHzeJxU/nq69Uz8kfQdYCzdO7wx8jzpHYe9CvyAIglalGfrpRGBNM/ugMM7auH58OUl2JpvE+GTzmNyAjWFTM3u9MF5bXAcfKOmaoh0jsRGwiZl9XFjzHvgG6ZtybXcvmWMp/FnzU0lXmdnfU1Vv3Gk42MxOKvRpC7TLfe6F24XAnYtPA8eZ2b/CNh4ErU+EKl1EkLQOvsNiG+DgvNMwcXy6Hp5X8sEVdXxnyYENjH+EpHGSxs0c36A+HgRBsChyaLqenzkNAZKB9hR8N9vPSvqdnjkNU/uPcGMFwJNmdn+lCSWtjCvA4/JOwzTObOA0XFk9IFd1XLqeUqZsm9mUSvM1RsjxIAgWU2YAv84XmNk4/HRgR+oMvIcCBpycd76Z2TT8tB+Uy/n/4AaCIgPS9TeZUSaNN5s6g0ORE/CweYfmnYaJ84APKde3Pwd+0ZDTMGR4EAQLmartCWZ2O35SvDvwW/y0yXK4veI9quMG/GTIW2YmM1vZzI7AnXcrAsOasPHi50Ab4ISinm1mI/FN2HvKc15hZpNwJ2MvJc8mdc7BXwFf5j5ndf/FDdHzEHI8CIJWoCr91MxmFJ2GqXwKfhJvQ0nfqmYBRYdeKvscj/axDPXlYp7zMqdhyZoPzTesMMdX1G2+61syflH3xsw+N7OZuaLsWbapmS1rZt8zs3+ltkMJ23gQtCpx4nDR4Dv4zr9vALsmpbfI9vhR8B9L+nFJfVtgFUkrm9mHxUozuw4/Aj/fE8AGQRDMB7ZI13l2AJvZK5KmAOtK6mBmM1LVXKB4MgXqwnR0bWTOrYGlgXo5AXK0SdeNcmXb4YbvVtdCQ44HQbCY8q/CC39GDX7ququku4BvA++Y2UslbTPZXya3n8tvEMmRPTdGl9SNwQ3GtaQwSZvh4bBPrLMx12MO9WV+xuTk4KxIyPAgCBYyzbUnnIhHRDolfb7QzB5pxvw34hswDsGN0xmHpOvQJoyR5fPaUdLWJfWr4rp7F+Cfqexx3KC9OR7Kbidgqpk9LemfJAO5pFWATYFHzOyLsslDjgdB0ApUpZ8CSPoevrlte1zOFXMKrgW8VexXieRoPA2Xf9/CN4QUxyujoTXX09HTJuxT8RCo6+H27kpzjMbDmQ6UtAXwIH6wZryZFb+PsI0HwQIkHIeLBl3w3Cjj8RxaZayM/3ud08hY38R3QwdBECxJZInCp1aon4orvR3x0y0AH5QomuAJtPNjVmLldN06/VTim7nfOwIfl5xUCYIg+LpSKddfXhY3RcaDy9hK4xTJxpxnfjObK6m4e3tF/BT5KjSubzd1DUEQBIsKzbInmNlsSQ/gIZnnUt/p12TMbIqkkcDOkjYys4mSVgV2wY3DzzfxHsCN0Q2R181H4o7D3pKeA3rhRums7peSstxbIvIbBkEwf6lKP5W0D36ycDYeYvl1/GT0V3iu2B3JhfJsDEnr4SFOVwT+hod4noE7/zrjmzkqjdfQmlfNzdER+Aee5/wZfOPIR/gzJMvF2y43xieStsMjiOxF3WnEDyRdjUedyjZ0hG08CBYg4ThcNLgPeBnPzTVS0s4lOyNmAEuZ2UoLfHVBEAQLn8wZuDquLBdZo9AOoJOkpUuch6uXtG1ozsvN7OQmrnM6sLKk5cJ5GARBAMBqFcrzsnhGoaxImYzPqLRbOGu7Gp7vthZJywCdgCkl7Z81sy2ojtixHATBok6z7AmSuuOOug9wuTlE0i5m1hy5dwMemvQQYCAeTm6ZVN4UMjndIeXGbQrZifXvp99Xos45+DgeZq8Xkd8wCIIFQ7X66Xl4SPytzGxiof21uOOwGk7GnW8DivloJe1P3SnwMlajcLIxt+a8TP4Z7jQ8tyTf7va447AeKfTqYSms9Mb4Zo5j8LDSSwFnp6ZhGw+CBUg4DhcRzOxCSZ/hiW1rJH3fzPK7OZ4Gdpe0iZlNaMlcky/avSXdgyAIFgbP4mE9elJwHEr6NrA28EYhZ8syeGilvxXG6pkbsyGewXfy9ahinU/jycF3Ae5upG3m0Fy6ivGBkONBECxWbCFp+ZJwpT3T9VkzmynpdWA9SRuY2auFtr3StVJkjjL+hT83dqRgmMHzddWTvWb2qaQJwCaSVsrnnWltQoYHQTCfaEi3rNqekELN3YKHhdsJD213YLpeVMXcGXfhxuWDJJ2BG6jnAjc3ZT3pHrbEdfMHmtLBzN6T9GLqs0sqzhyHT+IhqHvj9/cxjb8fACHHgyBoNlXpp3go/wklTsOlUvsyvioZJz8ewJ0ldY05IXcEbiqUZWvOy85mz5E2pUwAJki6B3dU7k2d4zBs40GwAFlqYS9gSULS8UkpzXKzbCzJJNU0pb+ZDcYTfm8CjJa0Zq768nS9vlCOpEFpnqNbdgdBEATlSJosafJCXEaK9JwAACAASURBVMKQdD0r5SABQNLSwO/w59mfSvpdKKldrv1KwFnp458bmjDlqxoGbCXp7DRXPSStL2ndXNGV6XqppHlyAxTKspPlVSUzD4IgWMzogO8WrkXSVrjxeQZ1myyG4GHiLsnLW0mdqDMWDKHpDE3XM5Psz8ZbFriwQp/L8NwoQ8p0eEkrptwrQRAEiyIf4yegy3TLivYEAEnfSKHi8vwZ35x3kpn9G7dVvAacJ6lboW2jem2KxnE7ntvqJDyv7ION5YjNcRXuxLxcUpeSe2grqWzD3+NAe/yUy6vAW5Jq0nqeAvYF1gdqzOyrJq4lCIKgOQxN16bqp5OBDfJyO53KG4SfzCvjQ+B/KtRNTtee+UJJffGTgg1xtqQVK6w5b1upNEdX/JQ3hfJNJJVFKMnKZuXK8s+y25K+3jk31kapbGgj9xIEQROIE4ethKSfAL/Hd1kMwZXq96sdx8yukTQbN4A/IWknM3vLzEZKGogL5VclPQi8gcdt/n7q3h+4usU3EwRBsIhhZmMlXQz8EnhB0h14bP9dgU3xpNyXFLpNxWPnvyDpXqAN8CM85N3VZvZEE6Y+FtgA+DVwsKQxeGz/NYGN8NyH++PyGDN7RNL5uHNyYtol9zau9HbHd8j1T2Oflq4/kfQF8CZu7LnJzN5s4lcTBEGwqPME8DNJ2+KnO9YA9sM3fByZCzf3O1ym9wOeS7pue+DHeN6Ui81sTKVJkpNvRzMTgJk9KelK4DjqnhtfpPE/piSfopkNkbQlkG3G20jSRXhou3WBHXDDyFHN/C6CIAjmG+nk9N+BHpKGAa/gJwHvbcSesA5+CmQM6VSepBOBPYE7zeyaNP5MSfvhzrZbJG1uZh+n6Z/CjbsnppOKWe7XK80sH2b6Btw4fWHuc1Pv7yVJh+L2lgmSHkr32AZ3WPbAbTAbFrqOxHX6VfFTjxsU6nrmfg+CIJhvNEM/vRy4BnhW0p2p7fdwp+F9uJwuMhK3MdyHn3D8Angi2T+uBgYAf01zv4vbU3bBN3bs18DyJ+KyN7/m9fET4PmTiDfiIa4HS+qFb9jYAI/MdFfJHDvjGwefwmX6NHzTSj/89GStnafwLNs6FQ+U9BX+LOvZwPqDIKiScBy2Hnvkrm2pcxxuhCvQv27qQGY2VNIcXNhmzsNJZvZbSU8Cx+MG6H7UJbGF8tM2QRAESwRmdpqkZ/EX/5/iRoLXcSfdpWb2eaHL5/jGiguAn+Cx9yfhoZWupAmkRN07AkcABwA/BJbFnYev4rulHy30OTspvcfjz4Rv4MrvOFyu1zZN13G4YXx5/LTNGNyJGARBsCTwBu5ouyhd2+FGjF+b2cNZIzP7XNLOeO6VA3CDylzgOeBEM7ulGXOfgBsgjgGOxHdg3w2ckcadBzM7RtII3BizYlrPR3iopEuAvzRjHUEQBAuKg3FD8y745jbh+bKeb8Ce8A5wHSlkaNpA8VtcH613AsXM/iXpVHzT9J/xEHKY2ceSfgicg2+S+0bq8hdy+WnNbIyk1/BQdh8B91dzc2b2F0nPAafgYaz74JsJ3wXuAG4r6VaDG5+Xwk8f5jd/jMRziEHkNwyCYMHQZP3UzK5N9uET8fDOn+GpWAbgtokyx+EJuK2hN7AbLvvOxZ2Hzydn3vnA7rhf4DngB8B0GnYc7otHATkQ30j9Dn7y8aJ83lszezed/r4If9b0xSPzHQ08VjLHw/jmjx3w59IKuAP1UeAyMxtb+E6yZ9lNQGfgUOqeZbcAhzVwD0EQVIGal9M6KCLpcaBXtst5Ac89CFfQe5lZTWPtOw98YL7+o0ec6GAxYYH/rS7OZGFKzazzwl3J/EHShvgOuuvM7MgFNOdQXPlf18wmV9O3pXI85HSwhBByPKileOKwFcYzYLSZ9WyN8fK0li4esjxYAgg5HixwWkO+VyPHQ1YHSzghx4OFQpk9JYUtfQO4wcz6N9R/ftnGQ+YHiyEV5XjkOGwhWX5BfLcbKZaypbLsc01ZH0k9Jf1I0jOSZkn6SNKtZXmxUr8tJT0kaaakTyQ9Jmn7+X2PQRB8PZBzrKQJkmZLekfSVZI6VGjfTtJASf9OMuwTSX+TtG8Dc2yTYtG/I2mOpKmSHsn3SbLR0qaIsjHmybcoqX/q01/Szmkdn0p6X9KfJXVM7bpKul/Sx6n+3qRcZnlSpuTGXEnShZImSvpM0gxJIyX1KVlTfv5ekmpysvoBSRsV2huu5AK8kXt2TC6OHQRB8HVH0l5J/k5Nz453JY2WdLSkzkmm7pjaWu6nRtLSkt5O8vibFca/MrX/URPWskya9+k05ixJz6bnZ7xbBUEQtJCkT98paVLSwT+R9KSkg0ra1iT53U7S+ZLeSM+J1yWdI6ltFfOeKumrNNdKjfcIgiAIysj0c0lD0++3Svog2ZnGSdqj0L7WTt7QWAtq/UEQOBGqtOXUpGt/PJ7yuVX0PRrYC7gXGA1six/Z3kyeL2BO1lCefPwxPAzqXXhS8s3T/BFSIwiC1mAwHrpoKh6uKItbvy0ue2pDgaaX8IdxQ+1LwP/huah+BNyWZNgZ+cElHQ78gZRrBQ/1uSqwFS4Pb2+Fe9gLDw96P54LoBsunztLOh0PR/Q3PLTzd/HQHtsDc/AQRnenta6Dy9fOqf1DeMilPYCHJB1pZteXzL8H/p2NSPNvjIcH2VrSxmb2QWp3Lh7aaTM81NP0VD6dIAiCoBZJRwDX4vmy7gM+wJ8d/4uHaboZl6n9mVcXn2xmX0q6PpXvD9ST3ZKWAw5K4w9vZC1t0hr6Ai+nuWfjGwivxJ+XBzf7ZoMgCALw94UJeI7cqcDKuD59k6TvmNnZJX1ux/Nd5XNvDQK2krSXNRBqK236GIyHyL4LONDMZrfe7QRBEHxtWQd4Bk8ZcxOeN3w/YLik75vZqIW5uCAIGiYchy0khQatSbsi1jGzQVV03wXY2sz+nRVIuhk3avQjGdElCU8Avhywt5kNz7U/AVdygyAImk3anHA8njNwGzP7KJWfCYwC1qB+3r1TcKfhCGAvM5ub2p+LK4anS7o/i0cvaWM8EfcnQA8zm1CYf+1WupW9gN5mNjqNuxTu4Pw+8CBwhJkNy837BNADV2T7mdkLqeoGXMnd38xuzbXviDsUr5B0r5n9pzD/3kBfMxuZ63MhMBCPvX8xgJkNSicdNwMGVxuqNAiC4GvEkfjGlc3MbFq+QlInM5sODGpEF78ez8lyJAXHIW686AhcYGZfNLKWM3Gn4VV43sUv0zqWxjfcHCrpjryuHgRBEFTNpmb2er4gbVocAQyUdI2ZvVPosxGwiZl9nNpn7zB74JtDbiqbSNKywDA8v9dVwAlm9lVr3kwQBMHXmJ7AIDOr3diX7N4PAaficjoIgkWUCKezcLki7zRMZMaMbXJl3YDv4Ilsi4aIq3BDf4NIOiIdBx83c/xDzV5wEARLLAPS9TeZ0xAg7bY9vaT9oXjC7ZMzp2FqPw04L338Wa79z/HNKucVnYap35RiWTO5JXMapnG/os5Q8ELeaZjIdizfaGb3A0jaDHeK3pl3GqbxpuM5ZZfFk5EXuTXvNExcl67bFBtXQ8jxIAi+xszFT5DUI3eKu0HMbCpwD7ClpC0L1UfiJ87LTpHXkjaiHIefTDwpcxqm8b/EN9QYcGCF/iHDgyAImkDRaZjKPscjnCwD9C7pdl7mNEzt8+8wh5bNk8KRPgbsA5xmZsc15DQMOR4EQVA1bwLn5wvM7GHgLVpoH2kOIceDoDrixOHCZVxJ2dvpumKubIt0HV1oSwq/NAZYv6GJzOw6kvF6fiWADYJgsaainAHG4OFFAZC0PPBt4B0ze6mkfRY+uWuubLt0HdHCdTZGmVx9N13/WVKX7VbOn3jMcsd2UHmexVXSdaOSuqbK9aoJOR4EwdeUYcClwIuSbsWfU0+a2ftVjnM1Hk77SOAIAEnfxZ9PI5pw8rsLHl7pVeAsDwgyD59R/mwIGR4EQdBEJH0LOA13EH4Lj7yUZ62Sbg29w3QtqVsNeBJYDzjIzG5ubF0hx4MgCKpmfH6zXY63qbO7LDBCjgdBdYTjcOFSlssqO7mzdK6sQ7oWQ+JlvNdqKwqC4OtKRTljZnMlfVDSdmqFsbLyjrmy7PdiWKHWZkZJ2dwm1LXJla2crjunn0p8s6RsHrmevj+oL9eDIAiCJmBml6Vn0NF4SO0TAZM0GjjVzMo2bJSNM0rSRGB/SaeY2UySAxHPodgY2bNhA/zkeSXKng1BEARBE5C0Hp72YEU8z/gjuA7/JZ57/BCgXUnXht5hVi1pvzqwAjAFdzAGQRAErU+Z3RvcDhNREINgESf+SBcPMmP3ahXqV19QCwmCYImlopyRtAzQqaRtJdmzRqEd1CmMZTuEi2QhgiptbulYoby1yNZ9gpmpgZ8BDY4SBEEQtApmdqOZbYc773YH/gTsADwsaZUGO9fnGtyxd6Ck5fC8V+8A9zehb/ZsuLuRZ8O6VawnCIIgqM/JuKw/zMx6mtnxZnZ2yl/7cAP9GnqH+aSk/XO4E3It4InksAyCIAgWDg3ZgOa3/ScIggrEicPFg3+l647FCklLA92rGWzyRbu3xpqCIFiy+BcernRHYFKhrju503JmNlPS68B6kjYws1cL7Xvlxsx4GtgK2BUoC2+aJ8tP8j/FCknfxk88Vtq51ho8na49gCvm4zxZyI6qTyKGHA+C4OtIyjP7IPBgyjl4KO5AvJMkUyUtXSEkEsANwIX4ScPZuCHiigba53kJf/ZsJ6mNmc2Tc7GphAwPgiCoyLfT9c6SunnsIYW6mwpl2TvMs2UdzOwvkmYDN+POw53M7JWmLDLkeBAEQatS0QaE25FanZDjQdA4ceJw8WAs8DKwg6R+hbpjaSS/YRAEQRMYmq5nSlopK5S0LG5kLTIEEHBJ2sCQte8EnJ1rk/EHPBzF2ZI2Lg4mKZ9j8CV8Z3A/Savm2izH/HXkAZDC3v0N+IGkQ8vaSPpufm3N5MN0/VYLxwmCIFhikdRL5QkFMxk8K10blalmNgM3EHcFzsedjdc3ZR1mNhe4Ej9Vf0V6JhXXukbZMy4IgiBoMpPTtWe+UFJf4GcN9Dtb0oq59vl3mD9X6mRmd+D5bzsBoyVtUv2SgyAIghbyTLoOSKfFAZD0P8CvFs6SgiAIx+FigJkZcBjwGXCnpNslXSDpQeBi4KGFusAgCBZ7zOxJ3CC6PvCCpCskXQq8gJ9OL+Yz/B2eD6Qf8JykiyVdBUzA849cbGZjcuO/iOen6gA8m+TYbyRdI+mf5HYIp1Mcv8+1vUrSNWktywPvtv43MA8HAK8Df5I0XtK1kn4raZikfwPPAy0NaTQyXa9PY58l6dgWjhkEQbBIIWmypMm5z/0lmaT+TRzibuBtSXdI+p2kSyU9A+wB/BN4LLXLZOpd6flylqSD05w1kizVX52uawEPmtmUKm7nPOBe4CjgVUk3SrpQ0p8kPYHnytqrivGChcTkyZORRP/+/Rf2UpZYJNGzZ89q2vdMsmFQlfPUkzFfJ5r7nS3iXA18DvxV0l/SO8aDwAjgjgb6TQQmFN5htgMeYN6TiPUws3vxd5oOQI2kzVrhPoIgCJZ4JB0v6UVJn6Xn0YlJ5761mnHM7O/AE3jUp2ckXZfGeR14qolr6Q+8Ud0dBEHQEOE4XExIRv0euHFkV+A4oC2+E+/vC29lQRAsQZyAy5YZwJHA/nguke/jL/C1mNnnwM7AmanoODxPyKvAAWZ2WnFwM7seDxl0Py67TsUNrO8D/1dofg5wOh5K7ghgNzxkUV+g2eHhmkoyJG+J39+XwIHA8UA34C38+/l3C+d4GFeE1wdOxA3Sv2jJmEEQBEsgA4F/4OG0jwYGAG2A04BeuZChf8RPl3QAfonL1MOKg5nZs8D49PHaahaS5tob+CkeDWQP4BRgF/y96mxgWDVjBkFrMnToUCQxdOjQhb2UVqPg+F/skdQ5GVeHLuy1LIqY2fN42oOxeE7bnwMrAD/A89RWYl882smeeFSmpYBBwA/TRuxSMucrsD3+vrEsMErS1i2+mSAIgiUYST/BN3zPBgYD51KX9qU59MP1+bVx2xLAOFznD4JgIRA5DlsJM+tZoXye0EopsfegCu0n4+H/yur+iRsmijxVabwyOg98oKlNm0XEiQ6CxZP0Un1V+inSuaT9bOCC9NPUOZ4CftjEtVyUfpqylqHUhVst1tVQWa5ObqBuJk28v4bmT/Wlc+CnU9Y3s3aNzZGnpXI85HQQBAuRu3GjQvEkeylmdg0NG4uzdl8CZ6SfikhaHs+h9RZ+gqXSeJWeDYafXmnwBEtDtJYuHrI8WJSZOHEi7du3X9jLCBZDzGwssFOF6kqyeQ5wVvppbPxKY9Tg0U0apRo5HrI6CIIllD2yq5nVRoWStBEwy8zeqtSxzIaecpkfDhwuqTN+evCVSjYbM+sP9C8ZfkCyzzRIa9vGQ9YHSyLhOAyCIAiCIAiCYIGQ8gzOWIhL+DnwTeB8M/tqIa4jCJZoNtxww4W9hCAIgiAI5h9rAuSdhunzSwtnOUEQtDYRqrQRJG2bcqq8J+lzSW+nXFdrFtrVpJAjbSX9StLLkuZkIUgaq09ttpR0p6Rpqe5NSVdLWqNkXUPTeOtJOk7S8ymmdM18/kqCIAgWKZoipyW9lOo6VRjjtCRTjy2Ur51yLE5KcvlDSfeWhS+SNCiN0VPSjyQ9I2mWpI8k3SpprVzbziks0o7ps+V+alrruwmCIFgQyDlW0gRJsyW9k2Rnh5K2pTkOJf2vpFtSvrI5kt6X9C9JgyW1ybXLy9pDJD2bdOBpkoZIWr1kiUunvlcCv8ZPO16f1vxg0rnnJHn9mKRdC2tbOj1bPpH0zQrfwZVpXT+q+gsMFgleeeUVBg4cyFZbbcUqq6xCu3btWGeddTjiiCOYMqV+KsyHH34YSQwYMKB0rDlz5tCpUyc6derEnDlz6pVfdNFFfPe736V9+/assMIK9OjRg9tvv32eMWpqapDEoEGDSufo3LkznTt3rv3cs2fP2vUMGDAASbU/kydPbvL3kN3bmWeeWa981KhRteO9/fbb9er2228/JDFp0qTaMlXIcfif//yHww47jNVWW430tzte0iHFdtXqSpK+IekSSW+lv+fXkn6nsnHT+/T6SYf8UNJMSY9I2jS1W0WeY2lqkmv/kNSrZN415e/3T+Z00Xcl3Sxp40LbQdTlXzqkcE/9C237SLpPdbaBtyUNl/T9eb5Ub7+5pAckTU/652hJ3craNoW8rJa0u6Sxkv4r6eP0nW1Q0qeLpIskjUsyPLNpXCdp7ZL2tTkaJW2T1v9RKuuca7e/pFHp3mZLmijPYztPxI7s/4ekTrl/vzny59OAQtuhwKj08ZzCv0fP5n53QRAESzJJZhseVrre8zn3uaak3zKSjpb0tFynniXX44+V1GT/hKRvS/preh79Nz2f4rhfEMwH4sRhA0g6FLgOmAPcC7wNbAD8DNhT0nYlR6/vBLbGQx/dA0xrSr2kPVKd8KTfb+L5tX4O9JPU3czKkrz+Hs99+ADwIJ6LKwiC4GtBFXL6Bjzk6P7AlSVDHYLncbw5N/YWwCPASniux7uATnh+qzGS9jGzB0vGOhrP3XgvMBrYFtgP2EzS5imU0nQ8B0B/YJ30e8bkar+HIAiChcxgPA/sVFwmf4HnKdkWz8n9eeWu7jTEc3YbLjvfwHNafRuXqWcxb37bk4A+wG3AQ3gO3QFAT0nbmtn7ubaZ4/Fw4J/U5Qr/PZ5H61E83+4aeH6sByUdbmZ/BA+DKul6XFbvD1xfWP9ywEHAe8Dwhu41WHS56667uOaaa+jVqxfdunWjbdu2TJgwgT/+8Y/cd999jBs3jrXW8j1Affr0Yf311+f2229n8ODBdOhQ30d+55138uGHH3LKKafQrp37Nj7//HP69u3L6NGj2XDDDTnmmGOYNWsWd9xxB/vttx/jx4/ngguaHP19Hvr370/Hjh0ZPnw4/fr1Y/PNN6+t69ixY5PH6dGjB23btmXkyJH85je/qS0fOXJkvd/79+8PgJkxatQoOnfuzHrrrdfg2B988AHdunVj0qRJdO/enWnTpg3G/+6uwXWuPNXoSm1wXW1N/D17Lq6vXYTnrDuXeemMy52JeLj5zsA+QI2k7XG58gkuY1YCfgKMkNSlYAPYAc/FOgp/n/8U10V/BOwl6Xtm9lxqWwN0xPOKP4fbAzKy3KtIOhf4VRrrHly/XRPPtX0Q8FjhXrbCc7s+heeH+haeGmBk0j1fLrn/pvIDYFc8zHQNsHkau5ekboWxfwAchX8XY3HZvwl1evlWZvZOyRzb47nNx+B5Cjulvkgagsv2Kfj3Ox3YDs9j25vy0KUdgSfTGHcA7YAfA0MkfWVmN6R22fd/CK6z1+TGmNzgtxIEQfD1pSZd+zPv87kU+SbA+4C+eJ7wm/HciL1w+8y2wMFNGGcD/Fm3Mv68H4+/L9xDAykIgiBoHuE4rICkLvgLzGRgx7yCK6k3/mLze/zlIs86wKZm9kGFoeepl+9cvgH/9+hpZn/L1Z2Gv/BcixtHimwBdK3gVMzfzxHAEQAr9T2W5TcvS5UYBEGw+FClnL4JOB83DFxZGGdrYCPgLjP7KJUtA9yOh7PrZWajc+3XBP4B/ElS5+QIzLMLsLWZ/TvX52bc2NwPuD3F7x+UdjOvk3LfNna/IceDIFjkSCdajgdeB7bJydEzcePxGviGuIY4BDfu721m9RxvklYEZpX02RXY1syezbW9HDgR150Py7WdDWBmy+batsPlb72jZPJTkk8CF0saZmafparrgbOBIyk4DvHNIR2BC8ys6ODMxg0Zvohz8MEHc9JJJ9U6+jIeeeQRdt11V84//3z+8Ic/AH6a7qijjuLUU0/lpptu4thj6wUs4LrrrgPgiCOOqC279NJLGT16NLvuuiv33nsvyyzjr+LnnHMO22yzDRdeeCF77LEH3bo175BY5sgbPnw4e++9d+3namnfvj3bbrstY8eOZcaMGbVO0ZEjR9K1a1feeuuteo7D559/nvfff58999yz0bHPOOMMJk2axIknnsjll18O7ixC0lW4IbCWKnWlNXFH3M7Z32xyvr0CnCSp7G9zR+AsM6v1jko6Gz+V/HdcDzw6C2ks6VHgRnzTwkm5cR4HVku5scmNtRkuSy7C5RVmViNpMu44HF92T5L64E7DN4AeRUdb2ck9YHcKOZ0kHYnrySfgGzCay57AnmZ2f27sE/ANI1fjzruMm4DLi7pxuqcR+CaQn5fM0Qc4ysyuLfTrjzsN7wYOzMnj7PTmOcCJZrZjYbzNgD8BR6b8t0gaDDwPnIbbXjCzeyRNx59BNY3p4yHHgyAIavPB1lRjywDOxJ2GV+FyO5PNS+ObDg+VdEfxPaCE/8Odhiea2e+zQkn9qL8Zp5SQ40FQHRGqtDI/x3cunlBU1s1sJL4bek9JxeTZZzfgNKxU3w/fxXhb3mmYuBQ3iu8s6Vsl413cmNMwrfk6M9vKzLYKwRgEwRJCk+V0MgyPBLaUtElhnCw81g25st2B9YEr807DNPa7wMXA6tQ3lmRckXcaJjIj8zZNurMSQo4HQbCIkoV++03mNAQws9kkp0AVfFYsMLOPK+QivCnvNEwMwvMnHlAWwq4w7pyi0zCVz8BPvKyIRwnJyqfiBoktJW1Z6HYk8BXzOhTz44YMX8RZa6215nEagp8u3GSTTXj44YfrlQ8YMIBll12Wa6+t5+vg5ZdfZvTo0fTq1YsuXbrUlg8ZMgRJXHbZZbVOQ4BVV12Vs88+G4A//vGPrXlLzaZ37958+eWXjB7tKtDMmTMZN24cO++8M7169eLxxx+vbZudROzdu0wlquOLL75g2LBhLL/88vOEXzWzccCwFi77+Lxjycym4SeAOwDfKWk/GXfq5cl0wXbAqQXZczN+knHzfAczm1Z0Gqby53CnYi/lwi03gePS9ZSy03llcgt4Mu80TAxJ62227pl4PO80TFyFbxbZSdI6ubW9U7KhDjN7BJiAG43LGF90GiZOwO/h0Py/beI84EPgwJJ+s4CTM8N0WsOLuCN3I1UIOd0YIceDIAiqJ4UhPQ6PzHFSQTZ/CZyCRx0pk+f5cdYGdsY31lyVr0sOx9Fl/QrtQo4HQRXEicPKbJ+uO6oklxWwKp4vpQse8ijjmUbGLavfIl0fL1aY2VxJT+ChU7oCxdCojc0XBEGwpFKtnB6KK5qH4OGckNQWPwk4DQ/3XBx7nbSjuUiW12WjQj+AcSXts2RAK5bfShAEwWJLpseWvayPoWlh9G/DDcT3SLoDD8P3pJm93kCfeeYzsxmSxuMniTYiF/qvjLSR5FQ81OAa+KnHPGsVPl+Nhx88krRbWdJ38bB5I8xsckPzBYs2ZsawYcMYOnQozz33HB9//DFffln337dt27b12q+88srsu+++3HjjjYwdO7b2pGB22vCoo46qbTtz5kxee+011lprLTbccMN55t5pp50AePbZoi984bDTTjsxaNAgRo4cyV577cXo0aOZO3cuvXv3pnPnztxxxx1MnDiRjTbaqNaJmN1DJV566SVmzZpFjx495gntmqihbjNXtcwws9dKyhvSv8bnjZeJd9P1laIzMIUs/g9QlqtvdzxE51Z4mM2inaUTHsq5KWyHG1AfamJ7KNE9zeyLtN6W6p5lsvZLSWPwTXZdSafKJQk3/PbHT/2tSMoxm6gUtnoem4ak9mmMD4ATpbKIpMzBZX2RV83sk5Ly/P+HTyusJQiCIGhduuCHZV4Fzqogzz+jXJ7n6ZquY0qe3+B6RPEEehAELSAch5VZOV1PbaRdcbfae420L6vP3pwqvUxk5WXJKRqbLwiCYEmlWjl9N56r5iBJpydlcw9ciR1sZnNLxv5xE8fOM72kLBt76ZK6IAiCxZlMj/1PsSJtgGsoEkfWi0t0xwAAIABJREFU7hlJPfAwRj8i5TiR9DJwrpndUtJtnvkSmW5c6pnIkLQdvmlvGfxE+r34M+Ir/ERRP/zUUX6doyRNBPaXdEpyLGSxKMtOywSLESeffDKDBw9mjTXWoG/fvqy11lost9xyAAwdOpQ335w34u7RRx/NjTfeyLXXXku3bt2YM2cON9xwA6uuuir77FOX0WLGjBkArLHGGqVzZ+XTp5epEAue7bbbjm984xu1pwlHjhxJ27Zt6d69O507d64t22CDDXjiiSfYeOONWX311RscM/sOVltttUpNWvJeW+mLa0j/mlEsSDKrtC43Xr3Tg7mwnR/j+VLfwk+8GZ5ncTMKsqQROgIfl5ywa4iG7r+lumc1svYyPFz0VDzn5DvUnSTvj6dtaWisPCvi+QtXwUOSVkNz/j8EQRAE84fMtrIBDcvzxk6DV3znSIR9PAhamXAcViZ7WehQYbdaKWZmzajP5qr0trVGoV29IZu4tCAIgiWNquS0mX0m6XbgZ/jJw4coD1OaH7ufmd3bGosNgiBYQsnk5WrApHxFyhfbCSgLrVcPM3sK2COFGN0Szxd7HHCzpPfN7LFCl0reh0yfrmT4zzgLWA7PY1tTWPfpuOOwjGvw/LkHSroBOAg3jhdD+QWLEdOmTeOKK65g0003ZezYsSy/fP1sFLfcUua7hm233ZauXbty++23M3jwYEaMGMGHH37IaaedRps2df6l7ITde++V27SmTp1arx3AUkt5VpG5c+eW9pk+fTodO5btK205bdq0oXv37jz88MO89957jBw5ku2335727dvTpUsX1l57bR577DG22GILZs6c2ehpQ6i7t//8p5K9r+K78CJLknGDcGPlFimkcb5++7J+jTAdWFnSclU6D+cXTZK1klbF892+AHQryfm4fwNzNGQjedbMtiipD4IgCBYPMnl+t5n9oBXGaey5FARBKxGOw8o8jRstegAPzOe5spg0PfEk3rWkl5Ee6eO/WmOyyRft3hrDBEEQLGyaI6eH4o7DQyT9E9gVeN7MiuHsnk7XHvgplPlFbVLwCuE2Sgk5HgTBIsS/8HClO1JwHALdqfJkR8qPNRYYK+lV4EbciVd0HO6Y6mqR1AE/LTgbmNjIVN8GPio6DXNjV+IG4EL8pOFs/HTQFSHDF28mTZrEV199RZ8+feZxGk6ZMoVJk4r/tes4+uijOfzww7nxxhu5++67kcQRRxxRr83yyy/P+uuvz6RJk3j11VfZYIMN6tWPGjUKgC22qPOPrLiiR5h8++23KfLaa68xY8aMeRyHSy/tf275EKvNpXfv3jz88MPccsstvPDCC5x77rm1dTvttBPDhw+na9eutW0bY8MNN6R9+/aMHz+eGTNmlIUr7Vmha7N0pQVEJ1wG3FXiNPwmdaGc82T3UEk2Po1HxNgFj5axsJlHHkpaGpfvUGfLWA9YCnikxGm4dqpvMmb2qaQJwCaSVsrn0G1lGvv3KCXkeBAEQZN5Cd8Us52kNmb2RTPHyZ433SvoBD2rGSzkeBA0zlILewGLEpI6SzJJQ/FEq18Al0vqUtK2bQqp1BrcA3yEhz3arlB3IrAu8JiZFfMbBkEQfJ2pWk6b2ZN4bP1+eC6aNrgzschw4HXgGEm7Fcbtn54V56X8Ky3hw3T9VgvHCYIgWFgMTdczJa2UFUpaFnewNYqkbpKWK6nKdhTPKqk7WFLXQtkgPIzRfcDspNPn5xma5HdnYDKwkqT/LbQ5DOhbYZ2dccPHO3ielfNxo/P1pTcWLDZk4TfHjBlTz+n26aefcvjhh1c89QdwwAEH0KFDBy6++GJGjx7NzjvvzHrrzesjOfTQQzEzTj311HpzfPDBB5x33nm1bTI23HBDVlhhBYYPH860adNqyz/77DOOP/740rWsvLJHA3vrrZa/NmanCC+66CLMrJ5zcKeddmLGjBlcffXVLLXUUvTs2bPR8dq0acOBBx7IzJkzGTRoUL06SVvhufHKWJR1pWm4fNoyOQoBkNQGP5ncqaTPx/gJu0r3c2W6XiqpmGeVsrL5zE6S9iiUHYvnNxxlZlkM38np2j05FoFaB+r1NG/T+mVAW2CIpHmO10paUVJLTyMuyv+/giAIFntSSpgr8Wh6V5Tp/JLWkLRxI+NMwUOCr4s/h/L9+1G30eXPknq2wtKD4GtPnDisgJm9JOlQYAgwQdJDwCu4kflb+CmU94F5s9tXP9enaa6/AqMl/RXPjbAl0AcPfXJkS+cJgiBYkmiBnL4ROA84G891Mqxk7C8k/QDPz/KApLHAeNw4tENqdhbwf5QbtBslGaCzHIp3SXoQzwPzppnd1JwxgyAIFjRm9qSkK/Gwoi9IugPf1NEPN5BXyuGd55e4cfpvwBvAp8Am+Knwj4HrSvqMAJ5MIain4qdfuuPG69/SeI7awbiDcEwaYwawVRrjDjzXYiVewvO0rAXclwwZwWLM6quvzk9+8hNuvfVWNt98c/r06cOMGTN49NFHWXbZZdl8880ZP74YnMBp3749hxxyCFdccQUARx5Z/tr2i1/8ghEjRjB8+HA222wzdtttN2bNmsVf//pXpk2bxi9/+Uu6d+9e275NmzaccMIJnHfeeXTt2pV99tmHuXPn8uijj7Lmmmuy5pprzjNHFk508ODBfPjhh7V5B4877riyE34N0rVrV1ZccUWmTZvG8ssvzzbbbFNblzkRp02bxlZbbdXkkKkXXHABI0eOZPDgwYwbN44xY8ZciBsS9wMeBPYq6TYS/3te5HQlM/tK0hXAQODfkobjjq5eeA7tUen3fJ9PJf0d6CFpGK67fgnca2bPm9kjks7H9cyJku4B3sY3UnTHTyT2XyA36NwH3C3pbuA1/FT3rvjG56OzRmb2nqRbgZ8A4yU9gm/k2Bk/nT0+9W0yZjZE0pZpntclPYzbSVbCDcc7AH/GNwM2l5fxzSA/kfQF8Cbu2L0p5xQNgiAIWsZ5eM7fo4A9JT2Oy95VcZ36e3iu8xcbGecY4ClgsKQ+wHN4FJF98OfVnvNl9UHwNSUchw1gZn+R9BxwCq7w9wH+C7yLGxRua8W5hkv6HnAGbsTogDsMrwHOM7N3W2uuzgPnX+TVOOodBMGCpJly+kbgXNzBeL+ZTStpg5k9L2kz4GQ8ZNQA4Cs8GfcjafwPWuE2/o3L/F/iz+XRQIPGsJbK8ZDVQRC0Mifgxu9j8M1uH+Ih9s7AX+gb42rcQbgtbhhfBs+LeDVwaQXj7eVpjhNxp8On+OnHM4B2FeY5HbgIeMfMJkvaEzfO74cb7p/5f/bOO0yr6vjjny8iGktQ7IqCNcbeFYUI9o5G80tQExETjd0UY4nGRZNoNLHFig01EknEWGIXXRuWWLC3GLF3FEUFROb3x5wL17v33X3fLbBlPs+zz9n3nHPPPXfRufPOzJnB3yUr0LjjcCKzjOAXVvF836C1dPGQ5a3LJZdcwgorrMDo0aM599xzWWyxxdhll1048cQT2X333Ru9dtiwYZx99tkstdRS7LJLme8LevTowR133MHpp5/OqFGj+Otf/0r37t1Ze+21OfPMMxkypGEJuOHDhzPffPNx0UUXMWLEiJkOzrq6OlZbrWFg/sILL8yYMWMYPnw4I0eO5PPPPwdg7733rtlx2K1bNwYNGsS1117LgAED6N59lumgd+/erLLKKrz00ktV1TfMWHTRRXnggQc49thjufHGG8H//30ROBB3+pf98S4G+uAOqap1pdnI8Xig2k9x+TcJPxFxHK5vlvFjXIZtBwwBhMu8pwDM7HhJD+I1A3cC5sdPNz5KIUXzbOBaPHjjt8COeGDItcAxZvZSYe5+eMrqH+Lvgw/wlP+/A8Y05+ZmdrCkW3Bj81Z4atiJuAPxNOBvzVk3t/7XknbD3w0/ABbE/z3ux52IpVQrx0NOB0EQzAzM3hWvDT4Uf7ctgL8nXsXfpQ0CukvWeTll6jsFfycMxN+duwKLUYPjsLVt4yHvg86IzMrqUHdN0umPV4HLzWzoHN1MG9L36Jva7B89BGXQgdCc3kDQtWnJO6elcjxkddBJCDneBZFUB5wADKpQn7DNdPrculfhJyonAsub2Yxa1mktXTxkefth5MiR7Lvvvhx33HEz044GVRFyvJ0iaSh+mm9fMxs5Z3fT/qhWjoecDroAIceDdkM13xMyWts2HvI+6MBUlONR47AKJHWTdFaqiXKtpG9JqkufB0raQ9Ijkr6QNFHS1ZVqD0haWdIVkt6SNE3S2+nzyoV5B6T1f1bo3zf1fyFpnsLYw5KmVKgREwRB0CmRtIuksZLekTQ1ydV7JB1UmNdL0h8kPZNk6CRJT0o6RdL8uXn1Sc72kPQ7SS+mdUem8azG4dDC+hPST09J5yQ5P0XSc5IOk6Tc3Drc+AywT1rPytYNgiAISvldkrNTk/y/XdL/NXaBvlnjsDi2kaTRVa65Kh4lfV5KVdjgu0KrPGHQIZg+fTqnn3463bt3r5imNAiCliOpb5KzIyWtkmT2+5JmKNWzkrStpJslfZhk+SuSTlN5jcS1JP096e9TJX0g6XFJZ8rrVAZBEHRKCvJ0RUnXSPpI0mdJ/10jzVtM0oikF0+R9B9Jg3LrnJzW2afCfdZP4//O9S0h6c/JzvK5pE/S7yMlrVC4voek45MsnyrpVUm/lzRPWre+jf5EQRAQqUqbRNK8eFTx9/FaVoclA0E25SA8pcoNeMqUjfHUHGtLWsfMpubW2hC4E09/cQOeu3lV/Kj2YElbmdl/0vSxqd0SLyZO7jPAt4B+QH1auydeE/E+M/uyVR4+CIKgnSNpfzxN3Lt4TvsP8Tz5a+GpRc9L85bH68z0AR4DzseDZ1YBfoGnhf68sPwYYEO8jtZ1eIqopuiBy/mFgKvT592Bs4Dv4GmbwGX3Qnh6vyfT+hnlRZSCIAgCgPVS2x+4HngZl/sb4Hr5P2pdUB6odz6pzljZmknXPjBdsi5eV/G8St8VmvVkQYfi/vvv55577qG+vp6nn36aQw45hN69e8/pbQVBV2BF4GE8RfZVuG3kU0knAHX4afB/47r7WsCvgR0k9TOzT8GdhmkNw+X+q8C38VpZB+GpZr+afY8UBEEwR+iLy8Ln8ZT/ffF6gfWS+gG3Ap/iJWB64WnDb5G0ipm9jttifgPsD1xesn4WUXUBgKT5gAdwOX4HbsMRbqcZjJeD+V+aK1yvHwy8ApyD21eGAWu2ytMHQdAo4ThsBEm9cCVyU+BoM/tTybTtgA3N7OncdaPwWgWDScaLJPCuwJXRvc3sqtz8H+IG5islrWZmM8zsv5JeB7aQJJuVU3YL4C48j/OWJMdh+jxXGit7lv1xQU6vbQ9hwXW2q+2PEQRB0D45AJgGrF2sVShp0dzHq3Bl9FgzO7lk3uSStfsAa5hZLXUMl8IV3TWywJFkxPgPcJCk0WZ2r5nVS5qAOw7Hm1ldUwuHHA+CoKsjaTW8xhbA/sX0eZJq9tqkNc/DjSIDzOzZCmsujBtGwINUdsJr5d5C498VsnVChncy7rzzToYPH06vXr342c9+xqmnnjqnt1SR+vp66uvrm5y30EILccQRR7T9hoLZTjqRN7CKqZ+Y2Zltu5sW0x842cyOzTrSCZg64EFgBzP7JDc2FE+7OhwPGATYB5gX2NXMrs8vLmlh4IviTUOOB0HQCdkcOM7M/pB1SDoeOBF3KP4DOCgLipN0B27b/gXwi1Qz/BZgR0lrmNkzuXUWxG3jb+D6Mrgde0XgTDPL5HE2vwffrFOe2dUfwlOPTknzMvtKzYQcD4LaCMdhBST1wSMrVgR+nHf0FTg77zRMXIQLuI2YFfW8KX668MHiWmY2WtIhuALcH7g3Dd2FF41dE3gqGTaWAk7CHZBb4gVkYdZJxOyk4jcwsxF4UfM2rXEYBEEwB5hOSURw5vCTtD5+Qns80MCo24hj8PganYYZx+RPm5vZREknkerEMEvG10TI8SAIAg7ET4v/sqzmlpm92cw1uwMnFZ2G+TWTYWR5/FTKLcBHzIqYbuy7QrZOyPBORl1dHXV1dXN6G1VRX1/P8OHDm5zXp0+fcBx2XgbidZ+a4jXcoDsSP33SHnkPdwLmOSy1P8s7DQHMbKSkw4G9mOU4zGiQrcnMPi67acjxIAg6IROAUwp9l+OOw3mAIwuZNEYBlwLr5PrOxwP7DgAOzfXviaf2P83Mvi7co0z2TsODwjP2Te2xmdMwzcvbV2oi5HgQ1EbUOCznO3ik2tLA9k0YAh4t6XsjtQvn+rK0SqUnAnP965b0ZU7BLVI7No1tmCI4srHJwCON7DUIgqCzcRUwH/CcpDMk7SppscKcTVJ7W43p45ojT6cD40r661O7bslYEARBUB2ZPL+l0Vltv2Yt3xWCYI5TV1eHmTX5M2HChDm91aCNMLM6M1MVP33n9F6r4Ml8kF6iHx5I+ANJdcUfPL3dYpIWSfNH4+mpr5N0haSfSFpxtj1BEARB+2B8iVPv7dS+ZGaf5QfS3PeAfJaPW/DAuh+nVKQZ++P2kYtzffcAbwFHS7pV0mGpDuJcJXtbD5gB3F8yVt/4YwVB0BqE47CcVZiVbu7xJuZ+UtI3PbV5wdczte9UWCfrzxftztc5zNo3zeylNNYd2FzSksDqwL1mNp0gCIIugpmdjqcaeg2PNP4X8J6kuyVtkKZlcvWtGpd/txlb+rBE8c6v1bNkLAiCIKiO5srz1l6zlu8KQRAEQetSpqMvgqePPqHCz2pp3gIAZvYIMAAPyN4DP2HzX0kvSBrSprsPgiBoP0wqduTsyg3GEtNxeZvNn4HXOuwJ/BBmZn1aD/i3mb2dm/spHrR3GbA+cBZ+IOddScMlzVw3rTfRzMrqzTbHVhMEQY2E47CcG4Fj8aPXY3NRaS0hE7hLVhhfqjCPJFxfBL4naR48vUjmTLwfP8K9FbNOIlY6zRgEQdBpMbMrzGwT3GCwI3AJ8D3gtnT6MAvwWKbGdZuTumLRCtFymeyvpHwHQRAETdMsed4Ga7bFd4UgCIKgOsp09EnAx1WcqHxt5iJmD5rZTnimqM3wkjBLAKMkbTVbniQIgqBzcCkwFU9XSq69sDjRzN40s/2AxYE18ADwj4DfpZ+MSUCvgjMxo5JtPQiCViRqHFbAzE6W9CVwBlAvaSsze68FSz6R2oEVxgelthi1PBY4CK+/slD6jJl9Iekh/BTiArm5TTLhlB2r23EQBEEHItUzuRm4WVI3YBjuQHwoTdlW0rE1piutle54Tdv7Cv0DU/tEri87mVjmaGyUkONBEHRRHgI2ALYHXpiTa7bku0LI8CAIglbnIWBHSauX1attjJT2dBwwTtLLwBXAYODOSteEHA+CIJiFmX0g6RpgL0mbAUPw9KW3N3KNAc8Cz0q6Dngd2BU4Pk15HD8s0x+4u3D5wJbuOeR4EDRNnDhsBDM7E3fYrQ7cI2npFiz3AH56sL+kPfID6fMA4CUa5m7OThEek9qxhbE1gF3w6IwnW7C/IAiCDoekQZJUMrR4ar8ws8dwY8A6wFElaywiad4q7nWYpOdIxbSBbSpMPTmdEs+u6wUclz7mC3h/jEdML9fUvYMgCAIAzsfTIx0vabXioKTeDS+pfU1JQyVZaiuu2crfFYIgCILq2EdS30LfGam9qEwWS5pf0ia5z5tK+lbJ2kuk9ovW2GgQBEEX4vzU3oMfcLmoGLQtaXVJSzS4slz2ZraTP+TtNQX7ShAEbUicOGwCM7tA0hQ89d29krYws9ebsY5J2ge4Axgt6Xo8qvk7eETFZ8BPSk7C3I0Xg10ceCGfGxp3ItYBiwHXNDOtXhAEQUfmX8DkdAJ7AiA8EGND4DFmRQrvjRfQ/qOk3dPvAlbGHYCrputLkfQjPP/+E3jU3I7AKyVT3wHmAZ6RdAOe+38PPB31eWZ2bzbRzCZLehgYIOkqPHjka+AGM3uqtj9DEARB58fMnpN0EHAB8ETSp1/GU1VvCHzKrCweLVkzMybX4XV0K67ZWt8VgiAIguZjZmMlHQ2cDLws6Wb8tMsCQB9gczxIe7t0yW+ALSTdl+ZNxoNAtseD+0YQBEEQVI2ZPSDpK9wG8hWevrTI1sBpkh7E7R/vA73xU94z0pjhzsdBeM3EXXD7yvXMsq/8B1ixbZ8oCIJwHFaBmY2UNBVPWXGvpC2auqbCOg9L2hCPjNgK2Bn4EPg7cJKZvVhyzURJ4/GissUahg/nfq+6vmHfo2+qdetVE0e9gyCYzRwNbIvLyB2AKcBr+MnC87NC2mb2qqT1cCPBrsAhae4E4C+4wtoYO+XabajsOMxqz/4R+BGwKPA/4BTgryXzf4xHSG+Hp/MQ8CbQqOOwpXI8ZHUQBB0VM7tI0jPAr/E0Rbvi+vRTwMWttOZCwAfAf3GHYlPXN/iuYGb/qzS/NXTxkONBEATfxMz+JOkBvF5Wf9wQPQl4C3cEjspNPw93EG6c5nbHdfDzgL/kayGWUY0cDzkdBEEX5DOgF3B9hRT+t+EZl76Hy+hv48HXdwCnm9m4LKFUOoDzA9zmMxS34byDn0Q8EbfnNJvWtI2HvA86K4pDah2bLBLDzAZWe03fo29qs3/0EJZBB6IsvWUQlCLpLmCQmVX870bSBAAz69vW+2mpHA9ZHXQSQo4HHZLW0MVDjgedhJDjQU1IGomfBF/ezCbMqX1UI8dDTgddhJDjwUwkTQbmB7Yys7FNza+wRlV27ubYw/O0pm085H3Qwakox6PGYRsiqW+qjzIy/X61pA8lTZH0qKSdKlw3RNLdkj5Jc5+XdFyhZtbQJCQBNk/3yX7qZsfzBUEQdHYk1SVZOyh9nilrc3O2lHQrsCzQR9JLkk6R1LPCmitLukLSW5KmSXo7fV55tjxUEARBK1PQeVeUdI2kjyR9Jul2SWukeYtJGiHpnaTj/kfSoMJaS0v6naQHJL2bk5OjKtQ1zN97FUmjJb0vaYakgWmOJB0u6bl037cknSOpp6QJWeBHbs2ZNQ4L/RPSz/ySTpP0uqSpkv4r6SiptOZuEARBp0LSdUlGHlYydlIauyR9HpjZKCRtIOlWSZMkfSxpjKRl07wVkr3kA0lfJnvI2lXup2a7i6Qe8vrlj6e9fJHk+/WStmrp3ygIgqCzkvTqQyQ9W9CrV8Odhl+RsuIlXftISXdJejPp9R9IukFSv8K6Vdm507wx6eMASZ+m7w17t/3TB0HXIlKVzh76AI/g6equxI9t/xC4XtJWZnZ3NlHSpcC+eJqMMcAnwCbAScCWkrY2s+nAeGA4cAKelm9k7n71bfw8QRAEXYX61A7FZfnw/KCkA/Ai4J/jhbxnABPxVKk7S9rMzD7Jzd8Qr7u4IHAD8BxeX3FvYHB6J/ynDZ8nCIKgLemLp9J/HtdN+wK7AfXJOHArXodwNK4P/wi4RdIqubqA38NTEt2N68KT8Xq0ewC7JLn6ZMm9V0z3fgm4Cq9T+GkaOxc4EHgbT1c3Da+XshGz6rBUy9x4mqWlgVuA6Xi61FOAeSm8J4IgCDohw/C636dKus/MngAPpgOOxfXbQwvXbIjrx/cAFwFrAt8H1pA0GK8/+AKe8rlPGrtD0gpmNrnKfVVtd8HfUUOAZ9I9v8Tlen+8hMCdBEEQBGWciaeEfgfXq1cE9gT2S+Of2Kz0ht8F/gDcC9yEp4heDtfDt5e0s5ndmuZWa+c+H3g2/f4mrpfvAFwp6TtmdnyrPGUQBOE4nE0MBOrMbKYhQdIo3HhyJG4YIUU17wv8C9jLzL7Mza/DhefBwFlmNh4YL+kEYIKZ1c2OBwmCIOhKmFk9bvAeCPTJy1pJfYCzcaP2RrhMx8w2kXQebqQ+Fdg/zRdumPg2sLeZXZVb64fA1biyu5qZzWjzhwuCIGh9NgeOM7M/ZB2SjsfrkDwM/AM4KJNxku7A5eIv0g94hPISZvZZfuF08uQB3EG3fcm9+wMnm9mxhesG4PL4JWDjLJhD0rG4YXhp3DhRLUsDTwJbZ7q6pOFp/V9I+mNWXzcIgqAzYmYTJQ3BnYCj5XXE5wf+BkwF/s/MvihctgMN9d9LcCfkOLyuYNm7Yz/grCq3NpDq7C498cCVx/D3wtf5RSQtUuX9giAIuhSSNsWdhq8AG6X3QT1eHzzTf/Py/3lgaTP7sLBObzzQ4wxm2VGqtXOvYWavpNOJr5rZ/pJ64AF9R0u6wMzeaoXHDYIuT6QqnT28Bvw+32FmtwGv48bmjMPxqOVheadh4iTgI2Cv5mxA0v4pTcejn42/tekLgiAIgqbYG+gBnGNmL5hZ31x9w9/ihcF/rFlppjfFTxc+mDeaAJjZaDzS+ju48bsBIceDIOgATMAde3kuT+08wJGFwIhRuO67TtZhZu8XnYap/0ncqThI0twl936P8tN++6T2D/kT4GY2DTim0aepzGF5Xd3M3geuB3ricrwBIcODIOhMmNk44Hj8RPiF+Am/JXH5+GzJJfcX9V9mvR8m0fDdcUVq16F6qrW7GF7PZyqeLYTCNR+VLR5yPAiCgH1T+wczmwhgZgPNrBuwbXGymU0qOg1T/5vANcCqkparZQNm9kpqldU3THr9ufgBqS0rXRtyPAhqI04czh7GF6PYEm8A/QAkzQesDXwIHKHyEilT8WPeNWNmI/Aj5K1aADYIgqALs15q7yoOmNnHkp7AU+6tip9OqTg/198fWBdP5VFcM+R4EATtnTKd9+3UvlR0CJrZ15LeA3rn+yXtCPwc2ABYlIbfWRbF0yPledLMppbsad3U3l8y9hDuuKyFSWb235L+N1K7cNlFIcODIOiE/AmvA75n+vx3M7u4wtxHS/qy90PZuyM7LdKb6mnS7gJgZp9KuhHYGT/dMga4D3i45KQkuetCjgdB0NXJbBr3lIzdDzSQwZI2ww/K9AMWx4Ov8yyDB3hURXI0HoU7CJfDyxMU1ysl5HgQ1EY4DmcPn1Ton86sU5/8u5OfAAAgAElEQVQL41Fvi+EpSYMgCIL2Tc/UFo3XFPoXaub8IAiCjsakYoeZTU8BcQ3GEtPxuoEASDocr53yMXAHbkj4Aj8hsiseaDdPw2V4t8L6mex9r2RvX0sqPVnSCI3p9QBz1bheEARBh8TMTNK1wDap68xGppe9A6ZXGsu9O8pOmFeiGrtLxg9xw/OezDqtPkXSNcCvzazBOyMIgiBoVK+eLqmYknQ3/GThFFyvfwX4HD/tPRAvc1Cm15ciaQU8xenCeMDH7fg75Gu8tvo+tawXBEHjhOOw/ZApy0+Y2XqNzgyCIAjaA5ncXpJZxbnzLFWYl59fRnF+EARBl0JSd6AOdwKuZ2bvFMb7lV2XqBQ1/GlqlwD+V1hvLmARZp1sCYIgCKpE0srAn/FAj57AxZI2MrMpc3ZnTZPSTdcBdZKWxbOEDMVLEfQFBsypvQVBELRjMltFmV7dHc8K8mau+yRgGrCBmT1fmH8h7jishV/iuvu+ZjaysN4QZpUoCIKgFQjHYTvBzCZLehZYXVKvLFd0FcygxsjmCafsWPP+giAIggY8AXwfj5Qbmx+QtBBek2UKXhA8m0+aX8ag1D7e1I1DjgdB0ElZFD91fW2J03ABZqVHqoUn8HSl/SkYOIBNmAPfh0KGB0HQ0Uk1vEcD8+N1rTbHa3yfiaea7jCY2RvAVZL+DrwI9Je0SKVahxByPAiCLsvjuD6+OQ316v40tE+vBDxb4jTsluaX0Zide6XUjikZq8kJGXI8CJqmmK4hmLOcjud6vjQZnb+BpIUlFQ0mHwHLzo7NBUEQBN/gb8BXwKGSViqMnQR8G/hbrubWA8wyRuyRn5w+DwBeorwOVxAEQVfgfTwt6frJUQiApLmBs3DHYq1ckdrfSsrSKyGpB/DHFuw1CIKgK/NnPCjjVDO7Ay+38gBwgKQfzNGdAZL6SjJJI0vGFpO0Zsll8wML4KlNp7XxFoMgCDoiI1P7W0m9sk5J8wInl8yfAKwsaencXOEnvlercI+Zdu4SWT4htQPzF0jaFvhp+niCpKFVPEsQBE0QJw7bEWZ2qaT1gYOAVyTdhtd16QUsj6fPuIxvRvCNBX6Uins/jhux7zWze2fr5oMgCLoYZjZB0hHAucDjkv4BfIBHuvUDXsBrp2TzTdI+eG7/0ZKuT3O+g9ft+gz4iZnNmL1PEgRB0D4wsxmSzgaOBp5OcrIHfiK7F3A3s05nV7vmPZJGAPsDz0oag+vLO+Pplt7GI5uDIAiCKkg1qw4BHgaOg5k1Y4cA4/GUpY+ZWfE0SnthGeAJSU8DTwFv4AF/O+ElBc42s8/m4P6CIAjaJWb2gKS/AocCz6S6sF8Bg/G01e8ULjkDuACXuZkOvhnuNLwR18eL5O3cr6S+JVJ7HrAv8M9077eBNYDtgH/g9WuDIGgl4sRhO8PMDsYF54PAVnj+5l3wmgGn0bDg+OHA34GNcKX9JGCL2bXfIAiCroyZnYenZ3oI2B2X2Yvj8rpfMe20mT0MbAiMwp2LRwKb4nJ8wzQeBEHQlTke+BXwJXAAnhL6UVzXfb2Zax6Iy+fJeADensCdwNa4sfjTypcGQRAEGZKWAy7BAy9+ZGbTs7GU8nMYLlevTie72yMT8BOSH+LBKL/E3zWv4u+HI+bYzoIgCNo/h+OOw0m4rj4EuA23YX/jtLaZXYg7+t7B6w/uhQdrbEzlEi15O/ehqe/ZtN5TuNweB+yI6/jfxmX4Ba3xcEEQzEJmNqf3EMxm+h59U5v9o0eO6KADoTm9gSBoLi2R4yGng05EyPGgRUhaGU8RfbWZDZld920NXTxkedBJCDketAmS+uKOwMvNbGhrr1+NHA85HXQRQo4H7YaUovQyYF8zG9nY3Na0jYe8Dzo4FeV4nDhsJpIWkDRN0gOF/m9JmpJyMP+4MHZg6h+WPq8v6SxJT0qamK57WdJfJC1cuPaAdO0JFfazpKSvUrqNIAiCICFpY0nXSHo3ye03JF2Yz7Of5tUnOdtD0u8kvShpapZPv6nxNGd9SWMkvZ/GXpN0nqSlSvY1Mq23gqRDJT0l6UtJ9W38JwmCIOgwSNpF0lhJ7yS5+rakeyQdlJuTyed5JP1e0qtp7iuSTpC0rKRuhXX/D6hPH3eT9LmkxyQdVpyb5mcyu2/Sy59Ouvt7kkYoVz8xCIKgoyPncEnPJVn3lqRzJPWUNEHShML8eSQdnWTjF5I+lXRfkrWV7vF/ku6VNCnpwE9LOkbSPBXmbyvpgSSvJ0q6TtKqeflc5bPNl+4zPq01WdKD8lSrQRAEQTtBFerVSlpJ0j8lfZzk+DhJ4b0LglYmahw2EzObLOkRYGNJC+Zy4G8GZIrulsCVucu2TO3Y1P4M2A24B0+X1A1YH0+Vsb2kjXPrXgWcCuwn6fdm9nVhS8Pwf88LW+UBgyAIOgHyQI0RwFTgBjwtxsp44eydJW1iZsXUd2PwdKK3ANcB71czLmmnNCbgGuA1XKYfCAyW1N/MXi3Z5lnAAOAm4GagKN+DIAi6JJL2x3Xbd/E6KB/i6aDXwtMenVe45B+4fM7XW6kD9gZ6pMCMd/AaVnvhuvPbuL7eE0/3f1Za48eUcyqeovpG4HY8XdLPgJWIcgFBEHQezsV12LdxXXoaXkJlI2BuXMYCIE9Jehte5/uFdO18wB54Xe91zOzY/OKS/ggcg8v1UXgq6e2BPwLbStrGzKbl5v8ozZuCy/p38HT/DwJPVvtQkhYC7gLWxdPkXYrbYbYFRkla3cyOq3a9IAiCYPYizxjyILAIbpMZj+vh16XPQRC0EuE4bBl34Y7C7+EGX3Dn4Ne4MzBzFJIilwcB/zOz11L3ycDBRSegpP2Ai4GDgD/BTEfllcDBuEL979x84UbwL/imozIIgqDLImkVPM/9BGBzM3srN7YlbvA9Cw/gyNMHWMPMPqywdINxSQsAl+Pv1YFmdl9u7CjgFNz4vU3JeusB61ZwKgZBEHRlDsCN1Wub2TeCOCQtWjL/u8DqZvZxmvNb4G5gE+ApXAb3AqbjKUpHAmea2Vdpfjc8vdFPJJ1Toe7sJsCaWdCJpO74d4JBkjYys0da9shBEARzFkkDcKfhS8DGZvZJ6j8WD3heGg+Qy/gV7jS8Bdglq3soaTjwCHCMpH+b2bjU3w93Gr4BbGRm76b+Y4B/ATsBv8adiEhaEDgfd1b2M7OZjkJJpwBH1fB4Z+JOw6PM7NTcOvPiRudjJV1jZuNrWDMIgiCYfZyLOw2PMLOzsk5Jg3E5HgRBKxGpSltGdnJwy1zflsBjwLVA72S4BlgHN1Rk12Bmr5WcHASPevsUj3rLc35qDyj0bwMsD4w2s0llG5W0v6RHJT362fhbG3+qIAiCzsGBeET04XmnIYCZjcVPIO6cjBF5jm/EaVhpfDAu40fnnYaJv+DOy60lLVey3qnVOA1DjgdB0EWZTu5kS0YFOX1S5jRMc6bgxmmAiWa2lJnNY2bzm9nqZnZa5jRM82fgASXQUA/PODF/Uj0ZyC9LHzeq9BAhw4Mg6EDsk9o/ZE5DgHQC8JiS+cMAA36ZOQ3T/PeBk9LHnxbmA/w+cxqm+dNxJ+SMwvzBwELAVXmnYbYG8AlVIGkR/AT6o3mnYbr3FNwBKWDPCteHHA+CIJiDSOoNbI3XsD0nP2Zm1+OHeBq7PuR4ENRAnDhsGQ8CX5Ich6m2yXp4CqO70pwt8Ui9LHVR1o+kuXEn4I+A1fAUSXln7jL5m5nZs5LuxdOYLmtmb6Sh/VN7QaWNmtkIPMVIqxaADYIgaMf0S+3mkjYsGV8cmAtYBQ/4yGjqtEjZ+Hqpvas4YGbTk+zui0c4F1OjVnU6JeR4EARdkKvw4IvnJF2NGwMeMLMPKswvMxbcj2cDWTffmQzIRwI7ACsA8xeuW4ZyHi3py3TyhUvGgJDhQRB0KDJ5eX/J2EN4QAcw8zTgSsBbZvZCyfxMN87L4Mb05pckvQksL6lnCoyuuJ+UmWk8MLDy48xkQ1z3N0l1JeNzp/a7ZReHHA+CIJjjzHwfVDiIU4+fgC8l5HgQ1EY4DluAmU2TdD+wlaTF8Bz7cwFjzex5Se/gjsPzU2t8UzkejafI+x9wPV6/ZWoaO4JZtRLznIenRv0pcIKkJfFaA+MjNVIQBME3WCS1RzYxb4HC53dLZzU+3jO171S4JutfqMr1giAIujxmdrqkD/H0/Yfh+rFJugc40syKTrz3StaYntZYPOtLNa7+g2fseAS4ApiIG8MXAg6nXA+H8pMtmRF9riofLQiCoD2T6bVlMvVrSR+VzK1FB67mmuXSNZMa208T/UWy7wYbpp9KFL8bBEEQBO2Dpt4HYVsJglYkHIct5y78mPSWuONwCvBAbmx7SfMAA4Bns/oskjbAnYZ3AtvnU3qk+iq/qXC/a3EBuZ+kE/E0H93x2llBEATBLLLUzT3N7NNqLzKzRiPPKoxn91qywmVLFeZ9Y8kqtxYEQdDlMLMrgCuSs29TXH8eBtwmadXC6cMlKJzqTjUIF8XLAGT8FHcaDjezusL8frjjMAiCoKuSycsl8CDnmUiaC3fAZWUAmqMD5695pYpr8vspo1J/kWy9M8zsl1VeEwRBELQfMjleSe5XehcFQdAMwnHYcvJ1DvsB41J+/GxsL7zO1vy5ueDpPABuyDsNExsB3yq7mZl9Jeli4LfAzrjhYzKeyqkqJpyyY7VTgyAIOjIPAevjgRs3tfG9nkjtQOCS/EAyWg9IHx9vjZuFHA+CoKuR6mzdDNycguyG4Vk4xuSmbQ5cWbi0P34S8IlcX6aHj6EhFdMbtRYhw4MgaOc8gaeD60/BcQhsQs6OZGafSXoFWEHSymb2cmH+oNTmdeAn8HSlAyk4DiWtBPQGXs3VV8zkd3/g0sL8BYB1qnyuR/D6iQOamtgUIceDIAjmCDPfB5LmKklXOrDahUKOB0HTdGt6StAEj+MRD4OB1fmmczBLS3pM4TPAhNQOzC8maXHg3CbuOQKv1XIOHi09ysw+q3HfQRAEnZ1zgK+AMySdJOk5SV9KMklHSOohqRbDwaoAkvqWjF2Hp7kbImmTwtgRuKy+08yK9Q2DIAg6NZL6Jrk7shnXDpKkkqEs7egXhf7jJc2sMyhpXuDk9PGy3LwJqR1YuN+6zNLbgyAI2i2SDivqtq24/BWp/a2kLC0cknoAfyyZfykg4LR0IjGbvyhwfG4Ohd+PSyVfsvlzAX/G7VT5QLzrcZvLXpLWLtz7OMpLATQgZX+6CthA0vH5veb2sKKk5atZLwiCoDPQEl19dmNmbwJ34PaVQ/JjkgYzGwIAg6ArEScOW0jK8V+POw4h5zg0s9dS9N2KuKPvVUkGXA7sh6c0/b6kcXih7yWA7YEXgbcbuefrkm7CaxtCpCkNgiBogJm9IGkYMBI3KkwCnkrDu+GGjA9IDsEW3mtyutc/gXsk/RNPl7c+sA2ea/+Alt4nCIKgi/EvYLKkh3Bnn/CTIhsCj+Ep//M8Dzwr6Ro8cGQwroffxDdPIl6B1789U9Ig4GVgZWAnvCzAD9voeYIgCFqMpB8BZ+EnL84EpuKZNloFM7tH0ghgf1ymjsFl6s64Pv02fnIv48+4HWMw8KSkm4H5gB/ggR6nmtn9ufXHSToVL8/yTJLZn6c11sBtI6fl5n8q6WBcjo+T9A+8DuKmwNrAPbixOL+nShyCy/sTgR9Luh/PHrUcXvt2Q2AI8Gp1f60gCIJgNnMw8CCux28DPIln41sMuBF/VwVB0ArEicPWIXMWfgo8WmHsMWDmqcB0nHoX4HxgaeAwPPXGxcC2uGLeGFmU3qNm1iqp74IgCDobZvY34Nb0cTKeymhlvDbLNcBBrXiv64HN8FR62wK/Br4LXACsb2bFVE9BEARdgbdwWdick3xH44bc9XB5vS8wN3AUMMjMivry/+E68s64cbgbUAfsnq9Pa2ZvMyuNdf80t0+6x9HN2GcQBMHsZKesNbNjzKzOzFrNcZg4EPglrj//HNgTD9bYGvg2ubqxZjYt9f82dR0K7IMHZexpZkcVF099Q9Kcn+D2kG54sN/Wac38/KuAHXED8Q/T/ibh5WImp2lN1jRPdc83T3v8ENgdWDYNfwb8Aj/NEgRB0FVoia4+20kpsTfBSw5shtcmnycNXzun9hUEnRHlvkMHbUxKb/cqcLmZDW3hWnXACcBPzeySJqZ/g75H39Qm/+iRHzroYJSlPgs6IZLuwg3MLfo3T6k79gGWN7MJrbC1ZtMSOR6yOuhEhBwPAEjZPzZvqZyfXbSGLh6yPOgkdIj/Z9sbraXbNvPeKwMvAVeb2ZDZff+S/cyF12HsYWZLNXONemp8h1Qjx0NOB12EkOPBHKet5Hg1hKwPOgEV/7+JE4ezieToy9Jd7JPyR2c/QyUNTL/XSdpI0k2SJqa+FSW9IelTSQtIWhCP+psI/D2t/9c0d48584RBEATtiyRPDRiUPs+Uu+nzrpL+JuklSZ+nn8dSzZiq34+SdpE0VtI7kqZKelvSPZIanGaU1EvSyZKeTzVpJqVrt2m1Bw+CIGhHVKqbImklSf+U9HGSv+Mk7Zj0YpM0tDDfklGgjIo1aCVtLOkaSe9KmpZ06gslLV0ytz7dp4ek30l6Mcn1kZIOSGMnVHjOJSV9Jenpav4uQRAEtVKFbmtJji0p6WJJb0n6OpOnklaRdIqkRyV9kOTba5JGSOpduNeSkrpJmifd93+SpuIn/gBuLJPL2R6TfWNI0q2/SPrx6ZLmSfO2SHv9NL0HrpS0SIXn7p32+Gra80eSbpC0IX5CcTk8tXXx/ntIeiTdf6KkqyUtk1u3b/rbbV78ezbyvgmCIOhUlOnqSfe1NHaApKclTZH0XpLHPUvWWUvS3yVNSLL6A0mPSzpT0tyFud0lHSTpofQe+ELSE5IOUcEWk99feo+NlvS+pBnZ9wZCjgdBmxA1Dmcf9XjR7sNxZfu63Nh4ZhX07ocfD78fT7W0KPAlcBEwHPgbntp0CeDXZvaFpG8Be+M1tK5v6wcJgiDoINSndiiegm54YfwUvBbKw3h6jp7AFnjNmA2BHzd1A0n743Vm38Xz6X+I13JZC0+pd15ubp+0p77AfXgK1fnxdFO3SjrAzC6q8RmDIAg6HPITKw/iaaNvwXXhlXD9+JZWvM8wYARe/+sG4A08XfVPgZ0lbWJmr5dcOgZ/D9yS9vQ+cBVwKrCfpN+nsgN5huHfraL2eBAEbUV9aodSrtsC9MLrHU7GU7bNAN5LY9/HA5DvBsYB04DVmSUTNzCzt9LcI/BUot2A3nga0KnAgsAUvH5hYxyK1yy8Lu17GzwNaC9J1wNX4+miR+C1CvfGbR/b5xeRtB5we3qur/HThV/hZQF2wqPk38DTUuc5CC8NcwNeA3FjPMXp2pLWMbOpwCf433AoDf+eE5p4viAIgq7Aqbi8vRGXxYOAn+F6+xbZJElr4XYVw+Xuq3ha65VweXwcqSRXciLemNZ9ERiFv1cGAX/F5XWZLWbFdI+XcL38W8BThBwPgjYjHIezCTOrlzQBdxyON7O6/LikgenXbYCfm9mFhfGLcGV4MK74nwyckYZ/iDse/1hS6yUIgqBLYmb1QH2Sr32KchfY0cxeyXek6LbLgJ9IOsfMHm7iNgfgRpe1zez9wlqLFuZejiuzQ8zs6ty8hXCDytmSbjCz9wiCIOjcnIs7DY8ws7OyTkmD+WZwXbORtApeY3YCnrrordzYlrjx4yxgt5LL+wBrmNmHhTWvBA7GDdv/zvULN7x/AVzZGvsPgiAoUoVuC7AmLoeGmdn0wtiVwBnJaTYTeeaLW3DD7oGp+w5c1q2FG4K748baUbiufH8T290Kr/H9fLrHPMDjuDF4Z2AbM7snjXUDbgO2S0698am/O/APYAHcibkLXs8qOx05A3dmblbUw4HtgA3NbOYpcEmj0jqDgX+Y2SdAXRN/zyAIgq7MJsCaWaBdkst3AYMkbWRmj6R5+wDzArua2TcOtEhaGNeRM36LOw3Pwb8LfJ3mzYUHkwyTdE1xHbwu+clmdmyh//GQ40HQNkSq0vbH+KLTEMDM3sGjn8GN3cea2Yz0+QBcaa54UkXS/vKUJI9+Nv7WVt90EARBR6PoNEx9M3BDMrgyWw3TSdFzhbVmGpwlrY2nzxiTdxqmeZ/gNWvnBXavdJOQ40EQdAbk6fC2xiORz8mPJQPBPc1YtkwoHgjMDRyedxqm+4zFo6F3lpcAKHJ80WmYOD+1BxT6twGWB0ab2aSyDYYMD4JgNjENz0xUdBpiZm8VnYap/3bgWXK6b5KTH6SPA81sfjNb18xOS/LxpCb2cXbmNEzrTQVG4zaomzKnYRqbgWdWAlg7t8aO+AmTv5rZaDPby8z6pr3MA/wKmA93lpbdv5g6OrOXbNTE3ksJOR4EQRfkxHx2jvRuuSx9LJOlXxY7zOzjzH6dAkUOxTM2/SKfwSP9/is8WGWvkrXfo/ykfdWEHA+C2ogTh+2PRxoZOw/YAzdW7A8gaU08AuQWM5tQ6UIzG4FHbrRaAdggCIKOTKqjciSwA7ACnjY0zzINLmrIVcBfgOckXY0bvB8wsw8K8/qltqe85m2RxVL73Uo3CjkeBEEnYd3U3l+S7hP8BPbmrXCfTO5unupgFVkcmAtYBXisMFaqj5vZs5LuBbaXtKyZvZGG9k/tBZU2EzI8CILZxISS03fAzNPRe+Ep3dYGFsblYMa0wiXr4gHK40qWa+rE4aMlfW+ntihzwcsGwKzThDBLjvepoD+vnNrvAjdXcf9MZi9cMtYkIceDIOiCVCtLR+MZ9q6TdA1wJ24XKQZrr4Knnn4ZOM5fSw34knK7yJNlwS+1EHI8CGojHIftj3crDZjZ3ZKeB4ZI+pWZfcYsQ0XUUwmCIKiSlB70P/gJkUeAK4CJ+OnBrB7tPE2tY2anS/oQz9t/GF4PxiTdAxxpZpmivUhqt04/lVig9qcJgiDoUPRMbaW0zBV14RrJ5O6RTcwrk7uN7eE84Ht4atITJC2Jp88bn0vXFARBMKdoTH6djuuq7+CpQd9i1umQoXia5jw9gYllpxepLMMzyk5fT69ibO5cXybHm6qnWCbHP2nkHnOVjAVBEAQNqUqWmtkjkgbgaUj3INUolPQiMNzM/p6mZnJ9ZTzrUiVq1c+DIGgDwnHY/mgq4uECPI3eXpIux4uIv0WuzkoQBEHQJD/FnYbDS2rO9sMdh1VhZlcAVyRn5KZ4vaxhwG2SVk2nDzMDyeFmdnYr7D8IgqCjksnDJSqML1mhP6uxVcZCjdynp5l9WuXe/EZmjenj1+IG8/0knYjL++5EEF8QBO2DUvklaXE8yO0ZYNMUhJwfH1Jy2adAL0ndS5yHlWR4a5LJ8cFmdsNsuF8QBEHQTMzsQWCnVNN2fbzW7KHAKEkfmNmdzJLr/zKz79d6i9bbbRAE1RCOw9lLlo6pJRFulwMn4ycNp+CGkrMrpHoqZcIpO7bg9kEQBJ2ClVI7pmSsWSnyUq3Cm4GbU+7+YfiplDHAQ2naAKDFjsOQ40EQdGCeSG1/SXOV6LADK1z3MbBssVPSXMA6JfMfwo0WA4CbmrfVhpjZV5IuxiOqd8YDUSbjqaurImR4EARzgBXw+oK3lzgNe6fxIk8AW+CBcfcWxvq3xSYL5PXntnQcfg3+PqnWrhJyPAiCoJyUTnQcME7Sy3h2p8F4+tIX8FOMm0ia28y+aqXbhhwPgjag25zeQBfjYzxCYrnmLmBmk4BReL2B3+PC8aJGLwqCIAiKTEjtwHynpHWBY6pdRNIglSfmXzy1XwCklKX3Ad+XNKzCWmumaPAgCIJOi5m9CdyBn/o+JD8maTCVgzceAZaTtE2h/zgaptcDOAf4CjhD0irFQUk9Ukql5jAC18HPwZ9jVNEQHwRB0M6YkNr+KeACAEkL4PaEsqDyK1L7e0k9ctf0BI5vo33muR54BThY0g5lEyT1kzRfC+/zUWqbbacJgiDoykjaVNK3Soay0+mZXWQ68FdgKeDssmskLSVptRq3EHI8CNqAOHE4GzGzyZIeBgZIugp4CTc61Bo9dx4e3bwMcCOwlaTLgH3NbGQrbjkIgqCzcgVe9+pMSYPw4twrAztRnse/Ev8CJkt6CDfICI+K3hB4DI+qy9gTuAu4RNJhwMPpXr2BtYA1gH7A+81+qiAIgo7BwcCDuAzeBngSPwm+G67b7lxyzZ+BbYHrJY3G69Juijvu6ikEgpjZCylQ41LgWUm34rr33LhRYQDwAbBqrZs3s9cl3YTXNoRIUxoEQTvHzN6VdDXwI2C8pNvxGoZb45mMxtPw9PYVaf52wDOSbsBl6O54rfDvADMq3PJMSWubWVmAXWMMBerSnr+S9H28HuNNksalfX6Bn0DfED8puVTqay5j8TqK10q6Ga/7+JqZXdmCNYMgCLoSvwG2kHQf8CqejWN1YHv8EM2I3NyTgLWBnwM7S7oLL8G1OG6T2QzP7PFcDffP5Hi9pOXw0gLXhRwPgpYRJw5nPz/G0yVthxeCPQlYr5YFzOwJXGGGMFQEQRDUjJm9zaz0df3xUy99gIOA/9Ww1NG44WS9dO2+uEHlKGBQPvVGOmWzPq4Ef53m/gZPAfU6cADwdEueKwiCoCNgZi8Dm+CpnDfD68ouC+yKf9Evu2ZsGn8WN2TvgwdsbAS8VuGav+Fy9yo8QOMQvD74SsA1uNxuLpem9lEze7wF6wRBEMwu9gP+CHwLD+DYFvg3HoQxqTg51XvdDbdZzI3XqhqMl0/JTozXVEO2VszsKdzA/Cfc0bkvcCAu25/A7SsftvA201K7DK6bn4T/rYIgCILqOA/X65fH5fKhwCqpf10zeyWbmGwkuwI/AV7Eg7d/hdvJu+En2qsuAZC4GC/rlZ1g/D4hx4Ogxch1waAjIWlB4G080np5XNhWfeKw79E3tck/euSHDjoYtUa/Bl0ESfXA5jyG24kAACAASURBVM2IkK71PnV4AMkgM6uv5drmyvGQ00EnI+R4B0DSqsDzwAgzO6CK+UOpQa+dU+Rk+E/N7JJarm0NXTzkedBJCDneQZG0NXA7cIqZNUjzn058zGdmL9SwpgH3mNnAVttodfcdSo3vnabkeMjooAsRcjxoN9Qiz1vLNh7yPugEVJTjceKwY3IgsABwnplVSg0SBEEQBEEQBHOarL7gm3N0F61ICuL7OR7E9/c5vJ0gCII2Q9LSJX2LAKekj/8qu87MXq/FaRgEQRAEQRC0L8JxWIKkvpJM0sj0+9WSPpQ0RdKjknaqcN0QSXdL+iTNfV7ScZLmqTB/1XSPNyRNk/SepFGSvlMyt6ek0yS9jKfpMGA3SRHaEARB0ASShkoaI+l/kr6U9KmkByTtXeM620q6Ob0Tpkp6JcnmhUrmTkg/35Z0evr9K0l1kibgJ1UA7k7vHEuR1kEQBB0eSWtJ+hOeomgGFYzLjbBoTh9fVdJ1kiZK+lzS/ak2Yv5+PSUdKekuSW8m3foDSTdI6tfIPveS9Hh6N7wv6UpJS0uqL8pkSTtKOh5PUb0EMA/wcWPvgiAIgo6GpAWSDH0AOD3ZNS6R9GdJX+OpQdcDLjSzR9I1ByaZPSx9biBDU38PSccnuTlV0quSfl/JZpKuWUrSZUlGfylpvKR9JA1M96wruaaXpJPT3r+UNEnS2JJ3Rz1+OgXgsrxOLqlvc/5+QRAE7Y2CnXsVSaOTTJ0haWCaU7WtI83vLelsSS8nOTtR0iNJVy7OXT/ZY95Pa78m6TxJS5XMHZn2uoKkQyU9ldavz81ZSdI/JX2cvhuMU9jHg6DV6T6nN9DO6QM8gte7uhLoBfwQuF7SVmZ2dzZR0qV4vv038bzOn+C1W04CtpS0tZlNz83fDq/hMjdwI/BfoDeeh3lHSYMK9VLWBX6dfv8YN74sCFwH3NLKzx0EQdDZOB+vi3Uv8A6wCLADcKWk75hZA+W2iKQTgDr8hMm/gffxmlm/BnaQ1M/MinVeegB34e+P2/E6MK8CZ+J5/TfH68RMaNnjBUEQtDvWw+ubvAD83MyeaeY6ywMP4jVgLwSWwvXxWyTtaWaj07zvAn/A5fxNuL68HLALsL2knc3s1vzCkn6DB+R9jMviScDWwAOU1PsCfoDXVgT4Etf5q3kXBEEQdBjMbLKkR4CNcbm7BLAzsDCzgs/H4ZmQMrZM7dhK60oS8A+8TuIrwDm4rjwMWLPCNYvj74A+uHwfByyJB6XcXuGaPkA90Be4D7gVmB+vo3WrpAPM7KI0fSRuuxkMXA+Mzy31SaVnCYIg6KCsCDwMvITXEfwW8Gmttg5JGwC34XaOe3H79nzAammdk3Jzd8J1ZuE1xl/D69QeCAyW1N/MXi3Z61nAAFyvvxn4Oq23Mv5eWAS3h4/H65eHfTwIWplwHDbOQKDOzIZnHZJG4YrnkcDdqW8o7jT8F7CXmX2Zm1+Hnyo5GBd6SFoYT2v0BfA9M3suN38N4CG8sOt6ub0cm9ojzOys3PzBuHBsFEn7A/sD9Nr2EBZcZ7sqHj8IgqDTsEa+IDd4xDOuWB4t6QIze6vSxZIG4Qrwg8AOZvZJbmwoHqk8HPhF4dKlgOfwmomfF9ZcCHccjqymxmHI8SAIOhKprsjI5l6XTnqcBnwP+LOZHZnNkXQOLo8vkHRLMmQ8DyxtZh/m15PUGw8EPAPX4bP+FXBH44fAemb2Ruo/GhgF/Khke5fjjsNa3wUhw4Mg6GjcBWwGfGRmgwAknYzbQe4BVjEzS/3dgEHA/8zstUbWHII76B7Ca3xPSdefgJ/kLuNk3Gl4qpkdlXVKOhOX7WVcnq4ZYmZX565ZCHconi3pBjN7z8xGuj+TwcB1jdXECjkeBEEnoD9wspllNuaabR3JjvJP3Gm4l5mNyt8g6d7Z7wvgMrk7MNDM7suNHYWnvb4Q+MZp8MR6wLolTsVzcadhzfbxkONBUBuRqrRxXgN+n+8ws9uA14GNct2HA9OBYXmnYeIk4CNgr1zfT4CFgBPyTsO0/jPARcC6klaDmUJ3a/yUyjmF+dfjinujmNkIM9vAzDYIwRgEQVej6DRMfdNwpbM7s6KkK3FYan+WV6TTOiPxKLe9ihclflV0GjaHkONBEHRRJgEn5jvM7FE8SnohYLfUN6noNEz9b+LRzatKWi43tCcu//+aOQ3TfAOOJkU1F2j2uyBkeBAEHYzs5GBeR94SeAw/WdJbUlbDdh3cgFzxtGFi39QemzkNAcxsIrnTKRnJOD0Efw8U7TJPAleUXLM2Hpg3Ju80TNd8ggd1zwvs3sReGxByPAiCTsB7uBMwT6367c74ie4bik7DdE2+rvlg/P0wOu80TPwFz7y0dUFHzzi16DRsqX085HgQ1EacOGyc8WZWZjR4A+gHIGk+YG08WvmIFK1WZCqePikjq7Oydlk+fiBTwL+Ln1RZN32+v8J+6nHlOAiCICghKaJH4QaP5fCUHHmWaWKJfsBXwA8k/aBkvAewmKRFzOyjXP8U4Knm7ToIgiAAHjezz0r66/HTf+vikcxI2gwP6OsHLI7L5jzL4AGAkNOviwub2WuS3sCNInma+y4IgiDoaDyIp2TeEryOLH7641T8NCJp7CVgi/T5LhpnPbzmbQO5i8v0It/BdfZHK7wH7gd+WujLbC09K9haFkvtd0vGgiAIOjtPmtnUQl+t+u0mqb+atKBZJr0G7wczmy7pXlzfXpdZOnpG2anysI8HwWwkHIeNUymn/XRmndZcGM/TvBgevVYNi6T2Z03MWyC1PVP7XoV571Z53yAIgi5HSkf3CC6v78ProUzCT5P0xQ3P8zSxzCL4O7MpOb8Afso84/0sjVMQBEHQLJrSf3sCSNoNP1k4BbgDr5/1OW6kHogbEfKyvin9+j0aOg6b+y4IgiDoUJjZNEn3A1tJWgzYFJgLGGtmz0t6B3ccnp9ao2nHYU9gopl9VTJWZtOoRk4XyWwtW6efSizQyFgQBEFnpUzW1qrfLpQ+Vyz1kiOT4+9UGM/6FyoZa857IezjQdCKhOOw5UxK7RNmtl6jMxtes7aZVXMSJZu/RIXxJau8bxAEQVfkl7gyvG+xbomkIbjjsCkmAd3MrFeN9w6nYRAEQctoSv/N9OSTgGnABmb2fH6ipAtpGH38aW79Z6u8b3PfBUEQBB2Ru3Dn25a443AK8EBubHtJ8wADgGfN7P0m1psE9JI0d4nzsMymkZfTZVSS0wCHm9nZTewnCIKgq1Fmn6hVv80O2TSVtSlbGyrbrZcqzMtTaa8Q9vEgmC2E47CFmNlkSc8Cq0vqlfLzN8VDeE79AVSXwu6J1PaXNFfJceyBVW8YmHDKjrVMD4Ig6OislNoxJWPVprF4CNhR0upmVmZgbg6ZLJ+r1gtDjgdB0IVYT9KCJWnqBqY205NXwg3XRadhN6B/ybpP4PUR+1M4JSOpD7BsyTWt8i4IGR4EQQchX+ewHzAuV5twLF7z6kBgfpqubwjwOLAVLnfvLowNLJn/Ap4uda0K74Ey2f5QagcA1ToOa9bJQ44HQdCJqFW/zeTs9sAFTczN9PSBwCX5AUndcVkN/n6ohlazj4ccD4Km6db0lKAKTsdzPl8qqcHxakkLS8qfRrwMj9A4QdJGJfO7SRqYfU6FZe8AlgcOKcwdTORvDoIgaIwJqR2Y75S0LQ3rogDMm8ZH5vrOSO0zFeT2/JI2KfYX5vSVZLl1szR2ZYXAgyAIAqcn8Lt8h6QNcIP1JOBfqXsCsLKkpXPzBNQBq5WsOwovP3CopGUL15xMuQE5exdcUZDnSBqZ+nar5eGCIOhalOiD7ZnHcTk7GFidbzoHs4CLYwqfG+Oy1P5B0rxZp6RewHH5ienvMxW4CX8PFMfXBn5SvIGZPYqXJvi+pGFlm5C0pqTFc12hkwdB0CZImiBpwpzeRxFJG0i6Q9KHQOZBuyivR+fmFm0dN+J69y4pg1Nxfu/cx+uAicCQEnvJEbid+04zK9Y3LCXs40Ewe4kTh62AmV0qaX3gIOAVSbfhRV174cLse7iS/PM0/yNJe+CGjockjcVTJBke3dwPT6s3b+42B+MFys+UtA3wJK6kGy60d27r5wyCIOignAfsC/xT0jXA28AawP+zd95xVpXH/39/sFcQS+yuLTFq7CFiBRtBY4lGEzUq+osaNZaYGLFFiA01scRuimCL2CuKBgXsfi1o7IquKBZEETtF5vfHPIc9nD13994tlGXer9e+zvKcp527L+bMnXlm5qfAjcAvm5vAzIZJegbYGBgu6R7gbTzP/yq4gvpImrNaHsJrb50laV1gQlrr9BrmCIIg6OiMBH4j6Sd4irzlcLndCTjUzLJUdufjp56fk3QLMAXYHHcaNtKVzWy0pD8DZwLPSxqMG8i3x3X454H1CmOGSeqLOxYBekg6B38XbJvajqHBmRkEQTDHYmbfSRqOOw4h5zg0s3ckjQZWxyP2RlQx5X9w+b0LfhjvDmA+4BfA/6W5ipwNdAP+lN4Dj+Hvgb2AIcBuuD6dZx/ckfkvSUcBT+IHt1fE5fq6uM0lS636OPA1cIykJWmokXWRmZWlzwuCIJhpSDJghJn1aKP5FscPZSwIXAOMx2XjbsAbkobQhK0j1cDdE7gfuF7SoXgU4oLAD3GdeN7U98t0iOMmYISkm3B7+cbADri8PbTGRyizj6+BZxIJ+3gQtCHhOGwjzOwISffizsHt8MKun+IC8Vzg2kL/YZLWA/4I9MLDsyfjBu0HKaTUM7M30umMAWn+HunWi8Ct1CAY6/reU+PTVUeEeQdBMDtiZi9I6gmcjp+mmxdXLnfHjQjNOg4TOwM9cYV0c9yIMhEvCn4lHr1Sy75ekXQA/h44nIbDIs06Dlsqx0NOB0EwB/I2rl8PSNcF8CiYv5jZ0KyTmV0haRLuuDsAT2/3MH5wZA9KdGUzO0vSe3gt3AOBL4ChwJ9wY8jnJWPOTsbym4Bl0noTgY+A/9J8yqZW6+Ihy4NgjmYsblidUxxSw3Cd93Pg6ZJ7qwPPVONgMzNLxua+QB88WuQD/JD1X/Aaihkn4HJ/NF5f8UxgR+AnwGu47vwVbuieQVab2XvpYPeRuPzfF48i/xB4GbgI+F+u/wRJewCnpn0tkm5dS4W/U3NyPOR0EASzMd1wHfYkMzsza5S0BXAUnga6SVuHmT0taQNcnvfG5fQXwJsUMoWY2R2SNgdOxO3fnXF5fDlwmpm9X8vmK9jHX8DfB0tTpX28LWzjIeuDjo7MymqNBnMCLT11Utf3nnb5o4fADOYwNKs3EMyeSKrDDdWDzKzP7DhvS+V4yOmggxFyvAPTXrK4yrUXxx2Bo8yse1vvrbW6eMjyoAMRcjxoMZLOwA3RP80fJJkZNCfHQ04HcxEhx5sgS1NqZnWtmKOtIw73BwYBB5rZwLaYc06kLWzjIeuDDkJFOR41DtsROUdLelnSt5LGSrpYUudKea4l7S3pIUmfpTGvSDpZ0gK5Pn3SiwNg61QjIfvpN5MeLwiCYI5EUjdJg5NMniTpA0n3S9qrmXFZ/aq6tpozje0k6cI0962SFmr50wVBEATVImlpSfMV2uYF/oZHgVedcrSpd0QQBEGGSmoc5uTHqpJ+l7Mf1Es6UZJSvz0lPSXpK0njkm2hkd4oaTdJ10p6PfX9StIzko6SVGoDkvR9SbdImpD6PyZpp8z2IKlPyZgV0x7eSvrvJ5LulPTjQr/L0xy7FudI93+S7t9c8pnUqVBzK/W/n4b6iv+UdEVJv/+kOdYstA9K7cMK7YtJmiJpZNk+gyAIyki2399Jeqlo+y3p21nScZIelPSepMmSPk6ys3uhb1W239TvliSLv5H0uaRHJf26MF9dmm9QaroqN1+f1CeTvatJOlLSC2nO4en+/OlZh0h6J8n+TyX9V1LvCp9PffpZVNL5kt5Nc46StFvqM6+kkyS9kT7D0ZJ+VzZf6t8r7WF82sNoSedK6tL0XysIglqIVKXtyyXAYXj60SvxVKS74GHh8+G1V6Yj6d94mqT38FSlnwGbAqcB20ra3symAqOA/ngqjXeAgblphrfb0wRBEMzhSDoYuAyvxXIn8AaepmMTPOXRjTNzTkkLAtfhaVMvAY4ys2KdliAIgqB92AP4i6T/Au/itQ23Ar6P69sXzcK9BUEw9/FXPOXaXXi65F2AM4D5JX2Kp2W7HU/DvD1e52ke3OaQZwBe9+9JPM1cZ2Ab4ELgx8B++c6S1sJrBy6B1716AVgNPzwxpGyjkjZKe+yKp3i+FVgKTxX3iKSfm1k2dhBew2p/4I6S6Q5I14HlHwtPS3oTL9OyKp7qToABdwNTgd8AO0va1MzGpHHDgF/h9bbeyM2X1aTdTNKCZpalSN0at5HN4FAMgiBohgvwFJ8f4LbfKXiqz58A8+O24Iwf4nJ9JC5vJwAr4/K+t6Sdzey+1Lda2+9lwEtpzg+AJfHUztdI+oGZnZL6fZbm2yDt7460BrlrxoV4Sa178PfAd6m9a7r3GPAA8DFed3ZnYIikg83snyWf0Xypf9e07vzA3sAt8jqFh6fP615gErAncJGkj81scH4iSacC/fDyYHfj9WqzUmA7Suqeq4EeBEErCMdhOyFpS1yBfx34iZl9ltpPxOufLI8L/qx/H9xpeBuwr5l9k7vXD39RHAFcaGajgFFJWNabWb+Z8EhBEARzNJLWBi7F66BsaWYvFe6vODPnlNQVdzRuBvQ1s7NrXT8IgiBoFU8Cj+DOwiVT29u4QefsvD4eBEEwE9gYWM/MxsJ0O8CbwHHA18DGZvZKurcA8BxwkKRTzWxcbp6dzGx0fmJ5pOFVwP6SLjazJ3O3L8Gdhoeb2WW5Mb0pcRzKI7NvBBYFeprZiNy95YH/A/4lqc7MJpnZ45JeB34mqauZfZrrvwDu3BsH3Ec5V+AOyX2BxXGn6IPA6WY2PM2zLe7IvBCvR07qA+4ovDz1+wGwAm7A3h6vWz4s1y8/LgiCoEkkbYY7DUcD3TL5Jukk4CHcqfZObsgrwPJmNr4wz4rAU8D5JFlYg+133RKZPz/uhOsr6XIzG5vs0v2S/XlX4PYmUpVuBGxoZm8X2icAq5jZe4X1OgOPAudIuq5Eh14er1Hew8wmpTHX4M7Om/DPb92c7fw84FW8huJ0x6GknrjT8HFgx6x/utcHf8/1B35f4bmCIKiBSFXafmSn5s7ICzIzm0xDSo08R+Mn5Q4qEbCnAZ/ginKLkHSIpKclPf3FqEr6eBAEQYfmMPzAzGlFBx9AUfltzzklrYIr1t2A/apxGoYcD4JgbsLM6s1M7Vnf0MyeM7PdzWxFM1so/axtZieb2RdtuVbI8CAIquC0zGkIkOwIdwILA5dlTsN0bxJuTJ0fj2Ahd28GA3Jqm4Y71cAj9gCQtBIejfgm7qDLj7kXP/RcZCdgdeCivNMwjXkfOAdYlgZHHHjUYRZhkmdn3Gl5Xcqu1Agz629mGwL/Tk27mNl2mdMw9RmGf1Y7S1ostb0F1AM9JWX1e7I9/RmPoMnvcVvgK+CJsn2EHA+CoIQD0/WM/KGIFMncyPZrZhOLTsPU/h5wM7CWpJVr2UAFmT8ZPxQyLzPKuWo5p8RpSDoM0sjGYWYTcRm9BB7ZXsYxmdMwjXkYP7C3BHB8wXb+Fm4vWVfSPLk5jkrXg/P905iBeORkRdt5yPEgqI2IOGw/NkzXR0ruPYE7CQGQtDCwPjAeOKZBp52BSRS+ENSCmV2Jh8y3SQHYIAiCOZBN0/XeWTznD/ATcosAvZOho1lCjgdBEMy5hAwPgqAKni5pez9dnym5lzkZZ8hwIWlJPEpxRzzl6CKFcSvkft8gXR+vkC7/EWC7QltWh2sV5eps5chqCv6QhojFq/ED0QfgxuyM5tKUlq27tQp1FBPL4Klbv0/D5/UgcBD+nM/hTtIPzOwJSc+QDOqSlgbWBe43synFiSHkeBAEpWyUriNK7j1CQ4rP6UjaHA8e6Y7LrfkLXVYAxhTHVSI5Go/H5dnKQLH27QqNBjXPU02stw7+jtkKj6hcsIr1PitzcOLvuFWp/I6bFz+Ikr3vuuOpYPeUtGfJmPmBpSUtaWafFG+GHA+C2gjHYfuRFcH9qHjDzL6TlBdgS+A5+pfGU5IGQRAEbU9WKHtsk73af87v47n9R+HpOoIgCIIgCIJgYknb1CruzZc1SOqCpwpdFTf8Xo3XgZqK661HAwvk5qhot2iiPUvtXGa0zbNo9ouZvSdpGLC9pB+a2SuSlgF+CowysxeamSu/7nHVrounIT0I2FbS80BPGpyZw4A/pRR72+A2mahvGARBLTRl+50qqZiS9Od4ZOG3eMrk0Xik8zS8xu3WzCijm0TSarisXwKvf3s//r74DqjDD2dUPV+ODyustyl+ICOrB3snXrZlGg21E8vWK3uHQXqPpYjF0nvk3nH4e2BemredL4pn7guCoBWE47D9yAqxfg94K38jhVkvSYOhOROQz5nZRgRBEATtQZbKYgU8X/6smvMu4DXgTGCYpO3LTsMFQRAEQRAEQY38Bnca9i/Ww5LUHXcc5snbLcooa8/sF7ua2Z017G0QXlfwALxu1b64TWpQleOzdTub2edN9mwgq1e4Xfq9Kw3OwQfxVII9ifqGQRC0jEwuldl+5wWWAvKpPU8DJgOb5NNPp/5X4I7DWjgWty8fWKxXKGlvGqK6a6VSNN7JeERjz3y66LTeCbjjsD2ZCHQys67tvE4QBITjsD15Dk9XugWFlwee2m76Z29mX0p6CVinWCy8GabhqThqon7ATrUOCYIg6Ag8AWwC9KbtHIctmtPMzpL0DV78fLik7cys0knvRoQcD4IgmHMJGR4EQTuyRrreUnKvzCA9Kl27S+pUkq50i5IxWQ3ALfFok2q5FXdU/lrSibhBeypwfZXjnwA2TuveU80AM/tQ0stpzE9Tc+Y4fBQvCbMtHnE4AbfjNEvI8SAIEs/i6Uq3prHtdwsa22zXAF4qcRp2olzeQtO231plfmtZA/i06DRsx/WKPAHsJGkdM3upNROFHA+C5uk0qzcwuyKpTpJJGtjCKa5O15NS6ots3vnxKBOApdIadcB5eC7mG8rWlbSEpGI04ifASpL6pDF9WrjXIAiCuYHLcOPEKZLWLt6UtGLjIeVkchf4oKVzmtkFwGHAOsAISctXu34QBMHciqThSf7WMiZ05SAI5hbq07VHvlHShnh03QyY2RhgOG4MPrQw5qc0rm8IcAeeXu8ISTuWbUJSd0kLF9b6Bk8TugLwJLA+MMTMxjXzTBkX47Wtzpf0/ZI155e0Zcm4B4GF8WjLN8zs3dx+Hgf2AlYHhleo8xgEQVCJgel6kqTpUXCSFgTOKulfD6yZ/+4vSUA/oJE9IfEJsFKFe/Xp2iPfKKkXHoHe1tQDXSWtV1jv/wG92mG9Iuen6z/K7CeSFknpVIMgaAPCcdhOmNkIvODq94GXJF0o6a/A//Cw7vfJhX6b2b+BS/HUHQBbSRog6UpJD+D5pQ8pLDMMWIWGdCM7S9qqvZ4pCIJgTsbMXgYOx+sQPCfpRklnSLpc0jPANS2Y9v3WzGlml+N1V9YERqbC5kEQBEENSOqRHIP9ZvVegiAIZjFZTcMLJN0q6WxJt+KOunsrjDkCT79/qaS7ki77Hzya8I7UZ7pDzcymALvjKePukfSopEsknSvpBkmjgceAxUvWyqJiskPRgyQNzB2oroiZvYrrzXW4jeUuSX+T9HdJt+MH+v5RMjSLMFyGxjUMh6V2Su4FQRA0iZk9ClyEHz54McmjvwEv4pnmPigMOR9YDLcdXCrpQrwu7R/xkiZlDANWSTKvv6STc7bfS/HUpzdJulbSOZKG4PL+5jZ81IwL0vURSf9MMjizf7fHejNgZsPwVNebAm9IuknSkPQOeR6vNdmvvfcRBHMLkaq0fTkMT113KPBb/JTIbcCJeI7rd4BfkGodmtkRydD8L2A5PFf1p8AY4Fzg2sL8R+POxyy+enfcMTmyqU3V9a0qq0dNRIh3EARzAmb2D0kv4op5D2A3YDzwAvDPWTGnmQ2UNAk39IyUtI2ZFdOczEBL5XjI6iAIOgD745EjtXAbntqoaLyZJbRWFw9ZHgRBJczs/RR1NwBPe9cLt0kcDvwX+GXJmJdT/cMz8ZSd2+B67M+BH+I1qz4vjHlB0vq4zeJnwIG4c/EDPN3nqbg+XOQO3A6yCm7ruBvYpYbnuzYZh/+A1ybcAfgKP8x3MzC4ZNjwtLdONK5hOAyvOUbJvYo0J8dDTgfBXMXRwOv4IYxDmdH2+3y+o5ldkb77H4Ona/4GeBiXoXsAO1eY3/C0yjvisqw/MDLJ4p7A6bhteN605u74gZBGMr81mNl9knbGax3+EvgOeAqXx6vhNu52xczOlvQocBT+nssOfyyBOzCrSn/dFrbxkPVBR0dmNWX6mWtIp93eBgaZWZ82nntN/KVyg5nt3dp1U9qlqygphltGXd972vyPHsIymAPRrN5AMOdSq9xta1oqx0NWBx2MkOMB4BGHwENAfzPrN2t30zyt1cVDlgcdiJDjszmSrgP2AdYys9faaY2BuAF9VTOrb4812prm5HjI6WAuIuR4MEtpqW2mLWzjIeuDDkJFOR6pSqtA0lqSbpf0qaSvJD0iaYdCn34pNLpHrm1ZSZ2Uq5eY8vxnod3LVZOSIzffGikMe0Lax2OSQkoFQRC0koKcblbmF8b2lNfc+kLS55LukfTDkn5ZGqbVJB0r6VVJ30p6T9L5ksrSOQVBEMxyWiIjJS0gqa+k/0n6OsnHhyXtVWGNXSQNk/SBpEmS3pc0QtLhhX4z1DhMBueH0j9PTfvMfnqkPhVrHEraWNItksaldd9JqaOWK+k7PZ2epEPTs30r6SN5eYHOxTFBEASzO8lmsWxJ+7Z4RMnLbeU0zL9P0r8NdxoCq9EP+AAAIABJREFUvJ2T3/WFcV0lnSXpFUnfSJqY3hll75/pMl/S9und86WkjyVdJalL6rehpLuTfeVLSXdWa5sJgiDoaEjqJmmwpLFJJ/5A0v1F3V3SXpJGJjn8TdKHT5C0QMmcJml4hfUapakufOeok6e/Hp/07acl/awwx3DcaQhwVeF7QB1BELSKSFXaPKviBbP/B1yBpxD9JXCvpH3MrCwVRsYxwN54vmrwEOrXgBXxfNPjgK2r2YQ8SvFxYMk0dhRewPx2KtcqCIIgCGqjVpn/Mzx9073A5XhB8x2BH0ta28zKUjSdD2wF3Iina+qFvy+2lLSFmX3b9o8VBEHQJlQlIyXNDwzF9dxXgUvw9KK/AAZL2sDMTswmlXRImu9DvL7LeDzt0Hp46qZLm9jT7el6ADACT0mXUd/UwyTjwy34Kcub8fR5G+PlBnZNMvntkqHn4LL7LuB+PD3Twbhuvk1TawZBEMyGzA+8K+khXGZPBdYBtsdrZx3Rjmv3x9P8rw9ciKfWI3dF0iq4bK/DU/rdByyC6+H3STrUzMpqG+6S+tyN6+mbAX2AOkkn4GlKH8ZLxfwITxG4mqT1zGxayXxBEAQdEkkHA5fhqUfvBN7AdfFN8FTXN6Z+ZwIn4Lr69cCXQG881XUvSTuY2eQ22NIqeArUt4BrgK74d447JG1nZtmhwYH4+2JX3LYyKjfHZwRB0CrCcdg8WwF/NbPjsgZJF+NGk8sl3Wtmn1cY+wCuAGdFa1fBC+T+HY86LFNuK3EJ7jQ8xswuzO1lVxoMJkEQBEHrqFXm7wb0SkW6s/5n4QW7D8KNy0U2BzYws3dS/xOAm/A6BMfRUGclCIJgdqNaGfkH3Gl4L7CLmU1NffvjRoATJN1tZo+laQ7FjdPrm9m4/IKSlmpqQ2Z2u6TPcMfh8GpTlUpaFBiEfx/qYWYP5+4dj9cHuwKvn1VkU+BHZjYm9Z8Xr43VU1I3M3uqmj0EQRDMJkzBHWvbAD/BD3qMx/XTAWb2XHstbGb9UlTI+sAFFVKVDsJtKXub2Q1ZY4ocHA78XdKdZvZRYdwuwLZmNiL174QfatkOGAIcYmbX5eb7F66/74wboIMgCDo8ktbGD+l9DmxpZi8V7q+Yrt1xp+G7QDcz+zC1n4DXdPwZ8EfcidhaegD9zKx/bh/X4wdHjiNlGzGzgZLAHYe3z4oyMkHQkYlUpc0zEfhLvsHMngauA7rgBcNLMbNhZtYb6JaarjOzDc3sXDObUu0GkpDeHq99eHFhjTvw09XNzXFICut++otR91W7dBAEwdxGrTL/hrzTMHFlunajnAszp2Gafxqu/E7DjRWlhBwPgmA2oFoZeRBgwLGZ0zD1HUfD4YjfFOaeihuvZ6BC5HZbsCt+enlw3mmY+Bserbi9pJVLxv4lcxqmPU6lIU1SqewPGR4EweyKmX1nZkea2Tpm1tnM5jOz5czsl+3pNKwGSevjB1FuyTsNAczsM+BUYEFgj5Lh/8mchqn/NDxyBeDFvNMwcXW6blBhLyHHgyDoiByGH6Q7reg0BDCz99Kvma3i9MxpmO5PxQ8NTqOxft9S3gFOL+xjKDCGynaWZgk5HgS1EY7D5nnWzL4oaR+erhvOhD1kazxiZt81sZeKmNmVZraJmW2y2AY/bdPNBUEQdCBqlflPl/R9N12XqLBGo8MeZvZWGleX1V0p6RNyPAiCWU2zMlLSYnjKzvfN7NWSvg9mfXNt1+ERLi/La77uJmnpttp0BTYq7Gc6yQAyMv2zTNevWfaHDA+CIGgR3dO1s6R+xR8aosIb1RenXFa/n67PlNwbm64rlm0k5HgQBB2UTdO1uTJYTenOrwPvAauqbWp+j6pg/36XynaWZgk5HgS1EalKm6eY7iIjO13RFgKxObI1mttLEARB0DpqlfmN8uab2dSULmOeFqyxSloj8vEHQTA7Uo2MzOTkBxX6Zu3TD0mY2XmSxuM1VI7C676apBHAcSmqsa2peZ85ymR0FllZSfYHQRAEtbNkum6ffiqxaEnbxJK2qVXcm6+6rQVBEHQIMl13bJO9qtOdV07zlcnYWqhkD5lKBEEFwUwj/rM1z/cqtC+brpkwzIpnlzljS6NHaiBbo7m9BEEQBK2jWpk/u68RBEHQHlQjvyYW2oosl+s7HTO72sw2xY3EOwH/wmsqDm2n6MMW7TMIgiCYqWQy+GgzUxM/B87SXQZBEMy5ZE66FZrp1xLd2agctNRaW3kQBO1MRBw2z0aSFitJy9QjXbOc/xPSdaWSOTZp5R6yNbaQNE9JuHYPaqB+wE6t3E4QBEGHpVqZ3xq2piEFHgCSVsPfH/WpXkuThBwPgmAW0ayMNLMvJI0GVpO0ppm9UejbM12fLVsgycAhwBBJnfB6KlsBtzSxr0w3riXaL5PnPXAn5XQkzQts2dQ+W0PI8CAIghloSoY/ka5bAn+fOdtpnpDjQRB0IJ7A7da9gbIyAxnP4elKewCj8zckrYGneX67YM+YQImdXNI8VKgn2wJa8j0g5HgQVEFEHDZPZ+DP+QZJmwD74qcobkvNT6XrgcnYkPVdqTi+VlIh2geAVYHfFfayK26EBliqNesEQRAEVcv81nC0pFVy83cCzsXfyVe1wfxBEATtRbUy8t+AgHOTYSDruxRwSq5P1t5TKcdz+nedJKOhdtXXzezrk3RduYZnuR34FNhb0qaFe8fgevd/zWxMDXMGQRA0iaR6SfWtnKOfJJPUo2121aI99El76NMG01WU4SlV9cPA7pIOqrCXH0lapg32cUMbzBEEQTCncRmeAvQUSWsXb0rK6r5muvvJ+WwgSdf/K27P+Fdh+FPAypJ2KLSfjJdpqZUyZ2NLvgcEQVAFEXHYPCOB30j6CfAoHnr9S1wgHmpmnwOY2ZOSRuInop+S9CCezmlnYCjlkYi1cATwOHBBErjPA2sAP8eLw7Z2/iAIgqBKmd9KHgVGSRoM7EiD/H4GOKcN5g+CIGgvqpWRf8VPLe8KPC9pCLAwsCewDHCOmT2Sm/c24EtJTwD1NNRQWRGXjf9tZl+v4XVZfiVpCvAOnhrpGjN7p2yAmX2ZjNA3ASMk3QSMATbGHZYfAoc294Eko/lVwNnN9Q2CoOMjaTiwtZmpub7tsLYBI8ysRxvM1QN4COhvZv1aO18zDAOOA/4h6RbgC+AzM7s43d8HeBD4l6SjgCfx1HorAusB6wLdgXHtvM8gCIIOh5m9LOlw4HLgOUl3AG/g5QN+DHwO9DSzxySdA/wJeFHSzcBXuM6/LvAIfiA6z1+BXsAdyf7xKbAZfkBvODVm0KtAFhR1vKQlaai9fpGZRcmBIGgFEXHYPG/jQm0C8FtgLzxl0Y5mNrjQd1fgn7gCeySwIS5Qj2/tJlKap03xNE2bA0fjxubdcCNHEARB0Hpqkfkt5ffA6biSnJ3euxDYxsy+baM1giAI2oOqZKSZTQa2B05KTUcCB+BGiH3MrKgb9wX+D09/dDiwB/AKLit7mtmUpjaV0vj/HDdY7An0B07DjRJNjbsD16uH4EaNPwI/xA0nG5vZW02ND4IgaAHbpp/WcDEuq55qruOcgJkNBf4ATMEjvk/D5XF2/z38UMdJeEq6fYGj8PfRGPyQx/9m7q6DIAg6Dmb2D2AL4G7cTnEcsAvwMXBJrt/xwN64Tr8/Los74RGE26fvAPl5h+F265eAX+HfB+qBbvhBv7bgy3T9GOiDv0NOA5Zoo/mDYK5FZjar9xC0EkkDceG7qpnVN9e/ru89bf5Hj9zQwRzITD8FHMy+SKrDDeKDzKxPO60xkIKsbump9JbK8ZDVQQcj5PhMYmbIyDmVXMThgWY2sJoxrdHFQ44HHYwOJ8fnlojDlsi+2Z1a/nbNyfGQ1cFcRIeT48HsS5mcbmmEfGtt4yHngw5ERTkeEYcVkHO0pJclfStprKSLJXUuq0sgaQFJfSX9T9LXkj6X9LCkvZpYYy9JIyVNlPRNGnuCpAUq9N8uzfmVpE8l3S5prTZ+9CAIgjkWSd0kDU4ye5KkDyTdX5TFRfkL3JduNXovZjJf0iKSzpU0Js39pqTj83W5cmN2kTQsrT9J0vvAT3P3s/pdW6d/W+5neBt+JEEQBHMcmYxMBy6ytoGprU7SoUlv/lbSR5KulNS5ZJ5MfndOevzYNOZlSUcV5bekHmmNfhX2NcN3gCSvs9q0VxVkeV1rP4cgCNoPeY2+WyS9lb6Lfy7pUUm/rtC/q6QzJL2Yvu9PlPS8pAFJR6xKtyuRI31Tn6MrrLu8pKmSns61zVDjMD1LZgDdurB2P0lrpd8fauLz+J+kKZKWS7I363tqYb4eJWN7Shou6Yv0Od4j6Ycl/TI5vpqkIyW9kD77/OfTVdJZkl5J9yYmnbpYH4sk24+T9KCk9yRNlvSxpDsldW/iWX8l6Zk0/zhJ10havlL/IAiCjkxe75b0fbk9ZZykabn3TC9JQySNl9s3RsttI11K5ltP0n/S+25SksvPSrpA0ny5ftN1+5I5mtTJ83NQw/sqCILaiBqHlbkEOAx4H7gSmIyHaXcD5sPTaAAgaX68juHWwKtp7MLAL4DBkjYwsxPzk0s6EzgBGA9cj4dW9wbOBHpJ2iEf4i3pF8DgtI/BwAd4GPnjwAtt/OxBEARzHJIOxgt7fwfciafPWAbYBE99d2PqVyZ/d0nT7CBp/mKKDVzuDwWWB+7Fi4fvBgwAFsTT4mX7OAS4As+tf1daZxk8nXXGZ2lMH7woeP/cvfoWfQBBEARzB+fgaUXvAu4HegIH47W/tynpPz9eI7ELcEP69x54iugf4HXEW8pAXJ7vCtwBjMrd+6wV8wZB0P5chqdOG4l/t14Srz19jaQfmNkpWUdJq+KGyVXwuquX4YfNvo+noL+clut21wBn4CnfLiy5/2tgHlzeVGJUWu9UPPVbvu9wM3s1OQ17Svq+mb2eHyxpM7w+1S1m9oGk29OtA4AReB2qSs/yM1wG3ot/Dmvjn+OPJa1tZuNL9nshsCVwD54q+ru0j1XSWnXAw/jBvkXSGvdJOjSl08v4If7ZjUxzTQBWxvX63pJ2NrP7cv2R9HvgPPzvdXW69gIeA6IWVhAEczOr4zVkXweuAxYCPpd0KtAPr094N15Pdj08pfSOkrpndc4lrZfmMNwm8zawOK6nH46nNG2yBEGN1PK+CoKgRsJxWIKkLXGn4evAT8zss9R+Im54WJ4ZczH/AXca3gvsYmZTU//+eN2BEyTdbWaPpfbuuNH6XaCbmX2Y2k8AbsMV4z/iTkQkLYoboacBW5pZ/rTh+XgdgCAIgrkWSWsDl+KFu7c0s5cK91dM10ry93LgTeB75ORvjuWB5/G8/d+kMf3x98TvJZ2Zq8F1KH7IY30zG5fbw7y4Qkt6r/RLp+BWqSWlRhAEwVzOpsCPzGwMTJetD+IG8W5mVqz5tRzwFrCumU1KY07FayoeLmmwmY1syUbMbKA8aHFX4PaOkq4vCOYS1jWz0fmGdCD4XqCvpMvNbGy6dR3uDDzRzM4qjFkK+DLVqa5ZtzOzsZL+ix9eW9fMXix0OQDXK//TxByjgFFJttVXWPtS/KDFIeTqByYOSdcr0ny3S/osrT28mWfZDeiV6lgBIOksvHbtQfhhjyIbARua2duF9kH457y3md2Qm68Lbgz+u6Q7zeyjdOsVYPmiczLp/U8B59OQVSRLu3027mDcKFc64ATgJmD3Jp4zCIKgo7MFcFY+8EVST9xp+Dhe0/yz3L0+eOaN/vghGvD3xoLAbqmWOLn+SwBft+WGa3xfBUFQI5GqtJwD0vWMvFBMESgnlPQ/CD9NcWzmNEz9x+EFWQF+U+gPcHpmtE79p+JOyGmF/rsCXYHr807DRD+qOBkn6RBJT0t6+otR9zXXPQiCYE7jMPwwzGlFpyGAmb2Xfq0kf0fjkSdF+ZvnqMxpmMaMwyNMOqexeaZSOElnZn3MTNXUoi0j5HgQBLMKM6tP8qvPrN4L8JfMaQjT9ecsXWi3CmNOyJyGacynNOjoB7bLLguEDA+C2Yui0zC1TcazB80LbAsgaWOgOx7Vd3bJmPHJadgaBqXrAflGSZvgEXz3mNknrVzjdjyyso9ypVGSU24vYDR+SLpWbsg7DRNXpmslmXxO0WkoaX38MPYteachTD9wdypujN4j1z6xLKIx6f03A2tJWjl3a188i8hFeX3czKYBx+HfAyoScjwIgg7OR8wYLQ9wVLoenLePgx+gw9+N+5bM9U2xwcwmJHk7ywg5HgS1ERGH5WyYro+U3HsCNwgDIGkxPOR6rJm9WtL/wcKc4Cfs8vemY2avS3oPWFVSZzObmOs/oqT/REmjSLUUKmFmV5IU+NYWgA2CIJgN2TRd722mX63yN2Oimb1ZMt+76bpEru064G/Ay5JuwGX3o2b2cXMP0RQhx4MgCAAoHqKDclmcMRVPQVdkeLpuWHKvzQkZHgSzF8mhdDzuIFwZT8mWZ4V0zXTMoe1o8LwNPwy8r6S+ZvZdas8ciQNbu4CZTZX0D+DPuPPt+nRrP/zZrzSzlsimWmUyeDRgkawmYecKNa2WTtcZaidK2hw4Oo1fBk9HnWcFIDts0pRd5S1J7+IRj6WEHA+CoIPzfP6gXaI7fiB6T0l7loyZH1ha0pLpgMtgXCbfLulm/EDKo2WHdWYFIceDoDbCcVhO53T9qHjDzL6T9ElJ3w8qzJW15wvGVjNm5TRmYlP7SXxYoT0IgmBuIZOxY5vsVbv8zahUqyo7SDJP1mBm50kaj+fwPwpPJ22SRgDHlUSOB0EQBNVTJo8byeIc43NG+DyZ/ty55F4QBB0YSavhzqsl8Fp69+N633d4fb0DgCwqr1ods8WY2TeSbsTrte4A3JvSpu4NfEzzB+Oq5UrgJDytfuY4PARPhXpVpUHN0EgmJycllMtkKLdfLJmu26efSiya/SLp53hk4bfAA3jU5Fd45GAP/HD1Armx1dhVKjoOgyAIOjiVZPO8eNR3UywKfGJmT6XyXycBv8APpyDpNaC/mVVMux0EwexHOA7L+Txdv4fXRJmOpHlwwZl9ccgMy8tWmGu5Qr/imLJTF8Ux2fV7FdaotHYQBMHcQma0WAEoi/7OqFX+tggzuxq4OqV/2gz4OZ4mdaiktVobfRgEQRBUzVKS5ilxHmb6c17eZ9FElb4jdaHyQZIgCOYcjsW/0x9YrE0qaW9mTBma1zHbk0G44/AA3FG4U9rjhbk62q0i1VO8E/i5pLXwcijrAoNnsm5aFuWRyeKjzezvVc5zGu703MTMXsnfkHQFjbMy5e0qjUobEHaVIAjmbirJ5k5m1rXqScweB36W0mJvDPwUOBK4XtLHZpalxW5K7+5S0hYEwUwmHIflPIenLdqCguMQT1Uy/XMzsy8kjQZWk7Smmb1R6N8zXZ8tzL8RfgquWJB9DWBF4O1c/uhs7NbAvwv9OwMbVP1kQP2AnWrpHgRBMCfwBLAJ0JumHYe1yt9WkeYZAgyR1Al3Hm4F3JK6fJfWLjNqVyTkeBAEQdXMix/geLjQ3iNdn8u1TUjXlYqTpHdEZxo7DjPZXSmyphEhw4NglrNGut5Scq/obHoiXXtJOrGKdKUt0u3M7FFJbwC7pu/4mfNyUBPDikyjeVl0KX6g7VAaUoleUdKvZtnWSrLPeUugWsfhGsBLJU7DTrgtp8izwO743/jBwpjVKJH9lQg5HgTBXMITwE6S1jGzsgMXFUlpTx8DHkvvt6uBXWmop5vXu4tlYTapYakWva9CjgdB83Sa1RuYTbk6XU9KSjsAKV3ImSX9/w0IODdFJGb9lwJOyfWh8PvJkpbO9Z8H+Cv+d/lXrv8duEDdJxVIz9OPSLEUBEFwGZ6q7hRJaxdvSlox/Vqr/K0ZST2V8jMVWCZdv861ZamvV27NmkEQBEGTnJVOPQMgqStwcvpnPj3fq3jmkV0lLZPrvxCVDdkhx4NgzqM+XXvkGyX1An6TbzOzZ3DD5wZ4TUQKY5aUtGCuqTUyYRCwIJ7ufkfgBTN7rukhM/AJzTu/hgGv447JvYDXzOyhCnPBTJJtKZX/w8Dukg4q6yPpR3nZjP8d15S0fK6PcBtJo+8DeB3yKcCRkupyYzoB5xL2sSAIgiLnp+s/8rI2Q9IikjbN/XuzpDcXyTLo5W0hWb3bgwtz/givk1gtoYsHQTsREYclmNkISVfi+f5fknQLrmDujIdpv09DSDW4sbk3fnLieUlDgIWBPXFD8Tlm9khu/scknQP8CRgn6VXgrjTHusAjuOKa9f9S0iF4kdmHJQ3G63BtkfqPxCNYgiAI5krM7GVJhwOXA89JugN4A0/x9GPcENyzIH9fTAW7v6KC/G0htwFfSnoCN2gIPz39Y+AZGk7YgRtv9gRuTe+Ob4B3zOyaVu4hCIJgbuQIScfjhvffp7YP8BpXL6YUffPhNVeWAy41s5HZYDObIulC/ODfc5Juw78vbY/r/++XrPk4bgQ5RtKSNNSHucjMWpX2Ogg6Ej169GDEiBGYlWVCaxuSM+htYJCZ9Wmi66XAgcBNkp4FugMvAD8CbgR+if+f7mNmdcCvgeHAmZL2SL8LWBOvSbgWDc7I1uh21wB/AfrjsqqWaMNs7V9JuguPrpsCjCzIOZN0OXBearoyP4GkHsBDaR9j03xTgHfwNHbXmNk7Ne6rWvbBIwH/Jeko4Ek8yntFYD1cV+8OjEv9z6dB989sNpvjTsO7cPvNdMysXlJf4G9pzGDcvtMLT4v3QlonCIIgAMxsWJKbZwFvpPfa23hNw1XwCO5H8HSk4HaWbSQ9nPrNA/wWf39MAK6UNBA/vLIWbrPZW9LqQDf8XbocHkCzV5XbfI2Z/74KgrmCcBxW5jD81PGhuJD7BDcGnwi8Ry7FnZlNlrQ9XithHzx381TgeeCYsuKvZna8pPfw08trAEelOU8G/mZmkwv9b5b0U7wg7V7AJNxh2B3oSzgOgyCYyzGzf0h6EfgjfoJ8N2A8bgT4Z96YBOwN/A7YHzfMVJS/LaAvboDYCD8t/i2uvB4PXFaoU/NPXOH+Fa5kzwuMwA1HQRAEQXVsk65TgQtwPTlLezcZ2A7PGvIrYCm8FMEA4KKSuU7FHYEH44cIPwRuwCNYXi7p/ynwP/wQSh9gkdR+La2slxsEQftgZi9I6gmcDvwkNS+Ep7H8DHcc5vu/LWkjXFfbDdchv8UNnH/DDwPX4Xrm1biBdQbdTtK7uENuIhVqpZrZGEkPAdvi8uy6Gh/taNxYui2ug3bCnZAjC/0G4oefJ1PZOWl4StMBuCN0MdxZ+giu17Y5ZvaepI1xe8oewL640flDXP5ehMvbrP8VkiYBx+BG6G/wqMUD0/gZHIdpzHmSPgCOw2X2F8BQ/G91fXs8VxAEwZyMmZ0t6VHcbr0FHjQzEXfWXcmMsvNS3EH4k9R3vtT+KtDbzN7JJWeahL+v/orbT8DfNfvg+nVVjkMz+07STH1fBcHcgtrzxF9HRNKaeGqPG8xs71bOVUd1JyLblLq+97TpHz3yQgdzKGWpJIMOzKySue1BS+V4yOuggxFyPABA0rW4gXkFM3s/114PkCKG2mttA0aYWY9qx7RGFw85HsypVIg4bFM5Lmk+YHVgopl9UOWYPnjK4gPNbGCuvR6qlx/N6Zm5SL7+Ztavmjnbi9xerjWz/Srcm+X7nJ1pTo6HrA7mIkIfDypS9m6UtBxecmt0dqh6VthqQh8PgulUlOMRcVgBScsC4/LFzyUtjJ9iBo8+DIIgCIIgCIJg1rI8QN5pGATB3EcyQL46q/cxB/CndL14lu4iCIIgmOtIB3uqOtwTBMGsZa4v/iypTpJJGihpdUk3S/oED2f+StIdkgZI+g+eS39HvL7hcSm9SX6u5SX9WdKjkj6UNFnS+5Kul1RWnLvSnjpJujDt69Z8YVlJvSQNkTRe0iRJoyWdK6lL23wiQRAEHQ9J/fATbAAHJPma/RyarldVGLtAkrnjJS2Q2vqkMX0k7STpMUlfSZqQ3iNrVphrYUknSBqV+n8p6XFJrYpgD4IgmBuR1C9F/PVM/54u23PdFpR0n6RPk+78etLtO5fMNzyNn1fSiZLeSGPelXS2pPlzffvk1tm68F7p157PHQQtZeDAgeyxxx6sttpqLLTQQiy++OJsvvnmXHvttY369ujRA0lMnTqVM888kzXXXJMFFliAlVZaieOPP57Jk8szu99www1svPHGLLTQQiyzzDLst99+vP9+uU9fUo/s/4ykbpLuSf9XLUUfZHpYX0n/k/S1pM8lPSypUQqz/Hf7kntrSLop6WpfJd2t2ZABSYuk79tjkjx4U9LxUkOutWb0zD5pPw+l+6cW7vdIc9SsW0r6nqS/Snot9f0s/T5Q0mqFvj+S9C9J7+O1vacBN8vtHdtVePYN0t/ks/TZj5C0WYW+80o6XNIT6W/0taTnJP1OUqdC31IbjKQvJN0vad3Ub2lJV0r6QNK3kv5PBRtM6lezHUbSLpKGpbknpf4j5DXTgyAIgnYiyf7p7/lm+oZ9PAhmIRFx2EAdXnz7FTzn/4+BLfG8+L3xz+pbPEdyPV734F5J3zezMWmOrfDaVg8BtwBf4gXTfwHsImlzM3u+qU1IWhCvZbA7cAlwVBb1KOlUvL7Kp8DduCNzPbye146SupvZ5637GIIgCDokw4EueO2X54Hbc/eewmsc7iXpGDMr1qTaA1gSr384qXBvd/wdcVtaY4PUv6ekzczstaxjUmAfBDYEngX+jR/g6QVcL2kdMzu59Y8aBEEw1zA8Xfvg9WL7F+4visvvzYGbcN25B15zduekm5fVGrse/x5wL/A5fnDwT8AyeO0sgFFpvVPxA4cDS/YVBLMVhx12GOussw5bbbUVyy23HJ988glDhgxhv/3247XXXuO0005rNGafffbh4Ycfpnfv3iy++OIMGTKEc845h3HjxnHVVTNbwDmWAAAgAElEQVSeuTr//PM59thj6dKlC/vvvz9dunRh6NChbLbZZnTu3MhXn6c7cAL+XfvfeC3SyXJn/VBgazyS8BJgYfz79WBJG5jZic09d3K6PY7Lg3vx/79r4PrgvU0MnS+tv3zqNxWvcTgAWJAGmTOcynrmKBpqGh6A17IenrtfX1izKt1Sng3pUTw16wPAXXiqqVXw+lM34/VcM05L7eAy6zZgCWAz4NfAfwv72ASXe4/jNblXTvsYlj73vI47X1q/F/AaLkO/xQ91XITXupohJWqijhltMHV4XcXhkroD9+EyeDDQFa8bWbTBQI12GEmHAFfgtRPvwmuiL4PbVg7Ea3QFQRAEs5CwjwfBrCcchw1sDZxsZmdkDZJOAf6CK543AofnhNT9eOHz36cfcIPw98zsi/zEktbHlfoB+JeAUiR1Be7Elfe+ZnZ27l5PXCg+DuyYN3KooS5D/9xeinMfAhwC0LXX71hsg582+WEEQRB0JMxsuLxWzdHAqGLNFkmXA+fiRo1i2qZD0vXKkql3BnY2s7tzcx2Np7W+FC/2nXEB7jQ83szOyfVfEDcwnSjpZjMbVfYMIceDIAhmxMyG4wbmHsAqedkuaRVgMeALoJuZvZq7dylwGHAODTI+z+rAOmb2aep/Eu4M2F/SCWb2YZLVo5Lhor65WmAhw4PZgRdffJHVV199hrbJkyfTu3dvBgwYwG9/+1tWWGGFGe6PHj2al156ia5duwJwxhlnsP7663P11Vdz1llnseyyywJQX1/P8ccfzxJLLMGzzz5LXV0dAGeddRZ77rknt956a1Nb2wH4rZldkW+UdAL+Pf1eYBczm5ra++MHv06QdLeZPdbMo1+COw2PMbMLc/PvyoxOviLL4//3tzezb3Jrvw78XtKZZjalOT0TlxWf4Y7D4c3Ii2p1y21xWXWBmc1gA0gO1wVy/94Bdxq+DWxpZmML/Vcs2cdONK77eChweXrOfGTeSbjT8GL8M/4u9Z8H158PSjruHYU1mrLBPEljG8wDNLbBQO12mEOBycD6ZjauMGapks8iuxdyPAiCYCbQXvbxkONBUBtzfarSHPW4QplnULouAByXr3eIn6Kbip8ABMDMxhWV1dT+PK7M9kyn8RqRjBuPAt2A/fJCMXFUuh5cPBmdlPlRwL6VHs7MrjSzTcxskxCMQRAEjbgKPxl9aL5R0g9wo8ZDZvZ6ybgH84adxMV4BOM2SbYjaUn8NPfTeachgJl9i0e/CNin0gZDjgdBENTEr4H5gYvzTsPESbhDcT+lFNQFjs+chgBm9hV+4rkTHoVTMyHDg9mBotMQYP755+eII45g6tSpDBs2rNH9s88+e7rTEGCRRRZh3333Zdq0aTz99NPT26+77jqmTJnCkUceOd1pCNCpUyfOPfdcOnVq0vQwqug0TBwEGHBs5jQE/96NR9AB/KapiZNTbHvcaTbD4bDkyBrR1Hg8wuGbwtp3AJ2BHzQztiVUpVvm+Kbwb8xscsEucWS6/qHoNEz93yvZx6N5p2Hi37gNpFvWkNKQHolH7/0+cxqmeb8D/oD/DctsFfW00gaT1mmJHWYqMKVkzPiSfWb3Qo4HQRC0M+1pHw85HgS1ERGHDYzKK7mJrBjD60VF1My+k/QRMMPpPHmdhN/iRoWlaPwZL0XjIrA/wE9KLAL0NrPG39g8fcsUYE9Je5bcnx9YWtKSZvZJ2QMGQRAE5ZjZJ5JuxKNJNsudXM8iUS6vMLSRsSm9Hx7BT4FviKeD+jEwD1Cp9lVmzPhhCx8hCIIgmJGN0vXB4g0zmyDpOTy93Vp4RFGep4tjgHfTdYk222EQzGTGjBnD2WefzbBhwxgzZgzffDOjz2ns2EY+JTbZpLGvfKWVVgJgwoQJ09ueffZZALbeeutG/VdbbTVWWmkl3nnnnUpbe6rYIGkxPJ3o2BLnPzT8396w0qSF+4+UfN8HTwfaeNPORDN7s6S9PeVBtbrlCGAs0FfSRsAQ3NBaZtfYFHfe3VfDPhrJQTObkmwg+ef+Pp5G9A3gZDWUfszzDeU6bpvYYKBmO8x1wN+AlyXdgH+Wj5rZx2WbD4IgCGYaYR8PgtmIcBw2UKxphZlNTYpvo3uJqTQYe/MpRCbgdQbGAF/jSvpuwPrkUobkyJTtUXjdqzKWxP9epzbzHIsCIRiDIAhq51Jgfzzq8LEUhXIAni//tgpjPqrQ/mG6ZgV9lkzXH6efSixa9W6DIAiCpsjkb/HAHoX2LsUbFeoeZtFO87RyX0EwS3jrrbfo1q0bEyZMYMstt2SHHXagc+fOzDPPPNTX1zNo0CAmTSqWcoYuXRr9F2Heed2M8N13DT6fiRP9K/P3vve90vWXXXbZphyHH5a0tfj/cIV5mtPZyiiTBdC+8qAq3dLMPpe0KZ6ObRc8VSjA+JSO+XQzyyLqugAT8pGTVdDUs+efO9Nx16RpW0WZjttqGwzUbocxs/MkjcfTrR4FHIMf7huBRzmWHR4JgiAI2p+wjwfBbEQ4DtsISfPiOZY/BDYysw8K97s3MfwuvIj4mXix8e1LTkVMBDqZWddGo2ukfsBOrZ0iCIKgw2FmT6YIlL0kHYPXQlkSODtneClSbh2DZdN1YuF6vpkd29q9hhwPgiBolkzuLgu8VHJ/uUK/mUbI8GBWcN555/HJJ59w1VVX0adPnxnu/ec//2HQoEHlA6ukc2f3z3300Uess846je5/+GFT/jmspC3/f7iMav8PZ/eb09lmF6rVLbMUo/9P7mlbG9gGOAL4M55a+ZTU9TNgSUkL1eg8rIZsP7eZ2e5tPHeztNQOY2ZXA1dL6oLX0Po5nhp3qKS1mos+DDkeBEHQLsw0+3jI8SBonqhx2HYshZ/ke6xEWV2UhnRJpZjZWXjh1g2B4ZKKXxieAJaQ1PhbWBAEQVAN2bH4pk6HXwosiEceHoIbsq5son+j1FaS5gG2SP98Ll2fAqYBW9aw3yAIgqDlZPK3R/FGMhRvgNe2faWV60wjohCDOYA33/SMm3vssUejeyNGNFfmr3k22mijinO99dZbvPvuu43amyKlqRwNrCBpzZIuPdO1UkRCRiYLtkg6WpEeNW2sMs3pmdXooVC9bjkdc14ys4vweo7gkXYZT+C1tNujoNOruGNy05I6gjOD1tphPjOzIWZ2MDAQj3TZqp32GgRBEDRD2MeDYPYhHIdtxzg8HcbGSUEFICnPF+IKbZOY2QXAYcA6wAhJy+duZyelby+0Z+ssklKVBEEQBOVMwB2BKzfR53r8BNufcMPNA2b2lqThkspOw28j6WeFtt/hNWgeMrN3AMxsHF5PZRNJp5QZriStLmnVmp8qCIIgKONavP7JkZLWKNw7DVgcuNbMGudmrI1PgJVaOUcwC6mvr0dSoyi8jkZdXR0Aw4cPn6F96NCh/POf/2z1/Pvuuy/zzTcfF110EfX19dPbp02bxuqrr860adOqnktSj6R3vYM7vM7N606SlqIhmu7fuaGPFOdKUXkPAKviOlp+nV2pXN+wVprTM7OIiab0UKhSt5S0TokxFRoiFr/OtV2Urn+TtEJxQFlbtZjZ1DT/csDfJS1UMv9yktZu6RrNULMdRlJPlRdjXCZdvy65FwRBEFSJpLr0Hv9rS8Yn+/jVwLrAqIId/Px0/UfYx4OgfYlUpW2EmU2T9HegL/A/SXfgBVl74qfWHqLhVGRT81wu6VvgX8BISduY2RgaTkOvDrwhaQjwNp6zeRX8C88jtM8pwiAIgjkeM/tS0pPAlpKuA17HT3/faWYvpD5fSxqE1zsBuKKZae8CbpN0G/AmHsHSG/gUr5uS53d4/Ze/APtJegSvY7M88EO89uHeuGwPgiAImkBSHS4vS/Mrmll9Sjt9CfCspBuBj3GduTseJXN8G+xh6fT7XXjk0xRgpJmNbM3cQdBaBg4cyIEHHjg9Nenhhx/OVVddxZ577skvfvELll9+eV588UXuu+8+9tprLwYPHtyq9erq6hgwYAB/+MMf2HDDDfnlL39J586dGTp0KACLLLIIX331Va3TPoZ/p94VeF7S4rijfhzu5DnHzBo5C0s4AngcuEDSDsDzwBp4esq7gJ1r3ViRKvTM14CxwK8kTcGdogZckzkDE9XqltvjDtXH01rjgBXxz2oacG5ub/dLOh04GXhF0u3Au7iTcQs8eqNPKx7/NLyO4G+BnSU9mJ51GVz33Rw4CXi5MG7RZFgeZGYtWr+FdpjbgC8lPYF/rgcD43En4zPAf1uylyAIgqBNeQjPBPU9cvZxMxsmqS9wFmEfD4J2JRyHbcspuEHiN8CheNTKA7iC3r/aScxsoKRJ+OmKkZK2yd0+C1e+t8C/FEzElfIr8UiZZqnre0+1W6mKyAsdBMEcxH74CbWf4k46Ae8BL+T6/Bt3HH4A3Jna9gcWLpnvVlz+ngTshBuMbwVOMLPX8x3N7HNJW+MpUPcB9sDTon4EvIGn43igmodoqRwPeR0EwdyEmV0q6U3gj7jMXRg3lp8LnGlmn7XRUm8D3YAd8Ywu/YGKjsPW6OIhx4OWst566/HQQw9x8sknc8899zB16lTWX399br31Vrp06dJqxyHAsccey3LLLce5557LwIEDWWyxxejVqxd///vf+dOf/sSTTz5Z65Tf4Q6yY3HdKYuMewM4xsz+U80kZvZGij4YAGyHpyd9AU/nuTRt4DhMVNQzzew7ST9Pe9gTWCzdfwR3ImZUq1sOxaMXt8LtAovjuusDwHlm9lh+Y2Z2SnIyHgX8DFgEdzY+jdsdWoyZTZG0G/Br3AH5M9yA+zEuH0/BM2+0F7XaYfoCvfA0plmtzE74YZLLmqhtPp2m5HjI6SAIAsbih6MXw3XwlnAbfrBlM/xAd+Y8fMvMzpb0KP5Oa5F9PPTxIGgemZVlXgtmNyT1Aa4CDjSzga2Zq67vPW36Rw+BGcyhlKWnCYK8vD3dzE5ppk+rZXJLaKkcD3kddDBCjs/F5CMOWxqpMqv20BpdPOR421NfX8+qq67KAQccwMCBA2f1dtqMYsThbEqpHJfUA4806G9m/XLtw4GtzazSuHoAM6tr2222P7Nat5wVdFQ5HnI6mMsIfTyYIwl9PAimU1GOR43DFiBpUUmT0+mGfPtCkr6VZJL2K9w7LLUflGvrKuksSa9I+kbSREnDUvqUptbfSdJjkr6SNEHSzRUKxgdBEAQVkNRH0i2S3koy+PMk1/8CTCWXprSJGofbShoi6R1JkyR9Kum/knqXrPf79B64peTedpK+k/S/stowQRAEsxOSukkaLGlskn0fSLpf0l6FfntJGpl03G+SjDtB0gIlc9ann0UknStpTJr7TUnH5+tRSepHQ1rnA5JszX76FObtleT0+DTf6DR/l5m1h2DO4/XXX6dv3778f/bOO8yq6urD708BlQTBrkgEa4iaCIpgQ0Hs3ZhYYwQ+e8MUu4lgL4kSY0VjsMaGisYgKjooGmNQMGrsiIpiEAtiQ8H1/bH2Gc7cOXfmzp1R2nqfh+fAbmef0fmdfdbae60ePXqwwgorsMQSS9C5c2cOPfRQpkyZUqft6NGjkcSAAQMKx5o1axbLL788yy+/PLNmzapTft555/HjH/+Ytm3bsvTSS9O7d29uu+22emPU1NQgicGDBxfeo0uXLrU5DAH69OlTO58BAwYgqfZPPv9gY2TPduqpp9Ypf+SRR2rHe/vtt+vU7bPPPkhi0qRJtWWS6NOnT73xJa0k6S+S/pc0YqKkgwraZbmStkr/zv++1RS0r+R3uKW+6WtSWRtJv5f0crrn8FTfXtLxkh6WNCXd831J90jatP5Pvfb5aiR1lHSDpGnp5/O0pP2L+jSFSjU8tQ0dD4IgCJpE9t7O3oW58lUkXZZ0Onsf3ilpo4Ix+pd5J1Ss80EQNI8IVVoFKX/BU0AvSe3MbGaq2hzIFtD9gBty3fql6xgASZ2BGqAL8BhwPx4uZBfgfkmHmdnVBbf/KZ7j4K7Uvxt+7LuvpM3M7OWWeMYgCIJFgCuAF/BwcosDXYGNcB3/t5lNaaBvxgHA43g4pPfxcEe7Av+QdIiZXZM1NLOL5aGnfyrpSDO7HEDSysCNwJfA3mb2RUs9YBAEQUsj6RBcP+fg4ZxfxfNY9cDzb92W2p0DnIznjboZ+BRfw54DbC9pOzP7qmT41nj4vY7AKHwTxx54aL8lmRtyrgboAAzCc5XdnRtjYm6upwOD8RxWf8fD8v0ED126k6RNzeyTb3MOwYLJnXfeyZVXXknfvn3ZbLPNaNOmDS+88ALXXHMN9957L+PHj2fVVT1q5nbbbceaa67JbbfdxtChQ2nfvn2dsUaMGMEHH3zAb37zG5ZYwj8Vv/rqK7bffnvGjh1L165dOeqoo/j888+544472GeffZg4cSLnnHNO1fPv378/HTp0YOTIkey+++5069attq5Dh3q+lrL07t2bNm3aMGbMGM4+++za8jFjxtT5e3ai0cx45JFH6NKlC2ussUaDY0+fPh08h+EaeLjOcfg66krggZLmH+O/e/3x/EX58JOTS9pW9DvcEt/0JYzA81WPwvVgWir/EXA2vt68D/gIDzG6G7CjpF3N7P6C8ZbBfz4f4ycROwB7AzdJWtXMLizo0yiVanhqGzoeBEEQtAiSVsff9R2Bh4G/4XmLfw7sLGkvM/t7hcNVqvNBEDSDcBxWz8P4R8WW+AcA+IfEHGAscz8qkLQYnpB7Ui7x+XX4R89+ZnZLrm0HfAF7iaR7zOx/JffdFdg1L6aSBgFDgcvz980j6VA8rxbLbn807bpFjtggCBZ51jez16F2x/EvcKPEB0D3ZJR5p5ExfmNmF+cLJLXHnYkXSLqpxBHYHzdE/FG+w/053Gm4EjDQzF4sd6PQ8SAI5jWS1sXXm58Avc3shZL6Tum6KW5sfhvoaWbvpfKT8c1vu+BG31LPSEfceLttpp2ShgCvAL+SdI6ZfW1mNfKQhIOAiflQhrm59MWNzf8EdsrnM9TckIBD8Pyy38ocSuYTGr4AceCBB/KrX/2q1tGX8cADD7Djjjty1llnccUVVwB+mu7www/n+OOP54YbbuDoo4+u02fYsGEAHHroobVlf/zjHxk7diw77rgj99xzD61a+Wf56aefTs+ePTn33HPZZZdd2Gyzzaqaf+bIGzlyJHvssUfVoUrbtm1Lr169eOKJJ5gxY0atU3TMmDF0796dt956q47j8D//+Q/vv/8+u+7aeMrAU045BdxpONTMan8PJV2K/97Wkn5/B8tDmHZu5Petot/h1La53/R5OuNry+kl5S8CHUvLk14+hedELHIc/gS4HdjXzL5Jfc4DngbOljTCzCYV9CtLpRqe/h46Xn8+oeNBEATVcyWuz6eZWe1uJEmX45trrpPU2cw+rWCsprzrawkdD4KmEaFKqyfbZZh31PXDF/J3Ap0krZPKuwHLMve04QZ4mJUReach1H4UnY7vkChKIPtwwQ6MS4HXga3TScZ6mNkwM+thZj1CGIMgCCBzGqa/DzYzmdlywDH4xprCjRip/fDU/uKCuhnAtfhO8Y1L6j4A9sN3yN0KnJXuc5OZ/bWR+YaOB0EwrzkC18czSw3OALmT2lkYv7MyY3Oqnw38BvgGOLjMPY7Nb7gws2nASKA98MMmzPXYdD0kb2xOYw7HN3Ec8C3PIX/P0PAFiFVXXbWe0xD8dOF6663H6NGj65QPGDCAJZdckquuuqpO+csvv8zYsWPp27cv66yzTm35tddeiyQuuuiiWqchwIorrsjvfufpla+55hrmB/r168ecOXMYO3YsADNnzmT8+PFsu+229O3bl4cffri2bXYSsV+/sksoAL7++mtuuukmgJm4Y6gWMxsP3NTMaVf6O1z1N30BvytwGmJmM8qUTwHuALpKWi23thyemswBTsychqnPG8Al+DrywNIxK6BSDYfQ8XqEjgdBEFRH2piyHfAWcEG+zsyewE8fLotH2auUJut86HgQNI1wHFbPP4EvSB8Z6YTJhviHRPb1lH2AbJ2uWXmWy6C9pMGlf3AxBQ9rUsrY0gIzm4Mf9wboXt3jBEEQLFpIWi3F139J0udZThM81BTAqhWMsZ6k4ZqbJzEb44/lxjCzcfgGkR/iO7lfBQ5vkYcKgiD4dtkkXUc10m7DdH24tMLMXgGmAKun9XOeGWb2WsF4WRK1ZSqdKL7e/hr4eZn1dhtgBUnLfYtzCBZQzIwbb7yRbbbZhhVWWIFWrVrV5vR77rnneOedugEJlltuOfbee2+ef/55nnjiidry7LTh4YfPfc3PnDmT1157jY4dO9K1a9d69956a/90nDBhwrfxaE0mm0/mFBw7diyzZ8+mX79+bL311rz77ru8+KIHTMiciFmfcrz00kt8/vnn4Ke8ZhQ0qWnGlJvyO9ycb/pSnio3IUmbS7pN0tspD1O2XjwmNSlac76VHIWl1KRrNd/9lWo4hI4HQRAELUf2znqs6CQgc981lb7bQueD4DsgQpVWiZl9JWkcsI2kFYDN8BxZY8zsRUlT8Y+MK9LVmCuE2cJ22/SnHN8vKCsNXZqR7QIsXbgHQRAEJUhaAzfwLIPnmX0AmIHv7u4CHMTc/DblxtgE1/VWuIHpHjz00zf4rvTdGxjjTuAMfAPPNRWG4wiCIJjXZMnRGgvjnK1Hp5apn4rn+OqAa2/Gx8XNmZ2uizc2wRzL4fp8eiPtvo+HqP425hAsoPz6179m6NChrLLKKmy//fasuuqqLLXUUgAMHz6cN9+sH6nyyCOP5Prrr+eqq65is802Y9asWVx33XWsuOKK7LnnnrXtZszw/+VXWWWVwntn5R9/XO5/xe+WTTbZhO9973u1jsMxY8bQpk0btthiC7p06VJbtvbaa/Poo4+y7rrrsvLKKzc4ZvYzoPFv22qo+He4md/0Fc1Z0p74ycIv8ZzYrwOf4evFPngkoqL14rfx3V+phufHDx0PgiAImksl7xSY+55qjND5IPgOCMdh83gYd/z1wz8yvsTzWmV1O0paAugNvJCOTcPchfUgM7ukifdcqUx59nVWtGMzCIIgqMuvcWPEgFxIKAAk7Yc7DhvjNGApoK+Z1ZSMcTLuOKyHpCXxUBwAHwG/lzTSzF5uygMEQRDMA7KP9FWBlxpol61HV8aN5KWsUtLu22AGsJiZLfst3iNYCJk2bRqXXHIJ66+/Pk888QTt2rWrU/+3v/2tsF+vXr3o3r07t912G0OHDmXUqFF88MEHnHjiibRu3bq2XZYn8L33in1jU6dOrdMOYLHFPFDQ7NmzC/t8/PHHdOhQqa2tabRu3ZotttiC0aNH89577zFmzBg23XRT2rZtyzrrrEOnTp146KGH2HDDDZk5c2ajpw2hzrM19m37XVDtN30dzMzKjH8m8BXQw0pyWUu6CnccFvFtfPdXquH58UPHgyAIguaSf6cU8V28U4IgaCLhOGwe+ZwImwJPmNmXuboD8DwC36NuLoQn07U3nqOgKdT7sJC0OLBF+mejMW0mn7dzE28ZBEGw0LFWuo4oqCtnwCka48NSp2EFY1wEbACcjScBvx+4VVIvM5tVyY1Dx4MgmEc8CfQAdqRho/MEPMxdH0oMzpLWAjoBb5TmrGoic9K13I7iJ4GdJa1XlMurhWhsDoWEhs/fTJo0iW+++YbtttuuntNwypQpTJo0qWzfI488kkMOOYTrr7+eu+66C0kceuihddq0a9eONddck0mTJvHqq6+y9tpr16l/5JFHANhwww1ry5ZZxiNuvf3225Ty2muvMWPGjHqOw8UX9/8t58yZU69PU+nXrx+jR4/mb3/7G88//zxDhgyprdt6660ZOXIk3bt3r23bGF27dqVt27Z8/vnn3SS1LwhX2qdM1zng378pXUdLUO03faWshTscS52GizH3G76I1SR1MbPJJeV90rWaWLaVang2fuh4GULHgyAImkT2ztpCUquULzdP33R95ruaUOh4EDRO5DhsHs/guyF2B9aj7odEFsLk5JJ/ZwnfHwN+KmkgBUj6saQVC6q2lrRLSdnRwJrAI2ZWP25OEARBUMrkdO2TL5S0PXBwE8ZYVtJPSsZ4HNi+qIOkvXDj0+PA6Wb2AJ4cfAPg4grvGwRBMK+4Ag8B9DtJ65ZWSuqU/nptup6Wwv9l9YsDf8C/Qf7S2M0kdUl5wPYoqP4IDxu4WpnumaZeLaljwdjfSyGnG7r/ZEmTG2jS2ByCBZAs/Oa4cePqON0+/fRTDjnkkLKn/gD2339/2rdvzwUXXMDYsWPZdtttWWONNeq1GzhwIGbG8ccfX+ce06dP58wzz6xtk9G1a1eWXnppRo4cybRpcw+8ffHFFxx77LGFc1luOc+O8dZbb1Xw1A2TnSI877zzMLM6zsGtt96aGTNmcPnll7PYYovRp0+fRsdr3bo1BxxwAEA7YHC+TlIP3FlXRBaOsiV/56r6pm8Ck4G18zokSfhz19PRHIsD5ycHY9ZvdeBYXIdvrGIulWo4tJCON0JL6PiZKWdk/5K6xvS70jkEQRAEzcTMpuDhursAx+XrJPUC9sf1+K7vfHJBEJQlThw2AzObI6mGueHoxuTq3pT0Ou7QmwOMLem+P/7h8RdJxwL/wkOHdAJ+AqyP73gsDYVyL3CXpLuA1/A8WjsCHwJHttjDBUEQLNxcDgwAbpd0B/Aurrs7ALcB+1QwxlDcQThO0m240akHrt31kNQFuAZfEO+f2yl/GrAlcISkMWZWdAoyCIJgnmNm/5V0JHAlMEHSSOBVPPTzxnie175m9oSkC4ATgOeTzn6Gr1nXB8YBFzZzLp9K+hfQW9JNwCv4mvseM/uPmY2RdBJwLvCqpH8Ab+C5sDrjJ8PH4br/rcyhOc8XzDtWXnll9t13X2655Ra6devGdtttx4wZM3jwwQdZcskl6datGxMnTizs27ZtWw466CAuucSDyhx22FkTbtwAACAASURBVGGF7X77298yatQoRo4cyQYbbMBOO+3E559/zu233860adM44YQT2GKLuYfRWrduzaBBgzjzzDPp3r07e+65J7Nnz+bBBx+kY8eOdOxYz6dSG0506NChfPDBB7V5B4855pg6YVAroXv37iyzzDJMmzaNdu3a0bNnz9q6zIk4bdo0evToUXHI1HPOOYerr756EnBcchaOw0OV7QP8A9itoNsY4OfAnel3+gvgTTO7oUkPlKOZ3/SVcDFzNXME8DWwOe40vBfYtUy//wC9gKclPYDnfdo7XU8ws6LwoQ1SqYantguKjr/xbc6hOWMHQRAEdTgc30B9oaTtgPHAD/D3+jd4GpmZ1QwsaTiebuZPLTPVIAggHIctwRj8I+MTXPRK69YEni4Nv2JmUyRtBBwD7IXvqlwcT3b+X+DPwHMF97sTGAacCuyMf3jcCZxsZq9UMuEuJ91X0YNVShzvDoJgQcPM/iOpL3AWrqWtgGeBn+KbOBp1HJrZ/ZJ2xR1/++BGhqeA0ZQYoiW1Bm7BjT17mdlbuXFmp7yKE4FrJD1dEJaqDtXoeGh1EAQtgZldLel54Lf4qe09gOm4kfuaXLsTJU3AI2P8EmiNh7s7DfijmX3VAtM5EDfK7wDsBwiYkuaCmZ2fToEfi4cE3B3f5PEOvp6++dueQxHNWYuHln83/OUvf2GNNdbg1ltv5bLLLmOFFVZgt91244wzzmCvvfZqsO/AgQO55JJLWGWVVdhttyLfF7Rp04YHH3yQiy66iJtvvpk///nPtGrVig022IChQ4ey33771eszZMgQ2rZty9VXX82wYcNqHZyDBw9m3XXrH1xbZpllGDFiBEOGDGH48OF89tlnAPziF79osuNwscUWo2/fvtx555307t2bVq3mmhE6derEOuuswyuvvFJRfsOM5ZdfHtyBdg7uPOsBvIxHZphMsePwGtxhtC/u0GqFO/OqdhwmqvqmrwQzu0rSLPyExUG4s/MxfAPbXpR3HH6EO+kuSG2Xxu0EfzCzqrWrUg1PbRcEHf8Ed2R+a3MooiEdD50OgiCoj5lNShuFTgN2wt9Bn+CpW842s39/l/Opdj0eGh8sSqh8Du9gYaXLSfe16H/0EM1gAUXzegLBgoOkJ4HuZrZEBW2H44ah1RtzAFZLNToeWh0shISOL+Skk9pvANeZWf95cP/JAGbWpSXHbc5aPLR8/mf48OEMGDCA0047rTbsaFCW0PECUojmsWbWZ17PZX4nhSj9K35SZXiufDK0vH5nNKTjodPBIkboeFAPSV2BF4FhZlYcfqFl7zecJtpgql2Ph8YHCyFldTxyHLYwkvaW9KikGZK+kPScpJMlLVHSbnL68z1JF0p6S9IsSa9JOjHlPSgav5ekOyS9J+krSW9Luqoo5n8QBEEAknpKulXSO0lnp0p6QNLeJe3K6fdSwBr4zuN8+20kPSbpM0kfSro7LZAbmktoeBAEQRVI6pp09sOku+NSmKPSdktIOilp+OeSPklavXeZcSXpaEkvSPoyvSsulVTvSJakw+S5tE4vM9bKkr6WVBQ1JFgEmD17NhdddBGtWrUqG6Y0CBY0kk4OkvTfUp1USS5BSf2TTvaXtIOkmrS2tlybPSTdKOmVpOefSXpa0rHK5XQsmcNakm6X9FFq/4Skqqy3kvaT9Iikj9PzvCjptFKbTRAEwaKOpO8nu8XjJeVLJf00SQeW1B2BOw0BpkjaSNKfJD2b1vFfSnpV0h8lLVNwz/x7pG96j8xMa/r7JP2opL3hTkOAN1JfU2V5boMgaIAIVdqCSDoHT5w+HQ999CkeXuQcYHtJ25WE82iNh7TrCIzCE5XvAZwHLAkMKRl/IB6OYxZwD/A2sDZwMLCrpE3y4e+CIAgWdSQdAlxBylWC53FZEQ+HdSSez7Ax/T4BDzH619y4PwNuBb5K16l4+KR/UiasUWh4EARB1ayO6+tzwFXMzYM2StL+ZnYrgKQ2+Np6K+Al4DKgLfAz4FZJ3czslJKxh+Ih8KbiGv01HgqvF9AG1/mMm/Cwgf8n6axcrtqMgfj31VUt8dDBgsO4ceMYO3YsNTU1PPfccxx99NF06tRpXk8rCFqKy/AQsu/iOvkVHkq2J27T+Lqgz8/w0J+j8JyKnXN15+H5rP6FhxxtD2yN56baGA8dWouktfF3wHJpvInAWsDd6d8VI+laPPTrFGAEnqJgE+BMoJ+kbc1sdlPGDIIgWFhJeWCfAnpJapfLQbg5kG226EcKGS7pJ8CgVP4NcBce7npPPLT4Q/ghpo2AXwM7SupVJrfhLviaPHuPrIuHON1Y0rpmNj21G4Lb0jfA3yMfp/KPCYKgWYTjsIWQtCludH4b6Glm76Xyk3Gh3AXPI3BOrltHPKfWtmb2RWo/BE/I/StJ55jZ16l8HVwoJwNbmdk7uXv3Ax7ABXLPb/ExgyAIFhgkrQtcjsfN721mL5TUd0rXhvT7a9xp+Bhweir/Pm4U/iaNOz435sV4DpvSuYSGB0EQVM+WeF6v47MCSZfihuQrJY0ys0+A3+BOw1HAbpnxN62vnwJOlvR3M3silW+GOw1fx/X/w1R+KvAI7qB8M7tnMp7cAByFby75e24+wjeCfE7z860FCxgPPfQQQ4YMYdlll+WQQw7hggsumNdTKktNTQ01NTWNtuvQoQPHHVdvSRPMR8jDOfevsPlQM2uyEVVSb9xp+ArQKxtD0im4AbgjOZ3MsROwk5ndX1C3s5m9XnKfxfBNer+UdKmZ/StXfRnuNDzOzP6U67M77jys9Fn6407Du4ADMhtMqhuMr/WPwtfkQRAEgfMw7ijcEsgSA/bDN2ePTX/P2Aj4Ib7BZC8ze17SucBRpRvuJP0fnlv3SOD8gvvuAWxvZmNyfc4FTsI3610AYGaD0/twA/xdN7kZzxoEQY5wHLYcA9P1rMzoDGBmsyX9Bl84H0xdxyHAsfkFq5lNkzQSTz7+Q+D5VHUEvptvUN7gnPqMkXQPfmIlvwOkFkmHAocCLLv90bTrtkMzHjUIgmCB4Aj8PXdmqdMQwMyy0KMN6fcP8TAbnczsy1S1O7AscH3eaZgYjBskSkPcNUvDIXQ8CIJFmhnAGfkCMxsv6SY8NNGewHW4nhvw6/yJkbS+PhM3ThwMPJGqBqTr2ZnTMLX/Mm0eeaRgLlfghuXDyDkOge3wk5F/NbMZpZ1CwxduBg8ezODBg+f1NCqipqaGIUOGNNquc+fO4TicR5hZpTnDupA2tlXAcKo7fZGFfzs773g0s6+STo4r029kGachpU7DVPaNpD/hdpDt8dOI2Ua/bfF8t5eW9BkpaSy+YaQSBuFRngbmbTCJM/FTMQdQxnEYOh4EwSLKGOB3uIMw7zh8GrgTuFTSOmb2Cn44Bjw/+d8BzKxocwnAtcBFuOYXOQ5vyTsNE8Nwx2HPah4kdDwImkY4DluODdP14dIKM3tF0hRgdUntc8aEGWb2WsFYb6drPtbzpum6laSNC/qsCCwOrIOLd+kchuECW3UC2CAIggWMTdK1sRBGTdXvrP3YgvYzJE2kvgGjWRqexg4dD4JgUeWZMpsqanCjdndJd+Kh694xs5cK2mYa3z1XVlbPcWN4aShSzOwFSY/ioZV+YGbZuv3QdL2y6AFCw4P5hQXJyRk0jJnVAJU6Gasl08wiB+GTuCOuiKfKDShpOeB4fHP1GsD3SpqsWnT/gvDQ4O+BRh2Hktrip1GmA8f5IfF6zAJ+VFQBoeNBECyy/BP4gnSyUJ4HfEP8xF+2vu6Hn0zfOv271rYiqTW+4W5fPNxoezxcaUZe8/OUbtKGYnt5xYSOB0HTCMdhy5GdLplapn4qsBoe8i5zHJbb8ZctvhfPlS2XrsfTMN9vpD4IgmBRoUO6vtNgq6brd9b+f2Xav1dQFhoeBEFQPY3pbXsq03KY+27I+hWOn06dTy8tT1yOh2s6GDhd0sp4vq+JZlbWWB4EQbAA0pBOzpH0QZl+RethJHUA/o2f0H4KuB74ELeBdMBPBS6R61LNuruIZXAn6wpUfkozCIJgkSedMB8HbCNpBWAz3F49xsxelDQVdxxeka5G3U3Zt+LRQSYBI3HdnpXqjqOu5uepZzNP63Ooay8PguBbIhyHLUfmDFwZz5NSyiol7aodv33K4RIEQRA0TLbQXBUoOn2S0VT9zq4rlRlv5QbuERoeBEHQdBrT2xnU1fIiitbieT2flG8sqRWwPDCF+tyJG7H/T9IZeIjUVnj+2yAIgoWJbN1apJOL45vjijbplTvJcTDuNBxiZoNLxtsUdxzmqWbdXUQ2zgQz27DBlkEQBEEpD+Nho/vhjsMvgcdzdTtKWgLoDbxgZtMAJPXAnYYPATvmUwmk3LYnfGdPEARBkwnHYcsxAT+q3YcSw7OktYBOwBvVJCRPPIknme3N3JjSVTH5vJ2b0z0IgmBB4UmgB7AjDTsOm6rfz6TrVnhc/nz79kC3MnNpEQ2H0PEgCBY5NiyTA7ZPuk4ws5mSXgfWkLS2mb1a0rZvuj6TK3sG1/+tKDGIA1tQZjezmX0t6RrgVGBX3BD+KXBTJQ8TGh4EwQLEBDxc6BbU18lNaLpNaa10HVFQVxRydEK6biFp8YJwpX0quamZfSrpBWA9Scvm89pWQ+h4EASLGFmuwX54GpYnzOzLXN0BwBF46Ol8XsJM8+/JOw0TPYGlWmh+2buh4pOIoeNB0DiLNd4kqJDMeHxaOroN1O7C+wP+s/5LM8a/FPgauFjSOqWVktpI6t2M8YMgCBY2rsDDHv1O0rqllZI6pb9m+n1lhfo9EvgI2D/toMszmLkhlfKEhgdBEFRPe+D3+YKkvwfgp0juktQFWBMPRXdh0vCs7fLA79I/8xs+hqfrqZKWzbVfEji3kTkNw40Ul+KnZ24uk4cxCIJgQeb6dD01bZADfO0KnFPFeJPTtU++UFJ34OTSxmY2BXgQ19mjS/rsTgX5DXNcBLQBrk0hU+sgaRlJcRoxCIKgPs/ga+7dgfWo6xzMwpKeXPJvKK/5KwKXteD8srDZq7XgmEGwyBMnDlsIM3tC0gX4MevnJd0BfIafdFkfTyZ+YTPGf0nSQNzY8YKk+/HEs61xYewNvA90bdaDBEEQLCSY2X8lHQlcCUyQNBJ4FQ+ptDEeeqlv0u9PgKWpQL/TjuVD8Vj9j0m6Fc+ddRLuqHwUz32Vn0toeBAEQfU8ChwsqRceFmkVYB98Y8dhZvZJzvE3DTdqPCvpH0Bb4OfAisAFZjYuG9TMHpf0Z+AY5ur/16n/R5TPl4iZvSXpPjy3IUSY0iAIFkLMbKykYcCh+Bp2BK6Tu+JG5HeBb5ow5PV4zu+hkvria/O1gV3wMND7FPQ5Cvhn6rMd8Cx+imVP4N40l0qe5VpJGwFHAq9LGg3sjL9LnsTX738FDm/C8wRBECz0pJy2NfgaGXKOQzN7M0X9WBPfVDc21/Xf+Nr9p5KewG0rK+G2lpfxd0hLMAZ/t1yd3lMzgY/N7NIWGj8IFknixGELYmYnAvvhi99fAsfiP+PTgG3N7Ktmjn8jHuruJuAn+I67X+CL5jvwBXAQBEGQMLOr8dBKf8d3uR2PG3nfp+4Ot4+A6VSo32Z2B7AD8DSwN3MNDBOAN8rMJTQ8CIKgOt7A86l8hOvt3vjO553M7NbU5h3gR0AvPIQouEPwIFzb909r9VIGpXYzgMPwtfxoYBugsbV7dnpxvJk902DLIAiCBZcjgF/jIZkPB/bH81Vti2+8qzh/t5m9y9zQ/Vvg6+HO+Dr4pDJ9XsXDoo4ANsd1+wfAHrizsWLM7Cjc0fhPXOeXxjeYtMc3Cg5tynhBEASLEJmz8BNgfJm6p82sNp94Ci+9Gx4NqiNuZ9kCuAbYHt+I0mzMbDTwmzTeccCZwG9bYuwgWJSRWbmc1cHCSpeT7mvR/+gRFzpYQNG8nkAw/yBpMoCZdWnGGAaMNbM+LTOr8lSj46HVwUJI6HgwT5E0GDgdONjMKk5JUO1aPHQ8WAgJHV+AkbQ2HkHjFjPbb17Ppxqq/QZoSMdDq4NFjNDxYIEk1uNBUEtZHY8ThwVI6iLJJA2X1FXS3ZI+lPSZpHEpPEa+fXtJx0t6WNIUSV9Jel/SPZI2beA+B0h6RtIXkqZJukFSR0k1yQBd1Gd7Sf+QNF3SLEmvS7qwKEZ/EARBMBc5R0t6QdKXkt6RdGk+X0uubcW6Lql/TrO3Su+P7M/gknYjJE1Kuv+JpMcl/eLbffIgCIKFn/z6PVc2PJWtnvT/v0n/J0s6RZJSu59Leiqt9aeld8NSZe5Tu37H8yZ+BTzS0Po9CIJgfkHSbpLGSJqa7AnvShqbwvtnbSZnDrX075UlLZb+Pjjp6vbMPZ13VyqrSfaMG5KWfiHpaUn7F8yjT7ZWlrSppIckzZA0U9Jo1c8jnvVrL+lcSS8nPf8otd+mkXv0lHRfsutYbv3eGehcsn4f3pyfcRAEwYJCspEMyq2Ra20kBe+C/jn93CFp/oz8+reJGl07Xpm5mTw8ar4sewf1kXSQpAmaa1O/VtLKLfbDCYIgchw2wup4CIvn8LwlWT6VUZL2z4VG+hFwNp5/5T48jNJq+HHsHSXtamb35weWdAJwfmp7HR4eaVs89vMMCpB0OjAY+BAPuzcND3f3W2AnSZuaWcVhQoIgCBYxhuKhMaYCw5ibx6oX0Ia6IemaousTgSH4qZM3geG5cWpyf78CeCGNORXPtbgTcIOkH5rZ71roOYMgCIK6/AEPV30v8ACu5WcDbSR9CJwH3A08hq/HjwIWx8Pz1ZJbv3+B505ZAQ99PYYy6/cgCIL5BXmO7quA93A9nI7nf/0JMAC4vEzX44D9kgF3zVR2A66Bo4Db8dzfywBPAB/juQI74KGlb5K0qpldSH16ASfjoU8vw0P4/xTYUtJ2ZvZYbv4dcHvJunjerKHA8ukeD0g6wsyK8s1umu4xDg8xvTx+UnJIejaoG6J0YpmfQxAEwcLGZfh6913cRvIVvk7uCbSmOJToz/C0LaOAK/ENGM3R6Gr4FbAd/u65Hw9/OgDoI6mXmb3fQvcJgkWacBw2zJbAH8zs+KxA0qW4M/FKSaOSo+5FoKOZTc93ltQJeAq4GBeyrHwN3FgxHdjQzN5O5ScBNwP7lk5Enjh8cLr3Tmb2ca6uP74wH4KLZxAEQZBD0ma40/B1oKeZfZjKTwUewTeGvJnrUrGum9lEYGLa3DHZzAaXmcb6ZvZ6yXht8AX3SZKuNLN3mvWgQRAEQREbAT/JNFZ+Gvw1PO/t58BGZvZiqlsCz1c7UNLpZjYtlWfr91nAUnh+l3PxXLg3UbB+D4IgmM84DDcKb5BpW4ak5Rvo9yCwAW6kXSGVzSDlBDQzkx/g/gnuRNzXzL5J456H5wQ/W9IIM5tUMvYOwDFmdmluLrvjmzmuTZvrvklV5+MG6WHA4Zby7kg6H8+3dYmk0WY2ueQe26X2pQbrJ7KTLg2s34MgCBZKJPXGnYavAL0yO7OkU/DNHB2payPJ2Am3S99fUl6tRlfDjmnOE3LPczG+GeQ84P9a4B5BsMgToUobZgZwRr7AzMbjxoEOwJ6pbEapcTmVTwHuALpKWi1XtT/utP1z5jRM7Q1PCD6nYC7Hpusheadh6jcc3xV3QLkHkXSopPGSxs+cWKrtQRAECz0D0vXszGkIYGZf4juQ61CFrjdKqdMwlX2F7/JrBfRrqH/oeBAEQdWcmd+YkdbS9wBtgSsyp2Gqm4XvXm6Dnz7PyNbv55iZzGxlMzslGbTLrd9rCQ0PgmA+YTYFJ0iK1r25ujFmtqOZrQKclYoPMbMLzSw/1hzgxJyjDzN7A7gEP7lyYMHwr1Fy0tHMRgJj8dOHvaF2s90vgE+BkzODdGr/arpHG+CXBfeY2BKnXELHgyBYyDgoXc/O25mTjaKejSTHyIKoes3R6Gq4Ie80TAzG7fj7p42A9QgdD4KmEY7DhnnGzGYWlNeka/esQNLmkm6T9LY8V4ClOM/HpCar5vpn/caVDmxmbwJvl5bj4TW+Bn6eYjrX+YML8AqSlit6EDMbZmY9zKxHu247lH/iIAiChZMN03VsQd04Cgy+TdT1RpG0mqTLJL0k6fPceCMqGS90PAiCoGrGF5S9m65PF9RlTsZOubJq1u/5NqHhQRDMa27CN0z8V9LFkvaQtEJjnZrAW8lRWEpNunYvqHss72hsoM8P8bk/m98EmOPhBu7xVOFsm0joeBAECxll17bAk/hGkyKKNLU5Gl0N9ew6ZjYDP1SzJHU3/+XbhI4HQROIUKUN878y5e+la3sASXviJ1C+xMN4vA58BnyD51PZCsjvdmjfyPj/A7qUlC2H//c6vZE5fx/4oJE2QRAEixplddfMZksqDUnaVF1vkBTi7ik898tjeI6tGbjDsgu+26/i8YIgCIImUZR/cHYFda1zZdWs34MgCOYbzOyitOY9Eo9odBxgksYCx6foSs2hIvtJlX2y69Qy7bPyDg2MFQRBEMylIRvJHEnlbMtFmtocja6Gat43QRA0kXAcNsxKZcpXTtfM0HAmniugRz7UEYCkq3ADc55PcuO/UOF9ZwCLmdmyjU06CIIgqEem1ysBdXKrSGqFJ+2ekituqq43xq/xDSADUnjp/Hj7MTdMSBAEQTB/Us36PQiCYL7CzK4HrpfUAdgMT78yEBgtqauZvY9vlGtTZoiGjL6V2k+q6TOjpLyUVRq4hxWUBUEQLOrk17alNpLFcfvFO6WdKNbUajQ6O21ezzeR3lENUc37JgiCJhKOw4bZUFK7gnClfdI1i6e8FvBCgXF5MWCLgnEn4Av0LZh7XDvr0xn4QUGfJ4GdJa1nZkXGioqZfN7OzekeBEGwIPIMHq50K0oWxbgWL15S1lRdB1/4lo6THw/mhiXN01QnZOh4EATBd0816/dCQsODIJjXpHxW/wD+kda3A4Et8bXqR8BPJLUuyWEI0KOBYVeT1MXMJpeU90nX0nxUAFtIWqwgXGlpn5eBz4ENJHXI5+NK9E3XZxqYXxFzKO8kLUvoeBAECwET8NChW1DfRrIJTfMZVKPRH6Vr0Rq6oXcNuA3l+nyBpPZANzxq1ItFnfKEjgdB40SOw4ZpD/w+XyCpB3AAvnvhrlQ8GVhbUsdcO+GJWdctGPdmPATSMZJ+UNLnXIoNzxen69X5++T6fk/SJhU9VRAEwaLH8HQ9VVLtyW1JS+K6W8pkmqbr4GGiyxmOJ6drn3yhpO2BgxuaeBAEQeBIOlbSfyV9kfLEHvcd3r6a9XsQBMF8g6S+SbNKWTFdP0/Xp3CD8W+T1g5P/fsDmzdwi8WB85MjMrvn6nhY1NnAjQV91sZDp+bnuTtuFH4ND/GPmX2F52hsh0cGybdfM93ja+CGBuZXxAfACpKWamK/IAiCBZ3M8XZqcroBIKkNcE5TBqpSo8fjm6/3l9Q2135Z4IJGbnmgpNJ8iYNxO/7fzGxWU+YfBEExceKwYR4FDpbUC3gcP1q9D+5wPczMPpE0Gc8r2A6YIGkELoabU8a4bGavS/o9LsTPSroVd0RuCywLPAv8pKTPGEkn4YaJVyX9A3gj3bszvrAeB0R21yAIghLM7HFJfwaOAZ6XdAewFO60+4D6sfgvBq6kWNfvBXYtuM0YYF9J9+I76b4GHjWzR4HLgQHA7ene7wLr45p9G/5uCYIgCMogaV/gT/ju6KHALDwix3dCNev3IAiC+Yy7gE8lPYlvahPQG9gYeBp4KLX7M75uPSv9u4ekh4BNgb8Du5QZ/z9AL+BpSQ/gYU33TtcTzOz1gj7vAH+W9FNc09cCfoqfGBkIPCxpKzMTcFKa79GSNgYewdMN7I3bY442szea+DMZk57/fkmP4u+WZ83s3iaOEwRBsEBhZmMlDQMOBV7I2T12xde47zI3nGglNEmjzWyqpJuAA4GJku4DlgZ2wu3xpY7BPKOAxyXdhqd9mYE7DSeneQRB0ALEicOGeQOP+/8RcDguds8AO5nZrbl2n+IL66m4YB0AvI0vmi8rGtjMzgV+CbyZ+v4ffpR6c9yh+0lBn/Px8CH3pXbHAT8HVgWGAac152GDIAgWcgbhjsMZwGHAbql8NJ7PsBYzu4ryul4uBNIg4G9AT1yPzwS2TuP9Bw/P8QSwM3AEvij+Ke6gDIIgCBomM1TvYmYnm9lgM/vOHIdQ3fo9CIJgPuIk4N94+P4jcR1rDZwI9M3CkprZf4Ft8NMgAOvgDrVNcQdjOT7C7ScvpLEPwm0qB5jZhWX6TE/XNsDRwI54OOgtzeyxfEMz+zDN4QI899avcXvIU8AOZnZ5oz+B+pyFr8XXBE7G1+97VTFOEATBgsgRuJZ+itu998c3kWyL2ysqXttWqdGHAH8A2gJH4YdiLsHtLw1xMf4e65b+3RaPMrWZmU2rdM5BEDSMzCJPdCmSuuAL3OvMrH8jbScDmFmXFrr30sD/gIlmtmlLjFlKl5Pua5H/6BEPOljAKQrTEyxCNEXr5zeq0fHQ7GAhJHR8EULSw7hhe777797U9XtoeBDUMt/9PgdzaaJdxICxZtanwrH74KdRngU2AFYvyI2IpBpgq/lN+xvS8dDrYBFjvvrdDFoGSWsDrwC3mNl+83o+GZIGA6fj3wQ1qaxJ75+Mam3jofHBQkhZHZ8vThzKOVrSC5K+lPSOpEsltZc0OXPOpbaDU5z9PgXjdMnH4C+payvpZEkTJX0m6VNJ/5TUkADuJOn9NKe3JY2WtE8ar08Sp85A53RfK71/+ndNwXzWkHS+pJfT+B+lcB5/A5Zkbv7E2nulZ+8m6T5JH0v6XNJYSZs1+kMOgiAIakkLzixMxkElGt6/RHd7Jt39MJV1SWMU6nuqG55vW1LXS9Idkt6T9FV6v1ylgvy1QRAEizrZ2h8/tU1er3Nt+km6P+n0LEmvSDpPuXwtubY1qX8bSb9Pa/FZWPI95AAAIABJREFUmpvDK6tvnepfT2v1lyX9SlLr1O5wSc9J+gIP5bQkcPd38CMJgiD4zpHUVdLdSWc/kzRO0nYlzTJ7TJ+C/uVsNRuk6xs5fZ+ctcdPn9TR/tL1t6SNJI2QNC3p+ZuSLpe0SsE8atfokg5LOv6lpP9JGlb03giCIFhYkbSycnlpU1lbPC0A5GzTzbiHJA2S5ylv0Oaf67OfpEeS7ftLSS9KOo1cTvFkt8m+B7YqeU8Mbu68gyCYf3IcDsUTpU7FQ25+DeyOh4RrQ0kIuaYiqQMe7qI7HmLuWtxpuj1ws6T1zCwf5vP4dF0KTxY7A89vuDF+zPpWPG7yEDxcaPYMGRMrmM+4NOaHqX0HoF+a19t4XoFSegAnAP8ErgFWw8NojJHUzcxebui+QRAEQS01uO4Ownc65429mSaDh9o4Gdfsa/EY/VW/kyQNxN9zs4B7cL1fG8+1uKukTczsrWrHD4IgWAipSdf++Ia9IflKSYcBVwCfAbcD04A+eOi9XSVtbmYfF4w7Al/bj8LfAaVhjW7Bv0X+gX+b/Ay4CBgi6R2gC67hXwDLpD7zy7dVEARBS7I6boN4DrgKt2PsA4yStH9JGpem8j9gJTyHbabVH6c/QyjW/snZXyTtguu5gDvwUNIb4eH3dpe0RZm8hxfg9qB7gQfwzSmH4DkWt27G8wRBECxIHAfslzZkTAVWxm3TnfA18u0tcI/LcE1+F7eFfIWnjemJh8v+Ot9Y0rV4uOspuL5/DGyCh5KenGs6EX83nI5r//BcXU0LzDsIFnnm+cet/LTcscDrQM8UExlJp+KhK1bBBaA5DMWdhiea2QW5e2c7g0+RdIeZZQ6//dP1bjM7qmS+ywOkMBqDJfVP/x7chPmcjz/XZFwka3fZ4eK8UvozuaTfzsAAMxuem89heEz+QXh85yAIgqARzKwm7WwbhIeWG5yvz+2U3g44POU8bBaS1sH1ejIecumdXF0/3GjxJ2DP5t4rCIJgYSGFIapJutw5r9eSOuN5UD7FvyNeytVdjhspLgAOLRi6M7C+mU0vqAPfoLd+5nSU9EfgZfxk4dq4keMH+Pr9L8BA4DhJ55vZ7GqfNwiCYD5kS+APZpZtsEbSpbgz8UpJo5ox9nu47WNoQajSwUXan5vD94HrcLtWn3xOREknAufhjs7Sk5HgRugfZxv2JLXCN5v3ldTTzJ5qxjMFQRAsKDyI26S3A5YFZuMhSi/BdblZqa4k9cbX468AvXLr6lPwXIodydn8k419AH7S8QAz+yJXNxh3EgKQbPgTJZ0OTG6iXT4IggqYH0KVDkjXszOnIYCZfYmf8mgWkpYDfgGMzzsNc/c4Ed+dtn+u6hvcsHtw6XgNGBcqnU+bNJ9PgY3MrJOZLZX+rAVciJ+y/GVB98fzTsPEtbiw92zkvodKGi9p/MyJ9zfnEYIgCBYlJraE0zBxBL5ZZFDeaQhgZmPwE4i7SmpX1Dl0PAiCoB6/wNfNl+adholTgZnAgZKWKOj7u0bW9SflTyqa2STgMVzHD82t39dNxvR78FPpqxYNFhoeBMECzAzgjHyBmY0HbsKjdOyZchAOr3RAM6tJfRqM1tQIu+OG7lvzTsPEH3GbzraSVivoe0Y+ykfa8PHX9M9C20roeBAECxtmNsbMdjSzVcxsCTP7npl1N7MLzezrxkdolIPS9eySdfVXFNv8B+E27oF5p2HiTOAD4N9ZfsOmEjoeBE1jnp84BDZM17EFdeOAOc0cf2M8BnK5GMet0/VHubKbgGOA/0q6Lc3tn2Y2o5lzAfgh0BZ3An5YUP8wcBp+QrKU8aUFZva1pP8xN0RSIWY2DD8SXnUC2CAIgkWQltxtvGm6biVp44L6FfH31TrA06WVoeNBEAT1yL4jHi6tMLOPJE3AT8p0xcNS52lM3+utu/EQS1Cg0UC2IaQTBdFSQsODIFiAecbMZhaU1+BG4e74yb/vmobeAbMlPYqHle4OlKYCKNL4t9O10LYSOh4EQdBkMtv2uIK6J3EnIVCbW3EDYDoexaNovFnUtd83idDxIGga84PjMEs+/b/SirTYa9YJP2C5dN04/SnH93N//xUwCT8NeVL6M1vSP4DfmNlrzZhP9rxTy9Rn5R0K6orys4AL7eJl6oIgCILqea8Fx8reR8c32Kru+ygIgiAoT3PW1Q3qe5kNg5lxo6G61gV1QRAECzL1bDWJTEfbl6n/tmlp20qm42FbCYIgaBkasvnPkfRBrmgZPCLgCuRCkgZBMO+YH0KVZh/eK5VWpDjzy5cUf5OuRU7PogVhNv7FZqYG/vTNOpjZHDMbamYbpHnthcdX3g24v0y4o0rJ5rNymfpVStoFQRAE846GdqEZ5TfgNPQ+at/I+6joBH4QBEFQn6rX1c3N2RIEQbAIUc9Wk8i0N9PYptpqmkvYVoIgCOZvPknXIpv/4szdXA1ztXpCI/aSwqOIQRC0PPPDicNn8BATW+Gn/PJsQf3dXh+l6w8KxupRUPYUvoDtXc3kzGwacCdwp6QxwNbA+swNUTQHz61SKS8DnwMbSOqQj/GcyByYz1Qz30qYfN7O39bQQRAECxJZKOxqdxV/RMG7KC2AuxW0fxLYCH8f3VflPYHQ8SAIgsQE4KdAH2BMvkJSB1yLvwRe/M5n1gCh4UEQLGBsKKldQbjSPuk6IV2baquBxtfjc8DX12ZWmsYmu28f4C/5irQJPbMBtbhtJXQ8CIKgIibg4Uq3oL7NfxNyfgkz+1TSC8B6kpYtk96riG+owqYTOh4EjTM/nDgcnq6nSlo2K5S0JHBuQfssH8mAtBjM2v8A+H1p4+T4uwnoIel3yaBbB0lrSlo9/X0JSZsXtGmNJ94Gd/xlfACsIGmp8o9YZz5fpfm0wxO71pkHcCzwNXBDJeMFQRAEVfMRfmpwtSr7PwWsJmm7kvLTgM4F7S/F9f1iSeuUVkpqI6mqTS5BEASLKDfiunqMpLVK6s4ElgZuNLNZ3/nMgiAIFh7aU2JrkdQDOAA/IXJXKm6SrSaRhakrtx5vqP5u4ENgP0mblNQdB6wOPGRmpfkNgyAIgu+G69P1VEm1Ya0ltQHOKWh/EX4459q0CbAOkpaRtGFJ8QcUb1gJgqCZzPMTh2b2uKQ/A8cAz0u6AzcA7I4bdaeWtP9XSnK9JfCUpIfxI8+7AqMpFoujgbWBM4ADJY3D4yt3xJOqbgzsB7wBLAWMk/QafqrwTWBJYNvU9h4zy+9aHpP635/mNQt41szubeCxT8J3vx0taWPgETwk6964Q/FoM3ujwR9cEARBUIikLrieX2dm/cu1Szva/gX0lnQT8Aq+q/meCm/1B2B7YKSkW3HDxWa4kaKGubuws/u9JGkgcC3wgqT70z1b48aQ3sD7QNcK7x8EQbBIY2aTJR0HXAY8I+k2XEe3AjYFXgJOnIdTDIIgWBh4FDhYUi/gcTwE6D74RvTDzOwTqNxWI2k4cBC+Zh6D5/++WtIIYCbwsZldmu49Bvg5HgHqH8AXwJtmdkNayw8EbgfGSrodeAuP8JFt7GvXhOfMIob0aUKfIAiCoAxmNlbSMOBQ3AYyArf574pvPHmXuWGuMbNrJW0EHAm8Lmk0ruvL4u+MLYG/AofnbjMG2FfSvfgJ86+BR83s0W/7+YJgYWeeOw4Tg3Dj6VHAYfhugbuAU4BnC9rvDlyYrscArwInAA/gzrc6mNknkrbChWp/PGfhkrjz8FXgV8CDqflnuIGhL24A3gNfvL4OHIEbfPOchcfr3xXYHD8efR1Q1nFoZh9K2hQ4GQ+v9Gt8AfwUcKGZPVCub57cgvsd5ibyDoIgCCrnQOBiYAd8A4mAKcDkxjqa2RhJe+A7qPfF3x8P4oaUIWX63CjpWeA3+HtmB/xd/A5wB3Br8x4nCIJg0cLMLk8b/n6Lr/HbAm/j3wrn5NMCSDIi11UQBEFTeQM30p6XrkvgxtkzzGx0Sdum2mpGS/oNcAh+SrANvnk7cxxeg0fy2DeN0woYS4rQZGYjU8SoU/ANfe2B94Ar01y/bPbTB0EQBM3hCHwz32G4Ludt/lNwe3stZnaUpFGp7Ta4zf1D3IF4IR5xJM8gPJJUP2AnfFPLEHzTSxAEzUBmNq/n0CCSJgOYWZd5O5P5j/xOPTObXGm/Lifd1yL/0SMedLCAEwmVF1JSaOk1gRlmNrWx9vMSSf3xHXMDzGx4pf2q0fHQ7GAhJHQ8aBLJcTjWzPrMy3mEhgdBLaHjiyDV2jGquE9X4PNKQ5VK6oNHgxpiZoMbatuQjodeB4sYoeNBVUhaGz9EdIuZ7fdd3z/W40FQS1kdn19OHAZBEARBi2BmX+M72oIgCIIgCIIgWAQxs/geCIIgmMdIWhmYZmbf5MraAkPTP+8q7BgEwTxnsXk9gfkRSd+X9JWkx0vKl5L0pSSTdGBJ3RGpfGD690aS/iTpWUkfpn6vSvqjpGUK7tk/9e8vqa+kGkkzJX0i6T5JPyppb/guPYA3Ul/LTmgGQRAsqkjqkvRweK5seCrrIukwSc8lXf6fpGH5RN25PpPTn/aSLpX0TurzX0nHSlJJ+z7pHoPLzGtyXqMl1eCnDQH+mtNxS3kagyAIFgok9ZR0a9LRWZKmSnpA0t4l7XpJukPSe2kt/rakqyR1LBizJullK0mnpHX2rNTnfEltcm37p7UzwFYleju4BebQRtLvJb2c5jC8RX5wQRB85+TXkenvt0iantaA4yXtUtK+vaTjJT0saUrSjfcl3SNPT1J0D0v6sZKka9N69DNJT0jqndp8T9KFkt5MuvKCpJ83MO/9JD0i6eM01xclnSZpiYK2e0i6UdIr6b6fSXo6rW/r2YiqWUenfttIeiyN/6Gku+WnABv7ua+T3hnTJH0jPwmIpMUkHS7p35I+TeP+W26LKZq3pfV2aflKkv6S5v+FpImSDiptFwRBEFSHpL0lPSppBp5C4Mv0nrkwrZNfxsOKfgFckHvnvZXeea9JOlFS4UmopqzXgyConjhxWEBKsv0U0EtSOzObmao2x+P5g8dOviHXrV+6jknXQ4A98fj7D+FO2o3wfIY7SuqVGzfPLng+gFF4XP51cTHdWNK6ZjY9tRuC51/cAPgTkOVv+ZggCIKgHBfg+U/uxXOt9MX1ei1g64L2bXAN7wDckv69F667P8Rz81bLcFyzdwdGAhNzdaHlQRAsFEg6BLgCmAPcg+e7WhHoARwJ3JbaDQSGAbNSu7eBtYGDgV0lbVIm3NzNQG987fwJvm4+Id1jQGozEV87n47nzhqe61+Tm2u1cxgBbJzmcDcwrYIfTRAE8zedgaeASfh3/7J4HuuRkrYxs0dSux8BZ+O5lO4DPgJWA3bDv/t3NbP7C8bvADwOzAT+lsbfFxidHI5XpbK/A63xXNy3SnrbzJ7MDyTpWlzvpuB69DGwCXAm0E/StmY2O9flPOAb4F94nu32+Dr4T7iW1dkknaPidbSkn+G5u79K16nAFsA/gf+UGR883cC/8PB1NwFL4doO/t9hf1ybr8FzWu0JXJ7GPqCBcbN5LQ88AawBjEt/VsFtLw801j8IgiBoGEnnACcD0/F1+rL4+nxDoDvuLHwFuAS3p7QGRgMd8bX0bNzefR6wJL6Gz49f7Xo9CIImMt87DudhbsOHcUfhlvgHALhzcA7uDMwchaTdbX2BSWb2Zio+FzjKzObkB5X0f/gi90jg/IL77gFsb2Zjcn3OBU4CBuKLdcxssPxEygbA0MZyA0g6FDgUYNntj6Zdtx0afPggCIKFlE2AH2cLSUmtcL3vK6mnmT1V0n4V3GC0vpnNSn1OB/4NHCnpVjOrKum2mQ1PG+h2B+5uLMdh6HgQBAsaktbFDbqfAL3N7IWS+k7pug5utJ0MbGVm7+Ta9MONuX/CDcSlrAmsZ2YfpvanAs8Cv5R0spm9Z2YTgYlJvycX5a5q5hw64++J6QV12Rih4UGwYNEHGGxmtQZLSTcD9wPH47nwAF4EOpb+/id9ewq4OPUpZQPcOXhkFr5N0oPA9Wnsx4E+ZvZlqrsBd06eSE6H5PmyB+Ch3g4wsy9ydYPxDRNH4fqVsbOZvV4y38XwSBi/lHSpmf2rYM4VraMlfT892ze49o/P3edi4LiCsTO2AM41s1NK5rcf7jScAGxpZp+m8tNw+8z+ku4zs5sbGBvgHNxpONTMfpUb/1LcqVmW0PEgCIKGSRtfTsadeT3N7L1U3gp/T+0CnG1m56Tyo3CH4bPAttk7TNIQ3Ln4K0nnpHQ0zV2vh44HQROJUKXlyRx3/XJl/YCngTuBTkmwALrhOyhqnX1m9map0zBxLW482b7MfW/JOw0Tw9K1Z+XTr4uZDTOzHmbWI4QxCIJFmDPyu8/S7ussXGg5jT05cxqmPh/iO7hh7mmWb53Q8SAIFkCOwDcqnlnqNAQwsym5dq2BQXkDQGozBt9NvKukdgX3ODFzGqb2n+GnVBbDTzU2Za7VzuF3DTkN0xih4UGwYPEmcFa+wMxGA2+RWzOa2Yyi3/+kb3cAXSWtVjD+58Dx+ZxP+MmM2cAyuBZ9mRvvMdxQ2q1knEGpz8C80zBxJvABJSfxSp2Gqewb5joXy9kq/p+9+w6XpSrzt39/QXCMBJExiwkDjoo5ITAqYsSIYiKY0RFGR0XFEV4TOgacMTsyKIKiYkIMzIBHTKgo4A8wIgcRUDIIkn3eP1Y1p+jTvXM4++z7c1376uqqVVWrG87TVeuptdZUr6N3oLWPHNJPGnb2AS4ec3yAvzDUu6SzW/e61yBp2NXhMloyFVpvk7GSrEf7Lv7a1eM6XT0Pnmh/47gkTWoQq98+SBrCdb8Xr6U9UDIqVr+6/xtWVefQRmXagDbS08BsrteN49I0rfE9DhfRj2ndpx8Nbe4CWrfq99CeqqPb9ltWDcsxWD+4KH0ZbbiRe9GCXT9Re9sx5x2+sIb2pAa0GwhJ0sxNN8ZeQxvOaNiK7nXLOaiTJK2tHtq9fmuScoN5wLZO8qAR2zcF1gU2pz3E1zdX186zqcNwb3VJS98JYx4EPoNV8QKAJI+gJfAeRosV6w/tc1tawrHvt8NTl1TVtUn+Atykqv4w4txnAg/pnffGtJ6L5wF7jpkK6kracKr9+t6C1mvyCbTedzcZUd9Rphpv79+9fm+4cFVdnOQEYOsx5zix/8De0DH/Tm946Z7v0UaGmuy6/B7AjYHvV9Wo5OUKwLkOJWnmBvH/6OENVfXbJH8C7pRkg14cvriqfj/iWKN+X2ZzvS5pmkwcjlFVVyX5AfCYJLcEHk4LPkdV1a+SnE1LHH60ey2uHxgPpXWN/gPtKYk/0y7aoQ3Nsdok5Z3V5rWqqmu6m4B1Z/u5JGmZGzV34GDOl1Ex9rwxjUaDp+c2mJNaSdLaacPu9cwJS8EtutfXTVLupsMrqmq6cX3O68Cq3wRJa49x801fQ++B4CRPo/UsvAL4X+BU4DJakmsbWoJs1L3/uF5310yyrd+GsxEQ4Ja0IUknlWRD2pD7d6I99PAZ4ILu2BvSEqBTbqtgdLwdXB//ZcxxJoqZ47ZtAFxQVVcNb+jaS86jNRhPZDb1kiRNbhBnzx6z/WzaPMAbsuq3bqLfW7j+78tsrtclTZOJw4kdDTyWlhh8OO1m4Ie9bY9PckNgK+Dkris1SR5ISxr+H/D4/kTk3dwBr1+wTyBJmo1Nkqw7Inl4q+6137AzGGpq3G/rhoy/KJaktdEg5t0W+PUE5QaxdIOqumR+qzT3daiqmof6SFoa3gZcBTywqn7V35Dk44zvWTcXBnHr+Kq6/4QlV3kxLWm47/B8r93cVHvMYb3+ccz2W41ZD+2B7HHH3DjJeoO5rga6ubM2oU0JM1/1kiRNbhBnb0V7kGbYrYfKzfT4i3nPIC0bJg4n1p/n8GHAj3rzDBxFGx//FbShPfrzEt61e/16P2nYeTBwozmq36Ahe1o9EVfu98Q5Or0krfVuQHtw5PtD67fpXo/vrbuwe7398EGS3JX29N1w4tA4LmltdixtnsHHM3Hi8FjgAbSH8Y6Yx/r8nfHxdqHqYAyX1i53pT1EPJw0XAd45HyeuKouTXIysEWSjfvzvU5g0FZx2Ihtc5Xk/EXveAf0N3RTwAzP0zgVx9PaZR7F9dte6Nat2zvvOL+mzS15v6Fh8ga2mWpljOOSNNLxtOFKt2Eocdi1idwOOG3MiCFTMWfX68ZxaXLrTF5kWfsF7WmGHYAtuP4F6mBY0jcOvYc2aTkMXXgm2RT48CTn3CRJJTlwCvU7v3t9SbfPLlPYR5I0Pe/qepcDkGRjYO/u7f/0yv2a9qTzDl28H5S/EfCfY449iON3mLvqStIa46O0YYbekuRewxuT3K5b/BBwNfCBJJuPKLd+kq3moD7nM+LhjgWug6S1QJJBz7iVwN2S3Ka3LcA+wGpxbxrH32yK7QLvp82peECS3YfbBZJslKTfG3Fl97rN0Pm2ZFXbxmx9jfZA3XO70Zj69mH0UP+D34NxydZBAvJd3dyOwHXzPO7Xvf3URJXqeioeDNysq8d1uno+b6L9JUmTGsTqvbtpvwBIsi7wXloe4lPdugOBOzK9Tk1er0sLyB6HE+gmJ19BSxxCL3FYVacnORW4C63HSH/i75/RhjR9epIfAT+gDYfxeOA3wFlzVMWjaOM679q9f3KSm1bVh+bo+JK03J1Nm+flpCRfB9YDnkkbYuMjVXXMoGBVXZ3kg8BbgOOTfIX2O/tYWtwfFfuPoPWA2TPJLVg1t8p/jXgKWpKWlKo6JcnuwMdocfFrwO9o85M8iPawxbZV9esku9EaG05O8m3gt7SYewfaU8XnAveYZhU26Rr3P11Vu9CunZ+T5HDaA4JXA8dU1THzWAdJa7cPsCrGHUaLK4+gJQ0PB548nyevqgOSPADYHXhMt/pZSR5OG5L0UbQH3V7ebfsMrQ1h/yTb0mLy3YAnAV8Gnj0Hdbo0yUuBQ4HvJzmUdk29F+1hkmO6ek3nmIck2QHYkRajv0ob1vSptM95aFUdPIVDvYnWc3HPLln4A9p1/bOBbwJPmU69JEmrVNWPkryHNkXXSUm+RJv39/HAvWkx9z9mcXyv16UFZOJwckfREoeXAMeN2HYX4Of9Bt4u4fgU4O3AE4BXA2cC/92tO2UuKlZV30nyWuDfulVPp3XZnjBxuNlesx99yS7dkpaJq2iNMO8EnkObP+UPtCeb/2tE+bfShkB6CfBSWiLw87SnmsfF/pNpF9O70Ia+BvgsE4z7P5M4btyWtBiq6pNJTqJdr25Da+Q9D/gl7dp4UO6zSU4EXgtsC2xHi41nAV+iNUDP1h60huZH067R1wH2pTViL1QdjOHSWqSqPp7kSmBPYGfgctoQ97sCz2DmicMzgXsyhXmgquqVSb5Fa2u4L/A4Wpz9I62B9rO9smd1vTH2o/Xuexxt1Izdgf9jDhKH3Xm+lGR72rXxjsCV3abjgdNYPXE4eHju5xMcdifaA9u7AS/r1v0KeB+th/tU6nVekkfQru2fTBtO+ze0KWhWMsXE4URx3HgtaTmrqjckOR54FfBCWlLvVNqoTe+rqqtmefw5uV73elyaXKrGzT2txZBkM9qF9ODJ6KnsswvtKcJdq+rAycpvttcRs/6PbrDUWiCLXQGt2ZKsBKiqzebxHAV8r6q2mc5+M4njxm2thYzjmtBMrqsXgjFcus6SjOPdqERbV9UaVf/ptgsstJle966JJorjxmstM2tUHNTS0Q1VujNwp6paudDn93pcus7YOO4chz1JHpzk0CRnJrkyydlJjkyy41C5HZMck+TiJJcn+X9J3tifA6tXtrobi1HnO7DbvtkU63fXJF9McmGSy5L8KIlRS5LmUZI9kpyS5Iru9+FDSTZIsnKQXBwqv1OS7ya5qNvnV0n2HponcZfe3Dhbd78Fg799FuijSdJaq4ulp3Vvdx6Ks7t0ZdZJ8vIkP0tyaXd9/bMkr0iy2n3S4Lo+yW2SHJTknO5e4OdJnrtwn05Sdy11WJI/dP8OL0nywyTPH1F2Rffv9wZJ3pTkd939/hlJ3p1k/THneE737/vy7t/7QenNZThUdpvBdVzXrnBEkgv69/tJbphkr6794G9dnb8/3N7QlR07x+F02wUG16xJbp7k/d3y1YNrzonaJfqfa6bf6VSue8d93l7d7pTkVb1r8pXdedOVe1aSn3bfxzlp1+s3GvN93KM77hlJrkrylySHJLn7uO9QkpaTTLHde7Lfl67MY7rfusu638WvJplwKNEkD0nypSR/7uL0GUk+Puo3uPd7tH6Sf0/ym+736MC5+j6k5cqhSjtJXkIb3uJa4Ou0sf43pQ1dsTvwha7cO2mThp8HHAJcShur+Z3A45JsN9tu12Pqdzfgx7Q5Yb4FnADcFfhq916SNPc2BvanDXvxCdrQpU8BHkwbcuPqfuEkB9CGpvoTcBhwEfBQ4G3Ao5M8tqquocXwfWnDN50OHNg7zIp5+zSStHysADakDU96Iu2aeeCE7vUg4LnAGbRhUwt4GvAR2hB+zxtx3I2AH9Hi+/9059gRODjJbatqxvO2SJqWj9KGez+GNn/eLWhDEB+U5O5V9ZYR+xxCm//oW7SpSJ5Am4dpU9r123WS/Cvwftq/9c90r4+j/fufaPjQh9HaC35Am4NpE+CqLpH2HWBr2tCgHwZuTJs7+9Ak96uqN032oWfRLrA+cDTt2vbI7vOfNkH5qZrKdzoX173vpQ13fTit/k8B3gGsn+QC2tCrX6UNE/tY4JXAurQhSK+TNnzql2nX8YcDvwduR5v25YlJtq2qX0yxTpK01plBu/fY35ckz6QNHXpV93o27Rr7x7RpC0adfzda28uVtPb5M2hz8b4YeHKSh1bVH0fsehhtDvVv0X4PzpnZNyBpwMQhkORetAaCS4Ctqurkoe23614HNwFnAA+uqj93698IfIU2ofi/0YIhdDKEAAAgAElEQVTpXPsw7eZgz6r6YK9uO3D9hhBJ0ty4IXAz2mTbD6mqiwCSvIk2B8xtaI0fdOt3oTWQfAV4XlVd3tu2D62x5JXAB6vqBOCEJG8FVlbVPgvweSRp2aiqFWm9wvcAThiOs0l2oiUNjwceVVWXduv3ps2h9dwkR1TVIUOHvg/wReA5VfX3bp/9aPNyvSPJYVX1h/n7ZJI6966qU/sruuTct4C9knysqs4c2ucuwBZVdUFX/s20BwtemOSNvfv7zYB3AxcC9x8Modbd93+RlmQaZzvg5VX18aG6vZGWNPwW8JTuQTKS7Av8FHhjkm9U1Y8m+dwzbRe4NW2+7a2r6rJJzjEdk36nc3Td+wDgPoP/pt219e+B19HmF39AVf2q23ZDWmzfLclbq+qcbv1GwOe68o+qquvmH09yb+BY2kMk959B/SRpyZthu/fI35ckNwU+Dvyd1tZ+XG/bB2hzAw+ff3PgY7Q5Z7fu/44neTQtMflB2oN+w+5IuzY4b9ofXNJIDlXavIKWRH3bcNIQoKr+1C3u1r2+fRA8u+3X0CZl/TvtCYg51SUuH0t7YuNDQ3X7Gq1xY7JjvDTJcUmO++sJ357rKkrS2mgwW/Y7BklDgO7pujeOKL8HcA2wWz9p2HkbcD6je69MiXFckubU4Lp+r0HSEKBr8HhD93bUdf21wBsGScNun9OA/6T1YHnBqJMZw6W5NZw07NZdRUus3QB49Ijd3jBIcHXlLwMOprWLPLBX7nm0f8//1Z93qft3/zraff84JwwnDTu70Xo1v2aQNOyOeQ7tOhEmaUuYg3aB185x0hCm/p3O1tv6DcjdtfnXab02PzpIGnbbrqT1bFkfuGfvGC+k9RJ/az9p2O1zEvBJYMvuwfLVGMclLQMzbfce9fuyA60X4iH9pGFnH0b33n8F7fd3j+GHf6rqKFrcf3KSm43Y9y2TJQ2N49L02OOweWj3OtmQn4Mnz44e3lBVv03yJ+BOSTaoqomGL5muLbvXH1TVtSO2r6A9vThWVX2C1tV7RhPAStIydF3sHbHtWFqSEIAkNwbuSxvOY89k5NzCV3L9xotpMY5L0py6P63xY8WIbd+jJQi3HLHtj12icNgKWs/yUfsYw6U5luQOtCT/o4E7AMPz2d12xG7DDZfQelVAG4Z4YHDfv1oirqr+kOQMWs+GUX46oq43ow0nemZV/XrEPoP2hZHxo2c27QJXMGZYuFma6nc6H+c5q3v9+Yhtgwbn2/XWPax7vW9Gzym+efd6T1rvmesxjktaBmbS7j3u92Wi39KLk5zA6r9Zgzi9dZIHjTjmprRhqDdn9di/2u/viPMax6VpMHHYbNi9Dg9lMmyD7vXsMdvPpt20bMjE8x5M1+C8fxmz/c9j1kuSZm5s7K2qa5Oc31u1ERDglrSGY0nSmm0D4IJRc5NX1TVJzqM1Tgyb7Hp8gzHbJc2RJHemNRBuRJvT7kja/fe1wGbAzrQh56+nP4JEz+BBsHV766Zy/z0ucTjq3nwq7Qiwql1inNm0C5xTVXPeSDqN73S2RrWvXDOFbev11t2ie33JJOe66TTqJUlrk5m0e4/7fZnJb9YgTr9uknqOitO2jUtzzMRhM7jYvS1tovJxBkHxVsBqQ6PQxnXul4M2HMm473myG4Ph8/7jmO23muJxJElTd0n3+o/A9earSrIu7aJ28MDJIE4fX1XOiyJJa76LgY2TrFdVV/c3JLkBsAmrfgf6Jrsen8uHByWN9hraddiuVXVgf0M3f+nOszx+//57talMmPj+e1Tjab8dYZRR7QiT1WuU6dZrYDD06qh2i6m2WSwFg+/vvlU1H70vJWmpm2m790THms5v1mCfDapq1HX4WPPxcIy03Jk4bI6ljb//eCZOHB5P62q9DUMBNMldacNgnDb01N2FwO2HD9Q1Ot9vivU7vnt9ZJJ1RwxLss0UjwPAyv2eOJ3ikrRcHU8bEuqRDCUOaUNcX/cbWlWXJjkZ2CLJxv25Xibxd2bwNLZxXJKmZHDNPCrOHk8b4vBRwFFD2x7V7fOLEfvdIclm/XnPOtv0jjshY7g0a3ftXg8bsW3CKTym6BfA07tjXW+4tq6342r39xOpqr8mORW4c5K7VdXvhops2zvvROa0XaDnwu719sDvh7bN5TyFM7runUPHAs8AtmKWw7YaxyWtpWbS7j3O4Ddta+CAoWNtwOg28WOBB9Di9BHTqfh0Gcelya2z2BVYQ3yUNpTFW0ZNhN1NQg6rAt3eSW7Z274u8F7a9/mpod1/Smtg2G5o/d6MH97keqrqT8D/AncCXjVUtx2Ym5sjSdL1faZ7fXN3YQtAkvWBd44o/35gfeCAJKs9nZ1koyTDvRHPZ5qNT5KkKbuQ9hT0HUZsG1zXv6ubpxa4bs7a/bq3w9f10Bq9351knd4+dwJeTbuf+Owc1FvSxFZ2r9v0VyZ5HPDiOTj+wcDVwL8k2ax3/HWA/2Bm7SgH0Ia1/4+u/WBwzE2At/TKjDWP7QKDeaGuN4Rnkn8C9pjhMUdZ7Ove/6GNNvXWJA8e3phknSTbLHitJGnNMZN273G+RrsWf26S4YdQ9mH08P4fov3+fiDJ5sMbk6yfZKspnl/SLNnjEKiqU5LsDnwMOD7J14Df0YY/eRBtmKJtq+pHSd4DvB44KcmXgMtoPRXvDfyAdiPR917gccDXkhwKXAA8nHaxv4KpPxX4SuDHwP5dEvJE2pOWTwMOB548/U8uSRqnqr6X5BPAS4GTkxxGu4h9Mm0IjbNYNbQTVXVAkgcAuwOnJvkO8EdgY1rMfxStweLlvdMcBTwnyeG0J/KuBo6pqmPm+/NJ0tqu6w3+E2CrJAcDv6X1Qvx6VR3SNbTvSIvxX6UlGZ9Ki9mHVtXBIw77S+AhwM+THEkbxm/H7vX1VTVqWCdJc+sjwK7AF7t78rNo9+PbA18Anj2bg1fVyiR7Ae+jtQ8cSrv2exzt3/ovgftM87DvpbUb7ACcmOSbwI2BZ9HmU31PVf1gCseZj3aBQfvHTt1D0z+hPXCxQ7dtxxkcc5RFve6tqvOTPBP4CnBskqNoQ9EWLaH5MFob0D8sRH0kaU0zw3bvcce6NMlLgUOB73e/pWfTRnS6N3AMrY2kv8+vk+xGS2CenOTbtOv39Wi/S1sB5wL3mO1nlTQ5E4edqvpkkpOAf6Ml854KnEe7KfjvXrk3JDme9oTfC2nB61RaD8L3VdVVQ8c9KslTgX8HnkMLuP9Lu5nZdxr1+12Sh9KegH5MV8dfdvW8JSYOJWk+vII2hPXLaAm/82mNDW8C/sTQ8B1V9cok3+rKPobWuHQBLYH4H6zeE2UPWmPFo4En0J7g25d2ES1Jmr0XAB+gJRR2ovX4+RPtOnon4HvAbrQ4D/ArWrLgo2OOdyGt8eQ9tMTFzYFTgPdW1SHz8xEk9VXVL5NsC7wdeCKtXeNE2vCiFzHLxGF3jvcnORt4HbAL8FfgO7TG1Gn/W6+qq5I8ljY/43OBf6H1Uj4R2LOqPjfF48x5u0BVXZHk0bTk5mNpD0+f1NXzAuYucbjo171d+8x9aO0+j6M1Ql9FSz4fzejhbyVp2Zhuu/ckx/pSku2Bt9J+S66kxfyHAXsxlDjs9vlskhOB19KG8t6O1pZ+FvAlWiJS0gKIc4cuS/5Hl1rDoTQjSe5Ge/Lt81W10yJUwTguGce1wJIU8L2q2maWhzKGS41xXEuVcVxqjONaqozjUjM2jjvHoSRJYyS5VX8eq27djYH9u7dfWfhaSZIkSZIkSdL8cKhSSZLG25M238sK2nj8t6INr3Q74FvAFxevapIkSZIkSZI0t0wcSpI03v8C96WNq78xbS6a3wL/CexfjvctSZIkSZIkaS3iHIfLk//RJcfi19JmHJeM41q6jOFSYxzXUmUclxrjuJYq47jUOMehJEmSJEmSJEmSpPFMHEqSJEmSJEmSJEkycShJkiRJkiRJkiTJxKEkSZIkSZIkSZIkTBxKkiRJkiRJkiRJwsShJEmSJEmSJEmSJEwcSpIkSZIkSZIkScLEoSRJkiRJkiRJkiRMHEqSJEmSJEmSJEkCUlWLXQctsCQnAVcsdj3WAJsA5y12JdYQy/G7OK+qtl/sSkgzYRy/znKMXaMs1+/BOK4lyRh+Pcs1fg1brt+DcVxLknH8epZr/Bq2XL8H47iWJOP49SzX+DVsuX4PY+P4DRa6JlojXFFVD1zsSiy2JMf5PTR+F9KSYxzH2DXg9yAtOcbwjvGr8XuQlhzjeMf41fg9SEuOcbxj/Gr8HlbnUKWSJEmSJEmSJEmSTBxKkiRJkiRJkiRJMnG4XH1isSuwhvB7WMXvQlpa/Dfb+D00fg/S0uK/2VX8Lhq/B2lp8d/sKn4Xjd+DtLT4b3YVv4vG72FIqmqx6yBJkiRJkiRJkiRpkdnjUJIkSZIkSZIkSZKJQ0mSJEmSJEmSJEkmDiVJkiRJkiRJkiRh4lCSJEmSJEmSJEkSJg4lSZIkSZIkSZIkYeJQkiRJkiRJkiRJEiYOJUmSJEmSJEmSJGHiUJIkSZIkSZIkSRImDiVJkiRJkiRJkiRh4lCSJEmSJEmSJEkSJg4lSZIkSZIkSZIkYeJQkiRJkiRJkiRJEiYOJUmSJEmSJEmSJGHiUJIkSZIkSZIkSRImDiVJkiRJkiRJkiRh4lCSJEmSJEmSJEkSJg4lSZIkSZIkSZIkYeJQkiRJkiRJkiRJEiYOJUmSJEmSJEmSJGHiUJIkSZIkSZIkSRImDiVJkiRJkiRJkiRh4lCSJEmSJEmSJEkSJg4lSZIkSZIkSZIkYeJQkiRJkiRJkiRJEiYOJUmSJEmSJEmSJGHiUJIkSZIkSZIkSRImDiVJkiRJkiRJkiRh4lCSJEmSJEmSJEkSJg4lSZIkSZIkSZIkYeJQkiRJkiRJkiRJEiYOJUmSJEmSJEmSJGHiUJIkSZIkSZIkSRImDiVJkiRJkiRJkiRh4lCSJEmSJEmSJEkSJg4lSZIkSZIkSZIkYeJQkiRJkiRJkiRJEiYOJUmSJEmSJEmSJGHiUJIkSZIkSZIkSRImDiVJkiRJkiRJkiRh4lCSJEmSJEmSJEkSJg4lSZIkSZIkSZIkYeJQkiRJkiRJkiRJEiYOJUmSJEmSJEmSJGHiUJIkSZIkSZIkSRImDiVJkiRJkiRJkiRh4lCSJEmSJEmSJEkSJg4lSZIkSZIkSZIkYeJQkiRJkiRJkiRJEiYOJUmSJEmSJEmSJGHiUJIkSZIkSZIkSRImDiVJkiRJkiRJkiRh4lCSJEmSJEmSJEkSJg4lSZIkSZIkSZIkYeJQkiRJkiRJkiRJEiYOJUmSJEmSJEmSJGHiUJIkSZIkSZIkSRImDiVJkiRJkiRJkiRh4lCSJEmSJEmSJEkSJg4lSZIkSZIkSZIkYeJQkiRJkiRJkiRJEiYOJUmSJEmSJEmSJGHiUJIkSZIkSZIkSRImDiVJkiRJkiRJkiRh4lCSJEmSJEmSJEkSJg4lSZIkSZIkSZIkYeJQkiRJkiRJkiRJEiYOJUmSJEmSJEmSJGHiUJIkSZIkSZIkSRImDiVJkiRJkiRJkiRh4lCSJEmSJEmSJEkSJg4lSZIkSZIkSZIkYeJQkiRJkiRJkiRJEiYOJUmSJEmSJEmSJGHiUJIkSZIkSZIkSRImDiVJkiRJkiRJkiRh4lCSJEmSJEmSJEkSJg4lSZIkSZIkSZIkYeJQkiRJkiRJkiRJEiYOJUmSJEmSJEmSJGHiUJIkSZIkSZIkSRImDiVJkiRJkiRJkiRh4lCSJEmSJEmSJEkSJg4lSZIkSZIkSZIkYeJQkiRJkiRJkiRJEiYOJUmSJEmSJEmSJGHiUFo0SfZJUt3fNotdH0nS9BjHJWlpM45L0tJlDJekNZcxeukzcaglIclmvWAz279dFvvzrOmS3CfJe5Icn+TcJFcm+VOSnyR5f5LHL3YdJS0txvH5k2SXGX6PKxa77pKWDuP4wkhy1yTv7q67L0hydZJLkvw6yUFJnrDYdZS09BjDF0aSOyd5b9eWcmGSK5KcnuQrSZ652PWTtGYyRs+vNJsneW6S9yVZ0V1fD76zA2d43IclOSDJqUn+1l27/zzJ3kk2meOPseBusNgVkLTmSHJj4P3AS1j9wYLbdn8PBnYDNlzY2kmS5tgfFrsCkqRVkuwF/H/AekObbgbcvft7fpKjgWdV1QULXEVJ0hhJ3gC8ndXbWu/Q/T21i987VtX5C10/SVrG3gu8Zq4OliTA+4A9gfQ23QjYCLg/8Kokz62qo+fqvAstVbXYdZAm1SW0tpugyD8D/9Itfxf4zwnK/qKq/jhXdVtbJLkp8A1g627VH4HDgJOAS4ANgHsA2wO3q6qNFqOekpYm4/j8SXIH2oXpZNYBPku7mAV4VFV9f94qJmmtYhyfX0n2BD7QW3UMcARwBq0BYkvgBcANu+3HAo+sqmsXsp6SliZj+PxKsjfwtu5t0dpSjgQuBu4C7Ex7+APgJ8C2VXX5QtdT0prJGD2/kuwP7NFb9VfaNfa9uvefrqpdpnG8/YA3dG8vAz4F/BS4KfAM4LHdtkuBrarqhBlXfhHZ41BLQlX9DfjquO1J+r3f/lhVY8tqrI+xKmn4TmDfqrpqRLnXJbn9wlVL0trAOD5/upuCSW8MkmzPqqTh70waSpoO4/j86RqL3tZb9aKqOmBEuXcC36eNAvJQ4MlM8N9EkgaM4fMnyRbAvt3ba4CnVdU3hsq8FzgYeBbwEOB1tB7mkmSMnn+n0B7QOw74OfBbWhv4d6d7oCRbAq/v3l5MeyD7l70iH0+yD/BWWiLxE0keUkuw955zHEoaNCY/r3v7wap685ikIQBVdcbC1EySNId26y0fuFiVkCSt5uG0hgWAn41KGgJU1WnAfr1VW813xSRJk3oVq9pXPzicNASoqquBXYFzu1WvT3LzBaqfJC1rVfWJqnpNVR1SVb+ZZRLv31k1POmbhpKGA/vSeiACPAhYknOUmzjUspLk9kn2S/KLbsLSK5OcmeTwJLskWXeS/VcMJk7t3t8gySuS/CDJuUkuT/LbJB+crFdekn16k7BuM0nZGyR5YZIvJlmZ5LKu7mckOSLJnkk2nfYXssrrute/AnvP4jiSNK+M4zOTZGPgKd3ba4FPz9e5JGkixvGR+vv9bpKyv+0t32SG55OkGTGGj/TPveWDxhWqqstoQ5hCi987zPB8kjSSMXp+JbkZ8Pju7SWMeSC7S0z+V2/Vs+e3ZvPDoUq1bCR5Ga1b8o2GNt2m+3sS8JokT6mqlVM43kbA4cAjhjbdrfvbNclzquqbs6z3A4HP08bFH3a77u8JtIvObWdw/Dv29vtqVV06w6pK0rwyjs/K81g1L9aRVXXmPJ1HksYyjo/1l97y3SYp29/+qxmcS5JmxBg+1u16y7+ZpGz/4Y8nMEGiUZKmwxi9ILZmVbvKMd0Qs+N8p7e8/fxVaf6YONSy0AXPj/VWHQ4cAVwEbE4bMuJOwD8BP0iyZVWdu9qBru8AWvA8hdZz43TgVsBOtDHrbwZ8Ockjq+q4Gdb7kbQJtQdB/1TgC7RGgitpgf8hwBNZ1U16urbq7fvT7rxPB14CbAlsCJwP/Aw4BPjiUhyXWdLSZhyftV17yyOHwJOk+WQcn9APgfOATYAHJdm1qv5nRF02A97YvT0f+OwMzydJ02IMn/g0M9zvn2a4nyRdjzF6wdy7t/zziQpW1blJTgfuCNwyyaZVdc681m6OmTjUWq+7wf5A9/Za4LlV9YWhMu8FvkgLRLcFPkKbtHoiT6Ul0nbpxqsfHOs/gXfThv+8IXBAkvtON9mWZANasBwEz/cAb66qa0aUvTEzn+Pkgb3lc5IcBjx9qMxtaE927AC8KsnTq+q8GZ5PkqbFOD47Se5LexAEWsP01+fjPJI0jnF8YlV1RZJXAJ+j3aMfkGQX4BvAGcBGwP2BF3Sf50zg6VV1/kzOJ0nTYQyf1J9pDfLQGuhHzXdFb/t1y0nig9mSZsMYvaD6MXzlFMoPEoeDfZdU4tA5DrUcvJpVQeh9w8EToKouB54LnN2tekaSyYYJOg14UT94dscq4A3Asd2qfwK2m0G9Xwnculv+XFW9YVTw7M75t6r6zqhtU3Cr3vLbaEnDK4CPAi8Eng98ELisK7MV8K0k68/wfJI0Xcbx2dmtt3xwVV01T+eRpHGM45Ooqi/RhjEaDD/6KFoDyudojTsvBq4B/g24T1X9dKbnkqRpMoZP7Ie95ReMK9Q1fPcf0l4PuPEMzylJA8bohbNhb3kqHWr6D/ltOLbUGsrEoZaDwYXZNcD7xhWqqktoN+XQuj8/bZLjfqSqrhhzrALe31s12bFGeV73+ndg7xnsP1X9wLU5LfA9qKp2r6qDqurgqtoTuB/t6WZovRT/dR7rJEl9xvEZ6h7yeF5vlcOUSloMxvGp+S6wB21IqFFuArwGeHGSNWG4JknLgzF8Yp/sLe+Z5PHDBZKsB3wK2HRo083nsV6Slgdj9MK5aW955Hcz5PLe8s3muC7zzsSh1mpJNmVVl+ATpzCW8JG95YdMUvaoSbYf3Vt+0CRlryfJxsC9urcnVdUfprP/NA3HgT2r6qThQlX1e+DlvVWvnsc6SRJgHJ8DTwFu0S3/vKomGjpJkuaccXzK59sUWEH7/LekPYV9R2D97v0zgBNpUwi8GzgoiffzkuaVMXxyVXUMbf4vaMNNfyPJoUlelGTHJHvRhi99DjBcj7/PV70krf2M0ZpPznGotd2te8u/nUL5fplbjy3V/H6ijVV1fpKLaD36bjOFc/fdtrf8q7Gl5sZfe8sXA4dOUPYI4Cza57lNkntW1XzXT9LyZhyfnf4wpfY2lLQYjOOTSHIT4Pu00T/OBx5SVaf1ipwHfDnJN2mNNA+jPaX9Y+DD81k3ScueMXxqXta97kx7OHvH7q/v97Tk4XG9dRfOf9UkrcWM0Qvr0t7yP0yh/I16y38dW2oN5ROKWtv1uwFfNrbUKv0AMFkX4r9N4XiDc950wlKr6w9XcenYUnPjot7yL8eNJw3XdUX/RW/VXeatVpLUGMdnKMltWDXXwBW0ic0laaEZxyf3SlrSEOA/hpKG1+mGi3pNb9W/zHO9JMkYPgVVdWVV7UKbn/Yg2txgl9Maio8H3kSb/uWC3m4XOve4pFkyRi+sfhv6JlMof4ve8kVjS62h7HGotV0/m3+TKZTvB7rJngS48RTKDM453SB4yZg6zYff9JYvnkL5fpkN5rgukjTMOD5zOwPrdstfqaold6Eqaa1gHJ/cE3vL/zdJ2Z/QPstNgbsnuXk3Z40kzQdj+DRU1fdpPchHSnKv3tufzX+NJK3ljNELq99jc7MplL9jb3kqPULXKPY41Nru7N7y3aZQvl/mrEnK3nWijUluQeuuPZVjDTsTqG75ntPcd7r6811NJRHYLzOVRKMkzYZxfOZ26S07TKmkxWIcn1x/eKcJk4DdCCD9MlNpJJKkmTKGz62te8tjE4ySNEXG6IV1Um/5ARMVTHJLViUOz53C/JNrHBOHWqt1/yhP797er/tHO5Htess/naTsP0+yfdve8rSeJKuqC4BTurf3TnKn6ew/Tcewqmv5fZKM7YmcJMCWvVVL7mkJSUuLcXxmkjySVcPenc7kE5tL0rwwjk9JPxF4+4kKJrkR0P8OLxhXVpJmyxg+d5LcENipe3st8OlFrI6ktYAxesGtAK7slh/VXZeP87je8rfnrUbzyMShloPDutcbAHuOK5TkZsDu3dsCvjLJcXfvLvzG+dfe8pcnq+QIn+1e1wHeMYP9p6Sq/gZ8vXu7AfDsCYo/kVUT2J5WVSYOJS0E4/j07dpbPrDroSJJi8U4PrH+08vPmaTsM4D1uuX/V1VXTlRYkuaAMXxuvAm4Xbf8+ao6YzErI2mtYYxeIFV1KfDN7u3Nuf4oT9fpOt68qrfq0Pmt2fwwcajl4L9ok1IDvD7JM4YLJPkHWsAaDBN0WFX9bpLj3hn45HAPvTTvBB7erfol8L8zqPdHWdXVe6ck7x7XGzDJjZJsN2rbFO0LXNMt759kixHnuEtXp4H/mMX5JGk6jOPTkOQmwI7d2wL+Zy6OK0mzYByf2Od6yy9K8vwx57gPsH9v1UEzPJ8kTYcxfBJJ7t81yo/atk6S1wJv6VadywSN+5I0TcbohfU2Vg2z+q7u+nzYvwMP6ZZ/VlVHLEjN5tjYIQmltUVVrUzyr8DHaP/PfynJ12hPCFxEG995N1pAhDbO8u6jjjXkq8ALgC2TfBr4I/CPtKEnHtaVuRJ40Ux6elTVxUmeTQu+/wC8HnhGkkOBXwFXAbcCHgQ8CTgROHK65+nO9ZskbwbeDWwCHJfkAODHwN+BBwMvYtWEtd8BPj6Tc0nSdBnHp+1ZrIrXR1fV6RMVlqT5Zhyf9DzfTvJV4Km0h3sPSvIC4Bu0uWtuTpsX69nA4MnvE4EPTfdckjRdxvAp2Q3YJcm3ae0of6L1Dr8b8EzgXl25i4GnVNV5MzyPJF2PMXpySTYE/m1o9R17y1smefvQ9qOr6ugR9T4+yXuAN9BG7vtRkv+mDf16U9roIIMk56XAS2dS5zWBiUMtC1X18a6b8AdowWiH7m/YScCTq+rcKRx2V9r8Io9gdO+7vwI7VdVxM6s1VNUPkmxD69J8R+AutOEtRvn7TM/Tnes93ZMd+9C+o90Z/UPyRWCXqprV+SRpOozj07Jbb/mAOTqmJM2KcXxSzwU+AQx6G27H9eeh6fsu7XNdPma7JM0pY/iU3ITWYLxab5/O8cBuVXXCLM8jSddjjJ7UhsCbJ9h+n+6v7xpgtcRh5420h/n2oMX+PUaUOYf2/SzZmO9QpVo2qupjwOa0XnUn0J66uIr2FO83aQHxflW1corHu4g2EewrgR8B59OetDiV1k18i7noilxVP+nq/VLgCFo37qu6c50OHE4bN/mZc0CadWEAACAASURBVHCudwL3Az5Ie7rjr8AVwErgYODRVbVjNy+iJC0o4/jkktwV2Kp7exEzm2tAkuaFcXzCc1xeVS+gDWv0EVZ9P9fSnlb+LW1o0ifQrsn/MtNzSdJMGMMn9J/AXsC3afW/FPgbcBrt4etnAw9ayg3IktZsxuiFU82/0pKqBwJ/oLWfXwT8gjZU6RajeiwuJZlBT1Jp2UqygjZMEFWVxa2NJGm6jOOStLQZxyVp6TKGS9KayxitPnscSpIkSZIkSZIkSTJxKEmSJEmSJEmSJMnEoSRJkiRJkiRJkiRMHEqSJEmSJEmSJEnCxKEkSZIkSZIkSZIkIFW12HXQwvM/ugRZ7ApIs2Acl4zjWrqM4VJjHNdSZRyXGuO4lirjuNSMjeP2OJQkSZIkSZIkSZJk4lCSJEmSJEmSJEmSiUNJkiRJkiRJkiRJmDiUJEmSJEmSJEmShIlDSZIkSZIkSZIkSZg4lCRJkiRJkiRJkoSJQ0mSJEmSJEmSJEmYOJQkSZIkSZIkSZKEiUNJkiRJkiRJkiRJmDiUJEmSJEmSJEmShIlDSZIkSZIkSZIkSZg4lCRJkiRJkiRJkoSJQ0mSJEmSJEmSJEmYOJQkSZIkSZIkSZKEicMFleTVSU5JcnmSSrJn97piqNw+3fptFqemkiQwHkuSJElriiSbddfmB/bWHdit22zRKiZJy9io2Cxp6TNxuECSPAf4IHAFsD+wL3DsolZKktZySVYkqcWuhyRJkqQ1j/cLkiRJq7vBYldgGXnS4LWqzhqsTHJP4G+LUyVJ0iQ+BHwe+ONiV0SSJEnSat4I7AecudgVkSRJWluYOFw4twHoJw27979e6IpsttcRC31KaUZW7vfExa6ClrmqOg84b7HrMcw4rqXGeC6tYgzXOMZKafqq6mzg7IU8p3FcazJ/S6TJGceXD2PizDlU6TwbzI8FbNu9r8Ff7/2KaRzvHt0Y/mckuSrJX5IckuTu8/MJJGnNlOQpSY5KcnaSK5OcleR7SXYfjLEPbN2Vrd7fit4xVnZ/N0/y/m756iT7dNtHznE4OE6STZJ8oleHk5PsOqa+N+yO94eu7GlJ3t6tn9ZvgSStrZLskuSwLlZenuSSJD9M8vwRZVd08XP9JP+e5DddfD1wits3SPK6JEcn+VN3bX1ukq8nedjQuTZK8rckpybJmLof3p3vgXP/zUiSRhk3x+FE9wrd9indL0jScpfkwUkOTXJmF0/PTnJkkh0n2W/zJPslOa67xr4yyeldG8rtRpRPkp2T/Kgrf0XX/v2dJM8eKnufJJ/r2nCu7Mr/Isn+Sdab6+9AWo7scTj/VnSvuwB3pM1tOCNJtge+DKwHHA78Hrgd8HTgiUm2rapfzKaykrQUJHkp8HHgz7R4eB6wKXAfYFfgEFq83YXVY+/KocOtDxwNbAwcCVwCnDaFamwI/BC4CvgScEPgWcABSf5eVZ/u1TfAYcATgd/RhkBdr6vfFlP5zJK0THwUOBk4htaD5BbAE4CDkty9qt4yYp/DgAcB3wK+Cpwzxe33BN7RnesI4ELgDsBTgMcneXJVfRugqi5M8nnab8xjgP/tnyDJ7YHHAz+vquNm/OklSbM2hXuFjwAXMfX7BUlalpK8hHZ9fi3wdVp7xqbAA4HdgS9MsPvTgZcD3wV+RGs72QJ4MfDkJA+sqv4w0++gDT99Wnfci4Fb067jnwUc2tXpPsBPgOrqdBpwc+CuXZ32Bq6e3SeXZOJwnlXVCmBF11vljlW1z0yOk2Qj4HO0+RAfVVWn9LbdGzgW+G/g/rOssiQtBS+jXXTet6qu10CcZJOqugjYZ4qx99bAKcDWVXXZNOpwX+BTwMuq6tru3PsDvwTeAHy6V/b5tKTh94HHVNVVXfl/p8VvSVJz76o6tb8iyfq0pN9eST421MAArcH33t3w0qOM2/4r4DbD67snoH8KfAD4dm/TR2gNzi9jKHEIvAhYl9ZQLUlaXBPeKwBM835BkpadJPeiXf9eAmxVVScPbV+t1+CQg4APVNWVQ/ttR7u23xt4RW/Ty2jz1d67qv42tM8mvbc7A/8APLWqvjZUbiNa27mkWXKo0qXjhbTeLW/tJw0Bquok4JPAll1QX02Sl3Zdw4/76wnfHlVEkpaaaxjxFNkEDccTee00k4bQLkZfM0gaduc+hdYL8Z5Jbtoru3P3uvcgadiVvwh421ROZhyXtBwMJw27dVcBH6Y99PjoEbu9ZZLYP3J7VV08Zv2faD3J75HkDr31xwHHATskudVgfZJ1aYnDv9Ie9FuNMVySFtxc3isYxyUtR6+gXX+/bThpCNddM49VVWcOJw279UfSRhh53Ijdrqb1bhzeZ1TsvnxEuQur6u+j6mMcl6bHxOHSMZhn5b5pc2Rd7w/YvNt+z1E7V9UnquqBVfXAm91v+4WoryTNp4OBGwOnJPlAkqcmueUMj3UFrZfgdP2uqi4Zsf6M7nWj3rotgb/ThucY9oOpnMw4Lmk5SHKHJB9O8utuTsHB3OCHdUVuO2K3n05y2LHbkzwiyRe6+VOu7J3vX8ac7yO0BpTdeuueQJs+4LNVdemo8xjDJWlBzeW9AmAcl7QsPbR7/dZMdu7mLHx+kv/r5iC8pnet/U+sfp19MLAZLXa/K8n2STYYcehDacnFryb5TJIXJrnLZPUxjkvT41ClS8ctuteXTFLuppNsl6Qlr6ren+Q82vj1rwb2BCrJ94DXTXN+qXOqqmZQjYvGrL+me123t24D4IKqumZE+b/M4NyStNZJcmdakm8j2tDOR9LmNrmW1oiwM20+2WF/nuTQI7cneRqtZ+EVtKFHTwUuoz3osQ2w9YjzfR54H/CSJPt1TzS/tNvmMKWStAaY43sFSVquNuxeh6cJmKr30+Lv2cB3uuMMegnuQptOoO9fgT/QpgbYq/u7Jsk3aaNE/R6gqn6aZCvgzcAzgRcAJPkNsG9VjRwBRNL0mDhcOi7uXu9bVTPpGSNJa5Wq+gzwmSQbAg8HnkbrAfKdJPeoqnOneqj5qmPPJcDGSW4wInn4jwtwfklaCl5De1hu16o6sL8hyU6sGvb5eiZ7+GOC7W+jzYH1wKr61dD5Pk5LHA4f6/IkB9IaNrZLcjLweOAnVXXiRPWQJC2cObxXkKTlavCw9G2BX09nxySb0h7cOAl4eFX9dWj7TsP7dNPA7A/s3+3/SOA5wLOALZJsMRj6tKp+DDwpyQ2BBwDb00YMOSTJuVX1f9Opr6TVmThcOo4FngFsxcyG1LvOyv2eOCcVkqQ1QTdP4DeBbyZZh9Yg8CjasHbXQpt/qj8X4SI4HvhnWqPFMUPbHjndgxnHJa2l7tq9HjZi22pJvDk638kjkobrMHFs/ijt6emXASfSephPubehMVySFs4k9wowg/sF47ikZeJY4IG0h+SmlTgE7kybIu3IEUnD23Xbx6qqc4AvA19OchStPeXewM+Hyl1JmxLmR0l+B3wG2AGYMHFoHJcm5xyHS8f/0J70eGuSBw9vTLJOkm0WvFaStAiSbJskIzZt2r3+rXs9v3u9w/zXakKf6V7fnmT9wcpuvP63LE6VJGmNs7J73aa/MsnjgBfP0/nuluQ2vXMF2Ae417idqup3wFHAk4CX067RPz8P9ZMkzcA07hVgzblfkKQ1zUdpU7G8Jclq18ZdAnCcld3rI5NcN41LkpsCn2SoM1OSGyZ5xIhzrAds3L39W7fu4UluNOKc/9gvJ2l27HE4x5JsBpwGfLqqdunWHcgsn5KuqvOTPBP4CnBs97TFybQh9m4PPIw2tNM/zOY8kjRdo+LeAvgKcGmSY2kXpKH1yH4Q7Qm0wdNlR9GGtfhyNy7+5cDpVXXQAtVz4DO0ITa2B05K8nVgPVpP8p8Bd6fNqSVJy9lHaHOafDHJl4CzaE8Wbw98AXj2XJ2o++26e/f2+CSHAVcDj6AlDQ8HnjxJXR9Da6D4r6q6fIKykiQW9L5hqvcKsObcL0jSGqWqTkmyO/Ax2vXy14Df0dqfH0SbkmXbMbvv170+GDghyZHABsBjafOLnwDcr1f+RsAPklxD6xF+Oq2N+5nAbYDje6OEvB745yTfp/2mXApsQesZeSHwiVl+dEnY43BJqaqjgPvQGio2oz3h/CJag8rRtEZpSVoO9qIl3O4P7E5raF4PeAOwbVVd3ZX7b+BdtAvU19Pms3rRDM53vySVZJ+ZVLabX+tp3fnXo429vwPwaeBVXbFLZnJsSVpbdPN4b0sbbuiJwCuAmwNPpzVYzIcfAmfT5k98HnAG8BDgF5Ps93XgvG75GfNUN0la6yU5sLvO3mwODzvVewWYu/sFSVrrVNUnaUP4f4M2KsjrgKcA5wIfnsIhPkxLCr4SeFx3nIcDFw+Vu4yW9Lu6274H8FxaknFwnIGP0JKLdwJeQGtf2bxbv2VVnTqNjyhpjLS2TM2VMT0Ob027CD116AJ1UWy21xFL9j+6Y1BrDo0aukYzsEg9DhdUNxT0d4F9q2qfOT72Y4Ejgf2q6o1T2Wex47ixWGsI47hmrBv26C7AxVV19gz2vzPwe+Aq4M9VtdlU913sGK7Z83dwzhjHl5lRsbcboWln4E5VtXLxajd1SzGOG7c0T4zjGmkmsT3JSoD+dXU3vcutgbOrajjZOGNLMY6vyfyNWdLGxnGHKl0A3QXxtBskJElrjyS3qaqzhtbdglVDeHxl4WslSctT9zDfr2dxiH+j3WTZW1ySpmgOYq8kaRnpkoVzljCUNHUOVboARg29kWSzbt2B3fLnk5yX5IokxyV50gTH2ynJd5Nc1JX/VZK9k9xwIT6PpOUlyYOTHJrkzCRXJjk7yZFJdhxRdkrxLMkGSV6X5Ogkf0pyVZJzk3w9ycPG1KOSrEhyqyT/3dXn2iS7dNs3T7Jfd85zu7qenuQTE03anWS7JIcnOafb54wkX0vymG77gbTehgBv7eox+Ntm6FgTxef3d+8/1dWzgD/ThlD6NfCV/ueRJM2f/rV4b9111+xJXpbk/3Wx/C/db8kWSfZK8inalAEAtwTuOPTbcOCIU0rSsjcce7vr4Z27zaf14ujKof02TvKu7lr68iQXJzkq+f/ZO+84u8ri/78/EIK0b0JQCEUICog0KaGXLF+aiKGodJSAFEGqwJcikFCkqkHlJxBBgpFIFJBiaAosoWOEIF3aQghdSEILIWF+f8xzsicn5+7eu3u3Zt6v175O7tPvonNmZ56Z0fYlewxLawyTtJ2keyV9mP4+uFJS/zRuPUl/k/R+6r9J9U2XGgRB0C0p2KRXl3SDpPckfSTpvqJslTSizP5RXKvCdgtI+omkZ5Ne/ZqkkZL+p8qzzpHpJX0rSPq1pOfTu+E9SY9IOq2atYMgaJmIOOx6VgIeAV4CxgADgD2BGyVta2Z35wdL+j2en/81PJ/zVGATPA//NpK2M7NZnXj+IAh6MZIOBi4BZuP1nJ4HlgYG4/VC/pwbXos8+zrwM2ACMB7PZb8init/R0lDzey2kiMNAB7Ci19fD3wOvJX6voMbcu/G62PNxAtkHwQMlTTYzKYUvt8ZwOlpvRvw2lbL4Tn19wP+kdrBjRr3AI25JZpya7Uon4HLgGWAoUD/NG0mfntudsn3CYIgCLqGC/AaLDfjqaS3Bg7G333rAR8D9wKTaDZ4X5SbP6nTThoEQdCzOQPYFfgG8Ctcfyb3RNJKuP49CJe9twGLAd8GbpN0aKrBVWTnNOZveJ3czYBhwCBJJwN3pvWuANbGdfSvSFrHzD6v55cMgiDopqwMPAg8gdsrlsVtOLdK2sfMxtVhj5HAVrjt6EZcxz4G2FLSFmY2o6XJlZA0GLgdtxFNwO0piwJrACNwO0wQBO0gHIddTwMwwszOyBokjcWV4RNojnIh3a44AE9nt6+ZfZLrGwEMx4vN/qq4iaRDgEMABuxwBEus+836f5MgCHoVktbAi0tPB7Y0s6cK/cUovgaqlGfAM8ByZvZuyZqP4MplmeNwbdwpeWDJJYkxwEgz+7Sw5vbArcCpwGGF9tPx+oxbljgVVwAwsxskTcWNw41lNQ6rlM83mNnWuXbDFdvrKnyf4h4hx4MgCDqHTYC1zexVAEl9gLuALYGNzeyRbKCkXQBaq38bMjwIgmBezGxEivL7BnBRhTpYV+EXFPc2s2uyxhQ52Aj8WtJNZla8fLczsI2Z3ZPGL4AbmbcFbgEOMbOrc+tdARyIOxBvLB4i5HgQBL2QrYCfm9kJWYOki3Fn4qWSbjWz9qbl3xxY18xeSeufDPwFv/h9Am1w8Enqm9YYgNtfxhb6SzNOhRwPgtqIVKVdzyvA2fkGM7sdeBXYqDD2aGAWbmD+pNB3FvBfYN+yTcxslJkNNrPBIRiDIKiSw/ALJmcVnYYAZvZaoalqeWZm04pOw9ya1wKrS1qx5EwzgePLnGxmNqXoNEztdwBP4Tfb8hyZnscVnYa5s1RLW+Vzxe9Tcp6Q40EQBJ3DmZnTECDJ6CvTx6J+XhUhw4MgCGpH0jeAIcB1eachgJlNxS/nfQH4bsn0P2VOwzT+c/yiIcCTeadh4g/puW7ZWUKOB0HQC5kGnJlvMLOJwNV4lqTd6rDHrzKnYVr/c9xh+Dl+WaMtDMWj0G8qOg3THqW2nJDjQVAbEXHY9Uwys9kl7ZOBOXW+JC2K38J7FzhGUtlan+Lp/4IgCOrBJul5a5Xjq5JnGZI2xx1um+LpT/sWhiyPOx3zNJnZ22WbywXjvngKom8ASwIL5obMLEzZBDDKIxurpp3yueL3CYIgCLqMiSVtk9Nzyc48SBAEwXxO9jdEv5TFo8iX0rNMzy6T5a+n579K+rKLhBVrowdBEPQyHjWzD0raG/GMS+vhUd/t4Z5ig5m9JGkynjq6f7oIUgu12qqCIGgD4TjseioJx1nMHRG6JCBcMR7e0YcKgiCguQ7fPNF4FahWniFpNzyycAbwd+BF4CP81lkDfrN44ZK13mxh/1/iufLfwNMQTQGy6L9heIqjPP2B90siBGulPfK5pe8TBEEQdA1l77MsMnzBkr4gCIKgY1gqPbdLP5VYvKRtWknbrCr6FqruaEEQBD2eYornjMxO0a+D91gp7VGr47BWW1UQBG0gHIc9h0yxfczM1u/SkwRBML+QKW/LA8/Wee2z8AjAwWb2TL5D0mW447AMK2uUtDRwFPAksFnx1pykvUumTQWWkrRIO52H7ZHPpd8nCIIgCIIgCII5evbRZvbrLj1JEARB72OZCu0D0zOTwZ+nZ5kfoX9JW3GP56rYoxbytqogCDqIcBz2EMzsQ0lPAWtKGmBm77V1rabzdqrjyYIg6MU8BAwGdqT+jsNVgKdKnIYLAFu0Yb2v4FGNd5Q4DVdI/UUeAr4NfBP4ayvrZylY54k0qad8rpaQ40EQBN2G2cybartFQoYHQRDMRUU9G9fXAbYEuo3jMOR4EAS9hPUlLVGSrrQhPR9Lz/fT88slawxuZY8hwIR8g6SvpLWa2pCmFJrfDTsCl7ZhfsjxIKiCBVofErSGpNGSTNKgDt7ql7hh4veS5rnRIWlJSRGNGARBvbgET9lzmqQ1ip3JIddWmoBVJS2XW0/ACGCevapcD2ALSXOMDpIWB35H+UWZ36TnLyTNc1Ot0Pbf9Fyxwv4hn4MgCLoJkgYl3Xx0J2z3X+BLkhbphL2CIAg6BEmNkroqE0ZFPdvMJgL3At+RdGDZZElrp+wjQRAEQW30A07PN0gaDOyLRwJmF6wfSc8DJPXJjf1ybv7ApH+PKOxxtKSVcnMWAC7EfRJXtvHcN+M2oJ3z2aXS/o3ttFUFQZCIiMMqSEJvOLC1mTV21TnM7PeSNgAOB16UdDvwKjAAWBnYChe6P+qqMwZB0Hsws6clHY7f4HpM0o3A83itkQ2B6cDWbVx+ZG7d64DPgM1xp+HNwNAaz/qmpGuAvYBJku7AleDt8DqKk4B1C3PukHQ2cCrwjKQbgMl4Ko0t8Ftsw9Lw5/D8+XtJ+gx4BU8zOsbMXgn5HARBMN9yJ/5OvE3SBOBT4HEzu7lrjxUEQdBjuBM4Afhd+rvgA2CqmV2c+vcB7gKukHQU8DCepm4FYB1gLWBT4O1aN06Xv18GrsIvMAZBEMxPTAAOkrQxcD+wLLAn7tQ71MymA5jZw5IexqO/35J0JW43GQrcTnkkYsb9uI1mHO6M3AH4BvAv4IK2HNrMZkraHbgDGCvpUJqjENfBnYrh8wiCdhL/J+phmNmPJd2KG5+3xXNJv4cbqC8E/tjaGoNOGt+hZ4QI+Q6C3oKZ/U7Sk8DxeLqKXYF3gX8Dl7dj3cskfQocA+wPfILfJj4A+C41Og4TPwRewhXdHwPvADfhN+Cuq3CO0yQ9iNdH/DawGG50mAj8ITdutqTdgPOA3YElAAH34U7EusjnaukIOR5yOwiCoE2cjcv7ofgFmAVxA3RFx2Fn6OJFQsYHQdBdMbPbJR0HHIz/bdAX168vTv2vpQt6R+J/J+yLy9o3gafxLCJPdOaZu0KOQ8jyIAjqzsu4/eK89FwYeBQ408xuL4w9BHgcWBSXx88D/4c77/ZoYY9jgd1wGT8IjzL/FXC6mc1o68HNbKKkdYGT8JSlm6WuPhSiKMvoKjleT+KdEHQ0MuuqbBQ9h9YiDlMapP2Blc2sqTPP1hYGnTS+w/+jh/AKegDq6gMEQVvpCDkecjvogYQcD0rJR5CY2bAuPUwJnaGLFwkZH3RTQo53EyQ1AkPMbL76b9LW90VXyHEIWR50S+YrmdFbaIvsa22OpAbgbuAMMxtRj3PWSkq5fY+ZNbQ2tqvkeD2Jd0JQJyrK8V5R4zBfx0TS6pJukPSepI8k3Sdp+9zYQ9PY4RXWGijpM0lPpM9NuNMQ4O401yrl/0/rPyFphqS3JI2S1K/C2A0kXSfpbUmfSnpF0m8lLVsydk4dxVr2CIIg6M0U5P9qksYlmfp5UlyRtIOkWyS9m2Tti5IuLKtFmBt/f3qHvJfeKaurhXq2kjaWdK2kNyXNlDRZ0mXK1XBM425IaxxVssZZqe+KuvxygiAIeimSNkryfkqS629IukPSPLed03vimvQOmCFpoqRvl4zrJ+kESXdJei3J8nck3SRp0wrnyOqoDJR0eTrPbEnDOuBrB0EQ1Ey1Omora1StS0tqSj+LSxqZ9vtE0iRJu6YxfST9VNLzSS6/KOmIOu+/WBrzaprzgqQTJSk3dgRuBAfYXzlbT8jxIAi6IwX7x1eTfP+vpA+SLrxWGvelZCt+I8nZf0oqKzMjSYdLekjSdEkfS3pM0hHyWoTZoBHUIC8lrStpvKSpac17JG1WHJfG9pN0rqTn0lnfl3S7pG0rjO8r6bT0LvhU0suSzpa0cI2/ziAIWqG3pSpdGXgQT1NxGc25mW+VtI+ZjQOuxnMo/1DS2WY2u7DGgfjv5bL0+SI8Nd8QPO1QUwv7X4Dnar4ZD9XeGg/FXgX43/zAZLC4DvfqXoun4tgAOAzYRdIWZvYy81L1HkEQBPMRX8XrnfwHl/OLANPll0RG4ClD/4anIV0HT736LUmbZnn7ASTtBYzF6yL+GXgDT3nxIJ6WYx4kHQiMwuta3YTXSVwVOAgYKmkTM3s1DT8QeAy4QNK9ZvZYWmMb4BQ83dKRdfh9BEEQ9EokHQxcAszGZe7zwNLAYLzO7J9zw1cCHsHTWI/B687uCdwoaVszuzs39uvAz/BaL+OB94EVgZ2BHSUNNbPbSo40AK+p8iFwPfA58FZdvmwQBEE7qFFHrbRGTbp0YiHg77h8vBFPPbo3cJ38UvfhwMbArelsuwO/kfROstnUY//bgeXSHrNwm855wBeAM9K4RjzV9NG4nn9Dbo1JLf1egiAIuphBuP3jGWB0+rwb0Ci/8HYbMB0Yh8vivXDb+GoFub8t8APgOZrtIFvjKaA3Br6fxjVSvbwcjKcwfRAvb7Minmb6Tknrmtlz2cB0AeR+YA3gn7gN/ot46tM7JB1mZpflxgvX9XcBXsRTWvfF7Sxrt/5rC4KgFnqb43Ar4OdmdkLWIOliXFhdKulWM5suaQxe/2pHXPnMxgpXoj/GjQuY2UVJkA0BRpelKs2xCbB2JoQl9cGLeG8taSMzeyS1L447IfsADWZ2b+4MJ+IK7WXA9sxLVXsEQRDMZ2wBnGtmp2QN6UbdCPwd8C0zm5rrGwZciRsOjk1tS+DG6M+ATc3s8dz484ATi5tKWg24FL9UMsTMpuT6tsEvePwKV+Ixs/ck7Q3cA4yTtD5eV/GPuOFkDzP7uH2/iiAIgt6JpDWA3+KGkC3N7KlC/wqFKQ3ACDM7IzdmLG5MOQFPp5TxDLCcmb1bsuYjwMg0r8ja+N8NB5rZrDZ8rSAIgrpTq45aYY2adOkcy+E1shrM7NM0fgx+MeMvuLF3rWw9Sb8EnsXrVM1xHLZz/8eB7czskzT+DPyC4bGSzjGzz8ysUZ5h6mhgUlel1guCIGgDQ4BTzexnWYOk04AzcYfin4HDzezz1Pd34A+4vMzLzOVw59sxWWCNpAXxSycHSrrWzG6sUV7uBBxgZqNzZzsUfycdjV8eyTgfdxqOAn5kqZ6apPOBicCvJd2eKwu2N+40fAgvJzYjjR+OOx6DIKgjvSJVaY5puJCcg5lNxKNP+tOsFF+SnocW5m+PRy2OM7Npbdj/zPzNjWQ8uDJ93Cg3bhf8xse4vNMw8Qtcud9O0ort2GMuJB0iT8008YNJZTaPIAiCHs1bNN8ezsjSgR6cNzQAJCV2ErBvrnkX/F1xdd5pmDgbmMq8HIbfaj46b5BJe9yJ3+4empySWfsDwGn4je/LcIPzQOCoohE8T8jxIAgCDsMv3p1VJi/N7LVC0yu4/M6PuR14lYLebGbTik7D3JrXAqtX0M1nAse35jQMGR4EQSdTs45aQq26dJ5jMqdhGn8vnuZuSeDE/Hpm9hIecbJWMljXY/+jMqdhGv82pYzFEQAAIABJREFUHv3YD/hahTktEnI8CIJuRBMedJLnqvRcGDghcxomxuLR1+umz6/ikdxvAsfms/Glfx8HGJVlbEvcn3caJn6f9p+jf0vqC+yHZ+04OXMapjM8D/wajyb8QW6dA9LzlMxpmMa/B5zV2sFCjgdBbfS2iMNHzeyDkvZGYH9gPbyI61OSJuBph75sZpPTuEPS89I27j+xpC1be8lc2/rpeVdxsJnNSmcblM5bTB1S7R7FdUfhNzh6RQHYIAiCAo/njROJTfHowd0l7V4ypy/wJUlLmdl/cZkLcF9xoJl9KGkSHr1S3ANgiKQNS/ZYGlgQWA34V679fDwFyD7p85/M7PLSb9Z8hpDjQRDM72ySnrdWOX5SSVkCcN15nrqFkjbHb0JvisvvvoUhyzOvbt6UDNItEjI8CIJOpq06anGNWnTpjKlm9mLJ+Nfxi9pl+03B7VMD07/bs/80M3uhZHyrdpOWCDkeBEE3okzHfT09/1O0jZvZbElvAVl2jtXwgJbngVPVXP41zyd4Kv9amcdubWafpf3z8vdrwKK4o/G9knXuAk6l2U4Dbk//nBKbDW77b5GQ40FQG73NcVipnsib6dkv1/ZbPLXpQcBwSQPxGiaT2pHusywaJbt9nL85l53jjQrrZO3zFPuuYY8gCIL5iTdL2pbC33PDW5m7OPBfmmVzpXdJWftS6XlCSV9xjzmYmUm6nuaU1Be1Mj8IgiBo1o2ntDiqmTK9GVx3nivziqTd8MjCGXhtrheBj3DjRAOeEmrhkrXK3j9BEARdTZt01JI1atGlMyplb5oFHuFdqQ+Pkmzv/i3Jfgi7SRAEPZ955GgKRCntS8yiWcZm74hVaVnGtvSOqERLMri9tvF+wHtm9lnJ+NDJg6DO9DbH4TIV2gemZ154Xo8bgX8o6Uy8kGofPG1cR5OdY2CF/mUL44IgCIKWKbstNg1YwMwGVLnG9PSs9C4pa8/kdD8zm17SX4qkVYGfA+/jyu/lqU7tjJZnBkEQzNdkhojl8XpY9eQsPO3oYDN7Jt8h6TLccVhG3FYOgqA70iYdtWSNWnTpetPV+wdBEPRWsnfEX83sO118hlps49OAAZIWKnEeVlonCII20tsch+tLWqIkXWlDej6WNaQw6cuBnwJD8cjDD/F6iEWy8O963UzLztEAXJHvkNQH2DJ9fLRO+81F03k7dcSyQRAE3Y2HgJ0krdlS7cAcmWzeAs/BPwdJi9NcD6C4xwa43B5fzaEkLQyMAxYDdsCN0T/Fow5/VM0aIceDIJhPeQgYDOxI/R2HqwBPlTgNF8DfC3UjZHgQBJ1AzTpqhTVq0aXrTWfs3yZbT8jxIAh6OM/iF/I2qeCEK6PetvHngI+Bb0jqX6xli5d2gblt448C2+K6+d2F8Q21bB5yPAhaZ4HWh/Qo+gGn5xskDcaLuU4D/loYPwoXfBfjufbHVqiRmKW9WLFO57wBL0K7t6RNCn3HpLP8w8yKNVSCIAiC6hmZnr+TtFyxU9JiBRl8I/6u2FfSNwrDT6U8ffTFeO2VkZJWK9mjr6QtC80/x/P0X2Bmf8dTg9wPHFqhfksQBEHgXIKnOTpN0hrFTkkrzDsFJDVJampl7SZg1fz7Qp7vaQQwz15BEATdnLboqEVq1aXrwcuSBnXi/u/jkeP1svUEQRB0e8xsFvAbPKrv15IWKY6RtKykKTkdulp5OVzS6CrOMBMP3lkCz/yR3/urwFH4e2xMruvK9PyZpC/kxg/AbTZBENSR3hZxOAE4SNLGuBF2WWBP3EF6aDFFh5m9Kmk8XtsQKqcpvRuvb3KupLVwYYmZnV3rAZMS/DJe5HVL4B5JfwFexW8Ebo/nZT60irWG4ULz/FrPEQRB0NsxszslnQScCzwv6RZc/i4OrIRH+t0n6Uep/Srgx7hi+oCkP+N59TcDvgHck+Z8ntvjWUkH4hGKT0m6DfgPXjtgRVzOvwOsDnNqaB0BPIwXIR+Gy/Hj8MLjl0v6l5m91FG/lyAIgp6KmT0t6XDgUuAxSTcCz+N1WjbEU05v3cISLTEyt+51uKFic9xpeDOeoSQIgqBHUKuOWmGNqnRp4JtVHmsQgKQGM2us4jvUe/+yPT6U9DCwpaSr8d/RbOAmM/t3W9cNgiDoAZyF2zl+BAyVdBdeR3xpvPbh5rhuPQ06TF6ehL+PjpC0IW5//yKwB+5QPMLMXs6N/xNu598ZeDL9LTAI+A4ewRgEQR3pbY7Dl3GBd156LoyHMZ9pZrdXmPN7XOBMNLPS1KBm9oyk/YHjgcOB7FZDzY7DHJNxIXwKnqquH+4wvBQ4y8xeb8faLTLopLZmKmmZCPMOgqC7YWbnS7ofv622BbALrvhOwaPOxxbGXy3pPeA0XCH9FL+UsikeKQjNtRCzOX+U9Dju/NsavwDyEfA6cC2elhRJK+LpqacBe+WKl4NHoR+IR6RfI2mLdAOvlHrJ8ZDbQRD0NMzsd5KexPXyBmBX4F3g38Dl7Vj3Mkmf4tk/9gc+Ae4FDgC+Sx0dhx2li+cJ+R4EQbU6aitr1KRL15tO2v/7+OWRbwJ7AwJew98rpYQuHgRBTyeV8NoV2A8YBnwbv5jxDm5fPw04rDCtGnn5/4CfVXmG9yRtCpyMO/9+guvgjwAXmtkdhfGWsjSdlM58BCm4B/gLNUQddoY+Xk/ifRF0Bb3NcUiqS7JLDVPWS89LW1n3j8AfK/QNwwVWWV8jLkjL+v4J7FbNIVvaA3jWzEr3CIIg6M2YWRMVZGxuzH34beRScumQsvG3ArcWxiwIrA28WZJ7HzN7gsoyOhvzKjCghf4baeW7BEEQBGBmD+LOvEr9TbQgT82soUL7aGB0SdcTeMrS4viQ2UEQdGuq0VHTuIYW+lrUpQtjB7XQPRpP0V82b1i6ULd/R+1vZiMol+UvEFHlQRD0AKrQcVvqG1TSZnjGpTHzTAAkHVIYX1FetmT/rrR/ap8KnJh+WiVdsD4z/SCpAY9UnB26eRDUl95W47AmJC2BRya+h4c7d/R+I/BbGwD7S7LczyGS/pn+vXPJ3D+kvtPS50aacztfWVhrUEd/lyAIgt5AK3J5WBojXN6uCPSX9KmkFyVdKKl/bq2+IceDIAhqQ9ImSe4Va5HnxzyTZO+AJGuPkHSLpFdS+3uS/iFpxxr2HZH2bSjpG5T6Rpf0LSrpZEmTJH0k6UNJD0rau9q9gyAIuiN52SdpdUk3JPn6kaT7JG2fG3toGlvqCJQ0UNJnkp5In5todhrendd7K8w/VNITkmZIekvSKEn9KozdQNJ1kt5O74RXJP1W0rIlY0dnunYtewRBEPQmJO0haYKkaZI+SbLwZEkLVxjfT9LF8pqHMyQ9LemoZCvJj6urDi1pe0k35+T7ZEk3Sto29Y/GnYbgtRXzNpWGNv56giBI9LqIw2qQtBOwPn5LYhngeDP7uBO2bgT6A0cDj+Mp6TIeAf4BPIYbkNc1s8npvAfg4eB30hzuPRqYikdX3ghMyq01TzRMEARBUEojc8vlJ4HvAS8CDfKaubsCA/HahjfhNWnXwdPkfUvSpmY23cxmStqTkONBEARVY2YPSXoOl6dLmdl/8/2SNsJrcF2X0hkNBH4FPAD8HU+ntCyu198i6WAza3PK0paQXxa5C89Y8ihe8mABvOzAWElrmlnVKZKCIAi6KSsDD+LR1pfhMnZP4FZJ+5jZOOBq4ALgh5LONrPZhTUOxO1Nl6XPF+E69RC8rnhTC/tfgMvVm4E78DSrBwOrAP+bHyjp28B1eJTLtcArwAZ4er1d5On/8/Wxat4jCIKgNyHpHDw16Lt4uucPgR2Bc4AdJG1fKJvSF7dX9weuSZ+/i+vjXwN+XMWeNevQks4ATk/nuwEv+bUcsBmeXvUfNNvV9wfuwe07GU2tnSsIgpaZLx2HwO64UHkLL7Q9sjM2NbPGdNPuaGBSSpUxF5IOxmsNjE23I1YDLgbeBvYzs8/TWqPTxY5dgBtSaqUgCIKgBopyGTgDNzxsjr8rFko/bwBDzOz5bK48IvHKNOfYtN5LIceDIAhq5ircWLE3Li/z7J8bA17HZCUzey0/KEWJ3A9cIOlqM/ukA855EW7wONHMLsjt/QXccHGKpGvNbFKlBYIgCHoAWwE/N7MTsgZJF+POxEsl3Wpm0yWNwQ3GOwJ/y40VcBDwMSn9nZldlAzHQ4DRKaVdJTYB1k5p/pHUBzc4by1pIzN7JLUvjr8b+gANZnZv7gwnAufhjsvtmZeq9giCIOhNqLme4GRgIzN7M7WfDPwVr3N4PK6XZywLvASsZWafpvHDgX8Ch0saZ2YTWtm6Jh06RbifjmeH2tLMphS+xwoAZnaDpKn43wuNZXb2IAjaTq9IVWpmTWamVAewmvHD0viBZnZKZsTtDpjZn3HldgvgfODPwCLA9zOB3hbkqVAnSpr4waTb6nPYIAiCXoaZvWxm+5rZIDNbDMgqZm+XdxqmsaNxZ+O+hfaQ40EQBLUxBo/qnqu2laS+wF74xYtbAczs06LTMLVPw28vLwlsWO8DSloKv908MW/wSHvPwOuyCNinwvyQ4UEQ9BSmkWpHZZjZRDzKsD+wW2q+JD0PLczfHo9aHJdkc62cmTn00t6zaE7vv1Fu3C54/fBxeadh4hd4tMl2klZsxx5zCDkeBEEv4MD0PDtvm0gy8DhcHz+oZN7JmdMwjX8POCt9PKClDduoQx+ZnscVnYZp3jx/C1RDyPEgqI35NeKwu3MMHnp9XPp8rpnd0Z4FzWwUMApg0EnjS+sIBEEQBPOwKfAZsLuk3Uv6+wJfKkmvF3I8CIKgSszsNUl34gbeNczs6dQ1FDcKj0wGDQAkrQmcgEfFLAt8obDk8h1wzA2BBQGT18ctslB6fr1scsjwIAh6EI+a2Qcl7Y34BY/1gKvM7ClJE4AdJX05S9EPHJKel7Zx/4klbdnaS+ba1k/Pu4qDzWxWOtugdN5XC0Oq3SO/ZsjxIAh6Oi3Jzf9Ieg1YWVK/3MWPWXiJgCKN6bleK3u2RYfeBDCgrt69kONBUBvhOOyGmNkMSeOBtXEB/f+6+EhBEATzK0vh78rhrYxbHJjjOAw5HgRBUDOjge1wo/SJqa2YphRJm+DGjj543dibgOn4Del18QiUhTvgfEul54a0HNG4eAfsHQRB0Jm8VaE9i07pl2v7LX6J4yBgeKpDuzNemqWt6T7Lan1nl0cWzLVl53ijwjpZe/927BEEQdCbqEZurojLzcxx+G5JHVsofyeU0RYduj/wfgeVHgiCoEp6RarS3oakLfBb1O/iRpHfpzoBQRAEQecyDVdY1crPK/lJIceDIAhq5q+4A3A/SQtKWhqvm/W4mT2eG3cqnv55ezPb0cyOMbPTU02Th2vYLytVUHaRsszInBlPRrbyPti6hjMEQRB0R5ap0D4wPfPpR6/HHY0/lLQgngavD562v6PJzjGwQv+yhXFBEATzO22Rm19M8r1I2TuhpT1r0aGnAktKWqSVtYMg6EAi4rDzyW5plN5iS7mf/4Snxvtf/Mb1vul5Xi1rVaLpvJ1qGR4EQdDbaUmWPgTsJGlNM3uqmsVCjgdBENSOmX0i6c941Mq2eLqiPuSiDROrAO+ZWWPJMkNq2PL99PxySd/gkrZHcGfjljXsUUrI8CAIujnrS1qiJF1pQ3o+ljWY2WeSLgd+iqeXPgj4EK+HWKRNem8LZOdoAK7Id0jqQ7O8frRO+80h5HgQBD2Ux/B0pQ3Ai/kOSasAKwAvm1k+KrsPXoalWEu2IbdmS7RFh34I+DbwTfxyYUuETSUIOoiIOOx83sfzNJcV6AYvyL0CcKyZPQEcBrwAnCVps8LYLC3elpIq5YoOgiAIWmYuuSxpUJKpo4GRaczvJC1XnChpsZQ2L09b5Hild0IQBEG3R1KjpHrUCRmdnj9IP7OY1/jcBAyQtE7hDD8EdqhhryyF3gHJwJyt82Xg9OJgM3s7nWWwpNPKbl5L+qqklWs4QxAEQXekHwU5KGkwfhFuGvMacUfhhtuLgZWBsWb2gaQmSU25ca3pvVmaup9Xec4bgPeAvUv08WPSWf5hZsX6hkEQBPMrv0/PUyV9KWtMeu3PcT/BFSXzzpW0cG78ADwLCLj9oyJt1KF/k55jJc1Tu7zQlr1bNgzbeBDUl4g47GTM7ENJD+POvquB/+BK9k14ZMpQ4DozuzSN/0DSnsCDwJ8krWtm2Q3pB4GPge+lz1tJOhX4Ta6IbRAEQdACJXL57dS1pJndKekk4FzgeUm3AC/jho2V8OiW+/CbcEg6hrbJ8WNSpGJWJyDkeBAE8x1mdr+kF4DdgYWAm5OxIc9FuIPwvhShOA2PENwCuJZmvbi1vR6WNAGvzfWIpLvw9HxDgdspj0Q8AlgVOBP4vqRJ6awv4sbrDYG98fdEEARBT2UCcJCkjYH78dR1e+IG5UPNbHp+sJm9mmp775yaKqUpvRuPOjlX0lqkyG8zO7sth0w6/IHAX4B7JP0FeBXYANge16sPbWkNSQ3pXGcAjW05RxAEQU/BzB6QdAHwf8CTkq4FPsLLA6yF2zYuLEx7A68f/qSkm3Ad/Xv4u+G3Zjahiq2LOvR9eJrr5fAsI3Pp0GZ2R6r08gXgGUk3AJNxXX0LPCJxWFr7OWAKblOHZtv4mGJJmSAIaiMiDruG7wPjcUPzcOAsYDvgfOAVPL3HHMzsUbxW1orkbnIkw/N30xyArdNaS3bs8YMgCHodebl8dGpbCsDMzscNy+OBzfEbzLsDy+M3rE8FkLQBbZfjT+OK71mEHA+CYP7mKtwgkf17LszsNty59zRuyP4h8CmuB4+vca9dgMvxKPEjgfVwQ8qJZYOTsXxIGvsu6dIIXuPlA+BY4O81niEIgqC78TKelu594EfAHni6z2+Z2bgKc7IololJ750HM3sG2B936B1Os96b8VF6nl/tQc3sRlw/vwW/VHI8boS+FNjAzF6qdq0gCIL5ATM7EXfSPY9n+DgK9w+cCmxnZjMLU2biZQTuAPbCL2RMw+0mR1S5Z1GH/i7wE1x/r6RDfx23kTyApy09HpfzzwB/yK09G9gNeCI1ZbbxyAISBO1EZvXIKhR0JflbcmY2orXxg04aX5f/6JEPOujhqKsPEHRPJA3CDSZXmdmwLj1MBdorx0N+B72EkOPdBEmNwBAzm6/+m7T1fVEvXTxPyPWghzJfyYzuTnt04JQabjhwkJldkdqaAMxsUP1OWV9qtaVktEeOh7wOehkhx4M5SFodd+yNMrMWI747YO8GusA23l7inRB0AyrK8Yg4rJJ8zStJq0kaJ+ltSZ8n4YSkHSTdIuldSZ9KelHShZL6l6y3taRRkp6WNF3SJ5KelDRc0hcqnGEZSVdIeiuNnyRp/w7+6kEQBL0KSRslGT4lyeo3JN0haY+SsYMkXZPk+gxJEyV9u2RcP0knSLpL0muSZkp6R9JNkjatcA5LdcEGSro8nWe2pGEd8LWDIAhqRtLGkq6V9GaSa5MlXaaSmq8trFGLftyUfhaXNDLtl+m8u6YxfST9VNLzSS6/KKnibec27r9YGvNqmvOCpBOVcialsSNoTkm6f5Lp2c+wan8/QRAEPQ1Je0iaIGlaktFPAcfhKZv/VDK+n6SLk647I9lAjsrL1DQuX2e8uMaikk5O74OPJH0o6UFJe7dwzu0l3ZzsNp+md8qNkrZN/aNxIzPA8IIcb2jr7ycIgqC3I2mTJCuLNW9XS8/XJD2TZO+ANGcBST+S9M8kwz9K/z5M0jz+icxeUtIetvEg6CSixmHtfBV4GK9NeDWwCDBd0nBgBK4s/w2vkbUOHkr9LUmbFmoBnAisjodcj8fzNm+e1miQtG0KtwZA0hfT2K/gOafvw/NJX4qHiwdBEAStIOlg4BKaa8s+DyyN18c6HPhzbvhKwCPAS8AYYACeFu/GJKPvzo39OvAzvCbMeDy104p4rZcdJQ1N6fWKDMDz838IXI/XfXmrLl82CIKgHcjrRo3C04DehNcVWRVPxTxU0iZm9mora9SqH4OnKf07Lh9vBPri6ZSuk7Q9Lqs3Bm5NZ9sd+I2kd4op9Nqx/+14zZVbgVnArsB5uL5+RhrXCPTH0zQ9DtyQW2NSS7+XIAiCnoqkc4CT8VRz9wH9gPVxu8iLuMzM0xf4By4vr0mfvwv8Cvga8OMq9uwP3IWnk34UT4u6AJ6ybqykNc3s1MKcM4DTcR07q421HJ6Cdb90pkxu7w/cw9w1DptaO1cQBMH8ipk9JOk5XJ9eCi/jsm/6+Ry3s6wOXGdm76VpY4B9cHl8OWB4itHf4nUL921t37CNB0HnEo7D2tkCONfMTskaJG2NGyUexPP+T831DcPrWZ2B52zOOBx42Qq5YiWdheeV/h6QN36cgwvGi8zs2Nz4i9O+QRAEQQtIWgNXSqcDW5rZU4X+FQpTGoARZnZGbsxY4Da8XmHecfgMsJyZvVuy5iPAyDSvyNq4An2gmRUNLUEQBF2CpNXwP8Cb8BSkU3J92+B/mP8K/2O/0hpt0Y/BDbuPAg1m9mkaPwa/mPEX3DC9VraepF8CzwInkdOd27n/43iNl0/S+DPwS4PHSjrHzD4zs0Z5Gr6jgUm1pLgLgiDoicizaJyMG303wi9UfAu/9DYFWAW/mHFObtqy+CW8tXIyfTjwT+BwSePMbEIrW1+EOw1PNLMLcuf5Au78O0XStWY2KbVvjzsNX8Z1/in5xTKd38xukDQVdxw2hhwPgiCoiatweb83fknjSFwn/xGwY24MKTp8H+AxYCsz+zC1n4pf3NhH0ngzG9vKnmEbD4JOJFKV1s5bNN80zjgqPQ/OGyUAzGw0fut430L7S0WnYWJkeu6QNUhaKM3/ADeA5NeZiEc+toikQ+Qp9iZ+MKnMdh0EQdDrOQy/MHNW0WkIYGavFZpeAc4ujLkdeBU3luTbpxWdhrk1rwVWl7RiyZlmAsdX4zQMOR4EQSdyGB55d3TR4Gpmd+IRiEMlLdHCGjXrxzmOyQzMafy9uAF4SdxwPDXX9xJwP7CWpAXrtP9RmdMwjX8bj37sh0fI1EzI8CAIujtm1mRmaqG+4YHpebaZvWlmw9L4gcBOeJTJQSXzTi7I9PeAs9LHA1o6U4pk2Q+YmHcapnVm4JmchBukM45Mz+OK77A0r6jzV0XI8SAIgrkYg8v9/c1stJktambr4xcM98Izfdyaxmbvj5MypyGAmX2Ey3Eof3/MIWzjQdD5RMRh7TyeV3oTmwKfAbtL2r1kTl/gS5KWMrP/AkhaDL+hvBueA3oJ5i5GuXzu36sDiwL3mtm0kvUb8VtyFTGzUXi6qW5TADYIgqCT2SQ9b21xVDOT8imjc0zG5f5cSNocl+ub4ulP+xaGLI87HfM0JYN0q4QcD4KgE8lk3BBJG5b0Lw0siOuw/2phjZr048RUM3uxZPzrwMoV9puC/10zMP27PftPM7MXSsZPTs8lS/paJWR4EAS9gPXT865ih5n9R9JrwMqS+uXsFrPwtHJFGtNzvVb23BB/35i8tmyRhdLz67m2TfAUeHW1CoccD4IgaMbMXpN0J7CdpDXM7OnUNRQvOTAyd0F6fdzJ2Fiy1D14KZnW3gdhGw+CTiYch7XzZknbUvjvcngrcxcH/ptuSdyFR6w8iadVegc3bpDWWTg3r196Vqp7VXamIAiCYG76p+c8N48rMLVC+ywKEfuSdsMjC2fgtbleBD7CleMGYAhzy/WMkN9BEHRHlkrPE1oZt3gra1StH+c+lxkCINXNqmAoyIwSC+Xa2rp/S7If3IAdBEEwP5LZJd6o0P8GXuO7P82y/N0KF/EyHbhfSV+e7H20YfqpRP591B94Px85HgRBEHQIo4HtcIddFjmYOe+uyo3rB7xnZjOLC5jZLEnv4hcTWyJs40HQyYTjsHbKbiRMAxYwswFVrrEL7jQcbWZzpeaQtCzzGjgypXuZCusNrHLfIAiC+ZnMGLw8nnu/npyFpx0dbGbP5DskXYY7DsuIW25BEHRHMt2zn5lNb8catejH9aar9w+CIOhtZO+GgfgluSLLFsYBfFHSgiXOw4ElY1vac6SZ/aTKc04FlpK0SDgPgyAIOpS/AtOB/SSdgl/22BHP1vd4btw0YICkhczss/wCkvoAX0zrtETYxoOgkwnHYX14CNhJ0ppldbNKWCU9ry/pKzMuPwt8DKxbSPuR0VD1SYGm83aqZXgQBEFv4SFgMK7I1ttxuArwVInTcAFgizrvFXI8CIKO5iFgA2BLYHw71qhFP643nbF/ZgivKQoxZHgQBD2Ux/B0cw0UHIeSVgFWAF4u1JXtA2wG3FtYqyG3Zks8gmfw2LKGcz4EfBv4Jm7UbomQ40EQBG3EzD6R9Ge8PuG2eNroPswdbQgu67cBtgLuLPRthcvgR1vZLmzjQdDJLND6kKAKRqbn7yQtV+yUtJikTXJNTenZUBj3FeD84vx0G+NqvA7iiMKcwXhx2CAIgqBlLsFTzZ0maY1ip6QV2rF2E7Bq/h0gSbjMnmevkr0bJFWq3RIEQdDZXIyn0B8pabVip6S+kloz4taqH9ebbP8HOnD/9/HI8RXbuU4QBEFP4PfpeaqkL2WNkhYEfo7bl64omXeupIVz4wcAp6aPV7a0YaoFfjUwWNJpaa+5kPRVSSvnmn6TntdL+l7J+OVzH7NU1StKapQU2UCCIAiqRNIg3GkI8IP0MwuX23my98e5khbNzV8UOC99LHt/zCFs40HQ+UTEYR0wszslnQScCzwv6RbgZTzP/kp4FOF9+I03gJuBF4CfSFobv3mxIn4rbjzlxodT8NsZxySBeB+eCmRP4BZg5475dkEQBL0DM3ta0uHApcBjkm4EnsfTaWyIp8bYuo3Lj8ytex1ucN8cdxrejBcID4Ig6BGY2bOSDsT/yH9K0m3Af/AagivikR/vAKu3sEat+nG9v8Odfn/mJFaPAAAgAElEQVSD/+mo/c3sQ0kPA1tKuhr/Hc0GbjKzf7fzKwRBEHQrzOwBSRcA/wc8KelavKb3jsBauEy9sDDtDbzO95OSbsLfI9/DbRm/NbMJVWx9BLAqcCbwfUn34TWulsOjWzYE9sZlPGZ2h6QJeBTLVZJ2Bibj6e22wCMSh6W1n8Prn+8FvAcg6VRgjJm9UvUvJwiCYP7mA2B3XMbfnC59zMHMxkraBdgD/9viBvzy3a7AysA4Mys6G8sI23gQdCLhOKwTZna+pPuBo3BldBc8//IUYBQwNjf2I0n/i9+qaMCNLy/hNbJ+iQu84vrvStocOAc3QA/GldzD8EiXEI5BEAStYGa/k/QkcDwuf3cF3gX+DVzejnUvk/QpcAxeDPwTPCXTAcB3CcdhEAQ9DDP7o6THgePwSxXb4wbi14FrgXFVrFG1ftyBTMIviXTU/t/HL498EzdcC3gNf68EQRD0KszsREmP4c68H+BG4hfxCMJfmNnMwpSZePq6c3Dn3Bdx28d5NEcGtrbndElDgEOAfXDd+gu48/B54Fjg74Vpd+OOw6fwC9qLAW8DE4E/5NaeLWm3dJ6sbMxZuDE6HIdBEAQtMwW/wDEMODG1FdOUZuwN3AMcCBya2p4BfoFnh2qVsI0HQecis8jEML8x6KTxdfmPHvmggx6OuvoAQZAhqQE3cJxhZiNaG99eOR7yO+glhBwPWiSlnLvHzBq6+ix56qWL5wm5HvRQQo4Hc5C0Om5EHmVmh7Y2vpW1RgDDga3NrLHKOY3AEDNr9X+XtcrxkNFBLybkeNAj6Qh9vFrinRB0MyrK8ahx2AKS9pA0QdI0SZ9IekLSyfn8/GlcU/rpJ+liSVMkzZD0tKSjUp2rsvU3lnStpDclzZQ0WdJlFeqwNKb6V30knSLpeUmfpjnnS+rbUb+HIAiCnoakxZNcvb/QvkiSzybp+4W+w1L7gbm2VSX9Icn1mZJeT59XLdlzRJrfIGkfSQ9L+lBSU27MMpKukPRWeq9MkrR/B/wKgiAI6oqkQUnGjU7/vkbSu0mmTpT07cL4OTKxpbUK7aNT+8qSjki69IykZ5+S6dSSdpf0iKSPJL2d9O9FWjj7cpLGpLGfSPqXpH1aGL+DpFvS9/tU0ouSLpTUv2Rs9nfA/0j6Zfr3Z4qatUEQBLWS1dTdQtJLSV5Pl3S/pP3KJkjaQNJtkj5IY/8hadOWNpG0V3oPfJLeC2PKbDBBEARBy5Tp9JJWk3Re+vvgnaRLvyJplKQVCvP3SvNHzrO49y8s6X1Jb0jqk9r6STpB0l2SXkt2mnck3dSa/A+CoDYiVWkFJJ0DnIynsBsLfIjn7j8H2EHS9oU0HH2BfwD9gWvS5+8CvwK+Bvy4sP6BeIqkT4Gb8Jz7q+JFZYdK2sTMXi052lg8temteD2ub+E1BpbGU+IFQRDM96S6U48AG0tawsw+SF2b43VWwHPjj8lN2yY97wSQtCEu15fA5fTTeD2v/YBdJG1rZv8s2f44YDu8tuHdQL+03heBB4Cv4OmPsnz8lwJ3tPc7B0EQdBIrAY/gqebGAAPwNPs3Jrl4dx32+DmeTvpmXD7uDPwM6CvpPTyl3A14SujtcD17QTxNUZElcdk7FbgS19X3AK6WtLyZzVWPS9JwYARe6+pveGq7dfAU19+StKmZTS/s0Re4C/9d3IHr6C+3+dsHQRDMR0haB9g3/YDXvZqA10dcCrd5jJH0NTM7LTdvM1xX7wtcD7wArAs04jK5bK9j8fIwU/GUpVOBHfD3xLQ6f7UgCIL5ke8AP8JtIQ/gKavXpNnePdjMpqSxN+Cydx9JJ5jZrMJau+C6+y9yfV/H/y6YAIwH3sdrsO8M7ChpqJnd1mHfLgjmI8JxWEK6oXAy7szbyMzeTO0nA3/Fc+QfjzsRM5bFDShrmdmnafxw4J/A4ZLGZYW/Ja2GG4qb8FQYmcBE0ja4weFXwG4lx/sqsKaZZYW7fwo8DvxA0snZWYMgCALuwh2FW+EKJbhzcDaeWz9zFCJpAbyG10tm9kqKavkD8D/AfvlC3ZL2xC+IjJG0hpl9Xtj3f4FNzeyxQvs5uNPwIjM7NrfexcCD7f2yQRAEnUQDMMLMzsgaJI0FbgNOwI0E7WUDYJ1MR07Rey+k9T8GNjCzZ1LfwsBjwIGShpvZ24W11gH+AuyVyWtJ5wH/An4m6Tozeym1b407DR8EvmVmU3PfcRjueDwDr6eVZ1n8cskQM/uoDt8/CIJgfmJ94EjgWfz9MlfdcXl2pVuBkyRdamZTkq7+e2ARYFczuzE3/mjgouImkgYB5+NG5vXNrCm1n4y/J75T928WBEEw/zEGGJnZxjMkbY/L8lNJl/3MbIakcXgN22/il/byZNmZ8nUTnwGWM7N3C+uvgF9uHIn/XRIEQTuJVKXlZGnqzs474tLthuOAz/GbEkVOzgvG5Nw7K33MRwMehhcRPzrvNExz7sQjW4ZKWqJkjxMzp2Ea/xFwNf7fcnClLyTpkBQmPvGDSSE/gyCYL7gzPbfJtW2DG4uvB1ZIFznAbycPyM3ZDI8ufDDvNAQws3F4tODXgC1K9h1VdBpKWgi/Rf0BbpTOrzcRl+MtEnI8CIJuwivA2fkGM7sdeBXYqE57nJXXkZMD7yZgUeCSzGmY+j4FxuERJ18vWWs2rj9/npvzMvBrXB/Pp60+Kj0PzjsN05zRwCSaI2KKHNeS0zBkeBAEQTlmNtrMFjWz9YtOw9Q/E/h/+MX3TK/fDNfFJ+SdhomLgRdLttoXl/u/yZyGaf3P8YspxcuAcxFyPAiCoHXMbErRaZja7wCewqO882ROwblKuEgamMY+ZmZP5NaZVnQapvbXgGuB1SWtWHa2kONBUBsRcVjO+uk5T3oLM/uPpNeAlSX1M7MsncUsPAS7SGN6rpdry3IuD0mp8IosjadbWg03cOeZWDJ+cnouWdKXnXsUnhq1SwvABkEQdCIPAp+QDAyS+uHy/QKa5fs2wH/wKEFy7RXfA7n2LXDZPqHQ90jJ+NVxg/e9ufdGnkYKinKRkONBEHQTJpnZ7JL2yTTruO2lTN99PT2LujFA5mRcoaTv1eQoLNIIDGdeHf0zYHdJu5fM6Qt8SdJSZvbfXPsM4N8l4+cQMjwIgqB1krH3RFxHXxGPKMyzfHpmuvo9xTXMbLak+/BsTXlamvOSpMl4Ou5SQo4HQRC0TooI3xcYBnwDt1UvmBuSL/uFmT0g6T94AM2SZvZ+6to3zRtdssfmwNG47r40rqPnWR6/1DgXIceDoDbCcVhOv/R8o0L/G7gS25/mPPjvVjCiZBGL/XJtS6XnCa2cY/FiQ/H2cyLL87xgSV8QBMF8iZnNTEaDbSV9Cb+ZvCBwp5k9I+kN3ChxSXoazY7Cat4D4O+BImUpo7P13qqwXqSZDoKgp1Cmi4Lro/XKZlJ2wWJWFX0LlfS1JneLOnof3KHYEosDecfh22YWxocgCIJ2IOkr+AW8JfEatnfgMn82MAi/ZJfVKm+Lbl3NnIqOwyAIgqAqfgkcg9tMbscv+H2S+oZRLmevwusW7oXbZ8Bl/mfA2PxASbvhkYUzgL/jEeYf4VHjDcAQmt8VQRC0g3AclpMZJAZSnuJi2cI4gC9KWrDEeTiwZGz2735mNr1dJw2CIAha4i5gO9wxuBmuXN6f69sx1cfaEngqVxsr/x4oo+w9kFFmPM7GLVNhvUr7BEEQ9FSylG9lf2+UXbroKFqTu0UdfQEzG1DjHuE0DIIgaD8/wS9wHJDSQ89B0t7MnZ2jLbp1fs5TVc4JgiAIqkTS0njq/yeBzczsg0L/3hWmjsFLfe0PXCJpPWBt4MaStKRn4VGLg/PlC9L6l+GOwyAI6kA4Dst5DE9j0UDBcShpFTwN0suF6L8+uFH63sJaDbk1Mx4CNsAN1ePrdehqaTpvp87eMgiCoKvI1zncFHjAzGbk+vbF684ulhsLzTK7ocK6W6fno1We41ngY2DdQprrjEr7lBJyPAiCHkCWZujLJX0V63J3ACtKGpSvZ5VoSM+ijr6TpDXNrMyoXBdChgdBEJSySnpeV9JXNAQ/WqEdSQtSXof8UeA7ac5dhTlfofx9VUrI8SAIglK+gmcguaPEabhC6p8HM5ss6S48W9TXaL4oclXJ8FXwS99Fp+EClMv+UkKOB0Hr1CudUG/j9+l5akpvB8xRQH+O/96uKJl3bopcycYPAE5NH6/MjbsYD7ceKWm14iKS+krasn1fIQiCIMANBNOAXYA1mds5mBkMTi58Bo9KfA7YQtL38gumz1vitRHvq+YQZvYZcDWwBDCisN5g3IEZBEHQm8jqvR4gac5lRUlfBk7vxHMsCJyfjAnZGVbGb0PPAv6YGzsyPX8nabniQpIWk7RJRx42CIJgPqYpPRvyjZJ2AA4qjH0A19W3krRLoe8I5q1vCK6LfwYcKWlQbv0FgAsJ+1gQBEF7aUrPLZINHQBJiwO/o+UAptHp+UNgb+Bd4G8V9lg1r6unuoojgDXaduwgCMrolhGHkpoAzGxQ+jwMd7zNk7KiI0iFWS8A/g94UtK1eL7kHYG1cEPxhYVpb+A5lJ+UdBNeY+V7eDq735rZhNz6z0o6EHdQPiXpNtwAvRBeO3FL4B1g9Y77lkEQBL0fM5stqRF3HELOcWhmr0h6ETcszAbuyfWZpP3xnPnjJN2IRw1+DdgV+AD4gZllqfiqYTxwMHBMchbeh78j9gRuAXZu05cMgiDohpjZw5ImAFsBj6RbxMsAQ/F6J1VHdrSTj4CNgX9JugNPk7pHev6fmc3JLmJmd0o6CTgXeF7SLcDLeE3DlfAolfuAbxY3kbQ9zQaLfnhqpV078HsFQRD0Nn4LHAD8JdlgXgdOSH3jcJ0ZmKOr/xDX1a+TdD3wArAunmnkNgqy2syakoz/BfCYpHH4BcMd8HfCv4F1Ou7rBUEQ9G7M7E1J1+C1Cicl3bsfXj5mBjAJl9Nl/BWYjtdHXAj4DX6Zb39g5Vz2kJHApbgcvw6/ELI5roPfjP+tEQRBHYgbVRUwsxPxGw7PAz/AbyUvgEcQbgeMkmS5m2ozgW3xAt57AYfiSujR+I234vp/xNOVXo0rp0cA++Eh19cCh3fMNwuCIJjvyJyF04GJFfr+VUwfamYP407CBXDDwwl4Suo/ARum/lrI1p+EXww5BleaD6M5yiUIgqA3sQtwOZ7m/0hgPfxi3omdeIZZuOx+CjdI7487A/c1s+JFQMzsfNzZOR43QhyDR7p8CxhFczaRPH2AG4GV8YuBZwDX1PuLBEEQ9GbM7N94OYAHgJ1wHRlcfl9aMv5+/NL1P/BL3kcCffGIxVI93cx+CeyDvweGAQeSanHRnGI7CIIgKEFSo6TWanv/EDgHWAT4MX4542+4nJ3L5iJpRLKtN5jZx8BfcKchlKcpxcwuw3X6N3C9fl9gMn5RsNpSMkEQVIHMWvv/e+dTEnHYD4/KeKOkLlSXIGk0LqBWBhqh+bzdnUEnja/Lf/TIBx30cNTVBwi6P+lyyMvAVWY2rJ1rNQB3A2eY2Yj2rNVeOR7yO+glhBwPWkTS6sDHZvZqO9dpBIaYWen/5iQdhKdf2tfMxra2Xr10cQh5HvR4Qo4HLZIM1PeYWUNXnyVPrXI8ZHXQiwk5Ph9R1ImTrv0MMMrMDm3DeiOA4cDWZtZY0r8sHrH4Yir/UjfqqY9XQ7wHgm5MRTneLVOVFknOwm7hMAyCIAiCIAiCoPtjZs920lZZjZXXO2m/IAiCIAiCIOhqVkvP1zpicTN7A48sDIKgC+iyVKVyjpD0lKQZkqZIujhFFxbHDkuhy8MK7U3p538k/TL9+7N0YyEbs7qk0ZImS5op6S1JYyV9rcK5FpV0oqSJkj6Q9KGkZyT9WtIyaYzh0YbgkSgrAStlkZK5tVaV9If03WZKej19XrVk3znh2ZL2kfRw2rspfQf7/+ydebhWVfXHP181Z0NxyCnBctZyQhNHCHPCIXPKKcFUCnNIMy0HIDXHzClzKEVNE8s5x34gEA4pKmYOaSo4Q4iAqCDg+v2x9uEezj3vve97B7jD+jzP++z77vlcdJ1119p7LUmPNvD7fCE9+2qV+gRBELRHJHVPMnCopK9L+qukD5OMfkTSJqnfypKulfR+eq88Lal3Ya7VJZ0l6TFJH+Rk862SNir0HYzLeIAj0h6yT79C310k3SdpkqRZ6Z1zj6SdKzzTZpLulzRV0qeSRknatqV+Z0EQBO2NgqzfQNLdkqZI+kTSGHkOwXz/eX8fSNpNHjppmnLhk1L7yMK4vM69v6SnkhyeIuk2SWsU94TnNszmyz4j0xyGhyYFeDTX3quVflVBEARNoiBnuyeZNznpzWMl7VnoP7iSPMvPVagfmurXltt7Xkrzj5f0S0nZLZUDkvz9JOnPV0paqoG9ry7p5tT3M0nPSDqkgf67SnogPd8sSa9LukjS8iV9G7UrBUEQdHQk7S1peLKnzEp2klGSBlbSifFQ/eD5CZHUW26TeUnS9CSv/y1pkKQlC+uNx28bwvw6dF6Xz94p3Uv2u7WkYXKb+6y070ckHdjSv5sg6KwszBuHl+J5A9/H84XMxvOgfAuPS/95lfMsDowAuuL5BaeTDL2SdgPuxOMj34cny14T+B7QV1JvM5sX/1jSCngYuU2B/+A5Sj4Hvo7HT74TmIgbB76b+l2Gx8bPnimbays81v5ywL3AS3hOq8OAfSTtbGZPlzzPyXgOxfvSXrqY2Styp2FvSeuZ2av5AXJj8ybAHek0RhAEQUekO56v5GVgaPq+LzBSUk/gIfwdMAx/J3wfeDDJzSxM3Y7Aabh8vQOYAawL7A/sLWk7M3s+9R0JLI/nqn0euDu3l3HZD5KGAGelue7G4+uvjsfwPwx/F+Tpgef4egLP/bUWsB8wXNJmZvafJvxugiAIOgpr4/LxBeAaPF3BQbg8P8TMhhX674/noX0Qz4HVrcp1BgJ743r6KPxvkIOATZMsngVMxfX+fmneIbnx49NnCJ5Payc8F8v4XHsQBEFbpBvwFPAGcDOuNx8E3JPsFBUPLNfAxbhsvA+30+wNnAssLmkKcD6uN/8Dt38cCyxKXV7DPCvgeQ+nAjfg+vmBwC2S1ijmq5U0CBgMTMHzak0Cvgn8DNhDUk8zm15Yo6JdKQiCoKMj6Rhc7/4Al9uTgVVw2dkfuJX5deJ78Fy0k4HbzOzfaapTcdv343i+8CXxnOGDgV7pHTM39b0Ut60Xdehq9ns08HtgLq7Lv5b22wPX8W+v6RcQBEEpC8VxmBxdxwOvA1ub2ZRUfzpuzF0NmFDldKvhTrmdzOyT3BorAH8GPgV2NLOXcm2bAE/iBtstcnP9DncGXg0ca2Zf5MYsiyuymNngdNphU+BSMzux8HwCbgK+DBxmZrfk2g4CbgNulrRRfo3Et4GeZvZcof4qPFH4MbjCm+eYVF5T/OXk1j0m69d115+w3Ga7VeoaBEHQVtkJOMPMzs0qJJ0J/Ap3KN4ODMzkqqS/47L4p+kDbhD4ipl9nJ9Y0qbAY7gRY3cAMxuZTsGdAIwry0sovwFzFm5Y2MHM3i20r1nyHH2B/mY2NNdvAP7uOQFXdOsRcjwIgk7CjsDFZnZKViHpStyZeLWkBwsG3z2APczsoRrX2Q3YysxeyK1zK3AwfpjxdjObCgxOt226VchPOzjdStkJGFqWnyXNHTI8CIK2Qi9gsJnNOwyR5N9DwCm4Taa5bAl8M9ONk5z8b5r/U2BLM3s5tS0BPAccKWmQmU0qzPVN4C/A93N6/vnAM8C5ku4wszdSfW/cQP0E/m6YmnvGfrjjcQh1fxtklNqV8oQcD4KgAzMAvzizaVEGS1qpRCf+boV5BgJvmtl8+QMlnQ2cgR/4GwZgZpemW+AN6tBF5JGirsIPeOxgZi8W2stsMFlbyPEgqIGFFaq0fyrPzZyGAGY2E/hFE+Y7uUS5+wF+Em1Q3mmY1vk3cB2weRI4SFoFP2X3PvCzokPPzGakXIvVsC1+wuKJvNMwzTMMGAOsD2xfMvbaEqch+Gm894F+SbEm7Ts7bfc69W+15Ne91sx6mFmPEIxBELRTxuOOvTw3pnIJ4JSC7L4VmANsllWY2aSi0zDVP487FXtL+lINezoulScXnYZp3rJY/4/lnYaJ69Net660UMjxIAg6CdPwAyHzMLOxwC24br9vof89TXAaAlyedxomrktlRVncVEKGB0HQhpgAnJOvMLOHgbdoOfl3dl43Tkbne4Glgd9nTsPUNgs3JC8ObFgy11zg1Lyeb2ZvApfj0aUOz/U9PpVH552GacxQPGrIoRX2XGZXyo8POR4EQUdmDh4NcD7MbHK1E5jZG0WnYeK3qdy1iXvL82P8ItTZRadh2kPFfIshx4OgNhZWqNLslt+okrYxuGJYLTOBf5XU90zlphVi02cJXDfET5ZthTtSRzekLFZJ9nwjKrSPwJ2GmwOjC21PlQ0wszmSrsNvtuyHG8TBleSlcIdjmXAOgiDoKIzLhbXIeC+VrxYdgmY2V9JEPET1PCT1BX6Eh7FYifrvwpWoPgH3NoDhJ7SrZWyxwsxmp72uUMM8QRAEHZFnyw544OGjj8D15xtz9aW6cxXUk8V4qGkIWRwEQcemTKcGl4E9S+qbQpmMzfT2Z0raMidj2U2Rt5KjsMhIPD/W5rm6nrjh+wBJB5SMWRxYWdKKZvZhrr6SXSkIgqAzcAvwG+AlSbfh9vrHzOx/tUwiaRk8itK+uN19OUC5LmuUjauRbVL5YAvMFQRBAywsx2GXVE4sNiQHWdWnGYBJFRxmK6by6EbGL5vKLEl2vRsjTSB7vkqG56y+XmJuPJ50Ja4FTsevkGeOw2Pw6+Q31LjHIAiC9ka9W9/pnVHalpiDn0QGQNIJeCz9j4C/4yerP8Wdf1nu2iXqT1OR5YGPzOyzGsZMrVA/hxQSOwiCoBNT7++DRKYjd6lQXytlsnhOKkMWB0HQkWlIF22pqFRluvmcKtrKIn/U8l5YEbdzDWpkf8sCecdhJbtSEARBh8fMLkm2+IH4ze0TAZM0Co/sVHYYZD5S5KYR+M31f+M3yf9H3S3GQdRma6lES9rvgyBogIXlOMwUxa/gCbnnIWkx/LZHxavFBSopd9kam5pZNSfHMuW5JU4/ZGuvWqF9tUK/PBWVVTN7V9K9wL6SNsATd28CDKv1FEgQBEFnI71fBuNGhi3M7P1Ce1NOWE8FVpS0VI3OwyAIgqCcr1Soz/Tqov4cht4gCILWIQsNWmY3KjsE3VrU8l6YBixiZl1rXCPeJUEQdGrM7CbgppQSa1v81uCRwMOSNqjC7rwP7jQcamb98w2SVqPxAx3Vkrffv9JCcwZBUMLCchw+i4fz3ImC4xAP4dkSp3yfxEN67kB1ISeewhXjHSUtU0W40iy0R9lesxyFvSqM7Z3KZ6vYV5GrcOE9gLowStfUMsH48/s2YdkgCIJ2z0q4kePOEqfhstSFmc7TkKwHf9fsCewG3NVC+2yUkONBEHRgtpC0XEm40l6pLMsF3trMBZC0aIXwfjURMjwIgnbCR6n8aklbjwW4j7UkdTez8YX6XqnMvxeeBPpK2rgs91VLEXI8CIKOSsoP+wDwgKRFcOfhjsAdNKwTr5PKO0um3anCco3ZW8p4En8H7U4zHIchx4OgcVoqDEWtDE3l6ZLmnQSTtCRwXgutcQN+CmGQpHoJviUtIulySS9J+gyYhCucqwEXJ+GY77+spHwIjCysxR2SiqfTHgP+A2wvaf/CPPvjzszP8HyOtTIceBXP8XIg8B8ze7QJ8wRBEHQ2JuFhSbeUtJEkkzQ0hdS4DHcsFvkIP4G8VoU5r0jlbyTVu7FeVhcEQRA0SBc8pzcAkronXfsH+E2SBXZII0em91d6FwRBEHREshyy/VPkDgAkfZWcnF4ALApckLfRSFobD6c3B/hTru9vU3mdpNWLE0laRtI2xfogCILOjKTeSjlgChyZyk9T2ZBOPD6VvQpzfw24oMLSTdGxf4/L/jMlbVRslFSWKzcIgiawUG4cmtljkq4AjgP+LemveMzjfXAjbaXcgLWs8WFy0t0FPClpOPAibgD+KvBt/Mbec3i+q1m4w+9i4EdAL0kP4/kD1wZ2BfbGE3CDO/BOAdYHkHQGMNXMrjQzk3QEnj9rmKR78FMQ6+M5tABeNrMs9Ectz2WSrgYuSVXX1jpHEARBZ8TMvpB0OXAa8HCq3ga/ld4VeJS6G+HZmBmS/gnsIOkW/ODGXOBeM/uXmT0i6RzgDOBlSXcDb+MhlbbHT8P1a/WHC4Ig6DiMBo6S9C1cN1831zbAzKY3dWJJ42laeL3hwAHAnZIewA8ATjCzm5u6lyAIgraOmf1T0mj8pslTkkbgOu5euC5ddhOxNfgX8C3gGUmP4HL8wFT+3Mxez+15uKTT8APpryWZ/Sae07AbfutlDB4tJAiCIHDuAmZIehJ3AAq/9AIwA/i/9HNDOvF9wH+BkyR9A7e3r4VHaLqfcufgo3j0v/MkbYL7BNbGHZZDyjZqZi9JGghcDTyXbO6v4TlutwKmU7DrBEHQNBZWqFKAE3AD7LF42M0PcUH1S+D5llggKY3fBH6GO/52wB2B7+G3EVcA9jSz97IxkrbFk8AeBByDG4jfBq4HXsrN/bCkk4GzU9XZwATgytT+T0lb4cbknXHlejLwZ+BQoBh+qRaG4g7Oz4Ebax3c/bT7m7G0E1e6gyBop5yJJ+j+cfreDfgrLqtLFVPgcPz08m7AwbgS/Q4pDLaZnSnpCfzU857AMvjtxrHATa3xEM2R4yG/gyBo47yJH+I7P5VL4IaHi8xs2ELa0x/w98X3gZ/jf0ONAprkOGwJXTwjZHoQBK3MPsBFqTwON87+HHgEd94tCD7CQ9JdCPQHvozbZi42s1uLnc3sAkmP4br59vjepwHv4gev642plbhSsnsAACAASURBVFrleMjqIAjaOKfhdvMtgD2AmbiN+2LgejObnfpV1InN7BNJ38Z1+F64Df4N3F5+CW5nnw8zezldvPkZMBBYsprNmtl1kv6dxvXCL+lMxm00f6hmjpbUxxsj3gFBe0VmnTMHdDot19vMyq5i1zLPSGCnWuZJ4ZZGmVmvJq7ZCz+V8SczO7zW8d1Pu7/Z/+gh9IIOQLP+3w/aN5K648bpG82s30LdTBNojhwP+R10IEKOdyAWhFxONw4xs+6tMX+1tIQunhEyPWjnhBwP2iW1yvGQ1UEHJuR40KLkbN5DzGxwa63Tkvp4Y8Q7IGjjVJTjCyvH4UJD0uDkuOudvlv2yfXpI+khSVMkzZL0qqTzCzkOG1tncUlnSno9zfGmpHMkLdHAmMUkDZT0pKTpkj6V9JyknxRyLv48lYel/FzrSRomaZKkL5KQDYIgaLNkOasakmGSdpX0gKTJSY6+LukiSfXCzEkanz5dJF0p6V1JM+V5bI+vEK+/bF/rJXk/VtL/0roTJF3bUKx8SbtIui89wyxJb0u6R9LOJX2rfq4gCIK2TkGebyDp7qRDfyJpjKRdSsYsIek0SS8kfXc6cHtj8xfqh6b67pIGpLlmSpqYZHaXXN9eSdfvBnTL6/8l826Q5n5b0udpvlslrV+yt2wPX5N0nKR/SfpMfrAwCIIgKFB4Z3xd0l8lfSjpY0mPyEPVIWnlJMvfT7L9aUm9C3OtLuksSY9J+iDJ7PeSzC7Le1Xz+yoIgqC9UKuMk9Qv9e8naTdJIyVN0/z2ccvrtZKuTnX7VNjDt1L7X3N1VdtYkl7+aPo6qKCz9yr0PVjSo5KmpvfEy5LOUAN29yAIamNhhipdWIxMZT/ceDBfaDpJA/BEq58Af8HDzfUCTgX2krSdmU1taAFJwo0f+wCv4+FLF8djNH+jwpgv4fGgdwX+g4fPmIk7OK8AdpX0OLAlHqZjONAH+DrwTzzs6y3AUng85yAIgvZAqQyTNAgYDEwB/obL4iz09B6SepbkuVocj72/PHBb+r4fcBmeY/bYKvbzPTw03qPA43hI6I2Bo/B3QA8zezc/QNIQ4Cw89n+W43B1YFvgMOryAdDE5wqCIGgPrA08AbwAXAOshockelDSIVmYUUmL47mxdsJzgP8OWJq6kHdb1Ljuhbj+fB8eOq83cDSwDp7THDxXyxA8HQF4fvOMcdkPknYD7gQyvfy/wJr4u6GvpN5m9mzJHi7DwzHdDzyApzoIgiAIKtMd/xvgZTwVS3dgX2CkpJ7AQ7hdYxiei/z7+PtkPTN7K82xIx5e71HgDlwXXxfYH9g72W7K0uBU9b4KgiBop9Qq4/bH07I8iOcN7NbA3Dfi6cZ+ANxT0n5EKofm6mqxsdydm2cUdTZ8cH0eAEnX46Gr38Hl/1RgGzwsah9J3zGzOQ08RxAEVdDpHIdmNhJXRnsB3fLXniV1Ay7HFc6tzeyVXNtVeE6sC/Hchw1xMO40fBIPhzozzTEIeLrCmNNxo8eVwIlmNjeNWRSPw38knjtrOu7QPA94Fo/Zf56Z/bKqX0AQBEHbop4MS6eJB+PK7h75wxqS+gE34AbgnxbmWg2Pob+Jmc1K/TO5O1DSMDMb3ch+bgZ+m43PrbsLrkifQV1+xKz+LDy83g4lTsU1cz839bmCIAjaAzvi+aZOySokXYnLvKslPZgORpyMOw0fBPbO/qhPBoCxwDckbWtmj1e57jbANzJDsqTFgBFAb0lbm9lTZjYeGJxkLWVhjyStgOci/xTY0cxeyrVtguv1f6DcsbkFsLmZvVnlnoMgCDo7OwFnmNm5WYWkM4Ff4Q7F24GBZvZFavs7njv8p9TpyiOAr5jZx/mJJW0KPIbn2dq9ZO1q31dBEATtkVpl3B64feKhxiY2syckvQrsKamrmU3JrbEEfshjEn74I6NqG4uZ3S1pKu44HFlBZ++HOw3vAg41s89ybYOBQfih8csae54gCBqm04UqbYTD8BsqV+adhonTgY+Bw6u49tw/lb/MnIYASaCeXewsD0N6HPAB8NPMaZjGzMUNLAb8xcy6mNmBeIJwgIkUbk2WIemYdC187MfjGn0XBEEQLCjKZNjxqTy6eMPbzIbit0MOrTDfL/IKaUHu9i8fMt/87xYV2lT/CPAifsAjz3GpPLnoNEzj3sl9bc5zhRwPgqCtMw03+M7DzMbit8mXx2+SgB+GM+Ck/ElgM3sGP3lMrqyGX+Vun5DmvCF93bqGeX6Q9jko7zRMc/4buA7YvCz8HXBhY07DkOFBEATzMR537OW5MZVLAKdkTsPErcAcYLOswswmFZ2Gqf556g6QfKlk7WrfV/MRcjwIgnZCrTLunmqchjluxG3nBxfq9wJWAG4p6Pi12lga4wT8fXBk3mmYOBv4kAp2lZDjQVAbne7GYSNkJ4hHFBvM7CNJz+EnNzYAykJe5Of5AhhT0jaypG49PPzGa8AZKk/F9RmwYUn982UCuIiZXYvfXFygCWCDIAgaoUyG9QRmAwdIOqBkzOLAypJWNLMPc/Vz8NAXRUamcvPGNpNCTR+Kh7PeFFd8F811+bwwZBvcAF6N1tnU5wJCjgdB0OZ5tsyAi8vgI3Cn2514CNF3Sw7pQZ0O3qi8zjG2pO7tVK5Qwzw9U7lpOq1cZL1Ubgi8VGh7qrHJQ4YHQRDMx7j8genEe6l8tfg+MbO5kibi4aPnIakvHgKvB7AS9W1cKwHvF+oafV9R58TM7yHkeBAE7YFaZVyjemyBm3AH3RF4yoGMsjClTbGxVETS0mmOycCJFeznsyi3n4ccD4IaCcfh/HRJZVGxpFC/fBXzTDGz2SVtH5TUrZjKdfEr1ZVYtsr5giAI2guVZOJiNCwPwWVi3sE2ucQAkV+jS0lbkUvwHFjv4zm43sUPbkBdbtw8ywMflZx0K6OpzxUEQdAemFihPi+DW0rXzlOWezw75bxoSVslMn386Eb6hT4eBEHQfKYVK8xsTjIC12tLzMFz0AIg6QQ8Z+1HwN+Bt/Bw0wZ8Fzcul0WLquZ9FQRB0F6pVcbVpMea2TuShgPfkbShmb0saRU8T+I4M/tXYUitNpaGWAEQsDKN21WCIGgm4Ticn0xBXRW/Ll1ktUK/hubpKulLJc7DVRtY9y4z+15VO60jTkgEQdCeKZNh04BFzKxrjXOtJGnREudhJncblN1J2T0e+DewbUm+lGIoDnCD9YqSlqrCedjU5wqCIGgPfKVCfV4GTyvUFalW124NsjU3LTF4NEbo40EQBAuQlM92MG7w3sLM3i+09ywbl6jmfRUEQdBeqVXGNUWPvRH4Dn7L8DT8RuFiFG5rN9HG0hDZ3p8zs7K840EQtCDhOJyf54DvAb2A4fkGScvj8fRnAi83Ms+zwM7A9sCjhbZeJf1fwY3P21RwNrYo48/v25rTB0EQNJcngb6SNjazskMclVgM2Bb4R6G+Vyqfa2T81/Dcv4+UKLRrpvayve6Jn667q5H5m/pc9Qg5HgRBG2QLScuVhEbqlcrnzOxjSa8DX5O0rpm9VujbO5XPttIe5+Jhoct4EtgP2AGo1XFYEyHDgyAIms1K+O30O0uchstSl4amjEbfV40tHnI8CII2TLNlXBXcCUwHDpP0S9yBOAfPR5unKTaW7CB4vcghZjZD0ovAxpK6mtmUpj5AyPEgaJxFFvYG2hh/wvNPHSdpnULb2cCXgT9VkVPwhlSeK2nJrFJSV+CMYueUNPYK/JT15ZKWKvaRtJqkjap+kiAIgvbLb1N5naTVi42SlpG0TYWx50laItc3L3dvKB8yj/Gp3F7SPCU1GR+uo/ywzRWp/I2kNUr2mq9rznMFQRC0VbJ8U12As/INknrgJ5CnUXe44no8xNBFBVm7EnBmrk9FJI0H9m/CXj/Ec8nW07Xxd8RUYJCkrSX1k2SS+qU1F5HUqwlrBkEQBC3PJDws6ZZJVwdA0peAy3DHYiW6ABcnGT80jesB/CC1P9MqOw6CIFgwVKuTN5kUbel2YA3gp3ho6AfMbFKh6/hU1mJjydK2rFVh+Uvwg4DXp0s+8yFpBUlxGzEIWoC4cZjDzMZLOhFP7vqspNuB/wE7AT3xm4GnVjHVn4GDgL2Bf0u6B4/Fvz/wNPD1kjFn44L2R8BekkbgcZ9XwXMfbgecDrzU5AcMgiBoB5jZcEmnAecBr0l6AHgTzyvVDZfJY/Bbfnnex/OY/FvSvdTJ3dWAq8xsdCPrfiDpNuD7wDhJj+BK93fw2+bj8Jvn+TGPSDoHd06+LOlu4G08PMghwFK4gbw5zxUEQdAemAgcJelbwGO47D0IP6g4wMymp34XA7sD+wDPJ1m4NHAArvdeaGZjWmmPw4GtgIckjQZmAc+b2X1m9qGk/XFjypPU6dwHS9oT/1tgRWDJknmDIAiCBYiZfSHpcjxE3gvJ5rI4fnO9Kx75qXeF4aNxfR/8Zs5Q/H2VMaNVNh0EQbBgGE11OnlzuRE4CrdvZN/noyk2FuA/uD38+5JmAxPwcKo3m9kEM7te0pbAQOB1SQ/jOW67AmsDO+IHAn/UQs8ZBJ2WuHFYwMyuAnalLlzRSbgR4yKgZzXXoM3McOPHIPx3/BPciXgDcGCFMbPxBN4/wIXknsDJuAF5EfwE9i3NeLQgCIJ2g5ldgCt89+MHJ07E5eoawLWU3N4GPsfDRD+CK6YD8BN1J+ByuBp+CPwad/gdi78P/oaHQC3Nd2JmZwJ9gcdx2f2zNO6TFnquIAiCtswHqRyFy8qP8D/UD8RDju5hZsOyzmb2OW4sOD1VHYeHN3oNOMTMqjmk11TOAa7GD/H9Aj+4t19ub8OBbwJXUXdbZUdgE2AEdYbmIAiCYOFzJm4z+QzX+78HjAW2xo3IlXgz9QVYn7r31aHAhrjBOgiCoL3yJlXo5M0lHfT7L35gewpuNymjJhuLmc0F9sUPVR8ADMF19rVzfY4F9gKewG1AJ+F29y64/f7S5j5fEAQg93EFnYnup93frH/0iAMddBC0sDcQtBwpbB1m1n3h7qQOSSOBncysxf9ba44cDxkedCBCjrcBJHXHDRQ3mlm/BbTmeGhdmZ9ClN4A9DezoS05d3N18YyQ50EHIOR4sMDIv6+AwTTj3VWLHA9ZHXRwQo63ERaGTt6eaSl9vBriPRC0cSrK8bhxuBCR1D2Lqy9pA0l3S5oi6RNJYyTtkus7IPUdVGGuVSXNlvTCgnuCIAiCzomkvSUNl/S+pFmS3pM0StLATLbjoUdJsjv7jMzNMT59vizpkvTzbEmDF9JjBUEQNIUsx+H2WUXSbS3JwwGSXpA0U9JESddK6lI2kaQ1JV0u6TVJnyW9+ClJZ5b1L4wdnNbsVdI2T+cuaVtH0l8kfZR08MclNfjXfdrnlZLeSO+ADyXdK2mrxvYZBEEQtE3y766FvZcgCIL2QsG23V3SbZImJ91/bAr5XzbuYEmPSpqa+r4s6QxJSxT6vSep3k1wSRPSumcW6ndP9b9q2ScNgs5HOA7bBmvj16u7AtcAfwG2BB6UlMXavwWYDvxQuYSyOY7Ec1Ze0/rbDYIg6LxIOga4B9gIuA/4DfAAHnqjPzAVD6cxIQ0ZkvsMLUy3OB7+7rt4iNXL8FOCQRAEHYEL0+d5PIf4u8DReB7B+ZDUI/U7DngPuBzXfz/Gb4a0OJLWxdMT7I/r4pcB7wB3UxfGrjhmCzwfy0A8vcAV+LtgR2CMpD1aY69BEARBEARB0IbpBjwFdAduBobh4f7vkTRfzllJ1wO3AusAd+B/J0zBQ5I+JGmxXPcRwOqSNsiNXwdYK33tU9hH9n148x8pCDo3izXeJVgA7AhcbGanZBWSrsQNGFdLetDMpku6GY8HvTu52NGShCek/RQXzkEQBEHrMQDPp7ipmU3KN0haycymAoPTrZduZja4gblWA17CQ5rWy4kYBEHQztkG+IaZvQWQjAAjgN6Stjazp1L94vjBua7AoWZ2a34SSWvSOvwOWBE40cwuy623D+48nI+0/9uBZYHeZjYq17Y68DTwR0ndzWxWK+05CIIgCIIgCNoavYDBZjYkq5B0K/AQcArwaKrrhx+4vgvX+z/L9R8MDMJt35luPgLPQdsHeCXVZc7BvwM7SVrazD7NtX2G29SDIGgGceOwbTANmO8KtZmNxU9ZL48nhQX4fSoHFMbvgt9aHGZm9RLLgt+QSVfEx3487qEW23gQBEFbwMy6L+D8hnOA2SX7mNyEuU6uxmkYcjwIgjbKO6kcU9L2q8xpCGBmc/C8gQBb5/rthZ9OvrfoNEzj3inWNZfkjPwOfsv7ysJ69wCjSob1Bb4OXJF3GqYx7+G3K1el/snnkOFBEAQLGTMbb2Zqau6vkONBELRlmivjWoAJwDn5CjN7GHiL+fX+E3B7ypF5p2HibOBD3FGYkd0czOvXfYCJeISSxUkpEyStCGwKjDGzz4sbDDkeBLURNw7bBs+a2ccl9SOBI4DN8eS2L0oaDewu6atm9nbqd0wqr660gJldC1wLCzYBbBAEQQfkFjw86UuSbsONy4+Z2f+aMNdM4F/VdAw5HgRBO2RsSV2mv66Qq9smlQ+27nbmY/NUjjGzuSXtI0m5anP0TGW3Cvlo103lhngI63mEDA+CIGjfhBwPgiBokHEVdOq3STq0pKVxx95k4EQPoFePWbguDYCZTZD0BtBL0iKA4bcb/w+3xczBHYmPAL0B4bcU6xFyPAhqIxyHbYOJFeo/SGWXXN1VeGjTo4BBklYF9sYF9FOtt8UgCIIAwMwukTQZz291PHAiYJJGAaekG+PVMsnMQmENgqCjMrWkbk4q8zm7l0/lu627nfnI9OvG9PA8K6bygEbmXrZJOwqCIAiCIAiC9kmZ3g+u+2cRD1fAHXsr4yFJq2U4nid9Czzy08rAcDP7WNLT1N1GjPyGQdCCRKjStsFXKtSvmsp8+NE7cQPHDyUtChyJO4Cvab3tBUEQBHnM7CYz2wY3IvcF/ogf6nhY0sq1TNUa+wuCIGhnZIaGNZoxxxepLDsYuXxJXaZfN6aHl43ZJ4WCqvQZUjI2CIIgCIIgCDozmS79XCO6dPEqYnaDcGfqOwdHAJtL6prapgHPtuZDBEFnIW4ctg22kLRcSbjSXql8Lqsws9mS/gCcjueDOQqYgYfOq4rx5/dt3m6DIAgCAMxsKh6O7oEUNuNI3IF4BzAXQNKiFUJ2NJmQ40EQdDCeTOXuNBB6vxE+SuVXS9p6lNRl+vX2FeR0r5Ix2T53AO6teYeJkOFBEATtm5DjQRAEtWNmMyS9CGwsqauZTaly6Aj80HUfPJTpG2Y2PrUNx23kP8DTBtxTjf0l5HgQNE7cOGwbdAHOyldI6oEng50G3CWpuySTNBSPxzwXuBJYG7i1Qo7EIAiCdk9B/i10JPVWeTD+VVL5aSo/TOVaubHjJY1vxe0FQRC0R+4DxgN7Szq42ChpzSrmyEL295c073CkpK9S0LMBzOwd4O+4Lv2Twnr7UD+/IcA9wOvAsZL2KNuEpJ4pf0sQBEFQgbam3wdBEAQLjEuAxYHrJdWLCiJpBUlb5OvMbBLwIrAdflA7H4r0cWAm8Iv0vTS/YRAEtRM3DtsGo4GjJP0MeAt4FDgId+wOMLPp6co1AGb2lqT78dyGEGFKgyAIFiR3ATMkPYkbuoXfPtkKvwH+QKobjufBulPSA8BnwDLAJwthz0EQBG0WM/tc0gHAI8Ctkgbgt/uWBDbETxfX+7slO4hhZt3N7J+SRuPGhKckjcDDkO4FPEz5TcRjgSeASyXtAjwPrAPsizsz9yrsc7ak76X57pf0ODAOPzDyVfw98DVgNeoOkQRBEARBEARBh0BSd+BN4EYz61freDO7XtKWwEDgdUkP47bwrviBvh2BG4AfFYYOBzbJ/ZzNN0vSY0R+wyBoceLGYdvgTWDb9PPqwIF4POY9zGxYhTHXp3KsmUXs5iAIggXHacDTeGLugUB/4EvAqbgBOeMPwHn4rfKfA2cDyy3QnQZBELQTzGwssBnwe6AbcBJwOJ6fsN6NwQrsg8veNYHjgM1x+XtqhTVfA7bBw0tvB5yAOwC/i+cVLxvzL2BT4AJcvvcHfgxsiYc/PRyYXOV+gyAIgiAIgqBTYWbH4gf0nsDzFp6EX47pAlwEXFoyLHMIGn7hpqxtopm92OIbDoJOisxsYe+h01I8pSHJgFFm1quKvoOBQcBRZvbHWtbtftr9zfpHjzjQQQehLNRk0AZp7om2BYmkkcBOJcm8s/bx4LdjmrNOU+R4yO6gAxJyvJPTUjJ1QdNcXTwj5HrQAQg53klpT/p9GbXI8ZDVQQcn5Hgno73L74yW0scbI94BQTugohyPG4dVko/BL2kDSXdLmiLpE0ljUnijfP8ukk6RNELSO5I+l/Q/SfdK6lmYfp3kNATYKa2TfQaX7GVj/OS0Ab+TNFbSnq3x3EEQBG0VSUtL+oWkcUkWz5D0RIX8WL0ymSppM0n3S5oq6VNJoyRtW2GN1STdIGmSpM/SWkfk50v9uic5vlP6npfjI0vmXUbSRZLekjRL0n8lnVohd2IQBEGHoKBPrydpWJKvX0jqlfrsKukBSZOTfHw9ycvlc/P0SjK3G9CtIHOHFteqsJeROf17vnnTu2Lr9K6Ykuq6N/VdEgRBEFRH0r1/J88LntlQ7kxh7cr6LyHpNEkvJFk8XdI/JB1Y0rcmm04QBEEwP8n+8Wb6ekRBBx+QyhsqjF0i6feTJS2R6vqlMf0k9ZX0eJLJH0n6q6R1K8xVtS0oCIKmEzkOa2dt/Cr1C3huwdXwfIQPSjokF1p0Q+BcPH/h/cBHwFr41evdJe0FvJL6TgGG4DcIJwBDc+uNLKy/I3Ao/m83Gs+vdRBwj6Sdzax4XTsIgqDDkQzII/AwdM/i4ZsXAXbF82NtbGZnlAztgYetewIPZ7cWsB8wXNJmZvaf3BqrpH7dcHn7OLAqcBWehyvPVFyO90v9h+Taxhf6fgnPj7U68CAwBw+Ldz6ez2sIQRAEHZuvA/8EXgVuAZYCpksaBAzGdeO/AZOAbwI/A/aQ1NPMpuNydQhwYpovH84oHzK6qfQEfgGMwd8vKwGf59qrfpcEQRAE1SFpbVzuro7r+X/Gw0cfAPSVtJ+Z/S3Xf3Fcp94Jt638Dlga2B8YluTxL0uWqtamEwRBEMzPSDyNwAl4bvC7c21PAa8DB0o60cymFcbuB6wI/MbMZhXavgfsDtyV1tgs9e8taduCnaaptqAgCGokHIe1syNwsZmdklVIuhJXPK+W9GAyaLwMrG5m8+U4kbQmLkx/iwtFgClmNjgZS8ab2eAG1l8bmAFcAZxhZl9IuhV4CDiF+nGegyAIOiKX4oriqWZ2YVYpaUlcef2lpL+aWdGA3Bfob2ZDc2MGAFfjyu/AXN/zcCfghWZ2aq7/pbgcn4eZTQUGpxsz3RqR46vjSvZ3zOyzNOcQ3ID+U0m/NrPZjf4GgiAI2i/bA+flDbqSeuNOwyfwPN9Tc239gBtwZ+FPzWw8LnP7ATQic5vCLsCPzOyafKWk9dKPtbxLgiAIguq4GteTzzCzc7NKSVfhh/hulNTNzGakppNxp+GDwN5mNif1H4Lr6r+Q9Dcze7ywTrU2nSAIgiCHmY2Upwo4ARhX1MElXY3nKDwcuLIw/JhUXlsy9V7AXoXDISfgdp+rgD65vk21BQVBUCMRqrR2pgG/yleY2Vj8tPTywL6pblrRaZjq3wH+CmwAfGFmqjEm9ARgeTP7pZl9keZ8GHgL2LrSIEnHyEOajv143EM1LBcEQdC2kLQicBgwNq8oApjZTDyUs4BDSoY/ljf0Jq7Hb/3Nk6HpBPPBuMw/p7DG88BNzXsKjs+chmnOScA9eDLw9csGhBwPgqADMZH6t6uPT+XReachQJLb4/CoGwuCcUWnYYGq3iV5QoYHQRBUJh2w3gW3axT1+8fx24dd8VspGUfi6VtOypyGqf8k4Oz09aiS5aqy6ZTsMeR4EARBw9wAzAQG5CslrY8f9HjUzF4tGTci7zRMXInfYPy2pG5pnubYgkKOB0GNxI3D2nnWzD4uqR8JHIGfergRQNJ2+CmMnsAqwOKFMWvginEtjDOzuSX1b6d1SjGza0mnOhZUAtggCIJWYitgUaA0DyweChQ8ZHSRscUKM5staSKwQq56fTx03tgKMn8M5YaIaphmZv8tqX87lSuUtIUcD4KgI/F8SYiinsBs4ABJB5SMWRxYWdKKZvZhK+/vqUbaq32X5NtDhgdBEFRm81T+o0LkjRG4sXhz4CZJywHrAO+a2SsV+ufnzVO1TSdPyPEgCIKGMbMPJd0O/CCFGM1ufGe3Da+uMHRUyVxzJY3BUxxsjl+kaY4tKOR4ENRIOA5rZ2KF+g9S2QVA0r74zcKZwN/xUxKfAF8AvfCTFks0Yf2pFernEDdIgyDoHKyYyq3SpxLLltQ1JEMXzX3vkspKMr9SfTU0tAcK+wiCIOiIfFBStyL+t8mgRsYuC7S247Bsf3mqfZcEQRAE1ZHp3u9XaM/ql29i/zxV2XSCIAiCJnEV8AP81uHjkpbAD2VMwnMYllGtXG6OLSgIghoJx2HtfKVC/aqpzJK/ng18DvQws5fzHSVdgzsOgyAIgtrJ5OxvzeykVlojy2tSSeZXqg+CIAgap+yE7zRgETPr2kJrfJHKSn/vlBmTM+IEchAEwYIl0+9XrdC+WqFfrf3zVGvTCYIgCGrEzP4p6TngQEknArvjDr8LKtwoh+rl8oKwBQVBkAjHYe1sIWm5ktAWvVL5XCrXAV4scRouAmxfYe4vWACnlMef37e1lwiCIGhNnsLl5Q6tuMYrwGfANyvI/EpyfC6ApEUrhJVuEUKOB0HQAXkS6CtpYzN7scoxc6mfCiDjo1R+tdgg6cvAerVvsWUIGR4EQVCPzI6yvaTF8jkLE71T+SyAmX0s6XXgWkgUrwAAIABJREFUa5LWNbPXGupfoFqbTkVCjgdB0InJ7BwN2a+vAq7Dbx7uix/Ku7aB/vUu10halDq7SyaXW8wWFHI8CBonQlvWThfgrHyFpB7AofjJh+za9XhgXUmr5/oJGAxsVGHuDykxbgRBEAR1mNkk4Bagh6Qzk0I5H5K+LmntZqzxOTAMl/lnFObeFFeAy8jC563V1LWDIAg6Kb9N5XV5/TlD0jKStilUf4jnPVyq2D8ZhF8BtpM0T/dO74xL8Dy2QRAEQRvAzN7BU7x0B07Mt0n6FnAIfiAkH+buekDARfm/ByStBJyZ61OkWptOEARBUJ+PcEdgQzaPW3F5+nPcKfh3M3ujgf7flrRnoe4neH7DR81sAiwYW1AQBHXEjcPaGQ0clZTXx/AQGAfhTtgBZpaFt/stnvT1OUl3ALOB7XCn4X3AXiVzDwe+L+k+/GTcbGC0mY1uxecJgiBoj/wEWBf4FXB4Spo9EVgdT4S9FXAw8GatE0vqnsYNA94Cfp5k/uO4zD8QeAD4LnWh8DKGAwcAd0p6AL+1OMHMbq51H0EQBJ0JMxsu6TTgPOC1JEPfxHOUdMONDmOA3XLDhuPy/iFJo4FZwPNmdl9qvwj4I/CYpL8AewBrAP8Bngc2bfUHC4IgCKrlR7iN5SJJuwBj8YPVB+A6d//CLcGL8RB4+wDPp/fG0qn/KsCFZjamZJ1qbTpBEARBATObIemfwA6SbgFexW8h3mtm/0p9PpV0I3B8GnZNhelWSuXbwF2S7gL+C2yGy/cpwMDCmFazBQVBMD/hOKydN3GF9vxULpk+fzezYVknM7tG0iz8tNwRuPH4H0B/YD/KHYcn4Kc2+uCGjUWAIbhiWw9J/YAb0pxBEASdBjObLmkn4Bj8BPJ+uCyeCLwG/BQ/tdwcZgLbAr/GZfK3cGPzQOAT3HFYNCz8ATdwfx8/XbcYMAoIx2EQBEEjmNkFkh7DjQzb48bgacC7eHijWwtDzsFzFe6FH9BbFLgRP6SHmV2fIn6chOvjSuO2A+5o1YcJgiAIasLM3kg3/87Ade9euK79EHCumT1d6P+5pO/gMv4Q4DhgDn4w5EQz+3OFpYo2nSXwg9u/MrOHW/q5giAIOiCH4xdmdsOddALeAf6V63M9rtO/D9zbyHxv4XaW04G++EWaO4FfmNmr+Y4VbEFfxp2Xo2gZW1AQBIDMbGHvoV2Qu4Fyo5n1a6x+Ae2pH8lxaGZDqx3X/bT7m/WPHnGggw6CGu8SdEaqkeuSzgV+Cey2MAwMtcrxkNtBByXkeFATktYCljazVxbmPpqri2eEbA86ACHHgwVGS9puapHjIauDDk7I8aCUnM36HDM7s0KfH+KHr080s8uasdZ4ADPrXu2YltLHywi5H7QzKsrxuHEYBEEQBBWQtLqZvVeo+wZ+cm4KfqItCIIgaAeY2VsLew9BEARBEARB0JGRtBh+G3wOlcOUgt8SBI8wEgRBG2ORhb2B9oykwdTFTD5CkuU+/XL9dpX0gKTJkmZJel3SRZKWz/VZXNLTaezeJWvdlNrOTN9H4ic3AG4orN29VR44CIKg8zFW0mhJVyW5/ToefmNZ4CQzm1mljF9U0tuSpktatmwhSVckGb7/Anq2IAiCDoOkvSUNl/R+ksXvSRolaWCuz0hJVhhnjXwGF/p3lXSepJclfSZpWlp3lwX0qEEQBB0GSctK+jyFqc7XLyVpZpLDhxfafpzqj0zft5R0maTnJU1J416T9BtJK5Qse4SkQRX2s6qk2ZJeaLGHDIIg6CRI2l7S6cCDwDeAq83snQaGZDkOj8rNMTSzbUsaIOmFJNcnSrpWUpdc315Jt+8GdCvo8ENb/gmDoHMRNw6bx0g8r8oJeBz9u3Nt4wCSQjoYv5nyN2AS8E3gZ8Aeknqa2fQUn/8g4DncEbiZmb2d5uiPx48eDpyb5h8KTMVzv9yTrZeY2tIPGgRB0Em5Bs9leDDQBb/CPx440swerUHGz5V0HZ639mDguvwikpYCDgM+wGV6EARBUCWSjsHl9Qd4fsPJwCq4PO4PXNXA8CEV6g8HvgZ8mlunG67/d8dzlz8ELAPsCTwkaYCZXVdvpiAIgqAUM5sh6SngW5KWM7OPU9N2eO5BgD7Mny+8TyqHp/JoYF88Esj/4Qfkt8Rvu+wu6Vu5ecFzZ/1Q0jlmNpf5ORK3kzV0QyYIgiAoZ2dgEG4fuQ74eTPmuhDYFdftHwF64/J+HeDbqc94XJc/MX2/NDc+bycPgqAJhOOwSsxsPIWYr2Y2MsVRPgEYZ2aD8+2SeuMG5SeAPcxsaq6tH35jcAieuDVLBn40MAy4VVIvYD3gStwYfZiZfZH6DpUE7ji8u7Ech8mgcgxA111/wnKb7VbbLyAIgqATYmZDJF2BJ/PeFjjNzC6A2mU8rjifCQyg4DgEDsIPovzazGaX7SXkeBAEQUUGAJ8Dm5rZpHyDpJXKhzhF/T2N6Y87DZ8ALs813YifaD7YzG7L9V8edyheLuleM5tYMmfI8CAIgnJG4I7CHYH7U10fPITdKOochUhaBDcev2FmE1L1ecCxRSeg6nJnDQQuyGw6kq4EjgV2xw/+Zf2F33r5lPkdlVl7yPEgCIIGSHr14BqG/BW4CPhvSds2wDeyVAPy8KcjgN6Stjazp5JcH5zsL6V6fZ6Q40FQGxGqtHU5PpVH5w3K4I4//PTDoYX62/HTbdsDFwC3A0sBh5vZB03diJlda2Y9zKxHCMYgCILqSLdLHgO2xuXwBbnmmmS8mb2P30zfUtKWhaUGAF9Q36GYnzPkeBAEQWXm4LdI5sPMJtcyiaQ+uC7+BrCPmc1M9ZsCOwF35J2GaY2p+OnqJYH9yuYNGR4EQVCR7OZgn1xdH+AZ4E5gTUnrpfrNgK65MZjZhJKbgwDXA9PxGyt5fp/KAYX6XYC1gWFmVi/fVsjxIAiCBcqv8vnJzWwOdSm7tm7KhCHHg6A24sZh69ITN2AcIOmAkvbFgZUlrWhmH+bqT8Rvtpycvp9nZo+07laDIAiCAuvjt02WAXY3s+GF9qbI+KuA/XFDxTEAkr6Bn6Z7MJ2YC4IgCGrjFuA3wEuSbsNvqDxmZv+rZRJJGwF3ADPwm+T58T1T2aWY9zCxcio3rGXNIAiCgCeAz0iOw5S/ags8TN2I1KcP8Cp14emyeiR9Cdetvw9shKcXyB+SXyO/mJm9KGk0Hsb0q1mKGJJuDlzdMo8VBEEQNIOxJXWZvC7LXxsEQQsTjsPWZUX8d1yaeDvHssA8x6GZzZR0P55Idg7wu1bbYRAEQVCJ9fATzeOAZ0vaa5bxKS/iy8DBkk5O+VYyI0XkUgmCIGgCZnaJpMl4OLrj8UN4JmkUcIqZlRke5kPSqsADeKSP75jZfwpdVkzld9KnEsvWuv8gCILOjJl9LmkMsLOklfFD1IsCw83sZUnv447D36fSyDkO8VQv++I3xe/B893OSm0nUpcrMc9VeGjUo4BB6R2wN56C5qkWfsQgCIKgdqaW1M1J5aILciNB0FmJUKWtyzTgIzNTI58J+UGStgdOASbjRunrU7z9IAiCYMFxH/BLPCTScEkrFtqbJOPxU8zLAodKWgo4DHiXXI6VIAiCoDbM7CYz2wZ38PUF/ogbhR9OhuiKSFoal/ndgCPNbHRJtyxs3QmNyPz+LfdUQRAEnYYRgHDHYB9gJp4uIGvrLWkJYAfgxSyfraQeuNPw/4D1zay/mf0i5bn6FR4BpIw7gYnADyUtChyJ217iIF8QBEEQBAFx47AlyGLpl512eBLoK2ljM3uxmsmSYfrPePi7bwOn4jmyTgXOr2Htiow/v28t3YMgCDotZnaepM+A3wIjJe1sZhNTc80yPnEjcB5+03AmsDxweYXcLKWEHA+CICgn5Rt8AHhA0iK4MXhHPARpPVKfW4EewFlmdkuFqZ9M5Q7A5c3ZY8jwIAiCeuTzHPYEHs9yzKa2Q4Ef4ykE8ukD1knlvSn/VZ6t8Vvk9TCz2ZL+AJwO7IXfPJyBh75ulJDjQRAEbYq5VD4oUkrI8SBonLhx2Hw+wkNlrFXS9ttUXidp9WKjpGUkbVOovgFYE/ipmb2AK8f/Bc6WtG2hbxbetGztIAiCoAUws0txWbwxMConz0tlvCSTNDIv4yUNTvW9zGwabqTeHDgHV3KvW1DPEwRB0NGQ1LtCdI5VUvlpA8MvAfYBbjSzsyt1SuFO/wF8T9KRFfbxDUmrlLUFQRAEDfIsfrN7H1znzjsHs7Ckvyh8Bxifyl75yZIs/nsja16L6+FXAmvj+vl0SSNr2nkQBEFQFZKOl/SSpM8kGX7AryX4EFg5RXQKgqCFiBuHzcTMZkj6J7CDpFvwhN1z8RNvwyWdht8seU3SA8CbeIi6bsBOwBhgNwBJJ+Kn3e4ws6vT/B9LOghPGP5nSZuZ2Udp+SdwQ8iJ6abiB6n+imSYDoIgCFoAM7ta0kw89N1oSd9uQMaD56idSE7GF7gKP9m8BvChmb3T6g8RBEHQcbkLmCHpSdyILPxm4FbAM3gIu3pI2ho4Ab/9/a6kwSXdRprZyPTzIbjB+o+Sjgf+iedfWRP4JrAJflNmUks8VBAEQWfBzOYmh90+qWp4rm2CpNeBr+O2llG5oU/jIU2/J+lxXPf+CrA7dRGaKq35lqT78dyG4GFKj2lgSBAEQdBEJH0fuAx4DrgUz0X7fAtNPxzX+x+SNDqb28zua6H5g6BTEo7DluFw/ObJbsDBuLHiHeBfZnaBpMeA44HtcUV4Gp7P6lr8VBuStgQuACbgxuR5mNmzkk7BBewNwHdT/UeS9gMGAf3wsB0Af6IuD0s9up92f5MfNK5yB0HQWTGzoZJmATdR5zwsk/EAS5CT8fhJ5tuAt9Jcz0kah+dPfK/WvdQqx0N2B0HQwTkN2BXYAtgDdwROwEP9/97MZlcYt3Qql8Rz2lZiJICZvZN09uOA/fDQeYvih/deAq4AXmhss83RxTNCrgdB0AEZjuvS04GxJW1fB57JH5JODse98Sgee+A6+bvAH3DdfIdG1rwedxyOTXaXqjZarRwPWR0EQTCPPbPSzN4DkNS9heY+B08BsxewHa6f34jnMC+lJfTxIiHzg45GOA5bADP7Ly6cKrWPwU++NTTHM7ihuVL75ZTkUzGzh4CHqt5sEARB0CBmNh4/AFLW9mc8D22+bj4Zn0JujDWzk3J9JgOTc32Woy4ny5SW2nsQBEFnJEXquLqKfr0K30dSQd43MMfHwK/TJwiCIGghzOwK/ABGWdsAYECFtinAwGJ9FnLUzLo3sOzmqWz0HRIEQRA0i9UBMqdh+nk8BV3czPrhl2PqUUl3N7NP8PQyP26hvQZBQOQ4bHUkbS1pmKR3Jc2S9L6kRyQdmOuzt6ThqW2WpPckjZI0MNfnFUmfS1qpwjqnpvxZP1kQzxUEQdDeqVL2jkyydQlJ50h6M/V9XdIgSVUl4M7nOExVf8DDVgPslNqyz+AWfdAgCIJgHpL6SbpD0hspv8p0SY9JOqykb/YOWFzSWZL+k94BQ6tpD4Ig6IhIWjbZJh4r1C8laWaSi4cX2n6c6o/M1a0r6aZkK/k86eI3SVq3ZM2haXz3krZetejQSWafKekNPHrTF8C6kioe5A6CIAiaRmYLAXqn7/NsH7k+fSQ9JGlK0qVflXS+pC4V5qz6/REEQdOJG4etiKSjgd+Tch4CrwGrAD3wE3G3SzoGj6X/AX6FenLq802gP54HC/yK9a/xUKhlp/COAD6nLixeEARBUIEaZG/G7XjM/L8Cs/EwSoOBHpL2NjOjOg5JIaa/C8zAnYcTgKG5PiNrfqAgCIKgWn4PvAiMBt4HVsTD290saX0zO7NkzB34O+BB4G7q5zBsrD0IgqDDYGYzJD0FfEvScukmNnh4uMz51ge4OTesTyqHA0jaCs8/uxxuK3kJ2AA4DNhH0s5m9nRL710ei3QUsA2eAwvgceAHwIYtvV4QBEEwz77RD+gGDMk3ShqA6+efAH/B9eheeMqBvSRtZ2ZTc/0XyvsjCDoj4ThsJSRthBuepwM7mNmLhfY1048DcIffpmY2qdAnf7vwZjxm8xEUHIdJaG4I3JnCdJTt5xhSou+uu/6E5TbbrYlPFgRB0CGoVvZmbAhsbGYfpT6nA4/icfoPY37DSEMcjRspxuI5sp4BxpvZ4MYGhhwPgiBoETYxs9fzFen2+IPAaZKuNrN3C2O6pXGTKaex9pDhQRB0NEbgjsIdgSxRVB/80PQo6hyFSFoEv2nyhplNSM67m4AvA4eZ2S25vgfhecFvlrSRmX3Rwvs+GHcaAkzFcxyegefGatDQHHI8CIKgdlJ40ZEp+lK3vO1DUjc8LdcMYGszeyXXdhUeevRCkuxt7vsj5HgQ1EaEKm09fow7Zs8uOg0BzP6fvTOP82u8/vj7Y4nW0kTsSyVaRe1LLKlt0tjVTltLi3RRtEFbFX7UqNqLUjuNoFRaqa1EaCJBSDUkdqoIERGCxJqQOL8/znOTmzv3OzPfme9Mkpnzfr3m9cz32e+Ec8/3nOc5x97IfZyF32Ap9pla6D8c2FzS+oWuh6Xy+kqbMbOrzayXmfUKwRgEQQA0Q/bmOCNzGqY+M4CT0sd+Jf0r0cfMvmRm25jZE9VsNuR4EARB6yk6DVPdZ8BluO7et8EgOLUxp2Az2kOGB0HQ0RieyrzM7IsfivsHsLqktVP9JkD33Jhv4bdDHs0bfQHMbDCeO3wdYNs22PcRqfy2ma1sZieb2RfpAPYZjQ0MOR4EQVBzDgW6AJfmnYaJ/wM+BH6QCyXdqvdHyPEgqI5wHLYd2Sm2oU30uwlYEnhO0kWS9pG0QoW+g1KZOQqzE9IH4Ve572n5doMgCDoV1che8JPTRR7GT1Vv2hYbDIIgCGqPpDUkXSbPH/5JLsfKkNRltZJhjzUxbVPtQRAEHY1HgU9JjsOUh2oz3Dk4IvXJnIrfTmVWv1nhc5Gsvi107M3wnIYPl7SNbIP1giAIgspUfB+kg9vjgC/hzsJG+xfqw0YTBDUgHIdtR7dUFkMdzYOZXYg7Al8D+gO3AVMkPSCpV6H7bXjo00MlLZrqvoOf3rvZzGbVavNBEAQdmSplL8CUkjlm4bkRv9KWew2CIAhqg6SvAU8AP8Nz3F6LpwI4nbmRO5YoGfpWE1M31R4EQdChSDe1HwY2TIfv6oBFgeFm9jyeQzZzHPYFjLkG3a6pnFxh+qy+W4X21tAVeM/MGkQdIWR5EARBe1Pt+2B+vj+CoNMRjsO2I0vcWnZqeR7M7AYz2xpYDtgD+DOeK2BY/gaMmX0K/A1YBdgpVTcZpjQIgiBoSHNlb2Kl4nhJiwHL4wc6giAIggWfX+Iy/0dmVmdm/c3s1JRrZVilQWZmjU3aVHsQBEEHZQQg3DHYF5gBjM619Unh5bYDns3lFZ+eypUrzLtKoR/4LUHwkNJFqjEQTwe6S1q8pK3SfoIgCIK2odr3QUveH0EQtJAypSuoDWOAXsBuQDFOcylmNg0PN3pPSiDeDzdiD8l1GwT8GDhM0uNp/qfMbHxzNzbhnD2a2zUIgqDD00zZuwNwY2HotvjJ6nGtWP6LNEdVhBwPgiBoEWulckhJ2w7ttYmQ4UEQdBDyeQ57A4+kPOBZ2yHAUcBSub4wV3euqzBvn1Tm84Fnuca/Cvyv0L8sWkglngB2xPX4BwptlfbTgJDjQRAENWEcsB8uf/PvCSR1w3PkzgCez/WH6t4fpYQcD4KmiRuHbccVwCzgVEnrFRslrZ7KPpJUMn7FVH6SrzSz0cBLwN54mKXFmZv7MAiCIGgGzZG9KefVJunzqZKWzY3/EnB2+nhdK7byLm4ACYIgCNqeCamsy1dK2gU/mJd97pneAesSBEEQVOIJ/FbH3sD6zGv0zcKSnlT4DH4r8UVgW0kH5CdMn7cD/gtMTHloBzE3l+yfU13P1H9D4LjUtk8z9pzp7WcmfT5btztwSjPGB0EQBLXjL8DnwC8krVVoOwNPC/MXM5uZ6rI+Ze+PM/D3xxfAKEm3t922g6BzEDcO2wgze07S0cCVwDhJd+AOv+WALfDQdn3wvFofSRqDGzOEC7otgMeBf5VMfwMuQE/FnZM3tenDBEEQdDyqlb3PA89KuhVXbPcGvg7cTcObiNUwHPi+pLtw48vnwINm9mAr5gyCIAjKuRw4Avh7kudvAhsAu+LpAL43H/cWBEGwUGFmsyWNxPViyDkOzew1SS/j+vJsYFSuzSQdBtwPDE62kheAdXDn34fAD/G8iBmZPeUb6fNJ6TbK3mme7zRz23/FZf1ewDNp7cWBA4D/pP0GQRAE7YCZTZB0HHAZ8ISkvwHv4JFAeuPvhhNLhs5g3vfHprg+b8Bg/PBJs6L/BUFQmXActiFmdo2kZ4Bf4yeb9wGmAk8B16ZuA4BdgM2A3XHh9xouGK+okLT7BuB0XMH9Zy5XQLPoOeDuqp8lI65yB0HQQWhS9hYuJH4XP6xxCLAqMAmoB85pZW6rY3Hltm/axyK4fG/UcVitHA/ZHQRBAGb2lKQ+wO/x3LaLAU/iIZKmMddxOAn4JjCQkhy3rSV08SAIOhDDcefdB8DYkravA4+b2Tz5pszs35K2wG/57QjsidtK/gqcYWYvZrcKU/8ZkvoCl+IG5R8CzwAHA11opuMwOS0PxL8LHA78HJiM30T8Hf6doEmaK8dDZgdBEDSOmV0u6X+47Xx/YElgInA+cFZKLVPkdPyme/b++DjVn2BmFzRn3dbo43lCzgcdmXActjFm9igu+Cq1X4nfSqxmztdpQU6sIAiCwKlW9qbQGKfQjBBGZtYgBKqZ1eOOxmL927jBIwiCIGgHzOwR4NsVmvPy+wXgW03MVVejbQVBECyUmNmfgD9VaDsSOLKRsS8CP6hirYnMvd04h5yDcXyhf12FeT7DnYS/K2kuS2UQBEEQtJLG9GYzuw+4r4rp3jKzc7IPkn6LOxMfb/EGgyBoQKfOcZjlL5E0KP1+i6SpkmZIGivpO4X+XSWdIGmEpDckfSbpHUl3SupdYQ2TNFLSSpIGSpoi6WNJj0jaLvVZStL5kl6TNFPSs+kUXKV9HyTpAUnT0l6fl3SKpCVq+xcKgiCoDS2Qt/Wpf11jcxXqB6X6NSX9XNJzaf4Jkk7OchpKOlDSY0kWvy3pUklfbmL/N6a+n0p6XFJFZ5+kXSTdk55vpqSXk4zvVtJ3Qvr5iqQL0++fS6pv9A8aBEHQwSm8N74u6VZJ70r6UNJ9kjZI/VaQdLWkyUnm/yfdKszPtaqk30oaLemtpMO/Kelmlecib+o901PSkZKeTmtOSXvo2qZ/lCAIgk5OXg43o+8iki5O/f+R1/er0deDIAiC6pG0l6ThSUefmXTvUfK0Xvl+3SWdnWzbn0qansbt3Iw16uR5yU9PVQ8kmV9qSwqCoDrixqHTA0+2/Qqeq6o7HqroDkk7mtkDqd83gTPxEHJ3A+8Da+Dx8XeTtKeZ3Vsyfzc8AfiHeOiN7sD3gWFyh+NVqe6fePjRg/BYzRPNbEx+IkkD8dwsbwBD8LBKW+M5D/tK2snMZrX+TxIEQdAmNFfetoY/4OGh78JPre2Fy+4ukt4DzgFuBx4CdgKOwW9xH1UyV/ae3BAPYdQND1t6k6TVzOz8fGdJp+E3C9/DZfrbwEZ42I3dJfU2sw8Ka3QBRuB/i/vwUE+vtuzRgyAIOhw9gX/juWYHpc/7AiOTHn0vLjcHM1fHHipp7RSlA2B7PCzdA7j+/BGeJ+sAYC9J25jZk1Xs6Tw83HX2nukD/ARYi8q3GYMgCIJ2QtKXgJvwUNSXAf3N7IvU1hJ9PQiCIGgmkn6K27rfwvXlqcCKuKw9As87jqQewEhcv38I1+uXwsNP3yvpSDO7ppGlJuBOwzo8jPX1qY5cGQRBCwnHoVMH1JtZdkIBSTfjAusE3MgAbrBY1cym5gdLWh03hF+UxhTZGBeYR+eU1fvxXIUP4E7FOjObkdpuxJ2TJ+KGkWydw3EBextwiJl9mmurB07DDeAXV/8nCIIgaBfqaJ68bQ2bAxuZ2aQ0fz3wvzT/J8DmZvZ8alsCGAf0k3RaSc7YpVK5WU5+n4OHwDhT0hAzeyXV98GNEI8Cu+dj8Sf5fR2u1B5fWGMV4DlgBzP7mCAIgiDPDsApZnZmViHpVDzE3L+Bv1GuYx/PXHk7AljJzD7MTyxpY1wPPwfYrYo9bQ1smDkmJS2W1ugjaUsze6zqpwyCIAhqgqTuwJ14uOkBZnZurq2l+noQBEHQfI4EPgM2LtpYJC2f+3g9frj8IDO7JdenG+5QvETSnWY2pWwRM5sA1Cebzw7AIDMbWbvHCILOTacOVZrjNeD3+QozGwa8DmyZq5tedBqm+jeAW4F1Ja1RMv8neILWL3J1NwOzgGWBYzOnYZrvIfxkxCaFeY5NY/rlnYaJM4B3gUPKHlDST+XhAMd+OL7MtxkEQdAuNEvetpIzMqdhmn8abjxYErgicxqmtpn4LZUu+K3yIrOBr+Xlt5m9ClyC3xDP52Xpn8qfFBN4m9kgPO9KqYwGftWU0zDkeBAEnZQJuGMvz/WpXILKOvYcPdrM3i46DVP9k8x1+C1exZ5+l7vNSIr2cV36WPouCxkeBEHQ9qTbK6NxWfyDvNMw0WJ9PeR4EARBVcwCPi9WZnb1dIBvB2BI3mmY+kzDL8d8Cdi/VhsKOR4E1RE3Dp3xZja7pH4iME/uQknb4A683vg16y6FMavhBvA8/y0aK8xstqQpwFLZbZUCk4Ctcusuid9cnAocJ5Xm7J5JueEbM7sauBqg54C7raxPEARBO9BsedsKxpbUvZnKsmTZmZNx9ZK215OjsMhIXJHdNFfXG1eMD1R5ntouwAqSljOzd3P1M4CnSvrPQ8jxIAg6KWXvjUymN6ZjzyPTJe0B/AzoBSxPw+9BywOTm7mnsvfMxFQuWzbNMeWlAAAgAElEQVQgZHgQBEGbsw5+k3ApYDczG17Sp6X6esjxIAiC5nMTcAHwnKRbgFHAaDN7J9cns/90TTcGi6yQylI7d0sIOR4E1RGOQ2dahfpZ5G5lStoXv1k4A7gfeBn4GPiCufGUlyiZZ3oj8zfWlv/3WRYQLjhPqzAmCIJgQadZ8raVlMnVWc1oK7ttUhoSA4/VD9A1V7ccLrebktFL4zfEM942s1BagyAIymkgt81sVjpE15gePUemSzoW+COen/x+/JDfJ4AB++CH88p0+EqUvcuyd8miVcwTBEEQ1I618Vy344EnKvRpqb4eBEEQNBMzu1DSVOBo/Kb3cYBJGoVHCxmLy2OAndJPJZZu080GQVCRcBxWxxl4jOZe+VB3AJKuwh2HbUVmGBlnZpu14TpBEAQLAlnYubL3VLd23MdKFepXTmXeaD0dWMTMule5RjgNgyAI2oiUf7AeP/CxmZlNLrTX6rZ7EARBMH+5C3gROAsYLmmn4q1BWq6vB0EQBFVgZjcAN6R8hd8C9gX6AcMkrctcW8qxZnbJfNpmEASNEI7D6lgLeLbEabgIsG1bLmxmH0l6FlhfUncze6+lc004Z48a7iwIgqBNeD+VXy1p69WO+1hDUs+UdDtPXSrH5erGAHtIWt/Mnm3LTYUcD4IgaDbL4wdO/lHiNFwaaPcDeSHDgyAI2gYzO1vSp8BFwEhJO5pZPoJITfT1kONBEATNI+UrvAe4J9nP+wHb4/IYYDug3R2HIceDoGlqFRZugUJST0kmaVCNp54AfEPSqrm1hJ9iXq/Ga5VxIR5zf2A6sTEPkpaVFLcRgyDoCDyWyiPSbREAJH0V+G077mNR4Nyk4GZ7WBMPtzEL+Euu70WpvCb/nsiNW0rS1m252SAIgqABb+NhSTdPjkIAJC0OXIw7FoMgCIIOgpn9ETgKWB8YVdDLQ18PgmCBoQ3t122OpMUlnS7pJUkz03Psk9r6JHt5kRVT+UkKV/oQsJ+kfhXW2FDSimVtQRC0PXHjsDouAq4ExkkagifV3gZ3Gt4F7NmWi5vZQEmb4zGiX5Y0HVgT+Cue+3B74DrgZ225jyAIgrbGzP4t6UFcrj0maQQeNnRPYBjlNxHbgqeArYDHJd2H31r5bip/Y2Yv5/Y8XNIA4GzgJUn3AK/iMfl74OGsHwZ2bae9B0EQdHrM7AtJlwADgPfTTZS/AH3wXFgPpN+DIAiCDoKZXSlpBvBn4EFJ3zaz10NfD4KgIyJpAoCZ9WzHZX+FH+p+EPgbbiN/IbXdBnwkaQx+CUf4zcItgMeBf6V+BwMjgD9L6g/8G88lvjqwEbAB0Bs/CBgEQTvTUR2Hk4BvMm/uqVZjZldJmokndT0M+BQ/HXEEsD9t7DhMezhG0lDcOdg3Ve+EK7vnM+/tlyAIgoWZvXG5tjfwC+Al4DfAfbjzrj14H9gNOA+X9V8BngP+YGY3Fzub2bmSRuM3ErfF9z4dfy9dDTQYEwRBELQ5pwLvAOfgxuH9gPuBU4DT5+O+giAIgjbCzAYl+80NzHUevhL6ehAECxBtYr9uJ74DfATsZGafFdoGALvgKQF2B2YArwEnAleY2ecAZvZGuiDzC9yufgge9ekt3O7yJ+Dptn+UIAjKkJnN7z0ELSRdZT8MWLMk/1ZFeg64u0X/6BH/OehglIVNCIKFgmrleMjvoIMScjyoivl0GrsBoYsHwRxCjgcLJc2V4yG3g05AyPEFgPmh40p6BVhkfuvVLaWl+niRkPNBB6CiHO80OQ4lDUp1a0r6uaTnJM2QNEHSyVnsZUkHSnpM0seS3pZ0qaQvl6xhkkZKWlXSjanvp5Iel3RwhX0tIulnkv4j6aO0xn8kHZXPn1WyxsqSrpU0SdJsSYdLMtxpCPBq6mvZyyIIgiBonPy7Iv1+i6Sp6d0wVtJ3Kow7SNIDkqalvs9LOkXSEoV+b0qaVDL+tbTuqYX63VL972r7pEEQBPMHSVsnuXZbI32eT3lRuufqdpF0T5LJMyW9LOl8leT4Tv1Xl3RJyrHyqaT3kj5/amqvS7pzD6BHTm9ukFNGUl9J96Y5Zkr6r6RzJHUtWXdkmqOLpN9KejGNGVTsGwRBEDQk9PEgCDozatx+3VPSkZKeTnJuiqSr8zpplTruumnuiZI+S/PdLGmdkn1le/iapF9Ieirp2COzNjx1Vn7NCbnxh0saIumVNO4DSaMlHdrI36K7pDMlPSPpE0nTJT2Z9PClSvqenWT/p6nvcEk7V/2PEARBRTpqqNLG+ANQh+ckvA/YCzgT6CLpPTyE0e14CNKdgGPwa9JHlcy1LPAIHn/5OubmvrpJ0mpmdn6h/414/OaJwLWAAfsCl+MhMg4pWaM7MAa//v0P4AtgCh5WaR9gY+DitAdyZRAEQdA8egCPAa/gcro78D3gDkk7mtkDWUdJA/GQpW8AQ3CZuzVwBtBX0k5mNit1HwEcImldM3shjV8LWCO1903jyH0GGF77RwyCIGh/zGyMpBeB3SUtZ2bv5tslbQmsCwwxs/dS3WlAPfAe8E88p8lGwK/TPL3N7IPcHL3w3Lfd8Rwr/wCWxHOQ1+NydgKuOx+Xhv0xt43xubmOBK4APgb+ntauw8Mq7SlpGzMr07WH4DlbhuLfIyIPSxAEQXWEPh4EQTAv5+HhPjP7dR/gJ8BawLdTnwk0T8fdFdeRF0/z/Q/PI7gfsIekPmb2RMkeLsZzE94N3APMBv6T1i2umdeRrwCexXXzycByeMjSGyWtY2bFQxtr4nnHe+A5EK/ALzutDRwPXInr50jqAYwEeuK2+3uBpfDQqfdKOtLMril5liAIqqQzOg43BzYys0kAkupxgXkC8AmwuZk9n9qWAMYB/SSdZmZFI8BGuFHh+2b2RRpzDi7kzpQ0xMxeSfUH4U7DccD2ZvZRqj8FGAUcLOnukpxZG+KKc7+c8gswVFJP3HH4x2pClQZBEATzUAfUm9mcPFeSbsYV0BNwBRZJh+NGituAQ8zs01z/euA0/LDJxal6BH4gpC9zk4Rnxoj7gR0kLWlmn+TaPgUerenTBUEQzF+uB84CDgIuLbQdluuDpD64s+9RYPe8ky7J4Otw48jxqa4Lrot3x+XyPHq0pNUBkp5cn+bAzOqLm0xGiEvww3pbZgbm1HY5fojwPOCnJc/YA9jAzKZW/jMEQRAEjVBH6ONBEAR5tgY2NLPXASQthsu0PpK2NLPHmqnjLgv8Fbd5b29mz+XaNsAvq1yL5yMsshmwqZm9Wqi/vbE1cb345cI+uuCH7AZIujKzyyduwvXpk83s7MK45XH9POP61PcgM7sl168b7lC8RNKdZjalZF9BEFRBhwxV2gRn5IVTMkjciZ9MviJzGqa2mcBgoAuerLbIbODEzGmYxryKGx0WB36Q69svlQMyp2Hq/zF+ihngxyVrfAb8uuA0rBpJP5WH+hj74fh7WzNVEARBR+M14Pf5CjMbBrwObJmrPhaYhR/k+JR5OQN4l3lvjmcnlfvm6vrit8Yvwd8t2wJIWg4/CPJwSWJxUp+Q40EQLIzciEfMOCxfmYwH38dv5w1N1f1T+ZPizT4zG4SfnM7L2T3x08Z3lhy+w8zeqGKfh+Jy+dK80zDxf8CHwA9UCIOXOLUpp2HI8CAIgkZZ4PXxkONBELQzv8uchgDJLnxd+rhl+ZBSfohHyDst7zRMcz4DXANsKmm9krHnlTgNm6ToNEx1nwGX4ZeY5shkSZsDvXE9/9yScVPNbEbquzGwAx6t5JZCv2n44ZEvAfuX7SvkeBBUR2e8cTi2pO7NVD5e0pY5GVcvaXu9ggAdiQurTXN1m+FGk5El/UfhTshNS9omlNx0rBozuxq4GmqXADYIgqCDMN7MZpfUT8QVWCQtiRsSpgLHSaW5g2eSO2RiZq/JE4bXyfPYGn6a+l+43J+FK8xZ2BHhJwhLCTkeBMHCiJm9IWk4sJOk9XIGiz3xm4IX5Q7I9QY+Bw6UdGDJdF2AFXJhT7dO9UNL+lZLdsq6gRw2s/cljQO2x0OrPlno8lhTk4cMD4IgaJQFXh8POR4EQTtTZr+emMplq5indyo3Tjezi6ydym8CzxXamtRxy5C0Bn5Jpi8eGvrLhS6r5X7P9Plh+Ys5FciepWuFZ1khlWWXf0KOB0GVdEbH4fSSulnNaFu8pK3Stee3Utk1V9cVeK/s5JqZzZI0FVixkbmCIAiCtqFSbthZzL2ZvyxuSFgBPxjSXIbjeQg2w43hKwDDzexDSf9h7km7yKcSBEFHZhCeO/ww5kbamCdMaWI5/PtJU3J2afxWSbf0eVIjfZtLprdPrtCe1XcraQt9PQiCoHWEPh4EQTAvZXIxs1EvWsU8y6XyJ030W7qkrmodV9LXcIfjsngOwvtwe/tsPFLIYUA+gkc1+nz2LDuln0qUPUsQBFXSGUOV1pKVKtSvnMq8I3I60F1SAwdkilO9PPBByVxxAiIIgmD+k8nzcWamxn4K47ITyzvS0BgxAg8J0j21TQfKEpIHQRAs7NyG67mHSlpU0orAbsCTZpa/vTcdeL8pOWtmr6X+mUElf2q5pWRyfuUK7asU+s3BzEJfD4IgaHtCHw+CIKieTHZu3ITsvL5kbEt03F/iDr4fmVmdmfU3s1NTLsRhJf2r0eezZzm2iWc5ogX7DoKgQGe8cVhL1pDUMyWjzVOXynG5unG4Iro9DU+wbY+fFqlWQc1CeVRz0oQJ5+xR5TJBEASdGzP7SNKzwPqSupvZe80cOgJXtvvioZNeyb0zhuN5s34IfAO4o0KIpgaEHA+CYGHCzD6V9Dc8n/eOePigxZj3tiHAGGAPSeub2bPNmHpMKncDrmxG/9l4uNMyxgH74Xr8PLq6pG7AJsAM4PkGI6skZHgQBEH1LEj6eMjxIAgWMBrTccfgOf+2A55qh72slcohJW07lNRl+vwukk5uIlxp1nc7PE9tiwk5HgRNEzcOW8eiwLkpVj4AktYE+uPXx/+S6zswlddIMkmHp/5LAuektj9Xuf67qVyjynFBEARB9VyIK+MDkxF5HiQtK2mzfF3KUfsssA0ND448ghuhT0qfK+Y3DIIg6AAMSuUP088s4KZCn4tSeY2kVYsTSFpK0tbp957ArcBHwF6SDirpX8xR/i6eI7GYZwVcb/8c+IWktQptZwBfAf5iZjPLHi4IgiBoF0IfD4IgaEhjOu51+K2+0yRtWWyUtIikuhruZUIq55lT0i74IcJ5MLPHcVm8CXNTGuTHLSfpS6nvWDz86X6S+pUtLmnDFN0kCIJWEjcOW8dTwFbA45Luw+MyfzeVvzGzl7OOZnazpL1TO8BBkjYC9gHWBAabWdF4UpFkLDkhfbxG0hDgQ2CamV3aqqcKgiDoHDxcTWczGyhpc+Bo4GVJw4DXge64HN8eV8p/Vhg6HNgg93s230xJo4l8KkEQdALMbLSk/wEH4rnD70rG3Hyf4ZIGAGcDL0m6B3gVz1PSAz+l/DCwa27YSNwYfLOkI/GTyF/CbzX2Zd7vO8OBLYB7JT2I3zx50szuMrMJko4DLgOeSDck30lr9gZeoMSYEQRBELQfbaSPv8/ccNShjwdBsDDSmI77rqQD8NQBYyQNxw9TGPBVXM9dDtefa8HlwBHA3yXdCryJy99dgb8B3ysZcyiu058laf/0u/Cb4DsD6zLXIXkwfsjjz5L6A//GHaOrAxultXoD83zPCIKgesJx2Drex0MjnYcLxa8AzwF/MLObS/ofhAu0fvi16u3wcEcXAFe0cA//AZYBjsNP3r0GhOMwCIKgDTCzYyQNxY0RO+IHRd7DDRbnM+9N84zhwLG4Yv5ASVtfYEozw/IFQRAszFyP397Lfm+AmZ2bDlX0B7YF9sbzmUwCrgaKOva7+AnlAbhe/i38MN3/gN8W+v4el9t74s7GRdM+7kprX56cm7/GQzotCUzE5ftZZjaNIAiCYL7SBvr4ZNxxODX08SAIFlKa0nGHp8srvwZ2we3Rn+FOvRGUhxVtEWb2lKQ+aU974L6HJ/GUANMocRya2avptvhv8As2P8dvg0/AbeZv5/q+kQ6Q/ALX1w9Jz/sWbpP/E/B0rZ4nCDozMmtJntNAkgGjzKxuPq3fEz+Bfb2ZHV7N2J4D7q76Hz1iPwcdEM3vDQTzF0kTAMys5/zdSfVUI8dDfgcdmJDjnZjW6MLzm5bo4hDyPOiQhBwP5juSBgGHAWvmch82SnPkeMjsoJMQcjxYKGmpPl4kZH3QAagoxzt9jkNJe0kaLmmypJmS3pQ0StLRhX7dJZ0p6RlJn6TqXpLOkbRUrt/IlMOwi6TfSnoxzTsotR+ez3GYGzch/XSVdKmkSZJmSHpOUn9JyvWtxw0lAIel+axs3iAIgo6CpJ5Jzg2StLakwZLelvRFFpNf0i6S7pE0NcnelyWdn8+BIqkuHf7oAfQoyNBBxbUq7GVkmiNfV5fG1EvaUtLdkt5LdT0L7Zuk9mmSPknvnW+10Z8uCIKg0yBpFUmXJb36M0nvSPpHOplc1n8JSQMkPZ3k8QeSHpL03ZK++ffQupJuT3L+Y0kPS9q57Z8wCIJg4UDS0kkOjy7UfznZOkzSDwptR6X6funz5pIulvRkkrczJL0k6QJJy5asOcfeIqlP0tk/TLL9bknfLPQ33GkI8GruO8GEmv4xgiAIFlAK+m1PSbcke8oMSWMlfafQv6ukEySNkPRGTt++U1LvCmtYkscrSRooaUrSnx+RtF3qs1Sy3byWbDnPSjqwkX0fJOmBZFOZIel5SadIWqK2f6Eg6Lx06lClkn4KXIVfZ74LmAqsiMdEPgKPy4ykNfFwFj2Ax/Gwor/EY0YfD1wJfFyYfggeX3oocDvNi63cBfgXfr38lvR5f+BiYB3gmNRvZOpzLH7d+/bcHOObsU4QBMHCzNfxsM//BW4Cvgx8IOk0oB4PVfRPXO5m4Th2l9TbzD7Aw12cjod4Bvhjbu5ayNDewEl4Hq6BwPJ4GJCMXngIjkeBa4E1cFk/XNImZvZiDfYQBEHQ6Ug6+8PAqnjYpb/iuVsOBPaQtL+Z/TPXvwswDM9j+AKe33BJ4ABgcJLJJ5cstSYuw5/Gv0usgoddGirpYDMb3EaPGARBsNBgZh9JegzYStIyZvZhatoGyAy7fYEbc8OKub9/AuwLjMJtJYsAm+P2mN0kbZWbN8938FDXQ3F7zXrA7sAWktYzs6mp3+l4WLyNcbtLFpI6QlMHQdDZ6AE8BryCy+XuuH57h6QdzSwL8/xN4EzgQeBuPI3XGsBeuFze08zuLZm/GzAaTynw1zT/94FhyeF4Var7J54P/SBcH59oZmPyE0kaiNvt38Dt79OArfGUCH0l7WRms1r/JwmCzk2ndhwCR+LG3I3NbB7HnqTlcx9vwgXoyWZ2dmr/JW4sOAD4qGTuHsAGOYW0OayCC+gNzGxmWuc0PI/h0ZIGm9mDZjYynYA7FhhvZvVVrBEEQbCwsy1wdt6YK4+hX48bcnfP56GS38S+DjcMHJ9CENWnetpAhu4M/MzMrspXSlo7/boHcISZDcq1HYkbNY4F5rnxHgRBEDSbK3Gn4SlmdmZWKely3LhxvaQeZpbp7r/CnYZDgb0yA4Ok03HDyUmS/mlmjxTW2R7PaX5Cbo1L8XfQlZKGpoMqQRAEnZ0RuKNwe9zADO4cnI07AzNHIZIWAfoAr5jZa6n6bOAYM5udn1TSj/ADeEcD55asuw+wi5kNz405G8+H2w84D/x7gDz09cbAH5sbqjQIgqADUgfUm9npWYWkm4F7gROYmx/2eWDVor1b0uq4/nxRGlNkY9w5eLSZfZHG3A/ckOYeDdSZ2YzUdiOuv5+IHyDJ1jkcdxreBhxiZp/m2uqB0/CLNxdX/ycIgiBPpw9VCswCPi9WZgJQHtaoN34L5dxcu8yszsymZkKtwKlVOg0zTsqchmmd9/ATE+CCsUVI+mm6Yj72w/Fl8jsIgmChYQruBMzTP5U/yTsNAZKDbjyeNLs9GF90GhYYnXcaJgbi76MtKw0KOR4EQVCZZKzYGXidZBDOSI6/7GTzfrmmfoABv8yfSk4HCjP9+8cly00HfldYYyx+2LAbOeNGbn8hw4Mg6Ixkjru+ubq+eCSnfwCr5w7XbYLL6TnOPjN7reg0TAwEPgB2qbDuLXmnYeLqVFbUtxsj5HgQBB2c14Df5yvMbBiuW2+Zq5teZu82szeAW4F1Ja1RMv8nwAmZ0zBxM24HWRY4Nm9fN7OH8GhRmxTmOTaN6Zd3GibOAN6lgu0n5HgQVEdnv3F4E3AB8JykW/ATb6PN7J1cn61TOawg3JrisRbsZxZQPNEMHpoUYNMWzAmAmV1NUpRrlQA2CIJgPvFk/oBFojd+COTACnHwuwArSFrOzN5t4/01Jf/HFivM7HNJU3CFuZSQ40EQBI2S6ckPmVmDQ4H4rZdDU78bJC0DrAVMMrMXKvTPz5vniQqh8UbiubI2Ba7PN4QMD4Kgk/Io8CnJcSipK7AZfsAjk7N98RQE306fs3okLY5Hivo+Hm60K/MegF+twroN9G1gYior6tuNEXI8CIIOzvgKBzUm4vaWOUjaBnfg9cZTfnUpjFkNdzjm+W9Rfzaz2ckOspSZvVKy9iRgq9y6S+I3F6cCx0kqe46ZeDjVBoQcD4Lq6NSOQzO7UNJUPLxFfzzflUkahZ+CGIufGgYXVtXwVgu2NLWCkM7m6tqCOYMgCDoaZfJ1OfyddloTY5fGT6C1JU3J/0o5U2YBi9Z4L0EQBJ2FTE+eXKE9q890+2r755lSYUzo7EEQBDnM7DNJDwM7SloB+Bau7w43s+clTcYdh1ek0sg5DoHB+C3uV4A7cDmbHSA8jrm5Eos00LfNbFYyMoe+HQRB0JDG7BRzDmxI2he/WTgDuB94GfgY+AIPd7oD5bJ5eiPzN9aW910sCwhYgaZtP0EQtJJO7TgEMLMb8FPH3XAldl88bNEwSesyV3BWOslWad6WnFxYXtKiJc7DlVNZSZAGQRB0Jsrk63RgETPrXqM1shvmld6TZYbkjDi5FgRB0P5kevLKFdpXKfSrtn+elSqMCZ09CIKgISOAnXDH4LdwY/PoXNtukpYAtgOeTeGikdQLt8/8C9gtH1I65UP8Tbs9QRAEQZBxBvAZ0MvMns83SLoKdxy2FZmOPc7MNmvDdYIgIByHc0g5se4B7klKaD88gfeY1GUXSSdXGa60WhbDFemHCvV1qRyXq8uci1Wflptwzh5VbywIgmABZwywh6T1zezZZo6ZTcOQGhnvp/KrxQZJXwHWLta3JyHHgyAIGpDpydtKWixvYE70SeUTAGb2oaSXga9J+oaZvdRY/wKbSVqmJFxpXWEvpYQMD4Kgk5HPc9gbeCSXx2o4novqKGCpXF/wcNIAd5bI9C2BL9dof1XbVkKOB0HQiVkLP+RRdBouAmzblgub2UeSngXWl9TdzN5r6Vwhx4OgaRZpukvHRVIflQdEXjGVn5jZ43jewU2AE0vmWE7Sl2q4rbPTabts/u7AKenjdbl+7+O3WsoSzgZBEHQ2LkrlNZJWLTZKWkrS1oXqd/G8hw2MDskY/AKwjaT1cvMsClxI7QwVQRAEQQ0wszfwcEk98fB1c5C0FXAwrj/flmsaiIc7Oj/J96z/8sCpuT5FugK/LazRCzd+Ty+sEQRB0Nl5ApeNewPrM69zMAtLelLhM8CEVNblJ5O0InBZDfeXpTEI20oQBEHTTAC+kbe7JNt6PZ6Ltq25ED8APjBFD5wHSctKituIQVADOvuNw9uAjySNwQWf8PAYWwCP4yExAA4FRgJnSdo//S7gG8DOwLrMVWpbw2Q8DvQzku4EFgcOwEMlXW5mD2Yd0ymLfwPbSbof2BF4ADjOzJ6qwV6CIAgWGsxsuKQBwNnAS5LuAV7Fcxr2wMNlPAzsCiCpJy7rAe6V9CCeL+VJM7sr1Z8P/BkYLenveFilPrhsfhJPyh0EQRAsOPwMD393vqSdgbH4zfED8RDURxRuCf4B2A03Zj+Z3h1Lpv4rAueZ2cMl6zwI/Dg5JEfjuvr38EOZR5rZB23xcEEQBAsjZjZb0khc1kLOcWhmr6Xb31/Hb/6Nyg39Dy5j95P0CK7Lr4TL7Sw1QC1sWsOBE/ADiEOAD4FpZnZpDeYOgiDoaFwEXAmMSzLzc2Ab3Gl4F7BnWy5uZgMlbQ4cDbwsaRjwOtAdWBOPHngd/r0gCIJW0KlvHAIDcGV0M1zgHIEbhE8E+pjZ5wBm9mrqcx6wDPBz4Ef4ibQLgLdrtJ/PcAfgfcD3gSPxk3nHpjWL/AC4Gw/TAW7QjlMVQRB0SszsXFxJvBtXXI/Djb+rAVcz9/Z2nhdxQ8VJeKz+/XPzDQR+DLwJHAZ8F7+Bvg2VE4cHQRAE8wkzewXohRsz1gF+jRuY7wW2MbM7Cv0/w/Nu/V+q+gUu718CDjazBtFGEq/i6QXWw79PfBe/UbO7mQ2u5TMFQRB0EDJn4Qf4oY6ytsfNbE6OWDObDewFXAGsCvTHw+Bdi9tMaoKZDQN+hRu/j8O/E/y6VvMHQRB0JMzsKtx+Phl3zv0cmAhsRXmI/7bYwzG4g/JR3I7+S/x90RU/AP7H9thHEHR0ZGZN9wraHEkTAMysZwvG1uG3DU83s/qm+vcccHdV/+gR9znooJSFKQ46CZIWxx2G081s8vzeT7VUI8dDhgcdmJDjQbuSbqu/ClxvZoenGzQ7mFlV/y1Wq4tDyPKgwxJyPGgRkgbhBz3WNLMJ7b1+c+R4yO2gkxByvBPTGlv2/KYl+ngZIeuDDkBFOd7ZQ5UGQRAEnZB0o/yF+b2PIAiCIAiCIAiCIAiCIAiCBYk2CVUqaUtJgyVNkjRT0mRJ90n6bqHfdyU9KGm6pE8lPS3pJElLlMw5If0sLekiSRPTmPGS9kl9FpP0f5JekjRD0suSGoT4lFQnySTVS+ol6Y366E8AACAASURBVN60h/clDZH01dTva5JukfROWusBSQ1yWklaW9I5ksamvjMlvSbpakmrN7H+JpLuxsOeriFplKRvVfi7riTpz5Km5J79sOb+uwRBEASOpJ5JDg/K1TVblkv6fhp/UYX5l0jvlMmSFkt1XSWdIGmEpDckfZbWuVNS7zZ94CAIgoWANv4OsZSk8yW9nub+n6QTJTU4YSlpL0nD0/ozJb0paRSe9xxgaUmG588lvQ+yn5G1/8sEQRAsPDRXRufk81ckXZh+/1xSfa7PjpIekvSxpPck3S5p3SbW30rSrZLeSvr2RElXSVq1pO/IJLu7SPqtpBeT3B9Uq79HEATBgkLeDpLsH4MlvS3pC3k0OyTtIukeSVOTPHw56dDdcvPUJV24B9CjoAsPKq5VYS8j0xz5ury9fEtJdyfZb2m+BvZ0SdMkfaJG7OlBELSMmt84lPQTPAb9bOBOPEfIini+kaOBv6V+Z+E5paYCNwMf4TlIzgJ2kbRzyjuSZ3Hgfjzh6R1AF+AgYIikndP8WwFDgZl4bqs/SXqnQr6RLfB8hqOAa4ANgf2ADSTtjSfffgG4AReG+wH3S/qamX2Um2c/PK7zA3j+q8+A9fHcWHtK6mVmk0rW7wX8Bo/J/CH+77EtMFzSJmb2Yu7vunya+2tpXw8Dq+A5XGoW3z8IgqATU40svx3PQXuwpBPMbFZhrr2BbsAFubZvAmcCD+J5GN/HD43sBewmaU8zu7fNni4IgmABph2+QwzDc2QNBWYB+wDnAF8CTs/t46fAVcBbwF1pnRWBjfDvFuDvh9OBw/HvCHPGAxNa8WcIgiBYqGmBjO4CjMBtPPfhORBfTXMdAAzGZe5gPJ/Wtrj95KkK6/fDc5vPxN8lE4FvMFef39rMXi8ZOgS3Dw3F9fy3W/YXCIIgWCj4OvBv4L/ATcCXgQ8knQbUA+8B/8Rl4UZ43tfdJfU2sw9wffd0PC8szJtTcHwN9tcbf5c8DAwElsffBRl5e/q1uF1lf0rs6UEQtJyaOg4lrQdcjit725nZs4X21VOZCYCJwJZm9laqPwm4DfgOLpTOKiyxKp5otc7MZqYxN+JG2L8DLwMbmNm01HYh7vgbgCuaRXYHDjWzm3J7/DPQDzcaX2BmZ+baTgV+B/wIuDg3z43ARdmecv13xhXPU4CjStbfAzjCzAblxhyJOwOPxY0kGWfhTsM/mtnxuf6X4oKyUZIR5KcA3Xf5OctssmtTQ4IgCDobzZblZjZD0mBcru6KK9V5stvg1+fqngdWNbOphflXBx4DLgIqOg5DjgdB0FFpp+8QTwI7mdmnaczpuLHkeElnpRDWAEfihomNzWwew7Gk5fMyPJ3M7tGcHOMhw4Mg6Oi0UEavAjyH54v9ODfX0vghji/w98LYXNtFzDVW59dfG7elTEjzTcq19cUdkxcD+5ZsvwduS5pa0pbNEXI8CIKOwrbA2WZ2clYhqQ/uNHwU2D2zrae2w4HrcGfh8Sm3bH2qpzm6cJXsDPzMzK7KVyY5D9XZ0/PjQ44HQRXUOlTpUbgz8oziF34AM3sj/dovlb/PlMnUPgv4Fa4c/rjCGsfljbpm9hB+Im1Z4MS8YDOzV4DR+A3CRUvmejjvNExkRt7p+CnkPDekcpPCc00qGppT/X3As8AuFZ5ldF7IJQbip6C3zCokLQ4cgt9KrC+sMRY/HdIoZna1mfUys14hGIMgCBrSAlmevS/mCRktaeXUd5yZPZ2bZ3qZMSK9G28F1pW0RiP7CzkeBEFHpT2+Q/TPnIZpzNt4BJOuwDqFvrOAzwt1NGZQboqQ4UEQdAJaKqN/lXcaJvbGbyHenHcaJupxe02Ro/Ab5scWIz6Z2XD8BuKekpYpGXtqUzI+5HgQBB2IKcwbMQOgfyp/kretAyTb9XjcNt0ejC86DQs0y55eJOR4EFRHrUOVbp3KoU302yyVI4oNZvZfSW8Aa0rqamZ5hXCamb1cMt+bwJrA4yVtk/DnXDn9nqeogGZzgQup2SVzARRzXQkXnocDG+NOzLyjshguqeL6Zva5pClpjox1gSWBhwp/j4yRFAzXQRAEQXVUK8vN7BFJ/8UNEMua2fup6ZA0blDJGtvgJ+B646HvuhS6rAaUhU8KgiDoyLT1d4jpZva/kvkmpjKvd98EXAA8J+kWPKXBaDN7p6mHCIIg6OS0REbPoDzsaDbXqJK5pksaT8ozmyPLGb6DpC1K5lwR19HXpqHt6LGS/kEQBB2VJ0sOTffGD84dKOnAkjFdgBUkLWdm77bx/pqSyc21pwdB0Apq7TjMEqWW5fPL0zWVkyu0T8bjE3dj3pNkZU4z8BMFVHCqZbmlFi9pa6x/gzYzm+V25QZzXYiHypiM50+ZBGQnmg/Hw16UMa1C/SzmNVZnf68pFfq/VaE+CIIgaD4tkeXX43kLv4/n5gI/yPE5ntdlDpL2xW8WzsDz9b4MfIyfvq7DjR9L1OhZgiAIFiba+jtEYzo35PRuM7tQ0lQ8xFF//L1gkkYBJ5TcfAmCIAiclsjot83MGpmrGhvIcqk8oYl9Lt3M+YIgCDoqlWToYsBpTYxdGmhrx2FTMrm59vQgCFpBrR2H2f+4q+G5BSuRKYkr44bTIqsU+i2wSFoRNyo8A3zLzD4stB9Ug2Wyv8NKFdpXrsEaQRAEnZZWyPIbgTNwZ+EVkjYFNgTuKAl3dAZ+a7GXmT1fmP8qGp6aDoIg6CwsUN8hzOwG4AZJ3YBv4fmw+gHDJK0btw+DIAhKaYmMLnMa5vtUYwPJxnQ1sw8qbbKMCs7LIAiCjkqZzJsOLGJm3Wu0xheprOR76FahHiq/G4IgaEdq7TgcA/QCdqPxL/3j8NATdRQUSklr4aFAXy3GVF5A+RqeK/K+EkPz6qm9tbwAfAJsUhJ6Cfzv2GwmnLNHDbYUBEHQoWiRLDeziZJGADtKWoe5YaOvL+m+FvBsidNwETw5ebMJOR4EQQdjgfwOkea5B7gnyep+wPbAkNRldlp70ZIUBxUJGR4EQQelljL6iVTugOetys/VFdikZMwYYHNgO+DuajZeLSHHgyDogIwB9pC0flnO8QrMpmH6lYwslctXiw2SvoKHjZ5vhBwPgqZZpMbzXYFfCz5V0nrFxmR8hbmK3ymSVsi1Lwr8Ie3rzzXeW1sxIZXbpv0DIGlp4BrKnbMPVLOAmX2O51tZBk8EPgdJvWi/5LRBEAQdlQmp/LYkkzQI5sjyMTR+0GZQKn8EHARMBf5ZYY1vSFo1q0h5FeuBBu/MIAiCTsQC8x1CUp8km4usmMpPcnVZmKY1WrNmEATBwo6knrguDLWR0XfgRueDk80DSYMkGZ5eoGvJmEvxdAEXSWpgkJbURdJ2zVw/CIKgs3FRKq/J2ywyJC0laetC9bt43sMvF/unA9kvANvk9fv0TrgQaDAmCIIFi5reODSz5yQdDVwJjJN0B/ASHid5C+ADoI+ZPSLpPOA3wDOSbsXzPO0GbAA8DJxfy721FWb2lqRb8PxW4yXdhyuxO+F5rMZTfhquWk4G+gLHJcX5YeAIPHTHncBeNVgjCIKgU1KQ5QC9JF2Ly/Jlmhh+G/5+Ow7PgfundOCjyEXMfT8OwQ0b2+BOw7uAPVv9IEEQBAshjXyHOAIPbTeS9vsOcRvwkaQx+IEP4bdXtgAeB/6V67txKv8h6R48L+5rZnZjK/cQBEGwsPIMLo9bJaPN7CNJPwUGAw9JGozfZgQ4AHgQvwGeH/OCpH74IZNnJd0L/BfXz9fAZfk7wLqtesIgCIIOiJkNlzQAOBt4Kem2r+I5DXvgN8AfBnbNDRuO68j3SnoQmAk8aWZ3pfbz8QMjoyX9HbeT98Hl8pPM1aWLHC7pNDMrO8wXBEE7UetQpZjZNZKeAX6Nh6jYB7998RRwba7fiZLGAT8HfogLjZeBU4ALzOyzWu+tDfkR8ArwPeAYXBm9E/gtc0MZ5TmM8jB2FTGzqZK2Ac7Cjcu9SOGRcGN0sx2HPQc0P2pHXN0OgqAT8SP8xNwxwDfxQyB3Apfhtwq3KBtkZp8kJTg7ZV0q383sKkkzcQfjYbiB+SHcML4/VTgOQ44HQdDRqPAdIstvclmuX1t/hxgA7IIbqHfHDRyvAScCVxQOhkzGwyx1xZ2ZiwGj8Py3FalGhmeELA+CYAFnEq4/T8eNy62W0WZ2q6RdgdOA7wJZhKf9gB9QcBymMX+R9CTwK9w4vTPuvHwTuBV3RLaapuR4yOwgCBZGzOxcSaOB/ng6lb1xuT4JuBq4uTDk93iuwj3xQ9GL4vaQu9J8A1Mkj1/iNpD38RvlJ1NuL283WqKPlxHyPujIKHJAL7xIGgnsUO0JjJ4D7m72P3oIwKADEyeXOjGS1gWeB642syNz9T3xU3XXm9nh82VzzSDkeBAAIcc7PC3VdduL9tDFM0KWBx2UBfL/7WDBJKUSOAxY08wmzM+9NCXHQ2YHnYiQ40HNaY/vAC3Rx8sIeR90ACr+f1brHIcdDkk9s3xXktaVdLuk9yR9LOlhSTsX+h+e+h8uaVdJIyVNT7H4sz6WhGB+XH2qr5N0gKTHJH2S1rpF0mrFPeEn+bL5rGzeIAiCoJQs78kbTXXM8qkkp2JWl3839ExyeqqkGZLGSvpOI/MdJOkBSdNS/+clnSJpiVY/VRAEwUKCpL0kDZc0WdJMSW9KGiXp6ObqupImpJ+vSLow/f65pPrU3kB+58bWpbb6krbuks6U9EzSx6dLelLSOfL8LqGLB0EQ5Mjrxrm6OTJY0pGSnk667xRJV0sqy1OIpB0lPZRsLu8lG0yj4UUlbSXpVklvSfpM0kRJV6mQpyvNZZL6l8xxRmprVa7cIAiCltJGNuiuks6W9GKSwe9LGiZpx5L15+jHknpL+lea78M0pleFfS+WdPgxkj5I+vM4ST+XtEihb/4Z15Y0WNLbkr7InocKOrakRZN8/0DS0hX28qfU/4AW/BMEQZCj5qFKOzBrAo8CTwNX4flWvgcMlXSwmRVDXhyAx30eiudr6dHMdY7Gw47eiYc62iqts7GkTcxsJjANOB04PM17em78hGofLAiCoLMgaSPgkPTzBZ7LqjX0AB7Dw1XfCHTHZfYdknY0swcK6w/EQ5O+gYfmmAZsDZwB9JW0k5nNauWegiAIFmjkeauuAt7CQxlNBVYENsJl5M00X9ftAozA5e99eM7ZV1uxtzWBB9K6jwNX4Ict1waOx/X60MWDIAiaz3l4COi7cDndB/gJsBbw7XzHZOgdDHyWysl4uLxH8fQ3DZDnNbwaz611JzAR+AbwY2BPSVub2eupez9gHHCepIfMbFyaoy8eOu854Bc1eeogCIKWUxMbtKRuwGhgPeA/wB+B5fHwz/dJOsrMripZfyvgJDy392W4vN4P2F7Szmb2UNZR0uK4fN8FeBHX47Nchn9Kc/2gZI2vA//Gc9HeBHwZl/MVdWwzmy3pmlR/EHBNfkJJXwYOxb9j3FGyZhAEVRCOw+azPfAHMzshq5B0KS7Ir5Q01Mw+yPXfHdjdzO6tcp1dgS3M7OncOjfjAnFv4G9mNg2ol1QH9DCz+pY8UBAEQSdkM9wY8ALwMzN7ppXz1QH1ZjZHoU0y+17gBNz4nNUfjhvEbwMOMbNPc231eP6WY4CLW7mnIAiCBZ0jcaPwxmb2dr5B0vJV6rqr4IbeHczs4xrs7SbcUHGymZ1d3BvwkZnNqGJ/QRAEnZ2tgQ0z552kxfADH30kbWlmj6X6pXED+RfAdmY2NptA0kV4nvB5kLQ2biSfgL8HJuXa+uKOyouBfQHM7D1JB+GHtAdL2gxYCvgL7nj8rpl9UtvHD4IgqJpa2aDPxZ2GV+P2D0tznQuMBS6RNKwk/POuwC/M7NLc+nsDtwMDJa1jZl+kpv/DnYaXAseZ2ezUf9G0bj9Jt5pZ0ZG3LXC2mZ1cqH+iCR37GuBU/PvENYW27+E5F88q5CUPgqAFRKjS5jMd+F2+IimyN+FCad9C/zta4DQEuCTvNExkgnDLFswH+Mluefi8sR+Ob8m2giAIFn7MbJCZLWlmm5nZP2sw5Wt4QvD8GsOA12kos48FZgH98k7DxBnAu/hNyFJCjgdB0MGYBTT4Qm9mU1sw169q4TSUtDnQGxiPG1oa7C05DVsyd8jwIAg6K7/L3fgjRde4Ln3M68t747fHb847DRP1uE2myFHA4sCxeadhWmc4fgNxT0nL5OofwY3O38AdlTcCKwP9zezZSg8RcjwIgnak1TZoSV3w23cfASdlTsM010vAJXjkjh+WrP8/4PLC+nfghy7WArZLayyCH8x+Czg+cxqm/rOBXwFGuZ1jCvPeKGwWZjYZd2BunnT3PEfih0+KDkXSfkOOB0EVxI3D5vOEmX1YUj8ST9C9KXB9rv6xFq5TVJDBQ20ALNvCOTGzq/GTHjVLABsEQRAwPq8c55iIG58BkLQksDEeju84qTT38Ezgm5UWCjkeBEEH4ibgAuA5SbfgRojRZvZOC+aaQYXwdS1g61QOy52irgkhw4Mg6MQ018axWSpHFTub2XRJ40l5r3Jk+vYOkrYoWWdFYFE83PTjufpz8TB6B6fPfzWzays+ASHHgyBoV2phg14HWBLXsd8raR8BnJLmKvJQBV14JC6HN8Vl9dr4gY+XgFMq2Dk+pdzO8WRKx9USLsfDsx4J/BRA0oa4Lj+05AYlEHI8CKolHIfNZ0qF+rdSWUzs/VaxYzOZVlKX5btatIVzBkEQBG1DmcwGl9v5W/3LAgJWwEOSBkEQdFrM7EJJU/Hc3v3x8HMmaRRwQslNk8Z4O3+CupV0S+WkRnsFQRAE1dBcG0dmU2nK9pJnuVSeUNKWZ+n8BzMzSf+A/2fvzOP0mq8//v7Ya2nETpFQ1PYjiCWKJGIntqKCVqSIrahW7ZWUomilqqqqBBWidrXEGiRBGkQVtY/GviRiTSSc3x/ne83NzX1mnmfmmUwyOe/XK687892fyet17nnO+Z5z2C41DWlmfhAEwaykHjbobMzbFdbK2hcv6at2/0wGr07Tdo5FS9paajfHzB6U9DzQT9LPk5P10NRdVrMxCIIWEKlKq2fZCu3LpWcxbUbcXAiCIAgysnfEU2ampv616ymDIAhmEWZ2lZlthhscdgb+htdzGSFp6VqWaqIvuylddlmyzEiSGbe/U8P+QRAEQX3I9OXmbC9lczo1o2PPEMUoaXXgfGAS/q64TNJC9fgQQRAEdaAeNuhsTJnsBK8TXrZWLftnz5ubkcGrlKzVWrv5JbhDcn9J38LTsr4J1KMkTRAERMRhLWwoabGSUPFe6fnULD4PwDcFZyukyiul4Zyd2+5EQRAEwUyY2aeSngXWkbREhVQhVRNyPAiCjoKZfQTcCdyZ6qQMwB2IN9JCXTfHpPRcCa/Vkqd7yfjH0nN7SSdXka40dPEgCIL68WR69gQuz3dI6gR0K5nzGLARXm/rjmo2kbQgMBxYBNg+7XcKHnV4WDVrhBwPgqCNqYcN+gXgc2B9SYsnnTtP7/R8kpnZQtI8Jbpwcf//4hfvNpM0v5nNVL+8hVSjY18JnI1HGk7BLwVeWK1OHnI8CJonIg6rpxPwq3yDpO54gdfJwM3tcKYP03O4JJPUtR3OEARB0NHZq07r/B4vPn65pJkiXSR1lrThzNOCIAg6FpJ6q7wIyjLp+Xl6Zrruyi3cKqv3ckhh//8DjikONrMngDG4cfqrom4taclCREprzxcEQRA0cit+4WO/ZGvJM4iZU/MBXARMAy6QtEa+Q1JD+rdlYc75eH2uc83sXjy93mhgoKS9W/8xgiAIWk2rbdBm9iVeV3wx4IzCWt/FywVMA64umb46XlIgP2c3/KLFy8AjaY/pwB/x6MULU+QfhXnLS1q7ufMWaFLHljQSd1gOw+X5mXj0+K8kDapxryAIKhARh9XzMHCwpE1xpXJ54Ie483WgmX3cDme6H9ibxlsiR0l62szKhH4QBEHQjpjZ5ZI2whXwVySNAP6HFxNfBY+wuYIqbzoHQRDMwdwMfCrpMaABrwG7JbAx8ARwXxqX6bo3SboT+AJ4vQZd91bgJbz+yYrA47gBYrfUt0/JnAOAZ/BIlNsk3ZPOtzpeC2vNdOZ6nC8IgiBIpAwdh+LRgI9IGo7X4NoCWBe3yWxVmPNfSQPwCMVnJd0NvAjMj19GWRD4Ky67kbQHcBT+Pjg1rfGVpH7AeDxl6RNm9mpbf94gCIImqJcN+kRcxz5K0sbAg8BSuA68GHCUmb1WMu9u4HeSdgSeBlYD9sQj+wYUIhHPANbH7Rh9JT2ApwxdBtefv49HdT9X5Zmheh37YuBgvMzAGGDzGvYIgqAZIuKwel7DBdAkXBjug4dz72Rmw9vpTJfhYdkLpN9/Dvyknc4SBEEQNIOZHQn0BR4FtgGOA3bFbxSeh6dICoIg6OicCPwL2BC/THEQbuQ9AeidS3OU6bqdgF/ihomqdV0zmwL0Aa7Hjc5HAasC+wF/rjDnNeD29Osiac5PcIfj74D3csNbdb4gCIJgRszsBmAH/BLJPrjtZSLQA7fJlM35O56u9BpgPVxuH4BflP+cFDUjaWW8nu5kYN8UKZOtMQFPlf1t4DpJCxAEQdB+1MUGnUqk9ADOxeuKH4c75MYCO5jZxRWmPo6nJV0Ql6k7Ag8AW5nZI4U9pgG7Az/G06Pugtund8D9Dqfh8rkWqtKxzewp/NIHNOrvQRDUCZm1thZpxyalKHoNuNLM+rfrYSogaShwILCKmTU0N77riXdU9Z8e+Z6DDk5ZirQgmAlJDQBm1rV9T9JItXIcQpYHHZqQ40GbUKtuXSu1yHAIOR50aEKOB21GW+rwzcnxkNvBXETI8TrS3jZoSb3wqMTBZjZoVu9fLSlVaU/8ssdb+AWT/rhzs6qz16qPlxGyPuggVJTjEXFYJyTdkuoMHl3Sd0bq+1v6vVf6fZCk7pLuljRZ0iRJN0paKY1bVdJ1kt6X9IWkByWtP6s/WxAEweyKpM2SPK2Y41/S85KmSlpC0gKSjpJ0p6TXU/tESfelNBzV7jso7durpK9r6hta0rewpJMkjZf0maRPJT2a0iMFQRAEJUjaRNJwSW8muf22pHsk7VMYt4+kh5Ne/YWkZ5LMXbDCuttIeiTJ44lJn1+zmbNsKukGSe9I+lLSBEl/kbRCPT9zEATBnE5eJ04/XyfpA0lTJI2TtEvJnAUlnZjk9+eSPk5yuiy1NHKOkvRsWvdNSRdJKquHmJ/XL9lXPkrznpd0aqX3RRAEQdAyqtHjJfVP9vBXkw7/saTRkg5oZvnDgUXxlKURGRUEdSYch/VjAF6r6lxJG2SNkvoAJ+O5nH9amLMxqaAsnnd/LJ4z+r5ktBgLrAhcBdyB36a4V9Kibfg5giAI5hjM7DE8HcZOkpYs9kvaBK9pcntK07EE8Ac8n/+9wO+B2/CC2ndKOritzippcWAUcBbwFV6L5UpgaWCYpDPbau8gCII5FUmH4DVLdk/P3+F68TKk9HNp3Fl4Xay1gGHARfjtybOAESqknZO0FzAC6A78A/gLnsLpUbzubNlZBuB1ZnbEb2MPAcbhtVXGydPgBUEQBDPSBbdtdAWuxmX1usCtknpng5KcHoGnp5sP+FMavwYwPMn5IkOAPwKdgUuB6/D0ePfRWNJlBiRdjr8nVgNuTPtMxFPh3S1pvlZ92iAIggCoXo/HSwh0wWs7DsFleRfgaklnFNbshJcQAPg1Xgu3UsrVIAhaQShEdcLMJqaIkYdwpXZDvC7K34GpwD5m9nlh2k7AAWb2Ta5neVTiAJJANbPf5PpOw4XiT3DDdxAEQeDOt7OAfrihOM+BuTHgNQK6mNkb+UFJ+RyNX/64xsy+aINzDsEdlCeY2bm5vRcCbgFOlnSDmY2vtEAQBMHchKS1cUPAx8CWZvZsoX/F9OwBnARMADYxs3dS+0nAzXitlV/g7wrSJby/AF+ndcfl1rwAOLbkLGsAlwANQE8zezPX1we4B9fP96jDRw+CIOhI9AIGmdngrEHSMOBu4Hj8IgZ4TayewF3ArlkNQkmDccfjSZL+aWZjUvvmwNHAK7jsn5jaT0lrLg+8nj+IpP54Xd2bgf3zOr+kQcDpwJGEvSUIgqBVVKvHJ9Y1s1cK/Qvg74MTJV2S070703jJ7wngp2b2iRRZc4Og3kTEYTOYWYOZqZrc0kmBPQ1YHTdGXA0sBxxdFJCJUXmnYSIzbk8Gzin0XZWe3ao8/jdIOjSlAxn3yfi7a50eBEEwO3M1bvw9MN+YFM19gfdwhRMzm1p0Gqb2yXgEYGc8GryupGjIA4Bxeadh2nsKcAIeGbNfE2uEHA+CYG7jcPyi4xllunROng9IzzMzp2Hqn44bor/GowIzdsMj0IflnYaJQbgeXnaW+YFj8k7DtM/9ePR6X0mLlX2QkOFBEMzFvA7MkFnDzEbgGZs2yTUPwFPNHZc5DdPY9/BoQJhRlh+Unr/JnIZp/BT8MkkZxwDTgQElFwXPAD4E9i+bGHI8CIK2phYbdBvtPzLtP6gOy1Wrx1N0Gqa2L/GI8PmAPrn2BjxoBzP7vpk9We2BQo4HQW1ExGH9+S3Qm0bj77VmdlmFsUVDBXhRV4DxZvZVoS8zUqxIjZjZpXjqjroUgA2CIJhdMLM3JN0PbCtpbTN7LnX1xQ3DF+SND5LWwW83b4XfRF6osOR32uCYGwPzApZuMxeZPz3XqrRAyPEgCOZCNkvPu5oZt2F6PlDsMLMXJb0BrCKpU7ooko1/qGT8ZEnj8aiXPD3Ss6eksgsmy+Byfg389nNx3ZDhQRDMrZTZNsCjxHsApEsXqwFvmtl/S8Zm8n2DXFtFWY6XB5hhT0kLA+sDHwDHVohOmUoFfTzkeBAEQU1Uq8eT0v2fgDsIVwa+VRhSFxtNyPEgqI1wHNYZMzNJNwHbpaYhTQwvu808vVKfmU1Pyu38U/gO5QAAIABJREFUxb4gCIK5nKHAtnjU4QmprZimFEmb4YaH+YAsQuRjPBqlGx6FsmAbnC+rv7gxTUc0Rg3bIAiCRhZPzzebHAWd0vPtCv1v40aIxXEdOxv/boXx75S0ZXL8+GbOEnI8CIJgRj6q0D6dxixY1chxaHwv5OfMJMuT7eSDQnNnPMPH0nhK0iAIgqDtqEqPl7Qqno66M/AInv5/Mn75oytu12kLG00QBM0QjsM6I2l14Hy8jlYn4DJJm6R0GUEQBEHbcDPuADxA0sm4gXdH4Gkzezo37lT89lpvMxuZXyDVwtqtyv2+Ts+y9+jiJW3ZZZALzOy4KvcIgiCY28mMzd8ByiJQMjIZuxxe66rI8oVx2XPZCust18Qenczs4ybOEgRBENROXo6XUZTj+Z+XBV7ND5Y0H7AU8EbJ+KfMbEOCIAiCtqRaPf443H5zkJkNzXdI6kehJE0QBLOOcBzWEUkLAsOBRYDt8RRHp+BRh4e149FmoOGcndv7CEEQBHXFzL6QdD1e92QbPMXQfOSiDROrAROLTsNEMS1dU0xKz5VK+rqXtI3FnY1b1rBHRUKOB0Ewl/AYLlN3pGmDw1N4yrpeFByHklbD0/y/ZmaZASOrhdITr2+bH9+J8nrijwEb4XL8jlo+RJGQ4UEQBDNiZp9IegVYVdLqZvZSYUjv9MzXsnoSl/09KTgOgS3w9NH5PT6V9CywjqQl8nURayXkeBAEQbNUq8evlp43lvTVYqOpiZDjQdA88zQ/JKiB8/Gc++ea2b14+ovRwEBJe+fG7ZCeZUaJIAiCoGUMTc8fp3/TgWsKYxqAJSStl2+U9BP8wgfAwZJMUtcm9hqbngdJmk9SQ/q3EvCr1LdaWqe/mb2XztJd0mmS5i0uKOm7klap5oMGQRDMLkjqmmTd0DZY/s+4LD9N0tole2d1vzPn36mSls71z4vr5/MAf8tNvRW/ALKfpOJlj0E0pr/LcxEwDbhA0holZ1lAUl0uhwRBEMylXI6nEj0vrytLWgo4LTcmY2h6niJpidz4hYCzi4tLGgmsAywAXC5ppiwhkjpLimjEIAiC1lOtHt+Qnr0K/dvjF8ODIGgnIuKwTkjaAzgKeBxPhYeZfZXCqsfjKUufMLPiTbj8Gg3E/0kQBEGLMLPRkl4G9sZrwd6eHHZ5huAOwlEpQnEyfgtuC+AGYK8q93pc0sPAVjTm458XeAYYQXkk4lHA6sCvgR9JGoXXZFkBj5DcGOgHvFbtZw6CIOgoJD0YM+uatZnZc5KOAC4BnpJ0K/ASns5oYzxFdW8zGyPpXOCXwH8k3QB8ht9wXhcYBZyXW/dTSYfimUIekTQcr5+1RRqfyXdyc/4raQButH5W0t3Ai/j7ZmU8EvF9YM06/lmCIAjmJs7H5fZuwNOS7gQWxnX7ZfAL2qOywUn3/yPwUxpl/7Q0fxKV6yVeDBwBvCLpKaAPHr04EZf9VzAbZYwKgiCYE6lWj8dl8kHAP5IcfwvXx3cArgd+2NQ+kvrjcvu3bfNJgmDuJSIO64CklfFbzJOBfc1setZnZhOAAcC3geskLYAXewV4flafNQiCoINzJW7EzX6eATO7G+gLPIcroD8BpuIKa62p53YDLsNT4H0bv738S+CE1P867hC8Oe39MZ5q46fAB8AP8Hz+vYFPgJ8B99Z4hiAIgvbmTVzWndQWi5vZX3GH3j/xm8jHA7viTro/5cadgF++eAmPOj8a/65zKrCtmX1ZWPcG3CDxBLAPbiSeCPSgwgUOM/s7nq70GmA9/ELIAXiKpRtwQ3QQBEHQApKc3hYv9wKuMx+Iy/X9kpwvckwaNxkYiL8HRuClC74sGY+ZHYl/H3gUl+kA38Ojzc/DLxoGQRAEraQaPd7M/o3bRMYAOwOH4/aVPXGnYxAE7YTMrL3PECTKblq3BV1PvKOq//TI9xx0cNTeBwhmT1K6vQOBVcysoco5DdD28jsj5HgQACHHOxSzWo62J9XK8IyQ5UEHJuR4MMtIqUp7mplybb2AB4HBZjao2rWak+Mht4O5iJDjQbuSizg8yMyGVjuvVn28SMj5oANRUY5HxGEBSYtK+lLS6EL7tyRNSTVcflToOzy1D0i/j0y/LyDpV5JekDQ1q/0iqX9W9yr93kuSAV2ALqkv+ze0sNeakoZKmpDO+a6kYZK+12Z/lCAIgtmEfC2tJA9vkTRR0meSRknarjB+UBrfq6m1Kmw3j6TjJP03yf83JF0g6dtVnnUGWV/oW1HShZJekvRF+gxjJZ1WslQQBMFsS5ksTTLaUt9ASc8kOfqupEsldcqNbTM9WNIakm6UNCm9J8ZI2rkK+XyRpFeT/v6hpNskbVwy9pt3jKT9JD0u6dPMCRoEQdDRKejma0gaLuk9SV9n+rek7SXdKemDJFdfkXSeymsMrifpWnnt8KmS3pf0pKQhkubPjfvmPVOyRq/UN6iZsw/FnYYApxfeP71a+jcJgiAIypG0q6T7Jb2dZPxbkh6SpzTNj1tC0tmSnk/2kslpXtHeMxJ3GgJcUZDjXWfJhwqCDkzU0yuQap6MBTaVtJiZfZK6vg8smH7uA1ydm9YnPe8vLHcjnrf5LuAWoFhrK6MBGAwcm37Pp8YYn/0gaQfgJlLtLuBlPEXensDOknqb2ZNVfMwgCII5nVXw9ELPAH8BlsdTj94laT8zG16HPS7A65xcD9yK10Y8FthS0hZmNqUli0rqjqdQWgKvo3UTXr9lbWAQcEarTx4EQTB7cC4uO28H7sHTEB2Cp/bcOo1poA30YElr4imPOuOpqP8NrIqnj76z7LCSNkznXAKX0zcBSwG747Vx9zCzsrk/x9Pr3Y4boTuVjAmCIOjIfBd4HK/9eg3wLeBjSafj+u1EPFXde3iq518AO0nqkdL5I2m9tIYBt+Fpo7+NvzOOwFNPT6vjmW9JzwOBh4CRub6GOu4TBEEw1yOvL/4X4B1cZ/4Ar1+7Hl7j8OI0rgsuj7vipb7uBhYBdgHuljQwpUAFGAp8hJeRuZXcd4fUHgRBKwjHYTkP4I7CrWisedUH+ApXKDNHIZLmwY0gr5rZ64V1ugDrmtkHTW2WUuENym49l6XIkNQZuBb4HNjKzJ7L9a0LPIbX2tqwys8YBEEwJ7MVcL6ZHZ81SLoIdyZeIumuzAjRCr4PdMtku6STgH/gRurjaYGDT17n9h+4UXp/MxtW6F+xlWcOgiCYndgM+D8z+x+ApPlwPbu3pE3MbGwb6sF/wp2GR5jZn3Pjd6TEcZjOdj2wKNDbzB7K9a0A/Av4m6SuZja1MH1roIeZPVXNHyUIgqADsgVwtpmdnDVI6o07DR8FdjKzj3J9/fEokcF4nW9wB95CwO5mdmt+8fQe+LyeBzazWyR9lPYdWUuq0iAIgqBmBuK1Z9c3sxkCayQtlfv1Stye3s/MrsuNWRx3KF4o6TYze9fMhkoCdxzeUkuq0iAImidSlZaTRQ72ybX1AZ7Abx6vKGmN1N4NNwAXow0BTmvOaVgDPwYWB07PG0sAzOw/wF+BDSStXTZZ0qGSxkka98n4u+t0pCAIgnZjMvDrfIOZjcNvOC8O7FGHPf6QvxBiZl/jDsOvgQEtXLMvfnPutqLTMO3xRqWJIceDIJgD+XXmNAQws+k0phPapIZ1atKDJa2EO/Nexm8258ffBdxXssfOeMTMH/NOwzTnLTx6cjlm/H6QcWlzTsOQ4UEQdHDexZ2AeY5Oz0PyTkOAZNwdD+xfstYXxQYzm5R08XYj5HgQBEGrmU5J5HhmO5e0PtATuDHvNExjPgJOxy+Y/KAlm4ccD4LaiIjDch7FldU+API6LBviBoMH0pg+eBqOLM3SA8zM2DqeqUd6rl8hV3/myFwLeK7YaWaXApdC6wvABkEQzAY8mUslnWckfmt4A/ymWmt4qNhgZq9KmgB0lbR40QhSBZul5121HibkeBAEcyDjStompGfnGtapVQ/uln5/tIKheRSwTYU9ulTYY/XcHsWIxWZ1/pDhQRB0cJ4uicbugRuI95a0d8mcBYClJS1pZh8Cw4FjgFsk3YBf8hhtZq+05cGrJeR4EARBq7gG+B3wnKTrcHvLaDN7Pzcm08c7VdDHl07PtVpygJDjQVAb4Tgswcy+lDQK2EbS0sDmwLzA/Wb2vKS3ccfhn9PTKHccvlPHYy2Znoc0M27ROu4ZBEEwu/JuhfZM7tajvlRTe3RJe9TqOFw8Pd9s6aGCIAjmIMpk5PT0nLeGdWrVg7N3QCU5Xtae7VFm3C7bI089df4gCII5kTI5uCRuczq9mbmLAh+a2VhJWwKnAHsBPwKQ9AIw2MyureN5gyAIglmImf1e0gd4zdqj8frmJukh4PiUQSrTx7dN/yoRtu8gmAWE47AyD+BCqg/uOJwCjM717ShpQWBL4NlifmYAM6vn7YXJ6bm+mf27jusGQRDMiSxboX259MxkZhZpUva+W7ykrbjHC1XsUQuZEf07LZgbBEEwt1KrHpzVuK30rihrz/bYzcxuq+Vw+CXCIAiCuZkyOTgZmMfMlqh6EbNHgV2SrWUjYAfgp8AwSe+bWZZqujU6fhAEQdAOmNlVwFWpXuHmeImZAcAISWvSqI8fY2YXttMxgyBIhOOwMvk6hz2AMWY2Jde3P3A4sAjl9Q1bwld4uo4yHsNzOG8JtMpx2HDOzq2ZHgRBMDuwoaTFStKV9krPrNbUpPRcqWSN7s3s0RN4ON8gadW0VkML0pSCy3KAHYFLWjAfCDkeBEGHpJ568Pj07CFpnpJ0pVtU2IO0R62Ow5oIGR4EwVzCY8DOktYxs2drmZjSno4Bxkh6CbgK2I3GGrV5Hf/lwvTmdPw8X6VnLVHwIceDIAhaQbKl3AncKWke3Hm4FTPq49U6DkOOB0EbMU97H2A25kn8psNuwDrM6BzM0pKeVPi9tXyI5/j/VknfFXikyumSNil2SppHUq86nSMIgmB2pxPwq3yDpO74pY7JwM2pOas7dZCk+XJjVyrOL+EYSV1yc+YBzsPfnVe08Ny3Aw3ArpL6FTslrdjCdYMgCOZ06qYHm9n/8Jq3qwEDC2N3YOb6hgC3Aq8AR0raqeyAknpIWriqTxMEQRBckJ5/lbRCsVPSIpI2y/2+eYV3QBYl/nmuLdPxZ0hhLen/8DqJ1fJheq5cw5wgCIKgRiT1lqSSrmXS8/OUrvQRYE9JAyqs83+Slsk1hRwPgjYiIg4rYGZfSRqJOw4h5zg0s9clvQJ8F7/Z8FCdtr0f2Bi4W9LDwFTgaTzH8xXAuXiU42OS7geexVOCrIRHRS4JLFSnswRBEMzOPAwcLGlTPI308sAPcafeQDP7GMDMHk/ydCtgrKQHcONDX2AE5ZGIGaOB8ZKG487I7YH1gSdweVwzqYbu3sA9eMqlgfituoXwAt99iHdzEARzJ6V6sJndbmYfStoLvxRSrR58JC7HL06OwH8Dq+KRi7fiOv43kYhmNk3Snvi74Q5JY/DIxc/THhun+cszo/E6CIJgliGpAcDMuqbf++O2goPMbGgb7WnAQ2bWq5Z5Zna/pBOBs4GXJN0JvIbXpuqCZ/cYhacjBfglsLWkR9K4T/FL3DviEYaX5pa/FXgJ6Jcu3j2OG413S337VHnMF/Da4/tKmga8jr9brjaz12v5vEEQBPVAUldcBl5pZv3b9TD15WbgU0mP4ZephUcWbozbWLKI8v3wAJ2/SToal+8fASsC6wHr4rp/VjLsUVw3P1bSkjTW3P2jmbWkvEwQBIkwTjbN/bji+TEwrqTvu8ATdRREZ+L5+PsC38fDrK/Eb0wDPI8LyV/gBuxtcKX2RVyo3lincwRBEMzuvAYcBpyTngvikeK/NrMRhbG74ZGCu+E1Ul7CDRP30LRR4Wd4zv1DgK74TbY/AL/Kpa6uGTMbJ6kbcCJ+GWQr3BjyMs1HQQZBEHRUKunBt8M3Bui8Hrwl8CXwFiV6sJk9J6kHcBawdfr3b1yur0Wjjp+f829J6wPHAbsAB+HOxbfxFNinAx/U+XMHQRC0K0VnZD0xs99KGg0cjaeJ3g2/kPcm7ggclht+Ma4Tb5rGzge8kdp/l3fkmdkUSX2A84FtccPzf3CD80SqdBymC+N74N8p9gYWw43Zo3AnYhAEQYdG0iBcx+1tZiPbcKsTcR1+Q2AnYAouZ08A/mxm0wDM7A1JG+G2mx/gWaXmxR2CzwF/BJ7JFjWzSZJ+kD5Df7ykGMDfaayZGARBC5BZWQ3rYHZCUif8dvPbeSdlSxX8rifeUdV/euR7Djo4ZSkSgtmcjnb7rqU3uEOOBwEQcjxoIZKuwY3La5rZC7N6/2pleEbI8qADE3K8RkoiDkttBa1Zs6R/TTyF3P9asn5HpDk5HnI7mIsIOV5nJM2PB6pMNrO3Z8F+g5g1jsPZilr18Twh44MORkU5HhGHcwDpC0DckgiCIAiCIAiCKkh1aZcxs3cK7X3w1NbPtYfTMAiCoJ7MCluBmf23LdcPgiAIGkmRdyF3gyBod+Zp7wPMrcg5RtJzkqZIelPSRZI6SWrIbv2lsf0lWapfgKReKUqlC9Al9WX/hrbLBwqCIOiA1CKrc3P6SXpQ0kdpzvOSTpW0YG5M/yTHAXoW5PigWfTxgiAIOjILABMk3SPpQkm/lzQCuBeYDhwpqWumP6efr5P0QZLd4yTtkl8wr5NL2lnSGEmfSZok6QZJq7fHBw2CoGOR9M+jJD1b1D9Lxs5gKyj0rZjk30uSvpA0UdJYSael/qrsCun3kSXrd5J0tqQX0jknSRohaZuSsb0yPVdSN0l3JF35c0kPSdq8ZM4Kkn4labSkdyR9KektScMkrV0yPi/T15A0XNJ7kr5O+z+afu5a4e/+8zT/F2X9QRAEs4K8LMu1DU1tXSUNlPRMkrvvSrq0wvthPUnXJrvFVEnvS3pS0hB5VGMWcX56mvJg/j2QW2cNSeck3fj9tNbrad8VS/atWd6nefNKOizJ/MnpvfWypMuKOrak+SQdIekxSR+ntZ9K787wdQRBnYiIw/bjT3htq7fw3P5fArsCmwDzA9OamNsADAaOTb8PyfWNr/dBgyAI5mJqktWSLsdrYr2B19v6CNgMOAPoI2lbM5uOy+rBuJL+OjA0t8zINvs0QRAEcw/TgEvw2oabAgvj9Qn/AZxjZk/ljMddgLHAq8DVwBJ4VOKtkrYxswcLa+8J7AjcjMvsbngNlt6SNo9IxiAIWskQvCbg27j+OQ2vDbgpfiniy+YWkNQdGIHLs4eBm3A5uDYwCNdNG2ihXUHS4sDotN6/0tyl8NqC90g63Mz+UjK1O15r/FHgMmBlXH7eL6lbQX5uhdfEehDXqz8FVgf2AnaV9H0ze7pkj+8CjwMvAtcA38Jr2v4Z18sPAU4pmXcoMJUZ9fIgCILZiXPxOoG3A/cAvXGZthqu8wLuNMTloAG34eVevp3GHQGcir9bhgC7Az3x2uINJXvuCRyGy+Ix+DtoHeBgoK+k7mb2Zsm8quW9pAWAf+I1ayfg9W8/Brri9clHAS+lsfOnz7898EIaOyX9Lf6Ivyt/1NQfMQiC6gjHYTsgaUvcEP0isKmZfZTaTwbuA1agiULcZtYADFK6VWhmg6rY81BcEWaJ7Y9isW47tOozBEEQtAdJ/s2SOgq1yuokkw/CDcn7m9kXub5BuJPwSOAPZjYeGC/pdKAh5HgQBEF9MbOvgJ9WObwXMMjMBmcNkoYBdwPH44aSPH2Bvmb2z9z4Y3Djy8VAn+IGIcODIKiGFIlxNPAKsImZTUztp+CyaHmasBWksQvglySWwHXSYYX+FaFldoUcv8WdhpcCh5mZpbV/C4wDLpQ0Iu2RZ2fgIDMbmjvPQPyixzG4QTvjAWBZM/ukcP71caflOfgljiJbAGeb2cmFec8BvwcGSDo9XebL+noBawDDzOyDsg8ccjwIgtmAzYD/y2rOSpoPl5W9JW1iZmPTuAOBhYDdzezW/AKSOgOfA5jZkHQRpCcwtEKNw6uBC8xsamGd7YC7cCfk4SXzapH3g3Cn4e3A3vm95Jmbvp0bewruNLwIODbp/EiaF38nDZB0Q/FzpzEhx4OgBiJ8t304MD1/kxmiAczsS+CkttjQzC41s+5m1j0EYxAEQVXUKquPwdPfDcg7DRNnAB8C+7f0MCHHgyAI2ozXgTPzDWY2AvgfHmFe5IG80zBxEW7o31pSl+KEkOFBEFTJQen5m8xpCGBmU6jeVtAXj9K4reg0TGu90ZoDJsfkAXgE4EmZ0zCt/RJwIR4Z+eOS6aPzRuTE5bgOPYO8NbP3ik7D1P40jYby+Uv2eBePpCzOmwJcASyHR3DmGZieZVGS2fyQ40EQtDe/zpyGAOkCxBXp1zKdtWiXwMwmmdnX1W5oZm8WnYap/R7gWdyJV0ZV8j45/I5IZz2suJeZTTWz99PYefCLge8AP8uchmncV8DP8SjLUrtLyPEgqI2IOGwfNkjPUSV9j+FCNAiCIGhfqpbVkhYG1sfT4B0rlQZFTgXWqvMZgyAIgtYzPm94yDEB6FHS/lCxwcy+kjQKT5G3Ac1EBAVBEFRgw/ScSc7gOmmZrCqyWXreVZcTzcz38LSno/POzRwP4BEoG5T0jSs2mNk0Se8CnYt9knbGU+R1x1OhFm1YS+EpXfM8XWbkTvwZNywPxNOfImkpPBXe82b2cIV5QRAEswMzyVBcX4UZZehw/GLzLZJuwDMmjTazV2rdUG7c2B/oj9s8OgPz5oZUSp9drbxfE+gEPG5mbzVznDXwaPqXgFMr2F2+IOwuQVAXwnHYPmRFa98tdiSjw4ez+DxBEATBzNQiqzvjKVSXprG4eBAEQTBn8FGF9umUZ2iZ6b2QeCc9O1XoD4IgaI6m9M/pkkrTaBZYPD3Lak7Vg+yMRYcdhfbFS/qakrd5Q3Q+BfQk4F48CvxzPJpkd9yAvWDJWu+UtAFgZq9KGgFsL+m7yYh+YFqnYrRhEATBbEKZDM0uNH8jQ81sbCq9cgpeF/ZHAJJeAAab2bU17Pl7vBbu23jt3DdpjGTsj9cKr/as2Xnz8r6Wd9aS6bk6TdtdFq1irSAImiEch+3Dx+m5LPBqviOFaC9J2yn5NJyzc1stHQRB0JGoRVZPTs+nzGxD2piQ40EQBO3KshXal0vPyRX6gZDhQRA0SSY/yvTP+fAIu+ZSjWbG2u/U92jfkJ1xuQr9yxfG1Uz6rINwJ+CGZvZ2ob8sGjzDmugDjzrcATgEOBGvdzUFuKra84UcD4JgdsfMHgV2STUCN8Ll3k+BYZLeN7P7mltD0jJ43d3/AJuX1JztV4ej1vLOyt4rN5vZnq3ZNOR4EDRP1DhsH55Kzy1K+jajeofuVxRu5QVBEAR1o2pZbWaf4vn915G0RA17fE3I8SAIgjmNnsWGdKEke188VewPgiCokifTcyY5g8uYavTGx9Jzxyr3rNWu8AIe+be+pLKowt7p+WRJX7UshUehjClxGi5KY0rXlvBPPHrxIEnb4anvrjezSa1YMwiCYLYk1QgcY2a/wp2AMGOd1ywFdtl7YFXcd3BPidNwxdTfWv6LOw/Xk7RClWM3q1DjNgiCOjLbOA4lHS3pOUlfSDJJx6bnyMK4Qam9V/uctC5kN9lOkfRNKqNUZPysGtb5EFha0rfqebggCIIAaJTVv8+/d5qQ1b8HFgAuLzOiSOosqWjk+BBYqX5HDoIgCOqBJAO6VejeWtIuhbYheH3DBjOL+oZBELSUoel5Sv4ymqSFgLOrXON2oAHYtSwaJBl789RkVzCzL4FrgMWAMwprfxc3TE8Drq7yvGW8hzsnN0qOwmz9+YE/4I7FFmFmXwOXAssAl6fmS1p+1CAIgtkLSZtXkOlZ1ozPc21ZCZaVS8Y3pOcW6ZJctv6iwF+pQybDVGf8YuBbwCUpQvIbJC0gaek0djrwRzyy/cKyzyhpeUlrt/ZcQRDMJqlKJe2LK39P4V+6p9J4S67DYWYPSboUT4nxrKQbccW6Lx52/RYehdIc9wMbA3dLehj/uz1tZre3zcmDIAjmHgqyGuCoZCguldVmdrmkjYAjgFdS/ZT/4cW7VwG2Aq4ADsttcz+wr6Tb8VvZ04CHzezhNv1wQRAEQWu4HbhZ0s3Ay7iDMYvsuaPdThUEwRyPmY2W9Ec8ndx/JN2A64e74bX+KtUVzK/xpaS9gXvwlHQDcfvKQsBaQB9mtAW1xK5wIrAlrh9vDDyIO/P2wR2KR5nZa9V/8pk+w9eSLkz7PCPpVvyCXm9ct36QxsjGlnAZ8CsaU+MNBB5txXpBEASzE7/EL7o9ArwGfAqsg+urk/DLExkP4naNsyWtm/oxszPN7B1J1wH7AuMl3YPXud0WT/E8nsoX7WphMLApbmt5UdI/gU/wS9bbAcfTeLHmDLzG7WFAX0nfwe0u9+G1D7+P13Z8rg7nCoK5mtnCcQhkN3Z3MbO3skZJazHjLYiOxOF4iPVAXNh9CNwMnIzXLHilijXOxNN39MUF47zAlbgxoyJdT6zOnhH5noMgCDgcmAAMwGVtk7LazI6UdBcu17fBZfREXJE9D/h7Yf1j8DosfYCd8EwAg4EmHYchx4MgCNqctfDLHpuV9N2EG1xOAXYmXfrAL4h80NzC1cpwCDkeBHMpxwAvAkfi9oK8/vl0NQuY2ThJ3XDH247A5rgR9mXcYZanZruCmU1MdQZPAvYEjgO+AMYC55nZPdWcsxlOA94HDsb/DpOBe4FTcX25xZjZu5LuBHZvyfym5HjI7SAIZgMuxh2Am+JprufD7RcXA7/LZ8cws+clHQj8Ar8EvVDqOjM9f4LX3P0h/l56H7gNf5fcWI/DpgsvO+B2lB8DBwLCL2vfDIzKjZ0maXfgAKA/fgFkJbyG42v4u+Oa5vasRR/PEzI+mJuQWXN1o2fBIaQHgN5mpirGDgJOT+NHtvHRZjmSVse/JFxnZvUoMjsTXU/sKYWaAAAgAElEQVS8o6r/9BCGQQenWXkTBJWYFbK6KUKOBwEQcjyYxUjqjzsTDzKzoYW+XviN7cFmNqipdaqV4RByPOjwhBwP2gVJ8+BO1OXw9HhXmln/auc3JcdDbgdzGSHHg3YllRd4yMx61TKvFn08T8j4oANSUY63a43DrF4hKcVEqiFlqS37fWQN660paaikCZK+lPSupGGSvlcydmhav6ukgZKekTQlzbk0X3swN6d36ntO0sepHuN/JJ2eag6Ufj5JvST1k/SEpM8lvSXpkmyOpK0ljZT0MY2h1PdW+IwrSrpI0quSpkr6UNJtKT1IEARBVUjaVNINkt5J8nKCpL8oV4xa0i1Jhh1dMv+M1Pe3XFuv1DZIUg9J90maLOkTSSMkdS9ZJy8n95P0uKRPJTXkxiws6SRJ4yV9lvofVXnNFkk6UNIYSe8nuT4h7f/Dwtj1JF0rqSHJ0/clPSlpiFKhbUnLSRqsGWscLoyn1QZ4SdLdkiamNV6UdE6Fd8jItM58kk6W9FKaM0HSb+W1E4MgCIJmkLRZkqc3NzHm+SRjl0i/zyPpMEn/Su+Rz9LPh8sNyMX5TX0PGZC+M3yR3k0H1ueTBUEQBHnk9hqT22+6SrpO0gdJxx+nmevNImlBSSfKbTyfy203j0jaJzdsL7yUQFYf60Dl7FHyiyJBEARBK0k2mmPktvQpkt6U27U7JVtMQ8mcfpIelPRRmvO8pFOVq38oqb+S/wDoWZDhg2bRxwuCDk17pyodmZ79gS60It2EPKT5JmB+PKXGy8CKeNqMnSX1NrMnS6aeC2yf5tyDOzEPAVYDti6MPQFYExiD1y9ZCE/lMQjoJWmbVNS1yE/x9CC34J95OzzVxgGS/oXXBngzjc3+T/amsVB39hk3TGdcAhiRPu9SeHqNUZL2MLM7K/2NgiAIACQNwFOsTcVTTEzAc8EfjOeI38zM/oen53wKOFfSI2b2VJrfB0+V9Bwu34psiqctug/4Ey5P9wS2krSdmT1SMufneJ782/GIjU5pr8WBB4AN8BqAl+OXXrbHa7asY2an5tb5Tdr7NeB6PKXR8njdlr2B4Wnd9YDH8TSht6Xx305nPQJPgTQNOJbGmoSHJiNCH/z98p807jPgH8B7QC/8XdFX0vfN7KOSzzoMl/t3AR/jKUp/CSwDHFQyPgiCIMhhZo9JegHYSdKSZvZhvl/SJrjOfqOZTUzNVwP74e+8y3D5vweesmkLYP8qtl40PbfEUyaNwt8xl+A6ehAEQdA2dMHToL6Ky/Ml8LR5tyY7zIMA6SLeCKAnXhrmT8DCuKNwuKTDgX/hNcyn4Hr5ADwF7C25/cbPgs8UBEEwN/AnvATMW7gd6ktgV2AT3IY/LT9Y0uW4XeQNPBXqR3jpgDOAPpK2NbPpuJwejGclfJ3GGojQ6G8IgqAVtKvjMKUaHZmiOLo0l9anEpI6A9fi9RC3MrPncn3r4oXALwM2LJm+GfB/yUiOpPlwI3VvSZuY2djc2COA16yQ31XSGbjxeC+SUbrANsBGZvZ8Gr8g8AKu/PYEpuMOwBfT59gO2EFSNzMbnzvX9bjBoreZPZTbfwVc+f2bpK5mNrXkb3QorhyzxPZHsVi3HUqOGQRBR0fSGriBswHoaWZv5vr64IbPPwB7pNol/YCH8C/aGwKL4HX6pgL7mFlZHdodgJ+a2UW5tXfDv4xfLul7ZvZ1Yc7WQI/MOZljCO40PMHMzs2tt1Ba72RJN2SyEr+U8SawbvFskpbK/XogfvljdzO7tTCuM431de8FfoA7MvfCldoXgavwGgCfApuY2X9z8y/GFeNzSXK3wHeBdTJjtqRTcGPFjyWdZGbvlMwJOR4EQTAjVwJnAf2Aiwp9B+bGkN5l++GXYbYys09T+6n4O24/SXeY2bBm9twrPe8xs+2zRkkXAY82NTFkeBAEQavoBQwys28um0saBtwNHI9fPAS/jNgTv6C3azIuI2kw7njshV8WeTbNewl3HI5vzh4VcjwIgqA2JG2J20ZeBDbNLlZLOhm/aL4C7vTLxvfHnYY3A/ub2Re5vkG4k/BI4A/JBjRe0ulAQzU+hZDjQVAb7ZqqtI78GC/mfXreaQhgZv8B/gpsIGntkrm/zpyGafx0vHYJ+O2H/FqvFp2GiQvSc/uSPoALM6dhWmcqjdGEfzezBcxsETPbIBnGr0596+fW2Bk3Nv8x7zRM672FG6iXwyNhZsLMLjWz7mbWPQRjEMzVHI7f6jom7zQEMLP78ei7vpIWS21j8OLSqwN/weXTcsDRZvZshT1exiM48mvfihtnV8MjNYpcWnQaSloSL3g9Lu80TOtNwSP7hBuD80wDZor+NrMPSvb9omTcpMyxmf4mWWHt7TJZjTsWFwAuyjsNE6cAnwA/yqfSyHFCLgIGM/ss7TEPMFM619y4kONBEASNXA18TaOTEPgm2mRfPAr8rtQ8ID1PzJyG8I38PSH9enBTm8lTWG+My/d8ujvMbByN74pSQoYHQRC0iteBM/MNZjYC+B8z2m0G4BHlx2VOwzT2PTxaBeBqM+tmZqXlYSoRcjwIgqBmMj39N/lsTGb2JZ4pqsgxeHDNgLzTMHEG8CHVZQkpJeR4ENRGe6cqrRc90nP9CnmM10jPtWisIZgxrmT8hPTsnG+UtAguxPZIay7GjAUkv1PhfGV7vJWeT5T0Zcb8FXNt2WfsUuEzrp6eawGRrjQIgkpksqSnymujLgPMi8u4TD79Fk/jnDnorjWzy5rY45GSiELwdBE98QjChwp9Y2ca7QbaeYFKOernT8+1cm3X4OlTn5N0fdrnUTObXJg7HJfnt0i6Ab/tNtrMXqn0oQpkEewPFDvMbJKkp4Ct8FR5TxeGVP3eCYIgCMoxszck3Q9sK2nt3OXBvngKuwtyRuMNcSfjyJKlHsIvm2zQzJZr4unuHil5p5DWjlqHQRAEbcP4CmVhJpC+36SLj6sBb5Zc7INGvb05eR8EQRDUh0zejirpewx3EgIgaWE8gOYD4FhJJVOYyoz2nyAI2pCO4jhcMj0PaWbcoiVtZfWnMsE1b9aQbhk/gN9m+w9udH6fxlzMpwNlkSXgNbYq7dFU3/y5tuwz7l1hj4yyzxgEQZCRyZLjmxn3jSwxM5N0E55GGTx9aFO8W6E9S8HZqYm+PNlZN07/KpGXez/Da58cBJyY/k2XdCfwczN7GcDMxqa0Gafgqed+BJBqZg02s2ub2C//Gd6u0J+1L17sqFD3cKb3ThAEQdAsQ/H6uAfSGDk4Q5rSRCdgYrrdPANmNl3SB/jFmabI5H5z77ggCIKg/pTpz+A6dJZJq8X6eRAEQdAmVNSfzewrSfk65Z3x4JylcRt7EATtTEdxHGbOt/XN7N9ttMduuNNwqJkdlO+QtDxtL9Syz7ibmd3WxnsFQdBxyWRJJzP7uJoJklYHzgcm4YrfZakG7JQKU5at0L5c4Qx5ytJAZ+MuMLPjqjlruok8BBgiaRm8hsm++KWLdSStk9WBNbNHgV1SOtGNSLUZgWGS3jez+5rYKjvbcniNlCLLF8YFQRAE9edm4GPggFQrZUlgR+BpM8tHe08GlpA0v5lNyy+Q6ogvldZpikyeN/eOC4IgCNqHvH5eRujnQRAEs5ZMv14Wv+D9DZLmxXX3LOteJpufMrMNCYKg3ekojsPHgB/gdbPaynG4WnreVNLXs432zPNYem6J1yBrMQ3n7Nz60wRBMKfyGO4k2xK4o7nByak2HFgEr+PaE4/SGwIcVmHaFpLmKUlX2is9n6I6xuKp5cpqIjZLqmVyE3BTSme3NbAuhRTRyZE4Bhgj6SXgKvyySFOOw6eAPfHPdH++Q9LiQDdgCvD8TDPrQMjxIAgCMLMvUlrqg4Ft8NRF8zFjtCG4zO6Dp5C+v9C3FR7t/WQz2/0Xr2/bTVKnknSlvao9d8jwIAiC+mNmn0h6BVhV0upm9lJhSO/0zMv7LP1pTVk/Qo4HQRBUxVN4utItKDgOgc3I+SXM7FNJz+IXvpcws4lV7vE1LcjcFHI8CJpnnuaHzBFcgaeuOF3SJsVOSfNI6tXKPRrSc4Z1JK2K1/9qa24FXgGOlLRT2QBJPVJO6CAIgkpchKdYvkDSGsVOSQukFJ4Z5+OK3rlmdi8eXT0aGCipUurk1YEjCuvuhjsdXwYeqeagyfF3DdBd0mnpRlrxvN+VtEr6eUFJ3y8ZMz9e7wrc6IukzSV9q2TbZfPjmuDv+N/xp5JWK/SdAXwb+HsW3RgEQTC3IqmrJJM0tI22yNb9cfo3HX935Lk8Pc/O68rp53PSr39rapMUqfg1XuN8UL5PUndg/9qPHgRBELQUSYZf1stzOZ7q7rz8dwdJSwGn5cZkTMIzn6zchkcNgiCYW7kqPU+R9E3JGkkLAGeVjP89sABwebqQPQOSOkvaMP08NL0HJgErpba2/t4RBHMVHSLi0Mw+lLQXnq7osRRZ8iyuAK6EF8teElioFdvcjhu8j5O0MR4B8xqee/kO2ljRNLNpkvYERgB3SHoCjxp6Fq+5uDGwKp5+ozmDdxAEcylm9l9JA/AvzM9Kuht4Ea+pujIu294H1pS0B3AU8Dhwapr/laR+wHg8ZekTZla8OXY38DtJOwJP4xHbe+IReANKIhGb4ijcEflr4EeSRuH58VfAI0s2Bvrh8vhbwChJL+NRha/jcn/bNPY2M8siAH8JbC3pkTT3U2AdPMXdJODSpg5lZg2SjgX+BDyZIl7ex52jPfDIlBOaWCIIgiCoA2Y2Osn9vfF32e3p4kl+zLB0gWUf/N13C/49YXdgFWC4mV0jaSTQ08xUYbtJ+Hvl2OQsHIXr3j8E7gR2rfsHDIIgCGrhfFyf3w14OtU5Xxh/RyyDX4YclQ1OES6fAFtJugb/XvQV/r2hrbJZBUEQzBWY2UOSLgUOxXXwG/EL2H3x1KRv4RfzsvGXS9oIv4j+iqQRwP/wi+Cr4JlCrmDG7FdjgL6SbscDbqByaYEgCGqgQzgOAczsfknrAb/A0+ltCXyJC6EHgBtbuf5nkrbGbyX3Sc2d8ciS3+MGgzbFzP4taX3gOGCP1Pw9YEE8/Pt04IPm1ul6YrPZCYEI2w6CjoqZ/V3S08DP8ZQ92wGf4fLyBmC4pJXx6IvJwL5mNj03f0JyPt4CXCdpCzP7MrfF47ij7wzc8SdcDp9iZv+q8awfS+qJK5r74WmpF8Kdhy8BPwPuTcM/w511vYHNcYPwJ7jyeDgz3i6+GDcAb4qnzZgPeCO1/87MXq/ibBcnY/Uv0rkWBiYA5wFnmdlHtXzWWgg5HgRBMANX4u+c7Ocy+gEPAQOAganteeB3wJ+r3Odr4B38vdMX6A68gL9jGqjScVitDIeQ40EQBE2wFm5A3ixrMLMvJW2L20z2w+uXT8cvMx5rZteWrPNfYBO83nk//LvLGzRRBqcpOR5yOwiCYAYOx+XsQNzh9yEe+HMyLmtfyQ82syMl3ZXGbgMsDkzEHYjn4dmf8gzGL4L3AbIMfcvTDLXo43lCxgdzEzKz9j7DHIekrniEypVm1n9OO0PXE++o6j89hGHQwakUTRC0kJQS+kFgsJkNat/TdGxCjgcBEHJ8jmB20JurpbmIQ0kNAGbWtTX7VCvDIeR40OEJOR60O1VEm89EU3I85HYwlxFyPGgRklbHo7yvM7N+LZg/FDgQWMXMGlJbV6r83lGLPp4nZHzQAakox+e4GoeSNpE0XNKbkqZKelvSPZL2KYzbR9LDkiZL+kLSM5JOkrRgyZoN6d8iks6T9L+09suSTpCk3NhBuBACODDlTs7+9S+su72kOyV9kNZ7Ja1flqe5Tc4QBEHQUcnnr08/X5fk7RRJ4yTtUhjfSdLxkh6Q9IakLyW9L+k2ST0q7GGSRkpaVtLlkt6V9JmkMUq1IHNy+/Ukt59V5fqPSOon6UFJH6WzPi/p1LL3UxAEQUdF0sJJNx+f5Oqnkh6Vp8Muju2V5PEgSd0k3ZFk6OeSHpK0eYU9lpd0haT30veB8ZIOzK+XxnWV10jpmX7P69YjS9ZtVl8PgiAIGino7WtKukXSxCT/R0narjC+f2bfkLRD0scnJ1mdjZlJRqf3hCU5v5ekseldMTF9V/hO8UxUKfuDIAiC6ijI/I1LbDU/AIak4TfnZXdTa83KzxAEwRyWqlTSIXgqoa+A2/A0dcvgaYKOAK5P484CTsLTdg7DQ5Z3xAuvbi9pu0JaPfCaKCPwull34eksdsdTky6Ehz4DjMTDpI/B013ckltjfO6spwOD8HDqfwLvAVkq1Z0k9TCzj9vyDEEQBHMJXYCxwKvA1Xj++x8Ct0raxsweTOPWAn4DPIzXpp2E13XcFdhRUl8zu7tk/cWB0Xja02vT+vsCI5LD8S+p7Z+4HO+Hp3udYGaP5ReSdDlwEJ6S40bgIzy90hlAH0nb5tPCBkEQdETkl+geADYAnsRTSc+DlxsYJmkdMzu1ZGp3vEbto8BluAz/AXC/pG5m9kJuj2XSuC643B8DLIenpL6nsO5HuJ7dP40fnOtrKIytVl8PgiAIZmYVXDY/g+vQWZ3YuyTtZ2bDC+P3wlOI3gVcgsvoajgC1/Fvw9NUb5r2WT+9L6ZSm+wPgiAIaqcLbsOeD09J+jau/9+Q+u8C/oGX3gqCYDZjjnEcSlob/6L/MbClmT1b6F8xPXvgTsMJwCZm9k5qPwnPobwL7rw7q7DFCrgTblsz+yLNGYyHTf9M0llmNs3MRsrTFB0DjC9LxyepN+40fBTYKV/nSh4ReAWulP6src4QBEEwF9ELGGRm33zZlzQMuBs4Hk+fCl7LagUzm6EWbHp/jAUuSHOKrI8bNo4ws6/TnHuBq9Lao4FeZjYl9V2NG6lPoLEebSb/D8LfRftncj71DcKV5SOBP9T+JwiCIJijGIIbDU4ws3OzRkkL4RfiTpZ0g5kVL8TtDBxkZkNzcwbixuRjcENxxtm4seJcMzshN34ILvO/Ienqg9It5y7N6NZV6evN/gWCIAjmTrYCzjez47MGSRfhtpNLJN1VuGC9E25TKdPRm2IHYGMzeya3zzD8gt9uwPU1yv4gCIKgdnrh9ceXBbrhF66nAQvidQ93MzOLpB1BMHsyJ6UqPRx3dJ5RdBoCmNkb6ccB6Xlm5jRM/dOBnwNfAwdX2OPovCHXzN4DbgU6Ad+r4axHp+cheadhWnMoHhW4fxufYQYkHZrCwcd9Mr5WnTsIgqB5zGykmakdvnS/DpxZOMsIvHj2Jrm2yUWnYWp/A7/xtqaklUvW/xw4PnMaJobhUSadgWMyp2Fa7xH8lnK3wjrHpDkD8nI+cQZeJLzSuyHkeBAEHQJJSwIHAOPyTkOAJEtPwOss7FcyfXTeaZi4HJet38h7SQvgxuHJzPx+eBq/+NEaatbXQ4YHQRAALpd/nW8ws3HANXiWjz0K429tgdMQ4MK80zDx1/TcpDi4GkKOB0EQ1MzrwE/MbEczW97MFjSzhXBbzdKz+rJdyPEgqI05JuIQT+UGHsbcFBum5wPFDjN7UdIbwCqSOpnZ5Fz3ZDN7uWS9CenZuYaz9sBvUOyt8jpXCwBLS1rSzD5sozPMgNn/s3fm4X5N1x9+P1S0hoYYiiKhKKo1xZAWSarmIWgpOgg/Q2seqoZSSbWooWjV1NJoS0VN0UrMLmJWCS01Ra4aYkxETBGs3x9rn+Tk5Hyne783ucN6nyfPuXfP53qsvc5ae69lFwMXQ9sTwAZBEHRSxpvZJyXlL+LyeCaSvoE78Abgoa57Ffp8EVdi8zxjZtPyBWb2iaTXgIXN7PmSuV/GQyJl8y6E31x8Ezi8wom66Xg41VJCjgdB0E3YAJgfmJljsMAC6VkmDx8pFpjZjCSP83ryl4HP4c7JacU+wFgqHySsRZv09ZDhQRAEADxaQS63AHvht9Evy5U/VNK2HubYL2inXSXkeBAEQcPUbauZG4QcD4LG6EqOw8XS8+Ua7Xqn56QK9ZPwfCiL4afdMt4ub06Wa2r+WgvMsQT+t60Vo3kR/IZJR6whCIKgp1BNds68WS9pZ/xm4YfArXiM/ffwm+iDgIF4yIwiU0vKsvGr1eX32MXxGzRLEfH7gyDo2SyRnhukf5VYpKSsmrzP68nZ98BrFdpXKq+H0NeDIAjaTiX5m0WL6l2hvFHKZHXI6SAIgrlLXbaaIAg6J13JcZgJmy/icZArkRlxl8GNwkWWLbTrCKYC85lZnw6cIwiCIGiMk4GPgP5m9t98haSLcMdhR5HtOePMbL2qLYMgCLo3mTw828yO7KA5svxYX6hQX6k8CIIg6Fgqyd9l0rNop4kbIUEQBN2fLC1MmZ9isZKyIAjmAl3JcfgA0B/YhuqOw3F4uNJBFByHklYBlgcmFnMPNkh2zbrSSbUHgO0kfaUsH2OTqLWGirSetl2TlxIEQdAlWAV4osRpOB+wSUdObGbvSnoC+IqkPmY2uT3jhRwPgqAL8xBuHNi0A+d4CvgA+JqkRUvC4lWS+Z8ASJq/QlilphAyPAiCHsx6FeTyoPQcN5fXA22Q/SHHgyAImsqU9FyhpK5/R0wYcjwIatOVrgVfgF9lPlHSmsVKScunHy9NzxMkLZWrnx84E3/nS9q5lin4ybcVK9SfnZ5/kLRcyVr3l2SShnbgGoIgCILZaQVWzctlebLBYcAc+0oH8Bs8p+KlkuY4NSdpcUlxGzEIgm6LpFbccXg50F/SiUlHL7b7kqSV2jqPmX0EjMRD3l2Z17slrQ38sELXLIXAyNSnX1vXEARBEJTSG/h5vkBSf+B7+G3D6+bBmjLZH7aVIAiCeUOWz3ZvSTMvOUlagcKeUYOJTV1VEPRwusyNQzN7UtKBwIXAOEmjgGfxPCkb4CGJBpvZfZJOB34K/EfS1XgOq22AtYCxwBntXMu7kh4ENpV0OfAMfkrtBjN73Mxul3QscCrwrKTRuPBaBOgLbN6e+etZQ3vHD4Ig6Iaczaw95BpgBvAN3Gn4D2CHjpzczC6VtD5wIDBB0iv4vvRP4LPAZsCfgB915DqCIAg6AQcDqwK/AH4gaSye92o5YA1ct9+D9n38Hwt8E9g2/f5tSQOB3YDRwE7MCouUcTuwKzA4W6ekx8zsL+1YRxAEQTCLu4F9JW0E3IunkvkufsD7ADN7p1rnZpMOiOyafr022W4+AF4I2R8EQTALSYOAO4HhZjasmWOb2YOS7sZtIg9JugMPbb0DcDPlNxGDIOhgutKNQ8zsD3hooX/ioSyOBnYE3gB+n2t3DG5seBY/UXwo/q4nAFukU8jt5QfAjcDWwEl47qyZN0XM7Ne4wLsRN0wfjiukXwRamjB/zTUEQRAEszCzi4C9gUnAXvjJ5heBjYBH59IaDsKV3/uBlVPxN/DT12cA58yNdQRBEMxLkmF4IHAI8CbwbeBI3GE3DTgCuLWdc7wGfB03TANsBayLH964PJUVDdR/xA/+9Uq/HwX8X3vWEQRBEMzGRFw2T8EPy+2G6+HbmtnIebiuf+P6+E9xu0rI/iAIgrnLEFwXXx7/RlgXl8nHzMtFBUFPRmaRa3puk0Il/QnY28xGzO35+x17Y13/0SPec9DN0bxeQNCzkTQMP/Qx2MxaGukbcjwIgJDjXY4UqhQz6zcX5xxKQe+W9CvgeGBrM7u5pM8I/IDJSmbW2uw11SvDIeR40O0JOd5DSDf7JgKXmdnQebqYHG1dVzU5HnI76GGEHO8hdOSNw2YhyYC7zGxQrbaN6ON5QsYH3ZCKcrxL3TjsrEjql/KgjJC0uqTrJU2W9J6ksZK2rNJ3sKQWSdMkvSPpRklrlLQbkeZYWdKRkp6S9KGklySdLenzHfuWQRAEzUHShpJGSnpZ0nRJkyTdImm3QrvdJN0taaqkDyT9W9JxkhYsGbM1/VtY0hmS/pfGfk7SMSmXYdZ24yRPK+ZQkfTf1L9PoXwrSaMlvZnqJ6T5ynIWZmv6vKTfpJ9nSBqWjOcnpaZ3pvVYUnSDIAi6LHIOlvRE0lVflnSepN4V2i8o6dgk499P+vA9xT0htR2UZOWwCmO1Zs7J9PtyhfrtJI3HnYYGHCBp1QbfbyNJV0t6VdJHkl6UdFFxriAIgqAxJO0o6fb0bTBd0iuS7pKnrMm3W1XSn9P+8lFq9+cyeZ70bkv7x56SHpT0btovhjErJPZeeX1cKS9uEARBV6QefVVuuzZJh5b0PznVXZJ+H4E7DQFOKsjLQYW+e0i6U9Lb6Vvgv5JOqGDHMblNfElJF+fk/xOS9q7wbr3kedInpLYTJf2ybPwgCNpHl8lx2EVYCQ8/92/gImbF6x8jac+S0Bvb41exx+B5t9bE87BsIGlNM3uzZI6z8RCoVwGj8LBLh+O5Djcxsw+b/1pBEATNQdJ+wAWknKx4SOmlgf54+LirUrtTgOPwEHZXAO/iuWpPAbaStGVJ2OkF8Pj3y+Fy9WM8h9VpeA7B4QBm9oCkp4FtJS1hZm8V1rghsDpwjZlNzpWfBAwDJuMhs18Hvgb8JI01oCQvSy/gDqAPcAseFm8iHpJ0JzxU32VAa51/wiAIgs7OOXiagEnAxXg+2SF4WOhewEzZLakXLrcHAk/hqQcWAr4DjJS0jpkd3461PIKHPgVPWZCFiDbgcWBnYKCkr5vZ07UGk7RPeqfp+B72Ip6rcV9gB0kbm9n/2rHeIAiCHomk/XEbyqt47vE38W+Er+GpBs5P7TYAbgMWxeXwk7je/n1giKRvmdnDJVMcBWyRxr4TD0vaAiwGHAY8Blyfaz++qS8YBEEwl2hAX90HGAecLukeMxuX+m+OH7J7Eg8ZCrPk417AXcyegqs1N/eluMx+CbgGeBvYGA8BvbmkLczs48KSF8NTC3wEXA0siKf6ulTSp2Z2WW584TajIcAE4Dz8+2If4KsN/qmCIKhBOA6by2bAmWZ2dFYg6TzcmXihpDEFo/JOwFZmdnuu/anAsWvq49kAACAASURBVLjQO71kjm8A65jZC6n9ccDfgV3wnI8nN/eVgiAImoOkNfGP/neATc3siUL98uk5AHcavghsaGavpvLjgOvwQxc/wZ2IeZbDP/q3MLMPUp/hwDPAEZJOMbMZqe1lqf8euLKZZ69cm2xtg3Gn4f14Dpa3c3VD8TB4w/G8XHmWxRXugWb2XuF9F8ON5SMaDVUaBEHQGZH0ddxpOAGX35NT+c9wQ+2ywAu5LkfhcnAMsGNmSEiy+yHgOEn/NLP72riki3CdGuBL+P5zD66vt0g6DHd0ng9sXuPdVsMP+rXiMv3lXN3m+OGQc3FnZBAEQdAYB+BG47XN7PV8haQl01PAn4HPA983s8tzbb4LXAn8JR3C/rQw/jeBAZlhPNevFXccju+sofeCIAjqpRF91cwmS9oDdwSOlLQesDDwV9zpuJuZvQ9gZtdLehu3lbSUyctkF9kbt9l8L7PJpLpheMSlg9L8edYGLgEOMLNPUvtz8EN+x5Czy+D2myHAA3jKlw9T+5OAskMjQRC0gwhV2lymAr/IF5jZI8Dl+AmKoiHhyrzTMHFxem5YYY5zM6dhGv9T3GH4KbMMI3MgaX9Jj0h6ZNr4m2q+SBAEQQfwY/zAyslFpyGAmb2Ufsxk2S8zp2Gq/xg3Mn+Kn5Yr49C8gpoMD6PwU8VfzrX7Sxpnr3zndPtld/w24Zj8uOm5X95pmOYYgZ9K/l6FNR1VdBq2hZDjQRB0AbKQQr/K39hOH/XHlbTfB7/9d2T+9HGS3dlhuEryviZmNpxZYaHvMLPeZrZ97rDGebiT85uS+tYY7sf4zfbD8kaYNM/t+InuHSQtWtY5ZHgQBD0ZM2s1M9XII/gxfku92DeLxPR1/Hbh/XmnYWozEhiL6/ublIx9cdFp2Cghx4Mg6AI0pK+mw3kn4jcSL8LtJMvgdpU5bDY1OAyX4/vkbTKJk4G3KLeZvI9/C3ySW+uT+C3ENSQtkmubfWscn4+4l747al6kCTkeBI0RNw6by6NmNq2kvAU3Tq/L7CclHilp+2J6Ll5hjruKBWb2vKQXgX6SFisatVObi0lOybYmgA2CIGgnG6fnmKqtYL30vKNYYWbPSHoJWElSbzObmqueambPlYw3h1w1s5ck3Q5skU4lP5mqdsDDip5dCKExADdk7Cpp15I5egFLlYQ+/RA/KdduQo4HQdAFyOT3HPoqbtCdaRBIBotVgJfN7KmS9tkesG6T1lamQ38iaSx+G3FdZr8NWWRAeg5MofKKLA3MD6wG/KtkrpDhQRAElbkcOAt4UtKVuMy+18zeyLWp+I2QK98El+d3F+oeau8CQ44HQdAFaIu++mtgMLBn+v1vZvbHRiaVtBB+c/BN4HC/ID4H04E1SsqfLUn5ArPbcd5NP6+HHwAfW9K+pdY6Q44HQWOE47C5vFahPLsx07tQXubg+zgJ2PnbMEffNMcc4wZBEHQCFkvPl6u2miUrJ1WonwSsmMbLOw4ryb7MAViUqyPwXCd74SEwoCRMaWIJfM88ieosgp+ky3jdzEIhDYKgp5DJ7zn01aTjvlnStpqsh1l7R3tpVE8vskR6Hl21le8DQRAEQQOY2W/SHnEgHunjcMAk3QUcnSI5tWffeLWkLAiCoLvRsL5qZibpWmDLVHROG+ZdHBCwFLVtJkUaseP0BibnUtDkCTkfBE0mQpU2ly9UKF8mPadWqO9scwRBEHQEmUL4xRrtMjm2TIX6ZQvt2sp1eL6r70uaX9LSwDbAY2b2WMmapqQQS9X+FW+rhNMwCIKeRCaX59BXJX0GWLKkbSOyPstZVenwYzUnY3t16Ky+d419oOy2ZRAEQVADM/uzmW2MG763w3NebQbcLGkp2veNEDp5EAQ9gYb1VUmrAmcCU3Bd+4+SPtvGecfVspk04f36SFqgpK7S3hAEQRuJG4fNZT1Ji5aEKx2Unu2KqZ8YSCHshqSVgRWA1rIwpUVaT9uuCcsIgiBomAeA/rhzriwsXcY4PATFIDz31EwkrQIsD0ysR95Vw8w+kHQVnj/rW3jYjM8w523DbO3bSfpKG2L9VyIL2VfphnlFQo4HQdBJeRSX3wOB5wt1m5CTd2Y2TdIEYGVJq5rZs4X2g3NjZkxJzxWKE6f9oVrkjYElfeZnVi6sWnr6A8D6wKbAjTXaViVkeBAEQWWSjj8aGC1pPjwf7mbMktODKnQt2zdq0SZ9POR4EASdlIb0VUkLAiOBhYGtcH35Z/itwx8VmleUl2b2rqQngK9I6pPPdd5kHsVtN5sAdxbqBjUyUMjxIKhN3DhsLr2Bn+cLJPXHk79OxW+3tJfDJPXNjT8fcAb+3/JPTRg/CIKgo7gADzdxoqQ1i5WSlk8/XpqeJ6TTxVn9/PhJuPnwE8jNYER6/jD9+xjPsVLk7PT8g6TlipWSFpa0cfq5VVJrHXNnIU1XbGTBQRAEnZgR6fkzSX2ywnRq+dSS9pfiYY3OSDI+a78kcGKuTcZT+E3xIemWeNb+c8Bva6ztm5K2L5QdjOc3vLPkxniR8/Bct2dLWq1YKamXpE1rjBEEQdBpkHSopCclfSDJJB0+D9cyWOVJsTJZ/z5wL/A0sImk7xT6fwc3lD9Dee4rJPVL7zkiVzwFv40Y+ngQBN2BRvXVM/G8sKeb2a14mNF7gQMk7VroXst+8RugF3CppDmigEhaXNJ6c3ZriMzu/av8rcj03XFCO8cOgqBA3DhsA5L6AROBy8xsaK7qbmBfSRvhgnZZ4Lu4kfuACsleG+VeYLykkcC2zDpx/S/g9CaMHwRB0CGY2ZOSDgQuBMZJGgU8i4cj2gA3Bg82s/sknQ78FPiPpKuB9/CbimvhxoAzmrSsLN/i7ris/oeZvV6y9tslHYsbvp+VNBrfBxbB88sOTOvauoG578RDgZwqaS3STRoz+2Ub3yUIgmCeYmb3SvodcAiz5PcMYAgu44p5qc7EZfsQ4LEkWxcCdsWNxaeb2djc+DMknYs7FcdJug7/ntkCeCX9q8Q/gOtSn+eAddLck/GcWrXe7SlJ++COzCck3YTnUtkXeBE/qf0GsHqtsYIgCOY1knYHzsVv8Z0DTMdvqswrrgPelfQA0IofKtkU/0b4F3BbysO1F3ArMDJ9SzwFfBnYCZgG/NDMPi0Zv5R0S+ZBYFNJl+OOx0+AG8zs8aa9XRAEwdzhQmABoB+z9NVnUtmKuFx9A1hd0s74IboHSU43M/tE0h7AeDxk6b/MLIsi8jRuP9ld0gzgBfzgxV/M7AUzu1TS+rhePUHSzcD/gD7ASvjN8bckLduOkKV/w+3sO+LfGqPSu30HeBg/EBgEQZMIx2FzmYhf5T4tPRfEr1H/wsxubtIcRwA7A/vh4frAFf6fm9mHTZojCIKgQzCzP0j6D/ATPJTETsCbwOPAH3PtjpE0Dldkf4grgxNwhfYsM/uoyUvLbuCXhSnN1vRrSfcCh+KhMYbgt8lfBi4GrkhNN0/P26tNaGb/TcaPn+DKdXZiLhyHQRB0ZQ7DDRQHAQfgp5OvA44HZssfa2YfSdoCOBLYE3c4fpzaHW5mfysZ/yT85sl+wP648+5KYBjwZJV1XYvL6p/hubNmpLLjzOyZel7MzP4q6THgKDwk3papalHgKjzUUxAEQVcgu4G9vZlVO3QxtzgWD5O3Hn5A+kPcKH0McIGZzQAwswclbYB/E3wL2AH/lvgbcLKZPd2GuX+ARxfZGtgDd1q+hH+fBEEQdEXWZ3Z99T38gN3V+MGLFfEoTlOB3c3s46yjmb2YDstdD1wpaRMz+yg5FXfGbd674vqv8APUL6S+B0kag9vEv4XnH5+MOxDPSGvJ8tE2TDpAsiu+ZwzF7UWT8JuIv8D3jiAImoTMIkd0oxRvHFa5gdjMOUcAewErmVlrKmsBBjZ6UqPfsTfW/I8esZ6DHkB7kzIH3YC5Ib87gnrkOIQsD7o9IceDeUpb95CQ4UEwk5Dj8whJd+CRPnrMf4Nm6v3V5HjI7qCH0WNkSFegrXbiuUVnWl+9+niekO9BN6Xi/4/dOsehpN0k3S1paorb/29Jx6Xkr/l2loRX2RgjUn2/9PswXNkE2EuS5X5fJbUZlPoMkzRA0m1pDdMk3ZzyHladp1A3CHcaZr/3S/MOzK3fqr1HEARBZ0PShpJGSnpZ0nRJkyTdImm3Qru6ZHlq25r+LSzpDEn/S2M/J+mYfO6UMnme+zc0tekl6WBJoyW9kMaanOT6NhXea44ch5KGZuPKc7i0pD3hHUk3SlqjXX/MIAiCYA6Uy2eVfr5S0puSPpT0iObMeYikBSUdm/aa95OcvqdkbxpGjT0kCIKgs5FsFIbfQpnNlpBrs7mkm5LOO13SM5JOk9S7ZLyW1L+XpJ9Lejr1GZFrs7yk8yQ9n+reknSD/OZgcbzl0jj3SnpV0keSXpF0hUpypOf61fVdkWtf154QBEHPZl7bLHJ9dpR0e5p/epKLd8lTwdRtJ87N/XlJv0k/z0h6bU3bdKobVlLXR9KvJP0n6c9TJT2W9o6F611fqltf0jWSXk/v+oKk8yXNcVMxt96VJR0i6fH0928ptg2CoHG6bahSSacAx+FhK64A3sXzmJwCbCVpyzaGumvBr1ofhodRuj73++RC243SGm4Dfo87FncBNkvz39OG+QHeBobj17L7pp8zWts4ZhAEwVxD0n7ABaQcIniuw6WB/njYzqtSu7bI8gWAm4HlgDF42Lud8JAan2WWzGxhTnmeMT49++DhoO/D86m8gYfW2AEYLWk/M/sj9bM9HuJ0DJ5/YE08HNMGktY0szcbGCsIgiCoj77AQ8DzwF9w2f5dYJSkb5nZneCHRfD9YyCeN+v3eM7F7+BhndYxs+PTmC3U3kOCIAg6Gy3pOZQ5bQlIOgDX0d8D/g68jqcXOAbYQdI3zOztknGvwfMRjsHl4etpvPWAW3C5ezMeInpJXDcfK2lnMxudG2czPATdnWnMd4FVcTm8Y5p/trDX9X5X5KhrTwiCoGfTSWwWSNofuAgPz/+PNM/SwNeAvYHzacxO3Au4A5d9twDvMOswXMNIWgmX2X3xnLQX4BeVVsPTbV1Y7/rSAY5r8BtQV+MhUNcHfgwMkYdNLVvruXj+xhuB0fh/syAI2km3dBxKGoAL7ReBDc3s1VR+HJ5jZXs8p9QpjY5tZi3ymySHAePNbFg6iVHmONwaOMTMzsutbQiuSF8q6cuNJO7OreFtYJj8JmJfMxvW6BhBEATzinRa+HxcQd3UzJ4o1C+fnm2V5cvhRtwtzOyD1Gc4nnPrCEmnmNmMMnlestwpuJx9qbDG3sC9wOmSLs/mqYOdgK3MbGb+Q0mn4gaSfYDT6xwnCIIgqJ9BwDAzyxthrgBuAo7GjR3guWAG4gacHbN8L2kPeQg4TtI/zey+OveQIAiCToWZtQAtZbYESX2B3+JG7w3N7Klc3fm44fZ0PL9skb7AWvlDcJI+gxvWF8HDot6Vq1sOeBi4RFI/M5uequ4AvmBm0/KDS1ob171Pww3yWXld3xUFBlHfnhAEQQ+ls9gsUtsDgI+Atc3s9cI6loSG7cTL4nnBB5rZe3X9QapzOb4HHG9mp5as710z+7DW+iQtAlyG+yoG5S/bSDoGl/8XMSvHeJ71gHUrOBWDIGgj3TVU6T7p+ctMaAOkj/+jgE+BfZs1mZm1mplK4uQ/h280+bajgLvw24ebNjjV8Cy/YaNI2l8efuORaeNvassQQRAEzeLHuDJ4clEBB8g56dojyw/NO/OSgj0K6A18ud6Fmtn0otMwlU8FLgUWx09X18uVeadh4uL03LBax5DjQRAEbeYF4Jf5AjO7Gfgfs8vefQADjsychqnt68DJ6dc2fUOEDA+CoAvwffwmynl5p2HiZ8A04AcqCb0HnFgSOWM74EvA7/JOQwAzewV3Qi4DbJ4rf73oNEzlj+FOxcGSFshV1ftdkafePWE2Qo4HQY+is9ksPgZmFMpoR8Sio5rhNJS0PjAAj7bx62K9mb2ZnIb1MAS/BTmyJELfWfjNxC0krVjS9/R6nIYhx4OgMbqr43C99LyjWGFmzwAvASupJEZ/k7mnwo3ClvRct4Pnn4mZXWxm/c2s/6LrbD23pg2CIChj4/QcU6NdW2X5VDN7rmS8F9Nz8XoXCiDpKyl2/vMpXn6WB+as1OSLDQz3SFvXFXI8CIKgzYw3s7KQRS+SZK+kRfGDfa+UGMxh1l7UJv09ZHgQBF2Aarr3FGAcHkJv9ZK+D5WUDUjPvvLcirP9Y5aTbrZc35K2k/QPeS6vGTndewdgQTzUaUa93xV5au4JZYQcD4IeRWeyWVyOh85/UtLZknaStFSNdVXjQ+DxdvTPk/2dbm5LRL0C1f6WHwN3p1/LdPGyPWgOQo4HQWN0y1Cl+OkMgEkV6icBK+J5SaZ24Dpeq1CenULpaMdlEARBZ2Sx9Hy5Rru2yvKyvCvgp/QA5q+1wAxJG+OK62eA2/HcBu/gJwfXwU/FlZ26rsQcazOzj+X5z+teVxAEQdAQ1faF7CBlPXsOzNrDgiAIuhvtkYOvlpQtkZ671ph3kewHSYcB5+DpAm7FbwG+j98G3wlYm9l173q/K/LUsycEQdCz6TQ2CzP7jaQ38byKhwKHAybpLuBoMys7nFyN183MGuxTibbI4Eo0ew8KgqCddFfHYSaMlwEmlNQvW2hnVP5btMc48IUK5csU5gc3QlNhHWGgCIKgO5EpyV8Eym51ZDQqyzuCE4DP4XlZWvIVKW/BkA6cOwiCIJh75PecMubGnhMEQTAvycvBOULzUUUOVjBCZ+2GmNkNtSZPORGH4Qbg9cxsUqF+QEm3er8rgiAIGqFT2SzM7M/AnyUtBnwd2BkPk3qzpNXN7I1GhqtS16htOv93ai/t0cWb5QgNgiBHd3UcjsOvOA+iILglrQIsD0xMyWPBT7OtUBxE0vz4jZIiWViLWrdDNpE0X8l17UG5dWZMSc8V8NyIefpXGP+TbJ0VQm2U0nradvU2DYIg6AgewOXaNlRXwhuV5W2hljxfBZhcdBomBrZj3nYRcjwIgqC5mNk0SROAlSWtambPFpoMTs9Hc2X1fhPMRsjwIAg6KeOAXXDde7ac3MlYvQ4e4u6/dY73QHpuikftqMWSuGH62hKn4SLMCmNXnKOe74qmEnI8CLo9nclmMZM0zmhgtKT5cOfhZsA1qUmb7MQ5GrVNZ3J+K0nH1xGutNr6Mhv5IOCSfEU6WLJp+jWvi7eZkONBUJvuGobh0vQ8IR/3OTkCz8TfOy+EHgJWlLRlYZwTgL4l40/BTzOUJWTNsyp+lXwmkobgxubngHyy1ywe836F9l8FDqsw/lvpWWsdQRAEnYkL8BAcJ0pas1gpafn0Y6OyvC3UkuetQB9JXyus8f+Ardo5dxAEQdC5uBQQcEbaawCQtCRwYq5NRr3fBEEQBF2BvwIzgEOSwTvPycDngb+a2fQ6xxuFG9IPkrRtWQNJAyQtlH59HQ9Lun5yFGZtFgDOZfbchhn1flcEQRA0QqexWUgarJTbpMDS6fl+rqy9duKGbNNm9i/gPvxgyTHFeklLSPpsneu7HpgM7JFSxuQ5HFgJuM3M/lfHewRB0AS65Y1DM7tP0unAT4H/SLoaeA8/KbIWMBY4I9flTNwAPErSSFxQfR0XSi3MuiGYjf+upAeBTSVdDjyDn5o4GbgLD68BcBNwlqRtgMfwmyu74Kf09imcxBgFPIsLyG3x2M5X4WHwRgG7lbzq7Xi+gGsljQY+AF4ws7/U+7cKgiCY25jZk5IOBC4ExknK5N8SwAZ4DsHBjchySf2Aian+zQbWUkme32Bmj+M5VrYCxkq6Cg+L0R/YBLga+E47/hRBEARB5+JMfI8ZAjyW9OuFcH17aeB0MxubNa5jDwmCIOjUSGo1s34AZtYq6UrgB8C/k1x7Az/4PAC/dTOHYbgSZjZD0i7AzcCNku4DxuNG7hVwvX9lPPzc+2b2qaTfAsem+UcBvYA9cfvI/Wkd+Tnq+q5o+A8TBEGPpiNsFu3gOuBdSQ/gB5uF377bAPgXcFuubd12YkmDgDuB4WY2LBXnbdPLAw/iTr5qtunv47bzUyR9O/0s/DLNlsDqad1V15f06n2AvwN3Sfo7nud2/TTOq8AB1f5QkkYAewErmVlrtbZBENSmWzoOAczsGEnjgIOBHwIL4KfdTgDOMrOPcm1vl7QT8HNgd1zI3wp8FxheYYofAGcDWwN74EKxyIPAL3CH4sGpzR3Az8zs4cJ6P5S0OW6w2CUVr4wryZMpF85/xG9E7o5vUp/BHZfhOAyCoFNjZn+Q9B/gJ/jhjJ1wh9/juGzL2tUty9tBJs+3x09SA7wEPG5mN0naIc33PeCzeM6XwbiMDsdhEATBXCZ3WOQyMxvarHHN7CNJWwBH4jr4Ifhp88eAw83sb4V1tAAbA/9k9m+Cl/D9LAiCoKtxB64bTwC+jR+eeBE3fJ/SaLg9M3tc0tq4XN0e2BvPoTUJD0t3EnCgpBNx/fpE3Fm5L24gnorfUOkNvFJhjrq+K4IgCBqhE9ksjsUPM68HbItfRnkBP8hxgZnNyLUtsxMjafN6dOaCbXoL3Dn5H6rYps1soqT10nw74X+HD3Fn4Vn4bfJq65tpxzazUZK+ARyf3rk37jC8EDjZzEr3gSAIOgaV57AO2oIkY9aNw+KpjUbGaQEGmlmZM7Ld9Dv2xpr/0SPWc9AD6JD/v4J5QzOMyBVO3OXrhwJ/AvY2sxFtWmiTCDkeBEDI8R5LRzkO27COFtqgs9cjwyHkeNAjCDk+D5HUCpDdOExlQ5nL+q6kYbgDcXBZXnFJy+LG4wkFA/k8o5ocD9kd9DBCjndiqunMtewfXZFGbhzWq4/nCfkedFMqyvFue+MwCIIgCIIgCIIgCIIg6LqY2ST8hmIQBEEQBEEwl5hvXi+gUST1k2SSRkj6kqSrJb0laZqkWyStldotJeliSZMkfSjpYUlzxLaX1FvSqZKeTu2mSLpZ0rcqzN9L0omSJkiaLmmipF9KWrBC+xFpvf1K6galumENvP9WkkZLejPNP0HSGZIWq3eMIAiCnoKkhSQdJ2m8pPckvSvpfkl7FNqNwE/bAZyUZHP2b1C6VfKnVP+nQn2/3DifkXSgpAckvSPpfUnjJB0sab7CnPn9bDVJIyW9LunTdPovCIKgSyNpN0l3S5oq6QNJ/04yecFCO0tytmyM2XTppDdPTNV7FeTx0NRmpo4taYCk29IapiU9v3+teQp1s+nsmfzG835RWEPpewRBELQHSRsmXfHlZAeYlOwfuxXa1SV327iG5SWdJ+n5tIa3JN0gaYMK7eeX9CNJ9+bW85ykP0paNbVpxW8bAtyZl6e5carJ57rfV1Jr+rdwsqH8L73Hc5KOkRQ3p4Ig6DbUozPn2q4j6UZJbycbxl2Svl42Zs5GsqekB+U2ltZcm7psMKltr2QrGS3phSSTJyfdfZsq7/YtSfek8SdLul7S6m38UwVBUIGufOOwH55D8L/AiPT7zkCLpAHATXiy2pFAHzx+8hhJq5nZ/wDkzrZ7gTWBh4FzgCXxmM23SPqxmV2UTZgUyavwpLATgPPwZN37AF/t0Lf1+U/Cw6BOxnOpvA58DY+3va2kAWb2TkevIwiCoCuQZPwdwLrAo8Cl+IGZrYArJH3FzE5Iza9Pz73wkNMtuaFa8X3mbWYlBR+fq387zbcA8I80/tPAFXhs/8HA74CN8JwxRb6E72fPAJcDn8P3ryAIgi6LpFOA4/BcMFcA7wLbAKcAW0naso05X1qAxYDD8NyD1+fqxhfabpTWcBvwe2AVPJf4Zmn+e9owP7jcHw4MxfO05HOit7ZxzCAIglIk7QdcAHwC3AA8CywN9AcOxG0UHSl3keevugW3rdwMXIvbTnYCxkra2cxG59r3wm0WW+A5Eq/A9dt+uN1mbHqPc9IYA4HLaECGtvF9F0jrXw4Yg+ex3Qk4Dc9lPpwgCILuQQvVdebsAkp/PN/g/XgOwhXxHLe3S1rHzJ4uGfsoXL7/Az+A3RsatsGA7ynnAvcBt+I5bpcFdgBGS9rPzGbLVSvpO7it/6P0nARsktYfOcaDoIl0ZcfhQOAEM/tVViBPqP0L3AB7FXCgmX2a6m4F/gwckf4B/Bp3Gl4M/MhSwkdJvwYeAX4r6eZcXOQ9cKPxA3j8/Q9T+5NwxyMAKS6/Ut2IZrys/LbkMFwQbptPSq5ZeQiG596t2H9/YH+APlsdzKLrbN2MZQVBEHRmzsEV1mPM7PSsUNJncaX5eElXm9l4M7te0tu447ClJMb/iHQIeQhwfYWcLz/DFeLzgMPN7JM03/z4PrNPmm9Uod8mwKlmdny1lwk5HgRBVyEd4jsONxZvaGavpvLjgOuA7fGDb6c0OraZtaRTzYcB42vkZNkaOMTMzsutbQi+B1wq6cvZt0KDa3gbGCa/Hd63nrwwIcODIGgLktYEzsedbpua2ROF+uXTs8PkrqTP4PaVRXA7yF25uuVwW8glkvqZ2fRUNYxZRuVdc+Wk24CfBzCzc5KheSAwoizHYYU1tfV9l8MN6FuY2Qepz3D8AN8Rkk6plEcx5HgQBF2JWjqzZkU52o5CXltJBwAXpr4Hlgz/TWCAmY0rlNdtg0lVU3Bd+qXC2nrjF31Ol3R5Tl4vAlwEfIrviY/k+pwNHF7tbxJyPAgao8uFKs3Rip8Ky3NZei4IHF0wBFyBnyZbB2aegPs+firtuMxpCGBmzwK/xW8T/jA3xt7peXzmNEztJwMnt/N9anFoeu6Xdxqm+Ufgp0W+V6mzmV1sZv3NrH8IxiAIujuSlsBl/CN5hRUgye9j8AMeezZpvvmAQ4BXgSMyp2Ga7xP8RJ5RLqdfo47TzSHHgyDoQuyTnr/MjLkAZvYxLg8/BfadC+t4Dje4zyQd3rgLv3246VxYQzZvyPAgCNrCj/EDLu1yJQAAIABJREFU3ycXnYYAOWNrR8rd7fAIGb/LOw3T+K8ApwPLAJvDzENzBwIf4Ae0pxf6TDezN9q4loz2vO+hmRE69XkdjyjSG/hypQlDjgdB0E25t+Rg9KW4DX3DCn0uLjoN22KDSfvBbE7DVD41rWFxIB8Oewh+S/GKvNMwMQyYWmG92bghx4OgAbryjcPxecNs4pX0fMbMpuUrzOwTSa8By6eiLwML4QJycsn4dwAn4CclMtbDFdCxJe1bGlt+wwwAZgC7Stq1pL4XsJSkJczsrQ5eSxAEQWdnA2B+oFIe2QXSc40mzbcarsA+C5xQIUXKBxXme6xoUAmCIOjirJeedxQrzOwZSS8BK0nqnQwDHcU9FW4UtuC3W9bFnYhBEASdlY3Tc0yNdh0pdwekZ98KevWq6bkGMBpYHXfCPZgcix1BW993qpk9VzLei+m5eJPXGQRB0NkpOuAwsxnJhl5JJj5UUtYmG4ykrwBHA5vhYUo/W+j3xdzPmeyfQ383s6mSxpNykAdB0H66suNwDmXXzD5OxtpKivDHzBJUvdNzUoW2WfliubLewOQKoSteLSlrJkvg/71OqtFuESAch0EQ9HSWSM8NmP2EWpFFmjzfqlSX02XzdfT+EQRBMLepR89eEdezO9Jx+FqF8kzu9q5QHwRB0FnI7BEv12jXkXI303PLDjDnyfTcetfcHtr6vm+XN+fj9Jy//UsLgiDoUlSTi5VkYpkNo2EbjKSN8QMgnwFux/P4voNf2lkHv2G4YK5vJvtr6fhBEDSBruw4bC+Z8rhMhfplC+2yn/tIWqDEeVhpnOyUc9nferGSskpMBeYzsz4N9AmCIOipZLL7bDM7ci7Od52Z7dJgX6vdJAiCoEuR17MnlNQX9Wyj8ndJI/pykS9UKM/09rye3yydPQiCoJlkBt0vAk9Vadeo3G2ErM8QM7uhjvb5NXcUHfm+QRAEQXXKbBhtscGcAHwOz5/bkq9IOWuHVJijlo4fBEET6MmOw6eB94G1JS1WzBsIDE7PR3NljwLfAjYB7iy0H1RhninpuQKeZyVP/wbW+wCwnaSvlOU2aITW07ZrT/cgCIKuwEOkhNkN9MnCX1c6VVet/incSLJxhcMlTSXkeBAEnZxxeCihQRQMupJWwVMHTMzp31NwXZlC2/lJ+ckL1JLXGZtImq8kXOmg3Doz2qKzf5KtsySFQkVChgdB0AAP4DJoG6o7DhuVu42uAVyvrsdxmOnFX5O0XB3hSuuV6Xk68n1rEnI8CIIuQlvka1tpiw1mFTyyX0tJXVnI0UdzdZfmKyT1pvy7oZSQ40FQm/nm9QLmFWb2EXA5sChwcr5O0peAQ/Gcgn/JVf0pPX8l6bO59n3wUxJlZHGf9yvM8VXgsAaWfHZ6/kHScsVKSQunK95BEAQ9HjN7HZfx/SWdmIzPsyHpS5JWyhVlYZ5XrDBsxXoz+xj4HX66+beSPlcy37KS1mzgNYIgCLoq2Yf8CZKWygqTLD4T/wa5RNIgSQZMBlaUtGVhnBOAviXjT8FPOleS1xmrAgfmCyQNwY0NzwH35KraorPP3BckjZBkkvrVWFMQBEEjXICHizuxTI+UtHz6sS6528Y1jMKdcwdJ2rasgaQBkhYCSAcpzsdvkVwoacFC2175NVJbBy+jI983CIKgu1CvztwMDsRlbyM2mFY8st/XCu3+D9iqZI5R+DvtKal4sG8YkYYgCJpKT75xCHAsfhLiYEkb4LcIlwR2wx2KB5vZxFz7vwHfBXYE/iNpFJ4z8TvAw8CXSuYYBTwL7JGU+gdxgT0k1e1Wz0LN7HZJxwKnAs9KGg1MxGND98UNIGOBret++yAIgu7NwbjR+BfADySNxWPhL4cn5N4A2AOXpeA30V8Gdpc0A3gBV7L/YmYvAPfjN9UPl7QEs+Ln/87MpuKHUNYGfgTsIOmONN7SaR3fAH4GPNmRLx0EQTCvMbP7JJ0O/BTXma8G3sNvzKyF66xnAF9PXe7D9ehRkkbijsSvAysBLRQie5jZu5IeBDaVdDnwDH6i+gYzezzX9CbgLEnbAI/hp5p3AT4E9incRGyLzn47nvPrWmYdyNyZWQf+giAI2oWZPSnpQOBCYFyyQTyL55LaAM8FNbgBuduWNcyQtAtwM3CjpPuA8bhevEJax8r4Abr3U7fhwEbADsAzkv4JTEvttwSOBkaktnfit1ROlbQW6Qa4mf2yypo67H2DIAjmBumw2UTgMjMb2hFzVNOZO2K+xJPUb4M5B3cQjpV0FR6K9Ht4KNLRwGyHVdL77A+MBO5J3w2T8MiAawF3A5t14LsFQY+iRzsOzWyypAHAcbgR4UjgA/zE8RlmdkuhvUnaFXc4DsWN0pPwm4i/wI0QxTk+lLQ5fuptC1xI/gfYEzeK1OU4TGP9WtK9+G3ITXBDxlTcMH0xcEU94/Q79saabeLKdhAEXR0ze0fSQGB/XOZ+G/gsrrg+CxwB3Jpr/4mknYHTcEPwooBww8MLZjZF0reBk/A9YOHU9a/A1GRU2Qn4fqrfHj/c8QauGJ+I34JsNyHHgyDo7JjZMZLG4fryD/HDdhPwW4RnmdlHkh7CjQhvAtcAPwd2x42/t+IH9oZXmOIHuINua9wAIeAlIO84fBDX0U9O6xBwB/AzM3u4sN626Ox/xA/w7Q70S2XfpYbjsB4ZDiHHgyBwzOwPkv4D/AQ/SLETLjcfx+VQ1q6m3G3HGh6XtDZuM9ke2Bt39k3Cw4aelNaUtf9I0tb4gbofAnvhMvgV4Dpcv87a/lfSXun9DsT1dYCKjsOOft9aVJPjIbuDIOhkVNKZWztovsOA1anPBnOTpB1wuf1d3Kn5Xqq+k4LjMPW5Ou0vJ+H6+XTcYTgAt9fX5TisVx/PE/I96GnIrCyfadCd6XfsjTX/o4cwDHoAmtcLCIK2EnI8CICQ40EFJA3CjQ3DzWzYXJpzBG4YX8nMWqu1rUeGQ8jxoEcQcjzoklST4yG7gx5GyPE2MjduHM5NJA3DnXmDK+QsrHecEdSpU7eHevXxPCHfg25KRTneY3Mc1oukjSRdLelVSR9JelHSRcU8g5JaUl6TXpJ+LulpSdOTwKtZn9qsL+kaSa+nuhcknS9p2ZJ1ZXlUVpZ0iKTHJX0gqaWD/yRBEARdFkn9kuwckeLrXy3pLUnTJN2SwiMhaSlJF0uaJOlDSQ9LGlwYa7kkz+/N7RGvSLpC5Tlo8nOvLul6SZMlvSdprObM7RUEQdB0lPIKpo/7svpWSa2534em9kMlDU467TRJ70i6UdIaJWN8QdKZSd99T9Lb6ecRklauZy2SNkhyOZvrNnkOrWGpz6BCe0trWxI4KhWfIOkJSXtX+XtsJWm0pDeT/j1B0hmSFqvQ/luS7knvNTnJ8tUrjR8EQdBdKei2q0kamWwZnyb5vr6kcyU9luTlh5KelXSWpMVLxmt4v0n9Vkt2lClJNt8nabv8eCV9lpd0nqTnk+x/S9IN8hQ2QRAEHUrSfbNwnXslWWVFmdWInprp8JIWkXS23H79gaTx8shISPqMpJ8lWfxhGu/gkrFm6uhJ/75N0tQkk2/WnPkFq73rTpL+KumZJKPfk/QvSYdKmq/Q1nCnIcDE3N+ktdCuj6RTJf03veNUSbcrbCpB0FR6dKjSWkjaBw8BOh2P//winqdqXzx/1cZm9r9Ct2vw0EZjgOuB1+upl7R9qhNwNZ5ba33gx8AQSZsU8i1mnIvnabwRj//8STteOQiCoKfQDw9h9188v0o/PC9VizyE9U14zpiRQB88DN0YSavl5P5meCiMO3H5/S6+R3wH2FHSN8zssZK5V8LzJf4buAjPB/PdNP6eZjay2S8bBEHQBLbHw+SPwXNtrYmHD9pA0ppm9iaApIWAe/GchbcC/8D1276p/9XA89UmkrQZcAswP54/cALwVVze3lGl62Jp7gXS74/hebculfSpmV1WmOckYBgeivSfuF7+NTxc3raSBpjZO7n238H3hY/SM8upcj+zh0gNgiDoSXwJ16ufwcPyfw7Xo/fH9eu7gNvwg+vr4+FOt5G0kZlNKxmvrv0GIB3cuA9YHLeJPI7L/etw+8gcSFoP32P64HkbrwWWxEPAjpW0s5mV9g2CIGgSLbjeehiur16fqxsPjeupiQVw/bsPnqO7Fx6e9JrkVDsQzz87Brd17wr8TtIbFewQG+HpvW4Dfs+sfOGbSdrSzO6p411Pw0NbP4in2uoNfBO3Z2+Ah1LNGI7L4rVT/dupPHsiqS/+9+sH3IPbbhbG946bJB1gZn+oY11BENQgHIcVkLQarqS2AgPN7OVc3ea4onkurgjn6QuslVdma9VLWgS4DP/vMSgveCUdgwvZi/Ak4kXWA9at4FQMgiAIyhkInGBmv8oKJJ2I58J6ELgKONDMPk11twJ/xmPyH5G63AF8oWjwkOd/uReX3duUzL0ZcKaZHZ3rcx5ueL5Q0piSD4AgCIJ5zU7AVmZ2e1Yg6VT8AMU+wOmpeHPciHyOmR2RH0BSL2DBapOkk8eXpHbbmtmYXN2PgAuqdF879b0CuB13Wl6FG5KPwfXtbKzBuDHm/jRP3iAxFM9hPpwk85O+fhFu+NjUzB7JtT8bOLzaewVBEHRjNgFONbPj84VpjzjIzD4plP8fnpvxQODXJePVu9+AG7IXx/X2C3Ltt6HEcSjpM/i+sAgeTu+uXN1ywMPAJZL6mdn0Ot49CIKgYcysJd2iOwwYXwyt36iemmM54FHctjw9tf8LngPw7/hhvLWy8ST9BngKl69ljsOtgUPM7Lzc/ENwR+elkr6c2UyqsJ2ZTSi833zpHX4o6TwzezD9XYbJQ7iujX9LtJaMdxluW9/DzK7MjbkY7lD8raQbzOy1GusKgqAGEaq0Mj/GT2oclncaAiQF9gb81uGihX4nVnEaVqofgp8GGVlyWuMs3Hm5haQVS8Y7vR6noaT9JT0i6ZFp42+q1TwIgqC704o79vJkBuUFgaMLCvAVwMfAOlmBmb1edko63TK8AxgsaYFiPTAVd1Dm+zyCn9BejDkPpAAhx4MgmOdcmTfiJi5Ozw1L2n9QLDCzjyrcLsnzdfw08515p2Fuvmeq9H0fONLM7jAzmdkwM3sSP8yxRnL+ZRyanvvljTFpnSPw097fyxVn+voVeadhYhgu2ysSMjwIgm7Ma7gBezbM7IWi0zBxKX4jcasK49W130haAb+18hx+sCM/9xj8hkyR7fDDLb/LOw1Tn1dwp+Qy+CGY2Qg5HgTBXKRRPTXP4fmDD8nOPBE/ZHFMfjwzex7Xk9eSNH/JWM8B5xfmH4XfJF8Fj4BXlaLTMJV9il/Ggcp7wRykQ9oDgWvyTsM05tt4jsXPAt+u0D/keBA0QNw4rMyA9Byo8jj3S+Phk1YD/pUrf6jGuGX166XnHKGXzOxjSXfjV7DXBYqhUWvNl41zMUnZbksC2CAIgm7G+BJDxivp+UzRsG1mn0h6DVg+Xy5pO+BHQH88xFFxX10SD2WX59EKhvMWPJ7/uuRuxeTWEHI8CIJ5SdFZBh7GH9wQkXEXHobo2BQObjRukCiTu2Wsm55jixVm9qmk+3D9u4xnK9zYzq/z3fTzAGAGsKukXUv69AKWkrSEmb3FLH39rmJDM5sqaTxuyCglZHgQBN2Yx8pu56UDdAfgIf/XxMPT5Q+vf7HCePXuN9mBvvsr3HgZC3yrUJbZefqqPNfvqum5BoUbiyHHgyCYizSqp2a8Xeaow20dKzG7/TrjZdyOsUz6Oc89FeRrC673rkuJbpxH0hLA0XjI6ZXxsKJ5Ku0FZWQyvHcFGb5UepbmxA05HgSNEY7DyiyRnkdXbeUhLvK8WqN9WX3v9CwalymUz5H8to75giAIgjmZ42ZIOqhRWpf4mFl5s5B0GHAOMAXPI/A//LaLMSsuf1lIvkohMzJ53rtCfRAEwbzk7WJBTm7Onyt7R9LG+O2THZl1ivhNSecDvzSzGVXmyWRgJVlZLezQHGtMfJye+ZPUS+DfQidVGQ9c13+rjnWFTh4EQU+lkvwbiUfSeB7PtfUqnlMLPLxzpdDVde03tG2/yOw8ZYb4PEU7TxAEwdykUT01o5otAzMrq8/05LJoSe2yXaTwoQ/jTsuH8PQvk9OcWY7HqmkMCmQyfIv0rxIhw4OgCYTjsDKZMO3dSK4pM6t6YqFCfTbXMhW6LVtoN9uQdS4tCIIgaBIpP8owXGFez8wmFeoHlPVLfKFCebYHVA13FwRB0E6yU8OVvgMWo7IDri7M7CXg/+RW3jXxUHIHAT/Hb5ucWKV7pndXkpWVyhtlKjCfmfVpoH21+Svp8UEQBN2dOWwSkvrjTsPbgG3M7ONc3XzAT5swb1v2i0yWDzGzG5qwhiAIgo6gUT21o2iv7WJf3Gk4vCSP4wDccdgI2XyHmdlvG+wbBEGDhOOwMg8A6+Pxmm/s4LnGpecg4JJ8RTJOZzGjH23GZK2nbdeMYYIgCHoyS+LG9WtLnIaLMCukXRnrSVq0JFzpoPQcRw1CjgdB0A6mpOcKxQpJq+Anh9vlOMxIB+aeAJ6QdD1+M3snqjsOMxm4Scn65sNzIDaDB4DtJH3FzJ6oo32mhw/E83Pl19WbXA7cWoQMD4KgB7BKet6QdxomNgQ+14Q5xqfnAEnzlYTTm2MfwWU/uI2lzY7DkONBEDSBLIR/WW7BRvXUjmKTCvJ1UHrWsl1ke8E1JXWVQvzX+ruAy/B2OQ5DjgdBbear3aTzIqmfJJM0ogOGPw+PJ322pJl5VCS1pn+9JNVMAlsn1+NXtfeQtLGkoem9huIhPFYCbjOzYn7DIAiCboukQyU9KemDJBMPn9dryvE6HpZ0/eQoBGbmcjkXdyxWojd+62Ym6VT29/ATdNc1fbVBEASzeAq/pTFE0tJZoaTP0c4P8DTOVySVnU7Oyt6vMcS9wARgsKRtCnX7Myu/4YiS/aFu5x1wdnr+QdJyxUpJC6eQqxmjcKfrnklm5xlGhJkOgiDI05qeg/KFad/5fTMmSPaRFtwwfUBhnq2ZM78huCyfABwkaduycSUNkLRQM9YYBEFQhSn4je0VS+oa1VM7ilWBAwtzD8Gdfs8B99To35qegwpjrAscV6FPFnp1jr+LmT2S5txF0j5lnSV9Nf+NEwRB24kbhxUws6eSELoUPyV9E/AM0Af/u00C3gBWb8Jc76a5/o4nlc2S1R4FrIWHwjugQvcgCIJuh6TdcQfcODyP4HRmnS6b55jZp5J+CxwL/FvSKDxB+WB8n7gz/VzG3cC+kjYC+uIK8Yf4YZ4DGgmPHQRB0ChmNkPSufitv3GSrsN12y2AV9K/9rAFcIak+3Hd+XVgeWAIHib1jBrr+1TSvsBNwA2SrsGNvF9LY4/HHYQf0Y79wcxul3QscCrwrKTRwEQ8J0pf3CAyFtg6tX9X0v54zq57JI3EvweOwHPC3A1s1ug6giAIuikP4wdBdpF0Hy5PvwBsAzxN9b3mT5IGmdnQOuY5KM1zfnIEPg6sDHwbdxJmew8wcw/cBbgZuDGtbTx+qGUFYIPUf1lqH3QJgiBoM0m3fBDYVNLluN78CX5TuyE9tQO5CTgrHeZ7DD+osQtuv9in5CZikT8DRwPnSBoMPIs7I7cHrgW+W9Ln9tTnD+k7YBrwtpmdl+r3BO4ALpF0KB7dZE88n+77uB19AP4NEgRBO+jqjsOXgTXooHxQZvZXSY/hDrzBwJb43+wT4GrccNCsuUZJ+gZwPLB5Kl4OuBA42czaa8SZSb9ja0dejSvbQRDMY7bPns2Uf03mRPwAyb744Y6pwK3ACcDwKv0mAj8CTsMVWvAQeL8ws5vrmTjkeBAE7eQk/MN6P/wW36vAlfjNuSfbOfbN+IGIzXCD7edxB9utwG/M7L5aA5hZi6SBwC+BTJg9iOvjI9LvB5nZrVkfT6fYGGb2a0n3AofiIe2G4LL8ZeBi4IpC+6vTLZaTgN1wp+Wn+N9vInU6DuuR4RByPAiCrouZfSJpR1yOb4vL2ZeBP6ay9u412TxPpjxZp+D5dL+JOw93xm1FQ5iVCzHr87iktYEj8W+OvXFZPgk/tHgS8Ga1eavJ8ZDdQRA0wA/w24VbA3sAAl4CHm9UT+0gHgR+AZwMHJzWdwfwMzN7uFZnM3slRes7DX+HrfDoJwfiOXDncBya2c2SjsK/Uw7HD2i/gEcGxMxekrQ+cAh+SGSn1HVp/CDf74B/11pbvfp4npDvQU9DnnokqBdJrQBm1q8D5xgK/AnY28xGNHv8fsfeWPM/egjDoAfQuIUxmGtIugMYbGbd5r+TpH64Yfmy7AS1pBZgYKPvGXI8CICQ4z0SSW/jYUEXMbP3cuUG3GVmg+byelqhsW+DemQ4hBwPegQhx4PZKNOX2zHW5fgtlNXN7Ol2Ly5HNTkesjvoYYQc74ZIGoRHURpuZsPm7Wqq09Z9o159PE/I96CbUlGOd7sch5JGpLJ+kg6Q9G9JH0p6TdLFkkrzj0haXtJvJT2b8qVMlvSQpBPrWMewNOegetaYq1tF0t8lTZH0nqT7JFWVQmmd50l6XtJ0SW9JukHSBrXWGQRB0NnJ5CkpzGeSn5bKsjabS7opyenpkp6RdFqZfJfUkvr3kvRzSU+nPiMK9Quk+glpz3ha0n65cX6U9pMPJL0kabikOfZQeY7aa5KM/kDSO5LulfT9Qrt+6Z0GFt8zORODIAh6LJIWkrRYoSzbHzJZ/25xf6gwVm9Jpya5/mHSu2+WNEfuq7RXHCxptKQX0n4xWdJtKuRblDQozd0X6FuQ4yPa9QcIgiDogUgahht/AfYqyNUD0vPyQp+Vc202zZVvjt/eAfhioc/6SV9/Pcn5FySdL2nZDny9IAiCHkneLp5+vlLSm0kvf0TS9iV9FpR0bLLBvJ/sKvdI2q3QbhiV942hHf92QdC96eqhSqtxOn4F+h/ALbgRej88HvM38w0l9cfDKvXBrzVfCywErImHbDq52YuTtCpwP7AEMAaPq78KcH36vazPeuld+qT1XgssiV/LHitpZ7P/b+/O4z2d6/+PP57WChlLQrZs6Zds2bPMIGRp1FeKkqWiJLSi9DXiW9JCEpmiQYjsslUY2YUZQrKOfV/Gvgyv3x+v92fOdT6uz9lmzvI553m/3eZ2zbmW9/X+fIbXdZ3Xe4sLZ3ZdzcwG0MSy3ZlMxnaa8lPS7sAxwMvkurBPkgtt7wtsLenjEfF8TblnkmuWXETG2eb57v8MrAVcCLwJbAuMl/Qmua7WTsBfyfn2PwX8LznN38+ayjmGnGP/n+R0RwuQ0zOdRE6Z0fB8+Wx1n3NKTf3NzEaSJcj1F/8O3EP+zjK6HHub7PzY1ZTQAJTGx6vJd/p/kWsiLkhOM/o3SV+PiGMrl8xPrq97DTm16lPkOldbAxdK+mpE/KGcO6XUYZ/y8xGVcib34rOamVmaCIwC9ibX0jqncux6cnq+jZqu2bTy918op/X7CLkmLuR6uNOnyC4J6jPJ3vVnkNPffQz4OjBW0noRcT9mZjazLQncQK5FeBL53v054FxJm0TE5ZAd+cic94bktKa/JXP02wKnSVolIn5QypxI6+eG38fNZtBwbjhcG/hoRDwIIGk2ch7mMZLWjIgbyv45yOTz/MAXIqLTHNGSFuun+v2WTCjvExG/rtxvLJ0DXWP/bMDp5EK4YyLiisqxRclkyHGSloqI1/upzmZm/SoiJgITlSO4l6xOiyFpSeBI4CVgzYi4s3LsaPIX/sPI9bqaLQmsGBGt1itZohx/vpT3S/Il9XCykW+liHikHBtHJrK/K+mXETGtUs6KEXFvteDynLmo1K/xOZ8HxtV9TjMz4wngZDJhMAaYk1xH8I9kI+BaPYybPyvnjwe+FmWNBkk/A24EjpR0SURMKec/R8bkh6uFKEe0Xw0cJunkiHi1XDOu0ZvZcdzMbMaU9W2nkAngyc1xVbmUwY6SPhIRt5fdo4HXyt8/BqxGrk94Drke2FUR8Vq5fm7gBEpnlIi4slL2vuQaXMfSuTHSzMxmjtHAuIiY3vlP0inAxcD3yKlRAb5D/g5wEfCpRr5F0kFkw+P+kv4aEdd099wwsxnT1lOVduPHjUZDgBJo/lh+XLNy3tbAUsB5zY2G5bqHm/fNqNIY+QlyOPVRTfc7F7ii5rItgWWA31QbDcs1j5LJ8oWBjVvcc7cyBPzGFydfPOMfwsxs4H2RXBj7qGqjYfFD4EUymTBnzbU/6qLREGC/6kjFiLgPuIrsvXZwo9GwHHueHM2+IE1THzU3GpZ9b5CdRWYDdurrei2O42Y2UkTEcxHxlYhYLiLmiYg5ImKJiNiVjgRxl0qnjS+SnU32bzQalvLvJjuizAF8qbL/9bp3/4iYChwPzEeOXu81x3Azsxl2adlWcx5jgPPIvMrbwKiIWAT4E5nvurRy7liyw/hp1UbD4pfkSPJPSFqi7uaO42Y2UkTExIjQTG6IewA4pOk+lwAP0jlPvysQwLernbQj4kk6ZgT8Sl8q4Dhu1jvDueHwxpp9D5XtfJV9a5dt7fSg/WTVsr0qIt6qOT6xZt86Zbukco2XTn/oCLIfrrthRIyPiNUjYvV5Vtl8RupuZjZYVivby5oPRMRzwCTgXcAKNdfe0E3Zdc+MR8v2pppjjYbETqPSJS0h6beS7ixz8TfW3zqznNKpobE3HMfNzHrlQ+S0RrdExLM1xxvPklWrOyV9pKzB0lirthHHf1lO6VMcdww3M5thjbi9MYCkFYGFyMbBy4DZgQ3KORs1XQNd/y4xjVxqAJqeC5VzHMfNzPpucosc+EOUPL2kechlvB6t6SwOLd7fe8px3Kx3hvNUpXVrXDV6Ksxa2TeqbB9h4Mxbtk+0OP54zb4Fyvaz3ZQ9d59qZGY29DVi52Mtjjf2j6o5VhdXpyujSZo1nhldHZu9sUPS0mQD5XzAleSatFOBt8gDTdQnAAAgAElEQVSR7TuR0+2ZmVn/6/UzQ9LaZEJiNjIRfR7wAjmKZRVytIrjuJnZIIiIhyTdDWwoaVY6Rh5eSr7rv1n2XVS2L5BLujTMyO8SZmY2Y+ry9JC5lcbAJsdpsyFkODcc9lQjcPV5FAiZTID677MumDWS0O9vUd7CXVwzNiLO60XdzMyGi0YcXBi4veb4Ik3nTVedoq4ffZvs5LFLREyoHpC0PdlwaGZmA6P6zKhT98w4AHg3uZ74xOrJkvYnGw7NzGzwXAbsTk4bvTHwQGOpAEk3AJtIWpScgeSvTaNb+vJcMDOzgeM4bTaEuOEQrivbTwK/62MZz5Xt4jXHVq/ZN6ls15M0a81Q7dE11zTquT7Z+7nPphy65YxcbmY2WCYBnyFjZHW9EiSNIkeDvAb8Z8BrlpYt2zNrjm3Y4pq3AFo8C1pyHDcz69Z/gVeAlSWNqq5jW4wp25sr+5YFnm1uNCy6iuNz9KZijuFmZi013odnbXH8UrLhcDNyWtIzm479CPhc5eeqRh5mNHBc9YCk2chcC3R+LtRyHDczm/ki4kVJ9wJLS1qurEteVff+3t1zo5bjuFn3hvMahz11PrkI9qfKiJBOJC3WtGtBcp3BpSr7Gmtn7VJeOBvXLg78b3OZEfEw8Hfgg8CeTfcbS31i4lzgXuAbkrZoumZ0WX/lD5LeU3Otmdlw8CdyCqJvSlq26djBwHuBP0XE6wNeszSlbEdXd0rajNaLdz9Ttkv0T5XMzEamiHgDOBmYh3xGTCdpGWAv8plyUuXQFGB+SSs1nf9lMkld5xngfZLePXNqbmY2oj0HBK3fjS8vx/cgp7SrNg5eBgjYr/Jz1TnAs8D2ZWrqqn3I/Mw/IuLBPtfezMxm1PFkLP95mZYaAEkLkp1DGuc0dPfcMLM+GvEjDiPiDUmfJdeiOkXS7uTovncBHyanv+jye4qI6yX9k+zxdoOky8hpSLcGLqF+JOI3gGuBIyRtCtxC9nL+NNmYuXXTPd6U9JlS3gWSrgEmkz2pP1ZO+zI5xdIrvfoSzMzaQERMkbQP8FvgZkmnA0+RnS3WAe4E9h3EKh4N7AL8RdIZwKPAisDmwOl09H6uupRcu/YsSRcCr5JTLp1Uc66ZmfXOfuQIkj0lrUEmnBcEtiMbFPeMiPsr5x9BNhBeVZ4xU8nZQ9YDzgC2rbnHpeSUeReX3wdeB26JiPP75yOZmbW/0hH7fuCEiNi5sT8iXpJ0PbC+pJOBu8jRJOdFxK0R8bSkW4GVyyXVxsFryVzIQuTvCP+u3rOUvSvwF+AKSX8hnxGNZPPj5GhGMzPrpVZxvQ9+Qc4KOBa4peRJ3kPmTRYCDouIqyrnf5dsaKx9bsxAPcxGvBHfcAgQETdKWoVMLnwSWBd4EbiHmhGDLYwFfl623wTuBr5PNkhuV3PPu0svt0OBTcgRKrcC2wDvo6nhsFxzq6SVyXW0tiIT1G/TsU7j2cDTPayvmVnbiYijJd1Dvhz+D/kC+RAZf39SMxXdQNbtVkljgEOALcln7C3k9KrPU99w+AdgSeDz5DNjNuAKOo+AMTOzPoiIZyWtA+xPxuJvkx00bgB+HhF/azr/Yklbkx3xPkcmHW4gp0VamvqGw0PINc23Bj5OTpN0AtkR0MzMem9H4HCy8932ZEL4YTJfAtlhY2Xgjoh4vHFR6RR+FbApcHndGucRca6kjwM/IDuKLFAO/Q44OCIe7Z+PZGZmPVFi+SfI9/YdyBz7NDK3sk9EnNri0uto/dwwsz5QzbuUdUHSBGAn4IMRMWVwa5MkjSZ7UB8UEeO6O3+p/S7o9h/dcz3bCKDBroBZX3UXxx3DbYRwHLe21JN3cXAstxHBcXyEmokjU2a0HhOBDSOiV/8tdhXHHbtthHEcN2Dw4rqkccCBwJgW65TX6un7eINjuw1jLeP4sFrjsLLW37gWx6dImlL5eedy/s6StpR0jaSXJT0n6QxJy/Xy/ttJ+qekqZJelfRvSftLmrPm3DGSxku6Q9IL5fzbJB0o6V0tyn+/pOMkPVHOnyxpp97U0cxsMElaqsTdCZKWl3SapCclvV06QSBpM0kXSnpa0uuS7pX0c0mjasqbUv7MLelwSQ9V4uM25ZzZJP1Q0t2SXivl7dlcVjl3Fklfk/QvSS+VZ8K/JH1d0iyV8z4g6S1Jk7r4rBeVz7pi0/61yjPmcUlvlDofK2nRPn6tZmYjjqRPSbpU0mPlWfGopCsk7VE5p9O7f9P140qMHt20PyRNLO/dx5f37pfL7wnrl3PmKs+lB8q9b1cufWBmNqz0NMfRiJ0typhQji9Vfh5HJpcBdirHGn92LudMz+1IWkfSP0odXpR0iaTVu7tP07FOuaLG7yTkkgc01aH2c5iZWb2exPVyXm9yPStJOrW8z78u6SlJN0s6QtLs5ZwpZKMhwOXV+/brBzYbITxVafoMOUXp2cBEYBVyCrwxktaNiP92V4Ckn5DTID0NnAK8VMr8CbCZpE0j4o3KJfsCKwDXABeQayp+HBgHjJa0SUS8VSl/wXLu0sBV5c8i5JQanaZZMjNrA8sA15Pzz58MvBt4QdKBZBx8Fvgr8CSwEjk16RaS1omIF5rKmh34OzA/cC4wBzk9xZnKNWT3ANYCLiLXnvos8BtJT0XEaU1lnUROh/EQOY1okGvPHk2ucfUFgIh4RNI/gE0lfTQiOq2hImkR4BPATRFxW2X/rsD4Uo/zyn2WA74CbC1p7Yh4sBffo5nZiCNpN+BYcj2q88n374XI58UuZMyeEaOAq8mlC04lny+fBy5RTn16bNn3V/IZtD1wmqSHIuK6Gby3mdmQ0IccR09NJOPs3uTUc+dUjk1uOnetUod/kOucL0vmbzYo97+yD/eHXEbgIGBnctmAgyrHpvSxTDOzkWoi3cT13uR6JK1E5ouCzJvcD7yXfAbsQS4r8Ca5Pvk2ZCeQE3D8Npup3HCYtga2joi/NnZI2psMQEcDG3d1sTrWTnkIWLMxz76k/cnGyK3IQPiTymV7APc3z7sv6WAyAG4LVBPaPyEbDY+IiG9Vzj+KXATczKydrAf8NCJ+0NihXB9wHBnTtqiuV1h6qf2R/KX+W3S2KHAzMDoiXi/nnwT8E/gLcC+wYqM8Sb8C7iTXtZ0eZyVtTzYaTgI2iIiXyv4DyHUHd5B0QUScUi6ZQK6hshMZ46u+SMc6V43ylyc7e0whp0R6pHJsY7ITyK/JhkozM2ttd+ANYOWIeLJ6oHS2m1Erk42De0TE26XcvwMnkssDXE0+c14rxxrPnH1xDDezYaCPOY4eiYiJZZTI3sDkbpZb2Rz4ZkQcVanbWDIpfbykDzXidC/r8Dwwrow6X7InS76YmVm97uJ6H3I9O5EDbLaJiHObypoPeKXc94gyWnFDYEJvpio1s+4Nq6lKZ8Bl1UbD4igy2byRpCW7uX7Xsj2kaXHuacB3gLfJ0SRUjt1Xt1g3uQg45ELdAJQh2F8gez2PayrnRnK0Tpck7SbpRkk3vjj54u5ONzPrb0/QuWcvwF5l+9XqiyRAREwge6p9oUV5+zQaDcv5V5K90uYD9q2WFxH3kUnfFSXNWimjEcv3azQalvNfJpPB0DmWnwNMBb7QVA7ki+6b5EiVhq+TI1P2rjYalntcSvak21rSPHUf0HHczKyTaWSc7SQinp4JZb8CfK8pGX1Kued8ZBx/rXLPK8lOIau0KtAx3MzaTK9zHP3kHppGkZck8hXkyJP1B6AOgOO4mdkM6Guu59XmHRHxXF86jIDjuFlvecRhuqJ5R0S8Jekqcjq9VYEHurh+tbK9rKacuyQ9DHxQ0rwRMRVybRSyJ8angeWBeei8GOUHKn9fAXgPcGXj+iYTySR1SxExnpwer9cLwJqZ9YNbqg19xTpkEvizql8rag7gfZIWiIhnKvufj4h7a85/FPggcFPNsUfIZ+DC5e+QsfxtMqY2uwJ4i3weABARr0o6Hfgq2dnjQgBJHwM+ApzdlMBep2w3lLRGzT0WIkcpLl9XZ8dxM7PpTgZ+Cdwh6c9kjL46Ip6aSeXfFREvVneU3w2eAOYqHVCaPUJOqVfLMdzM2kyvcxz95MoWCeKJ5AiTVanJ5/QHx3Ezsz7rba7nNDJnfo6kM8jpqq9ukffpMcdxs95xw2F6osX+Rs+6ebu5vnH8sRbHHwOWIOd7nlpGEF4GrAncRgbEp+joNX0gUF1svFF+d/U0M2sXdXFrAfK5dGDNsaq5gWrDYatkxTSAFsmMaWU7e2XfvMCzdWu1RMQ0SY01tKomkA2HO1EaDunoyHFC07kLlO33WtS3Ye5ujpuZjWgR8asSk/cgezDvA4SkK8iRgjfO4C26eq50dcy/W5nZcNGrHEc/1mNGczVmZjb4epXriYgbJK0P/JBcymtHAEn/BQ6KiFO7KMPMZpLh9sttoydaq881ilwEu9n7W5y/cNl29yLcOL4wOb1ps0WazhtLNhpOiIhdqidKWoR3BtLGdd3V08ysXdT17poKzBIR8w90ZSr3n1/S7BHRafo7SbMBCwIvVPdHxDWS7gY+VebWfxnYHniajobEavkA8zYW/TYzs76JiBOBE0vsXZecxWNX4BJJK5TRh2+TPZjrjBqYmpqZtaXe5jiCrvMwfdWbXE1X+SDHfDOzwdPrXE9EXAtsJWlO4GOUNW+BUyQ9FRH/6J+qmlnDcGs4fK5sF28+IGlZsjdaXcPhhjXnzwqsV36c1M19J5FTeYym6aW63Hcx4P7KPM7Llu1ZPakLcCe51soqLaYCGd1N/TqZcuiWvTndzGygXAdsKekjEXH7INx/ErAxsAFwadOxDchpRG+uue4E4BDgc2Sv6AWBI5sbH8nP9zFyLZYLZqSijuNmZqm8X18IXChpFrLxcAPgTPJ3g5XqOoQAqw9sTTs4hptZG+htjuM56vMws1K//utbZdu8Tniz9STNUjNd6ehKPRuq+aB7ms5vFfPfatQzIt5qcc47OI6bmb1DV3G9z7messTNNUCj0/aJ5ICcRsNhT58nnTiOm3VvlsGuwEx2JzkaZKyk6dPJSXo3cGQX120kaaumfXuS6xteHhFdrW8IcHzZHiDpfZX7zgr8gvyej6ucP6VsR1cLkbQ08LPmwkui42RyHcRxTdesTv0CsmZm7ebwsv29pEWbD0qaS9La/Xj/Riz/qaT3VO77HuDQ8uNxZd/OkkLSzuSL69vAl8ofyClMmx1FTkl9uKTlmw9KmqNMx2FmZl2QNEaSag413v9fKdsbyI6SzTN87Ax8vN8qaGbW/nqb47gBWELSpk3lHAAsWVP+c+QoxSWqOyXtJekO4JKyazngLUkTK+eMJTtc3wNc2VQHyGUEqmV+lFwrq05j+YMlWhw3M7OeqY3rRWO93It7kuuRtK6kQ0rOZXTl1MYo9Fcq+xzHzfrJsBpxGBFvSvo18CNgkqSzyc/4CeDR8qfO+cDZ5fx7yB5xnwSeJddO6e6+10g6DPg+cFtZuPXlUsaKwFXAz5vudw/w7fISO4kMcFuRo1Dqgt0PyJEw+5TGwqvI6UE+R/ay/lR39TQzG8oi4lJJ+wE/Be6WdCFwPznP/ZJkguAqcoqK/rj/KSURsR1wu6RzyBffbYAPAqdFxMk11z0k6XIyRk8D/h0R7xipHhF3StqVTMTcLuli4C5yncUlyJGITwEr9MfnMzMbRs4GXpJ0HdkhT2QMXQO4iY4eyL8hGw2PkbQx8BD5nr/OzKpISWZvCFwxs8o0Mxtsfchx/ALYDDhX0mlkLmVd8h16Ik2dpiPiJUnXA+tLOpl8J/5/5Hv4JOAMYAfgWjJmf1TST8jZmz4DvAbs2jQS8VzgbmB7SYsB15Pv2GPLse1qPuqlwGeB+0r5rwIPRMRJvfm+zMxGuhZx/S3gPDpmblqMnuV6vk8+bwD2lrQ58JGy7zlgfOXWl5MduX8qacVynIg4pD8+p9lIMtxGHEKuD7g/+SK5G7AFOVXRZuRIjzpnkeuiLE72RFu37FsnIu7syU0jYl9yXau7yREne5Hf7wHAJyLijcq5LwMbAaeQgW8vYCXgYOCLLcp/muwZ/UcyqbwPmfj4Oh2jdMzM2lpE/IycYu4CMubtQ/4y/wHy5fCAfq7C9sA3yF5ruwNfI1889ySTF61MKNvZyKlLa0XEn8jpSk8m4/6eZNxflkyQdNtZxczM2A/4FzmN3h5k4+DswL7AmMa0pBFxB7AJcDWwNfm7wetkEvq3A19tM7P20cscx6VkZ7vbgc8DO5EdO9YEWs3gtCP5zr85mcdpNOxtBfy+/P1vpQ53kO/NnyRHrmwQEdXRhkTEa2RHvtPJxs09gaXJd/hjWtThD8CD5e/fJ3MyX25xrpmZda05rh9Mvq/fAHyYjgEz3eV6jibjPuRgoG8Cy5f9q0bE9Cm0I+I/5DPncfL3goPLHzObQYqIwa7DoCnTFP0R2CUiJgxubQbOUvtd0OU/uud5thGiboozsx4Z7OeH47gZ4DhuQ0BjxGFE9Pi/x+5ieINjuY0AjuM2naTLyM4fKlPTXQ4cFBHj+vm+E5mJcdyx20YYx3HrF5LGkY2PYyJi4swuv6fv4w2O7TaMtYzjw3HE4aCSNLrMwTyuxfEpkqZUfp6jzON/s6TnJL1SzjlX0iY1168gaYKkhyS9IekJSadI+lD/fSozs/4jaakSNydIWl7SaZKelPR2Yz57SZtJulDS05Jel3SvpJ9LGtWizM0kXS3pZUnPSjqnEj9D0lKVc3sVt7v5LGMkjZd0h6QXJL0q6TZJB0p6V8354xrz9kvaQdL1kl7q6f3MzEaCpufECiWmP1ti/FXNa2qpsg6tpM0lTZQ0VVJUzglV1swq+6oxeVtJN5R382cl/VnSB5rrRE6t1Cgv6so1M7PWGrEXGFN+DrLRsHG8u3hd+w4t6VOSLpX0WPn94VFJV0jaoxx3HDezIU3SdpL+Wd5jX5X0b0n7S5qzHH+XpOdL/qR2OTJJx5S4tlXT/h7nlyt5lKUlfVPSraU+E3t4vGXORdLHJF0s6cWSQ/mHpC6XFehN3c2s74bVGodtagI59cZtwInknPqLAuuRQ7sba7SgnNP5LHIqpsY6iYuRc/xvKWlMRNyMmVl7WoZci+QucirPdwMvSDoQGEeulfJX4Elyms/vAltIWiciXmgUIunz5FTQr5FTFT1GTkF9LXBLP3+GfcnppK8hp+B4FzkNxzhgtKRNIuKtmuu+Q07BcT6ZKJm3n+tpZtaOPkjG8n8Dx9Kx3vdFknaIiNOazt+WfJ++CPgduYZKT+xBrh9+Hrl24VrlPitLWiUiXgeeBw4Cdi7lHlS5fkpvP5iZ2Qg2sWx3piOeLkVOPded2ndoSbuRz4nHy7GngYXI3yF2Iae7cxw3syFLue7q/mT8OgV4iZyu+SfAZpI2jYjXlOvK7laOnd9UxpzkO+wTwMWV/X3NL/+aXFf8AuBCcg3D3hxv/ozrknnvOUp97iGX5ZpITktdd41z42YDxA2Hg0jSvOT8/zcBazUnkyUtUPn7fMCpwCvkfP53VI6tCFxHzs+/2gBU3cysP6wH/DQiftDYIWkM2eh2LbBFRDxfObYzOV3oQcC3yr55yDVM3iTXqb2lcv6hZMNef9oDuD+a5gGXdDA5Z/+2QHNiG3Ld23UiYlI/18/MrJ1tAPwiIr7X2CHpKPIZ8TtJF1U7kpBrnW8RERfTO5sDa0TEvyv3OYXs7DcWOL08j8YpR8Yv2d9T6ZmZDVdlCrqJ1Xha/t6ThsNW79C7A28AK0fEk9UDkhYs93UcN7MhqYy42x94CFgzIh4v+/cHzibXCvwu2Yg4gWw43ImmhkOyI9x8wK8iYlopY0byy6uRawze36Lq3R2vfkYBx5MdxreJiHMrx/YGjqi5xrlxswE0oqcqjYgJEaFBXN8wyHlkXwfefsfBiGcqP34JGAUcWA2M5bzbyMXDV5X0/+puJGk3STdKuvHFyb3NnZiZDYgn6NzTF2Cvsv1qtdEQMoYDk4EvVHaPJWPlydVGw+IQsmdxv4mI+5obDYvDy3azFpeO767R0HHczIypwI+rOyLiRnKU+ijg003nn9uHRkOAI6uNhsXvy3bNPpTnGG5m1gsRMbHkasZ1c2pX79DTyM6EzWU/3Zc6OY6b2QDatWwPaTQaApTGv++QOeSvlH3XkrM2bS1p/qZyGh0wTqjsm5H88mHdNAp2d7xqXeBDwD+rjYbFUcC9Ndc4N242gDzicBBFxAuSzge2BiZLOhO4Erg+Il5pOr0xv/PKdXNCA8uX7YeBO5oPRsR4YDz0fgFYM7MBckuZ/q1qHfIX/s9K+mzNNXMA75O0QOlssWrZf1XziRHxkqTJwOiZWOdOJM0F7E0mr5cH5qHzQsMfqLsOuKG7sh3Hzcy4OSJerNk/kUyMrErnxEi3sbWFG2v2PVS28/WlQMdwM7N+0SrOnwz8ErhD0p/Jaaevjoin+nojx3EzG0CNEXPvmK4zIu6S9DDwQUnzRsRU8v33/8hZ7Y4GkPR+suPypIi4tVLEjOSXu3u37s27d+MzXtF8ICLeknQVuZxNlXPjZgPIDYeD73Pk1Hk70DHS5jVJZwDfjYgnyr7GtKVf7aa8uWd+Fc3MBsTjNfsWIJ9VB3Zz7dzAM3SsDfhEi/Na7Z9hkmYnX+zXJNetPQ14io6ezgcCc7a4vO6zm5lZZ61ieCOGNq8P29fYWjc6fVrZztrHMs3MbOarjfMR8StJT5PLCOwF7AOEpCuA75XR6mZmQ1XjnfaxFscfA5YgR99NBU4EDiY70h1dzvkCmUs5oenaGckvd/du3Zt37+5yN63yQ+DcuNmAcMPhzNeYcrTVdzuKSjIiIl4l1+8aJ2lxcu2WnYEvkguCr19OnVq2Kzf1FDEzGy7qenxNBWaJiOYpN1pprG31/hbH6/b3Km53YSzZaDghInapHpC0CF03frq3m5lZ91rF9oXLdmrTfsdWM7PhrWWcj4gTgRMljSKnxPs0Of3fJZJWmJHRh2Zm/azxTrsw9VN2LlI9LyIelnQZsEmJb3eSjYhvAqe0KLsv+eXu3q178+7dqEd37/d11zg3bjYA3HA48z1Xtos3H5C0LNmjojYBHREPASdLOhX4L7BeZfq964D/IRsSZyg4Tjl0yxm53MxsIF0HbCnpIxFxew/Ob6xxsh650PZ0kuYGVqm5ps9xu8myZXtWzbENe3B9jzmOm9kItZqkeWqmKx1dtl2uFdtP3gKQNGtEvNWTCxzDzcwGTlkn/ULgQkmzkI2HGwBnllMcx81sqJlETuU5mqaGw5KjWAy4v8S3hgnAJsBOkk4DVgLOq+kkMdPyyzPo5rJ9R65E0qxkTqeZc+NmA2iWwa7AMHQnOeJlrKSFGjslvRs4snqipPdJ+mhNGXORw6qnAW+UfX8kE9cHSlqz+QJJs0gaPVM+gZnZ0HF42f5e0qLNByXNJWntyq5zyV5oX5C0ctPpB5CjB5v1OG53Y0rZjm6q49LAz3pRjpmZ1ZsX+N/qDkmrk1MxTQXOHoQ6PVO2SwzCvc3MrIakMZJUc6jxrv9KZZ/juJkNNY1O0AdIel9jZ2lQ+wWZzz+u6ZqzyLzGF8mZ7CAbE5sNlfzyNeSgmQ0kjW06tifvXN8Qhk7dzUaEYTHiUNJSwP3ACRGx82DWJSLelPRr4EfAJElnk9/zJ4BHy5+5JQU5bd1Bkv5N9pR4CHgvsBU5JPvIRo/qiHhG0rZkQuQ6SZcCt5PDwBcnF4hdAHjXgH1YM7N+FhGXStoP+Clwt6QLyXg/N7Ak2TvtKmDzcv4Lkr4BnARcI+l0cv7/dYGVyYW3N6RjetKexu2eOB+4B/h26RQyiUxAbAVcgJMRZma1evEu/0/gK5LWAq4mp2n6HJk82T0iXmh1oaQJ5JRNH4yIKTOj3sWlwGeBs8oz6lXggYg4aSbew8zMeuds4CVJ15Gd+0SOUFkDuAn4R+Vcx3EzG1Ii4hpJhwHfB26TdAbwMvBJYEUyB/LzpmtelfQX4Mvk+q7PkHmI5rKHRH45IkLSl4G/A2dKOovMp6wCbAxcTMnzDLW6m40Uw6LhcAg6kOzB9lVgN3JB1z+TaxneAcxZznu6nDsaGAMsCDxL9rjYr1wzXUmgrwR8F9iMfPF9g0xqX0bHVBtmZsNGRPxM0tXAXuR0FWPJkSWPAONpmrM/Ik6W9CzZEPg54HUy2bwO2TsP4AVJ48gYPIbu43ZP6vmypI2AQ8m4vj5wH7lI+a9KXczMrO/uB75Gxtmvke/UNwM/johLBqlOfyA7snyeTO7MRnZSccLZzGzw7EfmTFYDtgBeAx4A9gWOiYg3K+c6jpvZkBMR+0qaRI6++xIwOzlt6QHALyPijZrLJpANh7MDp7Y4Z6bml0teZaeent9Uj6slrQ/8H9koCnA9mU/ZjKaGw5lddzPrmiJ6s27p0DSURhz2hKSdyeHVu0TEhIG+/1L7XdDlP7rnebYRom7qGhvGyrQe9wFzRMQi1YbDiJg4mHXrLcdxM8BxfNiQNDs5HdHUiHis5vhSzOC7fj+OOOy17mI4OI7biOE4bm2pqzju+G0jjOP4CNeueZWevI9XObbbMNYyjnvEoZmZDSuSRgFvRMQrlX0ie+YtARwzWHUzM7N3KiM/7hzsepiZmZmZmZlZrgcyrEhaStKfJT0t6TVJN0raqsW520u6XNLz5dz/SDpA0pw1524j6U+S7pL0cvlzk6S9JNV+j5KWlfQXSc+V86+R1GUXBUmLSTpK0n2SXpf0jKTzJK1Rc+44SSFptKQdJF0v6SVJU3r4dZmZDSpJn5J0qaTHSsx7VNIVkvYox6+V9HYZbVJ3/XdKHPxuZff2wPMl7k6T9Cq5HsA4ci3ZcSVOHljOv7yUEWX92Wr575G0v6TJpbyXSp22r6nL6FLGOEmrS7pY0tTyDDhT0uLlvKXLc+opSa+W59DKM/I9mpm1s/L+HvlwZ6cAABT5SURBVGVUYGPfhLJvKWCHsntHSU9IGi9p3hZlbSLpyhKzn5V0jqQVurn/WpLOkPS4pDckPSTpWEmLNp13TqnTXjVlHFyOHdfLj29m1paU9pZ0R8mnPFJyGfNKmlLNS0jaucTInSVtLmlieU+OyjnzSvqppP+W8p6TdImkTWruPb28FnULSROb9lXzJztJmlTexZ+UdLykhWfal2NmNoD6I68iaSVJp5Z4/nrJX9ws6QjlbCE4r2I2vA23EYdLAjeQU9GdBMxPril1rqRNIuLyxomSjgd2AR4m5z9+HlibXItqY0mfiIhplbIPBd4m51p+BJgX2Aj4NbnA9o7VikhaDriWXJT1ImAysCxwTvn5HSStBvyt1PsS4Cxy3cNtgKskfToiLqy59DvAJ4DzgctL3czMhjRJuwHHkusJnk+u+7oQsBIZn48mRweuTa49+MOaYnYj1zCcUMpcCTicjo4xbwNzlHPeBjaMiCclHUHG1g2BE4ApNfUbRc6Rvyq5htbxpdzNgFMkfSQiDqip0xrk+ilXAL8HPgp8BlhR0lhyIfM7gRPJ59ZngL9LWjoiXur6WzMzG3EOo2N9k/+Qa5h8lXyv3qh6oqRtgdPKOacBj5Fr414L3FpXuKRdyfVyXwfOIzuYLAd8Bdha0toR8WA5fVdgEnCYpCsjYlIpY2PgB+SauN+c8Y9sZtYWfgt8nVxXajwZez8FrEmur/VmzTXbkjH9IuB35Ltw4737auD/Af8CjiBzIdsBf5P09Yg4dibV+1vApuRz4mLyObELMFrSWhHx1Ey6j5lZv+vHvMr1QJDvx/cD7yXfv/cgZ3N6k4zVzquYDVPDreFwNDAuIg5q7JB0Cvky+D2yUa2xxuAuwNnAFyLi1cr548jeEt8gGwUbtoyIe6s3U440/CPwJUlHRcT1lcO/JRsN94mIX1euGUs2HnYiaTbgdGBucl7oKyrHFiVfno+TtFREvN50+UbAOo3kRZ3yINkNYP7N9mSeVd6xvqyZ2UDbnUwwrBwRT1YPSFqw/PV04FfArpIOrHbokDQaWB44JSKeLrt3AuYEtomIc5vKnA+YChARR5QX2A2BCS3m4j+CfLndNyIOq5TzLjKO/0DSGRExuem6LYAvRsTJlWuOIxPO15ALmf9f5diPgB+Ti5j/mhYcx81shFobWLHReFfemS8DxkhaMyJuKPvnJpMmbwPrR8SNjQIkHQ7s01ywpOXJxPUUsmPJI5VjG5Md+n4NfBogIp4tPaOvAE4rnf7mAv5EJlu2q06T3XQvx3AzGzYkrU82Gt4FrBURz5f9PwD+ASwKPFBz6RbAFhFxcdP+n5GNhuOBr0VElPJ+BtwIHCnpkpm0Ru0nS52n508qz4lDyXfyd3AcN7Mhqr/yKu+idV7lFWi/vIrjuFnvDLepSh8ADqnuiIhLgAfJXm8NewPTgF2rjYbFwcAzwBeayrm36Twi4m06gtFmjf2SFiNHAN4PHNV0zblksqHZlsAywG+qjYblmkfJ3tYLAxvXXDu+q0bDUsb4iFg9IlZ3YDSzIWQaNb2RGy+sEfEa2UFjYWBs02m7l21d7+Pm2E5EPFfidrckLQB8Ebix+nJbqdO+5ALCO9RcflX15bY4oWynkgmJqhPLdpWu6uQ4bmYj1I8rI/4oiY4/lh+r7/djyVk7Tqk2GhbjKB1HmnydHBWzd7XRsNznUrKH9daS5qnsvwb4ETkq8VhylpOFgb0i4vZWH8Ix3MyGmZ3K9v8ajYYAEfEGsH8X153b3GgoaQ7yvfslYP9Go2Ep727gSHIGkS/NpLqfVJM/GUc+J3ZQzdI1pS6O42Y2VDmv0oO8iuO4We8MtxGHkyPirZr9DwHrQM6rDKxMDt3eR1JdOa8DH67uKMHue2SPh6XJ3sVVH6j8fdWyvapFfSaSvTGq1inbJcuox2bLle2HgebpSm+oOd/MbKg7GfglcIekP5OdKq6umR7oGHJK5t3JqaUbPec+DfwnIv5ZOfc0snPIOZLOIHs8X13X+aMbawCzAtEiJs9eth+uOdacsIacwgnqn1ONZPVivayjmdlIUBdTHyrb+Sr7Vivbd3TQi4ipkibT+v17Q9WsJ05O8zQr2Qv7psr+nwFj6EhynBoRf2j5CczMhp/pOY+aY9eRSew6dbmLDwHvId/Zn605fhk5Ld6qNcf6orvnxIfJpWbMzNqB8yrJeRWzmWy4NRw+32L/NDpGV85H9mZ4Hx0LuHapDLv+F/BB8kX3RODZUu4oMphWe6U11hh8okWRj9fsW6BsP9tNdebuYXlmZkNaRPxK0tPkHPl7kdMDhaQrgO81RoxExH2SLgE2k7RMeVltTEl6bFOZN5Spk35IrqGyI4Ck/wIHRcSpPaxeIyavUf60UheT60a1TGt1LCKmlU4sszcfMzOz2vf7RkydtbJvRt6/v9dNHTrF+ogISWeRa2RBTsFkZjaStIy5EfGWpGdaXFcXixtlPdbimsb+UT2vXpe6e07M2+K4mdmQ47zK9Do7r2I2kw23qUp7ohFcJkWEuvpTueYrZKPhQRGxVkTsEREHRMQ4shdGq3u8v0UdFu7imrHd1OugmmujZp+Z2ZAXESdGxNrkC+WWwHHABsAlkt5XOfUYstPHV8vPuwGv0TEdRbXMayNiK7KjyMfJKajfTy68vUkPq9aIyYd3E5PH9O4Tm5lZP5mR9+95u4n1nUanSFoO+AXwHLmm4h/KOi1mZiPFC2X7jpgraVY6ksXN6nIXjVhcF6cBFmk6DzL2Qk1n+NLxuyvdPSfqktVmZkOW8ypm1h+G24jDbkXES5JuBz4iaf4WU2E0W7Zsz6w51jzlEUBjvvz1JM1aM3x6dM0115Xt+uR6Kv1myqFb9mfxZma9VtZGuRC4UNIs5ILXG9ARd/9Krle7i6TLyGnjToyI57oo83Vy0exrJN1NvgyPJafZAGjE5llrLr+BTEisPyOfq784jpuZvcPNZbshcHz1gKR5qV/v5DrgY2Ssv6AnNylrX51GLluwWbnfD8lRh1/rSRmO4WY2DEwipw5dD7iv6dja9C7X9F/gFWBlSaOqayYWjYTyzZV9jd8BFq8pb/Vu7rchTUnyynPiNeA/3VXYcdzMhiLnVXrOcdyseyNxxCHAr8jFtY+v640maT5Jq1V2TSnb0U3nrUrNwt8R8TDwd3KU4p5N14ylvrHxXOBe4BuStqirtKR1yhqNZmZtT9IY1S80u1DZvtLYURbfHl+ONRLCv6spc11J764ps9Gz+JXKvsYUSks0nxwRT5JrBawu6Uel53TzvZaR9MGae5mZ2cA7l0wk7yCpOWk8jvqp544C3gQOl7R880FJc5Rpmqp+QSbLD4uIv5NLH1wN7C6puyUHzMyGi0bD2w9LoxuQcRP4SW8Kiog3yPfuecgRLdNJWoaceu9N4KTKoRvJZPQO1RyJpPmBw7q55Y4ll1M1jnxOnFqS5GZmbcF5FTPrLyNuxCFARBwv6WPk/M/3ljmeHwTmJxv7NgD+SEev4RPJtU+OkDQGuBtYDtgKOAv4XM1tvgFcW67ZFLiFHLn4aeB8YOumOr0p6TPAJcAFkq4hF+R+hexFtwawNDlNRzVAm5m1q7OBlyRdR3bQENkTbQ3gJjp6sDX8Afhf4APAvyPi2poyvw9sJOlK4H7gJeAjwCfJhPL4yrmXkwmHn0pasRwnIg4px/ckY/2PyQTDVeSaKIuSi3evAWxf7mNmZoOozCqyGzka8EpJp5HrYq0HrAj8k3zHr15zp6RdycTJ7ZIuBu4i10ZZgnwmPQWsACDp0+Sz4XrggFLGW5K2J9/b/yDppohoHn1jZjasRMQVksaT09zdLulMsnFva3JqukfpmE60J/YjY+6ektYg39MXBLYjGxT3jIjp79wR8Zikk8l1tyZLugB4L7AFGe+bGwarLgKulnQ6Hc+J9cjfR/brRZ3NzIYC51XMrF+MyIZDgIj4hqSLyMbBTciFtp8lGxB/Dvypcu6jpbfxoeQL5WbAnWTD4z+oaTiMiLslrV2u2YQcrXgrsA3wPpoaDss1t0paGfg22Si5Cxl8HyOnAjkQeHrGP72Z2ZCwHxlPVyN/yX8NeADYFzgmIt6snhwRT0i6kIyjx1LvaPJFdS0yXs8GPFz2/zIiHqiU9x9JOwHfJeN5Y32qQ8rxFyRtSCZEdgD+p5zzBNmB5Fvk6HIzMxsCIuIMSZuT78zbAa+TCeR1yGfOBjXX/EnSLcB3yOnwNgVeJpPeZ1DWM5e0BLlezFTg8xExrVLGQ6UB8hzgz5LWKyNozMyGs6+TeZHdybzKM2QC+wfk+/e9PS0oIp6VtA45o9NnyJzIq+Q0dz+PiL/VXPZV8r18e7Lj9oPAkWQ+Z7subnd4qec+ZC7nJWAC8IMyOsbMrJ04r2Jm/UIRdWtT2zDnf3Sz7IVlbaTM0X8POT3GIhHxwiBXaTA5jps5jlv7cgw3S47jw5Ck5cjR23+OiO0Huz4NksaRHUvGRMTEGSzOcdwsOY63GedVpnMcN0st4/hIXePQzMzaz7bkdNInjuCXWzMzMzOzQSdp4ZKAru57D3BE+fHsga+VmZl1w3kVM+uRETtVqZmZtQdJ+5Fr0O5GTh/308GtkZmZmZnZiLcPsL2kieTyKgsDGwOLkesI/mXwqmZmZlXOq5hZb7nh0MzMhrqfAm8CdwDfi4gHB7k+ZmZmZmYj3d+Blcm1YecHppFTlB4JHBFeF8fMbChxXsXMesVrHI5M/kc381z81t4cx80cx619OYabJcdxa1eO42bJcdzaleO4WfIah2ZmZmZmZmZmZmZmZmbWmhsOzczMzMzMzMzMzMzMzMwNh2ZmZmZmZmZmZmZmZmbmhkMzMzMzMzMzMzMzMzMzww2HZmZmZmZmZmZmZmZmZoYbDs3MzMzMzMzMzMzMzMwMNxyamZmZmZmZmZmZmZmZGW44NDMzMzMzMzMzMzMzMzPccGhmZmZmZmZmZmZmZmZmgCJisOtgA0zSbcBrg12PIWBB4OnBrsQQMRK/i6cjYvPBroRZXziOTzcSY1edkfo9OI5bW3IM72Skxq9mI/V7cBy3tuQ43slIjV/NRur34DhubclxvJORGr+ajdTvoWUcn22ga2JDwmsRsfpgV2KwSbrR30Pyd2HWdhzHcexq8Pdg1nYcwwvHr+TvwaztOI4Xjl/J34NZ23EcLxy/kr+Hd/JUpWZmZmZmZmZmZmZmZmbmhkMzMzMzMzMzMzMzMzMzc8PhSDV+sCswRPh76ODvwqy9+P/Z5O8h+Xsway/+f7aDv4vk78Gsvfj/2Q7+LpK/B7P24v9nO/i7SP4emigiBrsOZmZmZmZmZmZmZmZmZjbIPOLQzMzMzMzMzMzMzMzMzNxwaGZmZmZmZmZmZmZmZmZuODQzMzMzMzMzMzMzMzMz3HA4YkhaTNLxkh6V9LqkKZKOkDTfYNdtoEjaVtJvJF0p6QVJIelPg12vgSZpAUlfkXS2pHskvSppqqSrJH1ZkuOC2RDkOO443uA4btZ+HMOT47hjuFm7chxPjuOO42btynHcMbzBcbxnFBGDXQfrZ5KWAa4BFgLOBe4E1gTGAP8FPh4RzwxeDQeGpMnAysBLwMPACsDJEfHFQa3YAJP0NeAY4DHgcuBB4P3AZ4B5gTOBz4aDg9mQ4TieHMeT47hZe3EM7+A47hhu1o4cxzs4jjuOm7Ujx/HkGJ4cx3vGDYcjgKRLgE2BvSLiN5X9vwK+BRwbEV8brPoNFEljyKB4D7AhGRhGYnDcCJgLuCAi3q7sXxi4AVgc2DYizhykKppZE8fx5DieHMfN2otjeAfHccdws3bkON7Bcdxx3KwdOY4nx/DkON4zHnY5zJUeFZsCU4DfNh0+EHgZ2FHSXANctQEXEZdHxN0jvbdARFwWEedXA2PZ/zjwu/Lj6AGvmJnVchzv4DieHMfN2odjeGeO447hZu3Gcbwzx3HHcbN24zjewTE8OY73jBsOh78xZfu3mv8ZXgSuBt4DrD3QFbMh6c2ynTaotTCzKsdx6w3HcbOhxTHcesMx3GzocRy33nAcNxt6HMetNxzHCzccDn8fKtu7Why/u2yXH4C62BAmaTbgS+XHiwezLmbWieO49YjjuNmQ5BhuPeIYbjZkOY5bjziOmw1ZjuPWI47jnbnhcPibt2yntjje2D9qAOpiQ9uhwIrAhRFxyWBXxsymcxy3nnIcNxt6HMOtpxzDzYYmx3HrKcdxs6HJcdx6ynG8wg2HZoakvYDvAHcCOw5ydczMrJccx83M2pdjuJlZe3McNzNrb47j7+SGw+Gv0Wti3hbHG/ufH4C62BAkaU/g18AdwJiIeHaQq2RmnTmOW5ccx82GNMdw65JjuNmQ5zhuXXIcNxvyHMetS47j9dxwOPz9t2xbzdO8XNm2mufZhjFJ+wC/AW4jA+Pjg1wlM3snx3FryXHcbMhzDLeWHMPN2oLjuLXkOG7WFhzHrSXH8dbccDj8XV62m0rq9O8taR7g48ArwHUDXTEbXJL2BQ4HJpOB8clBrpKZ1XMct1qO42ZtwTHcajmGm7UNx3Gr5Thu1jYcx62W43jX3HA4zEXEvcDfgKWAbzQdPgiYCzgpIl4e4KrZIJL0I3LB15uAjSPi6UGukpm14DhudRzHzdqDY7jVcQw3ax+O41bHcdysfTiOWx3H8e4pIga7DtbPJC0DXAMsBJwL/AdYCxhDDsNeNyKeGbwaDgxJ2wDblB8XBjYD7gOuLPuejojvDkbdBpKknYAJwFvkUOypNadNiYgJA1gtM+uC43hyHE+O42btxTG8g+O4Y7hZO3Ic7+A47jhu1o4cx5NjeHIc7xk3HI4QkhYHfgxsDiwAPAacDRwUEc8NZt0GiqRxwIFdnPJARCw1MLUZPD34HgCuiIjR/V8bM+spx3HH8QbHcbP24xieHMcdw83aleN4chx3HDdrV47jjuENjuM944ZDMzMzMzMzMzMzMzMzM/Mah2ZmZmZmZmZmZmZmZmbmhkMzMzMzMzMzMzMzMzMzww2HZmZmZmZmZmZmZmZmZoYbDs3MzMzMzMzMzMzMzMwMNxyamZmZmZmZmZmZmZmZGW44NDMzMzMzMzMzMzMzMzPccGhmZmZmZmZmZmZmZmZmuOHQzMzMzMzMzMzMzMzMzHDDoZmZmZmZmZmZmZmZmZkB/x83ZBaVKIw8jAAAAABJRU5ErkJggg==\n",
            "text/plain": [
              "<Figure size 2160x1080 with 10 Axes>"
            ]
          },
          "metadata": {
            "needs_background": "light"
          }
        }
      ]
    },
    {
      "cell_type": "markdown",
      "metadata": {
        "id": "pr5YB47sE2A5"
      },
      "source": [
        "### b) Latent Dirichlet Allocation (LDA)"
      ]
    },
    {
      "cell_type": "code",
      "metadata": {
        "id": "Nj54jj8D7OjO"
      },
      "source": [
        "def tok(text):\n",
        "    tokenizer = ToktokTokenizer()\n",
        "    return tokenizer.tokenize(text)"
      ],
      "execution_count": 15,
      "outputs": []
    },
    {
      "cell_type": "code",
      "metadata": {
        "id": "XXHxnLSP6qmr"
      },
      "source": [
        "bow_vectorizer = CountVectorizer(ngram_range = (1,1),\n",
        "                                 tokenizer=tok)\n",
        "docs_bow = bow_vectorizer.fit_transform(docs)"
      ],
      "execution_count": 21,
      "outputs": []
    },
    {
      "cell_type": "code",
      "metadata": {
        "id": "9_cbH_7IE2A5"
      },
      "source": [
        "lda = LatentDirichletAllocation(random_state=42)"
      ],
      "execution_count": 22,
      "outputs": []
    },
    {
      "cell_type": "code",
      "metadata": {
        "id": "LIojTkKJE2A5",
        "colab": {
          "base_uri": "https://localhost:8080/"
        },
        "outputId": "b8616950-09c6-4fc4-b7b4-0e48fb192ed4"
      },
      "source": [
        "params = {'n_components' : [7, 8, 9, 10, 11, 12],\n",
        "          \"learning_decay\" : [0.5, 0.6, 0.7, 0.8, 0.9, 1.0],\n",
        "          \"learning_method\" : [\"batch\", \"online\"]}\n",
        "\n",
        "gridsearch_lda = GridSearchCV(lda,\n",
        "                              param_grid=params,\n",
        "                              cv=5)\n",
        "gridsearch_lda.fit(docs_bow)"
      ],
      "execution_count": 23,
      "outputs": [
        {
          "output_type": "stream",
          "name": "stderr",
          "text": [
            "/usr/local/lib/python3.7/dist-packages/sklearn/model_selection/_split.py:440: DeprecationWarning: `np.int` is a deprecated alias for the builtin `int`. To silence this warning, use `int` by itself. Doing this will not modify any behavior and is safe. When replacing `np.int`, you may wish to use e.g. `np.int64` or `np.int32` to specify the precision. If you wish to review your current use, check the release note link for additional information.\n",
            "Deprecated in NumPy 1.20; for more details and guidance: https://numpy.org/devdocs/release/1.20.0-notes.html#deprecations\n",
            "  fold_sizes = np.full(n_splits, n_samples // n_splits, dtype=np.int)\n",
            "/usr/local/lib/python3.7/dist-packages/sklearn/model_selection/_split.py:93: DeprecationWarning: `np.bool` is a deprecated alias for the builtin `bool`. To silence this warning, use `bool` by itself. Doing this will not modify any behavior and is safe. If you specifically wanted the numpy scalar type, use `np.bool_` here.\n",
            "Deprecated in NumPy 1.20; for more details and guidance: https://numpy.org/devdocs/release/1.20.0-notes.html#deprecations\n",
            "  test_mask = np.zeros(_num_samples(X), dtype=np.bool)\n",
            "/usr/local/lib/python3.7/dist-packages/sklearn/model_selection/_split.py:93: DeprecationWarning: `np.bool` is a deprecated alias for the builtin `bool`. To silence this warning, use `bool` by itself. Doing this will not modify any behavior and is safe. If you specifically wanted the numpy scalar type, use `np.bool_` here.\n",
            "Deprecated in NumPy 1.20; for more details and guidance: https://numpy.org/devdocs/release/1.20.0-notes.html#deprecations\n",
            "  test_mask = np.zeros(_num_samples(X), dtype=np.bool)\n",
            "/usr/local/lib/python3.7/dist-packages/sklearn/model_selection/_split.py:93: DeprecationWarning: `np.bool` is a deprecated alias for the builtin `bool`. To silence this warning, use `bool` by itself. Doing this will not modify any behavior and is safe. If you specifically wanted the numpy scalar type, use `np.bool_` here.\n",
            "Deprecated in NumPy 1.20; for more details and guidance: https://numpy.org/devdocs/release/1.20.0-notes.html#deprecations\n",
            "  test_mask = np.zeros(_num_samples(X), dtype=np.bool)\n",
            "/usr/local/lib/python3.7/dist-packages/sklearn/model_selection/_split.py:93: DeprecationWarning: `np.bool` is a deprecated alias for the builtin `bool`. To silence this warning, use `bool` by itself. Doing this will not modify any behavior and is safe. If you specifically wanted the numpy scalar type, use `np.bool_` here.\n",
            "Deprecated in NumPy 1.20; for more details and guidance: https://numpy.org/devdocs/release/1.20.0-notes.html#deprecations\n",
            "  test_mask = np.zeros(_num_samples(X), dtype=np.bool)\n",
            "/usr/local/lib/python3.7/dist-packages/sklearn/model_selection/_split.py:93: DeprecationWarning: `np.bool` is a deprecated alias for the builtin `bool`. To silence this warning, use `bool` by itself. Doing this will not modify any behavior and is safe. If you specifically wanted the numpy scalar type, use `np.bool_` here.\n",
            "Deprecated in NumPy 1.20; for more details and guidance: https://numpy.org/devdocs/release/1.20.0-notes.html#deprecations\n",
            "  test_mask = np.zeros(_num_samples(X), dtype=np.bool)\n",
            "/usr/local/lib/python3.7/dist-packages/sklearn/model_selection/_search.py:818: DeprecationWarning: `np.int` is a deprecated alias for the builtin `int`. To silence this warning, use `int` by itself. Doing this will not modify any behavior and is safe. When replacing `np.int`, you may wish to use e.g. `np.int64` or `np.int32` to specify the precision. If you wish to review your current use, check the release note link for additional information.\n",
            "Deprecated in NumPy 1.20; for more details and guidance: https://numpy.org/devdocs/release/1.20.0-notes.html#deprecations\n",
            "  dtype=np.int)\n"
          ]
        },
        {
          "output_type": "execute_result",
          "data": {
            "text/plain": [
              "GridSearchCV(cv=5, error_score=nan,\n",
              "             estimator=LatentDirichletAllocation(batch_size=128,\n",
              "                                                 doc_topic_prior=None,\n",
              "                                                 evaluate_every=-1,\n",
              "                                                 learning_decay=0.7,\n",
              "                                                 learning_method='batch',\n",
              "                                                 learning_offset=10.0,\n",
              "                                                 max_doc_update_iter=100,\n",
              "                                                 max_iter=10,\n",
              "                                                 mean_change_tol=0.001,\n",
              "                                                 n_components=10, n_jobs=None,\n",
              "                                                 perp_tol=0.1, random_state=42,\n",
              "                                                 topic_word_prior=None,\n",
              "                                                 total_samples=1000000.0,\n",
              "                                                 verbose=0),\n",
              "             iid='deprecated', n_jobs=None,\n",
              "             param_grid={'learning_decay': [0.5, 0.6, 0.7, 0.8, 0.9, 1.0],\n",
              "                         'learning_method': ['batch', 'online'],\n",
              "                         'n_components': [7, 8, 9, 10, 11, 12]},\n",
              "             pre_dispatch='2*n_jobs', refit=True, return_train_score=False,\n",
              "             scoring=None, verbose=0)"
            ]
          },
          "metadata": {},
          "execution_count": 23
        }
      ]
    },
    {
      "cell_type": "code",
      "metadata": {
        "id": "Io24pqXHE2A5",
        "colab": {
          "base_uri": "https://localhost:8080/"
        },
        "outputId": "f3230818-5a04-43b5-98e8-b448b7354f47"
      },
      "source": [
        "best_lda_model = gridsearch_lda.best_estimator_\n",
        "\n",
        "print(\"Best Model's Params: \", gridsearch_lda.best_params_)\n",
        "print(\"Best Log Likelihood Score: \", gridsearch_lda.best_score_)"
      ],
      "execution_count": 24,
      "outputs": [
        {
          "output_type": "stream",
          "name": "stdout",
          "text": [
            "Best Model's Params:  {'learning_decay': 1.0, 'learning_method': 'online', 'n_components': 7}\n",
            "Best Log Likelihood Score:  -3650743.6761072027\n"
          ]
        }
      ]
    },
    {
      "cell_type": "code",
      "metadata": {
        "id": "Amo_yjMPE2A6",
        "colab": {
          "base_uri": "https://localhost:8080/",
          "height": 1000
        },
        "outputId": "a0bb3094-d2d2-44f6-baf5-dc202fc089eb"
      },
      "source": [
        "# Visualize the topics\n",
        "pyLDAvis.enable_notebook()\n",
        "panel = pyLDAvis.sklearn.prepare(best_lda_model, docs_bow, bow_vectorizer, mds='tsne')\n",
        "panel"
      ],
      "execution_count": 25,
      "outputs": [
        {
          "output_type": "stream",
          "name": "stderr",
          "text": [
            "/usr/local/lib/python3.7/dist-packages/sklearn/metrics/pairwise.py:56: DeprecationWarning: `np.float` is a deprecated alias for the builtin `float`. To silence this warning, use `float` by itself. Doing this will not modify any behavior and is safe. If you specifically wanted the numpy scalar type, use `np.float64` here.\n",
            "Deprecated in NumPy 1.20; for more details and guidance: https://numpy.org/devdocs/release/1.20.0-notes.html#deprecations\n",
            "  dtype = np.float\n",
            "/usr/local/lib/python3.7/dist-packages/sklearn/manifold/_t_sne.py:348: DeprecationWarning: `np.float` is a deprecated alias for the builtin `float`. To silence this warning, use `float` by itself. Doing this will not modify any behavior and is safe. If you specifically wanted the numpy scalar type, use `np.float64` here.\n",
            "Deprecated in NumPy 1.20; for more details and guidance: https://numpy.org/devdocs/release/1.20.0-notes.html#deprecations\n",
            "  error = np.finfo(np.float).max\n",
            "/usr/local/lib/python3.7/dist-packages/sklearn/manifold/_t_sne.py:349: DeprecationWarning: `np.float` is a deprecated alias for the builtin `float`. To silence this warning, use `float` by itself. Doing this will not modify any behavior and is safe. If you specifically wanted the numpy scalar type, use `np.float64` here.\n",
            "Deprecated in NumPy 1.20; for more details and guidance: https://numpy.org/devdocs/release/1.20.0-notes.html#deprecations\n",
            "  best_error = np.finfo(np.float).max\n",
            "/usr/local/lib/python3.7/dist-packages/sklearn/manifold/_t_sne.py:348: DeprecationWarning: `np.float` is a deprecated alias for the builtin `float`. To silence this warning, use `float` by itself. Doing this will not modify any behavior and is safe. If you specifically wanted the numpy scalar type, use `np.float64` here.\n",
            "Deprecated in NumPy 1.20; for more details and guidance: https://numpy.org/devdocs/release/1.20.0-notes.html#deprecations\n",
            "  error = np.finfo(np.float).max\n",
            "/usr/local/lib/python3.7/dist-packages/sklearn/manifold/_t_sne.py:349: DeprecationWarning: `np.float` is a deprecated alias for the builtin `float`. To silence this warning, use `float` by itself. Doing this will not modify any behavior and is safe. If you specifically wanted the numpy scalar type, use `np.float64` here.\n",
            "Deprecated in NumPy 1.20; for more details and guidance: https://numpy.org/devdocs/release/1.20.0-notes.html#deprecations\n",
            "  best_error = np.finfo(np.float).max\n"
          ]
        },
        {
          "output_type": "execute_result",
          "data": {
            "text/html": [
              "\n",
              "<link rel=\"stylesheet\" type=\"text/css\" href=\"https://cdn.jsdelivr.net/gh/bmabey/pyLDAvis@3.3.1/pyLDAvis/js/ldavis.v1.0.0.css\">\n",
              "\n",
              "\n",
              "<div id=\"ldavis_el19511404227102405924534147316\"></div>\n",
              "<script type=\"text/javascript\">\n",
              "\n",
              "var ldavis_el19511404227102405924534147316_data = {\"mdsDat\": {\"x\": [-29.59400177001953, -45.996585845947266, 20.36885643005371, 53.928768157958984, -12.437127113342285, 3.9659712314605713, 37.52428436279297], \"y\": [60.11271286010742, 11.891684532165527, 70.01932525634766, 31.704309463500977, -26.423267364501953, 21.797719955444336, -16.517805099487305], \"topics\": [1, 2, 3, 4, 5, 6, 7], \"cluster\": [1, 1, 1, 1, 1, 1, 1], \"Freq\": [56.51093743217619, 13.41624808617915, 12.569385690430156, 7.333691452357348, 4.637282557691345, 3.2450851497497983, 2.2873696314160075]}, \"tinfo\": {\"Term\": [\"]\", \"[\", \"android\", \"java\", \"_\", \"`\", \"div\", \"system\", \"x\", \"public\", \"app\", \"l\", \"new\", \"int\", \"com\", \"array\", \"td\", \"org\", \"import\", \"self\", \"view\", \"image\", \"web\", \"px\", \"b\", \"c\", \"run\", \"form\", \"net\", \"file\", \"typename\", \"programming\", \"ip\", \"gcc\", \"download\", \"swap\", \"compiler\", \"avoid\", \"singleton\", \"stdendl\", \"haskell\", \"boost\", \"machine\", \"dog\", \"manager\", \"signal\", \"thought\", \"addition\", \"username\", \"objective\", \"gui\", \"powershell\", \"timestamp\", \"aspx\", \"various\", \"stdcout\", \"anonymous\", \"architecture\", \"huge\", \"programmer\", \"check\", \"client\", \"linux\", \"consider\", \"argument\", \"member\", \"available\", \"address\", \"operator\", \"valid\", \"reference\", \"virtual\", \"simply\", \"lock\", \"construct\", \"skip\", \"say\", \"good\", \"debug\", \"directory\", \"store\", \"exist\", \"really\", \"not\", \"write\", \"variable\", \"memory\", \"use\", \"would\", \"call\", \"question\", \"think\", \"know\", \"way\", \"object\", \"find\", \"need\", \"could\", \"time\", \"get\", \"type\", \"file\", \"one\", \"include\", \"class\", \"function\", \"like\", \"method\", \"code\", \"user\", \"error\", \"work\", \"c\", \"try\", \"want\", \"create\", \"string\", \"return\", \"value\", \"new\", \"public\", \"int\", \"name\", \"run\", \"nan\", \"df\", \"df[\", \"np\", \"str\", \"viewdidload\", \"x[\", \"za\", \"oz\", \"uicolor\", \"uiviewcontroller\", \"dtype\", \"\\\\w\", \"uibutton\", \"last_name\", \"uitextfield\", \"panda\", \"list[\", \"\\\\s\", \"vector[\", \"\\\\u\", \"out[\", \"cube\", \"b[\", \"rr\", \"income\", \"male\", \"l\", \"temp[\", \"line[\", \"dataframe\", \"atg\", \"indexpath\", \"pd\", \"data[\", \"tableview\", \"tile\", \"numpy\", \"]\", \"[\", \"self\", \"ptr\", \"regex\", \"a[\", \"j\", \"_\", \"len\", \"z\", \"def\", \"array\", \"x\", \"float\", \"q\", \"matrix\", \"sum\", \"print\", \"price\", \"int\", \"double\", \"k\", \"b\", \"row\", \"length\", \"list\", \"n\", \"size\", \"value\", \"column\", \"c\", \"return\", \"string\", \"output\", \"f\", \"result\", \"name\", \"datum\", \"px\", \"font\", \"border\", \"webkit\", \"solid\", \"svg\", \"desc\", \"rvm\", \"overlay\", \"stroke\", \"opacity\", \"xslt\", \"rgba\", \"ball\", \"contenteditable\", \"heightpx\", \"preparedstatement\", \"margin\", \"deg\", \"moz\", \"xmlnshttpwww\", \"stylebackground\", \"bg\", \"navigator\", \"appearance\", \"classcontainer\", \"shadow\", \"classcol\", \"translatey\", \"relstylesheet\", \"div\", \"css\", \"hover\", \"span\", \"canvas\", \"img\", \"mysql\", \"padding\", \"navbar\", \"png\", \"color\", \"width\", \"image\", \"docker\", \"react\", \"height\", \"li\", \"ul\", \"center\", \"align\", \"white\", \"style\", \"background\", \"href\", \"&#9\", \";\", \"html\", \"animation\", \"body\", \"top\", \"icon\", \"query\", \"title\", \"select\", \"text\", \"document\", \"table\", \"button\", \"display\", \"p\", \"content\", \"not\", \"use\", \"var\", \"function\", \"name\", \"work\", \"try\", \"code\", \"layoutinflater\", \"inflate\", \"androidx\", \"emulator\", \"linearlayout\", \"layout_widthmatch_parent\", \"layout_heightmatch_parent\", \"savedinstancestate\", \"setcontentview\", \"viewholder\", \"androidhttpschemas\", \"activitythread\", \"viewgroup\", \"appcompat\", \"itemview\", \"inflater\", \"dalvikvm\", \"oncreate\", \"layout_widthfill_parent\", \"layout_heightdp\", \"layout_weight\", \"layout_heightwrap_content\", \"convertview\", \"drawerlayout\", \"androidruntime\", \"observer\", \"zygoteinit\", \"apk\", \"appcompatactivity\", \"idid\", \"android\", \"textview\", \"layout_widthwrap_content\", \"findviewbyid\", \"mainactivity\", \"pod\", \"nameandroid\", \"looper\", \"pip\", \"bundler\", \"gradle\", \"activity\", \"imageview\", \"bundle\", \"recyclerview\", \"fragment\", \"py\", \"gem\", \"intent\", \"com\", \"java\", \"internal\", \"lang\", \"app\", \"layout\", \"module\", \"import\", \"view\", \"os\", \"lib\", \"org\", \"google\", \"r\", \"xml\", \"run\", \"_\", \"file\", \"override\", \"python\", \"error\", \"version\", \"js\", \"public\", \"geocoordinate\", \"fromhours\", \"timespan\", \"merchant\", \"geoposition\", \"emac\", \"actionresult\", \"javafx\", \"aspnetcore\", \"dofilter\", \"entityframeworkcore\", \"serializationformat\", \"hashtable\", \"executioncontext\", \"viewbag\", \"emacs\", \"innerexception\", \"javascriptserializer\", \"hresult\", \"fasterxml\", \"compilerservices\", \"newtonsoft\", \"rewriterule\", \"guthaben\", \"project_participants\", \"commandbehavior\", \"quartz\", \"taskawaiter\", \"deck\", \"iscomplete\", \"datetimeoffset\", \"xsd\", \"awt\", \"jframe\", \"intptr\", \"onebusaway\", \"databind\", \"sqlclient\", \"tcip\", \"nyc\", \"dhaskin\", \"xsl\", \"javax\", \"bean\", \"`\", \"cs\", \"springframework\", \"collectionserializer\", \"microsoft\", \"cassandra\", \"beans\", \"system\", \"catalina\", \"task\", \"jackson\", \"sun\", \"org\", \"web\", \"security\", \"public\", \"java\", \"jar\", \"apache\", \"net\", \"new\", \"mvc\", \"factory\", \"exception\", \"private\", \"core\", \"configuration\", \"boolean\", \"void\", \"[\", \"xml\", \"]\", \"td\", \"btd\", \"tr\", \"classodd\", \"tdinput\", \"tbody\", \"thth\", \"att\", \"tdtd\", \"notnull\", \"colspan\", \"attributeid_attribute_id_\", \"borderleft\", \"zclpayload\", \"thead\", \"formdata\", \"ra\", \"helm\", \"pendingintent\", \"pointsth\", \"alarmmanager\", \"uiimagepickercontroller\", \"traefik\", \"sitename\", \"tddiv\", \"textstatus\", \"fmt\", \"orm\\\\column\", \"curl_setopt\", \"renderobject\", \"mycompanymyappio\", \"classcircledivtd\", \"nametxttd\", \"classtxt\", \"hvm\", \"classtable\", \"yaml\", \"ion\", \"stylewidth\", \"smtp\", \"video\", \"addr\", \"th\", \"notification\", \"camera\", \"facebook\", \"payment\", \"ad\", \"child\", \"admin\", \"response\", \"login\", \"url\", \"form\", \"ssl\", \"post\", \"status\", \"request\", \"token\", \"user\", \"session\", \"var\", \"class\", \"spring\", \"password\", \"action\", \"get\", \"solr\", \"stackpanel\", \"textblock\", \"staticresource\", \"scip\", \"printer\", \"bouncycastle\", \"nulla\", \"mpl_na\", \"insectivore\", \"omnivore\", \"cfset\", \"mktridtop\", \"my_stream\", \"eax\", \"sku\", \"msi\", \"coldfusion\", \"ut\", \"dolore\", \"headval\", \"velit\", \"xy_pod\", \"enim\", \"eget\", \"gles\", \"contentcontrol\", \"discrete\", \"apus_apus\", \"diam\", \"netfilter\", \"lea\", \"digitalwrite\", \"classsolr\", \"cntrs_reper\", \"dword\", \"controltemplate\", \"mtcar\", \"cfqueryparam\", \"errorcode\", \"edx\", \"planename\", \"amet\", \"ebph\", \"dolor\", \"mpg\", \"consectetur\", \"pizza\", \"ebp\", \"coroutine\", \"vel\", \"datatemplate\", \"elit\", \"et\", \"driver\", \"mov\", \"ipsum\", \"sit\", \"storyboard\", \"gdx\", \"assembly\", \"grid\", \"trigger\", \"sed\", \"setter\"], \"Freq\": [30710.0, 20626.0, 7301.0, 7248.0, 9466.0, 4072.0, 4644.0, 3786.0, 7022.0, 6812.0, 4334.0, 3555.0, 8747.0, 8083.0, 3437.0, 4296.0, 1481.0, 2830.0, 3778.0, 2859.0, 2902.0, 2562.0, 1864.0, 2007.0, 4244.0, 9138.0, 5190.0, 2136.0, 1836.0, 9052.0, 399.7274053854893, 354.45924343363646, 293.94703975291264, 397.0106433014841, 504.5243441540784, 176.789344625769, 854.2404293843204, 510.26258590682676, 185.16756760219522, 154.79232394840633, 155.7244480628124, 176.50190031089141, 505.49159281752725, 138.1031567827216, 279.7175292633024, 155.56930484117615, 178.74423948358435, 137.7208393380464, 629.6795708631699, 160.51500172483858, 158.62757343606935, 147.342498549951, 365.02286180632603, 122.36265191729686, 243.6364130038613, 260.56765527286285, 138.84446399665447, 126.64834550587719, 147.91983587397218, 158.21299124054357, 2377.204486569011, 1338.6595818773608, 639.6530185580009, 575.1768095087642, 992.3942092602667, 627.8822065281927, 624.8188454108513, 982.8069820154368, 778.2848936064256, 482.2004798663574, 1222.1037985458279, 402.01463899594495, 433.8203122891398, 343.3653649241534, 267.16532747886396, 268.8973674180344, 1574.7137737549053, 2011.0359650828232, 1068.094929284682, 858.5114931583687, 1486.8270711343268, 1215.544379475586, 1135.2738915122704, 21789.723873538063, 2731.2934793287154, 2195.05759474949, 1123.0929464777148, 16020.426809563234, 6578.998422097162, 4116.591542147426, 2844.8594545097044, 1807.723942099334, 3561.022210032114, 4868.829715397898, 5008.969923433627, 4292.496680689762, 4285.129432002907, 2662.8923332680793, 4233.81703931726, 9091.528599062822, 4900.512847611266, 7795.350673605649, 4705.102235375116, 2325.6962235265814, 7448.658644002287, 7164.772301180801, 7046.278323051044, 3986.8496151194263, 7989.774704315579, 4101.124068352705, 6083.586805400314, 6195.845891978262, 7269.632422009176, 6483.639369890468, 5066.568431741233, 4263.136399574148, 7031.520343521896, 7003.649569314269, 6144.716151110407, 6360.6964686423835, 4882.637087711253, 4976.972011882277, 4388.7738804137125, 4131.738581900819, 431.48542920480827, 886.0893203125426, 338.8598521940516, 633.9118256630229, 804.2049548106786, 99.00695902480378, 123.235971451189, 88.3068968702601, 114.43968545322615, 71.74486505638583, 61.02011724770144, 62.88728051475646, 56.06587076236594, 56.03934957857098, 61.82704486243594, 48.15674914170326, 304.8694339639145, 86.49325920885504, 58.58219594683672, 40.331081830075306, 44.156271770832916, 37.144388802153244, 43.15441632016049, 139.94595238518653, 47.87181882640262, 33.51473178782491, 117.70339707041204, 3464.780901521717, 40.16038173228356, 64.03967820865317, 636.6576191891381, 144.18226295312155, 108.32831263983283, 371.2520620684372, 271.8841663937453, 154.57436872949432, 139.59622748504384, 322.51934879973567, 26037.022430551453, 17560.758112145184, 2524.9947118371047, 311.3183975710095, 555.3757548714292, 288.3999751154661, 1144.7390168850795, 7290.402264164463, 381.66893423444304, 867.2025952460327, 1028.9099703345858, 2743.517976013017, 4071.6857223004986, 796.1871530851527, 460.1993439601191, 379.3541016313764, 561.7875532331911, 1430.277407145665, 332.54232114082095, 2901.7378941996403, 792.5947334387728, 629.6680236986454, 1506.4250129166503, 1066.7783935085886, 839.107826001622, 1563.4068362412308, 941.8214806399557, 911.8290801951815, 1715.5432008390328, 958.5584889802813, 1654.136224984299, 1553.4995092111187, 1462.7049393857994, 910.9503622435511, 797.1875530513404, 831.8713683696764, 865.1059582827214, 823.3807232026774, 1998.671328758507, 876.4653552640434, 648.6266966229853, 179.91858095731334, 203.89560765089013, 211.89830147402503, 167.64561163525406, 145.62962439620432, 126.35184413656161, 153.49611740712794, 103.97921730881639, 82.35490306127552, 69.01104985995336, 203.1868008251081, 59.19143660843746, 70.19209149213403, 60.980163491050504, 523.7929438028431, 57.205539683329064, 52.64694011389845, 49.91477753979714, 55.333462192303465, 46.23868633414559, 50.730597021674605, 45.29788442948471, 50.68252004459, 150.9238379539077, 188.84670760441276, 43.33651537947001, 90.91133979008444, 4528.8912398638195, 1187.7413214364303, 255.05225710396886, 734.7677347527665, 182.8984884634539, 584.445742481785, 805.3343708837224, 411.34959087757727, 177.3759062045364, 446.5877311807246, 1485.5869842615602, 1573.2939242659972, 2294.397200505018, 485.6384201915466, 888.441790716774, 1213.6967581710949, 685.026522641971, 463.6477946385685, 565.2750463156029, 367.404032595556, 294.61677956567473, 1058.5158995250526, 980.9513578290965, 289.45810077039846, 699.3517289830547, 697.1204189123886, 1730.5831993668385, 283.1197447443495, 777.2198498470154, 711.310220933588, 415.36176273831535, 1245.0663036814904, 796.1053435615711, 1509.6822734324162, 1815.3628589892783, 885.5424562637918, 1533.2117123790842, 1066.209457291465, 923.435609641944, 1019.2318094953522, 891.6708580778349, 1760.1704332083586, 1368.4780981143376, 940.9124551315796, 1021.0439719726234, 935.7429257640234, 909.9109528484909, 847.9327858331885, 844.5456874593203, 198.85880590331186, 125.51273606663317, 229.92224076502754, 109.1322174945022, 340.1041218426535, 224.1071974885758, 115.49649169376063, 203.24887532719384, 103.04186660951004, 98.21644816466737, 137.98234941045823, 388.8321664561855, 99.10365800684926, 84.79930757163018, 71.41674255933962, 60.86806791219357, 60.86648567839666, 245.12104792420178, 61.749880090987574, 55.0644445745696, 78.77384853383074, 340.49471977362003, 52.200542630441504, 50.29160162795285, 373.7631311541602, 49.3289708045306, 147.0014068063084, 335.1184394273924, 49.28295365651412, 458.68366909417597, 7150.8848569436495, 484.8099500411642, 210.08059533661898, 243.302603175111, 168.60177427360466, 158.07042757418267, 130.95598089707764, 116.8295772865148, 193.98504788115116, 111.01121321526001, 551.4332147486591, 622.8639977750539, 196.3683932111593, 482.93728089033146, 185.14698852277394, 364.99175581818525, 938.8797613847073, 351.4308883003593, 429.29158649016284, 2160.81223415942, 4027.095676646896, 725.2056996219663, 648.1582515516517, 2192.656762130342, 424.5817151284348, 806.2306941249956, 1577.0564027144276, 1235.4966543726139, 503.3561068958062, 585.7055189570798, 857.056757207039, 539.0434650692271, 675.7760271242516, 528.8807682996013, 718.5571146565934, 800.1224258530086, 778.820719084933, 441.688210376005, 534.9374457374975, 575.3514140745383, 466.6221231957498, 440.7430785152745, 441.018352205364, 175.65885485549904, 89.02981364438301, 143.55296747452465, 73.81798337410777, 88.55068773132255, 57.17731797589217, 58.007942238547926, 114.19909602099781, 65.80861740827257, 105.04011888697767, 42.88992269589726, 41.05435738780233, 61.07685484099316, 36.4429653161786, 30.949291258549678, 30.042757183728014, 29.999966813020052, 29.994203384135332, 37.244942925016446, 151.51726543576353, 69.79516643043742, 37.17983233440082, 26.23119823959082, 27.134434867324877, 74.97679555201445, 23.504807698854055, 68.7758334107717, 67.72011296503747, 41.49108835930122, 25.25770935123064, 89.98285030196885, 220.94576980797945, 108.60073864413974, 57.65713002953199, 102.82511081667174, 162.57862558928844, 281.68617409485665, 81.83502882326978, 85.97810101368013, 160.33637793046506, 79.44871206945598, 162.91707903241445, 203.17150575073606, 361.328941679771, 2717.4771214930233, 377.78923255323355, 529.2606288881058, 88.22614892915242, 460.86356985941296, 133.51352983382995, 170.34684654204358, 1556.0878447895007, 125.36924284972324, 604.2698892564985, 227.0730446659143, 285.0380911647127, 966.1237689055514, 718.7078523339717, 299.0748377383477, 1068.942076345, 1062.2871150072524, 349.09891838373414, 330.68493211135274, 463.8337739748351, 972.0925195719935, 197.49013411126066, 184.3735600583488, 351.72920825367345, 324.1450509497112, 259.78459309184495, 205.4458703178951, 207.76460135422403, 254.5405141941895, 302.09133154503144, 193.3407012709342, 207.9193475563578, 1479.568907635981, 196.87962315542867, 846.0668176886038, 84.46457734857204, 113.49739157563748, 93.19614329406554, 53.26906282749875, 63.125511680630325, 639.6623760820343, 52.06923694027996, 80.68693846923765, 33.774437278629016, 32.94741161197797, 33.771325403921686, 54.01503496358225, 33.50406680900899, 68.54128215187885, 25.27109418237404, 28.493792512234258, 25.167157344301998, 22.71051497503105, 19.469077508404368, 22.647239745534854, 21.023305244763804, 36.30740691804222, 17.742466414973542, 40.29633851373416, 20.93813903349232, 29.73511989820021, 16.88324717166543, 127.68787025646625, 34.41033977891847, 42.11304074430583, 48.23378949494493, 54.8417997832507, 67.7720634524832, 79.69659545916153, 75.9790069990107, 204.00514043819388, 109.72973492212434, 247.9982553846914, 57.440439644354214, 296.4513600273721, 169.80982254086715, 86.78415548945132, 145.37720451367505, 64.95753691701199, 112.0179340054389, 384.30946206094507, 195.85003875857595, 357.70340883773554, 164.51400319557118, 277.3442508434999, 294.8710000161031, 96.63923604929381, 228.1008680650296, 163.3841336651736, 202.42588795211873, 135.2535557173193, 196.63673769957518, 115.50462760750021, 157.07009989336163, 174.64474622942436, 105.9449073578431, 108.60589090135403, 107.81526008709761, 106.82936577600047, 43.60676140399367, 41.28611376759598, 31.378605809695642, 47.805130090521644, 42.458806111097594, 39.47220138910034, 26.820874071903287, 30.50647917402321, 71.31376542304601, 28.203142749008144, 25.95009840110418, 22.96595673641374, 22.92417808283875, 19.17299452610468, 114.91027679091134, 18.419580185187073, 17.668644849216456, 23.505174867965803, 37.392867152679045, 21.987096754118046, 43.979403792965094, 20.509763731258893, 19.043462856626007, 21.211816332292933, 19.016027987279074, 30.7285972602163, 16.80645527879722, 14.607034695769698, 15.331039709184818, 15.32383605856277, 39.28462832566309, 28.4371202559879, 17.50856887991391, 23.277111723297676, 21.818097637224543, 144.7562076158437, 29.614219038098735, 23.933884235297395, 25.299645340561735, 41.30929277489141, 44.57981012306234, 22.533438344990024, 44.12754885705477, 40.44613255954417, 46.580557874597716, 34.78750186916388, 33.81900312163556, 45.24519635548335, 25.77425655159961, 32.07586511443924, 26.85225428529411, 33.064160962217485, 31.06580378704903, 54.6436694174854, 110.76189041517867, 78.66626621397877, 39.54829148029819, 53.984526907223206, 46.82582802592975, 45.74700396864524, 52.10166154918362, 53.98702606067152, 44.8519879060977, 35.185942433754896, 36.00248115463604], \"Total\": [30710.0, 20626.0, 7301.0, 7248.0, 9466.0, 4072.0, 4644.0, 3786.0, 7022.0, 6812.0, 4334.0, 3555.0, 8747.0, 8083.0, 3437.0, 4296.0, 1481.0, 2830.0, 3778.0, 2859.0, 2902.0, 2562.0, 1864.0, 2007.0, 4244.0, 9138.0, 5190.0, 2136.0, 1836.0, 9052.0, 400.70047250675964, 355.36489015132304, 294.8720087815329, 398.6981235198117, 506.8542989934369, 177.69240204887794, 858.7265375765513, 512.9992301110028, 186.19921162895875, 155.67209031148118, 156.62256154576133, 177.52155013351145, 508.4399599318706, 138.94061170223443, 281.45131102402377, 156.6148211930366, 179.96430041347213, 138.66348555420225, 634.0205015696455, 161.62169204020836, 159.72824442376645, 148.38090382644666, 367.620092507148, 123.26316338238921, 245.44403452058367, 262.5105593446991, 139.8837341281294, 127.60259779793975, 149.03685751714556, 159.46022866770915, 2411.742821267191, 1358.911337320531, 645.3591875901756, 580.1609340239222, 1007.6483498433475, 635.0646723764096, 632.0445625761375, 999.7537196745185, 790.0211855658374, 487.1986375975007, 1246.841990219905, 406.03289285940446, 438.6252715136086, 346.86995584751406, 269.40949870390125, 271.21732289053057, 1618.3604764750219, 2078.434558841879, 1094.8548392884697, 877.1146614714921, 1537.7627422327857, 1252.210008044691, 1168.6866738678289, 24439.20092972635, 2882.1189845741374, 2308.1082931446263, 1161.117466321419, 17986.100189473582, 7243.683237805507, 4465.821439745794, 3062.958530639213, 1910.8948714098099, 3877.886520349361, 5374.980086794536, 5554.784644681739, 4745.06061352462, 4748.478465595381, 2882.9665408506526, 4697.98126152256, 10642.103009579016, 5522.172381241533, 9052.320778160063, 5323.745249386236, 2506.358889347402, 8768.019968602986, 8458.482682574511, 8310.631597702823, 4526.903224866141, 9677.126698568418, 4674.486054693624, 7308.009857768085, 7574.274505598619, 9138.890698311494, 8044.643698562743, 6111.726062785922, 5000.329269385615, 9011.544844832371, 9244.041482543706, 8242.484446551181, 8747.41344270931, 6812.791602626504, 8083.129133599635, 6538.36888078159, 5190.837764432284, 432.34900075891835, 888.0918614077484, 341.5813049829595, 639.5011866535594, 811.762881750183, 100.19541627410216, 124.74685112905202, 89.39059908410543, 115.90627638165593, 72.69147126033417, 61.88252551419441, 63.79790330331653, 56.97005442549071, 56.96977523836771, 62.856305657015106, 49.10931386196763, 311.00399369913237, 88.37066099779683, 59.86904635109981, 41.24563824120196, 45.161095499154996, 38.0097475611106, 44.184314476448506, 143.3445351289322, 49.09372951371625, 34.37086521688719, 120.75889989084895, 3555.947515321527, 41.22749066561847, 65.75157068510394, 656.45653010873, 148.4603920450094, 111.88964687156866, 391.9468436619545, 286.09237773902055, 160.9163478477358, 145.22007445963007, 342.1757896156803, 30710.870176851895, 20626.38612869589, 2859.4430473055554, 330.4635814039921, 606.2958570456963, 311.57620785742006, 1324.2098356237173, 9466.537383846004, 433.27245114189355, 1057.4759779590631, 1400.1369950418973, 4296.740028039045, 7022.435874878045, 1082.1663157539397, 607.5906809592556, 492.1397672240549, 810.6253232826587, 2627.106130489067, 428.69012374015017, 8083.129133599635, 1426.0664115059315, 1059.4809048825823, 4244.621123283221, 2496.0747698454566, 1727.3895602026869, 5626.628277519529, 2336.7339846250725, 2319.3702499797732, 8242.484446551181, 2668.7205660261643, 9138.890698311494, 9244.041482543706, 9011.544844832371, 2699.3815920592733, 2517.4457571700364, 3665.056423960812, 6538.36888078159, 4903.000715552935, 2007.023132825143, 880.1667361479037, 652.4670827387181, 181.04085124041814, 205.17156154926343, 213.3792584026952, 169.03437006274905, 146.87568277177706, 127.47986146356405, 154.92830370060116, 105.0378978098046, 83.36939597210838, 69.94733402114649, 205.99330936943974, 60.058772138691126, 71.25239348632522, 61.90465572819754, 532.3935234260567, 58.22046541708899, 53.60273466704754, 50.82510562574652, 56.36923258816376, 47.13244071417483, 51.73776529501923, 46.20972823490646, 51.75789806524429, 154.30746848643167, 193.1184562828957, 44.367367589763106, 93.07997079745843, 4644.046283869375, 1223.9123808907582, 263.15056444397993, 766.3098439521176, 188.13351571091, 610.4224193559548, 848.8273161709109, 428.84796592470406, 183.07515839149656, 471.4160680681251, 1613.1302880296291, 1723.8549419713697, 2562.3404409599207, 516.9264650082036, 970.0148078782644, 1356.19164220215, 753.3095803031142, 500.9238600975899, 619.4769208094447, 395.26749455296084, 312.69443750560026, 1290.804611144949, 1199.1426131648354, 310.952842838503, 838.6424275909117, 838.7187588731061, 2590.746971175859, 304.7942904764975, 1110.56807688255, 995.420979796797, 499.3286490315735, 2152.795566266286, 1193.5059872187453, 2912.6940939525844, 3885.4659645440393, 1438.3014546590389, 3781.0790545101227, 2101.039735471635, 1625.6710658314437, 2592.0253612970855, 1960.84415888735, 24439.20092972635, 17986.100189473582, 4140.495248528219, 8458.482682574511, 6538.36888078159, 7574.274505598619, 8044.643698562743, 9677.126698568418, 199.70715765756637, 126.38482623231829, 231.53074597864043, 109.97999808223612, 343.41387685992123, 226.409723020793, 116.73007556351618, 205.46827520676948, 104.18499825306043, 99.36307767578876, 139.5945104600793, 393.55723341653487, 100.31780785001597, 85.85634866904122, 72.35044637725323, 61.73847720013142, 61.74258843547973, 248.8529061747477, 62.703997332459814, 55.95134439000203, 80.06538470559445, 346.09451709060176, 53.06296914824481, 51.12878798380065, 380.01862742584535, 50.166742329122286, 149.5070255874612, 340.87175806447533, 50.16374666758244, 466.92007374473314, 7301.262759508215, 496.96802041991293, 214.23038942684775, 248.80840001921885, 172.34792494558232, 161.95779378682863, 134.05764752583815, 119.58911015291744, 202.16442268781086, 113.77378672044502, 603.8328683969422, 687.527566487254, 206.46436447292368, 532.4397043457071, 194.7149077520477, 401.3151886586838, 1171.8228909058182, 399.77913831507135, 506.7927579808031, 3437.6755715234003, 7248.880026136167, 1032.573683369195, 905.2949790581708, 4334.925281383067, 598.5225960282698, 1457.21826406134, 3778.358556653549, 2902.835707250219, 917.3641932315825, 1387.7778975358879, 2830.4082083545063, 1381.539219399798, 2666.5973572227713, 1674.9454890135949, 5190.837764432284, 9466.537383846004, 9052.320778160063, 1125.8264451188682, 2746.598027825453, 7308.009857768085, 2613.862152674535, 1697.662316265103, 6812.791602626504, 177.10232551675043, 89.97256701368734, 145.2536826304617, 74.9820049558771, 89.96670553924514, 58.115411183048046, 59.04828097994751, 117.12212268057114, 67.50158969419466, 107.7905252721278, 44.062898216298066, 42.19598555529417, 62.80528448291809, 37.507134122737895, 31.869143366406902, 30.93973973389466, 30.944072999559577, 30.94455249227531, 38.43916583337554, 156.4278538288339, 72.1599894782874, 38.44155269831486, 27.197011521759492, 28.133753469188612, 77.78070949293517, 24.387911217368416, 71.36208292748712, 70.2782281680761, 43.11809095190929, 26.258955517172968, 93.73170647553866, 232.27681784454805, 113.43073284144087, 60.00465172200066, 107.84776466290752, 173.10545695886816, 304.28472328807953, 86.25091345352968, 91.18408356301263, 173.61074827327374, 84.72378253149444, 181.54895465666235, 232.74885365468683, 435.5886858221298, 4072.778182898154, 494.80293831760474, 775.180864983142, 96.65532546941529, 763.309452830766, 163.03085209762293, 221.60716478135464, 3786.464953111262, 152.38761048253306, 1249.7086851358006, 340.0272545915719, 485.30859224029143, 2830.4082083545063, 1864.5069955690376, 605.8780893747211, 6812.791602626504, 7248.880026136167, 1002.6001062528338, 946.5069638406665, 1836.9839999438493, 8747.41344270931, 414.90737802051603, 356.7454020196031, 1815.7252043557992, 2359.131149730231, 1143.7928141843254, 676.0712130982031, 744.1855080130347, 3709.292929014867, 20626.38612869589, 1674.9454890135949, 30710.870176851895, 1481.3262014607856, 197.76967799523288, 855.0220626461182, 85.43734245358576, 115.06631727081435, 94.77907787590095, 54.17903395009178, 64.3496032263746, 653.4341917156497, 53.38082213347254, 82.99204105164638, 34.76352916732999, 33.914597470284924, 34.763209042457824, 55.95577517671246, 34.79384617200352, 71.26543830408616, 26.32236831152275, 29.722331869666856, 26.327664378235855, 23.79341533784156, 20.40277758096758, 23.799566143586844, 22.097630358106823, 38.22087401346243, 18.71199228713644, 42.52077358314863, 22.11493295883643, 31.465484157522, 17.870760379920817, 135.80618344555697, 36.58086279712214, 45.08840878111146, 51.90945512396675, 59.340133939149204, 74.0635244110695, 87.89304194583802, 83.70445898723774, 236.83862523932865, 126.5442644782628, 305.5211096994347, 66.05703425531992, 485.7470059784827, 253.0549738787005, 113.12912906363928, 228.3543183339654, 83.0357950031218, 178.09577626733116, 1078.7588150590475, 418.24690788958196, 1151.9369429845437, 527.7325628038158, 1771.3207169986322, 2136.147361247695, 205.5362162613369, 1565.593158992631, 896.7304480152744, 2029.4116547806764, 678.5571205137251, 4674.486054693624, 612.6213293925697, 4140.495248528219, 8768.019968602986, 515.3809962387704, 854.6504109836507, 973.5303604121718, 10642.103009579016, 44.54201634427576, 42.251067638500764, 32.30651935800406, 49.2267435586455, 43.86002463034873, 40.785533568930624, 27.7188759399705, 31.567692792154087, 73.82137501340428, 29.28642540324853, 26.983225799225963, 23.90421371327943, 23.91698978932909, 20.07678121436218, 120.42576368978798, 19.308560416199157, 18.54093911414512, 24.718784101144323, 39.368545578111274, 23.17162297065184, 46.3687485888702, 21.64196264431583, 20.11340819554715, 22.42199240820675, 20.109979534701232, 32.497618475175315, 17.80284508659766, 15.487818717844148, 16.262296196762662, 16.26236421895261, 41.804078519346746, 30.194975201449928, 18.584649519233544, 24.796964857729087, 23.230170957803796, 162.62097369787136, 31.78262006837808, 25.56293367811848, 27.147812480988087, 46.05602946817493, 51.124007470408486, 24.020506717452697, 50.89120308620574, 46.417260545367526, 54.99865306308038, 39.65591166676453, 39.1748822332288, 58.47376387848726, 28.01507831861322, 37.88314254299886, 29.646846581966305, 40.4161837680336, 36.99147337833624, 93.71430322816299, 308.865192390787, 201.53263646307317, 56.4605875569911, 116.3082150638391, 94.67637484310592, 101.7447710204035, 291.07846778132915, 485.20551596542117, 478.78258312116475, 115.45199745093464, 193.17119639355272], \"Category\": [\"Default\", \"Default\", \"Default\", \"Default\", \"Default\", \"Default\", \"Default\", \"Default\", \"Default\", \"Default\", \"Default\", \"Default\", \"Default\", \"Default\", \"Default\", \"Default\", \"Default\", \"Default\", \"Default\", \"Default\", \"Default\", \"Default\", \"Default\", \"Default\", \"Default\", \"Default\", \"Default\", \"Default\", \"Default\", \"Default\", \"Topic1\", \"Topic1\", \"Topic1\", \"Topic1\", \"Topic1\", \"Topic1\", \"Topic1\", \"Topic1\", \"Topic1\", \"Topic1\", \"Topic1\", \"Topic1\", \"Topic1\", \"Topic1\", \"Topic1\", \"Topic1\", \"Topic1\", \"Topic1\", \"Topic1\", \"Topic1\", \"Topic1\", \"Topic1\", \"Topic1\", \"Topic1\", \"Topic1\", \"Topic1\", \"Topic1\", \"Topic1\", \"Topic1\", \"Topic1\", \"Topic1\", \"Topic1\", \"Topic1\", \"Topic1\", \"Topic1\", \"Topic1\", \"Topic1\", \"Topic1\", \"Topic1\", \"Topic1\", \"Topic1\", \"Topic1\", \"Topic1\", \"Topic1\", \"Topic1\", \"Topic1\", \"Topic1\", \"Topic1\", \"Topic1\", \"Topic1\", \"Topic1\", \"Topic1\", \"Topic1\", \"Topic1\", \"Topic1\", \"Topic1\", \"Topic1\", \"Topic1\", \"Topic1\", \"Topic1\", \"Topic1\", \"Topic1\", \"Topic1\", \"Topic1\", \"Topic1\", \"Topic1\", \"Topic1\", \"Topic1\", \"Topic1\", \"Topic1\", \"Topic1\", \"Topic1\", \"Topic1\", \"Topic1\", \"Topic1\", \"Topic1\", \"Topic1\", \"Topic1\", \"Topic1\", \"Topic1\", \"Topic1\", \"Topic1\", \"Topic1\", \"Topic1\", \"Topic1\", \"Topic1\", \"Topic1\", \"Topic1\", \"Topic1\", \"Topic1\", \"Topic1\", \"Topic1\", \"Topic1\", \"Topic1\", \"Topic2\", \"Topic2\", \"Topic2\", \"Topic2\", \"Topic2\", \"Topic2\", \"Topic2\", \"Topic2\", \"Topic2\", \"Topic2\", \"Topic2\", \"Topic2\", \"Topic2\", \"Topic2\", \"Topic2\", \"Topic2\", \"Topic2\", \"Topic2\", \"Topic2\", \"Topic2\", \"Topic2\", \"Topic2\", \"Topic2\", \"Topic2\", \"Topic2\", \"Topic2\", \"Topic2\", \"Topic2\", \"Topic2\", \"Topic2\", \"Topic2\", \"Topic2\", \"Topic2\", \"Topic2\", \"Topic2\", \"Topic2\", \"Topic2\", \"Topic2\", \"Topic2\", \"Topic2\", \"Topic2\", \"Topic2\", \"Topic2\", \"Topic2\", \"Topic2\", \"Topic2\", \"Topic2\", \"Topic2\", \"Topic2\", \"Topic2\", \"Topic2\", \"Topic2\", \"Topic2\", \"Topic2\", \"Topic2\", \"Topic2\", \"Topic2\", \"Topic2\", \"Topic2\", \"Topic2\", \"Topic2\", \"Topic2\", \"Topic2\", \"Topic2\", \"Topic2\", \"Topic2\", \"Topic2\", \"Topic2\", \"Topic2\", \"Topic2\", \"Topic2\", \"Topic2\", \"Topic2\", \"Topic2\", \"Topic2\", \"Topic2\", \"Topic3\", \"Topic3\", \"Topic3\", \"Topic3\", \"Topic3\", \"Topic3\", \"Topic3\", \"Topic3\", \"Topic3\", \"Topic3\", \"Topic3\", \"Topic3\", \"Topic3\", \"Topic3\", \"Topic3\", \"Topic3\", \"Topic3\", \"Topic3\", \"Topic3\", \"Topic3\", \"Topic3\", \"Topic3\", \"Topic3\", \"Topic3\", \"Topic3\", \"Topic3\", \"Topic3\", \"Topic3\", \"Topic3\", \"Topic3\", \"Topic3\", \"Topic3\", \"Topic3\", \"Topic3\", \"Topic3\", \"Topic3\", \"Topic3\", \"Topic3\", \"Topic3\", \"Topic3\", \"Topic3\", \"Topic3\", \"Topic3\", \"Topic3\", \"Topic3\", \"Topic3\", \"Topic3\", \"Topic3\", \"Topic3\", \"Topic3\", \"Topic3\", \"Topic3\", \"Topic3\", \"Topic3\", \"Topic3\", \"Topic3\", \"Topic3\", \"Topic3\", \"Topic3\", \"Topic3\", \"Topic3\", \"Topic3\", \"Topic3\", \"Topic3\", \"Topic3\", \"Topic3\", \"Topic3\", \"Topic3\", \"Topic3\", \"Topic3\", \"Topic3\", \"Topic3\", \"Topic3\", \"Topic3\", \"Topic3\", \"Topic3\", \"Topic3\", \"Topic3\", \"Topic3\", \"Topic4\", \"Topic4\", \"Topic4\", \"Topic4\", \"Topic4\", \"Topic4\", \"Topic4\", \"Topic4\", \"Topic4\", \"Topic4\", \"Topic4\", \"Topic4\", \"Topic4\", \"Topic4\", \"Topic4\", \"Topic4\", \"Topic4\", \"Topic4\", \"Topic4\", \"Topic4\", \"Topic4\", \"Topic4\", \"Topic4\", \"Topic4\", \"Topic4\", \"Topic4\", \"Topic4\", \"Topic4\", \"Topic4\", \"Topic4\", \"Topic4\", \"Topic4\", \"Topic4\", \"Topic4\", \"Topic4\", \"Topic4\", \"Topic4\", \"Topic4\", \"Topic4\", \"Topic4\", \"Topic4\", \"Topic4\", \"Topic4\", \"Topic4\", \"Topic4\", \"Topic4\", \"Topic4\", \"Topic4\", \"Topic4\", \"Topic4\", \"Topic4\", \"Topic4\", \"Topic4\", \"Topic4\", \"Topic4\", \"Topic4\", \"Topic4\", \"Topic4\", \"Topic4\", \"Topic4\", \"Topic4\", \"Topic4\", \"Topic4\", \"Topic4\", \"Topic4\", \"Topic4\", \"Topic4\", \"Topic4\", \"Topic4\", \"Topic4\", \"Topic4\", \"Topic4\", \"Topic4\", \"Topic5\", \"Topic5\", \"Topic5\", \"Topic5\", \"Topic5\", \"Topic5\", \"Topic5\", \"Topic5\", \"Topic5\", \"Topic5\", \"Topic5\", \"Topic5\", \"Topic5\", \"Topic5\", \"Topic5\", \"Topic5\", \"Topic5\", \"Topic5\", \"Topic5\", \"Topic5\", \"Topic5\", \"Topic5\", \"Topic5\", \"Topic5\", \"Topic5\", \"Topic5\", \"Topic5\", \"Topic5\", \"Topic5\", \"Topic5\", \"Topic5\", \"Topic5\", \"Topic5\", \"Topic5\", \"Topic5\", \"Topic5\", \"Topic5\", \"Topic5\", \"Topic5\", \"Topic5\", \"Topic5\", \"Topic5\", \"Topic5\", \"Topic5\", \"Topic5\", \"Topic5\", \"Topic5\", \"Topic5\", \"Topic5\", \"Topic5\", \"Topic5\", \"Topic5\", \"Topic5\", \"Topic5\", \"Topic5\", \"Topic5\", \"Topic5\", \"Topic5\", \"Topic5\", \"Topic5\", \"Topic5\", \"Topic5\", \"Topic5\", \"Topic5\", \"Topic5\", \"Topic5\", \"Topic5\", \"Topic5\", \"Topic5\", \"Topic5\", \"Topic5\", \"Topic5\", \"Topic5\", \"Topic5\", \"Topic5\", \"Topic5\", \"Topic6\", \"Topic6\", \"Topic6\", \"Topic6\", \"Topic6\", \"Topic6\", \"Topic6\", \"Topic6\", \"Topic6\", \"Topic6\", \"Topic6\", \"Topic6\", \"Topic6\", \"Topic6\", \"Topic6\", \"Topic6\", \"Topic6\", \"Topic6\", \"Topic6\", \"Topic6\", \"Topic6\", \"Topic6\", \"Topic6\", \"Topic6\", \"Topic6\", \"Topic6\", \"Topic6\", \"Topic6\", \"Topic6\", \"Topic6\", \"Topic6\", \"Topic6\", \"Topic6\", \"Topic6\", \"Topic6\", \"Topic6\", \"Topic6\", \"Topic6\", \"Topic6\", \"Topic6\", \"Topic6\", \"Topic6\", \"Topic6\", \"Topic6\", \"Topic6\", \"Topic6\", \"Topic6\", \"Topic6\", \"Topic6\", \"Topic6\", \"Topic6\", \"Topic6\", \"Topic6\", \"Topic6\", \"Topic6\", \"Topic6\", \"Topic6\", \"Topic6\", \"Topic6\", \"Topic6\", \"Topic6\", \"Topic6\", \"Topic6\", \"Topic6\", \"Topic6\", \"Topic6\", \"Topic6\", \"Topic7\", \"Topic7\", \"Topic7\", \"Topic7\", \"Topic7\", \"Topic7\", \"Topic7\", \"Topic7\", \"Topic7\", \"Topic7\", \"Topic7\", \"Topic7\", \"Topic7\", \"Topic7\", \"Topic7\", \"Topic7\", \"Topic7\", \"Topic7\", \"Topic7\", \"Topic7\", \"Topic7\", \"Topic7\", \"Topic7\", \"Topic7\", \"Topic7\", \"Topic7\", \"Topic7\", \"Topic7\", \"Topic7\", \"Topic7\", \"Topic7\", \"Topic7\", \"Topic7\", \"Topic7\", \"Topic7\", \"Topic7\", \"Topic7\", \"Topic7\", \"Topic7\", \"Topic7\", \"Topic7\", \"Topic7\", \"Topic7\", \"Topic7\", \"Topic7\", \"Topic7\", \"Topic7\", \"Topic7\", \"Topic7\", \"Topic7\", \"Topic7\", \"Topic7\", \"Topic7\", \"Topic7\", \"Topic7\", \"Topic7\", \"Topic7\", \"Topic7\", \"Topic7\", \"Topic7\", \"Topic7\", \"Topic7\", \"Topic7\", \"Topic7\", \"Topic7\"], \"logprob\": [30.0, 29.0, 28.0, 27.0, 26.0, 25.0, 24.0, 23.0, 22.0, 21.0, 20.0, 19.0, 18.0, 17.0, 16.0, 15.0, 14.0, 13.0, 12.0, 11.0, 10.0, 9.0, 8.0, 7.0, 6.0, 5.0, 4.0, 3.0, 2.0, 1.0, -7.9074, -8.0276, -8.2148, -7.9142, -7.6746, -8.7232, -7.148, -7.6632, -8.6769, -8.8561, -8.8501, -8.7248, -7.6726, -8.9702, -8.2644, -8.8511, -8.7122, -8.9729, -7.453, -8.8198, -8.8316, -8.9054, -7.9982, -9.0912, -8.4025, -8.3353, -8.9648, -9.0568, -8.9015, -8.8342, -6.1245, -6.6987, -7.4372, -7.5435, -6.9981, -7.4558, -7.4607, -7.0078, -7.2411, -7.7198, -6.7898, -7.9017, -7.8255, -8.0594, -8.3103, -8.3038, -6.5363, -6.2918, -6.9245, -7.143, -6.5938, -6.7952, -6.8635, -3.909, -5.9856, -6.2042, -6.8743, -4.2166, -5.1065, -5.5754, -5.9449, -6.3983, -5.7204, -5.4076, -5.3792, -5.5335, -5.5353, -6.011, -5.5473, -4.7831, -5.4011, -4.9369, -5.4418, -6.1464, -4.9824, -5.0212, -5.0379, -5.6074, -4.9123, -5.5792, -5.1848, -5.1665, -5.0067, -5.1211, -5.3678, -5.5404, -5.04, -5.044, -5.1748, -5.1403, -5.4047, -5.3856, -5.5114, -5.5717, -6.393, -5.6734, -6.6346, -6.0083, -5.7703, -7.865, -7.6461, -7.9794, -7.7202, -8.1871, -8.349, -8.3189, -8.4337, -8.4341, -8.3359, -8.5857, -6.7403, -8.0001, -8.3898, -8.7631, -8.6725, -8.8454, -8.6954, -7.5189, -8.5917, -8.9482, -7.692, -4.3098, -8.7673, -8.3007, -6.004, -7.4891, -7.775, -6.5433, -6.8548, -7.4195, -7.5214, -6.684, -2.2929, -2.6868, -4.6262, -6.7194, -6.1406, -6.7959, -5.4173, -3.5659, -6.5157, -5.6949, -5.5239, -4.5432, -4.1484, -5.7804, -6.3285, -6.5217, -6.1291, -5.1946, -6.6534, -4.4871, -5.7849, -6.015, -5.1427, -5.4878, -5.7279, -5.1056, -5.6124, -5.6448, -5.0127, -5.5948, -5.0492, -5.1119, -5.1722, -5.6457, -5.7791, -5.7365, -5.6974, -5.7468, -4.7948, -5.6191, -5.9201, -7.2025, -7.0774, -7.0389, -7.2731, -7.4139, -7.5559, -7.3613, -7.7508, -7.984, -8.1607, -7.0809, -8.3142, -8.1438, -8.2845, -6.1339, -8.3484, -8.4314, -8.4847, -8.3816, -8.5612, -8.4685, -8.5817, -8.4694, -7.3782, -7.1541, -8.626, -7.8851, -3.9768, -5.3152, -6.8535, -5.7954, -7.1861, -6.0243, -5.7037, -6.3756, -7.2167, -6.2934, -5.0914, -5.0341, -4.6568, -6.2095, -5.6055, -5.2936, -5.8655, -6.2559, -6.0577, -6.4885, -6.7093, -5.4304, -5.5065, -6.727, -5.8448, -5.848, -4.9388, -6.7491, -5.7393, -5.8279, -6.3659, -5.2681, -5.7153, -5.0753, -4.891, -5.6088, -5.0599, -5.4231, -5.5669, -5.4682, -5.6019, -4.9218, -5.1735, -5.5482, -5.4664, -5.5537, -5.5817, -5.6522, -5.6562, -6.5636, -7.0238, -6.4185, -7.1637, -6.027, -6.4441, -7.107, -6.5418, -7.2211, -7.269, -6.9291, -5.8931, -7.2601, -7.4159, -7.5877, -7.7475, -7.7475, -6.3545, -7.7331, -7.8477, -7.4896, -6.0258, -7.9011, -7.9384, -5.9326, -7.9577, -6.8658, -6.0417, -7.9586, -5.7279, -2.9812, -5.6725, -6.5087, -6.3619, -6.7287, -6.7932, -6.9814, -7.0955, -6.5884, -7.1466, -5.5437, -5.4219, -6.5762, -5.6763, -6.6351, -5.9563, -5.0115, -5.9942, -5.7941, -4.178, -3.5554, -5.2698, -5.3821, -4.1633, -5.8051, -5.1638, -4.4929, -4.737, -5.6349, -5.4834, -5.1027, -5.5664, -5.3404, -5.5855, -5.279, -5.1715, -5.1984, -5.7656, -5.5741, -5.5012, -5.7107, -5.7678, -5.7671, -6.2293, -6.9089, -6.4312, -7.0963, -6.9143, -7.3517, -7.3373, -6.6599, -7.2111, -6.7435, -7.6392, -7.683, -7.2857, -7.8021, -7.9655, -7.9952, -7.9967, -7.9969, -7.7803, -6.3772, -7.1523, -7.7821, -8.1309, -8.0971, -7.0807, -8.2407, -7.167, -7.1825, -7.6724, -8.1687, -6.8982, -5.9999, -6.7102, -7.3434, -6.7648, -6.3067, -5.7571, -6.9932, -6.9438, -6.3206, -7.0228, -6.3046, -6.0838, -5.5081, -3.4904, -5.4635, -5.1264, -6.918, -5.2648, -6.5037, -6.26, -4.0479, -6.5666, -4.9938, -5.9726, -5.7452, -4.5246, -4.8204, -5.6972, -4.4234, -4.4297, -5.5425, -5.5967, -5.2583, -4.5184, -6.1122, -6.1809, -5.535, -5.6167, -5.838, -6.0727, -6.0615, -5.8584, -5.6871, -6.1334, -6.0607, -3.7414, -5.7583, -4.3003, -6.6045, -6.3091, -6.5062, -7.0655, -6.8958, -4.5799, -7.0883, -6.6503, -7.5212, -7.546, -7.5213, -7.0516, -7.5292, -6.8134, -7.8112, -7.6912, -7.8153, -7.9181, -8.0721, -7.9208, -7.9952, -7.4489, -8.1649, -7.3446, -7.9993, -7.6486, -8.2146, -6.1913, -7.5025, -7.3005, -7.1648, -7.0364, -6.8247, -6.6627, -6.7104, -5.7227, -6.3429, -5.5275, -6.9901, -5.349, -5.9062, -6.5775, -6.0615, -6.8671, -6.3222, -5.0894, -5.7635, -5.1612, -5.9379, -5.4156, -5.3543, -6.4699, -5.6111, -5.9448, -5.7305, -6.1337, -5.7595, -6.2916, -5.9842, -5.8781, -6.378, -6.3532, -6.3605, -6.3696, -6.9159, -6.9706, -7.245, -6.824, -6.9426, -7.0155, -7.402, -7.2732, -6.4241, -7.3517, -7.435, -7.5571, -7.5589, -7.7376, -5.947, -7.7777, -7.8193, -7.5339, -7.0697, -7.6007, -6.9074, -7.6702, -7.7444, -7.6366, -7.7459, -7.2659, -7.8694, -8.0096, -7.9613, -7.9617, -7.0203, -7.3434, -7.8284, -7.5437, -7.6084, -5.7161, -7.3029, -7.5158, -7.4603, -6.9701, -6.8939, -7.5761, -6.9041, -6.9912, -6.85, -7.1419, -7.1701, -6.879, -7.4418, -7.223, -7.4008, -7.1927, -7.255, -6.6903, -5.9838, -6.3259, -7.0136, -6.7024, -6.8447, -6.868, -6.7379, -6.7024, -6.8878, -7.1305, -7.1076], \"loglift\": [30.0, 29.0, 28.0, 27.0, 26.0, 25.0, 24.0, 23.0, 22.0, 21.0, 20.0, 19.0, 18.0, 17.0, 16.0, 15.0, 14.0, 13.0, 12.0, 11.0, 10.0, 9.0, 8.0, 7.0, 6.0, 5.0, 4.0, 3.0, 2.0, 1.0, 0.5683, 0.5682, 0.5676, 0.5665, 0.5661, 0.5656, 0.5655, 0.5654, 0.5652, 0.5651, 0.565, 0.565, 0.5649, 0.5647, 0.5646, 0.564, 0.5639, 0.5639, 0.5639, 0.5639, 0.5638, 0.5637, 0.5636, 0.5634, 0.5633, 0.5633, 0.5633, 0.5632, 0.5632, 0.5629, 0.5563, 0.5557, 0.5619, 0.5621, 0.5555, 0.5594, 0.5592, 0.5536, 0.5558, 0.5604, 0.5507, 0.5608, 0.5597, 0.5606, 0.5624, 0.5621, 0.5434, 0.5378, 0.546, 0.5493, 0.5371, 0.541, 0.5417, 0.456, 0.517, 0.5205, 0.5374, 0.455, 0.4745, 0.4893, 0.4969, 0.5152, 0.4855, 0.4718, 0.4673, 0.4705, 0.4681, 0.4913, 0.4667, 0.4133, 0.4513, 0.4212, 0.4472, 0.4959, 0.4077, 0.4047, 0.4057, 0.4437, 0.3791, 0.4399, 0.3874, 0.3699, 0.3419, 0.355, 0.3832, 0.4112, 0.3226, 0.2932, 0.277, 0.2521, 0.2376, 0.0858, 0.1721, 0.3425, 2.0067, 2.0064, 2.0007, 1.9999, 1.9993, 1.9968, 1.9965, 1.9965, 1.996, 1.9956, 1.9947, 1.9943, 1.9927, 1.9922, 1.9922, 1.9891, 1.9888, 1.9872, 1.987, 1.9863, 1.9862, 1.9857, 1.9851, 1.9847, 1.9835, 1.9835, 1.9831, 1.9827, 1.9825, 1.9823, 1.9781, 1.9795, 1.9764, 1.9545, 1.9578, 1.9685, 1.9692, 1.9495, 1.8436, 1.8478, 1.8843, 1.949, 1.921, 1.9314, 1.8631, 1.7475, 1.8819, 1.8103, 1.7006, 1.5601, 1.4637, 1.7018, 1.7309, 1.7484, 1.642, 1.4007, 1.7547, 0.9842, 1.4213, 1.4884, 0.9728, 1.1586, 1.2867, 0.7281, 1.1, 1.0751, 0.4391, 0.9848, 0.2994, 0.2252, 0.1905, 0.9224, 0.8588, 0.5258, -0.0139, 0.2245, 2.0697, 2.0697, 2.068, 2.0677, 2.0677, 2.0669, 2.0657, 2.0654, 2.065, 2.0646, 2.0638, 2.0617, 2.0604, 2.0602, 2.0594, 2.0589, 2.0589, 2.0576, 2.0563, 2.0559, 2.0558, 2.0554, 2.0548, 2.0542, 2.054, 2.0529, 2.0517, 2.0515, 2.0504, 2.0503, 2.0488, 2.0439, 2.0426, 2.0319, 2.0457, 2.0304, 2.0213, 2.0322, 2.0423, 2.0198, 1.9915, 1.9825, 1.9635, 2.0115, 1.9861, 1.9629, 1.9789, 1.9966, 1.9823, 2.0008, 2.0144, 1.8755, 1.8731, 2.0023, 1.8923, 1.889, 1.6704, 2.0001, 1.717, 1.7378, 1.8898, 1.5263, 1.669, 1.4167, 1.3129, 1.5889, 1.1713, 1.3956, 1.5083, 1.1405, 1.2859, -0.5569, -0.502, 0.5922, -0.0404, 0.1298, -0.0453, -0.1761, -0.3648, 2.6084, 2.6058, 2.6057, 2.605, 2.603, 2.6025, 2.6021, 2.6018, 2.6017, 2.6011, 2.6011, 2.6006, 2.6005, 2.6003, 2.5997, 2.5985, 2.5984, 2.5976, 2.5974, 2.5967, 2.5964, 2.5964, 2.5963, 2.5962, 2.5961, 2.5959, 2.5958, 2.5957, 2.595, 2.5949, 2.5919, 2.5879, 2.5931, 2.5903, 2.5907, 2.5884, 2.5893, 2.5893, 2.5714, 2.5881, 2.5219, 2.5139, 2.5626, 2.5151, 2.5623, 2.5178, 2.3911, 2.4838, 2.4467, 2.1484, 2.0249, 2.2593, 2.2786, 1.9311, 2.2693, 2.0208, 1.739, 1.7585, 2.0125, 1.75, 1.418, 1.6715, 1.24, 1.4599, 0.6353, 0.1419, 0.1597, 1.677, 0.9767, 0.0709, 0.8896, 1.2641, -0.1248, 3.0629, 3.0605, 3.0593, 3.0554, 3.0552, 3.0548, 3.0533, 3.0458, 3.0456, 3.0452, 3.0441, 3.0436, 3.0431, 3.0423, 3.0418, 3.0416, 3.0401, 3.0398, 3.0395, 3.0391, 3.0377, 3.0377, 3.0349, 3.0349, 3.0343, 3.0342, 3.0341, 3.034, 3.0326, 3.0322, 3.0302, 3.021, 3.0275, 3.0311, 3.0234, 3.0083, 2.9939, 3.0185, 3.0123, 2.9915, 3.0068, 2.9628, 2.9351, 2.8841, 2.6664, 2.8012, 2.6894, 2.9798, 2.5665, 2.8713, 2.808, 2.1818, 2.8759, 2.3444, 2.6673, 2.5389, 1.9962, 2.1177, 2.3651, 1.2189, 1.1506, 2.016, 2.0194, 1.6947, 0.874, 2.3287, 2.411, 1.4297, 1.0862, 1.5888, 1.8799, 1.7952, 0.3919, -1.1526, 0.912, -1.9242, 3.4268, 3.4235, 3.4175, 3.4166, 3.4143, 3.4112, 3.4111, 3.4088, 3.4067, 3.4032, 3.3999, 3.3992, 3.3991, 3.3991, 3.3927, 3.3903, 3.3891, 3.3873, 3.3858, 3.3829, 3.3814, 3.3812, 3.3784, 3.3782, 3.3767, 3.3748, 3.3743, 3.3733, 3.3715, 3.3712, 3.3664, 3.3669, 3.3598, 3.3546, 3.3492, 3.3393, 3.3301, 3.3312, 3.2788, 3.2855, 3.2194, 3.2883, 2.9342, 3.0291, 3.1629, 2.9765, 3.1825, 2.9644, 2.3959, 2.6693, 2.2585, 2.2624, 1.5738, 1.4478, 2.6734, 1.5018, 1.7254, 1.1229, 1.8152, 0.2595, 1.7596, 0.1562, -0.4881, 1.846, 1.3651, 1.2275, -1.1733, 3.7565, 3.7547, 3.7486, 3.7485, 3.7453, 3.745, 3.7448, 3.7436, 3.7432, 3.7401, 3.7387, 3.7377, 3.7354, 3.7317, 3.7309, 3.7306, 3.7296, 3.7274, 3.7263, 3.7253, 3.7249, 3.724, 3.7231, 3.7223, 3.7218, 3.7218, 3.7202, 3.7192, 3.7188, 3.7183, 3.7156, 3.7178, 3.7181, 3.7145, 3.7151, 3.6614, 3.7071, 3.7119, 3.7073, 3.669, 3.6408, 3.7139, 3.6352, 3.6401, 3.6116, 3.6468, 3.6308, 3.5213, 3.6944, 3.6114, 3.6788, 3.577, 3.6032, 3.2384, 2.7522, 2.837, 3.4217, 3.0102, 3.0737, 2.9784, 2.0574, 1.5819, 1.4099, 2.5896, 2.0978]}, \"token.table\": {\"Topic\": [1, 2, 3, 7, 1, 2, 3, 7, 1, 2, 3, 4, 5, 6, 7, 2, 2, 2, 1, 2, 3, 4, 5, 6, 7, 1, 2, 3, 4, 5, 6, 7, 1, 2, 3, 4, 5, 1, 2, 1, 2, 3, 4, 5, 6, 5, 1, 4, 1, 4, 1, 2, 3, 6, 7, 1, 1, 2, 6, 1, 3, 1, 2, 3, 4, 5, 6, 6, 1, 2, 3, 4, 6, 3, 7, 1, 3, 4, 6, 1, 4, 1, 4, 1, 4, 1, 2, 3, 4, 1, 1, 2, 3, 4, 5, 1, 4, 1, 2, 3, 4, 5, 6, 4, 4, 3, 7, 1, 1, 2, 3, 4, 5, 7, 1, 2, 3, 4, 5, 6, 7, 1, 5, 1, 1, 7, 1, 2, 7, 1, 6, 6, 1, 2, 3, 1, 3, 1, 5, 1, 2, 3, 4, 7, 1, 2, 1, 2, 3, 4, 5, 6, 1, 3, 5, 1, 2, 3, 4, 5, 6, 1, 2, 3, 5, 3, 1, 2, 3, 6, 1, 2, 3, 4, 5, 1, 2, 3, 4, 6, 7, 6, 1, 3, 4, 1, 3, 4, 1, 2, 3, 4, 5, 6, 7, 1, 2, 3, 4, 5, 6, 7, 1, 2, 3, 4, 5, 6, 1, 2, 6, 1, 2, 3, 4, 1, 2, 3, 5, 1, 2, 3, 5, 1, 2, 3, 4, 5, 6, 2, 7, 7, 1, 3, 4, 6, 7, 1, 2, 3, 4, 6, 1, 2, 3, 4, 5, 6, 2, 3, 6, 1, 3, 3, 6, 2, 7, 3, 6, 1, 3, 6, 1, 2, 3, 6, 7, 1, 2, 3, 4, 5, 6, 7, 1, 7, 2, 3, 4, 5, 1, 2, 3, 4, 5, 6, 3, 6, 1, 2, 3, 4, 5, 1, 2, 3, 4, 5, 6, 5, 1, 3, 1, 3, 5, 1, 2, 3, 4, 5, 6, 3, 7, 1, 2, 3, 4, 5, 1, 2, 1, 2, 3, 4, 5, 6, 7, 7, 3, 5, 7, 4, 1, 2, 3, 4, 5, 7, 1, 4, 7, 1, 2, 3, 4, 5, 6, 7, 1, 2, 3, 4, 5, 6, 7, 1, 4, 5, 1, 2, 3, 4, 2, 1, 6, 4, 1, 2, 1, 2, 3, 5, 1, 2, 1, 7, 1, 5, 1, 2, 3, 4, 6, 1, 3, 4, 6, 1, 5, 1, 2, 3, 4, 6, 3, 1, 3, 1, 2, 1, 2, 1, 2, 4, 5, 7, 7, 7, 1, 2, 3, 4, 5, 6, 7, 1, 2, 3, 4, 6, 1, 2, 3, 4, 6, 7, 1, 3, 1, 2, 3, 4, 6, 7, 2, 3, 5, 1, 3, 7, 7, 1, 2, 3, 6, 1, 4, 6, 4, 1, 2, 4, 5, 7, 2, 1, 2, 7, 1, 2, 7, 2, 7, 2, 7, 1, 2, 7, 7, 3, 7, 5, 5, 4, 7, 5, 1, 2, 3, 4, 5, 6, 7, 1, 2, 7, 1, 2, 3, 6, 7, 1, 2, 3, 4, 5, 5, 1, 2, 3, 4, 5, 1, 2, 3, 5, 1, 4, 5, 6, 1, 3, 4, 5, 1, 3, 5, 1, 2, 3, 4, 5, 6, 7, 1, 2, 3, 4, 5, 6, 7, 1, 4, 1, 2, 3, 4, 5, 4, 6, 2, 3, 4, 6, 1, 2, 3, 5, 6, 1, 6, 1, 2, 4, 5, 1, 2, 3, 4, 5, 6, 7, 1, 2, 1, 2, 3, 4, 7, 1, 3, 4, 6, 5, 5, 1, 2, 3, 4, 5, 6, 7, 2, 7, 1, 2, 3, 4, 5, 1, 2, 3, 4, 6, 7, 1, 3, 4, 1, 2, 3, 7, 1, 5, 1, 5, 1, 2, 3, 7, 1, 2, 3, 4, 5, 6, 3, 6, 1, 3, 4, 5, 6, 2, 3, 4, 6, 7, 5, 1, 2, 3, 4, 5, 6, 7, 1, 2, 4, 5, 6, 7, 1, 2, 3, 4, 6, 1, 4, 1, 2, 3, 4, 5, 1, 2, 3, 4, 1, 2, 3, 5, 1, 2, 3, 4, 5, 6, 1, 2, 3, 4, 5, 6, 2, 1, 2, 4, 4, 5, 7, 1, 2, 3, 4, 5, 6, 7, 1, 3, 4, 1, 3, 4, 5, 1, 2, 5, 1, 2, 4, 6, 1, 3, 7, 5, 4, 1, 2, 1, 2, 3, 5, 1, 2, 3, 4, 5, 6, 1, 2, 3, 4, 5, 7, 1, 3, 5, 5, 1, 2, 5, 1, 5, 1, 2, 3, 4, 6, 1, 2, 3, 4, 5, 1, 2, 3, 4, 5, 6, 1, 2, 3, 1, 3, 4, 5, 2, 1, 3, 4, 4, 1, 4, 1, 4, 1, 4, 4, 1, 4, 1, 4, 4, 2, 7, 1, 2, 1, 2, 3, 6, 1, 2, 3, 4, 6, 1, 2, 3, 4, 1, 2, 3, 4, 5, 6, 7, 1, 2, 1, 4, 1, 2, 4, 5, 6, 1, 2, 3, 4, 5, 6, 7, 1, 2, 1, 3, 1, 2, 3, 4, 5, 6, 1, 4, 1, 5, 1, 4, 1, 2, 4, 1, 3, 2, 3, 4, 6, 1, 2, 3, 1, 2, 5, 1, 2, 5, 7, 5, 1, 2, 3, 4, 5, 6, 1, 3, 5, 7, 1, 2, 3, 4, 1, 2, 7, 3, 1, 6, 7, 1, 2, 6, 7, 7, 1, 7, 1, 5, 7, 2, 4, 5, 6, 7, 1, 3, 4, 1, 2, 3, 4, 6, 7, 1, 2, 3, 4, 5, 6, 1, 4, 3, 6, 2, 1, 3, 4, 3, 1, 2, 3, 4, 5, 6, 7, 1, 2, 3, 5, 6, 1, 2, 7, 1, 2, 3, 4, 5, 6, 7, 1, 5, 1, 2, 3, 4, 5, 6, 7, 1, 3, 4, 6, 1, 6, 1, 2, 5, 7, 1, 2, 1, 2, 3, 4, 5, 7, 1, 2, 3, 4, 5, 1, 4, 7, 1, 4, 1, 2, 3, 4, 5, 6, 7, 1, 2, 3, 4, 5, 7, 3, 1, 2, 3, 1, 2, 3, 4, 5, 6, 6, 1, 2, 4, 5, 2, 1, 2, 3, 4, 5, 3, 1, 2, 3, 4, 5, 6, 1, 2, 1, 2, 3, 5, 6, 1, 2, 3, 4, 6, 1, 2, 4, 1, 3, 4, 6, 1, 6, 1, 2, 3, 6, 1, 4, 1, 2, 3, 7, 7, 1, 2, 3, 4, 1, 3, 4, 6, 1, 2, 3, 4, 5, 6, 1, 3, 1, 2, 3, 1, 2, 3, 4, 5, 6, 7, 7, 1, 2, 3, 4, 5, 6, 1, 1, 1, 3, 5, 1, 2, 1, 2, 3, 4, 5, 6, 7, 1, 2, 3, 6, 1, 2, 3, 4, 6, 1, 2, 3, 4, 5, 6, 1, 2, 3, 4, 1, 3, 5, 1, 2, 3, 4, 1, 2, 3, 4, 5, 6, 1, 2, 3, 4, 7, 1, 6, 1, 3, 1, 2, 3, 4, 1, 2, 4, 1, 2, 3, 4, 6, 1, 2, 3, 1, 3, 4, 6, 1, 2, 3, 4, 5, 6, 1, 3, 4, 5, 6, 7, 1, 2, 3, 4, 5, 1, 2, 3, 4, 5, 6, 7, 5, 3, 1, 2, 3, 4, 5, 2, 1, 2, 3, 4, 5, 6, 3, 1, 4, 1, 2, 3, 4, 7, 1, 7, 1, 2, 3, 5, 6, 2, 3, 7, 1, 2, 3, 4, 5, 7, 1, 2, 3, 4, 6, 5, 1, 2, 4, 6, 4, 1, 3, 4, 7, 1, 3, 1, 1, 2, 3, 1, 1, 2, 3, 7, 6, 1, 2, 3, 4, 5, 6, 7, 1, 3, 7, 1, 2, 3, 4, 5, 6, 2, 3, 7, 1, 2, 3, 6, 1, 2, 3, 5, 6, 1, 3, 5, 1, 5, 1, 3, 4, 6, 7, 2, 7, 1, 2, 3, 4, 5, 6, 1, 2, 1, 1, 2, 3, 7, 1, 2, 3, 7, 1, 2, 5, 1, 2, 3, 4, 5, 6, 7, 2, 3, 1, 2, 3, 4, 6, 7, 3, 1, 3, 6, 1, 2, 3, 6, 1, 2, 3, 4, 5, 2, 3, 1, 1, 2, 3, 4, 5, 6, 1, 2, 3, 4, 6, 1, 2, 1, 2, 3, 4, 5, 3, 5, 3, 6, 2, 5, 7, 3, 6, 3, 6, 1, 6, 2, 3, 6, 2, 1, 2, 3, 4, 6, 7, 7, 6, 1, 4, 1, 2, 3, 6, 3, 6, 1, 2, 3, 4, 5, 6, 7, 1, 6, 1, 2, 1, 2, 3, 4, 5, 6, 7, 1, 5, 1, 3, 4, 1, 2, 3, 4, 5, 6, 7, 1, 2, 4, 5, 6, 1, 2, 3, 4, 5, 1, 6, 6, 3, 1, 2, 3, 7, 1, 2, 3, 4, 5, 6, 7, 1, 2, 3, 4, 5, 6, 1, 2, 2, 6, 2, 2, 2, 3, 4, 6, 1, 2, 3, 4, 5, 6, 1, 2, 3, 4, 5, 6, 7, 1, 2, 3, 4, 5, 6, 1, 3, 3, 7, 1, 6, 1, 2, 3, 4, 5, 6, 7, 1, 2, 3, 4, 5, 6, 7, 1, 2, 3, 6, 1, 3, 2, 2, 3, 7, 7, 1, 2, 3, 4, 5, 6, 1, 2, 3, 4, 6, 1, 2, 3, 4, 5, 5, 2, 4, 4, 1, 3, 7, 1, 2, 3, 4, 5, 6, 7, 1, 2, 3, 4, 5, 6, 7, 1, 2, 3, 4, 5, 7, 1, 2, 3, 4, 5, 6, 3, 1, 2, 3, 4, 5, 1, 2, 3, 4, 5, 6, 1, 2, 3, 4, 5, 6, 7, 1, 2, 3, 4, 5, 6, 7, 1, 2, 3, 4, 5, 6, 7, 1, 2, 3, 4, 5, 6, 7, 1, 2, 1, 2, 3, 4, 5, 6, 3, 1, 2, 3, 5, 1, 3, 5, 3, 7, 1, 2, 3, 5, 6, 1, 2, 3, 5, 6, 2, 6, 1, 4], \"Freq\": [0.16216684909523868, 0.0011924033021708726, 0.83348990821744, 0.0011924033021708726, 0.16453667995385649, 0.0011922947822743224, 0.8310294632452028, 0.0011922947822743224, 0.1234826102889908, 0.8513852058441175, 0.00707831217204266, 0.0025210426914124544, 0.014641440246280023, 0.0008241870337309947, 9.696318043894055e-05, 0.9854842125594698, 0.9742899173210552, 0.9829725557527874, 0.13220074770333914, 0.8478105586088279, 0.008205563650552085, 0.0035166701359508937, 0.006772846187757277, 0.0014001557022767447, 6.512352103612766e-05, 0.1372201838252553, 0.770080939250278, 0.006549385217217728, 0.08450819635119648, 0.00021127049087799122, 0.0012676229452679474, 0.00010563524543899561, 0.20772061772291112, 0.0002455326450625427, 0.11589140846952016, 0.008839175222251538, 0.6671121966349285, 0.07060872892473032, 0.9243324513782878, 0.556736617613578, 0.022598165290588033, 0.10169174380764615, 0.11299082645294017, 0.09552860781930396, 0.11093644779015943, 0.9822470533849494, 0.0930871766015021, 0.9061454847302471, 0.010163705962854104, 0.9884204048875617, 0.2358281643746328, 0.04491965035707291, 0.07299443183024348, 0.6288751049990208, 0.011229912589268228, 0.995215138639055, 0.09083059915782986, 0.030276866385943287, 0.8628906919993837, 0.9832421531975166, 0.016003941455910747, 0.36103076233587916, 0.002390932200899862, 0.016736525406299035, 0.14584686425489157, 0.004781864401799724, 0.4686227113763729, 0.966653995377465, 0.030359187551133558, 0.020239458367422372, 0.9284851526055014, 0.015179593775566779, 0.0075897968877833896, 0.11789856863545682, 0.8645895033266834, 0.02040742881167532, 0.000136962609474331, 0.979419620350941, 0.000136962609474331, 0.007163605479213856, 0.9885775561315121, 0.01315724977448815, 0.9841622831317136, 0.0043190808018743814, 0.9933885844311078, 0.003280901352963859, 0.016404506764819294, 0.928495082888772, 0.04921352029445788, 0.9936823667623863, 0.16904260202245502, 0.002113032525280688, 0.40570224485389206, 0.07289962212218372, 0.3497068829339538, 0.014668272984511255, 0.9827742899622541, 0.45467911718449466, 0.0004613689672090255, 0.03298788115544533, 0.5058910725446965, 0.0011534224180225637, 0.004844374155694768, 0.990025796783622, 0.9768010416906421, 0.973820918643866, 0.9223789690281285, 0.9952775428687277, 0.9844704257732568, 0.0009924097034004606, 0.0009924097034004606, 0.0009924097034004606, 0.011908916440805526, 0.0009924097034004606, 0.3560839124582235, 0.638623696591742, 0.004189222499508512, 0.00023273458330602844, 0.00046546916661205687, 0.00046546916661205687, 0.00023273458330602844, 0.014814465918956023, 0.9777547506510975, 0.9897523043565692, 0.8176489378073681, 0.17864598641169388, 0.006735803309052461, 0.9699556765035544, 0.020207409927157385, 0.015540111358295614, 0.9790270155726237, 0.9780364886529547, 0.9888543261136133, 0.0015821669217817814, 0.007910834608908906, 0.9941535387677798, 0.0019493206642505485, 0.03526381166549809, 0.960938867884823, 0.642224575721716, 0.3548019849731857, 0.0018847382999903624, 0.0002355922874987953, 0.0007067768624963858, 0.02092859694512686, 0.9766678574392534, 0.1417679583175914, 0.003335716666296268, 0.8180845124091597, 0.02751966249694421, 0.002501787499722201, 0.007505362499166603, 0.004854526601184629, 0.9854689000404796, 0.004854526601184629, 0.029844668659067233, 0.07575954351917066, 0.004591487486010343, 0.0022957437430051715, 0.828763491224867, 0.05739359357512929, 0.013537468443134068, 0.01804995792417876, 0.20306202664701103, 0.7671232117775972, 0.9759732214793992, 0.25662542074864686, 0.008103960655220427, 0.6996419365673635, 0.03511716283928852, 0.5307816340775632, 0.08465631125794044, 0.014781260695830871, 0.0900313151473335, 0.2795002022484383, 0.997062046083311, 0.004597933105540831, 0.994686195165333, 0.0015326443685136101, 0.9730323359701889, 0.974065472873888, 0.996108210302838, 0.08827290605188119, 0.0037562938745481357, 0.9071449707033747, 0.008789370810493566, 0.008789370810493566, 0.9756201599647859, 0.3455432030832247, 0.00047595482518350513, 0.5073678436456165, 0.14231049272986804, 0.0009519096503670103, 0.0014278644755505155, 0.0019038193007340205, 0.7955013622543061, 0.18098476659815987, 0.02243160650098112, 0.00010942247073649327, 0.0005471123536824663, 0.00021884494147298653, 0.00021884494147298653, 0.9218908672341253, 0.0006717689098135476, 0.03314059955080168, 0.04187359537837781, 0.000895691879751397, 0.0013435378196270953, 0.09723402001806358, 0.1325918454791776, 0.76903270377923, 0.015946122032875123, 0.005315374010958374, 0.9727134440053825, 0.005315374010958374, 0.042936658368247976, 0.0306690416916057, 0.11040855008978052, 0.8219303173350327, 0.09843319908031058, 0.01312442654404141, 0.06562213272020705, 0.8202766590025882, 0.02744250742672836, 0.037128098283220716, 0.9120598056530307, 0.01614265142748727, 0.0016142651427487268, 0.004842795428246181, 0.03683538040865396, 0.920884510216349, 0.9621734592852509, 0.9855943092435799, 0.009951309811462314, 0.0024878274528655786, 0.0004146379088109297, 0.0012439137264327893, 0.1446106375422398, 0.0037079650651856357, 0.4681305894796865, 0.02595575545629945, 0.35596464625782104, 0.8495646710059732, 0.03398714887364479, 0.050296418299588426, 0.02896891212720059, 0.01733572694226177, 0.019958896150630328, 0.027336698031044562, 0.027336698031044562, 0.9294477330555151, 0.015534506943268824, 0.9786739374259359, 0.9853568615887587, 0.9831766483798744, 0.04032751611890538, 0.9275328707348237, 0.0810115376996999, 0.9181307605965988, 0.019264313170151096, 0.03852862634030219, 0.9246870321672527, 0.9853475817195023, 0.002943532731051538, 0.0007358831827628845, 0.010302364558680383, 0.947044257227451, 0.8256583021881896, 0.07367889480102367, 0.08731930730275597, 0.008886935417795281, 0.0019633927085826786, 0.0018600562502362218, 0.0007233552084251974, 0.04045506429071106, 0.9709215429770655, 0.02069208282406396, 0.03103812423609594, 0.03103812423609594, 0.9104516442588143, 0.006819040025239398, 0.03161554920792812, 0.921190316136886, 0.02851598556009203, 0.010538516402642707, 0.001859738188701654, 0.012049348194457523, 0.9759972037510594, 0.4402858864124631, 0.3593482255911082, 0.1989717495191642, 0.0011241341780743738, 0.000374711392691458, 0.23882416560797656, 0.0008726827001509496, 0.08872274118201322, 0.6286224383420674, 0.03490730800603799, 0.008145038534742197, 0.9840941188480236, 0.9944958757302526, 0.004658060307870035, 0.013858095147046761, 0.013858095147046761, 0.9700666602932733, 0.5236134790856412, 0.0014791341217108506, 0.0872689131809402, 0.07395670608554253, 0.3032224949507244, 0.010353938851975955, 0.10210624185634774, 0.8679030557789558, 0.9911043061997873, 0.0034473193259123036, 0.0017236596629561518, 0.0017236596629561518, 0.0017236596629561518, 0.9910563706346915, 0.003711821612864013, 0.49366493283651686, 0.00458985991273621, 0.4549061157956333, 0.040288770345128955, 0.002549922173742339, 0.002549922173742339, 0.002549922173742339, 0.9549035515002005, 0.9823710658578543, 0.03146373703138917, 0.9439121109416752, 0.9799677785599381, 0.47561061168927127, 0.018359968465946133, 0.034971368506564064, 0.24130244269529205, 0.22731389529266643, 0.0017485684253282033, 0.0527939306442152, 0.1055878612884304, 0.8447028903074432, 0.9237013202429506, 0.01803697658754541, 0.049254820681374004, 0.006590433753141592, 0.0006937298687517466, 0.0013874597375034931, 0.0003468649343758733, 0.8525438566816201, 0.030397998173963468, 0.09099400769179854, 0.012399183465695626, 0.010399315164776976, 0.00019998683009186493, 0.003199789281469839, 0.2344367646530461, 0.0020210065918366046, 0.7639404917142365, 0.018792194898184376, 0.0008170519520949729, 0.9706577190888278, 0.009804623425139675, 0.9731960427477091, 0.03178085533322215, 0.9534256599966644, 0.9879728327837157, 0.04543986841851086, 0.9507418622949965, 0.009859187038975236, 0.003286395679658412, 0.059155122233851415, 0.9267635816636722, 0.028943272141497316, 0.9703612817965153, 0.173197945658999, 0.8165046009638524, 0.03200624540835513, 0.9601873622506539, 0.7540280359887876, 0.1678563899428651, 0.07607586081250144, 0.0006118701942024244, 0.001427697119805657, 0.9754717809842971, 0.0018267261816185339, 0.012787083271329738, 0.010046993998901937, 0.023192121402483373, 0.9508769775018182, 0.1785539564237563, 0.7349280846401809, 0.016426963990985578, 0.06427942431255226, 0.004999510779865176, 0.9790371751866698, 0.005915956616567266, 0.9938807115833007, 0.0011260096432083744, 0.9976445438826198, 0.005855121374689326, 0.9924430730098408, 0.011803061314315957, 0.011803061314315957, 0.011803061314315957, 0.9324418438309605, 0.03540918394294787, 0.9223751109029145, 0.9685412674245764, 0.9793474419398006, 0.001140101795040513, 0.01596142513056718, 0.002280203590081026, 0.001140101795040513, 0.001140101795040513, 0.9685030715602249, 0.3893776627415426, 0.016608525898928358, 0.5677655335078101, 0.014148003543531565, 0.011072350599285572, 0.021748275927139935, 0.00043065892925029574, 0.9752271452872947, 0.00021532946462514787, 0.0021532946462514786, 0.00021532946462514787, 0.05996984503300296, 0.9401724092270787, 0.3518038575021475, 0.0034763227025903904, 0.6160043828990172, 0.0027810581620723125, 0.024334258918132734, 0.0013905290810361562, 0.009277253241649965, 0.009277253241649965, 0.9741115903732462, 0.9932301168772002, 0.14545810768900916, 0.8545663826729288, 0.9494371640633129, 0.4347623609936074, 0.5560750843031139, 0.009115984988575639, 0.0007012296145058183, 0.9963415541761818, 0.0019729535726261023, 0.0019729535726261023, 0.977922653199636, 0.4338462322761787, 0.012950633799288916, 0.12303102109324471, 0.0679908274462668, 0.35938008793026743, 0.9874932676153473, 0.1045375612593723, 0.006149268309374841, 0.891643904859352, 0.008303870943895033, 0.03321548377558013, 0.9549451585479288, 0.07139012703281289, 0.9280716514265676, 0.10771854998019705, 0.8617483998415764, 0.019560281939533367, 0.09780140969766683, 0.8802126872790015, 0.9448045418054314, 0.13516628410179007, 0.8380309614310985, 0.9808069639301906, 0.9696267731410433, 0.9910893062436377, 0.9365804616147189, 0.9758777052957238, 0.8325111922958044, 0.019293898440780475, 0.04953468961391867, 0.0786807915138211, 0.013409943597138204, 0.006431299480260159, 0.00013683615915447146, 0.06513805107913229, 0.021712683693044094, 0.8902200314148079, 0.04268291885243321, 0.053353648565541506, 0.13871948627040792, 0.18140240512284111, 0.5868901342209566, 0.7269822530597754, 0.004405953048847124, 0.038001345046306444, 0.03634911265298877, 0.19386193414927344, 0.959817401196104, 0.9710831187963173, 0.007187292820038532, 0.010381645184500101, 0.008784469002269316, 0.00319435236446157, 0.6796571465847212, 0.3165907339731285, 0.0031778241804078142, 0.0003972280225509768, 0.319678649094949, 0.03941243618978823, 0.0043791595766431365, 0.6349781386132548, 0.35879929853438286, 0.10932166127219478, 0.01401559759899933, 0.5157739916431754, 0.006392723389877979, 0.019178170169633937, 0.9716939552614529, 0.8611051454127081, 0.018337838888840222, 0.029937074330576508, 0.08605528008678635, 0.0024303159973161743, 0.001988440361440506, 0.00022093781793783402, 0.9045195308499785, 0.025078710198310213, 0.051843384107431195, 0.01664889164425636, 0.000632236391554039, 0.0010537273192567317, 0.00021074546385134633, 0.020095784545914777, 0.9766551289314581, 0.07300171780431099, 0.7355616123067285, 0.17095338979490546, 0.017557375168125427, 0.0018481447545395187, 0.02351791643782109, 0.9407166575128436, 0.001136148367042991, 0.9952659695296602, 0.001136148367042991, 0.001136148367042991, 0.7204559141936214, 0.0028087949871096352, 0.1371628218705205, 0.0014043974935548176, 0.13809908686622374, 0.028740714523381405, 0.9771842937949677, 0.08721324532216321, 0.002491807009204663, 0.909509558359702, 0.9891904049648891, 0.8470786391465646, 0.023644902697740812, 0.12070722827196684, 0.0008275715944209284, 0.0004728980539548162, 0.006975246295833539, 0.0003546735404661122, 0.9957408289138152, 0.002508163297012129, 0.03931405967976335, 0.009828514919940837, 0.009828514919940837, 0.49142574599704186, 0.45211168631727855, 0.07504143444412698, 0.042523479518338625, 0.8779847829962857, 0.005002762296275132, 0.9937757705127019, 0.9892548522984045, 0.8543424163265702, 0.04594956462645103, 0.06229971645672195, 0.02367953023694409, 0.0031948572541908695, 0.010054403711718323, 0.0005637983389748593, 0.030771485632520808, 0.9539160546081451, 0.9675551204847872, 0.009622626757680629, 0.021650910204781416, 0.00048113133788403145, 0.00048113133788403145, 0.5175386915983665, 0.00217149101369944, 0.08830730122377722, 0.39014455212799937, 0.0007238303378998132, 0.0007238303378998132, 0.08446045697279612, 0.0016560873916234534, 0.9125041527845228, 0.20815921640758492, 0.06389045256074388, 0.6141727375194089, 0.1112930463961345, 0.9954407285549675, 0.9597013078816422, 0.015922227058329495, 0.9712558505580993, 0.9960250838728657, 0.021566249476916616, 0.021566249476916616, 0.9489149769843311, 0.017696613998468093, 0.08405891649272344, 0.8951537247558444, 0.0014747178332056745, 0.0007373589166028373, 0.0007373589166028373, 0.9824231380161906, 0.9497625633122123, 0.011400317557132379, 0.9690269923562522, 0.007600211704754919, 0.011400317557132379, 0.0038001058523774596, 0.0064318434324098575, 0.9294013759832244, 0.019295530297229573, 0.038591060594459145, 0.0032159217162049288, 0.9625599098686487, 0.2864038859276286, 0.0027019234521474395, 0.6681470708096026, 0.015439562583699655, 0.0007719781291849827, 0.026247256392289413, 0.00038598906459249134, 0.993042945655062, 0.016852001059273942, 0.016852001059273942, 0.016852001059273942, 0.9268600582600668, 0.033704002118547884, 0.10213713973534728, 0.01401882310093002, 0.8311159409837082, 0.05006722536046435, 0.002002689014418574, 0.017133553363511266, 0.9830376242314588, 0.00507348664220819, 0.06322344892597898, 0.895275258248122, 0.035514406495457326, 0.0007805364064935676, 0.004843450842245189, 0.024217254211225947, 0.019373803368980758, 0.9493163650800571, 0.001638209817154293, 0.039317035611703036, 0.9567145332181072, 0.001638209817154293, 0.3064822945299368, 0.16171043346959535, 0.09739679135320964, 0.41737701077177064, 0.014291920470307935, 0.002911317132840505, 0.9280394798550325, 0.04867618939910317, 0.015560421201352651, 0.005186807067117551, 0.0007979703180180847, 0.0015959406360361694, 0.9892098958071915, 0.026812132166647358, 0.9652367579993049, 0.9969551231442063, 0.9880386230172543, 0.9694909910672388, 0.9560743455189368, 0.6157268945898441, 0.3590193787622519, 0.00037114339637724173, 0.00408257736014966, 0.02066031573166646, 0.0001237144654590806, 0.0001237144654590806, 0.14996267962234539, 0.0019731931529255974, 0.8464998626050811, 0.28763080522342555, 0.008716085006770471, 0.7021290699898436, 0.0009684538896411636, 0.02781698822759004, 0.009272329409196681, 0.9550499291472582, 0.03584038456610064, 0.011946794855366882, 0.03584038456610064, 0.907956409007883, 0.9970427549731282, 0.28338351923542526, 0.7084587980885632, 0.9520561464697395, 0.9813346503736594, 0.13517495126872325, 0.8646665877245147, 0.041173170123719294, 0.014704703615614031, 0.273507487250421, 0.6675935441488771, 0.39896265470684955, 0.0029922199103013716, 0.22242167999906862, 0.02593257255594522, 0.3480949162317262, 0.0009974066367671238, 0.28694087810813057, 0.0019313328334201094, 0.008828950095634787, 0.5555340942987701, 0.14650539064943974, 0.00013795234524429355, 0.008538096621825362, 0.017076193243650725, 0.9733430148880913, 0.9694759685889431, 0.1203013443904718, 0.004296476585373993, 0.8721847468309205, 0.03333074924367408, 0.9665917280665483, 0.4824280966557703, 0.001178090590123981, 0.25446756746677995, 0.2597689751223378, 0.0017671358851859718, 0.3973644055875246, 0.5946308207129228, 0.0018877168911521358, 0.0037754337823042716, 0.0028315753367282037, 0.9182837046193882, 0.023724263079186667, 0.05363746435294377, 0.002578724247737681, 0.0007736172743213044, 0.0010314896990950724, 0.02362239589815902, 0.9744238307990596, 0.0019685329915132515, 0.18226103515083975, 0.004418449336990054, 0.7157887925923888, 0.0972058854137812, 0.9863767740075647, 0.11528386807428227, 0.17543197315651649, 0.7100817961097096, 0.9829969342046404, 0.008566772489201992, 0.985178836258229, 0.014446920575430797, 0.9823905991292942, 0.012489791982853314, 0.9866935666454119, 0.9887726881473412, 0.008833542894340823, 0.9893568041661722, 0.014003615490903058, 0.9802530843632141, 0.9964590269779968, 0.03311809310417917, 0.9273066069170168, 0.11770884547491775, 0.8816623327729134, 0.45270622100335167, 0.4857039890304502, 0.05846972931117458, 0.002894541055008642, 0.002654950968757422, 0.002654950968757422, 0.909320706799417, 0.06637377421893555, 0.01858465678130195, 0.27670133721096374, 0.0014411527979737695, 0.29903920557955715, 0.42225776980631446, 0.8478296645886235, 0.06798520586042751, 0.07869437988091964, 0.003489506141508669, 0.0008422945858814028, 0.0008422945858814028, 0.0002406555959661151, 0.015208762157016435, 0.9733607780490519, 0.008735814718470746, 0.9900590014266845, 0.9916958064699021, 0.001549524697609222, 0.003099049395218444, 0.001549524697609222, 0.001549524697609222, 0.6650519308251943, 0.2777862554462263, 0.04994109902776045, 0.006042695256027955, 0.0005331789931789372, 0.0003554526621192915, 0.00017772633105964575, 0.011315972843350475, 0.9731736645281409, 0.9888432082909616, 0.005765849611026015, 0.5968932413918545, 0.005684697537065281, 0.051162277833587524, 0.02463368932728288, 0.0094744958951088, 0.3126583645385904, 0.01672393077799993, 0.9783499505129959, 0.9932342848655492, 0.0039336011281803935, 0.017406649955009495, 0.9805746141322015, 0.008280963149746112, 0.9771536516700413, 0.008280963149746112, 0.994843473925407, 0.0035530124068764535, 0.011269859109834439, 0.9842343622588743, 0.0018783098516390732, 0.0018783098516390732, 0.22554568314221474, 0.7701064316297243, 0.0040638861827426076, 0.9888756646626656, 0.0015746427781252637, 0.007873213890626318, 0.9671717397877233, 0.02755965776777128, 0.004306196526214262, 0.0008612393052428525, 0.9869034582836914, 0.8807345335105754, 0.021427451655511867, 0.010382373482567606, 0.07444382688564433, 0.011265979736403147, 0.001988114071129967, 0.3615833643569356, 0.034062200990146105, 0.6039490252483598, 0.9616594815063968, 0.43438928512726527, 0.0013724779940829867, 0.0102935849556224, 0.5531086316154437, 0.00496197547727328, 0.6003990327500669, 0.39199606270458914, 0.9887555239337803, 0.025216921209709475, 0.07565076362912843, 0.8825922423398317, 0.01354621205333039, 0.01354621205333039, 0.01354621205333039, 0.9617810557864578, 0.9708246108347105, 0.039119140728983946, 0.9388593774956147, 0.5205981176582485, 0.4748047647160878, 0.9463668402387185, 0.022090304902815144, 0.0073634349676050485, 0.014726869935210097, 0.9425196758534462, 0.014726869935210097, 0.04830193281827028, 0.948367217529453, 0.002356191844793672, 0.5888560739278067, 0.4031267599127863, 0.0029956340970164583, 0.0004279477281452084, 0.0004279477281452084, 0.004279477281452083, 0.6712683361901942, 0.13229599243666393, 0.14315496985054038, 0.02783568858204952, 0.021259124796180678, 0.004129470284150204, 0.014918954919110616, 0.9771915472017453, 0.04435729834045163, 0.9315032651494842, 0.996879833753402, 0.005462237524664885, 0.9668160418656847, 0.02184895009865954, 0.9857402945254333, 0.9023943208433044, 0.03769628551480782, 0.056860318932950335, 0.001474156416780194, 0.00021059377382574198, 0.00105296886912871, 0.00021059377382574198, 0.7234684679020739, 0.001633111665693169, 0.019597339988318026, 0.25258793762721016, 0.002721852776155282, 0.023921110939862107, 0.023921110939862107, 0.9329233266546222, 0.7271863896294612, 0.06664827309447821, 0.039668869234620825, 0.04241253742375887, 0.11111856166009061, 0.01108899226443291, 0.0018291121260920265, 0.026013517399983598, 0.9625001437993931, 0.8916003457991941, 0.02115453780533196, 0.07201544784793858, 0.011948017483862537, 0.001964057668580143, 0.0010638645704809109, 0.00028642507666793755, 0.29637828828430984, 0.00790342102091493, 0.023710263062744787, 0.671790786777769, 0.01873331957120511, 0.9741326177026657, 0.006254875023659561, 0.9913976912500404, 0.0015637187559148903, 0.9820166524081486, 0.055527014407828576, 0.9439592449330858, 0.005760012038113792, 0.011520024076227584, 0.005760012038113792, 0.005760012038113792, 0.9216019260982067, 0.046080096304910334, 0.9017451297226645, 0.048246694902310656, 0.009361299010896098, 0.008101124144044701, 0.032404496576178804, 0.9961534121295198, 0.9767427129019501, 0.9635615916887829, 0.012055314306409432, 0.984517335023437, 0.8837763227950155, 0.04752293510459913, 0.06536751547984386, 0.0020662145697651797, 0.0007513507526418835, 0.00037567537632094176, 0.00018783768816047088, 0.005776825396310941, 0.005776825396310941, 0.005776825396310941, 0.005776825396310941, 0.9416225395986833, 0.03466095237786564, 0.9901188253816355, 0.9847837174679974, 0.01012631071946527, 0.003797366519799476, 0.09185954140203482, 0.001059917785408094, 0.26109308113886054, 0.30278318069824556, 0.34129352690140635, 0.0017665296423468237, 0.9495846105022472, 0.4109600121538959, 0.03924286588206963, 0.5483100427411396, 0.0010900796078352675, 0.9734345102006488, 0.6116215672718225, 0.33748470489680815, 0.04334326067280631, 0.00666819394966251, 0.00074091043885139, 0.9883914098542771, 0.4441181872817071, 0.03997063685535364, 0.06484125534312923, 0.39260047755702904, 0.01687649111670487, 0.04174710960448046, 0.008627660478947682, 0.9835532946000357, 0.5061678869312671, 0.09567807618822732, 0.3931288694992082, 0.0027005908601515777, 0.0019289934715368412, 0.0023318287119393198, 0.03031377325521116, 0.9583816006070605, 0.00699548613581796, 0.0023318287119393198, 0.012861571172843622, 0.9806948019293261, 0.0032153927932109055, 0.8576606183999392, 0.008190483395360947, 0.007020414338880812, 0.12753752715633476, 0.20473098378068, 0.7827949379849529, 0.048475961236179976, 0.9465569272959353, 0.0025513663808515775, 0.9420525994656367, 0.03462528127814871, 0.9596149382801215, 0.10261012122408328, 0.08550843435340273, 0.03420337374136109, 0.7695759091806246, 0.9575151877744851, 0.016970147056684343, 0.014848878674598802, 0.9482069667922377, 0.019091415438769885, 0.006174448148609727, 0.01852334444582918, 0.9755628074803369, 0.9495715093005596, 0.7409332324538216, 0.0019162066356564352, 0.0977265384184782, 0.012774710904376235, 0.0006387355452188117, 0.1456317043098891, 0.9906935205889983, 0.9853863054796786, 0.14229392426352014, 0.7767848652418394, 0.08164405490529843, 0.4008212640438594, 0.5443251733928954, 0.05024540062088266, 0.0019032348720031311, 0.0003806469744006262, 0.0003806469744006262, 0.0019032348720031311, 0.956221399778602, 0.7159415449171357, 0.019922588875728463, 0.00042388486969635033, 0.11995941812406714, 0.1373386977816175, 0.0063582730454452546, 0.990842677952306, 0.9961591868269771, 0.012856658244944783, 0.012856658244944783, 0.9642493683708587, 0.05446893701123144, 0.9411021894718321, 0.7167399628248543, 0.04785116278535788, 0.006752004564805099, 0.06473117419737062, 0.15691071477775329, 0.006898787272735645, 0.00029356541586109125, 0.0009965007215361505, 0.0014947510823042256, 0.9960024711753823, 0.0014947510823042256, 0.16982088466131018, 0.026454509670857364, 0.002560113839115229, 0.8013156316430665, 0.0008533712797050762, 0.601107254601481, 0.15874183101529116, 0.04478267251119453, 0.194786421085277, 0.00036408676838369533, 0.00036408676838369533, 0.14648019265122378, 0.7570886361748644, 0.0921673122299835, 0.003291689722499411, 0.014013043887972358, 0.014013043887972358, 0.9669000282700927, 0.4162030125108363, 0.0018580491629948048, 0.578317801982133, 0.0032515860352409086, 0.9288405218487477, 0.017956495149975788, 0.05060466814993177, 0.001632408649997799, 0.0003264817299995598, 0.0006529634599991196, 0.45563684247606384, 0.28575742713313634, 0.003000077975151038, 0.2535065889002627, 0.0022500584813632783, 0.028064094568058324, 0.9682112625980122, 0.0835038798811465, 0.9154499424007173, 0.9711756156538167, 0.011123597359911558, 0.015401904036800617, 0.0008556613353778121, 0.04108570880554917, 0.005135713600693646, 0.9501070161283245, 0.980076071856127, 0.005614183717670122, 0.011228367435340244, 0.002406078736144338, 0.0008020262453814459, 0.05772759221965468, 0.9153946766259528, 0.02474039666556629, 0.010743449868242817, 0.9776539380100964, 0.010743449868242817, 0.9512745758205575, 0.8297971463961037, 0.0004927536498789215, 0.05321739418692351, 0.0068985510983049, 0.01034782664745735, 0.09953623727554213, 0.501763576140257, 0.1588628623419845, 0.001736206145814038, 0.02517498911430355, 0.3107809001007128, 0.000868103072907019, 0.7055825888773958, 0.22700878342845834, 0.06248198486191942, 0.0030013180501358675, 0.0016370825728013823, 0.7576772576395548, 0.16800011152401895, 0.04770640642761903, 0.01503671313704999, 0.007572445464701433, 0.0036780449399978392, 0.00032453337705863286, 0.9559873877759768, 0.9864564670776431, 0.40303279859773034, 0.4274711690892428, 0.1670623031960771, 0.002003145122255121, 0.0004006290244510242, 0.9777216046825151, 0.7960179430597004, 0.005394119652873091, 0.05760149200746622, 0.13851328680056257, 0.0019264713045975324, 0.0005779413913792597, 0.994037932248201, 0.009733862797005203, 0.9879870738960281, 0.9732071580433884, 0.0166835512807438, 0.003707455840165289, 0.006179093066942149, 0.0006179093066942149, 0.022799804797830753, 0.9575918015088916, 0.4984501095124109, 0.001650497051365599, 0.001650497051365599, 0.4934986183583141, 0.003300994102731198, 0.12126251870133116, 0.5716661595919897, 0.3031562967533279, 0.4236627535181483, 0.04875211588296358, 0.518420387206162, 0.005149871396087702, 0.0037765723571309816, 0.00034332475973918014, 0.05665438944575312, 0.8830390947563372, 0.010141835147696546, 0.04091705904415503, 0.009092679787590006, 0.9716564137664959, 0.7639303066121358, 0.014690967434848766, 0.03264659429966392, 0.18935024693805075, 0.9886260184006327, 0.7247457313189403, 0.07765132835560073, 0.005176755223706716, 0.1863631880534418, 0.019441703175007315, 0.9785657264753682, 0.9960743102833237, 0.989455072897082, 0.00683955119514112, 0.0022798503983803733, 0.9935595235958977, 0.3095224183454313, 0.017195689908079518, 0.2063482788969542, 0.46428362751814695, 0.950328141962781, 0.3414720008618317, 0.3932101828105941, 0.26041551580877065, 0.003880363646157179, 0.00043115151623968653, 0.00043115151623968653, 0.00043115151623968653, 0.9918245528460381, 0.007374160244208461, 0.9322290016452328, 0.03951186583299378, 0.007902373166598755, 0.023707119499796266, 0.01580474633319751, 0.04741423899959253, 0.869261048325863, 0.004873969825296141, 0.9942898443604128, 0.987831346922277, 0.014354506974971508, 0.024794148411314422, 0.9591420569640053, 0.0013049551795428643, 0.21537464673721674, 0.0019403121327677183, 0.25806151365810653, 0.3201515019066735, 0.20567308607337814, 0.009030150660584522, 0.30702512245987373, 0.6824213856356016, 0.04637632043346558, 0.9507145688860444, 0.44274435744352986, 0.0827104843575825, 0.0048653226092695585, 0.4719362930991472, 0.9703896798725923, 0.02031416111871519, 0.9750797336983292, 0.6244908949388783, 0.008921298499126833, 0.152777236797547, 0.03010938243455306, 0.0011151623123908541, 0.18177145691970922, 0.9942457196827819, 0.0038093705734972487, 0.995682653774762, 0.9669892234746956, 0.03121417802742797, 0.000650295375571416, 0.000650295375571416, 0.26405742764685536, 0.23237053632923274, 0.010562297105874216, 0.4964279639760881, 0.0036956604785031775, 0.9904370082388516, 0.004927547304670904, 0.7803323537842092, 0.16234730284219254, 0.029073816366817804, 0.01653434594906814, 0.007878782297878107, 0.002108406530418085, 0.0018864690009003917, 0.006454598521471579, 0.9875535737851515, 0.14874443300113038, 0.006197684708380433, 0.8204185132718598, 0.021691896479331514, 0.0015494211770951082, 0.0007747105885475541, 0.9757095755025186, 0.004222284262077127, 0.13089081212439094, 0.8613459894637339, 0.27139541990756155, 0.6932919363093164, 0.001233615545034371, 0.033307619715928015, 0.21223609399645965, 0.010302723009536876, 0.04739252584386963, 0.1421775775316089, 0.5872552115436019, 0.004686491121422742, 0.9935361177416212, 0.9961033671620496, 0.5200100950048706, 0.027466251843832674, 0.009771647290594317, 0.03116363189973323, 0.41093738335580426, 0.000528197150842936, 0.5064691778173117, 0.08463192527495547, 0.40543981702033355, 0.0005289495329684717, 0.0026447476648423585, 0.037286453988362896, 0.9632333946993749, 0.43530144782572733, 0.01600372969947527, 0.022405221579265378, 0.042409883703609465, 0.48331263692415316, 0.014229157821230477, 0.9675827318436724, 0.010550851753478238, 0.9812292130734761, 0.010966826236828398, 0.9431470563672422, 0.032900478710485195, 0.0006750707568757417, 0.9991047201760977, 0.026163713567820896, 0.9418936884415522, 0.008690640525554058, 0.9820423793876085, 0.004591127978967909, 0.015303759929893029, 0.9794406355131539, 0.9702264036495888, 0.3737003523515339, 0.13177312699998991, 0.4671254404394174, 0.024964830701169966, 0.0012868469433592765, 0.000772108166015566, 0.9595586468623905, 0.9619499475945221, 0.022134221012260615, 0.9759179264496727, 0.25527692085351295, 0.10499292712523516, 0.026762902992706998, 0.6093707142954825, 0.017871256306286998, 0.9650478405394979, 0.9461535676560288, 0.01203624560624373, 0.038725311950523304, 0.001569945079075269, 0.000523315026358423, 0.000523315026358423, 0.000523315026358423, 0.9946417127660506, 0.9782381880197814, 0.03443050155844643, 0.9640540436365, 0.901238162586415, 0.07024293662104793, 0.022350025288515252, 0.0036185755229024693, 0.00021285738370014525, 0.0019157164533013073, 0.00021285738370014525, 0.006884507035488313, 0.991369013110317, 0.9928728256138583, 0.0027201995222297486, 0.0027201995222297486, 0.22538638505438666, 0.047758453338661855, 0.6669426115364007, 0.0326768364948739, 0.0008378676024326641, 0.025973895675412587, 0.0008378676024326641, 0.7280153506104251, 0.001473715284636488, 0.06779090309327844, 0.002947430569272976, 0.19895156342592588, 0.22402581875009578, 0.05927140496078767, 0.7142706597816955, 0.001004600084081147, 0.001004600084081147, 0.009356483709018733, 0.9894481522287311, 0.9664041714557767, 0.969180781640996, 0.7205775902518397, 0.029240829749350015, 0.15455867153227865, 0.09398838133719647, 0.8060021354529887, 0.05954272407186637, 0.1054117536804649, 0.02548279422699918, 0.0013673694463267852, 0.0014916757596292202, 0.0008701441931170451, 0.8875130404563943, 0.04509095022926794, 0.030603897946772218, 0.0018108815353119656, 0.0315093387144282, 0.0036217630706239312, 0.9982518800080831, 0.9829773729260811, 0.9904875874934796, 0.9312457543880623, 0.9774113345365485, 0.9857386959103345, 0.003992622750312513, 0.926288478072503, 0.05789302987953144, 0.011977868250937539, 0.6317320117477427, 0.0011291010040174133, 0.19081806967894285, 0.011291010040174134, 0.007903707028121893, 0.15638048905641175, 0.8906877995362081, 0.023184570062833882, 0.07605873344354136, 0.006227030808243153, 0.002557530510528438, 0.0008895758297490219, 0.00033359093615588316, 0.8773156988846313, 0.02203450792126726, 0.04941719737682269, 0.007059599625260384, 0.0021392726137152676, 0.04214367049019078, 0.993658719931466, 0.006308944253533118, 0.025400989173346433, 0.9398365994138179, 0.9893295317426656, 0.008210203582926685, 0.7455276427693096, 0.20818965581645815, 0.04137102134814232, 0.0007279358594981054, 0.0003639679297490527, 0.003033066081242106, 0.0009705811459974739, 0.6042755394754676, 0.1178602970679569, 0.22726749905931856, 0.0033812380306381083, 0.006762476061276217, 0.037918169343584496, 0.002415170021884363, 0.9509952399198199, 0.00649882851881426, 0.04159250252041126, 0.0008665104691752346, 0.9941166444586675, 0.004074248542863391, 0.96979951591687, 0.06746080040824873, 0.033730400204124364, 0.9107208055113579, 0.9703371337033317, 0.6874884347521112, 0.0019128782269118285, 0.11439011796932735, 0.1786628263935648, 0.016450752751441727, 0.0007651512907647315, 0.16038171649810115, 0.006546192510126577, 0.006546192510126577, 0.013092385020253155, 0.8117278712556957, 0.40374313884618884, 0.03410458254758762, 0.13090647846548786, 0.4254460550128355, 0.005511851724862646, 0.9727277461959313, 0.9880691520774575, 0.9868636697884566, 0.9862818492776931, 0.9900675710507008, 0.002462854654354977, 0.0073885639630649315, 0.7462338653138241, 0.11835139699160721, 0.004852676869815329, 0.058771308756652325, 0.06874625565571717, 0.00269593159434185, 0.00053918631886837, 0.8290620273138187, 0.07019293659317707, 0.0965357403029708, 0.0026179183810975133, 0.00032723979763718916, 0.0008180994940929729, 0.00032723979763718916, 0.9058638211446313, 0.03572106257132249, 0.05562811306679909, 0.002046519209815351, 0.0003720944017846093, 0.0003720944017846093, 0.5475978381558156, 0.0005363348072045207, 0.062214837635724406, 0.0037543436504316454, 0.3856247263800504, 0.0005363348072045207, 0.9942507382544512, 0.003198010197997495, 0.01918806118798497, 0.943413008409261, 0.03198010197997495, 0.003198010197997495, 0.01334218990241581, 0.07077161600411865, 0.9124897702826117, 0.001160190426297027, 0.0005800952131485135, 0.0005800952131485135, 0.8180321422758245, 0.032742409826404854, 0.12014351992753394, 0.02495288490802628, 0.0013202584607421312, 0.0019803876911131967, 0.0009241809225194919, 0.9082396046342199, 0.0331323157185306, 0.05591078277502038, 0.0017946671014204072, 0.00027610263098775496, 0.00027610263098775496, 0.00027610263098775496, 0.9475667085977484, 0.03504366077201486, 0.013878677533471231, 0.0024287685683574657, 0.0003469669383367808, 0.0006939338766735616, 0.0003469669383367808, 0.3916020094733521, 0.5798557754819963, 0.01267366503386485, 0.0008544043843054955, 0.012246462841712102, 0.0019936102300461564, 0.0008544043843054955, 0.008016234405512078, 0.9859968318779856, 0.38568419344825416, 0.002388137420732224, 0.17970734091009985, 0.3158311738918366, 0.11522763055032981, 0.001194068710366112, 0.9837657863060388, 0.00430520793800978, 0.00430520793800978, 0.03874687144208802, 0.9514509543001614, 0.00550815619892253, 0.093638655381683, 0.8978294604243724, 0.9835743565592521, 0.9446434843502234, 0.05688732451746442, 0.011377464903492883, 0.011377464903492883, 0.011377464903492883, 0.9101971922794307, 0.06524970915478434, 0.8198767802492467, 0.08510831628884913, 0.017967311216534818, 0.011347775505179885, 0.9844435645542877, 0.9780454951231434, 0.013377297770063693, 0.9832313860996814], \"Term\": [\"&#9\", \"&#9\", \"&#9\", \"&#9\", \";\", \";\", \";\", \";\", \"[\", \"[\", \"[\", \"[\", \"[\", \"[\", \"[\", \"\\\\s\", \"\\\\u\", \"\\\\w\", \"]\", \"]\", \"]\", \"]\", \"]\", \"]\", \"]\", \"_\", \"_\", \"_\", \"_\", \"_\", \"_\", \"_\", \"`\", \"`\", \"`\", \"`\", \"`\", \"a[\", \"a[\", \"action\", \"action\", \"action\", \"action\", \"action\", \"action\", \"actionresult\", \"activity\", \"activity\", \"activitythread\", \"activitythread\", \"ad\", \"ad\", \"ad\", \"ad\", \"ad\", \"addition\", \"addr\", \"addr\", \"addr\", \"address\", \"address\", \"admin\", \"admin\", \"admin\", \"admin\", \"admin\", \"admin\", \"alarmmanager\", \"align\", \"align\", \"align\", \"align\", \"align\", \"amet\", \"amet\", \"android\", \"android\", \"android\", \"android\", \"androidhttpschemas\", \"androidhttpschemas\", \"androidruntime\", \"androidruntime\", \"androidx\", \"androidx\", \"animation\", \"animation\", \"animation\", \"animation\", \"anonymous\", \"apache\", \"apache\", \"apache\", \"apache\", \"apache\", \"apk\", \"apk\", \"app\", \"app\", \"app\", \"app\", \"app\", \"app\", \"appcompat\", \"appcompatactivity\", \"appearance\", \"apus_apus\", \"architecture\", \"argument\", \"argument\", \"argument\", \"argument\", \"argument\", \"argument\", \"array\", \"array\", \"array\", \"array\", \"array\", \"array\", \"array\", \"aspnetcore\", \"aspnetcore\", \"aspx\", \"assembly\", \"assembly\", \"atg\", \"atg\", \"atg\", \"att\", \"att\", \"attributeid_attribute_id_\", \"available\", \"available\", \"available\", \"avoid\", \"avoid\", \"awt\", \"awt\", \"b\", \"b\", \"b\", \"b\", \"b\", \"b[\", \"b[\", \"background\", \"background\", \"background\", \"background\", \"background\", \"background\", \"ball\", \"ball\", \"ball\", \"bean\", \"bean\", \"bean\", \"bean\", \"bean\", \"bean\", \"beans\", \"beans\", \"beans\", \"beans\", \"bg\", \"body\", \"body\", \"body\", \"body\", \"boolean\", \"boolean\", \"boolean\", \"boolean\", \"boolean\", \"boost\", \"border\", \"border\", \"border\", \"borderleft\", \"bouncycastle\", \"btd\", \"bundle\", \"bundle\", \"bundle\", \"bundler\", \"bundler\", \"bundler\", \"button\", \"button\", \"button\", \"button\", \"button\", \"button\", \"button\", \"c\", \"c\", \"c\", \"c\", \"c\", \"c\", \"c\", \"call\", \"call\", \"call\", \"call\", \"call\", \"call\", \"camera\", \"camera\", \"camera\", \"canvas\", \"canvas\", \"canvas\", \"canvas\", \"cassandra\", \"cassandra\", \"cassandra\", \"cassandra\", \"catalina\", \"catalina\", \"catalina\", \"catalina\", \"center\", \"center\", \"center\", \"center\", \"center\", \"center\", \"cfqueryparam\", \"cfqueryparam\", \"cfset\", \"check\", \"check\", \"check\", \"check\", \"check\", \"child\", \"child\", \"child\", \"child\", \"child\", \"class\", \"class\", \"class\", \"class\", \"class\", \"class\", \"classcircledivtd\", \"classcircledivtd\", \"classcircledivtd\", \"classcol\", \"classcol\", \"classcontainer\", \"classodd\", \"classsolr\", \"classsolr\", \"classtable\", \"classtable\", \"classtxt\", \"classtxt\", \"classtxt\", \"client\", \"client\", \"client\", \"client\", \"cntrs_reper\", \"code\", \"code\", \"code\", \"code\", \"code\", \"code\", \"code\", \"coldfusion\", \"coldfusion\", \"collectionserializer\", \"collectionserializer\", \"collectionserializer\", \"collectionserializer\", \"color\", \"color\", \"color\", \"color\", \"color\", \"color\", \"colspan\", \"colspan\", \"column\", \"column\", \"column\", \"column\", \"column\", \"com\", \"com\", \"com\", \"com\", \"com\", \"com\", \"commandbehavior\", \"compiler\", \"compiler\", \"compilerservices\", \"compilerservices\", \"compilerservices\", \"configuration\", \"configuration\", \"configuration\", \"configuration\", \"configuration\", \"configuration\", \"consectetur\", \"consectetur\", \"consider\", \"consider\", \"consider\", \"consider\", \"consider\", \"construct\", \"construct\", \"content\", \"content\", \"content\", \"content\", \"content\", \"content\", \"content\", \"contentcontrol\", \"contenteditable\", \"controltemplate\", \"controltemplate\", \"convertview\", \"core\", \"core\", \"core\", \"core\", \"core\", \"core\", \"coroutine\", \"coroutine\", \"coroutine\", \"could\", \"could\", \"could\", \"could\", \"could\", \"could\", \"could\", \"create\", \"create\", \"create\", \"create\", \"create\", \"create\", \"create\", \"cs\", \"cs\", \"cs\", \"css\", \"css\", \"css\", \"css\", \"cube\", \"curl_setopt\", \"curl_setopt\", \"dalvikvm\", \"data[\", \"data[\", \"databind\", \"databind\", \"databind\", \"databind\", \"dataframe\", \"dataframe\", \"datatemplate\", \"datatemplate\", \"datetimeoffset\", \"datetimeoffset\", \"datum\", \"datum\", \"datum\", \"datum\", \"datum\", \"debug\", \"debug\", \"debug\", \"debug\", \"deck\", \"deck\", \"def\", \"def\", \"def\", \"def\", \"def\", \"deg\", \"desc\", \"desc\", \"df\", \"df\", \"df[\", \"df[\", \"dhaskin\", \"dhaskin\", \"dhaskin\", \"dhaskin\", \"dhaskin\", \"diam\", \"digitalwrite\", \"directory\", \"directory\", \"directory\", \"directory\", \"directory\", \"directory\", \"discrete\", \"display\", \"display\", \"display\", \"display\", \"display\", \"div\", \"div\", \"div\", \"div\", \"div\", \"div\", \"docker\", \"docker\", \"document\", \"document\", \"document\", \"document\", \"document\", \"document\", \"dofilter\", \"dofilter\", \"dofilter\", \"dog\", \"dolor\", \"dolor\", \"dolore\", \"double\", \"double\", \"double\", \"double\", \"download\", \"download\", \"download\", \"drawerlayout\", \"driver\", \"driver\", \"driver\", \"driver\", \"driver\", \"dtype\", \"dword\", \"dword\", \"dword\", \"eax\", \"eax\", \"eax\", \"ebp\", \"ebp\", \"ebph\", \"ebph\", \"edx\", \"edx\", \"edx\", \"eget\", \"elit\", \"elit\", \"emac\", \"emacs\", \"emulator\", \"enim\", \"entityframeworkcore\", \"error\", \"error\", \"error\", \"error\", \"error\", \"error\", \"error\", \"errorcode\", \"errorcode\", \"errorcode\", \"et\", \"et\", \"et\", \"et\", \"et\", \"exception\", \"exception\", \"exception\", \"exception\", \"exception\", \"executioncontext\", \"exist\", \"exist\", \"exist\", \"exist\", \"exist\", \"f\", \"f\", \"f\", \"f\", \"facebook\", \"facebook\", \"facebook\", \"facebook\", \"factory\", \"factory\", \"factory\", \"factory\", \"fasterxml\", \"fasterxml\", \"fasterxml\", \"file\", \"file\", \"file\", \"file\", \"file\", \"file\", \"file\", \"find\", \"find\", \"find\", \"find\", \"find\", \"find\", \"find\", \"findviewbyid\", \"findviewbyid\", \"float\", \"float\", \"float\", \"float\", \"float\", \"fmt\", \"fmt\", \"font\", \"font\", \"font\", \"font\", \"form\", \"form\", \"form\", \"form\", \"form\", \"formdata\", \"formdata\", \"fragment\", \"fragment\", \"fragment\", \"fromhours\", \"function\", \"function\", \"function\", \"function\", \"function\", \"function\", \"function\", \"gcc\", \"gcc\", \"gdx\", \"gdx\", \"gdx\", \"gdx\", \"gdx\", \"gem\", \"gem\", \"gem\", \"gem\", \"geocoordinate\", \"geoposition\", \"get\", \"get\", \"get\", \"get\", \"get\", \"get\", \"get\", \"gles\", \"gles\", \"good\", \"good\", \"good\", \"good\", \"good\", \"google\", \"google\", \"google\", \"google\", \"google\", \"google\", \"gradle\", \"gradle\", \"gradle\", \"grid\", \"grid\", \"grid\", \"grid\", \"gui\", \"guthaben\", \"hashtable\", \"hashtable\", \"haskell\", \"headval\", \"headval\", \"headval\", \"height\", \"height\", \"height\", \"height\", \"height\", \"height\", \"heightpx\", \"helm\", \"hover\", \"hover\", \"hover\", \"hover\", \"hover\", \"href\", \"href\", \"href\", \"href\", \"href\", \"hresult\", \"html\", \"html\", \"html\", \"html\", \"html\", \"html\", \"html\", \"huge\", \"hvm\", \"hvm\", \"hvm\", \"hvm\", \"hvm\", \"icon\", \"icon\", \"icon\", \"icon\", \"icon\", \"idid\", \"idid\", \"image\", \"image\", \"image\", \"image\", \"image\", \"imageview\", \"imageview\", \"imageview\", \"imageview\", \"img\", \"img\", \"img\", \"img\", \"import\", \"import\", \"import\", \"import\", \"import\", \"import\", \"include\", \"include\", \"include\", \"include\", \"include\", \"include\", \"income\", \"indexpath\", \"indexpath\", \"inflate\", \"inflater\", \"innerexception\", \"insectivore\", \"int\", \"int\", \"int\", \"int\", \"int\", \"int\", \"int\", \"intent\", \"intent\", \"intent\", \"internal\", \"internal\", \"internal\", \"internal\", \"intptr\", \"intptr\", \"intptr\", \"ion\", \"ion\", \"ion\", \"ion\", \"ip\", \"ipsum\", \"ipsum\", \"iscomplete\", \"itemview\", \"j\", \"j\", \"jackson\", \"jackson\", \"jackson\", \"jackson\", \"jar\", \"jar\", \"jar\", \"jar\", \"jar\", \"jar\", \"java\", \"java\", \"java\", \"java\", \"java\", \"java\", \"javafx\", \"javafx\", \"javafx\", \"javascriptserializer\", \"javax\", \"javax\", \"javax\", \"jframe\", \"jframe\", \"js\", \"js\", \"js\", \"js\", \"js\", \"k\", \"k\", \"k\", \"k\", \"k\", \"know\", \"know\", \"know\", \"know\", \"know\", \"know\", \"l\", \"l\", \"l\", \"lang\", \"lang\", \"lang\", \"lang\", \"last_name\", \"layout\", \"layout\", \"layout\", \"layout_heightdp\", \"layout_heightmatch_parent\", \"layout_heightmatch_parent\", \"layout_heightwrap_content\", \"layout_heightwrap_content\", \"layout_weight\", \"layout_weight\", \"layout_widthfill_parent\", \"layout_widthmatch_parent\", \"layout_widthmatch_parent\", \"layout_widthwrap_content\", \"layout_widthwrap_content\", \"layoutinflater\", \"lea\", \"lea\", \"len\", \"len\", \"length\", \"length\", \"length\", \"length\", \"li\", \"li\", \"li\", \"li\", \"li\", \"lib\", \"lib\", \"lib\", \"lib\", \"like\", \"like\", \"like\", \"like\", \"like\", \"like\", \"like\", \"line[\", \"line[\", \"linearlayout\", \"linearlayout\", \"linux\", \"linux\", \"linux\", \"linux\", \"linux\", \"list\", \"list\", \"list\", \"list\", \"list\", \"list\", \"list\", \"list[\", \"list[\", \"lock\", \"lock\", \"login\", \"login\", \"login\", \"login\", \"login\", \"login\", \"looper\", \"looper\", \"machine\", \"machine\", \"mainactivity\", \"mainactivity\", \"male\", \"male\", \"male\", \"manager\", \"manager\", \"margin\", \"margin\", \"margin\", \"margin\", \"matrix\", \"matrix\", \"matrix\", \"member\", \"member\", \"member\", \"memory\", \"memory\", \"memory\", \"memory\", \"merchant\", \"method\", \"method\", \"method\", \"method\", \"method\", \"method\", \"microsoft\", \"microsoft\", \"microsoft\", \"mktridtop\", \"module\", \"module\", \"module\", \"module\", \"mov\", \"mov\", \"mov\", \"moz\", \"mpg\", \"mpg\", \"mpg\", \"mpl_na\", \"mpl_na\", \"mpl_na\", \"mpl_na\", \"msi\", \"mtcar\", \"mtcar\", \"mvc\", \"mvc\", \"my_stream\", \"mycompanymyappio\", \"mycompanymyappio\", \"mycompanymyappio\", \"mycompanymyappio\", \"mycompanymyappio\", \"mysql\", \"mysql\", \"mysql\", \"n\", \"n\", \"n\", \"n\", \"n\", \"n\", \"name\", \"name\", \"name\", \"name\", \"name\", \"name\", \"nameandroid\", \"nameandroid\", \"nametxttd\", \"nametxttd\", \"nan\", \"navbar\", \"navbar\", \"navbar\", \"navigator\", \"need\", \"need\", \"need\", \"need\", \"need\", \"need\", \"need\", \"net\", \"net\", \"net\", \"net\", \"net\", \"netfilter\", \"netfilter\", \"netfilter\", \"new\", \"new\", \"new\", \"new\", \"new\", \"new\", \"new\", \"newtonsoft\", \"newtonsoft\", \"not\", \"not\", \"not\", \"not\", \"not\", \"not\", \"not\", \"notification\", \"notification\", \"notification\", \"notification\", \"notnull\", \"notnull\", \"np\", \"np\", \"np\", \"nulla\", \"numpy\", \"numpy\", \"nyc\", \"nyc\", \"nyc\", \"nyc\", \"nyc\", \"nyc\", \"object\", \"object\", \"object\", \"object\", \"object\", \"objective\", \"observer\", \"omnivore\", \"oncreate\", \"oncreate\", \"one\", \"one\", \"one\", \"one\", \"one\", \"one\", \"one\", \"onebusaway\", \"onebusaway\", \"onebusaway\", \"onebusaway\", \"onebusaway\", \"onebusaway\", \"opacity\", \"operator\", \"operator\", \"operator\", \"org\", \"org\", \"org\", \"org\", \"org\", \"org\", \"orm\\\\column\", \"os\", \"os\", \"os\", \"os\", \"out[\", \"output\", \"output\", \"output\", \"output\", \"output\", \"overlay\", \"override\", \"override\", \"override\", \"override\", \"override\", \"override\", \"oz\", \"oz\", \"p\", \"p\", \"p\", \"p\", \"p\", \"padding\", \"padding\", \"padding\", \"padding\", \"padding\", \"panda\", \"panda\", \"panda\", \"password\", \"password\", \"password\", \"password\", \"payment\", \"payment\", \"pd\", \"pd\", \"pd\", \"pendingintent\", \"pip\", \"pip\", \"pizza\", \"pizza\", \"pizza\", \"pizza\", \"planename\", \"png\", \"png\", \"png\", \"png\", \"pod\", \"pod\", \"pod\", \"pointsth\", \"post\", \"post\", \"post\", \"post\", \"post\", \"post\", \"powershell\", \"preparedstatement\", \"price\", \"price\", \"price\", \"print\", \"print\", \"print\", \"print\", \"print\", \"print\", \"print\", \"printer\", \"private\", \"private\", \"private\", \"private\", \"private\", \"private\", \"programmer\", \"programming\", \"project_participants\", \"project_participants\", \"project_participants\", \"ptr\", \"ptr\", \"public\", \"public\", \"public\", \"public\", \"public\", \"public\", \"public\", \"px\", \"px\", \"px\", \"px\", \"py\", \"py\", \"py\", \"py\", \"py\", \"python\", \"python\", \"python\", \"python\", \"python\", \"python\", \"q\", \"q\", \"q\", \"q\", \"quartz\", \"quartz\", \"quartz\", \"query\", \"query\", \"query\", \"query\", \"question\", \"question\", \"question\", \"question\", \"question\", \"question\", \"r\", \"r\", \"r\", \"r\", \"r\", \"ra\", \"ra\", \"react\", \"react\", \"really\", \"really\", \"really\", \"really\", \"recyclerview\", \"recyclerview\", \"recyclerview\", \"reference\", \"reference\", \"reference\", \"reference\", \"reference\", \"regex\", \"regex\", \"regex\", \"relstylesheet\", \"relstylesheet\", \"relstylesheet\", \"renderobject\", \"request\", \"request\", \"request\", \"request\", \"request\", \"request\", \"response\", \"response\", \"response\", \"response\", \"response\", \"response\", \"result\", \"result\", \"result\", \"result\", \"result\", \"return\", \"return\", \"return\", \"return\", \"return\", \"return\", \"return\", \"rewriterule\", \"rgba\", \"row\", \"row\", \"row\", \"row\", \"row\", \"rr\", \"run\", \"run\", \"run\", \"run\", \"run\", \"run\", \"rvm\", \"savedinstancestate\", \"savedinstancestate\", \"say\", \"say\", \"say\", \"say\", \"say\", \"scip\", \"scip\", \"security\", \"security\", \"security\", \"security\", \"security\", \"sed\", \"sed\", \"sed\", \"select\", \"select\", \"select\", \"select\", \"select\", \"select\", \"self\", \"self\", \"self\", \"self\", \"self\", \"serializationformat\", \"session\", \"session\", \"session\", \"session\", \"setcontentview\", \"setter\", \"setter\", \"setter\", \"setter\", \"shadow\", \"shadow\", \"signal\", \"simply\", \"simply\", \"simply\", \"singleton\", \"sit\", \"sit\", \"sit\", \"sit\", \"sitename\", \"size\", \"size\", \"size\", \"size\", \"size\", \"size\", \"size\", \"skip\", \"skip\", \"sku\", \"smtp\", \"smtp\", \"smtp\", \"smtp\", \"smtp\", \"smtp\", \"solid\", \"solid\", \"solr\", \"span\", \"span\", \"span\", \"span\", \"spring\", \"spring\", \"spring\", \"spring\", \"spring\", \"springframework\", \"springframework\", \"springframework\", \"sqlclient\", \"sqlclient\", \"ssl\", \"ssl\", \"ssl\", \"ssl\", \"stackpanel\", \"staticresource\", \"staticresource\", \"status\", \"status\", \"status\", \"status\", \"status\", \"status\", \"stdcout\", \"stdcout\", \"stdendl\", \"store\", \"store\", \"store\", \"store\", \"storyboard\", \"storyboard\", \"storyboard\", \"storyboard\", \"str\", \"str\", \"str\", \"string\", \"string\", \"string\", \"string\", \"string\", \"string\", \"string\", \"stroke\", \"stroke\", \"style\", \"style\", \"style\", \"style\", \"style\", \"style\", \"stylebackground\", \"stylewidth\", \"stylewidth\", \"stylewidth\", \"sum\", \"sum\", \"sum\", \"sum\", \"sun\", \"sun\", \"sun\", \"sun\", \"sun\", \"svg\", \"svg\", \"swap\", \"system\", \"system\", \"system\", \"system\", \"system\", \"system\", \"table\", \"table\", \"table\", \"table\", \"table\", \"tableview\", \"tableview\", \"task\", \"task\", \"task\", \"task\", \"task\", \"taskawaiter\", \"taskawaiter\", \"tbody\", \"tbody\", \"tcip\", \"tcip\", \"tcip\", \"td\", \"td\", \"tddiv\", \"tddiv\", \"tdinput\", \"tdinput\", \"tdtd\", \"tdtd\", \"tdtd\", \"temp[\", \"text\", \"text\", \"text\", \"text\", \"text\", \"text\", \"textblock\", \"textstatus\", \"textview\", \"textview\", \"th\", \"th\", \"th\", \"th\", \"thead\", \"thead\", \"think\", \"think\", \"think\", \"think\", \"think\", \"think\", \"think\", \"thought\", \"thth\", \"tile\", \"tile\", \"time\", \"time\", \"time\", \"time\", \"time\", \"time\", \"time\", \"timespan\", \"timespan\", \"timestamp\", \"timestamp\", \"timestamp\", \"title\", \"title\", \"title\", \"title\", \"title\", \"title\", \"title\", \"token\", \"token\", \"token\", \"token\", \"token\", \"top\", \"top\", \"top\", \"top\", \"top\", \"tr\", \"tr\", \"traefik\", \"translatey\", \"trigger\", \"trigger\", \"trigger\", \"trigger\", \"try\", \"try\", \"try\", \"try\", \"try\", \"try\", \"try\", \"type\", \"type\", \"type\", \"type\", \"type\", \"type\", \"typename\", \"uibutton\", \"uicolor\", \"uiimagepickercontroller\", \"uitextfield\", \"uiviewcontroller\", \"ul\", \"ul\", \"ul\", \"ul\", \"url\", \"url\", \"url\", \"url\", \"url\", \"url\", \"use\", \"use\", \"use\", \"use\", \"use\", \"use\", \"use\", \"user\", \"user\", \"user\", \"user\", \"user\", \"user\", \"username\", \"username\", \"ut\", \"ut\", \"valid\", \"valid\", \"value\", \"value\", \"value\", \"value\", \"value\", \"value\", \"value\", \"var\", \"var\", \"var\", \"var\", \"var\", \"var\", \"var\", \"variable\", \"variable\", \"variable\", \"variable\", \"various\", \"various\", \"vector[\", \"vel\", \"vel\", \"vel\", \"velit\", \"version\", \"version\", \"version\", \"version\", \"version\", \"version\", \"video\", \"video\", \"video\", \"video\", \"video\", \"view\", \"view\", \"view\", \"view\", \"view\", \"viewbag\", \"viewdidload\", \"viewgroup\", \"viewholder\", \"virtual\", \"virtual\", \"virtual\", \"void\", \"void\", \"void\", \"void\", \"void\", \"void\", \"void\", \"want\", \"want\", \"want\", \"want\", \"want\", \"want\", \"want\", \"way\", \"way\", \"way\", \"way\", \"way\", \"way\", \"web\", \"web\", \"web\", \"web\", \"web\", \"web\", \"webkit\", \"white\", \"white\", \"white\", \"white\", \"white\", \"width\", \"width\", \"width\", \"width\", \"width\", \"width\", \"work\", \"work\", \"work\", \"work\", \"work\", \"work\", \"work\", \"would\", \"would\", \"would\", \"would\", \"would\", \"would\", \"would\", \"write\", \"write\", \"write\", \"write\", \"write\", \"write\", \"write\", \"x\", \"x\", \"x\", \"x\", \"x\", \"x\", \"x\", \"x[\", \"x[\", \"xml\", \"xml\", \"xml\", \"xml\", \"xml\", \"xml\", \"xmlnshttpwww\", \"xsd\", \"xsd\", \"xsd\", \"xsd\", \"xsl\", \"xsl\", \"xsl\", \"xslt\", \"xy_pod\", \"yaml\", \"yaml\", \"yaml\", \"yaml\", \"yaml\", \"z\", \"z\", \"z\", \"z\", \"z\", \"za\", \"zclpayload\", \"zygoteinit\", \"zygoteinit\"]}, \"R\": 30, \"lambda.step\": 0.01, \"plot.opts\": {\"xlab\": \"PC1\", \"ylab\": \"PC2\"}, \"topic.order\": [1, 2, 5, 4, 3, 6, 7]};\n",
              "\n",
              "function LDAvis_load_lib(url, callback){\n",
              "  var s = document.createElement('script');\n",
              "  s.src = url;\n",
              "  s.async = true;\n",
              "  s.onreadystatechange = s.onload = callback;\n",
              "  s.onerror = function(){console.warn(\"failed to load library \" + url);};\n",
              "  document.getElementsByTagName(\"head\")[0].appendChild(s);\n",
              "}\n",
              "\n",
              "if(typeof(LDAvis) !== \"undefined\"){\n",
              "   // already loaded: just create the visualization\n",
              "   !function(LDAvis){\n",
              "       new LDAvis(\"#\" + \"ldavis_el19511404227102405924534147316\", ldavis_el19511404227102405924534147316_data);\n",
              "   }(LDAvis);\n",
              "}else if(typeof define === \"function\" && define.amd){\n",
              "   // require.js is available: use it to load d3/LDAvis\n",
              "   require.config({paths: {d3: \"https://d3js.org/d3.v5\"}});\n",
              "   require([\"d3\"], function(d3){\n",
              "      window.d3 = d3;\n",
              "      LDAvis_load_lib(\"https://cdn.jsdelivr.net/gh/bmabey/pyLDAvis@3.3.1/pyLDAvis/js/ldavis.v3.0.0.js\", function(){\n",
              "        new LDAvis(\"#\" + \"ldavis_el19511404227102405924534147316\", ldavis_el19511404227102405924534147316_data);\n",
              "      });\n",
              "    });\n",
              "}else{\n",
              "    // require.js not available: dynamically load d3 & LDAvis\n",
              "    LDAvis_load_lib(\"https://d3js.org/d3.v5.js\", function(){\n",
              "         LDAvis_load_lib(\"https://cdn.jsdelivr.net/gh/bmabey/pyLDAvis@3.3.1/pyLDAvis/js/ldavis.v3.0.0.js\", function(){\n",
              "                 new LDAvis(\"#\" + \"ldavis_el19511404227102405924534147316\", ldavis_el19511404227102405924534147316_data);\n",
              "            })\n",
              "         });\n",
              "}\n",
              "</script>"
            ],
            "text/plain": [
              "PreparedData(topic_coordinates=               x          y  topics  cluster       Freq\n",
              "topic                                                  \n",
              "0     -29.594002  60.112713       1        1  56.510937\n",
              "1     -45.996586  11.891685       2        1  13.416248\n",
              "4      20.368856  70.019325       3        1  12.569386\n",
              "3      53.928768  31.704309       4        1   7.333691\n",
              "2     -12.437127 -26.423267       5        1   4.637283\n",
              "5       3.965971  21.797720       6        1   3.245085\n",
              "6      37.524284 -16.517805       7        1   2.287370, topic_info=            Term          Freq         Total Category  logprob  loglift\n",
              "850            ]  30710.000000  30710.000000  Default  30.0000  30.0000\n",
              "2              [  20626.000000  20626.000000  Default  29.0000  29.0000\n",
              "5070     android   7301.000000   7301.000000  Default  28.0000  28.0000\n",
              "52137       java   7248.000000   7248.000000  Default  27.0000  27.0000\n",
              "960            _   9466.000000   9466.000000  Default  26.0000  26.0000\n",
              "...          ...           ...           ...      ...      ...      ...\n",
              "7045    assembly     52.101662    291.078468   Topic7  -6.7379   2.0574\n",
              "41830       grid     53.987026    485.205516   Topic7  -6.7024   1.5819\n",
              "100222   trigger     44.851988    478.782583   Topic7  -6.8878   1.4099\n",
              "85351        sed     35.185942    115.451997   Topic7  -7.1305   2.5896\n",
              "87442     setter     36.002481    193.171196   Topic7  -7.1076   2.0978\n",
              "\n",
              "[560 rows x 6 columns], token_table=        Topic      Freq        Term\n",
              "term                               \n",
              "0           1  0.162167         &#9\n",
              "0           2  0.001192         &#9\n",
              "0           3  0.833490         &#9\n",
              "0           7  0.001192         &#9\n",
              "1           1  0.164537           ;\n",
              "...       ...       ...         ...\n",
              "109901      6  0.011348           z\n",
              "109919      2  0.984444          za\n",
              "109956      6  0.978045  zclpayload\n",
              "110256      1  0.013377  zygoteinit\n",
              "110256      4  0.983231  zygoteinit\n",
              "\n",
              "[1622 rows x 3 columns], R=30, lambda_step=0.01, plot_opts={'xlab': 'PC1', 'ylab': 'PC2'}, topic_order=[1, 2, 5, 4, 3, 6, 7])"
            ]
          },
          "metadata": {},
          "execution_count": 25
        }
      ]
    },
    {
      "cell_type": "markdown",
      "metadata": {
        "id": "gOnnE1zYE2A6"
      },
      "source": [
        "- Topic 1 : OS - Top topic\n",
        "- Topic 2 : Script Language/Python\n",
        "- Topic 3 : Web language/Front-end\n",
        "- Topic 4 : Java\n",
        "- Topic 5 : Web language/Back-end\n",
        "- Topic 6 : SQL\n",
        "- Topic 7 : Script Language\n",
        "- Topic 8 : Data Analysis (Python)"
      ]
    },
    {
      "cell_type": "markdown",
      "metadata": {
        "id": "1uxDs96QE2A7"
      },
      "source": [
        "## 3) Supervised learning for text classification"
      ]
    },
    {
      "cell_type": "markdown",
      "metadata": {
        "id": "A92fAMVhfR7P"
      },
      "source": [
        "- CRF (Conditional Random Fields)\n",
        "- Données séquentielles"
      ]
    },
    {
      "cell_type": "code",
      "metadata": {
        "id": "UMuX7ti4e_DV"
      },
      "source": [
        "tags = data[[\"Id\", \"Tags\"]]"
      ],
      "execution_count": 16,
      "outputs": []
    },
    {
      "cell_type": "code",
      "metadata": {
        "colab": {
          "base_uri": "https://localhost:8080/",
          "height": 203
        },
        "id": "yn3nPjgQoV7D",
        "outputId": "cc7e2d43-674a-4335-aee1-543e2f9d697d"
      },
      "source": [
        "tags = tags[\"Tags\"].str.split(expand=True)\n",
        "tags['Id'] = data[\"Id\"]\n",
        "tags.columns = [\"1st\", \"2nd\", \"3rd\", \"4th\", \"5th\", \"Id\"]\n",
        "tags = tags[[\"Id\", \"1st\", \"2nd\", \"3rd\", \"4th\", \"5th\"]]\n",
        "tags.head()"
      ],
      "execution_count": 17,
      "outputs": [
        {
          "output_type": "execute_result",
          "data": {
            "text/html": [
              "<div>\n",
              "<style scoped>\n",
              "    .dataframe tbody tr th:only-of-type {\n",
              "        vertical-align: middle;\n",
              "    }\n",
              "\n",
              "    .dataframe tbody tr th {\n",
              "        vertical-align: top;\n",
              "    }\n",
              "\n",
              "    .dataframe thead th {\n",
              "        text-align: right;\n",
              "    }\n",
              "</style>\n",
              "<table border=\"1\" class=\"dataframe\">\n",
              "  <thead>\n",
              "    <tr style=\"text-align: right;\">\n",
              "      <th></th>\n",
              "      <th>Id</th>\n",
              "      <th>1st</th>\n",
              "      <th>2nd</th>\n",
              "      <th>3rd</th>\n",
              "      <th>4th</th>\n",
              "      <th>5th</th>\n",
              "    </tr>\n",
              "  </thead>\n",
              "  <tbody>\n",
              "    <tr>\n",
              "      <th>73660</th>\n",
              "      <td>1709216</td>\n",
              "      <td>c</td>\n",
              "      <td>yaml</td>\n",
              "      <td>None</td>\n",
              "      <td>None</td>\n",
              "      <td>None</td>\n",
              "    </tr>\n",
              "    <tr>\n",
              "      <th>35316</th>\n",
              "      <td>11233449</td>\n",
              "      <td>javascript</td>\n",
              "      <td>twitter-bootstrap</td>\n",
              "      <td>None</td>\n",
              "      <td>None</td>\n",
              "      <td>None</td>\n",
              "    </tr>\n",
              "    <tr>\n",
              "      <th>28719</th>\n",
              "      <td>6376571</td>\n",
              "      <td>c#</td>\n",
              "      <td>None</td>\n",
              "      <td>None</td>\n",
              "      <td>None</td>\n",
              "      <td>None</td>\n",
              "    </tr>\n",
              "    <tr>\n",
              "      <th>149862</th>\n",
              "      <td>61548934</td>\n",
              "      <td>java</td>\n",
              "      <td>spring-boot</td>\n",
              "      <td>docker</td>\n",
              "      <td>maven</td>\n",
              "      <td>None</td>\n",
              "    </tr>\n",
              "    <tr>\n",
              "      <th>13680</th>\n",
              "      <td>2652816</td>\n",
              "      <td>javascript</td>\n",
              "      <td>None</td>\n",
              "      <td>None</td>\n",
              "      <td>None</td>\n",
              "      <td>None</td>\n",
              "    </tr>\n",
              "  </tbody>\n",
              "</table>\n",
              "</div>"
            ],
            "text/plain": [
              "              Id         1st                2nd     3rd    4th   5th\n",
              "73660    1709216           c               yaml    None   None  None\n",
              "35316   11233449  javascript  twitter-bootstrap    None   None  None\n",
              "28719    6376571          c#               None    None   None  None\n",
              "149862  61548934        java        spring-boot  docker  maven  None\n",
              "13680    2652816  javascript               None    None   None  None"
            ]
          },
          "metadata": {},
          "execution_count": 17
        }
      ]
    },
    {
      "cell_type": "code",
      "metadata": {
        "id": "Dy6YrvUx3se1"
      },
      "source": [
        "tags.fillna(\"\",inplace=True)"
      ],
      "execution_count": 18,
      "outputs": []
    },
    {
      "cell_type": "code",
      "metadata": {
        "id": "lxuG-0udhrea"
      },
      "source": [
        "from sklearn.preprocessing import MultiLabelBinarizer\n",
        "\n",
        "mlb = MultiLabelBinarizer()\n",
        "\n",
        "new_tags=pd.DataFrame(mlb.fit_transform(tags[[\"1st\", \"2nd\", \"3rd\", \"4th\", \"5th\"]].values),\n",
        "                      columns=mlb.classes_,\n",
        "                      index=tags[\"Id\"])"
      ],
      "execution_count": 19,
      "outputs": []
    },
    {
      "cell_type": "code",
      "metadata": {
        "id": "h6nWjgcjE2A7"
      },
      "source": [
        "from sklearn.model_selection import train_test_split\n",
        "\n",
        "X = docs\n",
        "y = new_tags\n",
        "\n",
        "X_train, X_test, y_train, y_test = train_test_split(X, y, \n",
        "                                                    test_size=.25)"
      ],
      "execution_count": 20,
      "outputs": []
    },
    {
      "cell_type": "markdown",
      "metadata": {
        "id": "IM1-gOauE2A7"
      },
      "source": [
        "### a) Support Vector Machine"
      ]
    },
    {
      "cell_type": "code",
      "metadata": {
        "id": "RYvKLJHQE2A8"
      },
      "source": [
        "vectorizer = TfidfVectorizer(ngram_range =(1,1),\n",
        "                            tokenizer=tok,\n",
        "                            max_features=12000)\n",
        "vectorizer.fit(X_train)\n",
        "X_train_vec = vectorizer.transform(X_train)"
      ],
      "execution_count": 21,
      "outputs": []
    },
    {
      "cell_type": "code",
      "metadata": {
        "id": "pdlSMCdfE2A8"
      },
      "source": [
        "from sklearn.multiclass import OneVsRestClassifier\n",
        "from sklearn.svm import SVC\n",
        "\n",
        "svm_clf = OneVsRestClassifier(SVC(random_state=42))\n",
        "#svm_clf.fit(X_train_vec, y_train)"
      ],
      "execution_count": 22,
      "outputs": []
    },
    {
      "cell_type": "code",
      "metadata": {
        "id": "_XCKDsSfE2A8",
        "colab": {
          "base_uri": "https://localhost:8080/"
        },
        "outputId": "ddca8469-7ae4-4b1e-aadd-c1644cae1641"
      },
      "source": [
        "X_test_vec = vectorizer.transform(X_test)\n",
        "y_pred = svm_clf.predict(X_test_vec)"
      ],
      "execution_count": 33,
      "outputs": [
        {
          "output_type": "stream",
          "name": "stderr",
          "text": [
            "/usr/local/lib/python3.7/dist-packages/sklearn/preprocessing/_label.py:763: DeprecationWarning: `np.int` is a deprecated alias for the builtin `int`. To silence this warning, use `int` by itself. Doing this will not modify any behavior and is safe. When replacing `np.int`, you may wish to use e.g. `np.int64` or `np.int32` to specify the precision. If you wish to review your current use, check the release note link for additional information.\n",
            "Deprecated in NumPy 1.20; for more details and guidance: https://numpy.org/devdocs/release/1.20.0-notes.html#deprecations\n",
            "  y.data = np.array(y.data > threshold, dtype=np.int)\n"
          ]
        }
      ]
    },
    {
      "cell_type": "code",
      "metadata": {
        "id": "JMyqlOuLE2A8"
      },
      "source": [
        "from sklearn.metrics import accuracy_score, f1_score, average_precision_score, recall_score, roc_auc_score\n",
        "\n",
        "def print_evaluation_scores(y_test, predicted):\n",
        "    print('Accuracy: ', accuracy_score(y_test, predicted, normalize=False))\n",
        "    print('F1-score macro: ', f1_score(y_test, predicted, average='macro'))\n",
        "    print('F1-score micro: ', f1_score(y_test, predicted, average='micro'))\n",
        "    print('F1-score weighted: ', f1_score(y_test, predicted, average='weighted'))\n",
        "    print('Precision macro: ', average_precision_score(y_test, predicted, average='macro'))\n",
        "    print('Precision micro: ', average_precision_score(y_test, predicted, average='micro'))\n",
        "    print('Precision weighted: ', average_precision_score(y_test, predicted, average='weighted'))\n",
        "    print(\"Recall macro: \", recall_score(y_test, predicted, average=\"macro\"))\n",
        "    print(\"Recall micro: \", recall_score(y_test, predicted, average=\"micro\"))\n",
        "    print(\"Recall weighted: \", recall_score(y_test, predicted, average=\"weighted\"))"
      ],
      "execution_count": 23,
      "outputs": []
    },
    {
      "cell_type": "code",
      "metadata": {
        "id": "4lYZ8vBIhdVY",
        "colab": {
          "base_uri": "https://localhost:8080/",
          "height": 490
        },
        "outputId": "e373e845-b837-4732-ad5b-32fbd422ecf3"
      },
      "source": [
        "print_evaluation_scores(y_test, y_pred)"
      ],
      "execution_count": 46,
      "outputs": [
        {
          "output_type": "stream",
          "name": "stdout",
          "text": [
            "Accuracy:  209\n",
            "F1-score macro:  0.0064243177610033226\n",
            "F1-score micro:  0.4990680749090263\n",
            "F1-score weighted:  0.3773916153304101\n",
            "Precision macro:  nan\n",
            "Precision micro:  0.30312196446290846\n",
            "Precision weighted:  0.3150369459448511\n",
            "Recall macro:  0.004707028750159483\n",
            "Recall micro:  0.3511741194104422\n",
            "Recall weighted:  0.3511741194104422\n"
          ]
        },
        {
          "output_type": "error",
          "ename": "ValueError",
          "evalue": "ignored",
          "traceback": [
            "\u001b[0;31m---------------------------------------------------------------------------\u001b[0m",
            "\u001b[0;31mValueError\u001b[0m                                Traceback (most recent call last)",
            "\u001b[0;32m<ipython-input-46-166b8be4e822>\u001b[0m in \u001b[0;36m<module>\u001b[0;34m()\u001b[0m\n\u001b[0;32m----> 1\u001b[0;31m \u001b[0mprint_evaluation_scores\u001b[0m\u001b[0;34m(\u001b[0m\u001b[0my_test\u001b[0m\u001b[0;34m,\u001b[0m \u001b[0my_pred\u001b[0m\u001b[0;34m)\u001b[0m\u001b[0;34m\u001b[0m\u001b[0;34m\u001b[0m\u001b[0m\n\u001b[0m",
            "\u001b[0;32m<ipython-input-45-f0b5405c4fa8>\u001b[0m in \u001b[0;36mprint_evaluation_scores\u001b[0;34m(y_test, predicted)\u001b[0m\n\u001b[1;32m     12\u001b[0m     \u001b[0mprint\u001b[0m\u001b[0;34m(\u001b[0m\u001b[0;34m\"Recall micro: \"\u001b[0m\u001b[0;34m,\u001b[0m \u001b[0mrecall_score\u001b[0m\u001b[0;34m(\u001b[0m\u001b[0my_test\u001b[0m\u001b[0;34m,\u001b[0m \u001b[0mpredicted\u001b[0m\u001b[0;34m,\u001b[0m \u001b[0maverage\u001b[0m\u001b[0;34m=\u001b[0m\u001b[0;34m\"micro\"\u001b[0m\u001b[0;34m)\u001b[0m\u001b[0;34m)\u001b[0m\u001b[0;34m\u001b[0m\u001b[0;34m\u001b[0m\u001b[0m\n\u001b[1;32m     13\u001b[0m     \u001b[0mprint\u001b[0m\u001b[0;34m(\u001b[0m\u001b[0;34m\"Recall weighted: \"\u001b[0m\u001b[0;34m,\u001b[0m \u001b[0mrecall_score\u001b[0m\u001b[0;34m(\u001b[0m\u001b[0my_test\u001b[0m\u001b[0;34m,\u001b[0m \u001b[0mpredicted\u001b[0m\u001b[0;34m,\u001b[0m \u001b[0maverage\u001b[0m\u001b[0;34m=\u001b[0m\u001b[0;34m\"weighted\"\u001b[0m\u001b[0;34m)\u001b[0m\u001b[0;34m)\u001b[0m\u001b[0;34m\u001b[0m\u001b[0;34m\u001b[0m\u001b[0m\n\u001b[0;32m---> 14\u001b[0;31m     \u001b[0mprint\u001b[0m\u001b[0;34m(\u001b[0m\u001b[0;34m\"ROC AUC macro:\"\u001b[0m\u001b[0;34m,\u001b[0m \u001b[0mroc_auc_score\u001b[0m\u001b[0;34m(\u001b[0m\u001b[0my_test\u001b[0m\u001b[0;34m,\u001b[0m \u001b[0mpredicted\u001b[0m\u001b[0;34m,\u001b[0m \u001b[0maverage\u001b[0m\u001b[0;34m=\u001b[0m\u001b[0;34m\"macro\"\u001b[0m\u001b[0;34m)\u001b[0m\u001b[0;34m)\u001b[0m\u001b[0;34m\u001b[0m\u001b[0;34m\u001b[0m\u001b[0m\n\u001b[0m\u001b[1;32m     15\u001b[0m     \u001b[0mprint\u001b[0m\u001b[0;34m(\u001b[0m\u001b[0;34m\"ROC AUC micro:\"\u001b[0m\u001b[0;34m,\u001b[0m \u001b[0mroc_auc_score\u001b[0m\u001b[0;34m(\u001b[0m\u001b[0my_test\u001b[0m\u001b[0;34m,\u001b[0m \u001b[0mpredicted\u001b[0m\u001b[0;34m,\u001b[0m \u001b[0maverage\u001b[0m\u001b[0;34m=\u001b[0m\u001b[0;34m\"micro\"\u001b[0m\u001b[0;34m)\u001b[0m\u001b[0;34m)\u001b[0m\u001b[0;34m\u001b[0m\u001b[0;34m\u001b[0m\u001b[0m\n\u001b[1;32m     16\u001b[0m     \u001b[0mprint\u001b[0m\u001b[0;34m(\u001b[0m\u001b[0;34m\"ROC AUC weighted:\"\u001b[0m\u001b[0;34m,\u001b[0m \u001b[0mroc_auc_score\u001b[0m\u001b[0;34m(\u001b[0m\u001b[0my_test\u001b[0m\u001b[0;34m,\u001b[0m \u001b[0mpredicted\u001b[0m\u001b[0;34m,\u001b[0m \u001b[0maverage\u001b[0m\u001b[0;34m=\u001b[0m\u001b[0;34m\"weighted\"\u001b[0m\u001b[0;34m)\u001b[0m\u001b[0;34m)\u001b[0m\u001b[0;34m\u001b[0m\u001b[0;34m\u001b[0m\u001b[0m\n",
            "\u001b[0;32m/usr/local/lib/python3.7/dist-packages/sklearn/metrics/_ranking.py\u001b[0m in \u001b[0;36mroc_auc_score\u001b[0;34m(y_true, y_score, average, sample_weight, max_fpr, multi_class, labels)\u001b[0m\n\u001b[1;32m    393\u001b[0m                                              max_fpr=max_fpr),\n\u001b[1;32m    394\u001b[0m                                      \u001b[0my_true\u001b[0m\u001b[0;34m,\u001b[0m \u001b[0my_score\u001b[0m\u001b[0;34m,\u001b[0m \u001b[0maverage\u001b[0m\u001b[0;34m,\u001b[0m\u001b[0;34m\u001b[0m\u001b[0;34m\u001b[0m\u001b[0m\n\u001b[0;32m--> 395\u001b[0;31m                                      sample_weight=sample_weight)\n\u001b[0m\u001b[1;32m    396\u001b[0m \u001b[0;34m\u001b[0m\u001b[0m\n\u001b[1;32m    397\u001b[0m \u001b[0;34m\u001b[0m\u001b[0m\n",
            "\u001b[0;32m/usr/local/lib/python3.7/dist-packages/sklearn/metrics/_base.py\u001b[0m in \u001b[0;36m_average_binary_score\u001b[0;34m(binary_metric, y_true, y_score, average, sample_weight)\u001b[0m\n\u001b[1;32m    118\u001b[0m         \u001b[0my_score_c\u001b[0m \u001b[0;34m=\u001b[0m \u001b[0my_score\u001b[0m\u001b[0;34m.\u001b[0m\u001b[0mtake\u001b[0m\u001b[0;34m(\u001b[0m\u001b[0;34m[\u001b[0m\u001b[0mc\u001b[0m\u001b[0;34m]\u001b[0m\u001b[0;34m,\u001b[0m \u001b[0maxis\u001b[0m\u001b[0;34m=\u001b[0m\u001b[0mnot_average_axis\u001b[0m\u001b[0;34m)\u001b[0m\u001b[0;34m.\u001b[0m\u001b[0mravel\u001b[0m\u001b[0;34m(\u001b[0m\u001b[0;34m)\u001b[0m\u001b[0;34m\u001b[0m\u001b[0;34m\u001b[0m\u001b[0m\n\u001b[1;32m    119\u001b[0m         score[c] = binary_metric(y_true_c, y_score_c,\n\u001b[0;32m--> 120\u001b[0;31m                                  sample_weight=score_weight)\n\u001b[0m\u001b[1;32m    121\u001b[0m \u001b[0;34m\u001b[0m\u001b[0m\n\u001b[1;32m    122\u001b[0m     \u001b[0;31m# Average the results\u001b[0m\u001b[0;34m\u001b[0m\u001b[0;34m\u001b[0m\u001b[0;34m\u001b[0m\u001b[0m\n",
            "\u001b[0;32m/usr/local/lib/python3.7/dist-packages/sklearn/metrics/_ranking.py\u001b[0m in \u001b[0;36m_binary_roc_auc_score\u001b[0;34m(y_true, y_score, sample_weight, max_fpr)\u001b[0m\n\u001b[1;32m    219\u001b[0m     \u001b[0;34m\"\"\"Binary roc auc score\"\"\"\u001b[0m\u001b[0;34m\u001b[0m\u001b[0;34m\u001b[0m\u001b[0m\n\u001b[1;32m    220\u001b[0m     \u001b[0;32mif\u001b[0m \u001b[0mlen\u001b[0m\u001b[0;34m(\u001b[0m\u001b[0mnp\u001b[0m\u001b[0;34m.\u001b[0m\u001b[0munique\u001b[0m\u001b[0;34m(\u001b[0m\u001b[0my_true\u001b[0m\u001b[0;34m)\u001b[0m\u001b[0;34m)\u001b[0m \u001b[0;34m!=\u001b[0m \u001b[0;36m2\u001b[0m\u001b[0;34m:\u001b[0m\u001b[0;34m\u001b[0m\u001b[0;34m\u001b[0m\u001b[0m\n\u001b[0;32m--> 221\u001b[0;31m         raise ValueError(\"Only one class present in y_true. ROC AUC score \"\n\u001b[0m\u001b[1;32m    222\u001b[0m                          \"is not defined in that case.\")\n\u001b[1;32m    223\u001b[0m \u001b[0;34m\u001b[0m\u001b[0m\n",
            "\u001b[0;31mValueError\u001b[0m: Only one class present in y_true. ROC AUC score is not defined in that case."
          ]
        }
      ]
    },
    {
      "cell_type": "markdown",
      "metadata": {
        "id": "zQJKQE1-E2A9"
      },
      "source": [
        "- Grid Search CV"
      ]
    },
    {
      "cell_type": "code",
      "metadata": {
        "id": "HCYVkBjg_oyF"
      },
      "source": [
        "from sklearn.metrics import make_scorer\n",
        "\n",
        "scorer_multilabel = make_scorer(f1_score, average=\"weighted\")"
      ],
      "execution_count": 24,
      "outputs": []
    },
    {
      "cell_type": "code",
      "metadata": {
        "id": "BRoTukFne5NW"
      },
      "source": [
        "import scipy.stats as stats"
      ],
      "execution_count": 26,
      "outputs": []
    },
    {
      "cell_type": "code",
      "metadata": {
        "id": "HOgFMXU8E2A9",
        "colab": {
          "base_uri": "https://localhost:8080/"
        },
        "outputId": "08764703-d76d-461d-9723-a3a47529723f"
      },
      "source": [
        "params = {\"estimator__C\": stats.loguniform(1e-5, 100), \n",
        "          \"estimator__gamma\":[\"auto\", \"scale\"],\n",
        "          \"estimator__class_weight\" : [\"balanced\"]}\n",
        "\n",
        "rnd_search = RandomizedSearchCV(estimator=svm_clf, \n",
        "                           param_distributions=params, \n",
        "                           scoring=scorer_multilabel,\n",
        "                           cv=5)\n",
        "rnd_search.fit(X_train_vec, y_train)"
      ],
      "execution_count": null,
      "outputs": [
        {
          "metadata": {
            "tags": null
          },
          "name": "stderr",
          "output_type": "stream",
          "text": [
            "/usr/local/lib/python3.7/dist-packages/sklearn/model_selection/_split.py:440: DeprecationWarning: `np.int` is a deprecated alias for the builtin `int`. To silence this warning, use `int` by itself. Doing this will not modify any behavior and is safe. When replacing `np.int`, you may wish to use e.g. `np.int64` or `np.int32` to specify the precision. If you wish to review your current use, check the release note link for additional information.\n",
            "Deprecated in NumPy 1.20; for more details and guidance: https://numpy.org/devdocs/release/1.20.0-notes.html#deprecations\n",
            "  fold_sizes = np.full(n_splits, n_samples // n_splits, dtype=np.int)\n",
            "/usr/local/lib/python3.7/dist-packages/sklearn/model_selection/_split.py:93: DeprecationWarning: `np.bool` is a deprecated alias for the builtin `bool`. To silence this warning, use `bool` by itself. Doing this will not modify any behavior and is safe. If you specifically wanted the numpy scalar type, use `np.bool_` here.\n",
            "Deprecated in NumPy 1.20; for more details and guidance: https://numpy.org/devdocs/release/1.20.0-notes.html#deprecations\n",
            "  test_mask = np.zeros(_num_samples(X), dtype=np.bool)\n",
            "/usr/local/lib/python3.7/dist-packages/sklearn/model_selection/_split.py:93: DeprecationWarning: `np.bool` is a deprecated alias for the builtin `bool`. To silence this warning, use `bool` by itself. Doing this will not modify any behavior and is safe. If you specifically wanted the numpy scalar type, use `np.bool_` here.\n",
            "Deprecated in NumPy 1.20; for more details and guidance: https://numpy.org/devdocs/release/1.20.0-notes.html#deprecations\n",
            "  test_mask = np.zeros(_num_samples(X), dtype=np.bool)\n",
            "/usr/local/lib/python3.7/dist-packages/sklearn/model_selection/_split.py:93: DeprecationWarning: `np.bool` is a deprecated alias for the builtin `bool`. To silence this warning, use `bool` by itself. Doing this will not modify any behavior and is safe. If you specifically wanted the numpy scalar type, use `np.bool_` here.\n",
            "Deprecated in NumPy 1.20; for more details and guidance: https://numpy.org/devdocs/release/1.20.0-notes.html#deprecations\n",
            "  test_mask = np.zeros(_num_samples(X), dtype=np.bool)\n",
            "/usr/local/lib/python3.7/dist-packages/sklearn/model_selection/_split.py:93: DeprecationWarning: `np.bool` is a deprecated alias for the builtin `bool`. To silence this warning, use `bool` by itself. Doing this will not modify any behavior and is safe. If you specifically wanted the numpy scalar type, use `np.bool_` here.\n",
            "Deprecated in NumPy 1.20; for more details and guidance: https://numpy.org/devdocs/release/1.20.0-notes.html#deprecations\n",
            "  test_mask = np.zeros(_num_samples(X), dtype=np.bool)\n",
            "/usr/local/lib/python3.7/dist-packages/sklearn/model_selection/_split.py:93: DeprecationWarning: `np.bool` is a deprecated alias for the builtin `bool`. To silence this warning, use `bool` by itself. Doing this will not modify any behavior and is safe. If you specifically wanted the numpy scalar type, use `np.bool_` here.\n",
            "Deprecated in NumPy 1.20; for more details and guidance: https://numpy.org/devdocs/release/1.20.0-notes.html#deprecations\n",
            "  test_mask = np.zeros(_num_samples(X), dtype=np.bool)\n"
          ]
        }
      ]
    },
    {
      "cell_type": "code",
      "metadata": {
        "id": "KmIUiJ2-E2A-"
      },
      "source": [
        "rnd_search.best_estimator_"
      ],
      "execution_count": null,
      "outputs": []
    },
    {
      "cell_type": "code",
      "metadata": {
        "id": "opC9pDXXE2A-"
      },
      "source": [
        "rnd_search.best_params_"
      ],
      "execution_count": null,
      "outputs": []
    },
    {
      "cell_type": "code",
      "metadata": {
        "id": "ZeqW3iWS9UEN"
      },
      "source": [
        "params = {\"estimator__C\": [],\n",
        "          \"estimator__gamma\": [],\n",
        "          \"estimator__class_weight\" : []}\n",
        "\n",
        "gridsearch_svm = GridSearchCV(estimator=svm_clf, \n",
        "                             param_grid=params, \n",
        "                             scoring=scorer_multilabel,\n",
        "                             cv=5)\n",
        "gridsearch_svm.fit(X_train_vec, y_train)"
      ],
      "execution_count": null,
      "outputs": []
    },
    {
      "cell_type": "code",
      "metadata": {
        "id": "pqPRyENv9rT3"
      },
      "source": [
        "gridsearch_svm.best_estimator_"
      ],
      "execution_count": null,
      "outputs": []
    },
    {
      "cell_type": "code",
      "metadata": {
        "id": "G8B34KrN9wTB"
      },
      "source": [
        "gridsearch_svm.best_params_"
      ],
      "execution_count": null,
      "outputs": []
    },
    {
      "cell_type": "code",
      "metadata": {
        "id": "wQLqeSQL3loC"
      },
      "source": [
        "best_model_svm = gridsearch_svm.best_params_"
      ],
      "execution_count": null,
      "outputs": []
    },
    {
      "cell_type": "markdown",
      "metadata": {
        "id": "b2z8vZJJ3jL8"
      },
      "source": [
        "- Model Evaluation"
      ]
    },
    {
      "cell_type": "code",
      "metadata": {
        "id": "dvCgxbnK3uka"
      },
      "source": [
        "y_pred = best_model_svm.predict(X_test_vec)"
      ],
      "execution_count": null,
      "outputs": []
    },
    {
      "cell_type": "code",
      "metadata": {
        "id": "SswcdPuf3yzE"
      },
      "source": [
        "print_evaluation_scores(y_test, y_pred)"
      ],
      "execution_count": null,
      "outputs": []
    },
    {
      "cell_type": "markdown",
      "metadata": {
        "id": "1Z4BZaKRE2A-"
      },
      "source": [
        "### b) Naive Bayes Classifier"
      ]
    },
    {
      "cell_type": "code",
      "metadata": {
        "id": "JRp78X9gE2A-"
      },
      "source": [
        "from sklearn.naive_bayes import MultinomialNB\n",
        "\n",
        "nb_clf = OneVsRestClassifier(MultinomialNB(fit_prior=True, \n",
        "                                           class_prior=None))\n",
        "nb_clf.fit(X_train_vec, y_train)"
      ],
      "execution_count": null,
      "outputs": []
    },
    {
      "cell_type": "code",
      "metadata": {
        "id": "WUKGfkGUcinq"
      },
      "source": [
        "y_pred_nb = nb_clf.predict(X_test_vec)"
      ],
      "execution_count": null,
      "outputs": []
    },
    {
      "cell_type": "code",
      "metadata": {
        "id": "QWp3YDhzcqBO"
      },
      "source": [
        "print_evaluation_scores(y_test, y_pred_nb)"
      ],
      "execution_count": null,
      "outputs": []
    },
    {
      "cell_type": "markdown",
      "metadata": {
        "id": "WGLDog8ec-eF"
      },
      "source": [
        "- Grid Search"
      ]
    },
    {
      "cell_type": "code",
      "metadata": {
        "id": "L0TSAxHB2RKV"
      },
      "source": [
        "params = {\"estimator__alpha\": [0.3, 0.5, 0.7, 0.9, 1.0]}\n",
        "\n",
        "gridsearch_nb = GridSearchCV(estimator=nb_clf, \n",
        "                             param_grid=params, \n",
        "                             scoring=scorer_multilabel,\n",
        "                             cv=5)\n",
        "gridsearch_nb.fit(X_train_vec, y_train)"
      ],
      "execution_count": null,
      "outputs": []
    },
    {
      "cell_type": "code",
      "metadata": {
        "id": "A2lHiif33ame"
      },
      "source": [
        "gridsearch_nb.best_estimator_"
      ],
      "execution_count": null,
      "outputs": []
    },
    {
      "cell_type": "code",
      "metadata": {
        "id": "JyHOmWdn3eop"
      },
      "source": [
        "gridsearch_nb.best_params_"
      ],
      "execution_count": null,
      "outputs": []
    },
    {
      "cell_type": "code",
      "metadata": {
        "id": "mPfkiASb37X6"
      },
      "source": [
        "best_model_nb = gridsearch_nb.best_params_"
      ],
      "execution_count": null,
      "outputs": []
    },
    {
      "cell_type": "markdown",
      "metadata": {
        "id": "f5kgyPqF4BIc"
      },
      "source": [
        "- Model Evaluation"
      ]
    },
    {
      "cell_type": "code",
      "metadata": {
        "id": "-fiDHXl04C9o"
      },
      "source": [
        "y_pred_nb = best_model_nb.predict(X_test_vec)"
      ],
      "execution_count": null,
      "outputs": []
    },
    {
      "cell_type": "code",
      "metadata": {
        "id": "vyOCQYEe4Tnf"
      },
      "source": [
        "print_evaluation_scores(y_test, y_pred_nb)"
      ],
      "execution_count": null,
      "outputs": []
    },
    {
      "cell_type": "markdown",
      "metadata": {
        "id": "jMQi-xgfZwGr"
      },
      "source": [
        "## 4) Deep Learning for text classification"
      ]
    },
    {
      "cell_type": "markdown",
      "metadata": {
        "id": "KAG5UcjAZ0di"
      },
      "source": [
        "#### a) Using Word2vec + LSTM"
      ]
    },
    {
      "cell_type": "code",
      "metadata": {
        "id": "LENMnp8CvrBl"
      },
      "source": [
        "import string\n",
        "\n",
        "from keras.callbacks import LambdaCallback\n",
        "from keras.layers.recurrent import LSTM\n",
        "from keras.layers.embeddings import Embedding\n",
        "from keras.layers import Dense, Activation\n",
        "from keras.models import Sequential"
      ],
      "execution_count": null,
      "outputs": []
    },
    {
      "cell_type": "code",
      "metadata": {
        "id": "4T0VSfJnyCLW"
      },
      "source": [
        "X = tokenizer.texts_to_sequences(docs)\n",
        "X = pad_sequences(X, maxlen=MAX_SEQUENCE_LENGTH)\n",
        "print('Shape of data tensor:', X.shape)"
      ],
      "execution_count": null,
      "outputs": []
    },
    {
      "cell_type": "markdown",
      "metadata": {
        "id": "7oWGC8WIrLAf"
      },
      "source": [
        "- Word2vec"
      ]
    },
    {
      "cell_type": "code",
      "metadata": {
        "id": "1HvhjNQ2wWNY"
      },
      "source": [
        "documents = "
      ],
      "execution_count": null,
      "outputs": []
    },
    {
      "cell_type": "code",
      "metadata": {
        "id": "wFVPzaakvSlK"
      },
      "source": [
        "sentences = [[word for word in document.lower().split()] for document in documents]"
      ],
      "execution_count": null,
      "outputs": []
    },
    {
      "cell_type": "code",
      "metadata": {
        "id": "v1ZI0DKxvF3e"
      },
      "source": [
        "word_model = gensim.models.Word2Vec(sentences, vector_size=100, min_count=1, \n",
        "                                    window=5, iter=100)"
      ],
      "execution_count": null,
      "outputs": []
    },
    {
      "cell_type": "markdown",
      "metadata": {
        "id": "rjefcp0urNZ-"
      },
      "source": [
        "- LSTM"
      ]
    },
    {
      "cell_type": "code",
      "metadata": {
        "id": "XFw7cARLy5ef"
      },
      "source": [
        "MAX_NB_WORDS = 12000\n",
        "MAX_SEQUENCE_LENGTH = \n",
        "EMBEDDING_DIM = 100"
      ],
      "execution_count": null,
      "outputs": []
    },
    {
      "cell_type": "code",
      "metadata": {
        "id": "D_8sgb7jxVW0"
      },
      "source": [
        "model = Sequential()\n",
        "model.add(Embedding(MAX_NB_WORDS, \n",
        "                    EMBEDDING_DIM, \n",
        "                    input_length=X.shape[1]))\n",
        "model.add(SpatialDropout1D(0.2))\n",
        "model.add(LSTM(100, \n",
        "               dropout=0.2, \n",
        "               recurrent_dropout=0.2))\n",
        "model.add(Dense(13, activation='softmax'))\n",
        "model.compile(loss='categorical_crossentropy', \n",
        "              optimizer='adam', \n",
        "              metrics=['accuracy'])\n",
        "\n",
        "epochs = 5\n",
        "batch_size = 64\n",
        "\n",
        "history = model.fit(X_train, y_train,\n",
        "                    epochs=epochs,\n",
        "                    batch_size=batch_size,\n",
        "                    validation_split=0.1,\n",
        "                    callbacks=[EarlyStopping(monitor='val_loss',\n",
        "                                             patience=3,\n",
        "                                             min_delta=0.0001)])"
      ],
      "execution_count": null,
      "outputs": []
    },
    {
      "cell_type": "code",
      "metadata": {
        "id": "u8oSmDdayi7t"
      },
      "source": [
        "accr = model.evaluate(X_test,Y_test)\n",
        "print('Test set\\n  Loss: {:0.3f}\\n  Accuracy: {:0.3f}'.format(accr[0],accr[1]))"
      ],
      "execution_count": null,
      "outputs": []
    },
    {
      "cell_type": "code",
      "metadata": {
        "id": "VY4Ue822ykD-"
      },
      "source": [
        "plt.title('Loss')\n",
        "plt.plot(history.history['loss'], label='train')\n",
        "plt.plot(history.history['val_loss'], label='test')\n",
        "plt.legend()\n",
        "plt.show()"
      ],
      "execution_count": null,
      "outputs": []
    },
    {
      "cell_type": "code",
      "metadata": {
        "id": "7gu8urTByrDJ"
      },
      "source": [
        "plt.title('Accuracy')\n",
        "plt.plot(history.history['acc'], label='train')\n",
        "plt.plot(history.history['val_acc'], label='test')\n",
        "plt.legend()\n",
        "plt.show();"
      ],
      "execution_count": null,
      "outputs": []
    }
  ]
}
>>>>>>> b641aea389f8a90df30eaf3eb8c38ad7e2474939
