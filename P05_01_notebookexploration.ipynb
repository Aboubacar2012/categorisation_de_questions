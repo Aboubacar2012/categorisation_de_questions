{
 "cells": [
  {
   "cell_type": "markdown",
   "source": [
    "# Data exploration"
   ],
   "metadata": {}
  },
  {
   "cell_type": "code",
   "execution_count": 1,
   "source": [
    "import pandas as pd\r\n",
    "import numpy as np\r\n",
    "import matplotlib.pyplot as plt\r\n",
    "import seaborn as sns\r\n",
    "import glob\r\n",
    "import os"
   ],
   "outputs": [],
   "metadata": {}
  },
  {
   "cell_type": "markdown",
   "source": [
    "## Data cleansing"
   ],
   "metadata": {}
  },
  {
   "cell_type": "code",
   "execution_count": 4,
   "source": [
    "data = pd.read_csv(\"combined_csv.csv\", low_memory=False, dtype=\"object\")\r\n",
    "data.head(1)"
   ],
   "outputs": [
    {
     "output_type": "execute_result",
     "data": {
      "text/plain": [
       "         Id AcceptedAnswerId         CreationDate Score ViewCount  \\\n",
       "0  68186938       68186998.0  2021-06-29 23:59:26    -2        31   \n",
       "\n",
       "                                                Body OwnerUserId  \\\n",
       "0  <p>I have a function that takes a string, brea...   5257353.0   \n",
       "\n",
       "                                               Title      Tags AnswerCount  \\\n",
       "0  Comparing string arrays for matching elements,...  <python>           2   \n",
       "\n",
       "  CommentCount  \n",
       "0            1  "
      ],
      "text/html": [
       "<div>\n",
       "<style scoped>\n",
       "    .dataframe tbody tr th:only-of-type {\n",
       "        vertical-align: middle;\n",
       "    }\n",
       "\n",
       "    .dataframe tbody tr th {\n",
       "        vertical-align: top;\n",
       "    }\n",
       "\n",
       "    .dataframe thead th {\n",
       "        text-align: right;\n",
       "    }\n",
       "</style>\n",
       "<table border=\"1\" class=\"dataframe\">\n",
       "  <thead>\n",
       "    <tr style=\"text-align: right;\">\n",
       "      <th></th>\n",
       "      <th>Id</th>\n",
       "      <th>AcceptedAnswerId</th>\n",
       "      <th>CreationDate</th>\n",
       "      <th>Score</th>\n",
       "      <th>ViewCount</th>\n",
       "      <th>Body</th>\n",
       "      <th>OwnerUserId</th>\n",
       "      <th>Title</th>\n",
       "      <th>Tags</th>\n",
       "      <th>AnswerCount</th>\n",
       "      <th>CommentCount</th>\n",
       "    </tr>\n",
       "  </thead>\n",
       "  <tbody>\n",
       "    <tr>\n",
       "      <th>0</th>\n",
       "      <td>68186938</td>\n",
       "      <td>68186998.0</td>\n",
       "      <td>2021-06-29 23:59:26</td>\n",
       "      <td>-2</td>\n",
       "      <td>31</td>\n",
       "      <td>&lt;p&gt;I have a function that takes a string, brea...</td>\n",
       "      <td>5257353.0</td>\n",
       "      <td>Comparing string arrays for matching elements,...</td>\n",
       "      <td>&lt;python&gt;</td>\n",
       "      <td>2</td>\n",
       "      <td>1</td>\n",
       "    </tr>\n",
       "  </tbody>\n",
       "</table>\n",
       "</div>"
      ]
     },
     "metadata": {},
     "execution_count": 4
    }
   ],
   "metadata": {}
  },
  {
   "cell_type": "code",
   "execution_count": 5,
   "source": [
    "data.info()"
   ],
   "outputs": [
    {
     "output_type": "stream",
     "name": "stdout",
     "text": [
      "<class 'pandas.core.frame.DataFrame'>\n",
      "RangeIndex: 584638 entries, 0 to 584637\n",
      "Data columns (total 11 columns):\n",
      " #   Column            Non-Null Count   Dtype \n",
      "---  ------            --------------   ----- \n",
      " 0   Id                584638 non-null  object\n",
      " 1   AcceptedAnswerId  305403 non-null  object\n",
      " 2   CreationDate      584638 non-null  object\n",
      " 3   Score             584638 non-null  object\n",
      " 4   ViewCount         584638 non-null  object\n",
      " 5   Body              584638 non-null  object\n",
      " 6   OwnerUserId       577103 non-null  object\n",
      " 7   Title             584638 non-null  object\n",
      " 8   Tags              584638 non-null  object\n",
      " 9   AnswerCount       584638 non-null  object\n",
      " 10  CommentCount      584638 non-null  object\n",
      "dtypes: object(11)\n",
      "memory usage: 49.1+ MB\n"
     ]
    }
   ],
   "metadata": {}
  },
  {
   "cell_type": "code",
   "execution_count": 8,
   "source": [
    "print((data.isnull().mean() *  100).round(2))"
   ],
   "outputs": [
    {
     "output_type": "stream",
     "name": "stdout",
     "text": [
      "Id                   0.00\n",
      "AcceptedAnswerId    47.76\n",
      "CreationDate         0.00\n",
      "Score                0.00\n",
      "ViewCount            0.00\n",
      "Body                 0.00\n",
      "OwnerUserId          1.29\n",
      "Title                0.00\n",
      "Tags                 0.00\n",
      "AnswerCount          0.00\n",
      "CommentCount         0.00\n",
      "dtype: float64\n"
     ]
    }
   ],
   "metadata": {}
  },
  {
   "cell_type": "code",
   "execution_count": null,
   "source": [],
   "outputs": [],
   "metadata": {}
  }
 ],
 "metadata": {
  "orig_nbformat": 4,
  "language_info": {
   "name": "python",
   "version": "3.8.11",
   "mimetype": "text/x-python",
   "codemirror_mode": {
    "name": "ipython",
    "version": 3
   },
   "pygments_lexer": "ipython3",
   "nbconvert_exporter": "python",
   "file_extension": ".py"
  },
  "kernelspec": {
   "name": "python3",
   "display_name": "Python 3.8.11 64-bit ('base': conda)"
  },
  "interpreter": {
   "hash": "db691860837755bfd223dbb19bf59c90fd58faf4b85973e04a456a30cef6b76b"
  }
 },
 "nbformat": 4,
 "nbformat_minor": 2
}