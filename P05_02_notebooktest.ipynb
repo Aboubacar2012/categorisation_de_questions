{
 "cells": [
  {
   "cell_type": "markdown",
   "metadata": {
    "id": "GuJe3XwKE2Au"
   },
   "source": [
    "# Data Modelisation"
   ]
  },
  {
   "cell_type": "markdown",
   "metadata": {
    "id": "IGwRfawAE2Ax"
   },
   "source": [
    "- Configuration"
   ]
  },
  {
   "cell_type": "code",
   "execution_count": null,
   "metadata": {
    "colab": {
     "base_uri": "https://localhost:8080/"
    },
    "id": "KgqiXrBkE2Ay",
    "outputId": "44494f80-0735-445e-c0fd-26b89faf7618"
   },
   "outputs": [],
   "source": [
    "import warnings\n",
    "warnings.filterwarnings(\"ignore\")\n",
    "\n",
    "import pandas as pd\n",
    "import numpy as np \n",
    "import matplotlib.pyplot as plt \n",
    "import seaborn as sns\n",
    "from nlp_module import remove_stopwords, plot_top_words, tok, print_evaluation_scores\n",
    "import sklearn\n",
    "from sklearn.decomposition import NMF, LatentDirichletAllocation\n",
    "from sklearn.model_selection import RandomizedSearchCV, GridSearchCV\n",
    "from sklearn.feature_extraction.text import TfidfVectorizer, CountVectorizer\n",
    "import pyLDAvis\n",
    "import pyLDAvis.sklearn"
   ]
  },
  {
   "cell_type": "code",
   "execution_count": null,
   "metadata": {
    "id": "mwk8Ic2nE2Az"
   },
   "outputs": [],
   "source": [
    "sklearn.set_config(display=\"diagram\")"
   ]
  },
  {
   "cell_type": "markdown",
   "metadata": {
    "id": "asVPqMOFE2A0"
   },
   "source": [
    "## 1) Data preparation"
   ]
  },
  {
   "cell_type": "code",
   "execution_count": null,
   "metadata": {
    "id": "tDqVFfvBUqQ2"
   },
   "outputs": [],
   "source": [
    "path = \"datasets/posts_clean.csv\""
   ]
  },
  {
   "cell_type": "code",
   "execution_count": null,
   "metadata": {
    "colab": {
     "base_uri": "https://localhost:8080/"
    },
    "id": "xsMFT2TFE2A0",
    "outputId": "ae4f5937-4fd6-4344-d970-f2d4e3ecf2f4"
   },
   "outputs": [],
   "source": [
    "data = pd.read_csv(path)\n",
    "data.head(3)"
   ]
  },
  {
   "cell_type": "code",
   "execution_count": null,
   "metadata": {
    "id": "RijUErGPE2A1"
   },
   "outputs": [],
   "source": [
    "# remove < and > around Tags\n",
    "data[\"Tags\"] = data[\"Tags\"].replace({\"<\" : \" \"}, regex=True)\n",
    "data[\"Tags\"] = data[\"Tags\"].replace({\">\" : \" \"}, regex=True)"
   ]
  },
  {
   "cell_type": "code",
   "execution_count": null,
   "metadata": {
    "id": "6ZC0vEIBE2A1"
   },
   "outputs": [],
   "source": [
    "data[\"Body\"] = data[\"Body\"].str.lower()\n",
    "data[\"Body\"] = data[\"Body\"].apply(remove_stopwords)"
   ]
  },
  {
   "cell_type": "code",
   "execution_count": null,
   "metadata": {
    "colab": {
     "base_uri": "https://localhost:8080/"
    },
    "id": "19glpL9JE2A2",
    "outputId": "65552952-9c41-4d6e-f67e-5288903d1945"
   },
   "outputs": [],
   "source": [
    "data.isnull().mean()"
   ]
  },
  {
   "cell_type": "code",
   "execution_count": null,
   "metadata": {
    "id": "qoF4du4HE2A2"
   },
   "outputs": [],
   "source": [
    "data.dropna(inplace=True)"
   ]
  },
  {
   "cell_type": "code",
   "execution_count": null,
   "metadata": {
    "colab": {
     "base_uri": "https://localhost:8080/",
     "height": 142
    },
    "id": "m2CJblVrE2A2",
    "outputId": "879459d4-a3ec-4cd2-f4cd-b87ad91b52b5",
    "scrolled": true
   },
   "outputs": [],
   "source": [
    "data.head(3)"
   ]
  },
  {
   "cell_type": "code",
   "execution_count": null,
   "metadata": {
    "id": "s0pNdsLe6Hmi"
   },
   "outputs": [],
   "source": [
    "data = data.sample(frac=0.1, random_state=42)"
   ]
  },
  {
   "cell_type": "code",
   "execution_count": null,
   "metadata": {
    "id": "sVf6Xp9ZE2A3"
   },
   "outputs": [],
   "source": [
    "docs = data[\"Title\"] + \" \" + data[\"Body\"]"
   ]
  },
  {
   "cell_type": "code",
   "execution_count": null,
   "metadata": {
    "id": "0QFLJlyDE2A3"
   },
   "outputs": [],
   "source": [
    "tfidf_vectorizer = TfidfVectorizer(max_features=12000)\n",
    "tfidf = tfidf_vectorizer.fit_transform(docs)\n",
    "tfidf_feature_names = tfidf_vectorizer.get_feature_names()"
   ]
  },
  {
   "cell_type": "code",
   "execution_count": null,
   "metadata": {
    "colab": {
     "base_uri": "https://localhost:8080/"
    },
    "id": "csQwUl47E2A3",
    "outputId": "5b006133-b0dc-483b-83be-4b8770daee5c"
   },
   "outputs": [],
   "source": [
    "# Materialize the sparse data\n",
    "data_dense = tfidf.todense()\n",
    "\n",
    "# Compute Sparsicity = Percentage of Non-Zero cells\n",
    "print(\"Sparsicity: \", (((data_dense > 0).sum()/data_dense.size)*100).round(3), \"%\")"
   ]
  },
  {
   "cell_type": "markdown",
   "metadata": {
    "id": "tE5jNqVCE2A3"
   },
   "source": [
    "## 2) Topic Modelling"
   ]
  },
  {
   "cell_type": "markdown",
   "metadata": {
    "id": "JpXeVglQE2A4"
   },
   "source": [
    "### a) Non Negative Matrix Factorization (NMF)"
   ]
  },
  {
   "cell_type": "code",
   "execution_count": null,
   "metadata": {
    "id": "Mg208sOaE2A4"
   },
   "outputs": [],
   "source": [
    "best_num_topics = 10"
   ]
  },
  {
   "cell_type": "code",
   "execution_count": null,
   "metadata": {
    "id": "jgAa_Ne-E2A4"
   },
   "outputs": [],
   "source": [
    "nmf = NMF(n_components=best_num_topics,\n",
    "          random_state=42,\n",
    "          alpha=0.1)"
   ]
  },
  {
   "cell_type": "code",
   "execution_count": null,
   "metadata": {
    "colab": {
     "base_uri": "https://localhost:8080/"
    },
    "id": "7cpyRlb_E2A4",
    "outputId": "9167b6d4-247f-4399-d45d-631718f5848a"
   },
   "outputs": [],
   "source": [
    "nmf.fit(tfidf)"
   ]
  },
  {
   "cell_type": "code",
   "execution_count": null,
   "metadata": {
    "colab": {
     "base_uri": "https://localhost:8080/",
     "height": 834
    },
    "id": "5AykfjRSE2A4",
    "outputId": "47c9c2fc-08ee-4654-fcc1-d407ec9363b6"
   },
   "outputs": [],
   "source": [
    "plot_top_words(nmf, tfidf_feature_names, n_top_words=30, title=\"Topics in NMF model\")"
   ]
  },
  {
   "cell_type": "markdown",
   "metadata": {
    "id": "pr5YB47sE2A5"
   },
   "source": [
    "### b) Latent Dirichlet Allocation (LDA)"
   ]
  },
  {
   "cell_type": "code",
   "execution_count": null,
   "metadata": {
    "id": "XXHxnLSP6qmr"
   },
   "outputs": [],
   "source": [
    "bow_vectorizer = CountVectorizer(ngram_range = (1,1),\n",
    "                                 tokenizer=tok)\n",
    "docs_bow = bow_vectorizer.fit_transform(docs)"
   ]
  },
  {
   "cell_type": "code",
   "execution_count": null,
   "metadata": {
    "id": "9_cbH_7IE2A5"
   },
   "outputs": [],
   "source": [
    "lda = LatentDirichletAllocation(random_state=42,\n",
    "                                batch_size=400)"
   ]
  },
  {
   "cell_type": "code",
   "execution_count": null,
   "metadata": {
    "colab": {
     "base_uri": "https://localhost:8080/"
    },
    "id": "LIojTkKJE2A5",
    "outputId": "b8616950-09c6-4fc4-b7b4-0e48fb192ed4"
   },
   "outputs": [],
   "source": [
    "params = {'n_components' : [7, 8, 9, 10, 11, 12],\n",
    "          \"learning_decay\" : [0.5, 0.6, 0.7, 0.8, 0.9, 1.0],\n",
    "          \"learning_method\" : [\"batch\", \"online\"]}\n",
    "\n",
    "gridsearch_lda = GridSearchCV(lda,\n",
    "                              param_grid=params,\n",
    "                              cv=5,\n",
    "                              verbose=1)\n",
    "gridsearch_lda.fit(docs_bow)"
   ]
  },
  {
   "cell_type": "code",
   "execution_count": null,
   "metadata": {
    "colab": {
     "base_uri": "https://localhost:8080/"
    },
    "id": "Io24pqXHE2A5",
    "outputId": "f3230818-5a04-43b5-98e8-b448b7354f47"
   },
   "outputs": [],
   "source": [
    "best_lda_model = gridsearch_lda.best_estimator_\n",
    "\n",
    "print(\"Best Model's Params: \", gridsearch_lda.best_params_)\n",
    "print(\"Best Log Likelihood Score: \", gridsearch_lda.best_score_)"
   ]
  },
  {
   "cell_type": "code",
   "execution_count": null,
   "metadata": {
    "colab": {
     "base_uri": "https://localhost:8080/",
     "height": 1000
    },
    "id": "Amo_yjMPE2A6",
    "outputId": "a0bb3094-d2d2-44f6-baf5-dc202fc089eb"
   },
   "outputs": [],
   "source": [
    "# Visualize the topics\n",
    "pyLDAvis.enable_notebook()\n",
    "panel = pyLDAvis.sklearn.prepare(best_lda_model, docs_bow, bow_vectorizer, mds='tsne')\n",
    "panel"
   ]
  },
  {
   "cell_type": "markdown",
   "metadata": {
    "id": "gOnnE1zYE2A6"
   },
   "source": [
    "- Topic 1 : OS - Top topic\n",
    "- Topic 2 : Script Language/Python\n",
    "- Topic 3 : Web language/Front-end\n",
    "- Topic 4 : Java\n",
    "- Topic 5 : Web language/Back-end\n",
    "- Topic 6 : SQL\n",
    "- Topic 7 : Script Language"
   ]
  },
  {
   "cell_type": "markdown",
   "metadata": {
    "id": "1uxDs96QE2A7"
   },
   "source": [
    "## 3) Supervised learning for text classification"
   ]
  },
  {
   "cell_type": "markdown",
   "metadata": {
    "id": "A92fAMVhfR7P"
   },
   "source": [
    "- CRF (Conditional Random Fields)\n",
    "- Données séquentielles"
   ]
  },
  {
   "cell_type": "code",
   "execution_count": null,
   "metadata": {
    "id": "UMuX7ti4e_DV"
   },
   "outputs": [],
   "source": [
    "tags = data[[\"Id\", \"Tags\"]]"
   ]
  },
  {
   "cell_type": "code",
   "execution_count": null,
   "metadata": {
    "colab": {
     "base_uri": "https://localhost:8080/",
     "height": 203
    },
    "id": "yn3nPjgQoV7D",
    "outputId": "cc7e2d43-674a-4335-aee1-543e2f9d697d"
   },
   "outputs": [],
   "source": [
    "tags = tags[\"Tags\"].str.split(expand=True)\n",
    "tags['Id'] = data[\"Id\"]\n",
    "tags.columns = [\"1st\", \"2nd\", \"3rd\", \"4th\", \"5th\", \"Id\"]\n",
    "tags = tags[[\"Id\", \"1st\", \"2nd\", \"3rd\", \"4th\", \"5th\"]]\n",
    "tags.head()"
   ]
  },
  {
   "cell_type": "code",
   "execution_count": null,
   "metadata": {
    "id": "Dy6YrvUx3se1"
   },
   "outputs": [],
   "source": [
    "tags.fillna(\"\",inplace=True)"
   ]
  },
  {
   "cell_type": "code",
   "execution_count": null,
   "metadata": {
    "id": "lxuG-0udhrea"
   },
   "outputs": [],
   "source": [
    "from sklearn.preprocessing import MultiLabelBinarizer\n",
    "\n",
    "mlb = MultiLabelBinarizer()\n",
    "\n",
    "new_tags=pd.DataFrame(mlb.fit_transform(tags[[\"1st\", \"2nd\", \"3rd\", \"4th\", \"5th\"]].values),\n",
    "                      columns=mlb.classes_,\n",
    "                      index=tags[\"Id\"])"
   ]
  },
  {
   "cell_type": "code",
   "execution_count": null,
   "metadata": {
    "id": "h6nWjgcjE2A7"
   },
   "outputs": [],
   "source": [
    "from sklearn.model_selection import train_test_split\n",
    "\n",
    "X = docs\n",
    "y = new_tags\n",
    "\n",
    "X_train, X_test, y_train, y_test = train_test_split(X, y, \n",
    "                                                    test_size=.25)"
   ]
  },
  {
   "cell_type": "markdown",
   "metadata": {
    "id": "IM1-gOauE2A7"
   },
   "source": [
    "### a) Support Vector Machine"
   ]
  },
  {
   "cell_type": "code",
   "execution_count": null,
   "metadata": {
    "id": "RYvKLJHQE2A8"
   },
   "outputs": [],
   "source": [
    "vectorizer = TfidfVectorizer(ngram_range =(1,1),\n",
    "                            tokenizer=tok,\n",
    "                            max_features=12000)\n",
    "vectorizer.fit(X_train)\n",
    "X_train_vec = vectorizer.transform(X_train)"
   ]
  },
  {
   "cell_type": "code",
   "execution_count": null,
   "metadata": {
    "id": "pdlSMCdfE2A8"
   },
   "outputs": [],
   "source": [
    "from sklearn.multiclass import OneVsRestClassifier\n",
    "from sklearn.svm import SVC\n",
    "\n",
    "svm_clf = OneVsRestClassifier(SVC(random_state=42))\n",
    "svm_clf.fit(X_train_vec, y_train)"
   ]
  },
  {
   "cell_type": "code",
   "execution_count": null,
   "metadata": {
    "colab": {
     "base_uri": "https://localhost:8080/"
    },
    "id": "_XCKDsSfE2A8",
    "outputId": "ddca8469-7ae4-4b1e-aadd-c1644cae1641"
   },
   "outputs": [],
   "source": [
    "X_test_vec = vectorizer.transform(X_test)\n",
    "y_pred = svm_clf.predict(X_test_vec)"
   ]
  },
  {
   "cell_type": "code",
   "execution_count": null,
   "metadata": {
    "colab": {
     "base_uri": "https://localhost:8080/",
     "height": 490
    },
    "id": "4lYZ8vBIhdVY",
    "outputId": "e373e845-b837-4732-ad5b-32fbd422ecf3"
   },
   "outputs": [],
   "source": [
    "print_evaluation_scores(y_test, y_pred)"
   ]
  },
  {
   "cell_type": "markdown",
   "metadata": {
    "id": "zQJKQE1-E2A9"
   },
   "source": [
    "- Grid Search CV"
   ]
  },
  {
   "cell_type": "code",
   "execution_count": null,
   "metadata": {
    "id": "HCYVkBjg_oyF"
   },
   "outputs": [],
   "source": [
    "from sklearn.metrics import make_scorer, f1_score\n",
    "\n",
    "scorer_multilabel = make_scorer(f1_score, average=\"weighted\")"
   ]
  },
  {
   "cell_type": "code",
   "execution_count": null,
   "metadata": {
    "colab": {
     "base_uri": "https://localhost:8080/"
    },
    "id": "HOgFMXU8E2A9",
    "outputId": "08764703-d76d-461d-9723-a3a47529723f"
   },
   "outputs": [],
   "source": [
    "import scipy.stats as stats\n",
    "\n",
    "params = {\"estimator__C\": stats.loguniform(1e-5, 100), \n",
    "          \"estimator__gamma\":[\"auto\", \"scale\"],\n",
    "          \"estimator__class_weight\" : [\"balanced\"]}\n",
    "\n",
    "rnd_search = RandomizedSearchCV(estimator=svm_clf, \n",
    "                           param_distributions=params, \n",
    "                           scoring=scorer_multilabel,\n",
    "                           cv=5,\n",
    "                           verbose=1)\n",
    "rnd_search.fit(X_train_vec, y_train)"
   ]
  },
  {
   "cell_type": "code",
   "execution_count": null,
   "metadata": {
    "id": "KmIUiJ2-E2A-"
   },
   "outputs": [],
   "source": [
    "rnd_search.best_estimator_"
   ]
  },
  {
   "cell_type": "code",
   "execution_count": null,
   "metadata": {
    "id": "opC9pDXXE2A-"
   },
   "outputs": [],
   "source": [
    "rnd_search.best_params_"
   ]
  },
  {
   "cell_type": "code",
   "execution_count": null,
   "metadata": {
    "id": "ZeqW3iWS9UEN"
   },
   "outputs": [],
   "source": [
    "params = {\"estimator__C\": [],\n",
    "          \"estimator__gamma\": [],\n",
    "          \"estimator__class_weight\" : []}\n",
    "\n",
    "gridsearch_svm = GridSearchCV(estimator=svm_clf, \n",
    "                             param_grid=params, \n",
    "                             scoring=scorer_multilabel,\n",
    "                             cv=5,\n",
    "                             verbose=1)\n",
    "gridsearch_svm.fit(X_train_vec, y_train)"
   ]
  },
  {
   "cell_type": "code",
   "execution_count": null,
   "metadata": {
    "id": "pqPRyENv9rT3"
   },
   "outputs": [],
   "source": [
    "gridsearch_svm.best_estimator_"
   ]
  },
  {
   "cell_type": "code",
   "execution_count": null,
   "metadata": {
    "id": "G8B34KrN9wTB"
   },
   "outputs": [],
   "source": [
    "gridsearch_svm.best_params_"
   ]
  },
  {
   "cell_type": "code",
   "execution_count": null,
   "metadata": {
    "id": "wQLqeSQL3loC"
   },
   "outputs": [],
   "source": [
    "best_model_svm = gridsearch_svm.best_estimator_"
   ]
  },
  {
   "cell_type": "markdown",
   "metadata": {
    "id": "b2z8vZJJ3jL8"
   },
   "source": [
    "- Model Evaluation"
   ]
  },
  {
   "cell_type": "code",
   "execution_count": null,
   "metadata": {
    "id": "dvCgxbnK3uka"
   },
   "outputs": [],
   "source": [
    "y_pred = best_model_svm.predict(X_test_vec)"
   ]
  },
  {
   "cell_type": "code",
   "execution_count": null,
   "metadata": {
    "id": "SswcdPuf3yzE"
   },
   "outputs": [],
   "source": [
    "print_evaluation_scores(y_test, y_pred)"
   ]
  },
  {
   "cell_type": "markdown",
   "metadata": {
    "id": "1Z4BZaKRE2A-"
   },
   "source": [
    "### b) Naive Bayes Classifier"
   ]
  },
  {
   "cell_type": "code",
   "execution_count": null,
   "metadata": {
    "id": "JRp78X9gE2A-"
   },
   "outputs": [],
   "source": [
    "from sklearn.naive_bayes import MultinomialNB\n",
    "\n",
    "nb_clf = OneVsRestClassifier(MultinomialNB(fit_prior=True, \n",
    "                                           class_prior=None))\n",
    "nb_clf.fit(X_train_vec, y_train)"
   ]
  },
  {
   "cell_type": "code",
   "execution_count": null,
   "metadata": {
    "id": "WUKGfkGUcinq"
   },
   "outputs": [],
   "source": [
    "y_pred_nb = nb_clf.predict(X_test_vec)"
   ]
  },
  {
   "cell_type": "code",
   "execution_count": null,
   "metadata": {
    "id": "QWp3YDhzcqBO"
   },
   "outputs": [],
   "source": [
    "print_evaluation_scores(y_test, y_pred_nb)"
   ]
  },
  {
   "cell_type": "markdown",
   "metadata": {
    "id": "WGLDog8ec-eF"
   },
   "source": [
    "- Grid Search"
   ]
  },
  {
   "cell_type": "code",
   "execution_count": null,
   "metadata": {
    "id": "L0TSAxHB2RKV"
   },
   "outputs": [],
   "source": [
    "params = {\"estimator__alpha\": [0.3, 0.5, 0.7, 0.9, 1.0]}\n",
    "\n",
    "gridsearch_nb = GridSearchCV(estimator=nb_clf, \n",
    "                             param_grid=params, \n",
    "                             scoring=scorer_multilabel,\n",
    "                             cv=5,\n",
    "                             verbose = 1)\n",
    "gridsearch_nb.fit(X_train_vec, y_train)"
   ]
  },
  {
   "cell_type": "code",
   "execution_count": null,
   "metadata": {
    "id": "A2lHiif33ame"
   },
   "outputs": [],
   "source": [
    "gridsearch_nb.best_estimator_"
   ]
  },
  {
   "cell_type": "code",
   "execution_count": null,
   "metadata": {
    "id": "JyHOmWdn3eop"
   },
   "outputs": [],
   "source": [
    "gridsearch_nb.best_params_"
   ]
  },
  {
   "cell_type": "code",
   "execution_count": null,
   "metadata": {
    "id": "mPfkiASb37X6"
   },
   "outputs": [],
   "source": [
    "best_model_nb = gridsearch_nb.best_estimator_"
   ]
  },
  {
   "cell_type": "markdown",
   "metadata": {
    "id": "f5kgyPqF4BIc"
   },
   "source": [
    "- Model Evaluation"
   ]
  },
  {
   "cell_type": "code",
   "execution_count": null,
   "metadata": {
    "id": "-fiDHXl04C9o"
   },
   "outputs": [],
   "source": [
    "y_pred_nb = best_model_nb.predict(X_test_vec)"
   ]
  },
  {
   "cell_type": "code",
   "execution_count": null,
   "metadata": {
    "id": "vyOCQYEe4Tnf"
   },
   "outputs": [],
   "source": [
    "print_evaluation_scores(y_test, y_pred_nb)"
   ]
  },
  {
   "cell_type": "markdown",
   "metadata": {
    "id": "jMQi-xgfZwGr"
   },
   "source": [
    "## 4) Deep Learning for text classification"
   ]
  },
  {
   "cell_type": "markdown",
   "metadata": {
    "id": "KAG5UcjAZ0di"
   },
   "source": [
    "#### a) Using Word2vec + LSTM"
   ]
  },
  {
   "cell_type": "code",
   "execution_count": null,
   "metadata": {
    "id": "LENMnp8CvrBl"
   },
   "outputs": [],
   "source": [
    "import string\n",
    "\n",
    "from keras.callbacks import LambdaCallback\n",
    "from keras.layers.recurrent import LSTM\n",
    "from keras.layers.embeddings import Embedding\n",
    "from keras.layers import Dense, Activation\n",
    "from keras.models import Sequential"
   ]
  },
  {
   "cell_type": "code",
   "execution_count": null,
   "metadata": {
    "id": "4T0VSfJnyCLW"
   },
   "outputs": [],
   "source": [
    "X = tokenizer.texts_to_sequences(docs)\n",
    "X = pad_sequences(X, maxlen=MAX_SEQUENCE_LENGTH)\n",
    "print('Shape of data tensor:', X.shape)"
   ]
  },
  {
   "cell_type": "markdown",
   "metadata": {
    "id": "7oWGC8WIrLAf"
   },
   "source": [
    "- Word2vec"
   ]
  },
  {
   "cell_type": "code",
   "execution_count": null,
   "metadata": {
    "id": "1HvhjNQ2wWNY"
   },
   "outputs": [],
   "source": [
    "documents = "
   ]
  },
  {
   "cell_type": "code",
   "execution_count": null,
   "metadata": {
    "id": "wFVPzaakvSlK"
   },
   "outputs": [],
   "source": [
    "sentences = [[word for word in document.lower().split()] for document in documents]"
   ]
  },
  {
   "cell_type": "code",
   "execution_count": null,
   "metadata": {
    "id": "v1ZI0DKxvF3e"
   },
   "outputs": [],
   "source": [
    "word_model = gensim.models.Word2Vec(sentences, vector_size=100, min_count=1, \n",
    "                                    window=5, iter=100)"
   ]
  },
  {
   "cell_type": "markdown",
   "metadata": {
    "id": "rjefcp0urNZ-"
   },
   "source": [
    "- LSTM"
   ]
  },
  {
   "cell_type": "code",
   "execution_count": null,
   "metadata": {
    "id": "XFw7cARLy5ef"
   },
   "outputs": [],
   "source": [
    "MAX_NB_WORDS = 12000\n",
    "MAX_SEQUENCE_LENGTH = \n",
    "EMBEDDING_DIM = 100"
   ]
  },
  {
   "cell_type": "code",
   "execution_count": null,
   "metadata": {
    "id": "D_8sgb7jxVW0"
   },
   "outputs": [],
   "source": [
    "model = Sequential()\n",
    "model.add(Embedding(MAX_NB_WORDS, \n",
    "                    EMBEDDING_DIM, \n",
    "                    input_length=X.shape[1]))\n",
    "model.add(SpatialDropout1D(0.2))\n",
    "model.add(LSTM(100, \n",
    "               dropout=0.2, \n",
    "               recurrent_dropout=0.2))\n",
    "model.add(Dense(13, activation='softmax'))\n",
    "model.compile(loss='categorical_crossentropy', \n",
    "              optimizer='adam', \n",
    "              metrics=['accuracy'])\n",
    "\n",
    "epochs = 5\n",
    "batch_size = 64\n",
    "\n",
    "history = model.fit(X_train, y_train,\n",
    "                    epochs=epochs,\n",
    "                    batch_size=batch_size,\n",
    "                    validation_split=0.1,\n",
    "                    callbacks=[EarlyStopping(monitor='val_loss',\n",
    "                                             patience=3,\n",
    "                                             min_delta=0.0001)])"
   ]
  },
  {
   "cell_type": "code",
   "execution_count": null,
   "metadata": {
    "id": "u8oSmDdayi7t"
   },
   "outputs": [],
   "source": [
    "accr = model.evaluate(X_test,Y_test)\n",
    "print('Test set\\n  Loss: {:0.3f}\\n  Accuracy: {:0.3f}'.format(accr[0],accr[1]))"
   ]
  },
  {
   "cell_type": "code",
   "execution_count": null,
   "metadata": {
    "id": "VY4Ue822ykD-"
   },
   "outputs": [],
   "source": [
    "plt.title('Loss')\n",
    "plt.plot(history.history['loss'], label='train')\n",
    "plt.plot(history.history['val_loss'], label='test')\n",
    "plt.legend()\n",
    "plt.show()"
   ]
  },
  {
   "cell_type": "code",
   "execution_count": null,
   "metadata": {
    "id": "7gu8urTByrDJ"
   },
   "outputs": [],
   "source": [
    "plt.title('Accuracy')\n",
    "plt.plot(history.history['acc'], label='train')\n",
    "plt.plot(history.history['val_acc'], label='test')\n",
    "plt.legend()\n",
    "plt.show();"
   ]
  }
 ],
 "metadata": {
  "colab": {
   "collapsed_sections": [],
   "machine_shape": "hm",
   "name": "P05_02_notebooktest.ipynb",
   "provenance": []
  },
  "interpreter": {
   "hash": "db691860837755bfd223dbb19bf59c90fd58faf4b85973e04a456a30cef6b76b"
  },
  "kernelspec": {
   "display_name": "Python 3 (ipykernel)",
   "language": "python",
   "name": "python3"
  },
  "language_info": {
   "codemirror_mode": {
    "name": "ipython",
    "version": 3
   },
   "file_extension": ".py",
   "mimetype": "text/x-python",
   "name": "python",
   "nbconvert_exporter": "python",
   "pygments_lexer": "ipython3",
   "version": "3.8.11"
  }
 },
 "nbformat": 4,
 "nbformat_minor": 1
}
